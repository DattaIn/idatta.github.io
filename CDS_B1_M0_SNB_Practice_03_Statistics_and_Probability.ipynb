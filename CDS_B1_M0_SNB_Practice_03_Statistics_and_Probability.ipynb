{
  "nbformat": 4,
  "nbformat_minor": 0,
  "metadata": {
    "colab": {
      "provenance": [],
      "include_colab_link": true
    },
    "kernelspec": {
      "display_name": "Python 3",
      "language": "python",
      "name": "python3"
    },
    "language_info": {
      "codemirror_mode": {
        "name": "ipython",
        "version": 3
      },
      "file_extension": ".py",
      "mimetype": "text/x-python",
      "name": "python",
      "nbconvert_exporter": "python",
      "pygments_lexer": "ipython3",
      "version": "3.5.2"
    }
  },
  "cells": [
    {
      "cell_type": "markdown",
      "metadata": {
        "id": "view-in-github",
        "colab_type": "text"
      },
      "source": [
        "<a href=\"https://colab.research.google.com/github/DattaIn/idatta.github.io/blob/master/CDS_B1_M0_SNB_Practice_03_Statistics_and_Probability.ipynb\" target=\"_parent\"><img src=\"https://colab.research.google.com/assets/colab-badge.svg\" alt=\"Open In Colab\"/></a>"
      ]
    },
    {
      "cell_type": "markdown",
      "metadata": {
        "id": "MwiDNYJJeXbD"
      },
      "source": [
        "# Advanced Certification Program in Computational Data Science\n",
        "## A program by IISc and TalentSprint\n",
        "### Practice Notebook 3: Introduction to Statistics and Probability"
      ]
    },
    {
      "cell_type": "markdown",
      "metadata": {
        "id": "RZlIajs8fRLR"
      },
      "source": [
        "##  Learning Objectives"
      ]
    },
    {
      "cell_type": "markdown",
      "metadata": {
        "id": "abYbtTdhfT7w"
      },
      "source": [
        "At the end of the experiment, you will be able to :\n",
        "\n",
        "- use the basic probability rules, terms, independent and mutually exclusive events\n",
        "- understand the measures of Centre and Spread, Correlation, Normalization, Standardization terms\n",
        "- perform statistics and probability related operations using Python"
      ]
    },
    {
      "cell_type": "markdown",
      "metadata": {
        "id": "Zo6lcYYqyHA_"
      },
      "source": [
        "## Expected time to complete the experiment : 30 mins"
      ]
    },
    {
      "cell_type": "markdown",
      "metadata": {
        "id": "vgfm52RHycRL"
      },
      "source": [
        "#### Exercise 1: Import the numpy package under the name np"
      ]
    },
    {
      "cell_type": "code",
      "metadata": {
        "id": "ahPzhfvreCPi"
      },
      "source": [
        "import numpy as np"
      ],
      "execution_count": 1,
      "outputs": []
    },
    {
      "cell_type": "markdown",
      "metadata": {
        "id": "3LTru3Nuy_6x"
      },
      "source": [
        "#### Exercise 2: Import the scipy package under the name sp"
      ]
    },
    {
      "cell_type": "code",
      "metadata": {
        "id": "pA9KLlfAy_YY"
      },
      "source": [
        "import scipy as sp"
      ],
      "execution_count": 2,
      "outputs": []
    },
    {
      "cell_type": "markdown",
      "metadata": {
        "id": "kkoSq82BYCiU"
      },
      "source": [
        "#### Exercise 3: Five people play golf and at one hole their scores are\n",
        "\n",
        "                      3, 4, 4, 5, 7.\n",
        "\n",
        "For these scores, find Mean, Median, Mode"
      ]
    },
    {
      "cell_type": "code",
      "metadata": {
        "id": "RwLCfj2eYCiV"
      },
      "source": [
        "l = [3, 4, 4, 5, 7]"
      ],
      "execution_count": 3,
      "outputs": []
    },
    {
      "cell_type": "code",
      "metadata": {
        "id": "7mVuJEeXYCiW",
        "outputId": "266916bf-9630-4eb1-8367-ad69d35f0fc0",
        "colab": {
          "base_uri": "https://localhost:8080/"
        }
      },
      "source": [
        "np.mean(l)"
      ],
      "execution_count": 4,
      "outputs": [
        {
          "output_type": "execute_result",
          "data": {
            "text/plain": [
              "4.6"
            ]
          },
          "metadata": {},
          "execution_count": 4
        }
      ]
    },
    {
      "cell_type": "code",
      "metadata": {
        "id": "d-1YnUlrYCiX",
        "outputId": "dfdfec8a-fcc9-4b42-a7a2-27e6715bb4db",
        "colab": {
          "base_uri": "https://localhost:8080/"
        }
      },
      "source": [
        "np.median(l)"
      ],
      "execution_count": 5,
      "outputs": [
        {
          "output_type": "execute_result",
          "data": {
            "text/plain": [
              "4.0"
            ]
          },
          "metadata": {},
          "execution_count": 5
        }
      ]
    },
    {
      "cell_type": "code",
      "metadata": {
        "id": "mMr-aXHbYCiY",
        "outputId": "973461d2-b68b-456f-cc43-43cec2e7bd29",
        "colab": {
          "base_uri": "https://localhost:8080/"
        }
      },
      "source": [
        "from scipy import stats\n",
        "stats.mode(l)"
      ],
      "execution_count": 6,
      "outputs": [
        {
          "output_type": "execute_result",
          "data": {
            "text/plain": [
              "ModeResult(mode=4, count=2)"
            ]
          },
          "metadata": {},
          "execution_count": 6
        }
      ]
    },
    {
      "cell_type": "markdown",
      "metadata": {
        "id": "6bnJnVNHYCiZ"
      },
      "source": [
        "#### Exercise 4: You grow 20 crystals from a solution and measure the length of each crystal in millimeters. Here is your data:\n",
        "\n",
        "9, 2, 5, 4, 12, 7, 8, 11, 9, 3, 7, 4, 12, 5, 4, 10, 9, 6, 9, 4\n",
        "\n",
        "Calculate the standard deviation of the length of the crystals."
      ]
    },
    {
      "cell_type": "code",
      "metadata": {
        "id": "xy_Fx6YQYCia",
        "outputId": "bf65a9aa-4352-4609-a7df-4d70e13ca325",
        "colab": {
          "base_uri": "https://localhost:8080/"
        }
      },
      "source": [
        "k = [9, 2, 5, 4, 12, 7, 8, 11, 9, 3, 7, 4, 12, 5, 4, 10, 9, 6, 9, 4]\n",
        "np.std(k)"
      ],
      "execution_count": 7,
      "outputs": [
        {
          "output_type": "execute_result",
          "data": {
            "text/plain": [
              "2.9832867780352594"
            ]
          },
          "metadata": {},
          "execution_count": 7
        }
      ]
    },
    {
      "cell_type": "markdown",
      "metadata": {
        "id": "pGCSuk9XI6ia"
      },
      "source": [
        "#### Exercise 5:\n",
        "\n",
        "Given below DataFrame\n",
        "\n",
        "          data = pd.DataFrame({'salaries': [33219, 36254, 38801, 46335, 46840,\n",
        "                                            47596, 55130, 56863, 78070, 88830]})\n",
        "\n",
        "Calculate the variance of salaries"
      ]
    },
    {
      "cell_type": "code",
      "metadata": {
        "id": "TYS7e2hWYCic"
      },
      "source": [
        "import pandas as pd\n",
        "data = pd.DataFrame({'salaries': [33219, 36254, 38801, 46335, 46840, 47596, 55130, 56863, 78070, 88830]})"
      ],
      "execution_count": 8,
      "outputs": []
    },
    {
      "cell_type": "code",
      "metadata": {
        "id": "ZcqUkV-uYCid",
        "outputId": "cf6ced6b-810c-4502-b601-b2dff293f18c",
        "colab": {
          "base_uri": "https://localhost:8080/"
        }
      },
      "source": [
        "data.salaries.mean()"
      ],
      "execution_count": 9,
      "outputs": [
        {
          "output_type": "execute_result",
          "data": {
            "text/plain": [
              "52793.8"
            ]
          },
          "metadata": {},
          "execution_count": 9
        }
      ]
    },
    {
      "cell_type": "code",
      "metadata": {
        "id": "cY-XZbneYCid",
        "outputId": "e56d3a16-4b53-4923-c9ee-ba2bd5e5b096",
        "colab": {
          "base_uri": "https://localhost:8080/"
        }
      },
      "source": [
        "np.mean(data.salaries.values)"
      ],
      "execution_count": 10,
      "outputs": [
        {
          "output_type": "execute_result",
          "data": {
            "text/plain": [
              "52793.8"
            ]
          },
          "metadata": {},
          "execution_count": 10
        }
      ]
    },
    {
      "cell_type": "code",
      "metadata": {
        "id": "cTFDORsoYCie",
        "outputId": "1eff93a9-43a2-4af6-fbf7-87f73563cb22",
        "colab": {
          "base_uri": "https://localhost:8080/"
        }
      },
      "source": [
        "data.salaries.var()"
      ],
      "execution_count": 11,
      "outputs": [
        {
          "output_type": "execute_result",
          "data": {
            "text/plain": [
              "324025267.06666666"
            ]
          },
          "metadata": {},
          "execution_count": 11
        }
      ]
    },
    {
      "cell_type": "code",
      "metadata": {
        "id": "zcj0i7VPYCif",
        "outputId": "94c8e2b7-28fe-4a41-d06a-db325e1e0e3e",
        "colab": {
          "base_uri": "https://localhost:8080/"
        }
      },
      "source": [
        "np.var(data.salaries.values)"
      ],
      "execution_count": 12,
      "outputs": [
        {
          "output_type": "execute_result",
          "data": {
            "text/plain": [
              "291622740.36"
            ]
          },
          "metadata": {},
          "execution_count": 12
        }
      ]
    },
    {
      "cell_type": "markdown",
      "metadata": {
        "id": "Gge4jnCjYCig"
      },
      "source": [
        "#### Exercise 6: Five people play golf and at one hole their scores are\n",
        "\n",
        "                      3, 4, 4, 5, 7.\n",
        "\n",
        "For these scores, find Harmonic and Geometric mean\n",
        "\n",
        "**Hint:** To know more about Harmonic and Geometric mean click\n",
        "  [here](https://medium.com/@sharmi.v.murali/arithmetic-mean-vs-geometric-mean-vs-harmonic-mean-b956cf1b2b3f)"
      ]
    },
    {
      "cell_type": "code",
      "metadata": {
        "id": "mHPBWbqXYCih",
        "outputId": "13fb5dfe-5e8e-499f-8687-95763b2ca758",
        "colab": {
          "base_uri": "https://localhost:8080/"
        }
      },
      "source": [
        "l = [3, 4, 4, 5, 7]\n",
        "from scipy.stats import gmean, hmean\n",
        "gmean(l)\n",
        "hmean(l)"
      ],
      "execution_count": 13,
      "outputs": [
        {
          "output_type": "execute_result",
          "data": {
            "text/plain": [
              "4.251012145748989"
            ]
          },
          "metadata": {},
          "execution_count": 13
        }
      ]
    },
    {
      "cell_type": "markdown",
      "metadata": {
        "id": "jhvpk-mnI6ih"
      },
      "source": [
        "#### Exercise 7: Given a DataFrame\n",
        "\n",
        "      df = pd.DataFrame({\n",
        "                  'Name': ['Dan', 'Joann', 'Pedro', 'Rosie', 'Ethan', 'Vicky', 'Frederic'],\n",
        "                   'Salary':[50000,54000,50000,189000,55000,40000,59000],\n",
        "                   'Hours':[41,40,36,17,35,39,40],\n",
        "                   'Experience(In Years)':[2, 2, 3, 7, 5 2, 4]})\n",
        "\n",
        "Calculate the correlation between *Salary* and *Experience(In Years)*"
      ]
    },
    {
      "cell_type": "code",
      "metadata": {
        "id": "dx1zLbW3YCij",
        "outputId": "814c4b53-6567-4377-d9ee-6b5726e589b6",
        "colab": {
          "base_uri": "https://localhost:8080/"
        }
      },
      "source": [
        "df = pd.DataFrame({'Name': ['Dan', 'Joann', 'Pedro', 'Rosie', 'Ethan', 'Vicky', 'Frederic'],\n",
        "                   'Salary':[50000,54000,50000,189000,55000,40000,59000],\n",
        "                   'Hours':[41,40,36,17,35,39,40],\n",
        "                   'Experience(In Years)':[2, 2, 3, 7, 5, 2, 4]})\n",
        "\n",
        "# Calculate the correlation between *Salary* and *Experience(In Years)*\n",
        "print(df['Experience(In Years)'].corr(df['Salary']))"
      ],
      "execution_count": 14,
      "outputs": [
        {
          "output_type": "stream",
          "name": "stdout",
          "text": [
            "0.8314219298762264\n"
          ]
        }
      ]
    },
    {
      "cell_type": "markdown",
      "metadata": {
        "id": "eBogXJNfI6ii"
      },
      "source": [
        "#### Exercise 8: Given a DataFrame\n",
        "\n",
        "      df = pd.DataFrame({\n",
        "                  'Name': ['Dan', 'Joann', 'Pedro', 'Rosie', 'Ethan', 'Vicky', 'Frederic'],                  \n",
        "                   'Salary':[50000,54000,50000,189000,55000,40000,59000],                 \n",
        "                   'Hours':[41,40,36,17,35,39,40],             \n",
        "                   'Experience(In Years)':[2, 2, 3, 7, 5 2, 4]})\n",
        "\n",
        "Calculate the correlation between *Experience(In Years)* and *Hours*."
      ]
    },
    {
      "cell_type": "code",
      "metadata": {
        "id": "--Z7TCl_YCil",
        "outputId": "591a65e2-7a5d-4515-89e0-c264e4a923f5",
        "colab": {
          "base_uri": "https://localhost:8080/"
        }
      },
      "source": [
        "r = df['Experience(In Years)'].corr(df['Hours'])\n",
        "print('Correlation: ' + str(r))"
      ],
      "execution_count": 15,
      "outputs": [
        {
          "output_type": "stream",
          "name": "stdout",
          "text": [
            "Correlation: -0.8706982869444648\n"
          ]
        }
      ]
    },
    {
      "cell_type": "markdown",
      "metadata": {
        "id": "gCJcUhIJI6ij"
      },
      "source": [
        "#### Exercise 9: Given a DataFrame\n",
        "\n",
        "      df = pd.DataFrame({\n",
        "                  'Name': ['Dan', 'Joann', 'Pedro', 'Rosie', 'Ethan', 'Vicky', 'Frederic'],\n",
        "                   'Salary':[50000,54000,50000,189000,55000,40000,59000],\n",
        "                   'Hours':[41,40,36,17,35,39,40],          \n",
        "                   'Experience(In Years)':[2, 2, 3, 7, 5 2, 4]})\n",
        "\n",
        "Calculate the percentile score for Experience(In Years)\n"
      ]
    },
    {
      "cell_type": "code",
      "metadata": {
        "id": "PaNSotSdYCin",
        "outputId": "ff67db8a-782c-465f-98ad-69e646dec206",
        "colab": {
          "base_uri": "https://localhost:8080/"
        }
      },
      "source": [
        "print(stats.percentileofscore(df['Experience(In Years)'], 57, 'strict'))"
      ],
      "execution_count": 16,
      "outputs": [
        {
          "output_type": "stream",
          "name": "stdout",
          "text": [
            "100.0\n"
          ]
        }
      ]
    },
    {
      "cell_type": "markdown",
      "metadata": {
        "id": "bd7LC86LI6im"
      },
      "source": [
        "#### Exercise 10: Given a DataFrame\n",
        "\n",
        "      df = pd.DataFrame({\n",
        "                  'Name': ['Dan', 'Joann', 'Pedro', 'Rosie', 'Ethan', 'Vicky', 'Frederic'],\n",
        "                   'Salary':[50000,54000,50000,189000,55000,40000,59000],\n",
        "                   'Hours':[41,40,36,17,35,39,40],          \n",
        "                   'Experience(In Years)':[2, 2, 3, 7, 5 2, 4]})\n",
        "\n",
        "\n",
        "Find the quartile thresholds for the weekly hours worked by the employees"
      ]
    },
    {
      "cell_type": "code",
      "metadata": {
        "id": "Za52hBW0YCip",
        "outputId": "e7f74a8f-b498-4ddd-a33b-418e75a858c1",
        "colab": {
          "base_uri": "https://localhost:8080/"
        }
      },
      "source": [
        "print(df['Hours'].quantile([0.25, 0.5, 0.75]))"
      ],
      "execution_count": 17,
      "outputs": [
        {
          "output_type": "stream",
          "name": "stdout",
          "text": [
            "0.25    35.5\n",
            "0.50    39.0\n",
            "0.75    40.0\n",
            "Name: Hours, dtype: float64\n"
          ]
        }
      ]
    },
    {
      "cell_type": "markdown",
      "metadata": {
        "id": "JkGArejvYCiq"
      },
      "source": [
        "#### Exercise 11: Given a DataFrame\n",
        "\n",
        "a = np.random.normal(40, 10, 10000)\n",
        "\n",
        "norm = pd.DataFrame({'nums':a})\n",
        "\n",
        "Describe distribution of the data using skewness and kurtosis metrics."
      ]
    },
    {
      "cell_type": "code",
      "metadata": {
        "id": "ZUOXeJjvYCir",
        "outputId": "33593a22-2671-4f95-8c47-b140c34eb936",
        "colab": {
          "base_uri": "https://localhost:8080/"
        }
      },
      "source": [
        "a = np.random.normal(40, 10, 10000)\n",
        "norm = pd.DataFrame({'nums':a})\n",
        "norm.skew()\n",
        "norm.kurt()"
      ],
      "execution_count": 18,
      "outputs": [
        {
          "output_type": "execute_result",
          "data": {
            "text/plain": [
              "nums    0.005204\n",
              "dtype: float64"
            ]
          },
          "metadata": {},
          "execution_count": 18
        }
      ]
    },
    {
      "cell_type": "markdown",
      "metadata": {
        "id": "miOc1r-SYCir"
      },
      "source": [
        "#### Exercise 12: Given an array 'Y', Find the skewness of the data"
      ]
    },
    {
      "cell_type": "code",
      "metadata": {
        "id": "_ko5SyXOYCis",
        "outputId": "488e11cc-037b-4b08-b107-4e4359796dad",
        "colab": {
          "base_uri": "https://localhost:8080/"
        }
      },
      "source": [
        "from scipy.stats import skew\n",
        "\n",
        "X = np.linspace( -5, 5, 1000 )\n",
        "\n",
        "Y = 1./(np.sqrt(2.* np.pi)) * np.exp( -.5*(X)**2)\n",
        "\n",
        "skew(Y)"
      ],
      "execution_count": 19,
      "outputs": [
        {
          "output_type": "execute_result",
          "data": {
            "text/plain": [
              "1.1108237139164436"
            ]
          },
          "metadata": {},
          "execution_count": 19
        }
      ]
    }
  ]
}