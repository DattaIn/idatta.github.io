{
 "cells": [
  {
   "cell_type": "code",
   "execution_count": 1,
   "id": "6c6c4867",
   "metadata": {
    "_cell_guid": "b1076dfc-b9ad-4769-8c92-a6c4dae69d19",
    "_uuid": "8f2839f25d086af736a60e9eeb907d3b93b6e0e5",
    "execution": {
     "iopub.execute_input": "2024-03-16T19:48:36.699985Z",
     "iopub.status.busy": "2024-03-16T19:48:36.699560Z",
     "iopub.status.idle": "2024-03-16T19:48:37.730647Z",
     "shell.execute_reply": "2024-03-16T19:48:37.729280Z"
    },
    "papermill": {
     "duration": 1.045867,
     "end_time": "2024-03-16T19:48:37.733572",
     "exception": false,
     "start_time": "2024-03-16T19:48:36.687705",
     "status": "completed"
    },
    "tags": []
   },
   "outputs": [
    {
     "name": "stdout",
     "output_type": "stream",
     "text": [
      "/kaggle/input/earthquakes-alerts-tweets-dataset-daily-updated/QuakesToday.csv\n"
     ]
    }
   ],
   "source": [
    "# This Python 3 environment comes with many helpful analytics libraries installed\n",
    "# It is defined by the kaggle/python Docker image: https://github.com/kaggle/docker-python\n",
    "# For example, here's several helpful packages to load\n",
    "\n",
    "import numpy as np # linear algebra\n",
    "import pandas as pd # data processing, CSV file I/O (e.g. pd.read_csv)\n",
    "\n",
    "# Input data files are available in the read-only \"../input/\" directory\n",
    "# For example, running this (by clicking run or pressing Shift+Enter) will list all files under the input directory\n",
    "\n",
    "import os\n",
    "for dirname, _, filenames in os.walk('/kaggle/input'):\n",
    "    for filename in filenames:\n",
    "        print(os.path.join(dirname, filename))\n",
    "\n",
    "# You can write up to 20GB to the current directory (/kaggle/working/) that gets preserved as output when you create a version using \"Save & Run All\" \n",
    "# You can also write temporary files to /kaggle/temp/, but they won't be saved outside of the current session"
   ]
  },
  {
   "cell_type": "code",
   "execution_count": 2,
   "id": "74972ca2",
   "metadata": {
    "execution": {
     "iopub.execute_input": "2024-03-16T19:48:37.754556Z",
     "iopub.status.busy": "2024-03-16T19:48:37.753583Z",
     "iopub.status.idle": "2024-03-16T19:48:45.800795Z",
     "shell.execute_reply": "2024-03-16T19:48:45.799462Z"
    },
    "papermill": {
     "duration": 8.060584,
     "end_time": "2024-03-16T19:48:45.803569",
     "exception": false,
     "start_time": "2024-03-16T19:48:37.742985",
     "status": "completed"
    },
    "tags": []
   },
   "outputs": [],
   "source": [
    "import numpy as np                                                        # basic library to work with arrays\n",
    "import pandas as pd                                                       # to read files\n",
    "import seaborn as sns                                                     # library for statistical data visualization\n",
    "import matplotlib.pyplot as plt                                           # basic library for plotting graphs and visualization\n",
    "from matplotlib.colors import ListedColormap                              # for filling colors in mapping\n",
    "from sklearn.metrics import confusion_matrix, accuracy_score              # importing confusion matrix, accuracy score\n",
    "from sklearn.svm import SVC, SVR, LinearSVC                               # importing Support vector classifier, Support Vector Regressor, LinearSVC  \n",
    "from sklearn.preprocessing import StandardScaler, LabelEncoder            # preprocessing\n",
    "from sklearn.model_selection import train_test_split                      # for splitting the dataset\n",
    "from mlxtend.plotting import plot_decision_regions                        # to plot the decision boundaries and hyperplane\n",
    "from sklearn.pipeline import make_pipeline                                # to import pipeline\n",
    "from sklearn.linear_model import SGDClassifier                            # to import SGD Classifier\n",
    "\n",
    "import spacy"
   ]
  },
  {
   "cell_type": "code",
   "execution_count": 3,
   "id": "a1fce176",
   "metadata": {
    "execution": {
     "iopub.execute_input": "2024-03-16T19:48:45.824191Z",
     "iopub.status.busy": "2024-03-16T19:48:45.823523Z",
     "iopub.status.idle": "2024-03-16T19:48:45.934712Z",
     "shell.execute_reply": "2024-03-16T19:48:45.933381Z"
    },
    "papermill": {
     "duration": 0.124302,
     "end_time": "2024-03-16T19:48:45.937339",
     "exception": false,
     "start_time": "2024-03-16T19:48:45.813037",
     "status": "completed"
    },
    "tags": []
   },
   "outputs": [
    {
     "data": {
      "text/html": [
       "<div>\n",
       "<style scoped>\n",
       "    .dataframe tbody tr th:only-of-type {\n",
       "        vertical-align: middle;\n",
       "    }\n",
       "\n",
       "    .dataframe tbody tr th {\n",
       "        vertical-align: top;\n",
       "    }\n",
       "\n",
       "    .dataframe thead th {\n",
       "        text-align: right;\n",
       "    }\n",
       "</style>\n",
       "<table border=\"1\" class=\"dataframe\">\n",
       "  <thead>\n",
       "    <tr style=\"text-align: right;\">\n",
       "      <th></th>\n",
       "      <th>Datetime</th>\n",
       "      <th>Tweet Id</th>\n",
       "      <th>Text</th>\n",
       "      <th>Username</th>\n",
       "    </tr>\n",
       "  </thead>\n",
       "  <tbody>\n",
       "    <tr>\n",
       "      <th>0</th>\n",
       "      <td>2023-06-29 20:27:03+00:00</td>\n",
       "      <td>1674514840549994498</td>\n",
       "      <td>2.0 magnitude #earthquake. 7 km from Enterpris...</td>\n",
       "      <td>QuakesToday</td>\n",
       "    </tr>\n",
       "    <tr>\n",
       "      <th>1</th>\n",
       "      <td>2023-06-29 20:04:03+00:00</td>\n",
       "      <td>1674509052423081985</td>\n",
       "      <td>2.0 magnitude #earthquake. 3 km ESE of Egegik,...</td>\n",
       "      <td>QuakesToday</td>\n",
       "    </tr>\n",
       "    <tr>\n",
       "      <th>2</th>\n",
       "      <td>2023-06-29 20:01:04+00:00</td>\n",
       "      <td>1674508302087254017</td>\n",
       "      <td>2.2 magnitude #earthquake. 39 km from #Mentone...</td>\n",
       "      <td>QuakesToday</td>\n",
       "    </tr>\n",
       "    <tr>\n",
       "      <th>3</th>\n",
       "      <td>2023-06-29 20:01:04+00:00</td>\n",
       "      <td>1674508300061384704</td>\n",
       "      <td>1.9 magnitude #earthquake. 20 km from Healy, #...</td>\n",
       "      <td>QuakesToday</td>\n",
       "    </tr>\n",
       "    <tr>\n",
       "      <th>4</th>\n",
       "      <td>2023-06-29 19:56:04+00:00</td>\n",
       "      <td>1674507042315472899</td>\n",
       "      <td>2.4 magnitude #earthquake. 39 km from Mentone,...</td>\n",
       "      <td>QuakesToday</td>\n",
       "    </tr>\n",
       "  </tbody>\n",
       "</table>\n",
       "</div>"
      ],
      "text/plain": [
       "                    Datetime             Tweet Id  \\\n",
       "0  2023-06-29 20:27:03+00:00  1674514840549994498   \n",
       "1  2023-06-29 20:04:03+00:00  1674509052423081985   \n",
       "2  2023-06-29 20:01:04+00:00  1674508302087254017   \n",
       "3  2023-06-29 20:01:04+00:00  1674508300061384704   \n",
       "4  2023-06-29 19:56:04+00:00  1674507042315472899   \n",
       "\n",
       "                                                Text     Username  \n",
       "0  2.0 magnitude #earthquake. 7 km from Enterpris...  QuakesToday  \n",
       "1  2.0 magnitude #earthquake. 3 km ESE of Egegik,...  QuakesToday  \n",
       "2  2.2 magnitude #earthquake. 39 km from #Mentone...  QuakesToday  \n",
       "3  1.9 magnitude #earthquake. 20 km from Healy, #...  QuakesToday  \n",
       "4  2.4 magnitude #earthquake. 39 km from Mentone,...  QuakesToday  "
      ]
     },
     "execution_count": 3,
     "metadata": {},
     "output_type": "execute_result"
    }
   ],
   "source": [
    "dataset= pd.read_csv('/kaggle/input/earthquakes-alerts-tweets-dataset-daily-updated/QuakesToday.csv')\n",
    "dataset.head()"
   ]
  },
  {
   "cell_type": "code",
   "execution_count": 4,
   "id": "3dfd1f47",
   "metadata": {
    "execution": {
     "iopub.execute_input": "2024-03-16T19:48:45.958170Z",
     "iopub.status.busy": "2024-03-16T19:48:45.957766Z",
     "iopub.status.idle": "2024-03-16T19:48:45.964252Z",
     "shell.execute_reply": "2024-03-16T19:48:45.963249Z"
    },
    "papermill": {
     "duration": 0.020098,
     "end_time": "2024-03-16T19:48:45.967063",
     "exception": false,
     "start_time": "2024-03-16T19:48:45.946965",
     "status": "completed"
    },
    "tags": []
   },
   "outputs": [
    {
     "data": {
      "text/plain": [
       "(15496, 4)"
      ]
     },
     "execution_count": 4,
     "metadata": {},
     "output_type": "execute_result"
    }
   ],
   "source": [
    "dataset.shape"
   ]
  },
  {
   "cell_type": "code",
   "execution_count": 5,
   "id": "7688614b",
   "metadata": {
    "execution": {
     "iopub.execute_input": "2024-03-16T19:48:45.988720Z",
     "iopub.status.busy": "2024-03-16T19:48:45.988300Z",
     "iopub.status.idle": "2024-03-16T19:48:45.996872Z",
     "shell.execute_reply": "2024-03-16T19:48:45.995844Z"
    },
    "papermill": {
     "duration": 0.021967,
     "end_time": "2024-03-16T19:48:45.999075",
     "exception": false,
     "start_time": "2024-03-16T19:48:45.977108",
     "status": "completed"
    },
    "tags": []
   },
   "outputs": [
    {
     "data": {
      "text/plain": [
       "'2.2 magnitude #earthquake. 39 km from #Mentone, TX, United States https://t.co/HNhLt5S2MB'"
      ]
     },
     "execution_count": 5,
     "metadata": {},
     "output_type": "execute_result"
    }
   ],
   "source": [
    "dataset.Text[2]"
   ]
  },
  {
   "cell_type": "code",
   "execution_count": 6,
   "id": "ae51926b",
   "metadata": {
    "execution": {
     "iopub.execute_input": "2024-03-16T19:48:46.020449Z",
     "iopub.status.busy": "2024-03-16T19:48:46.020055Z",
     "iopub.status.idle": "2024-03-16T19:48:46.118751Z",
     "shell.execute_reply": "2024-03-16T19:48:46.116843Z"
    },
    "papermill": {
     "duration": 0.112405,
     "end_time": "2024-03-16T19:48:46.121192",
     "exception": false,
     "start_time": "2024-03-16T19:48:46.008787",
     "status": "completed"
    },
    "tags": []
   },
   "outputs": [
    {
     "name": "stdout",
     "output_type": "stream",
     "text": [
      "                        Datetime  Magnitude  Distance_from_source_km  \\\n",
      "0      2023-06-29 20:27:03+00:00        2.0                      7.0   \n",
      "1      2023-06-29 20:04:03+00:00        2.0                      3.0   \n",
      "2      2023-06-29 20:01:04+00:00        2.2                     39.0   \n",
      "3      2023-06-29 20:01:04+00:00        1.9                     20.0   \n",
      "4      2023-06-29 19:56:04+00:00        2.4                     39.0   \n",
      "...                          ...        ...                      ...   \n",
      "15491  2023-02-16 22:08:02+00:00        1.7                     52.0   \n",
      "15492  2023-02-16 22:06:03+00:00        3.0                     41.0   \n",
      "15493  2023-02-16 21:53:03+00:00        NaN                      NaN   \n",
      "15494  2023-02-16 21:39:03+00:00        2.1                      3.0   \n",
      "15495  2023-02-16 21:17:03+00:00        1.9                      4.0   \n",
      "\n",
      "             Source   State       Country  \n",
      "0        Enterprise      NV  UnitedStates  \n",
      "1               ESE  Egegik        Alaska  \n",
      "2           Mentone      TX        United  \n",
      "3             Healy      AK        United  \n",
      "4           Mentone      TX        United  \n",
      "...             ...     ...           ...  \n",
      "15491         Homer      AK        United  \n",
      "15492        Willow      AK        United  \n",
      "15493          None    None          None  \n",
      "15494     Holtville      CA        United  \n",
      "15495  MammothLakes      CA        United  \n",
      "\n",
      "[15496 rows x 6 columns]\n",
      "(15496, 6)\n"
     ]
    }
   ],
   "source": [
    "#create a new dataframe from the Texts. and associate DateTime column with the magnitude, earthquake, distance from a source, source name, state, country\n",
    "import re\n",
    "\n",
    "# Load the English language model for spaCy\n",
    "#nlp = spacy.load('en_core_web_sm')\n",
    "\n",
    "# Function to extract magnitude, distance, state, and country from text\n",
    "def extract_info(text):\n",
    "    \n",
    "    # Finding parameters mentioned in the text\n",
    "    #magnitude = None\n",
    "    #distance = None\n",
    "    #state = None\n",
    "    #country = None\n",
    "    \n",
    "    # Define regular expressions for extracting magnitude, distance, source, state, and country\n",
    "    #magnitude_pattern = r'(\\d+\\.\\d+)\\s+magnitude'\n",
    "    #distance_pattern = r'(\\d+)\\s+km\\s+from'\n",
    "    #source_pattern = r'km\\s+from\\s+(\\w+),\\s+(\\w+),'\n",
    "    #state_country_pattern = r',\\s+(\\w+),\\s+#(\\w+)'\n",
    "\n",
    "    # Extracting magnitude, distance, source, state, and country using regular expressions\n",
    "    #magnitude_match = re.search(magnitude_pattern, text)\n",
    "    #distance_match = re.search(distance_pattern, text)\n",
    "    #source_match = re.search(source_pattern, text)\n",
    "    #state_country_match = re.search(state_country_pattern, text)\n",
    "    \n",
    "    # Extracting values from matches\n",
    "    #magnitude = float(magnitude_match.group(1)) if magnitude_match else None\n",
    "    #distance = int(distance_match.group(1)) if distance_match else None\n",
    "    #source = source_match.group(1) if source_match else None\n",
    "    #state = state_country_match.group(1) if state_country_match else None\n",
    "    #country = state_country_match.group(2) if state_country_match else None\n",
    "    \n",
    "    #-------------------------------------------------------------------------\n",
    "    words = text.split()\n",
    "    #print(len(words))\n",
    "    magnitude = None\n",
    "    distance = None\n",
    "    source = None\n",
    "    state = None\n",
    "    country = None\n",
    "\n",
    "    #'2.0 magnitude #earthquake. 7 km from Enterprise, NV, #UnitedStates https://t.co/P302bmZuGM'\n",
    "    #'2.0 magnitude #earthquake. 3 km ESE of Egegik, Alaska https://t.co/sPv4wM2UZY'\n",
    "    #'2.2 magnitude #earthquake. 39 km from #Mentone, TX, United States https://t.co/HNhLt5S2MB'\n",
    "    \n",
    "    try:\n",
    "        magnitude = float(words[0])\n",
    "        distance = float(words[3])\n",
    "        source = words[5].lstrip('#').rstrip(',') if words[5] != 'from' else words[6].lstrip('#').rstrip(',')\n",
    "        state = words[7].lstrip('#').rstrip(',')\n",
    "        country = words[8].lstrip('#')\n",
    "    except:\n",
    "        return None, None, None, None, None\n",
    "        \n",
    "    # Print the extracted values\n",
    "    #print(f'Magnitude: {magnitude}')\n",
    "    #print(f'Distance: {distance}')\n",
    "    #print(f'Source: {source}')\n",
    "    #print(f'State: {state}')\n",
    "    #print(f'Country: {country}')\n",
    "        \n",
    "        \n",
    "    return magnitude, distance, source, state, country\n",
    "\n",
    "\n",
    "#extract_info(dataset['Text'][2])\n",
    "\n",
    "# Create dataframe\n",
    "# Apply extraction function to each row in the dataframe\n",
    "dataset['Magnitude'], dataset['Distance_from_source_km'], dataset['Source'], dataset['State'], dataset['Country'] = \\\n",
    "    zip(*dataset['Text'].apply(extract_info))\n",
    "\n",
    "# Create new dataframe with extracted information\n",
    "df_texts = dataset[['Datetime', 'Magnitude', 'Distance_from_source_km', 'Source', 'State', 'Country']]\n",
    "\n",
    "print(df_texts)\n",
    "print(df_texts.shape)"
   ]
  },
  {
   "cell_type": "code",
   "execution_count": 7,
   "id": "07f3033d",
   "metadata": {
    "execution": {
     "iopub.execute_input": "2024-03-16T19:48:46.143122Z",
     "iopub.status.busy": "2024-03-16T19:48:46.142607Z",
     "iopub.status.idle": "2024-03-16T19:48:46.163287Z",
     "shell.execute_reply": "2024-03-16T19:48:46.162129Z"
    },
    "papermill": {
     "duration": 0.034683,
     "end_time": "2024-03-16T19:48:46.165815",
     "exception": false,
     "start_time": "2024-03-16T19:48:46.131132",
     "status": "completed"
    },
    "tags": []
   },
   "outputs": [
    {
     "name": "stdout",
     "output_type": "stream",
     "text": [
      "(14423, 6)\n"
     ]
    }
   ],
   "source": [
    "df_texts = df_texts.dropna()\n",
    "print(df_texts.shape)"
   ]
  },
  {
   "cell_type": "code",
   "execution_count": 8,
   "id": "1873f75b",
   "metadata": {
    "execution": {
     "iopub.execute_input": "2024-03-16T19:48:46.188451Z",
     "iopub.status.busy": "2024-03-16T19:48:46.188043Z",
     "iopub.status.idle": "2024-03-16T19:48:46.206129Z",
     "shell.execute_reply": "2024-03-16T19:48:46.204985Z"
    },
    "papermill": {
     "duration": 0.033136,
     "end_time": "2024-03-16T19:48:46.208896",
     "exception": false,
     "start_time": "2024-03-16T19:48:46.175760",
     "status": "completed"
    },
    "tags": []
   },
   "outputs": [
    {
     "data": {
      "text/html": [
       "<div>\n",
       "<style scoped>\n",
       "    .dataframe tbody tr th:only-of-type {\n",
       "        vertical-align: middle;\n",
       "    }\n",
       "\n",
       "    .dataframe tbody tr th {\n",
       "        vertical-align: top;\n",
       "    }\n",
       "\n",
       "    .dataframe thead th {\n",
       "        text-align: right;\n",
       "    }\n",
       "</style>\n",
       "<table border=\"1\" class=\"dataframe\">\n",
       "  <thead>\n",
       "    <tr style=\"text-align: right;\">\n",
       "      <th></th>\n",
       "      <th>Datetime</th>\n",
       "      <th>Magnitude</th>\n",
       "      <th>Distance_from_source_km</th>\n",
       "      <th>Source</th>\n",
       "      <th>State</th>\n",
       "      <th>Country</th>\n",
       "    </tr>\n",
       "  </thead>\n",
       "  <tbody>\n",
       "    <tr>\n",
       "      <th>0</th>\n",
       "      <td>2023-06-29 20:27:03+00:00</td>\n",
       "      <td>2.0</td>\n",
       "      <td>7.0</td>\n",
       "      <td>Enterprise</td>\n",
       "      <td>NV</td>\n",
       "      <td>UnitedStates</td>\n",
       "    </tr>\n",
       "    <tr>\n",
       "      <th>1</th>\n",
       "      <td>2023-06-29 20:04:03+00:00</td>\n",
       "      <td>2.0</td>\n",
       "      <td>3.0</td>\n",
       "      <td>ESE</td>\n",
       "      <td>Egegik</td>\n",
       "      <td>Alaska</td>\n",
       "    </tr>\n",
       "    <tr>\n",
       "      <th>2</th>\n",
       "      <td>2023-06-29 20:01:04+00:00</td>\n",
       "      <td>2.2</td>\n",
       "      <td>39.0</td>\n",
       "      <td>Mentone</td>\n",
       "      <td>TX</td>\n",
       "      <td>United</td>\n",
       "    </tr>\n",
       "    <tr>\n",
       "      <th>3</th>\n",
       "      <td>2023-06-29 20:01:04+00:00</td>\n",
       "      <td>1.9</td>\n",
       "      <td>20.0</td>\n",
       "      <td>Healy</td>\n",
       "      <td>AK</td>\n",
       "      <td>United</td>\n",
       "    </tr>\n",
       "    <tr>\n",
       "      <th>4</th>\n",
       "      <td>2023-06-29 19:56:04+00:00</td>\n",
       "      <td>2.4</td>\n",
       "      <td>39.0</td>\n",
       "      <td>Mentone</td>\n",
       "      <td>TX</td>\n",
       "      <td>United</td>\n",
       "    </tr>\n",
       "    <tr>\n",
       "      <th>...</th>\n",
       "      <td>...</td>\n",
       "      <td>...</td>\n",
       "      <td>...</td>\n",
       "      <td>...</td>\n",
       "      <td>...</td>\n",
       "      <td>...</td>\n",
       "    </tr>\n",
       "    <tr>\n",
       "      <th>101</th>\n",
       "      <td>2023-06-29 02:42:03+00:00</td>\n",
       "      <td>1.6</td>\n",
       "      <td>36.0</td>\n",
       "      <td>ENE</td>\n",
       "      <td>Pedro</td>\n",
       "      <td>Bay,</td>\n",
       "    </tr>\n",
       "    <tr>\n",
       "      <th>102</th>\n",
       "      <td>2023-06-29 02:16:03+00:00</td>\n",
       "      <td>1.8</td>\n",
       "      <td>4.0</td>\n",
       "      <td>Westmorland</td>\n",
       "      <td>CA</td>\n",
       "      <td>UnitedStates</td>\n",
       "    </tr>\n",
       "    <tr>\n",
       "      <th>103</th>\n",
       "      <td>2023-06-29 02:09:03+00:00</td>\n",
       "      <td>1.8</td>\n",
       "      <td>7.0</td>\n",
       "      <td>Cobb</td>\n",
       "      <td>CA</td>\n",
       "      <td>UnitedStates</td>\n",
       "    </tr>\n",
       "    <tr>\n",
       "      <th>104</th>\n",
       "      <td>2023-06-29 02:06:04+00:00</td>\n",
       "      <td>2.0</td>\n",
       "      <td>5.0</td>\n",
       "      <td>Ferndale</td>\n",
       "      <td>CA</td>\n",
       "      <td>UnitedStates</td>\n",
       "    </tr>\n",
       "    <tr>\n",
       "      <th>106</th>\n",
       "      <td>2023-06-29 01:20:04+00:00</td>\n",
       "      <td>2.6</td>\n",
       "      <td>65.0</td>\n",
       "      <td>S</td>\n",
       "      <td>Cantwell</td>\n",
       "      <td>Alaska</td>\n",
       "    </tr>\n",
       "  </tbody>\n",
       "</table>\n",
       "<p>100 rows × 6 columns</p>\n",
       "</div>"
      ],
      "text/plain": [
       "                      Datetime  Magnitude  Distance_from_source_km  \\\n",
       "0    2023-06-29 20:27:03+00:00        2.0                      7.0   \n",
       "1    2023-06-29 20:04:03+00:00        2.0                      3.0   \n",
       "2    2023-06-29 20:01:04+00:00        2.2                     39.0   \n",
       "3    2023-06-29 20:01:04+00:00        1.9                     20.0   \n",
       "4    2023-06-29 19:56:04+00:00        2.4                     39.0   \n",
       "..                         ...        ...                      ...   \n",
       "101  2023-06-29 02:42:03+00:00        1.6                     36.0   \n",
       "102  2023-06-29 02:16:03+00:00        1.8                      4.0   \n",
       "103  2023-06-29 02:09:03+00:00        1.8                      7.0   \n",
       "104  2023-06-29 02:06:04+00:00        2.0                      5.0   \n",
       "106  2023-06-29 01:20:04+00:00        2.6                     65.0   \n",
       "\n",
       "          Source     State       Country  \n",
       "0     Enterprise        NV  UnitedStates  \n",
       "1            ESE    Egegik        Alaska  \n",
       "2        Mentone        TX        United  \n",
       "3          Healy        AK        United  \n",
       "4        Mentone        TX        United  \n",
       "..           ...       ...           ...  \n",
       "101          ENE     Pedro          Bay,  \n",
       "102  Westmorland        CA  UnitedStates  \n",
       "103         Cobb        CA  UnitedStates  \n",
       "104     Ferndale        CA  UnitedStates  \n",
       "106            S  Cantwell        Alaska  \n",
       "\n",
       "[100 rows x 6 columns]"
      ]
     },
     "execution_count": 8,
     "metadata": {},
     "output_type": "execute_result"
    }
   ],
   "source": [
    "df_texts.head(100)"
   ]
  },
  {
   "cell_type": "code",
   "execution_count": 9,
   "id": "36677ff4",
   "metadata": {
    "execution": {
     "iopub.execute_input": "2024-03-16T19:48:46.232455Z",
     "iopub.status.busy": "2024-03-16T19:48:46.231119Z",
     "iopub.status.idle": "2024-03-16T19:48:46.274354Z",
     "shell.execute_reply": "2024-03-16T19:48:46.273444Z"
    },
    "papermill": {
     "duration": 0.057639,
     "end_time": "2024-03-16T19:48:46.276823",
     "exception": false,
     "start_time": "2024-03-16T19:48:46.219184",
     "status": "completed"
    },
    "tags": []
   },
   "outputs": [
    {
     "data": {
      "text/html": [
       "<div>\n",
       "<style scoped>\n",
       "    .dataframe tbody tr th:only-of-type {\n",
       "        vertical-align: middle;\n",
       "    }\n",
       "\n",
       "    .dataframe tbody tr th {\n",
       "        vertical-align: top;\n",
       "    }\n",
       "\n",
       "    .dataframe thead th {\n",
       "        text-align: right;\n",
       "    }\n",
       "</style>\n",
       "<table border=\"1\" class=\"dataframe\">\n",
       "  <thead>\n",
       "    <tr style=\"text-align: right;\">\n",
       "      <th></th>\n",
       "      <th>Datetime</th>\n",
       "      <th>Magnitude</th>\n",
       "      <th>Distance_from_source_km</th>\n",
       "      <th>Source</th>\n",
       "      <th>State</th>\n",
       "      <th>Country</th>\n",
       "      <th>Source_encoded</th>\n",
       "      <th>State_encoded</th>\n",
       "      <th>Country_encoded</th>\n",
       "    </tr>\n",
       "  </thead>\n",
       "  <tbody>\n",
       "    <tr>\n",
       "      <th>0</th>\n",
       "      <td>2023-06-29 20:27:03+00:00</td>\n",
       "      <td>2.0</td>\n",
       "      <td>7.0</td>\n",
       "      <td>Enterprise</td>\n",
       "      <td>NV</td>\n",
       "      <td>UnitedStates</td>\n",
       "      <td>408</td>\n",
       "      <td>497</td>\n",
       "      <td>335</td>\n",
       "    </tr>\n",
       "    <tr>\n",
       "      <th>1</th>\n",
       "      <td>2023-06-29 20:04:03+00:00</td>\n",
       "      <td>2.0</td>\n",
       "      <td>3.0</td>\n",
       "      <td>ESE</td>\n",
       "      <td>Egegik</td>\n",
       "      <td>Alaska</td>\n",
       "      <td>377</td>\n",
       "      <td>231</td>\n",
       "      <td>13</td>\n",
       "    </tr>\n",
       "    <tr>\n",
       "      <th>2</th>\n",
       "      <td>2023-06-29 20:01:04+00:00</td>\n",
       "      <td>2.2</td>\n",
       "      <td>39.0</td>\n",
       "      <td>Mentone</td>\n",
       "      <td>TX</td>\n",
       "      <td>United</td>\n",
       "      <td>893</td>\n",
       "      <td>705</td>\n",
       "      <td>334</td>\n",
       "    </tr>\n",
       "    <tr>\n",
       "      <th>3</th>\n",
       "      <td>2023-06-29 20:01:04+00:00</td>\n",
       "      <td>1.9</td>\n",
       "      <td>20.0</td>\n",
       "      <td>Healy</td>\n",
       "      <td>AK</td>\n",
       "      <td>United</td>\n",
       "      <td>536</td>\n",
       "      <td>1</td>\n",
       "      <td>334</td>\n",
       "    </tr>\n",
       "    <tr>\n",
       "      <th>4</th>\n",
       "      <td>2023-06-29 19:56:04+00:00</td>\n",
       "      <td>2.4</td>\n",
       "      <td>39.0</td>\n",
       "      <td>Mentone</td>\n",
       "      <td>TX</td>\n",
       "      <td>United</td>\n",
       "      <td>893</td>\n",
       "      <td>705</td>\n",
       "      <td>334</td>\n",
       "    </tr>\n",
       "  </tbody>\n",
       "</table>\n",
       "</div>"
      ],
      "text/plain": [
       "                    Datetime  Magnitude  Distance_from_source_km      Source  \\\n",
       "0  2023-06-29 20:27:03+00:00        2.0                      7.0  Enterprise   \n",
       "1  2023-06-29 20:04:03+00:00        2.0                      3.0         ESE   \n",
       "2  2023-06-29 20:01:04+00:00        2.2                     39.0     Mentone   \n",
       "3  2023-06-29 20:01:04+00:00        1.9                     20.0       Healy   \n",
       "4  2023-06-29 19:56:04+00:00        2.4                     39.0     Mentone   \n",
       "\n",
       "    State       Country  Source_encoded  State_encoded  Country_encoded  \n",
       "0      NV  UnitedStates             408            497              335  \n",
       "1  Egegik        Alaska             377            231               13  \n",
       "2      TX        United             893            705              334  \n",
       "3      AK        United             536              1              334  \n",
       "4      TX        United             893            705              334  "
      ]
     },
     "execution_count": 9,
     "metadata": {},
     "output_type": "execute_result"
    }
   ],
   "source": [
    "# Initialize LabelEncoder\n",
    "encoder = LabelEncoder()\n",
    "# Encode categorical columns\n",
    "df_texts['Source_encoded'] = encoder.fit_transform(df_texts['Source'])\n",
    "df_texts['State_encoded'] = encoder.fit_transform(df_texts['State'])\n",
    "df_texts['Country_encoded'] = encoder.fit_transform(df_texts['Country'])\n",
    "df_texts.head()"
   ]
  },
  {
   "cell_type": "code",
   "execution_count": null,
   "id": "033ecbe1",
   "metadata": {
    "execution": {
     "iopub.execute_input": "2024-03-16T18:11:22.986433Z",
     "iopub.status.busy": "2024-03-16T18:11:22.986061Z",
     "iopub.status.idle": "2024-03-16T18:11:22.997576Z",
     "shell.execute_reply": "2024-03-16T18:11:22.996203Z",
     "shell.execute_reply.started": "2024-03-16T18:11:22.986393Z"
    },
    "papermill": {
     "duration": 0.010215,
     "end_time": "2024-03-16T19:48:46.297578",
     "exception": false,
     "start_time": "2024-03-16T19:48:46.287363",
     "status": "completed"
    },
    "tags": []
   },
   "outputs": [],
   "source": []
  },
  {
   "cell_type": "code",
   "execution_count": 10,
   "id": "62038c38",
   "metadata": {
    "execution": {
     "iopub.execute_input": "2024-03-16T19:48:46.321210Z",
     "iopub.status.busy": "2024-03-16T19:48:46.320801Z",
     "iopub.status.idle": "2024-03-16T19:48:46.662638Z",
     "shell.execute_reply": "2024-03-16T19:48:46.661437Z"
    },
    "papermill": {
     "duration": 0.357131,
     "end_time": "2024-03-16T19:48:46.665353",
     "exception": false,
     "start_time": "2024-03-16T19:48:46.308222",
     "status": "completed"
    },
    "tags": []
   },
   "outputs": [
    {
     "data": {
      "image/png": "[encoded data removed]",
      "text/plain": [
       "<Figure size 640x480 with 1 Axes>"
      ]
     },
     "metadata": {},
     "output_type": "display_data"
    }
   ],
   "source": [
    "#understand distribution of magnitude in a magnitude column of a dataframe. This will help to make the column discrete values \n",
    "#which is currently type of continuous value. This will help to use SVD as svd accepts only discrete values in target variables.\n",
    "\n",
    "import matplotlib.pyplot as plt\n",
    "\n",
    "# Plot histogram for magnitude\n",
    "plt.hist(df_texts['Magnitude'], bins=10, edgecolor='black')\n",
    "plt.xlabel('Values')\n",
    "plt.ylabel('Frequency')\n",
    "plt.title('Histogram of magnitude')\n",
    "plt.show()\n"
   ]
  },
  {
   "cell_type": "code",
   "execution_count": 11,
   "id": "366317bd",
   "metadata": {
    "execution": {
     "iopub.execute_input": "2024-03-16T19:48:46.689917Z",
     "iopub.status.busy": "2024-03-16T19:48:46.689481Z",
     "iopub.status.idle": "2024-03-16T19:48:47.002860Z",
     "shell.execute_reply": "2024-03-16T19:48:47.001926Z"
    },
    "papermill": {
     "duration": 0.328339,
     "end_time": "2024-03-16T19:48:47.005316",
     "exception": false,
     "start_time": "2024-03-16T19:48:46.676977",
     "status": "completed"
    },
    "tags": []
   },
   "outputs": [
    {
     "data": {
      "image/png": "[encoded data removed]",
      "text/plain": [
       "<Figure size 640x480 with 1 Axes>"
      ]
     },
     "metadata": {},
     "output_type": "display_data"
    }
   ],
   "source": [
    "#From the above values, we need to use floor and check again\n",
    "df_magnitude = df_texts['Magnitude']\n",
    "df_magnitude = df_magnitude.apply(np.ceil)\n",
    "\n",
    "# Plot histogram for magnitude\n",
    "plt.hist(df_magnitude, bins=10, edgecolor='black')\n",
    "plt.xlabel('Values')\n",
    "plt.ylabel('Frequency')\n",
    "plt.title('Histogram of magnitude')\n",
    "plt.show()"
   ]
  },
  {
   "cell_type": "code",
   "execution_count": 12,
   "id": "a31e1cbb",
   "metadata": {
    "execution": {
     "iopub.execute_input": "2024-03-16T19:48:47.032568Z",
     "iopub.status.busy": "2024-03-16T19:48:47.031328Z",
     "iopub.status.idle": "2024-03-16T19:48:47.040899Z",
     "shell.execute_reply": "2024-03-16T19:48:47.039605Z"
    },
    "papermill": {
     "duration": 0.026081,
     "end_time": "2024-03-16T19:48:47.043313",
     "exception": false,
     "start_time": "2024-03-16T19:48:47.017232",
     "status": "completed"
    },
    "tags": []
   },
   "outputs": [
    {
     "data": {
      "text/plain": [
       "0    2.0\n",
       "1    2.0\n",
       "2    3.0\n",
       "3    2.0\n",
       "4    3.0\n",
       "Name: Magnitude, dtype: float64"
      ]
     },
     "execution_count": 12,
     "metadata": {},
     "output_type": "execute_result"
    }
   ],
   "source": [
    "#Assuming the magnitude values currently to it ceiling from the above result\n",
    "df_magnitude.head()"
   ]
  },
  {
   "cell_type": "code",
   "execution_count": 13,
   "id": "cb113670",
   "metadata": {
    "execution": {
     "iopub.execute_input": "2024-03-16T19:48:47.069848Z",
     "iopub.status.busy": "2024-03-16T19:48:47.069411Z",
     "iopub.status.idle": "2024-03-16T19:48:47.074505Z",
     "shell.execute_reply": "2024-03-16T19:48:47.073348Z"
    },
    "papermill": {
     "duration": 0.021672,
     "end_time": "2024-03-16T19:48:47.077115",
     "exception": false,
     "start_time": "2024-03-16T19:48:47.055443",
     "status": "completed"
    },
    "tags": []
   },
   "outputs": [],
   "source": [
    "df_texts['Magnitude'] = df_magnitude"
   ]
  },
  {
   "cell_type": "code",
   "execution_count": 14,
   "id": "e309eed1",
   "metadata": {
    "execution": {
     "iopub.execute_input": "2024-03-16T19:48:47.103593Z",
     "iopub.status.busy": "2024-03-16T19:48:47.102926Z",
     "iopub.status.idle": "2024-03-16T19:48:47.113168Z",
     "shell.execute_reply": "2024-03-16T19:48:47.111820Z"
    },
    "papermill": {
     "duration": 0.026267,
     "end_time": "2024-03-16T19:48:47.115726",
     "exception": false,
     "start_time": "2024-03-16T19:48:47.089459",
     "status": "completed"
    },
    "tags": []
   },
   "outputs": [
    {
     "name": "stdout",
     "output_type": "stream",
     "text": [
      "[[7.000e+00 4.080e+02 4.970e+02 3.350e+02]\n",
      " [3.000e+00 3.770e+02 2.310e+02 1.300e+01]\n",
      " [3.900e+01 8.930e+02 7.050e+02 3.340e+02]\n",
      " ...\n",
      " [4.100e+01 1.516e+03 1.000e+00 3.340e+02]\n",
      " [3.000e+00 5.630e+02 1.210e+02 3.340e+02]\n",
      " [4.000e+00 8.540e+02 1.210e+02 3.340e+02]]\n",
      "[2. 2. 3. 2. 3.]\n"
     ]
    }
   ],
   "source": [
    "# defining the independent and dependent variable\n",
    "x = df_texts.iloc[:, [2, 6, 7, 8]].values                  \n",
    "y = df_texts.iloc[:, 1].values \n",
    "\n",
    "print(x)\n",
    "print(y[:5])"
   ]
  },
  {
   "cell_type": "markdown",
   "id": "f7777a93",
   "metadata": {
    "papermill": {
     "duration": 0.012276,
     "end_time": "2024-03-16T19:48:47.140151",
     "exception": false,
     "start_time": "2024-03-16T19:48:47.127875",
     "status": "completed"
    },
    "tags": []
   },
   "source": []
  },
  {
   "cell_type": "code",
   "execution_count": 15,
   "id": "98ce82d3",
   "metadata": {
    "execution": {
     "iopub.execute_input": "2024-03-16T19:48:47.166536Z",
     "iopub.status.busy": "2024-03-16T19:48:47.166102Z",
     "iopub.status.idle": "2024-03-16T19:48:47.175930Z",
     "shell.execute_reply": "2024-03-16T19:48:47.174686Z"
    },
    "papermill": {
     "duration": 0.026113,
     "end_time": "2024-03-16T19:48:47.178782",
     "exception": false,
     "start_time": "2024-03-16T19:48:47.152669",
     "status": "completed"
    },
    "tags": []
   },
   "outputs": [],
   "source": [
    "# using train test split, splitting the dataset into training and testing data \n",
    "x_train, x_test, y_train, y_test = train_test_split(x, y, test_size= 0.25, random_state=0)  "
   ]
  },
  {
   "cell_type": "code",
   "execution_count": 16,
   "id": "7b293a9f",
   "metadata": {
    "execution": {
     "iopub.execute_input": "2024-03-16T19:48:47.205010Z",
     "iopub.status.busy": "2024-03-16T19:48:47.204576Z",
     "iopub.status.idle": "2024-03-16T19:48:47.213531Z",
     "shell.execute_reply": "2024-03-16T19:48:47.212257Z"
    },
    "papermill": {
     "duration": 0.0251,
     "end_time": "2024-03-16T19:48:47.216258",
     "exception": false,
     "start_time": "2024-03-16T19:48:47.191158",
     "status": "completed"
    },
    "tags": []
   },
   "outputs": [],
   "source": [
    "# Scaling the data\n",
    "st_x = StandardScaler()\n",
    "#st_y = StandardScaler()\n",
    "x_train = st_x.fit_transform(x_train)    \n",
    "x_test = st_x.transform(x_test)  "
   ]
  },
  {
   "cell_type": "code",
   "execution_count": 17,
   "id": "621ab1d7",
   "metadata": {
    "execution": {
     "iopub.execute_input": "2024-03-16T19:48:47.242244Z",
     "iopub.status.busy": "2024-03-16T19:48:47.241855Z",
     "iopub.status.idle": "2024-03-16T19:48:51.593243Z",
     "shell.execute_reply": "2024-03-16T19:48:51.592418Z"
    },
    "papermill": {
     "duration": 4.366969,
     "end_time": "2024-03-16T19:48:51.595337",
     "exception": false,
     "start_time": "2024-03-16T19:48:47.228368",
     "status": "completed"
    },
    "tags": []
   },
   "outputs": [
    {
     "data": {
      "text/html": [
       "<style>#sk-container-id-1 {color: black;background-color: white;}#sk-container-id-1 pre{padding: 0;}#sk-container-id-1 div.sk-toggleable {background-color: white;}#sk-container-id-1 label.sk-toggleable__label {cursor: pointer;display: block;width: 100%;margin-bottom: 0;padding: 0.3em;box-sizing: border-box;text-align: center;}#sk-container-id-1 label.sk-toggleable__label-arrow:before {content: \"▸\";float: left;margin-right: 0.25em;color: #696969;}#sk-container-id-1 label.sk-toggleable__label-arrow:hover:before {color: black;}#sk-container-id-1 div.sk-estimator:hover label.sk-toggleable__label-arrow:before {color: black;}#sk-container-id-1 div.sk-toggleable__content {max-height: 0;max-width: 0;overflow: hidden;text-align: left;background-color: #f0f8ff;}#sk-container-id-1 div.sk-toggleable__content pre {margin: 0.2em;color: black;border-radius: 0.25em;background-color: #f0f8ff;}#sk-container-id-1 input.sk-toggleable__control:checked~div.sk-toggleable__content {max-height: 200px;max-width: 100%;overflow: auto;}#sk-container-id-1 input.sk-toggleable__control:checked~label.sk-toggleable__label-arrow:before {content: \"▾\";}#sk-container-id-1 div.sk-estimator input.sk-toggleable__control:checked~label.sk-toggleable__label {background-color: #d4ebff;}#sk-container-id-1 div.sk-label input.sk-toggleable__control:checked~label.sk-toggleable__label {background-color: #d4ebff;}#sk-container-id-1 input.sk-hidden--visually {border: 0;clip: rect(1px 1px 1px 1px);clip: rect(1px, 1px, 1px, 1px);height: 1px;margin: -1px;overflow: hidden;padding: 0;position: absolute;width: 1px;}#sk-container-id-1 div.sk-estimator {font-family: monospace;background-color: #f0f8ff;border: 1px dotted black;border-radius: 0.25em;box-sizing: border-box;margin-bottom: 0.5em;}#sk-container-id-1 div.sk-estimator:hover {background-color: #d4ebff;}#sk-container-id-1 div.sk-parallel-item::after {content: \"\";width: 100%;border-bottom: 1px solid gray;flex-grow: 1;}#sk-container-id-1 div.sk-label:hover label.sk-toggleable__label {background-color: #d4ebff;}#sk-container-id-1 div.sk-serial::before {content: \"\";position: absolute;border-left: 1px solid gray;box-sizing: border-box;top: 0;bottom: 0;left: 50%;z-index: 0;}#sk-container-id-1 div.sk-serial {display: flex;flex-direction: column;align-items: center;background-color: white;padding-right: 0.2em;padding-left: 0.2em;position: relative;}#sk-container-id-1 div.sk-item {position: relative;z-index: 1;}#sk-container-id-1 div.sk-parallel {display: flex;align-items: stretch;justify-content: center;background-color: white;position: relative;}#sk-container-id-1 div.sk-item::before, #sk-container-id-1 div.sk-parallel-item::before {content: \"\";position: absolute;border-left: 1px solid gray;box-sizing: border-box;top: 0;bottom: 0;left: 50%;z-index: -1;}#sk-container-id-1 div.sk-parallel-item {display: flex;flex-direction: column;z-index: 1;position: relative;background-color: white;}#sk-container-id-1 div.sk-parallel-item:first-child::after {align-self: flex-end;width: 50%;}#sk-container-id-1 div.sk-parallel-item:last-child::after {align-self: flex-start;width: 50%;}#sk-container-id-1 div.sk-parallel-item:only-child::after {width: 0;}#sk-container-id-1 div.sk-dashed-wrapped {border: 1px dashed gray;margin: 0 0.4em 0.5em 0.4em;box-sizing: border-box;padding-bottom: 0.4em;background-color: white;}#sk-container-id-1 div.sk-label label {font-family: monospace;font-weight: bold;display: inline-block;line-height: 1.2em;}#sk-container-id-1 div.sk-label-container {text-align: center;}#sk-container-id-1 div.sk-container {/* jupyter's `normalize.less` sets `[hidden] { display: none; }` but bootstrap.min.css set `[hidden] { display: none !important; }` so we also need the `!important` here to be able to override the default hidden behavior on the sphinx rendered scikit-learn.org. See: https://github.com/scikit-learn/scikit-learn/issues/21755 */display: inline-block !important;position: relative;}#sk-container-id-1 div.sk-text-repr-fallback {display: none;}</style><div id=\"sk-container-id-1\" class=\"sk-top-container\"><div class=\"sk-text-repr-fallback\"><pre>SVC(kernel=&#x27;linear&#x27;, random_state=0)</pre><b>In a Jupyter environment, please rerun this cell to show the HTML representation or trust the notebook. <br />On GitHub, the HTML representation is unable to render, please try loading this page with nbviewer.org.</b></div><div class=\"sk-container\" hidden><div class=\"sk-item\"><div class=\"sk-estimator sk-toggleable\"><input class=\"sk-toggleable__control sk-hidden--visually\" id=\"sk-estimator-id-1\" type=\"checkbox\" checked><label for=\"sk-estimator-id-1\" class=\"sk-toggleable__label sk-toggleable__label-arrow\">SVC</label><div class=\"sk-toggleable__content\"><pre>SVC(kernel=&#x27;linear&#x27;, random_state=0)</pre></div></div></div></div></div>"
      ],
      "text/plain": [
       "SVC(kernel='linear', random_state=0)"
      ]
     },
     "execution_count": 17,
     "metadata": {},
     "output_type": "execute_result"
    }
   ],
   "source": [
    "# kernel = 'linear' is used on data which is separable\n",
    "classifier = SVC(kernel='linear', random_state=0)  \n",
    "classifier.fit(x_train, y_train)  "
   ]
  },
  {
   "cell_type": "code",
   "execution_count": 18,
   "id": "c700798d",
   "metadata": {
    "execution": {
     "iopub.execute_input": "2024-03-16T19:48:51.621183Z",
     "iopub.status.busy": "2024-03-16T19:48:51.620693Z",
     "iopub.status.idle": "2024-03-16T19:48:55.625396Z",
     "shell.execute_reply": "2024-03-16T19:48:55.624439Z"
    },
    "papermill": {
     "duration": 4.020018,
     "end_time": "2024-03-16T19:48:55.627672",
     "exception": false,
     "start_time": "2024-03-16T19:48:51.607654",
     "status": "completed"
    },
    "tags": []
   },
   "outputs": [
    {
     "data": {
      "text/html": [
       "<style>#sk-container-id-2 {color: black;background-color: white;}#sk-container-id-2 pre{padding: 0;}#sk-container-id-2 div.sk-toggleable {background-color: white;}#sk-container-id-2 label.sk-toggleable__label {cursor: pointer;display: block;width: 100%;margin-bottom: 0;padding: 0.3em;box-sizing: border-box;text-align: center;}#sk-container-id-2 label.sk-toggleable__label-arrow:before {content: \"▸\";float: left;margin-right: 0.25em;color: #696969;}#sk-container-id-2 label.sk-toggleable__label-arrow:hover:before {color: black;}#sk-container-id-2 div.sk-estimator:hover label.sk-toggleable__label-arrow:before {color: black;}#sk-container-id-2 div.sk-toggleable__content {max-height: 0;max-width: 0;overflow: hidden;text-align: left;background-color: #f0f8ff;}#sk-container-id-2 div.sk-toggleable__content pre {margin: 0.2em;color: black;border-radius: 0.25em;background-color: #f0f8ff;}#sk-container-id-2 input.sk-toggleable__control:checked~div.sk-toggleable__content {max-height: 200px;max-width: 100%;overflow: auto;}#sk-container-id-2 input.sk-toggleable__control:checked~label.sk-toggleable__label-arrow:before {content: \"▾\";}#sk-container-id-2 div.sk-estimator input.sk-toggleable__control:checked~label.sk-toggleable__label {background-color: #d4ebff;}#sk-container-id-2 div.sk-label input.sk-toggleable__control:checked~label.sk-toggleable__label {background-color: #d4ebff;}#sk-container-id-2 input.sk-hidden--visually {border: 0;clip: rect(1px 1px 1px 1px);clip: rect(1px, 1px, 1px, 1px);height: 1px;margin: -1px;overflow: hidden;padding: 0;position: absolute;width: 1px;}#sk-container-id-2 div.sk-estimator {font-family: monospace;background-color: #f0f8ff;border: 1px dotted black;border-radius: 0.25em;box-sizing: border-box;margin-bottom: 0.5em;}#sk-container-id-2 div.sk-estimator:hover {background-color: #d4ebff;}#sk-container-id-2 div.sk-parallel-item::after {content: \"\";width: 100%;border-bottom: 1px solid gray;flex-grow: 1;}#sk-container-id-2 div.sk-label:hover label.sk-toggleable__label {background-color: #d4ebff;}#sk-container-id-2 div.sk-serial::before {content: \"\";position: absolute;border-left: 1px solid gray;box-sizing: border-box;top: 0;bottom: 0;left: 50%;z-index: 0;}#sk-container-id-2 div.sk-serial {display: flex;flex-direction: column;align-items: center;background-color: white;padding-right: 0.2em;padding-left: 0.2em;position: relative;}#sk-container-id-2 div.sk-item {position: relative;z-index: 1;}#sk-container-id-2 div.sk-parallel {display: flex;align-items: stretch;justify-content: center;background-color: white;position: relative;}#sk-container-id-2 div.sk-item::before, #sk-container-id-2 div.sk-parallel-item::before {content: \"\";position: absolute;border-left: 1px solid gray;box-sizing: border-box;top: 0;bottom: 0;left: 50%;z-index: -1;}#sk-container-id-2 div.sk-parallel-item {display: flex;flex-direction: column;z-index: 1;position: relative;background-color: white;}#sk-container-id-2 div.sk-parallel-item:first-child::after {align-self: flex-end;width: 50%;}#sk-container-id-2 div.sk-parallel-item:last-child::after {align-self: flex-start;width: 50%;}#sk-container-id-2 div.sk-parallel-item:only-child::after {width: 0;}#sk-container-id-2 div.sk-dashed-wrapped {border: 1px dashed gray;margin: 0 0.4em 0.5em 0.4em;box-sizing: border-box;padding-bottom: 0.4em;background-color: white;}#sk-container-id-2 div.sk-label label {font-family: monospace;font-weight: bold;display: inline-block;line-height: 1.2em;}#sk-container-id-2 div.sk-label-container {text-align: center;}#sk-container-id-2 div.sk-container {/* jupyter's `normalize.less` sets `[hidden] { display: none; }` but bootstrap.min.css set `[hidden] { display: none !important; }` so we also need the `!important` here to be able to override the default hidden behavior on the sphinx rendered scikit-learn.org. See: https://github.com/scikit-learn/scikit-learn/issues/21755 */display: inline-block !important;position: relative;}#sk-container-id-2 div.sk-text-repr-fallback {display: none;}</style><div id=\"sk-container-id-2\" class=\"sk-top-container\"><div class=\"sk-text-repr-fallback\"><pre>Pipeline(steps=[(&#x27;standardscaler&#x27;, StandardScaler()),\n",
       "                (&#x27;linearsvc&#x27;,\n",
       "                 LinearSVC(max_iter=10000, random_state=0, tol=1e-05))])</pre><b>In a Jupyter environment, please rerun this cell to show the HTML representation or trust the notebook. <br />On GitHub, the HTML representation is unable to render, please try loading this page with nbviewer.org.</b></div><div class=\"sk-container\" hidden><div class=\"sk-item sk-dashed-wrapped\"><div class=\"sk-label-container\"><div class=\"sk-label sk-toggleable\"><input class=\"sk-toggleable__control sk-hidden--visually\" id=\"sk-estimator-id-2\" type=\"checkbox\" ><label for=\"sk-estimator-id-2\" class=\"sk-toggleable__label sk-toggleable__label-arrow\">Pipeline</label><div class=\"sk-toggleable__content\"><pre>Pipeline(steps=[(&#x27;standardscaler&#x27;, StandardScaler()),\n",
       "                (&#x27;linearsvc&#x27;,\n",
       "                 LinearSVC(max_iter=10000, random_state=0, tol=1e-05))])</pre></div></div></div><div class=\"sk-serial\"><div class=\"sk-item\"><div class=\"sk-estimator sk-toggleable\"><input class=\"sk-toggleable__control sk-hidden--visually\" id=\"sk-estimator-id-3\" type=\"checkbox\" ><label for=\"sk-estimator-id-3\" class=\"sk-toggleable__label sk-toggleable__label-arrow\">StandardScaler</label><div class=\"sk-toggleable__content\"><pre>StandardScaler()</pre></div></div></div><div class=\"sk-item\"><div class=\"sk-estimator sk-toggleable\"><input class=\"sk-toggleable__control sk-hidden--visually\" id=\"sk-estimator-id-4\" type=\"checkbox\" ><label for=\"sk-estimator-id-4\" class=\"sk-toggleable__label sk-toggleable__label-arrow\">LinearSVC</label><div class=\"sk-toggleable__content\"><pre>LinearSVC(max_iter=10000, random_state=0, tol=1e-05)</pre></div></div></div></div></div></div></div>"
      ],
      "text/plain": [
       "Pipeline(steps=[('standardscaler', StandardScaler()),\n",
       "                ('linearsvc',\n",
       "                 LinearSVC(max_iter=10000, random_state=0, tol=1e-05))])"
      ]
     },
     "execution_count": 18,
     "metadata": {},
     "output_type": "execute_result"
    }
   ],
   "source": [
    "# Make a pipeline of Scaling and SVM\n",
    "clf = make_pipeline(StandardScaler(),\n",
    "                     LinearSVC(random_state=0, tol=1e-5, max_iter=10000))\n",
    "clf.fit(x_train, y_train)"
   ]
  },
  {
   "cell_type": "code",
   "execution_count": 19,
   "id": "8fc797b9",
   "metadata": {
    "execution": {
     "iopub.execute_input": "2024-03-16T19:48:55.655573Z",
     "iopub.status.busy": "2024-03-16T19:48:55.654945Z",
     "iopub.status.idle": "2024-03-16T19:48:56.624347Z",
     "shell.execute_reply": "2024-03-16T19:48:56.623111Z"
    },
    "papermill": {
     "duration": 0.986645,
     "end_time": "2024-03-16T19:48:56.626805",
     "exception": false,
     "start_time": "2024-03-16T19:48:55.640160",
     "status": "completed"
    },
    "tags": []
   },
   "outputs": [
    {
     "name": "stdout",
     "output_type": "stream",
     "text": [
      "predicted values  [2. 2. 2. ... 2. 2. 2.]\n"
     ]
    }
   ],
   "source": [
    "# predicting using SVC with kernel='Linear'\n",
    "y_pred = classifier.predict(x_test)   \n",
    "print(\"predicted values \",y_pred)   "
   ]
  },
  {
   "cell_type": "code",
   "execution_count": 20,
   "id": "f6f28625",
   "metadata": {
    "execution": {
     "iopub.execute_input": "2024-03-16T19:48:56.654253Z",
     "iopub.status.busy": "2024-03-16T19:48:56.653820Z",
     "iopub.status.idle": "2024-03-16T19:48:56.685694Z",
     "shell.execute_reply": "2024-03-16T19:48:56.684324Z"
    },
    "papermill": {
     "duration": 0.049439,
     "end_time": "2024-03-16T19:48:56.689025",
     "exception": false,
     "start_time": "2024-03-16T19:48:56.639586",
     "status": "completed"
    },
    "tags": []
   },
   "outputs": [
    {
     "name": "stdout",
     "output_type": "stream",
     "text": [
      "Accuracy: 0.5058236272878536\n",
      "Precision: 0.29834574580096745\n",
      "Recall: 0.5058236272878536\n",
      "F1 Score: 0.3604307437748481\n",
      "Confusion Matrix:\n",
      "[[1692    0    0    4    0    0    0]\n",
      " [1134    0    0   23    0    0    0]\n",
      " [ 219    0    0   41    0    0    0]\n",
      " [ 274    0    0  132    0    0    0]\n",
      " [  38    0    0   31    0    0    0]\n",
      " [   7    0    0    5    0    0    0]\n",
      " [   2    0    0    4    0    0    0]]\n"
     ]
    },
    {
     "name": "stderr",
     "output_type": "stream",
     "text": [
      "/opt/conda/lib/python3.10/site-packages/sklearn/metrics/_classification.py:1344: UndefinedMetricWarning: Precision is ill-defined and being set to 0.0 in labels with no predicted samples. Use `zero_division` parameter to control this behavior.\n",
      "  _warn_prf(average, modifier, msg_start, len(result))\n"
     ]
    }
   ],
   "source": [
    "# Compute evaluation metrics\n",
    "from sklearn.metrics import accuracy_score, precision_score, recall_score, f1_score, confusion_matrix\n",
    "\n",
    "accuracy = accuracy_score(y_test, y_pred)\n",
    "precision = precision_score(y_test, y_pred, average='weighted')\n",
    "recall = recall_score(y_test, y_pred, average='weighted')\n",
    "f1 = f1_score(y_test, y_pred, average='weighted')\n",
    "conf_matrix = confusion_matrix(y_test, y_pred)\n",
    "\n",
    "print(f'Accuracy: {accuracy}')\n",
    "print(f'Precision: {precision}')\n",
    "print(f'Recall: {recall}')\n",
    "print(f'F1 Score: {f1}')\n",
    "print(f'Confusion Matrix:\\n{conf_matrix}')"
   ]
  },
  {
   "cell_type": "code",
   "execution_count": 21,
   "id": "fa3218af",
   "metadata": {
    "execution": {
     "iopub.execute_input": "2024-03-16T19:48:56.717073Z",
     "iopub.status.busy": "2024-03-16T19:48:56.716386Z",
     "iopub.status.idle": "2024-03-16T19:48:56.861213Z",
     "shell.execute_reply": "2024-03-16T19:48:56.860080Z"
    },
    "papermill": {
     "duration": 0.161802,
     "end_time": "2024-03-16T19:48:56.863874",
     "exception": false,
     "start_time": "2024-03-16T19:48:56.702072",
     "status": "completed"
    },
    "tags": []
   },
   "outputs": [
    {
     "data": {
      "text/html": [
       "<style>#sk-container-id-3 {color: black;background-color: white;}#sk-container-id-3 pre{padding: 0;}#sk-container-id-3 div.sk-toggleable {background-color: white;}#sk-container-id-3 label.sk-toggleable__label {cursor: pointer;display: block;width: 100%;margin-bottom: 0;padding: 0.3em;box-sizing: border-box;text-align: center;}#sk-container-id-3 label.sk-toggleable__label-arrow:before {content: \"▸\";float: left;margin-right: 0.25em;color: #696969;}#sk-container-id-3 label.sk-toggleable__label-arrow:hover:before {color: black;}#sk-container-id-3 div.sk-estimator:hover label.sk-toggleable__label-arrow:before {color: black;}#sk-container-id-3 div.sk-toggleable__content {max-height: 0;max-width: 0;overflow: hidden;text-align: left;background-color: #f0f8ff;}#sk-container-id-3 div.sk-toggleable__content pre {margin: 0.2em;color: black;border-radius: 0.25em;background-color: #f0f8ff;}#sk-container-id-3 input.sk-toggleable__control:checked~div.sk-toggleable__content {max-height: 200px;max-width: 100%;overflow: auto;}#sk-container-id-3 input.sk-toggleable__control:checked~label.sk-toggleable__label-arrow:before {content: \"▾\";}#sk-container-id-3 div.sk-estimator input.sk-toggleable__control:checked~label.sk-toggleable__label {background-color: #d4ebff;}#sk-container-id-3 div.sk-label input.sk-toggleable__control:checked~label.sk-toggleable__label {background-color: #d4ebff;}#sk-container-id-3 input.sk-hidden--visually {border: 0;clip: rect(1px 1px 1px 1px);clip: rect(1px, 1px, 1px, 1px);height: 1px;margin: -1px;overflow: hidden;padding: 0;position: absolute;width: 1px;}#sk-container-id-3 div.sk-estimator {font-family: monospace;background-color: #f0f8ff;border: 1px dotted black;border-radius: 0.25em;box-sizing: border-box;margin-bottom: 0.5em;}#sk-container-id-3 div.sk-estimator:hover {background-color: #d4ebff;}#sk-container-id-3 div.sk-parallel-item::after {content: \"\";width: 100%;border-bottom: 1px solid gray;flex-grow: 1;}#sk-container-id-3 div.sk-label:hover label.sk-toggleable__label {background-color: #d4ebff;}#sk-container-id-3 div.sk-serial::before {content: \"\";position: absolute;border-left: 1px solid gray;box-sizing: border-box;top: 0;bottom: 0;left: 50%;z-index: 0;}#sk-container-id-3 div.sk-serial {display: flex;flex-direction: column;align-items: center;background-color: white;padding-right: 0.2em;padding-left: 0.2em;position: relative;}#sk-container-id-3 div.sk-item {position: relative;z-index: 1;}#sk-container-id-3 div.sk-parallel {display: flex;align-items: stretch;justify-content: center;background-color: white;position: relative;}#sk-container-id-3 div.sk-item::before, #sk-container-id-3 div.sk-parallel-item::before {content: \"\";position: absolute;border-left: 1px solid gray;box-sizing: border-box;top: 0;bottom: 0;left: 50%;z-index: -1;}#sk-container-id-3 div.sk-parallel-item {display: flex;flex-direction: column;z-index: 1;position: relative;background-color: white;}#sk-container-id-3 div.sk-parallel-item:first-child::after {align-self: flex-end;width: 50%;}#sk-container-id-3 div.sk-parallel-item:last-child::after {align-self: flex-start;width: 50%;}#sk-container-id-3 div.sk-parallel-item:only-child::after {width: 0;}#sk-container-id-3 div.sk-dashed-wrapped {border: 1px dashed gray;margin: 0 0.4em 0.5em 0.4em;box-sizing: border-box;padding-bottom: 0.4em;background-color: white;}#sk-container-id-3 div.sk-label label {font-family: monospace;font-weight: bold;display: inline-block;line-height: 1.2em;}#sk-container-id-3 div.sk-label-container {text-align: center;}#sk-container-id-3 div.sk-container {/* jupyter's `normalize.less` sets `[hidden] { display: none; }` but bootstrap.min.css set `[hidden] { display: none !important; }` so we also need the `!important` here to be able to override the default hidden behavior on the sphinx rendered scikit-learn.org. See: https://github.com/scikit-learn/scikit-learn/issues/21755 */display: inline-block !important;position: relative;}#sk-container-id-3 div.sk-text-repr-fallback {display: none;}</style><div id=\"sk-container-id-3\" class=\"sk-top-container\"><div class=\"sk-text-repr-fallback\"><pre>Pipeline(steps=[(&#x27;standardscaler&#x27;, StandardScaler()),\n",
       "                (&#x27;sgdclassifier&#x27;, SGDClassifier(max_iter=10000))])</pre><b>In a Jupyter environment, please rerun this cell to show the HTML representation or trust the notebook. <br />On GitHub, the HTML representation is unable to render, please try loading this page with nbviewer.org.</b></div><div class=\"sk-container\" hidden><div class=\"sk-item sk-dashed-wrapped\"><div class=\"sk-label-container\"><div class=\"sk-label sk-toggleable\"><input class=\"sk-toggleable__control sk-hidden--visually\" id=\"sk-estimator-id-5\" type=\"checkbox\" ><label for=\"sk-estimator-id-5\" class=\"sk-toggleable__label sk-toggleable__label-arrow\">Pipeline</label><div class=\"sk-toggleable__content\"><pre>Pipeline(steps=[(&#x27;standardscaler&#x27;, StandardScaler()),\n",
       "                (&#x27;sgdclassifier&#x27;, SGDClassifier(max_iter=10000))])</pre></div></div></div><div class=\"sk-serial\"><div class=\"sk-item\"><div class=\"sk-estimator sk-toggleable\"><input class=\"sk-toggleable__control sk-hidden--visually\" id=\"sk-estimator-id-6\" type=\"checkbox\" ><label for=\"sk-estimator-id-6\" class=\"sk-toggleable__label sk-toggleable__label-arrow\">StandardScaler</label><div class=\"sk-toggleable__content\"><pre>StandardScaler()</pre></div></div></div><div class=\"sk-item\"><div class=\"sk-estimator sk-toggleable\"><input class=\"sk-toggleable__control sk-hidden--visually\" id=\"sk-estimator-id-7\" type=\"checkbox\" ><label for=\"sk-estimator-id-7\" class=\"sk-toggleable__label sk-toggleable__label-arrow\">SGDClassifier</label><div class=\"sk-toggleable__content\"><pre>SGDClassifier(max_iter=10000)</pre></div></div></div></div></div></div></div>"
      ],
      "text/plain": [
       "Pipeline(steps=[('standardscaler', StandardScaler()),\n",
       "                ('sgdclassifier', SGDClassifier(max_iter=10000))])"
      ]
     },
     "execution_count": 21,
     "metadata": {},
     "output_type": "execute_result"
    }
   ],
   "source": [
    "# Using SGD Classifier\n",
    "\n",
    "# Always scale the input. The most convenient way is to use a pipeline.\n",
    "clf2 = make_pipeline(StandardScaler(),\n",
    "                     SGDClassifier(max_iter=10000, tol=1e-3, loss=\"hinge\"))\n",
    "clf2.fit(x_train, y_train)"
   ]
  },
  {
   "cell_type": "code",
   "execution_count": 22,
   "id": "cedd3265",
   "metadata": {
    "execution": {
     "iopub.execute_input": "2024-03-16T19:48:56.891535Z",
     "iopub.status.busy": "2024-03-16T19:48:56.891151Z",
     "iopub.status.idle": "2024-03-16T19:48:56.919041Z",
     "shell.execute_reply": "2024-03-16T19:48:56.917897Z"
    },
    "papermill": {
     "duration": 0.045069,
     "end_time": "2024-03-16T19:48:56.921977",
     "exception": false,
     "start_time": "2024-03-16T19:48:56.876908",
     "status": "completed"
    },
    "tags": []
   },
   "outputs": [
    {
     "name": "stdout",
     "output_type": "stream",
     "text": [
      "Accuracy: 0.5058236272878536\n",
      "Precision: 0.7154283858453381\n",
      "Recall: 0.5058236272878536\n",
      "F1 Score: 0.3604307437748481\n",
      "Confusion Matrix:\n",
      "[[1692    0    0    4    0    0    0]\n",
      " [1134    0    0   23    0    0    0]\n",
      " [ 219    0    0   41    0    0    0]\n",
      " [ 274    0    0  132    0    0    0]\n",
      " [  38    0    0   31    0    0    0]\n",
      " [   7    0    0    5    0    0    0]\n",
      " [   2    0    0    4    0    0    0]]\n"
     ]
    }
   ],
   "source": [
    "# predicting results using SGD Classifier\n",
    "y_pred2 = clf2.predict(x_test)   \n",
    "\n",
    "accuracy = accuracy_score(y_test, y_pred)\n",
    "precision = precision_score(y_test, y_pred, average='weighted', zero_division=1)\n",
    "recall = recall_score(y_test, y_pred, average='weighted')\n",
    "f1 = f1_score(y_test, y_pred, average='weighted')\n",
    "conf_matrix = confusion_matrix(y_test, y_pred)\n",
    "\n",
    "print(f'Accuracy: {accuracy}')\n",
    "print(f'Precision: {precision}')\n",
    "print(f'Recall: {recall}')\n",
    "print(f'F1 Score: {f1}')\n",
    "print(f'Confusion Matrix:\\n{conf_matrix}')"
   ]
  },
  {
   "cell_type": "markdown",
   "id": "31e7fafc",
   "metadata": {
    "papermill": {
     "duration": 0.012701,
     "end_time": "2024-03-16T19:48:56.948602",
     "exception": false,
     "start_time": "2024-03-16T19:48:56.935901",
     "status": "completed"
    },
    "tags": []
   },
   "source": [
    "****Another Approach****\n",
    "****We need to see if any of the predictors has a relationship with the others****"
   ]
  },
  {
   "cell_type": "code",
   "execution_count": 23,
   "id": "ee40d231",
   "metadata": {
    "execution": {
     "iopub.execute_input": "2024-03-16T19:48:56.977956Z",
     "iopub.status.busy": "2024-03-16T19:48:56.977558Z",
     "iopub.status.idle": "2024-03-16T19:48:57.399909Z",
     "shell.execute_reply": "2024-03-16T19:48:57.398669Z"
    },
    "papermill": {
     "duration": 0.43915,
     "end_time": "2024-03-16T19:48:57.402311",
     "exception": false,
     "start_time": "2024-03-16T19:48:56.963161",
     "status": "completed"
    },
    "tags": []
   },
   "outputs": [
    {
     "name": "stdout",
     "output_type": "stream",
     "text": [
      "                         Distance_from_source_km  Source_encoded  \\\n",
      "Distance_from_source_km                 1.000000        0.099920   \n",
      "Source_encoded                          0.099920        1.000000   \n",
      "State_encoded                           0.096677       -0.014849   \n",
      "Country_encoded                        -0.320722        0.002824   \n",
      "\n",
      "                         State_encoded  Country_encoded  \n",
      "Distance_from_source_km       0.096677        -0.320722  \n",
      "Source_encoded               -0.014849         0.002824  \n",
      "State_encoded                 1.000000        -0.247163  \n",
      "Country_encoded              -0.247163         1.000000  \n"
     ]
    },
    {
     "data": {
      "image/png": "[encoded data removed]",
      "text/plain": [
       "<Figure size 800x600 with 2 Axes>"
      ]
     },
     "metadata": {},
     "output_type": "display_data"
    }
   ],
   "source": [
    "# Specify the column names of your predictors\n",
    "predictors = ['Distance_from_source_km', 'Source_encoded', 'State_encoded', 'Country_encoded']\n",
    "\n",
    "# Calculate the correlation matrix\n",
    "correlation_matrix = df_texts[predictors].corr()\n",
    "\n",
    "# Print or visualize the correlation matrix\n",
    "print(correlation_matrix)\n",
    "\n",
    "# Plot the correlation matrix heatmap\n",
    "plt.figure(figsize=(8, 6))\n",
    "sns.heatmap(correlation_matrix, annot=True, cmap='coolwarm', fmt=\".2f\", square=True)\n",
    "plt.title('Correlation Matrix Heatmap')\n",
    "plt.xlabel('Predictors')\n",
    "plt.ylabel('Predictors')\n",
    "plt.show()"
   ]
  },
  {
   "cell_type": "markdown",
   "id": "90dbd8e6",
   "metadata": {
    "papermill": {
     "duration": 0.013853,
     "end_time": "2024-03-16T19:48:57.430778",
     "exception": false,
     "start_time": "2024-03-16T19:48:57.416925",
     "status": "completed"
    },
    "tags": []
   },
   "source": [
    "**From the coorelation matrix above it can be said that the predictors are not biased**"
   ]
  }
 ],
 "metadata": {
  "kaggle": {
   "accelerator": "none",
   "dataSources": [
    {
     "datasetId": 3318124,
     "sourceId": 6054887,
     "sourceType": "datasetVersion"
    }
   ],
   "dockerImageVersionId": 30664,
   "isGpuEnabled": false,
   "isInternetEnabled": true,
   "language": "python",
   "sourceType": "notebook"
  },
  "kernelspec": {
   "display_name": "Python 3",
   "language": "python",
   "name": "python3"
  },
  "language_info": {
   "codemirror_mode": {
    "name": "ipython",
    "version": 3
   },
   "file_extension": ".py",
   "mimetype": "text/x-python",
   "name": "python",
   "nbconvert_exporter": "python",
   "pygments_lexer": "ipython3",
   "version": "3.10.13"
  },
  "papermill": {
   "default_parameters": {},
   "duration": 26.178437,
   "end_time": "2024-03-16T19:48:59.716003",
   "environment_variables": {},
   "exception": null,
   "input_path": "__notebook__.ipynb",
   "output_path": "__notebook__.ipynb",
   "parameters": {},
   "start_time": "2024-03-16T19:48:33.537566",
   "version": "2.5.0"
  }
 },
 "nbformat": 4,
 "nbformat_minor": 5
}
