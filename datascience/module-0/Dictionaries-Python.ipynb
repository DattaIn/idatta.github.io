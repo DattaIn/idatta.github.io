{
  "cells": [
    {
      "cell_type": "markdown",
      "metadata": {
        "colab_type": "text",
        "id": "view-in-github"
      },
      "source": [
        "<a href=\"https://colab.research.google.com/github/DattaIn/idatta.github.io/blob/master/CDS_B1_M0_NB_G.ipynb\" target=\"_parent\"><img src=\"https://colab.research.google.com/assets/colab-badge.svg\" alt=\"Open In Colab\"/></a>"
      ]
    },
    {
      "cell_type": "markdown",
      "metadata": {
        "id": "sHhhvGwYXhXi"
      },
      "source": [
        "### Notebook G: Dictionaries in Python"
      ]
    },
    {
      "cell_type": "code",
      "execution_count": null,
      "metadata": {
        "id": "88RnxRrRBSJS"
      },
      "outputs": [],
      "source": [
        "#Create a dictionary\n",
        "capitals = {\"INDIA\" : \"New Delhi\", \"BA\" : \"Washington DC\", \"UK\" : \"London\" }"
      ]
    },
    {
      "cell_type": "code",
      "execution_count": null,
      "metadata": {
        "id": "Yb2GxmTRDrss"
      },
      "outputs": [],
      "source": [
        "#Retrive value of a key\n",
        "capitals[\"BA\"]"
      ]
    },
    {
      "cell_type": "code",
      "execution_count": null,
      "metadata": {
        "id": "TS1KqNtkHBq4"
      },
      "outputs": [],
      "source": [
        "#Retrive value of a key\n",
        "capitals[\"INDIA\"]"
      ]
    },
    {
      "cell_type": "code",
      "execution_count": null,
      "metadata": {
        "id": "kTkrYdB-HflQ"
      },
      "outputs": [],
      "source": [
        "#Case sensitive\n",
        "capitals[\"India\"]"
      ]
    },
    {
      "cell_type": "code",
      "execution_count": null,
      "metadata": {
        "id": "zKzS_V9gD60W"
      },
      "outputs": [],
      "source": [
        "#Length of a dictionary\n",
        "len(capitals)"
      ]
    },
    {
      "cell_type": "code",
      "execution_count": null,
      "metadata": {
        "id": "dzIM-hUJEBfQ"
      },
      "outputs": [],
      "source": [
        "#Built-in function to get the keys\n",
        "capitals.keys()"
      ]
    },
    {
      "cell_type": "code",
      "execution_count": null,
      "metadata": {
        "id": "Ib_V2aNTEQAO"
      },
      "outputs": [],
      "source": [
        "#Built-in function to get values\n",
        "capitals.values()"
      ]
    },
    {
      "cell_type": "code",
      "execution_count": null,
      "metadata": {
        "id": "OBBNljqvFWvO"
      },
      "outputs": [],
      "source": [
        "#Retrive all the key - value pairs\n",
        "capitals.items()"
      ]
    },
    {
      "cell_type": "code",
      "execution_count": null,
      "metadata": {
        "id": "kvQnx8UlFt0K"
      },
      "outputs": [],
      "source": [
        "#Adding a key - value pair\n",
        "capitals[\"UK\"] = \"\""
      ]
    },
    {
      "cell_type": "code",
      "execution_count": null,
      "metadata": {
        "id": "RIvnOM5SF51Y"
      },
      "outputs": [],
      "source": [
        "#New length of dictionary\n",
        "len(capitals)"
      ]
    },
    {
      "cell_type": "code",
      "execution_count": null,
      "metadata": {
        "id": "kQIBmjJ_F-Ru"
      },
      "outputs": [],
      "source": [
        "#Order of key-value pairs get changed\n",
        "capitals"
      ]
    },
    {
      "cell_type": "code",
      "execution_count": null,
      "metadata": {
        "id": "xmpY8CaeOT0U"
      },
      "outputs": [],
      "source": [
        "capitals[\"AFGANISTAN\"] = \"Kabul\""
      ]
    },
    {
      "cell_type": "code",
      "execution_count": null,
      "metadata": {
        "id": "jCdte-XHOd6o"
      },
      "outputs": [],
      "source": [
        "#Update an existing dictionary\n",
        "capitals[\"AFGANISTAN\"] = \"KABUL\""
      ]
    },
    {
      "cell_type": "code",
      "execution_count": null,
      "metadata": {
        "id": "2uLlL38nPIRE"
      },
      "outputs": [],
      "source": [
        "capitals"
      ]
    },
    {
      "cell_type": "code",
      "execution_count": null,
      "metadata": {
        "id": "FBW2K6khGBwm"
      },
      "outputs": [],
      "source": [
        "#Dictionaries can contain tuples\n",
        "capitals[(23,45)] = \"Number\""
      ]
    },
    {
      "cell_type": "code",
      "execution_count": null,
      "metadata": {
        "id": "TfYMEBI3LYCc"
      },
      "outputs": [],
      "source": [
        "capitals"
      ]
    },
    {
      "cell_type": "code",
      "execution_count": null,
      "metadata": {
        "id": "RjmV9Re6LYyO"
      },
      "outputs": [],
      "source": [
        "for k in capitals.keys():\n",
        "  print ( capitals[k])"
      ]
    },
    {
      "cell_type": "code",
      "execution_count": null,
      "metadata": {
        "id": "0dbkuLt-OB_A"
      },
      "outputs": [],
      "source": [
        "for k in capitals.keys():\n",
        "  print ( k , capitals[k])"
      ]
    },
    {
      "cell_type": "code",
      "execution_count": null,
      "metadata": {
        "id": "KUYGcfrWOGzM"
      },
      "outputs": [],
      "source": [
        "#Letter count\n",
        "letterCount = {}"
      ]
    },
    {
      "cell_type": "code",
      "execution_count": null,
      "metadata": {
        "id": "BbHaNYTYP3MY"
      },
      "outputs": [],
      "source": [
        "s = \"TalentSprint is a digital platform designed to transform the lives of professionals in the new economy. Its blended bootcamps offer deeptech skills.\""
      ]
    },
    {
      "cell_type": "code",
      "execution_count": null,
      "metadata": {
        "id": "hgdeGHePRAMK"
      },
      "outputs": [],
      "source": [
        "for ch in s :\n",
        "  ch = ch.lower()\n",
        "  if ch not in letterCount :\n",
        "    letterCount[ch] = 1\n",
        "  else :\n",
        "    letterCount[ch] += 1"
      ]
    },
    {
      "cell_type": "code",
      "execution_count": null,
      "metadata": {
        "id": "SYg7ARPLRkZy"
      },
      "outputs": [],
      "source": [
        "letterCount"
      ]
    },
    {
      "cell_type": "code",
      "execution_count": null,
      "metadata": {
        "id": "IbUJKNpBRu9s"
      },
      "outputs": [],
      "source": [
        "letterCount.keys()"
      ]
    }
  ],
  "metadata": {
    "colab": {
      "include_colab_link": true,
      "provenance": []
    },
    "kernelspec": {
      "display_name": "Python 3",
      "language": "python",
      "name": "python3"
    }
  },
  "nbformat": 4,
  "nbformat_minor": 0
}
