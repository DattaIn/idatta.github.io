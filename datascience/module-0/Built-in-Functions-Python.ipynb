{
  "cells": [
    {
      "cell_type": "markdown",
      "metadata": {
        "colab_type": "text",
        "id": "view-in-github"
      },
      "source": [
        "<a href=\"https://colab.research.google.com/github/DattaIn/idatta.github.io/blob/master/CDS_B1_M0_NB_E.ipynb\" target=\"_parent\"><img src=\"https://colab.research.google.com/assets/colab-badge.svg\" alt=\"Open In Colab\"/></a>"
      ]
    },
    {
      "cell_type": "markdown",
      "metadata": {
        "id": "OHweo8f5NhN0"
      },
      "source": [
        "### Notebook E: Built-in Functions in Python"
      ]
    },
    {
      "cell_type": "markdown",
      "metadata": {
        "id": "n5iT23CUNhN2"
      },
      "source": [
        "#### Aggregate Functions\n",
        "* len(iterable)\n",
        "* max(iterable)\n",
        "* min(iterable)\n",
        "* sorted(iterable[, key][, reverse])\n",
        "* sum(iterable[, start])"
      ]
    },
    {
      "cell_type": "code",
      "execution_count": null,
      "metadata": {
        "id": "b8cHr-K1NhN4"
      },
      "outputs": [],
      "source": [
        "f = [1, 1, 2, 3, 5, 8, 13, 21, 34, 55, 89]\n",
        "g = [7, 12, -4, 17, 12, 11, 0, 9, 21, 6, 13]\n",
        "print(len(f), len(g))"
      ]
    },
    {
      "cell_type": "code",
      "execution_count": null,
      "metadata": {
        "id": "wOlweV-WNhN8"
      },
      "outputs": [],
      "source": [
        "print(max(f), max(g))"
      ]
    },
    {
      "cell_type": "code",
      "execution_count": null,
      "metadata": {
        "id": "WSmPjGtpNhOA"
      },
      "outputs": [],
      "source": [
        "print(min(f), min(g))"
      ]
    },
    {
      "cell_type": "code",
      "execution_count": null,
      "metadata": {
        "id": "KFYRHHq-NhOE"
      },
      "outputs": [],
      "source": [
        "print(list(sorted(g)))"
      ]
    },
    {
      "cell_type": "code",
      "execution_count": null,
      "metadata": {
        "id": "m-Ih3xHtNhOI"
      },
      "outputs": [],
      "source": [
        "print(sum(f), sum(g))"
      ]
    },
    {
      "cell_type": "markdown",
      "metadata": {
        "id": "b55iUCSwNhOM"
      },
      "source": [
        "#### Extended Boolean\n",
        "* all(iterable)\n",
        "* any(iterable)\n",
        "\n",
        "Think of these as **and**, **or** for lists of booleans  "
      ]
    },
    {
      "cell_type": "code",
      "execution_count": null,
      "metadata": {
        "id": "b3MyLBlVNhOO"
      },
      "outputs": [],
      "source": [
        "x = [2 > 3, 5 < 7, False, \"Hello\" == \"World\"]\n",
        "print(all(x))\n",
        "print(any(x))"
      ]
    },
    {
      "cell_type": "markdown",
      "metadata": {
        "id": "RaMg-RS7NhOR"
      },
      "source": [
        "#### Mathematical\n",
        " * abs()\n",
        " * divmod(number, divideBy)\n",
        " * pow(number, exponent)\n",
        " * round(floatVal[, places])"
      ]
    },
    {
      "cell_type": "code",
      "execution_count": null,
      "metadata": {
        "id": "24R8Yn2wNhOT"
      },
      "outputs": [],
      "source": [
        "print(abs(-7))\n",
        "print(abs(3+4j))"
      ]
    },
    {
      "cell_type": "code",
      "execution_count": null,
      "metadata": {
        "id": "l7lbAJDYNhOX"
      },
      "outputs": [],
      "source": [
        "print(divmod(17, 4))\n",
        "print(divmod(-17, 4))"
      ]
    },
    {
      "cell_type": "code",
      "execution_count": null,
      "metadata": {
        "id": "gybj1c5fNhOe"
      },
      "outputs": [],
      "source": [
        "print(pow(3, 4))\n",
        "print(pow(3.2, 4))\n",
        "print(pow(4.3, -2.5))"
      ]
    },
    {
      "cell_type": "code",
      "execution_count": null,
      "metadata": {
        "id": "Yhd-oh1BNhOn"
      },
      "outputs": [],
      "source": [
        "print(round(12.3/4.5, 2))\n",
        "print(round(12.3/4.5))"
      ]
    },
    {
      "cell_type": "markdown",
      "metadata": {
        "id": "OAhppKNQNhOt"
      },
      "source": [
        "#### Constructors and Converters\n",
        " * ascii()\n",
        " * bin()\n",
        " * bool()\n",
        " * chr()\n",
        " * complex()\n",
        " * float()\n",
        " * hex()\n",
        " * int()\n",
        " * list()\n",
        " * oct()\n",
        " * ord()\n",
        " * set()\n",
        " * str()\n",
        " * tuple()"
      ]
    },
    {
      "cell_type": "markdown",
      "metadata": {
        "id": "YJ4KO74gNhOy"
      },
      "source": [
        "#### Functional, Higher Order\n",
        "* filter\n",
        "* map\n",
        "* zip"
      ]
    },
    {
      "cell_type": "code",
      "execution_count": null,
      "metadata": {
        "id": "ffQZb04vNhO1"
      },
      "outputs": [],
      "source": [
        "f = [ 1,  1,  2,  3,  5,  8, 13, 21, 34, 55, 89]\n",
        "p = [ 2,  3,  5,  7, 11, 13, 17, 19, 23, 29, 31]"
      ]
    },
    {
      "cell_type": "code",
      "execution_count": null,
      "metadata": {
        "id": "LypLgvS2NhO7"
      },
      "outputs": [],
      "source": [
        "def square(n):\n",
        "    return n * n\n",
        "def isEven(n):\n",
        "    return n % 2 == 0\n",
        "def isPowerOf2(n):\n",
        "    if n == 1:\n",
        "        return True\n",
        "    if n % 2 == 1:\n",
        "        return False\n",
        "    return isPowerOf2(n//2)"
      ]
    },
    {
      "cell_type": "code",
      "execution_count": null,
      "metadata": {
        "id": "M5L0KOu3NhPB"
      },
      "outputs": [],
      "source": [
        "print(list(filter(isEven, f)))\n",
        "print(list(filter(isEven, p)))\n",
        "print(list(filter(isPowerOf2, f)))"
      ]
    },
    {
      "cell_type": "code",
      "execution_count": null,
      "metadata": {
        "id": "RCTLWreGNhPH"
      },
      "outputs": [],
      "source": [
        "print(list(map(square,f)))\n",
        "print(list(map(square, filter(isEven, f))))\n"
      ]
    },
    {
      "cell_type": "code",
      "execution_count": null,
      "metadata": {
        "id": "OnyjYcN4NhPL"
      },
      "outputs": [],
      "source": [
        "print(list(zip(f, p)))"
      ]
    },
    {
      "cell_type": "code",
      "execution_count": null,
      "metadata": {
        "id": "gMhT9zlhNhPO"
      },
      "outputs": [],
      "source": [
        "grading = [\"Test\", \"Quiz\", \"Individual Lab\", \"Group Lab\", \"Hackathon\"]\n",
        "grades = [300, 60, 120, 60, 120]\n",
        "print(list(zip(grading, grades)))\n"
      ]
    }
  ],
  "metadata": {
    "colab": {
      "include_colab_link": true,
      "provenance": []
    },
    "kernelspec": {
      "display_name": "Python 3",
      "language": "python",
      "name": "python3"
    }
  },
  "nbformat": 4,
  "nbformat_minor": 0
}
