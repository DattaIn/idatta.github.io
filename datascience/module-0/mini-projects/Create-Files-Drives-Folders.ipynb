{
  "nbformat": 4,
  "nbformat_minor": 0,
  "metadata": {
    "colab": {
      "provenance": [],
      "mount_file_id": "1RdIbD5MRuuJLaXCvlPycE4VjKfnm2DPJ",
      "authorship_tag": "ABX9TyMSHjEEWIG8qYPZd1dKFz3Z",
      "include_colab_link": true
    },
    "kernelspec": {
      "name": "python3",
      "display_name": "Python 3"
    }
  },
  "cells": [
    {
      "cell_type": "markdown",
      "metadata": {
        "id": "view-in-github",
        "colab_type": "text"
      },
      "source": [
        "<a href=\"https://colab.research.google.com/github/DattaIn/idatta.github.io/blob/master/IISc_CDS_00.ipynb\" target=\"_parent\"><img src=\"https://colab.research.google.com/assets/colab-badge.svg\" alt=\"Open In Colab\"/></a>"
      ]
    },
    {
      "cell_type": "code",
      "metadata": {
        "id": "odhSjG93ZK3C",
        "colab": {
          "base_uri": "https://localhost:8080/"
        },
        "outputId": "aba44f3f-4f59-4ebd-ef07-538eefb2cb35"
      },
      "source": [
        "!cd indranil"
      ],
      "execution_count": 1,
      "outputs": [
        {
          "output_type": "stream",
          "name": "stdout",
          "text": [
            "/bin/bash: line 1: cd: indranil: No such file or directory\n"
          ]
        }
      ]
    },
    {
      "cell_type": "markdown",
      "metadata": {
        "id": "OM4EoAxr7ssA"
      },
      "source": [
        "# New Section"
      ]
    },
    {
      "cell_type": "markdown",
      "metadata": {
        "id": "QarkcEj28K-N"
      },
      "source": [
        "$phi(x)\\theta(x)$\n"
      ]
    },
    {
      "cell_type": "code",
      "metadata": {
        "id": "8cWNtH148nOj"
      },
      "source": [
        "!cd drive/MyDrive/IISc\\ Advanced\\ Analytics/test"
      ],
      "execution_count": 2,
      "outputs": []
    },
    {
      "cell_type": "code",
      "metadata": {
        "colab": {
          "base_uri": "https://localhost:8080/"
        },
        "id": "Wk_DKNdB9B4y",
        "outputId": "ffa627ad-628e-445e-82ed-5cf0b0b750ce"
      },
      "source": [
        "!pwd"
      ],
      "execution_count": 3,
      "outputs": [
        {
          "output_type": "stream",
          "name": "stdout",
          "text": [
            "/content\n"
          ]
        }
      ]
    },
    {
      "cell_type": "code",
      "metadata": {
        "id": "3hGsXe7fAU3g"
      },
      "source": [
        "mkdir testing"
      ],
      "execution_count": 4,
      "outputs": []
    },
    {
      "cell_type": "code",
      "metadata": {
        "colab": {
          "base_uri": "https://localhost:8080/"
        },
        "id": "cZU-tDTtAaYN",
        "outputId": "ec5fcfa3-90f2-476e-b3f8-7cfe213de0b6"
      },
      "source": [
        "!pwd"
      ],
      "execution_count": 5,
      "outputs": [
        {
          "output_type": "stream",
          "name": "stdout",
          "text": [
            "/content\n"
          ]
        }
      ]
    },
    {
      "cell_type": "code",
      "metadata": {
        "id": "Xbc7VoWJAdXQ"
      },
      "source": [
        "!cd testing"
      ],
      "execution_count": 6,
      "outputs": []
    },
    {
      "cell_type": "code",
      "metadata": {
        "id": "IeLoSkanAiDW"
      },
      "source": [
        "file = open('success.py', 'w')\n",
        "file.write('whatever')\n",
        "file.close()"
      ],
      "execution_count": 7,
      "outputs": []
    }
  ]
}