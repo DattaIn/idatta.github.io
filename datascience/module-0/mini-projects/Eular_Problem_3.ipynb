{
  "cells": [
    {
      "cell_type": "markdown",
      "metadata": {
        "colab_type": "text",
        "id": "view-in-github"
      },
      "source": [
        "<a href=\"https://colab.research.google.com/github/DattaIn/idatta.github.io/blob/master/CDS_B1_M0_NB03.ipynb\" target=\"_parent\"><img src=\"https://colab.research.google.com/assets/colab-badge.svg\" alt=\"Open In Colab\"/></a>"
      ]
    },
    {
      "cell_type": "markdown",
      "metadata": {
        "id": "EYYnv8uFBhuN"
      },
      "source": [
        "### Notebook 03: Project Euler Problem 3"
      ]
    },
    {
      "cell_type": "markdown",
      "metadata": {
        "id": "eEFQilYEBhuc"
      },
      "source": [
        "## Problem Statement\n",
        "\n",
        "The prime factors of 13195 are 5, 7, 13 and 29.\n",
        "\n",
        "What is the largest prime factor of the number 600851475143?"
      ]
    },
    {
      "cell_type": "markdown",
      "metadata": {
        "id": "qjll5QDGBhud"
      },
      "source": [
        "#### Using a function to check primality"
      ]
    },
    {
      "cell_type": "code",
      "execution_count": null,
      "metadata": {
        "id": "0dXxW-dABhue"
      },
      "outputs": [],
      "source": [
        "def isPrime(n):\n",
        "    if n == 2 or n == 3:\n",
        "        return True\n",
        "    if n % 2 == 0:\n",
        "        return False\n",
        "    r = 3\n",
        "    while r * r <= n:\n",
        "        if n % r == 0:\n",
        "            return False\n",
        "        r += 2\n",
        "    return True"
      ]
    },
    {
      "cell_type": "code",
      "execution_count": null,
      "metadata": {
        "id": "gwYfXU-yBhuf"
      },
      "outputs": [],
      "source": [
        "isPrime(2), isPrime(7), isPrime(781), isPrime(169)"
      ]
    },
    {
      "cell_type": "code",
      "execution_count": null,
      "metadata": {
        "id": "T4MzGJl9Bhug"
      },
      "outputs": [],
      "source": [
        "N = 600851475143"
      ]
    },
    {
      "cell_type": "code",
      "execution_count": null,
      "metadata": {
        "id": "E45qmsMoBhuh"
      },
      "outputs": [],
      "source": [
        "def factorize(n):\n",
        "    factor = 2\n",
        "    factors = []\n",
        "    while n > 2:\n",
        "        while n % factor == 0:\n",
        "            factors.append(factor)\n",
        "            n //= factor\n",
        "        factor += 1\n",
        "    return factors"
      ]
    },
    {
      "cell_type": "code",
      "execution_count": null,
      "metadata": {
        "id": "zcpJPJa_Bhui"
      },
      "outputs": [],
      "source": [
        "factorize(128)"
      ]
    },
    {
      "cell_type": "code",
      "execution_count": null,
      "metadata": {
        "id": "eXc4RkZKBhuj"
      },
      "outputs": [],
      "source": [
        "factorize(192)"
      ]
    },
    {
      "cell_type": "code",
      "execution_count": null,
      "metadata": {
        "id": "uvg4Z1lABhuj"
      },
      "outputs": [],
      "source": [
        "factorize(17)"
      ]
    },
    {
      "cell_type": "code",
      "execution_count": null,
      "metadata": {
        "id": "0brP0cjPBhuk"
      },
      "outputs": [],
      "source": [
        "factorize(N)"
      ]
    },
    {
      "cell_type": "code",
      "execution_count": null,
      "metadata": {
        "id": "3s7kc8elBhuk"
      },
      "outputs": [],
      "source": [
        "max(factorize(N))"
      ]
    }
  ],
  "metadata": {
    "colab": {
      "include_colab_link": true,
      "provenance": []
    },
    "kernelspec": {
      "display_name": "Python 3",
      "language": "python",
      "name": "python3"
    },
    "language_info": {
      "codemirror_mode": {
        "name": "ipython",
        "version": 3
      },
      "file_extension": ".py",
      "mimetype": "text/x-python",
      "name": "python",
      "nbconvert_exporter": "python",
      "pygments_lexer": "ipython3",
      "version": "3.5.2"
    }
  },
  "nbformat": 4,
  "nbformat_minor": 0
}
