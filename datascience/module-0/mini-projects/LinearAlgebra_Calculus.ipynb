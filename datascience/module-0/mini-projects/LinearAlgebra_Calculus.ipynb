{
  "cells": [
    {
      "cell_type": "markdown",
      "metadata": {
        "colab_type": "text",
        "id": "view-in-github"
      },
      "source": [
        "<a href=\"https://colab.research.google.com/github/DattaIn/idatta.github.io/blob/master/CDS_B1_M0_NB_Inclass_04_LinearAlgebra_Calculus.ipynb\" target=\"_parent\"><img src=\"https://colab.research.google.com/assets/colab-badge.svg\" alt=\"Open In Colab\"/></a>"
      ]
    },
    {
      "cell_type": "markdown",
      "metadata": {
        "id": "aUUu9l_JfJ92"
      },
      "source": [
        "### Notebook Inclass 4: Linear Algebra & Calculus\n"
      ]
    },
    {
      "cell_type": "markdown",
      "metadata": {
        "id": "nljJR6CwfZN_"
      },
      "source": [
        "## Learning Objectives\n",
        "\n",
        "At the end of the experiment, you will be able to :\n",
        "\n",
        "* perform scalar and matrix addition, subtraction, multiplication, and division operations\n",
        "* implement derivative functions using SymPy library\n",
        "\n"
      ]
    },
    {
      "cell_type": "markdown",
      "metadata": {
        "id": "TDW27BFbpYVB"
      },
      "source": [
        "### Importing required packages"
      ]
    },
    {
      "cell_type": "code",
      "execution_count": 1,
      "metadata": {
        "id": "Tx4KgnzIpXsW"
      },
      "outputs": [],
      "source": [
        "import numpy as np\n",
        "from matplotlib import pyplot as plt"
      ]
    },
    {
      "cell_type": "markdown",
      "metadata": {
        "id": "ZdaWiNmxSk2f"
      },
      "source": [
        "### Creating arrays, scalars, and matrices in Python"
      ]
    },
    {
      "cell_type": "code",
      "execution_count": 2,
      "metadata": {
        "colab": {
          "base_uri": "https://localhost:8080/"
        },
        "id": "STD9b3deSoVL",
        "outputId": "f7a579d0-4d51-4a10-a8f8-e08040fff69c"
      },
      "outputs": [
        {
          "name": "stdout",
          "output_type": "stream",
          "text": [
            "0.5\n"
          ]
        }
      ],
      "source": [
        "# creating a scalar\n",
        "x = .5\n",
        "print(x)"
      ]
    },
    {
      "cell_type": "code",
      "execution_count": 3,
      "metadata": {
        "colab": {
          "base_uri": "https://localhost:8080/"
        },
        "id": "9Ji0u0jXVKpc",
        "outputId": "3baf7d55-02c4-468e-dff4-9b3af48c6f43"
      },
      "outputs": [
        {
          "name": "stdout",
          "output_type": "stream",
          "text": [
            "[1 2 3]\n",
            "[6 7 8]\n"
          ]
        }
      ],
      "source": [
        "# Creating a vector\n",
        "vec = [1, 2, 3]\n",
        "x_vector = np.array(vec)\n",
        "print(x_vector)\n",
        "\n",
        "y_vector = np.array([6, 7, 8])\n",
        "print(y_vector)"
      ]
    },
    {
      "cell_type": "code",
      "execution_count": 4,
      "metadata": {
        "colab": {
          "base_uri": "https://localhost:8080/"
        },
        "id": "Ap3it1kkVcaY",
        "outputId": "e5573f8f-1308-4e60-8db8-27ea0e36b138"
      },
      "outputs": [
        {
          "name": "stdout",
          "output_type": "stream",
          "text": [
            "matrix 1 [[1 6]\n",
            " [2 7]\n",
            " [3 8]]\n",
            "\n",
            " maxtrix 2 [[12 13 14]\n",
            " [11 15 16]]\n"
          ]
        }
      ],
      "source": [
        "# Creating a matrix\n",
        "matrix1 = np.array(list(zip(x_vector,y_vector)))\n",
        "print(\"matrix 1\",matrix1)\n",
        "\n",
        "matrix2 = np.array([[12, 13, 14],[11, 15, 16]])\n",
        "print(\"\\n maxtrix 2\",matrix2)"
      ]
    },
    {
      "cell_type": "markdown",
      "metadata": {
        "id": "qRjC9UkLV9JK"
      },
      "source": [
        "### Matrix operations"
      ]
    },
    {
      "cell_type": "markdown",
      "metadata": {
        "id": "dJ0EAZQE0IBj"
      },
      "source": [
        "#### Matrix Addition and Subtraction"
      ]
    },
    {
      "cell_type": "code",
      "execution_count": 5,
      "metadata": {
        "colab": {
          "base_uri": "https://localhost:8080/"
        },
        "id": "E4R8hzTY0IBk",
        "outputId": "7aed6928-a454-422a-97bc-7d75504ee18d"
      },
      "outputs": [
        {
          "name": "stdout",
          "output_type": "stream",
          "text": [
            "[[1 6]\n",
            " [2 7]\n",
            " [3 8]]\n",
            "[[ 4  9]\n",
            " [ 5 10]\n",
            " [ 6 11]]\n"
          ]
        }
      ],
      "source": [
        "print(matrix1)\n",
        "print(3 + matrix1)"
      ]
    },
    {
      "cell_type": "code",
      "execution_count": 6,
      "metadata": {
        "colab": {
          "base_uri": "https://localhost:8080/"
        },
        "id": "s5hcH-ax0IBm",
        "outputId": "417dd476-44aa-4f96-82da-d031a7d9d2ae"
      },
      "outputs": [
        {
          "name": "stdout",
          "output_type": "stream",
          "text": [
            "[[13 17]\n",
            " [15 22]\n",
            " [17 24]]\n",
            "\n",
            " [[-11  -5]\n",
            " [-11  -8]\n",
            " [-11  -8]]\n"
          ]
        }
      ],
      "source": [
        "# matrix2 is transposed to match the shape\n",
        "add_matrix = matrix1 + matrix2.T\n",
        "print(add_matrix)\n",
        "\n",
        "sub_matrix = matrix1 - matrix2.T\n",
        "print(\"\\n\",sub_matrix)"
      ]
    },
    {
      "cell_type": "markdown",
      "metadata": {
        "id": "qGy3yyhJ0IBn"
      },
      "source": [
        "#### Multiplication and Inverse of a matrix"
      ]
    },
    {
      "cell_type": "code",
      "execution_count": 7,
      "metadata": {
        "colab": {
          "base_uri": "https://localhost:8080/"
        },
        "id": "nXeu6Upk0IBo",
        "outputId": "563e3b4e-bad8-4202-8ce5-4227dde0802a"
      },
      "outputs": [
        {
          "data": {
            "text/plain": [
              "array([[ 78, 103, 110],\n",
              "       [101, 131, 140],\n",
              "       [124, 159, 170]])"
            ]
          },
          "execution_count": 7,
          "metadata": {},
          "output_type": "execute_result"
        }
      ],
      "source": [
        "# matrix multiplication\n",
        "matrix1 @ matrix2"
      ]
    },
    {
      "cell_type": "markdown",
      "metadata": {
        "id": "_D5M4Gyo0IBp"
      },
      "source": [
        "**Inverse of a matrix**:  \n",
        "\n",
        "if a matrix A = $\\begin{bmatrix} a & b\\\\ c & d \\end{bmatrix}$ then $A^{-1}$ =  $\\begin{bmatrix} a & b\\\\ c & d \\end{bmatrix}^{-1}$ = $\\frac{1}{det A}$ $\\begin{bmatrix} d & -b\\\\ c & a \\end{bmatrix}$ = $\\frac{1}{ad-bc}$ $\\begin{bmatrix} d & -b\\\\ c & a \\end{bmatrix}$\n",
        "\n",
        "If $det A$ is equal to zero, the inverse of A does not exist."
      ]
    },
    {
      "cell_type": "code",
      "execution_count": 8,
      "metadata": {
        "colab": {
          "base_uri": "https://localhost:8080/"
        },
        "id": "406HWCL70IBq",
        "outputId": "65357235-8d2b-42bc-9889-969dc3323835"
      },
      "outputs": [
        {
          "name": "stdout",
          "output_type": "stream",
          "text": [
            "[[1 2]\n",
            " [3 4]]\n",
            "\n",
            " [[-2.   1. ]\n",
            " [ 1.5 -0.5]]\n"
          ]
        }
      ],
      "source": [
        "A = np.array([[1,2],[3,4]])\n",
        "print(A)\n",
        "A_inverse = np.linalg.inv(A)\n",
        "print(\"\\n\",A_inverse)"
      ]
    },
    {
      "cell_type": "markdown",
      "metadata": {
        "id": "di5fhqxo0IBr"
      },
      "source": [
        "Let's compute $2I - 4B + AB$ for $A$ = $\\begin{bmatrix} 1 & 2\\\\ 3 & 7 \\end{bmatrix}$,  $B$ = $\\begin{bmatrix} 6 & 4 \\\\ 1 & 2 \\end{bmatrix}$ $I$ is the identity matrix of size 2"
      ]
    },
    {
      "cell_type": "code",
      "execution_count": 9,
      "metadata": {
        "colab": {
          "base_uri": "https://localhost:8080/"
        },
        "id": "UNSMBkwm0IBs",
        "outputId": "9e7b9255-853c-476b-9ef6-35ebb6666b7d"
      },
      "outputs": [
        {
          "data": {
            "text/plain": [
              "array([[-14.,  -8.],\n",
              "       [ 21.,  20.]])"
            ]
          },
          "execution_count": 9,
          "metadata": {},
          "output_type": "execute_result"
        }
      ],
      "source": [
        "A = np.array([[1, 2], [3, 7]])\n",
        "B = np.array([[6, 4], [1, 2]])\n",
        "\n",
        "# Identity matrix\n",
        "I = np.eye(2)\n",
        "\n",
        "2 * I - 4 * B + A@B"
      ]
    },
    {
      "cell_type": "markdown",
      "metadata": {
        "id": "FNex4LdcOyrW"
      },
      "source": [
        "#### Solve a set of linear equations\n",
        "\n",
        "$ 4X + 3Y + 2Z = 25 $\n",
        "\n",
        "$ -2X + 2Y + 3Z = -10 $\n",
        "\n",
        "$ 3X - 5Y + 2Z = -4 $"
      ]
    },
    {
      "cell_type": "code",
      "execution_count": null,
      "metadata": {
        "id": "XcyrEQ0oOvZg"
      },
      "outputs": [],
      "source": [
        "A1 = np.array([[4, 3, 2], [-2, 2, 3], [3, -5, 2]])\n",
        "B1 = np.array([25, -10, -4])\n",
        "X2 = np.linalg.solve(A1,B1)\n",
        "\n",
        "print(X2)"
      ]
    },
    {
      "cell_type": "code",
      "execution_count": 11,
      "metadata": {
        "colab": {
          "base_uri": "https://localhost:8080/"
        },
        "id": "jjcvQotNPurH",
        "outputId": "5d68b7f5-ecbb-4e26-cb11-fa44c4bb6376"
      },
      "outputs": [
        {
          "data": {
            "text/plain": [
              "True"
            ]
          },
          "execution_count": 11,
          "metadata": {},
          "output_type": "execute_result"
        }
      ],
      "source": [
        "# Check that the solution is correct\n",
        "np.allclose(np.dot(A1, X2), B1)"
      ]
    },
    {
      "cell_type": "markdown",
      "metadata": {
        "id": "wFawhaaA0IBt"
      },
      "source": [
        "#### Matrix Power\n",
        "\n",
        "Matrix power of 2 is multiplication of a matrix 2 times it self; For eg, $A^2$  = $A*A$\n",
        "\n",
        "`numpy.linalg` has a function `matrix_power`"
      ]
    },
    {
      "cell_type": "code",
      "execution_count": 12,
      "metadata": {
        "colab": {
          "base_uri": "https://localhost:8080/"
        },
        "id": "RWLhCEio0IBu",
        "outputId": "19bd0aef-b1a6-4706-8a70-363a7f960948"
      },
      "outputs": [
        {
          "name": "stdout",
          "output_type": "stream",
          "text": [
            "[[1 2]\n",
            " [3 7]]\n",
            "Matrix power of 2 is\n",
            " [[ 7 16]\n",
            " [24 55]]\n",
            "[[ 7 16]\n",
            " [24 55]]\n"
          ]
        }
      ],
      "source": [
        "from numpy.linalg import matrix_power as mpow\n",
        "\n",
        "print(A)\n",
        "print(\"Matrix power of 2 is\\n\",mpow(A,2))\n",
        "print(A@A)"
      ]
    },
    {
      "cell_type": "markdown",
      "metadata": {
        "id": "OB4zPYCr0IBu"
      },
      "source": [
        "#### Determinant and Trace of a matrix\n",
        "\n",
        "Trace is the sum of diagonal elements of a matrix\n",
        "\n",
        "We find the determinant using the function `scipy.linalg.det`"
      ]
    },
    {
      "cell_type": "code",
      "execution_count": 13,
      "metadata": {
        "colab": {
          "base_uri": "https://localhost:8080/"
        },
        "id": "Z4-iGAGI0IBv",
        "outputId": "815da1a2-c4be-4e62-ff4c-8d58013829f0"
      },
      "outputs": [
        {
          "name": "stdout",
          "output_type": "stream",
          "text": [
            "Trace of a matrix A is  8\n",
            "Determinant of a matrix 1.0\n"
          ]
        }
      ],
      "source": [
        "import scipy.linalg as la\n",
        "print(\"Trace of a matrix A is \",np.trace(A))\n",
        "print(\"Determinant of a matrix\", la.det(A))"
      ]
    },
    {
      "cell_type": "markdown",
      "metadata": {
        "id": "Iywu9CEK0IBv"
      },
      "source": [
        "### Eigen values and Eigen vectors"
      ]
    },
    {
      "cell_type": "markdown",
      "metadata": {
        "id": "6kOgByUg0IBw"
      },
      "source": [
        "Let A be a square matrix. A non-zero vector v is an eigenvector for A with eigenvalue $\\lambda$ if Av = $\\lambda$v\n",
        "\n",
        "Rearranging the equation, (A- $\\lambda I$)v = 0, where I is the identity matrix"
      ]
    },
    {
      "cell_type": "code",
      "execution_count": 14,
      "metadata": {
        "colab": {
          "base_uri": "https://localhost:8080/"
        },
        "id": "2hLKRAT50IBw",
        "outputId": "81580329-efcc-40df-ffd4-6a9e1cdccd56"
      },
      "outputs": [
        {
          "name": "stdout",
          "output_type": "stream",
          "text": [
            "[0.12701665+0.j 7.87298335+0.j]\n",
            "[[-0.91649636 -0.2794051 ]\n",
            " [ 0.40004303 -0.96017331]]\n"
          ]
        }
      ],
      "source": [
        "eigvals, eigvecs = la.eig(A)\n",
        "print(eigvals)\n",
        "print(eigvecs)"
      ]
    },
    {
      "cell_type": "markdown",
      "metadata": {
        "id": "u8toAwMi0IBw"
      },
      "source": [
        "### The Derivative of a Single Variable Functions\n",
        "\n",
        "The derivative of a function is the rate of change of the function which can be calculated using the ratio of change of the function Δy to the change of the independent variable Δx.\n",
        "\n",
        "$f(x) = x^n \\rightarrow f{}'(x) = nx^{n-1}$"
      ]
    },
    {
      "cell_type": "code",
      "execution_count": 15,
      "metadata": {
        "colab": {
          "base_uri": "https://localhost:8080/",
          "height": 38
        },
        "id": "4bE_VNEv0IBx",
        "outputId": "2088c84b-be40-4afc-9640-c1d71ef9c78b"
      },
      "outputs": [
        {
          "data": {
            "text/latex": [
              "$\\displaystyle 5 x^{4}$"
            ],
            "text/plain": [
              "5*x**4"
            ]
          },
          "execution_count": 15,
          "metadata": {},
          "output_type": "execute_result"
        }
      ],
      "source": [
        "import sympy as sp\n",
        "x = sp.Symbol('x')\n",
        "\n",
        "# Power rule\n",
        "func = x**5\n",
        "sp.diff(func)"
      ]
    },
    {
      "cell_type": "code",
      "execution_count": 16,
      "metadata": {
        "colab": {
          "base_uri": "https://localhost:8080/",
          "height": 38
        },
        "id": "25-bSo1i0IBy",
        "outputId": "43060527-ab0a-433a-9991-1e293de09c13"
      },
      "outputs": [
        {
          "data": {
            "text/latex": [
              "$\\displaystyle 2 x \\cos{\\left(x \\right)} - \\left(x^{2} + 1\\right) \\sin{\\left(x \\right)}$"
            ],
            "text/plain": [
              "2*x*cos(x) - (x**2 + 1)*sin(x)"
            ]
          },
          "execution_count": 16,
          "metadata": {},
          "output_type": "execute_result"
        }
      ],
      "source": [
        "# Product rule\n",
        "func1 = (x**2 + 1) * sp.cos(x)\n",
        "sp.diff(func1)"
      ]
    },
    {
      "cell_type": "code",
      "execution_count": 17,
      "metadata": {
        "colab": {
          "base_uri": "https://localhost:8080/",
          "height": 41
        },
        "id": "i-1DuwTA0IBy",
        "outputId": "d84d4666-3edd-4d49-8d99-2f99946c2bbe"
      },
      "outputs": [
        {
          "data": {
            "text/latex": [
              "$\\displaystyle \\left(6 x - 6\\right) \\left(x^{2} - 2 x + 6\\right)^{2}$"
            ],
            "text/plain": [
              "(6*x - 6)*(x**2 - 2*x + 6)**2"
            ]
          },
          "execution_count": 17,
          "metadata": {},
          "output_type": "execute_result"
        }
      ],
      "source": [
        "# Chain rule\n",
        "sp.diff( (x**2 - 2 *x + 6)** 3)"
      ]
    },
    {
      "cell_type": "markdown",
      "metadata": {
        "id": "K7qf4aTz0IBy"
      },
      "source": [
        "### The Derivative of multi variable functions"
      ]
    },
    {
      "cell_type": "code",
      "execution_count": 18,
      "metadata": {
        "id": "m10-gtL40IBz"
      },
      "outputs": [],
      "source": [
        "x, y, z = sp.symbols('x y z')\n",
        "\n",
        "f = x**3 + 2 * x**2 * y + 2 * x * z\n",
        "deriv_f = sp.diff(f,x)"
      ]
    },
    {
      "cell_type": "markdown",
      "metadata": {
        "id": "v52_RNcy0IBz"
      },
      "source": [
        "Above are equations and their derivatives without numerical values,  To add numerical implementation to function use `sympy.lambdify`."
      ]
    },
    {
      "cell_type": "code",
      "execution_count": 19,
      "metadata": {
        "colab": {
          "base_uri": "https://localhost:8080/",
          "height": 38
        },
        "id": "NkDS4o-60IBz",
        "outputId": "200531b0-9fbe-4940-c8f4-a40d36716798"
      },
      "outputs": [
        {
          "data": {
            "text/latex": [
              "$\\displaystyle 8 y + 2 z + 12$"
            ],
            "text/plain": [
              "8*y + 2*z + 12"
            ]
          },
          "execution_count": 19,
          "metadata": {},
          "output_type": "execute_result"
        }
      ],
      "source": [
        "f1 =  sp.lambdify(x, deriv_f)\n",
        "f1(2)"
      ]
    },
    {
      "cell_type": "markdown",
      "metadata": {
        "id": "Atx8ge1Y0p13"
      },
      "source": [
        "### Limit Function\n",
        "\n",
        "SymPy can compute symbolic limits with the limit function.\n",
        "\n",
        "The syntax to compute $ \\lim_{x \\to x_0} f(x) $ is `sympy.limit(f(x), x, x0)`"
      ]
    },
    {
      "cell_type": "code",
      "execution_count": 20,
      "metadata": {
        "colab": {
          "base_uri": "https://localhost:8080/",
          "height": 37
        },
        "id": "6o_ZY3AJ0IB0",
        "outputId": "94e9eb4d-4429-4e6f-d09a-7881484fd3b9"
      },
      "outputs": [
        {
          "data": {
            "text/latex": [
              "$\\displaystyle 1$"
            ],
            "text/plain": [
              "1"
            ]
          },
          "execution_count": 20,
          "metadata": {},
          "output_type": "execute_result"
        }
      ],
      "source": [
        "x = sp.Symbol('x')\n",
        "\n",
        "sp.limit(sp.sin(x) / x , x, 0)"
      ]
    }
  ],
  "metadata": {
    "colab": {
      "include_colab_link": true,
      "provenance": []
    },
    "kernelspec": {
      "display_name": "Python 3",
      "language": "python",
      "name": "python3"
    },
    "language_info": {
      "codemirror_mode": {
        "name": "ipython",
        "version": 3
      },
      "file_extension": ".py",
      "mimetype": "text/x-python",
      "name": "python",
      "nbconvert_exporter": "python",
      "pygments_lexer": "ipython3",
      "version": "3.6.7rc1"
    }
  },
  "nbformat": 4,
  "nbformat_minor": 0
}
