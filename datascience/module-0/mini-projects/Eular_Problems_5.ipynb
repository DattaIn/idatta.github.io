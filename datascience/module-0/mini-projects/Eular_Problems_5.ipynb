{
  "cells": [
    {
      "cell_type": "markdown",
      "metadata": {
        "colab_type": "text",
        "id": "view-in-github"
      },
      "source": [
        "<a href=\"https://colab.research.google.com/github/DattaIn/idatta.github.io/blob/master/CDS_B1_M0_NB05.ipynb\" target=\"_parent\"><img src=\"https://colab.research.google.com/assets/colab-badge.svg\" alt=\"Open In Colab\"/></a>"
      ]
    },
    {
      "cell_type": "markdown",
      "metadata": {
        "id": "3Ne9ZV-NBlAm"
      },
      "source": [
        "### Notebook 5: Project Euler Problem 5"
      ]
    },
    {
      "cell_type": "markdown",
      "metadata": {
        "id": "hHpHvDixBlAs"
      },
      "source": [
        "## Problem Statement\n",
        "\n",
        "2520 is the smallest number that can be divided by each of the numbers from 1 to 10 without any remainder.\n",
        "\n",
        "What is the smallest positive number that is evenly divisible by all of the numbers from 11 to 20?"
      ]
    },
    {
      "cell_type": "markdown",
      "metadata": {
        "id": "yssTLvHBBlAt"
      },
      "source": [
        "#### Brute force"
      ]
    },
    {
      "cell_type": "code",
      "execution_count": null,
      "metadata": {
        "id": "0zeSCQAVBlAu"
      },
      "outputs": [],
      "source": [
        "## One of the WORST ideas\n",
        "## WILL take quite a bit of time\n",
        "def divisible_11to20(n):\n",
        "    '''Checks if the given number is divisible by all numbers\n",
        "    between 11 and 20, both included'''\n",
        "    for div in range(11, 21):\n",
        "        if n % div != 0:\n",
        "            return False\n",
        "    return True\n",
        "START = 2520 ## Given in problem; so answer must be > START\n",
        "\n",
        "p = START\n",
        "while not divisible_11to20(p):\n",
        "    p += 1\n",
        "print(p)"
      ]
    },
    {
      "cell_type": "code",
      "execution_count": null,
      "metadata": {
        "id": "S_Y-vPDtBlAv"
      },
      "outputs": [],
      "source": [
        "## Recognise we are looking for lcm\n",
        "def lcm2(a, b):\n",
        "    import math\n",
        "    return a * b // math.gcd(a, b)"
      ]
    },
    {
      "cell_type": "code",
      "execution_count": null,
      "metadata": {
        "id": "g6P69BIeBlAw"
      },
      "outputs": [],
      "source": [
        "lcm2(11, 10)"
      ]
    },
    {
      "cell_type": "code",
      "execution_count": null,
      "metadata": {
        "id": "gv9eGuEFBlAx"
      },
      "outputs": [],
      "source": [
        "lcm2(26, 65)"
      ]
    },
    {
      "cell_type": "code",
      "execution_count": null,
      "metadata": {
        "id": "N0yAW8pABlAy"
      },
      "outputs": [],
      "source": [
        "### Loop over 11 to 20 finding the new lcm\n",
        "sofar = 2520\n",
        "for n in range(11, 21):\n",
        "    sofar = lcm2(sofar, n)\n",
        "print(sofar)"
      ]
    },
    {
      "cell_type": "code",
      "execution_count": null,
      "metadata": {
        "id": "xTENVJCjBlAz"
      },
      "outputs": [],
      "source": [
        "def lcm(many):\n",
        "    '''Finds the lcm of a list of numbers'''\n",
        "    answer = many[0]\n",
        "    for n in many[1:]:\n",
        "        answer = lcm2(answer, n)\n",
        "    return answer"
      ]
    },
    {
      "cell_type": "code",
      "execution_count": null,
      "metadata": {
        "id": "YDrsmB8qBlA0"
      },
      "outputs": [],
      "source": [
        "lcm(range(1, 10))"
      ]
    },
    {
      "cell_type": "code",
      "execution_count": null,
      "metadata": {
        "id": "DpqMNYTZBlA0"
      },
      "outputs": [],
      "source": [
        "print(lcm2(2520, lcm(range(11, 21))))"
      ]
    },
    {
      "cell_type": "markdown",
      "metadata": {
        "id": "ksO6LDadBlA1"
      },
      "source": [
        "#### Recursive lcm"
      ]
    },
    {
      "cell_type": "code",
      "execution_count": null,
      "metadata": {
        "id": "wRvo0eN1BlA2"
      },
      "outputs": [],
      "source": [
        "\n",
        "def lcmr(many):\n",
        "    if len(many) == 1:\n",
        "        return many[0]\n",
        "    if len(many) == 2:\n",
        "        return lcm2(many[0], many[1])\n",
        "    return lcm2(lcm2(many[0], many[1]), lcmr(many[2:]))"
      ]
    },
    {
      "cell_type": "code",
      "execution_count": null,
      "metadata": {
        "id": "RA1LpR8VBlA2"
      },
      "outputs": [],
      "source": [
        "lcmr(range(1, 10))"
      ]
    },
    {
      "cell_type": "code",
      "execution_count": null,
      "metadata": {
        "id": "WPcgFuKLBlA3"
      },
      "outputs": [],
      "source": [
        "print(lcmr(range(1, 21)))"
      ]
    },
    {
      "cell_type": "markdown",
      "metadata": {
        "id": "boXrk80ZBlA4"
      },
      "source": [
        "#### functional lcm :: Using reduce"
      ]
    },
    {
      "cell_type": "code",
      "execution_count": null,
      "metadata": {
        "id": "qZX7FayYBlA4"
      },
      "outputs": [],
      "source": [
        "from functools import reduce\n",
        "def lcmf(many):\n",
        "    return reduce(lcm2, many)"
      ]
    },
    {
      "cell_type": "code",
      "execution_count": null,
      "metadata": {
        "id": "UsVByy4KBlA5"
      },
      "outputs": [],
      "source": [
        "lcmf(range(1, 10))"
      ]
    },
    {
      "cell_type": "code",
      "execution_count": null,
      "metadata": {
        "id": "QxP5Ae_VBlA5"
      },
      "outputs": [],
      "source": [
        "data = [2520] + list(range(11, 21))"
      ]
    },
    {
      "cell_type": "code",
      "execution_count": null,
      "metadata": {
        "id": "icchtId6BlA6"
      },
      "outputs": [],
      "source": [
        "lcmf(data)"
      ]
    },
    {
      "cell_type": "code",
      "execution_count": null,
      "metadata": {
        "id": "L3UNdZGXBlA7"
      },
      "outputs": [],
      "source": []
    }
  ],
  "metadata": {
    "colab": {
      "include_colab_link": true,
      "provenance": []
    },
    "kernelspec": {
      "display_name": "Python 3",
      "language": "python",
      "name": "python3"
    },
    "language_info": {
      "codemirror_mode": {
        "name": "ipython",
        "version": 3
      },
      "file_extension": ".py",
      "mimetype": "text/x-python",
      "name": "python",
      "nbconvert_exporter": "python",
      "pygments_lexer": "ipython3",
      "version": "3.5.2"
    }
  },
  "nbformat": 4,
  "nbformat_minor": 0
}
