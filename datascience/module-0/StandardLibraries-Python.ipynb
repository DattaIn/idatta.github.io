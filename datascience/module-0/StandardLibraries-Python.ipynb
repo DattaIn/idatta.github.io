{
  "cells": [
    {
      "cell_type": "markdown",
      "metadata": {
        "colab_type": "text",
        "id": "view-in-github"
      },
      "source": [
        "<a href=\"https://colab.research.google.com/github/DattaIn/idatta.github.io/blob/master/CDS_B1_M0_NB_F.ipynb\" target=\"_parent\"><img src=\"https://colab.research.google.com/assets/colab-badge.svg\" alt=\"Open In Colab\"/></a>"
      ]
    },
    {
      "cell_type": "markdown",
      "metadata": {
        "id": "MQx7Fbx4OybP"
      },
      "source": [
        "### Notebook F: Standard Libraries in Python"
      ]
    },
    {
      "cell_type": "markdown",
      "metadata": {
        "id": "Yxe8jRCkOybR"
      },
      "source": [
        "#### math\n",
        "Adds the simple math functions such as sqrt, sine, cosine, etc. Also defines the constants such as $\\pi, \\tau$ and $e$"
      ]
    },
    {
      "cell_type": "code",
      "execution_count": null,
      "metadata": {
        "id": "urHZmUVhOybT"
      },
      "outputs": [],
      "source": [
        "import math\n",
        "print(math.sqrt(25))\n",
        "print(math.e, math.pi)\n",
        "print(math.gcd(52, 26))"
      ]
    },
    {
      "cell_type": "markdown",
      "metadata": {
        "id": "XOhsJDJ1Oybb"
      },
      "source": [
        "#### random\n",
        "Provides random numbers and related functions. Not meant for crypto usage"
      ]
    },
    {
      "cell_type": "code",
      "execution_count": null,
      "metadata": {
        "id": "6rLy5GwyOybd"
      },
      "outputs": [],
      "source": [
        "import random\n",
        "print(random.random()) # Float between 0 and 1\n",
        "def rollDice():\n",
        "    return random.randint(1, 6)\n",
        "for i in range(10):\n",
        "    print(rollDice(), end=\",\")"
      ]
    },
    {
      "cell_type": "markdown",
      "metadata": {
        "id": "eHKUpAuWOybj"
      },
      "source": [
        "#### os\n",
        "Provides hooks to operating system services. Probably the most used one is\n",
        "os.walk(DIRECTORY)\n"
      ]
    },
    {
      "cell_type": "markdown",
      "metadata": {
        "id": "RNT9ELHSOybk"
      },
      "source": [
        "#### Collections\n",
        "Provides a few specialised container classes. We will see a counter class soon"
      ]
    },
    {
      "cell_type": "markdown",
      "metadata": {
        "id": "r5RhfNvplK1R"
      },
      "source": [
        "#### itertools\n",
        "\n",
        "Provides iterator functions for efficient looping"
      ]
    },
    {
      "cell_type": "markdown",
      "metadata": {
        "id": "OEEob6WnlXnl"
      },
      "source": [
        "#### functools\n",
        "\n",
        "Provides tools for working with functions and other callable objects, to adapt or extend them for new purposes without completely rewriting them."
      ]
    },
    {
      "cell_type": "markdown",
      "metadata": {
        "id": "UwNf8TEZOybl"
      },
      "source": [
        "## External Libraries\n",
        "\n",
        "\n",
        "**numpy** Array handling abilities; the foundation for all other scientific and Machine Learning algorithm implementations\n",
        "\n",
        "**scipy** This is not a single library. It is a collection scientific computational modules such as linear algebra, statistics, ODE solvers, optimizers, special functions and so on.\n",
        "\n",
        "**matplotlib** The comprehensive and somewhat complex plotting library\n",
        "\n",
        "**seaborn** Combines aesthetic appeal and technical insights – two crucial cogs in a data science\n",
        "\n",
        "**plotly** Graphing library used to make interactive, publication-quality graphs\n",
        "\n",
        "**pandas** The swiss army knife of large data manipulation\n",
        "\n",
        "**pillow** Python imaging library\n",
        "\n",
        "**openCV** Comprehensive computer vision library\n",
        "\n",
        "**tweepy** Twitter API\n",
        "\n",
        "**nltk** a humongous collection of libraries and corpora for natural language processing\n",
        "\n",
        "**spacy** a NLP library\n",
        "\n",
        "**Keras** Attempts to be a user friendly neural network library on top of tensorflow\n",
        "\n",
        "**Tensorflow** A symbolic library and dataflow programming toolkit very suited for complex mahine learning tasks\n",
        "\n",
        "**pyTorch** Similar to tensorflow but many find it easier to use"
      ]
    },
    {
      "cell_type": "code",
      "execution_count": null,
      "metadata": {
        "id": "5XpvgPzplJKe"
      },
      "outputs": [],
      "source": []
    }
  ],
  "metadata": {
    "colab": {
      "include_colab_link": true,
      "provenance": []
    },
    "kernelspec": {
      "display_name": "Python 3",
      "language": "python",
      "name": "python3"
    }
  },
  "nbformat": 4,
  "nbformat_minor": 0
}
