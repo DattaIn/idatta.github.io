{
  "cells": [
    {
      "cell_type": "markdown",
      "metadata": {
        "colab_type": "text",
        "id": "view-in-github"
      },
      "source": [
        "<a href=\"https://colab.research.google.com/github/DattaIn/idatta.github.io/blob/master/CDS_B1_M0_NB_D.ipynb\" target=\"_parent\"><img src=\"https://colab.research.google.com/assets/colab-badge.svg\" alt=\"Open In Colab\"/></a>"
      ]
    },
    {
      "cell_type": "markdown",
      "metadata": {
        "id": "UxuOCaDhMxyQ"
      },
      "source": [
        "### Notebook D: Functions in Python"
      ]
    },
    {
      "cell_type": "code",
      "execution_count": null,
      "metadata": {
        "id": "4kDkrW9tMxyU"
      },
      "outputs": [],
      "source": [
        "# A simple function, almost trivial\n",
        "def square(n):\n",
        "    return n * n"
      ]
    },
    {
      "cell_type": "code",
      "execution_count": null,
      "metadata": {
        "id": "nxJxAhs6MxyZ"
      },
      "outputs": [],
      "source": [
        "print(square(7))"
      ]
    },
    {
      "cell_type": "code",
      "execution_count": null,
      "metadata": {
        "id": "yc_k5_pHMxye"
      },
      "outputs": [],
      "source": [
        "print(square(7.1))\n"
      ]
    },
    {
      "cell_type": "code",
      "execution_count": null,
      "metadata": {
        "id": "dDFswfdPMxyh"
      },
      "outputs": [],
      "source": [
        "print(square(7j))"
      ]
    },
    {
      "cell_type": "markdown",
      "metadata": {
        "id": "pShMgyoDMxym"
      },
      "source": [
        "Note the absence of type declarations and that the return type is determined by the input type."
      ]
    },
    {
      "cell_type": "code",
      "execution_count": null,
      "metadata": {
        "id": "Xtg-BdswMxyo"
      },
      "outputs": [],
      "source": [
        "print(square(\"Hello\")) # typeError"
      ]
    },
    {
      "cell_type": "code",
      "execution_count": null,
      "metadata": {
        "id": "K4G4P5DOMxyr"
      },
      "outputs": [],
      "source": [
        "# some more functions\n",
        "def isPrime(n):\n",
        "    if n in [2, 3]:\n",
        "        return True\n",
        "    if n % 2 == 0:\n",
        "        return False\n",
        "    r = 5\n",
        "    while r * r <= n:\n",
        "        if n % r == 0:\n",
        "            return False\n",
        "        r += 2\n",
        "    return True"
      ]
    },
    {
      "cell_type": "code",
      "execution_count": null,
      "metadata": {
        "id": "UyRlFsCcMxyv"
      },
      "outputs": [],
      "source": [
        "print(isPrime(78), isPrime(79))"
      ]
    },
    {
      "cell_type": "code",
      "execution_count": null,
      "metadata": {
        "id": "wEPv5n0aMxy0"
      },
      "outputs": [],
      "source": [
        "def vowelCount(s):\n",
        "    \"\"\"Counts the number of vowels in s and returns the same\n",
        "    Ignores case of letters\"\"\"\n",
        "    VOWELS = \"aeiouAEIOU\"\n",
        "    vc = 0\n",
        "    for ch in s:\n",
        "        if ch in VOWELS:\n",
        "            vc += 1\n",
        "    return vc"
      ]
    },
    {
      "cell_type": "code",
      "execution_count": null,
      "metadata": {
        "id": "0Lh1P9dhMxy4"
      },
      "outputs": [],
      "source": [
        "print(vowelCount(\"The quick brown fox jumps over the lazy dog\"))"
      ]
    },
    {
      "cell_type": "code",
      "execution_count": null,
      "metadata": {
        "id": "NoQADi-c3ZlQ"
      },
      "outputs": [],
      "source": [
        "vowelCount?"
      ]
    },
    {
      "cell_type": "markdown",
      "metadata": {
        "id": "xP8DwUHrMxy9"
      },
      "source": [
        "#### Recursion\n",
        "Recursion is also pretty simple."
      ]
    },
    {
      "cell_type": "code",
      "execution_count": null,
      "metadata": {
        "id": "b7Udg0KcMxzA"
      },
      "outputs": [],
      "source": [
        "def isPowerOf2(n):\n",
        "    \"\"\"Checks if a number is a power of 2.\n",
        "    That is, verifies if an integer p exists such that n == 2 ** p\n",
        "    Remember 1 is 2 ** 0    \"\"\"\n",
        "    if n == 1:\n",
        "        return True\n",
        "    if n % 2 == 1:\n",
        "        return False\n",
        "    return isPowerOf2(n // 2)"
      ]
    },
    {
      "cell_type": "markdown",
      "metadata": {
        "id": "ya5hUyEjMxzL"
      },
      "source": [
        "Python functions can return multiple values. The simplest example is the built-in function divmod"
      ]
    },
    {
      "cell_type": "code",
      "execution_count": null,
      "metadata": {
        "id": "YezCorddMxzM"
      },
      "outputs": [],
      "source": [
        "divmod(17, 5)"
      ]
    },
    {
      "cell_type": "code",
      "execution_count": null,
      "metadata": {
        "id": "GvPH358QMxzQ"
      },
      "outputs": [],
      "source": [
        "quotient, remainder = divmod(17, 5)\n",
        "print(quotient, remainder)"
      ]
    },
    {
      "cell_type": "markdown",
      "metadata": {
        "id": "iJr0EoEm5Vv7"
      },
      "source": [
        "c = divmod(17, 5)\n",
        "print(c[0])\n",
        "print(c[1])\n",
        "print(c)"
      ]
    },
    {
      "cell_type": "code",
      "execution_count": null,
      "metadata": {
        "id": "H4loCmNyMxzX"
      },
      "outputs": [],
      "source": [
        "# Our own implementation of divmod\n",
        "\n",
        "def quotrem(n, d):\n",
        "    return n // d, n % d"
      ]
    },
    {
      "cell_type": "markdown",
      "metadata": {
        "id": "wkFIg7Fq6cVt"
      },
      "source": [
        "f = divmod"
      ]
    },
    {
      "cell_type": "code",
      "execution_count": null,
      "metadata": {
        "id": "-kPct1WyMxze"
      },
      "outputs": [],
      "source": [
        "quotrem(17, 5)"
      ]
    },
    {
      "cell_type": "markdown",
      "metadata": {
        "id": "VSJIRb9UMxzl"
      },
      "source": [
        "#### Higher Order Functions\n",
        "Python functions are first class objects. They can be assigned to variables, passed to functions as parameters and returned from functions!"
      ]
    },
    {
      "cell_type": "code",
      "execution_count": null,
      "metadata": {
        "id": "3ahQ7V4XE_W5"
      },
      "outputs": [],
      "source": [
        "f1 = square"
      ]
    },
    {
      "cell_type": "code",
      "execution_count": null,
      "metadata": {
        "id": "7roMiH3AE_z0"
      },
      "outputs": [],
      "source": [
        "f1(4)"
      ]
    },
    {
      "cell_type": "code",
      "execution_count": null,
      "metadata": {
        "id": "RmJBP6gpFFQm"
      },
      "outputs": [],
      "source": [
        "# New way of writing function in latest version of Python\n",
        "\n",
        "def cube(n:int) -> [int]:\n",
        "  return n ** 3"
      ]
    },
    {
      "cell_type": "code",
      "execution_count": null,
      "metadata": {
        "id": "y1OiYAIjdN4c"
      },
      "outputs": [],
      "source": [
        "cube(3)"
      ]
    }
  ],
  "metadata": {
    "colab": {
      "include_colab_link": true,
      "provenance": []
    },
    "kernelspec": {
      "display_name": "Python 3",
      "language": "python",
      "name": "python3"
    }
  },
  "nbformat": 4,
  "nbformat_minor": 0
}
