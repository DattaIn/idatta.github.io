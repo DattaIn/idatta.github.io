{
  "nbformat": 4,
  "nbformat_minor": 0,
  "metadata": {
    "colab": {
      "provenance": [],
      "include_colab_link": true
    },
    "kernelspec": {
      "name": "python3",
      "display_name": "Python 3"
    }
  },
  "cells": [
    {
      "cell_type": "markdown",
      "metadata": {
        "id": "view-in-github",
        "colab_type": "text"
      },
      "source": [
        "<a href=\"https://colab.research.google.com/github/DattaIn/idatta.github.io/blob/master/CDSNumpyScipy.ipynb\" target=\"_parent\"><img src=\"https://colab.research.google.com/assets/colab-badge.svg\" alt=\"Open In Colab\"/></a>"
      ]
    },
    {
      "cell_type": "markdown",
      "metadata": {
        "id": "AHj4I9HFGBIo"
      },
      "source": [
        "# Advanced Certification Program in Computational Data Science\n",
        "## A program by IISc and TalentSprint\n",
        "### Inclass Notebook 2: Introduction to Numpy and Scipy"
      ]
    },
    {
      "cell_type": "markdown",
      "metadata": {
        "id": "hLpPhKHMMfeF"
      },
      "source": [
        "## Numpy"
      ]
    },
    {
      "cell_type": "code",
      "metadata": {
        "id": "LbsSI93-hv3A"
      },
      "source": [
        "#Array Oriented Computing\n",
        "import numpy as np"
      ],
      "execution_count": null,
      "outputs": []
    },
    {
      "cell_type": "code",
      "metadata": {
        "id": "ioty8_t7iQrV"
      },
      "source": [
        "#Scalar\n",
        "#Vector\n",
        "#Matrix\n",
        "#Tensor"
      ],
      "execution_count": null,
      "outputs": []
    },
    {
      "cell_type": "code",
      "metadata": {
        "id": "3weKBJsVj1eg"
      },
      "source": [
        "a_scalar = np.array(30)\n",
        "print(a_scalar)"
      ],
      "execution_count": null,
      "outputs": []
    },
    {
      "cell_type": "code",
      "metadata": {
        "id": "Zy0klvCYkGyh"
      },
      "source": [
        "print(a_scalar.ndim)\n",
        "print(a_scalar.shape)"
      ],
      "execution_count": null,
      "outputs": []
    },
    {
      "cell_type": "code",
      "metadata": {
        "id": "DZo8vIcBkP6n"
      },
      "source": [
        "a_vector = np.array([1,2,3,4,5])\n",
        "print(a_vector)"
      ],
      "execution_count": null,
      "outputs": []
    },
    {
      "cell_type": "code",
      "metadata": {
        "id": "7WrjpsMDkX6Q"
      },
      "source": [
        "print(a_vector.ndim)\n",
        "print(a_vector.shape)"
      ],
      "execution_count": null,
      "outputs": []
    },
    {
      "cell_type": "markdown",
      "metadata": {
        "id": "yWXiLFHDk_9X"
      },
      "source": [
        "a_mat = $\\begin{pmatrix}\n",
        "1 & 2 & 3 \\\\\n",
        "4 & 5 & 6 \\\\\n",
        "7 & 8 & 9 \\end{pmatrix}$"
      ]
    },
    {
      "cell_type": "code",
      "metadata": {
        "id": "PGvwiNTFlRTq"
      },
      "source": [
        "a_mat = np.array([[1,2,3,6],[4,5,6,7],[7,8,9,10]])"
      ],
      "execution_count": null,
      "outputs": []
    },
    {
      "cell_type": "code",
      "metadata": {
        "id": "4pTLQLrhkg3t"
      },
      "source": [
        "print(a_mat)"
      ],
      "execution_count": null,
      "outputs": []
    },
    {
      "cell_type": "code",
      "metadata": {
        "id": "6Xw3K6cZlkjf"
      },
      "source": [
        "print(a_mat.ndim)"
      ],
      "execution_count": null,
      "outputs": []
    },
    {
      "cell_type": "code",
      "metadata": {
        "id": "SW4M4tpelnmk"
      },
      "source": [
        "print(a_mat.shape)"
      ],
      "execution_count": null,
      "outputs": []
    },
    {
      "cell_type": "code",
      "metadata": {
        "id": "7T9yXolNl8_4"
      },
      "source": [
        "print(a_mat.shape[0])"
      ],
      "execution_count": null,
      "outputs": []
    },
    {
      "cell_type": "code",
      "metadata": {
        "id": "eErA2c3Zmc1Z"
      },
      "source": [
        "print(a_mat.shape[1])"
      ],
      "execution_count": null,
      "outputs": []
    },
    {
      "cell_type": "code",
      "metadata": {
        "id": "BePgb_5kmhU4"
      },
      "source": [
        "a_mat1 = np.arange(1,13).reshape(3,4)"
      ],
      "execution_count": null,
      "outputs": []
    },
    {
      "cell_type": "code",
      "metadata": {
        "id": "5mdzdu8vn308"
      },
      "source": [
        "print(a_mat1)"
      ],
      "execution_count": null,
      "outputs": []
    },
    {
      "cell_type": "code",
      "metadata": {
        "id": "1AGuQIUaoPSm"
      },
      "source": [
        "a_tensor = np.arange(1,37).reshape(3,4,3)"
      ],
      "execution_count": null,
      "outputs": []
    },
    {
      "cell_type": "code",
      "metadata": {
        "id": "I9oO1iinpvq_"
      },
      "source": [
        "a_test = ([[[2],[3],[4]]])\n"
      ],
      "execution_count": null,
      "outputs": []
    },
    {
      "cell_type": "code",
      "metadata": {
        "id": "RgB_RKO-p3ca"
      },
      "source": [
        "print(a_test)"
      ],
      "execution_count": null,
      "outputs": []
    },
    {
      "cell_type": "code",
      "metadata": {
        "id": "LssYlrJ8oVeX"
      },
      "source": [
        "print(a_tensor)"
      ],
      "execution_count": null,
      "outputs": []
    },
    {
      "cell_type": "code",
      "metadata": {
        "id": "EUuw-zDoodcO"
      },
      "source": [
        "z = np.zeros((2,3,3,4),dtype=int)\n",
        "print(z)"
      ],
      "execution_count": null,
      "outputs": []
    },
    {
      "cell_type": "code",
      "metadata": {
        "id": "WeI0XHultvvv"
      },
      "source": [
        "print(z.ndim)"
      ],
      "execution_count": null,
      "outputs": []
    },
    {
      "cell_type": "code",
      "metadata": {
        "id": "-aHn6CBLsup_"
      },
      "source": [
        "ones = np.ones((3,4),dtype=int)\n",
        "print(ones)"
      ],
      "execution_count": null,
      "outputs": []
    },
    {
      "cell_type": "code",
      "metadata": {
        "id": "-k5Mj2_ps4Ol"
      },
      "source": [
        "full = np.full((3,4),0)\n",
        "print(full)"
      ],
      "execution_count": null,
      "outputs": []
    },
    {
      "cell_type": "code",
      "metadata": {
        "id": "MHD4nCAIuMEq"
      },
      "source": [
        "diagonal = np.diag([3,4,5,6],k=-1)"
      ],
      "execution_count": null,
      "outputs": []
    },
    {
      "cell_type": "code",
      "metadata": {
        "id": "FWfPDnzruyxY"
      },
      "source": [
        "diagonal"
      ],
      "execution_count": null,
      "outputs": []
    },
    {
      "cell_type": "code",
      "metadata": {
        "id": "pqTfYlcPuMcu"
      },
      "source": [
        "#Numpuy Slicing\n",
        "ex_arr = np.arange(1,17).reshape(4,4)"
      ],
      "execution_count": null,
      "outputs": []
    },
    {
      "cell_type": "code",
      "metadata": {
        "id": "QCyjbuksv7kV"
      },
      "source": [
        "print(ex_arr)"
      ],
      "execution_count": null,
      "outputs": []
    },
    {
      "cell_type": "code",
      "metadata": {
        "id": "hAN_Q2Ksw5Kd"
      },
      "source": [
        "ex_arr1 = ex_arr[1:3,1:3]"
      ],
      "execution_count": null,
      "outputs": []
    },
    {
      "cell_type": "code",
      "metadata": {
        "id": "2dggwF_6w9YT"
      },
      "source": [
        "print(ex_arr1)"
      ],
      "execution_count": null,
      "outputs": []
    },
    {
      "cell_type": "code",
      "metadata": {
        "id": "fVDPZflkxHC0"
      },
      "source": [
        "print(ex_arr)"
      ],
      "execution_count": null,
      "outputs": []
    },
    {
      "cell_type": "code",
      "metadata": {
        "id": "CVsCQPX5yE4J"
      },
      "source": [
        "ex_arr1[0][0] = 100"
      ],
      "execution_count": null,
      "outputs": []
    },
    {
      "cell_type": "code",
      "metadata": {
        "id": "Pv1-RPt3yNSk"
      },
      "source": [
        "print(ex_arr1)"
      ],
      "execution_count": null,
      "outputs": []
    },
    {
      "cell_type": "code",
      "metadata": {
        "id": "pzQwf17oyYQJ"
      },
      "source": [
        "print(ex_arr)"
      ],
      "execution_count": null,
      "outputs": []
    },
    {
      "cell_type": "code",
      "metadata": {
        "id": "tOcjZ98MymDC"
      },
      "source": [
        "sample1 = np.copy(ex_arr[1:3,1:3])"
      ],
      "execution_count": null,
      "outputs": []
    },
    {
      "cell_type": "code",
      "metadata": {
        "id": "DWnbdj9Tyuwy"
      },
      "source": [
        "print(sample1)"
      ],
      "execution_count": null,
      "outputs": []
    },
    {
      "cell_type": "code",
      "metadata": {
        "id": "ZsNRChl2y1mE"
      },
      "source": [
        "sample1[0][0] = 6"
      ],
      "execution_count": null,
      "outputs": []
    },
    {
      "cell_type": "code",
      "metadata": {
        "id": "UN0Q4RMDy6O6"
      },
      "source": [
        "print(sample1)"
      ],
      "execution_count": null,
      "outputs": []
    },
    {
      "cell_type": "code",
      "metadata": {
        "id": "QKb6y3EYy_c0"
      },
      "source": [
        "print(ex_arr)"
      ],
      "execution_count": null,
      "outputs": []
    },
    {
      "cell_type": "code",
      "metadata": {
        "id": "2fGuGDZ24dpM"
      },
      "source": [
        "sample2 = np.arange(1,28).reshape(3,3,3)"
      ],
      "execution_count": null,
      "outputs": []
    },
    {
      "cell_type": "code",
      "metadata": {
        "id": "Mz2v71A74kkw"
      },
      "source": [
        "print(sample2)"
      ],
      "execution_count": null,
      "outputs": []
    },
    {
      "cell_type": "code",
      "metadata": {
        "id": "Mf4S--0J5QU0"
      },
      "source": [
        "print(sample2[0])"
      ],
      "execution_count": null,
      "outputs": []
    },
    {
      "cell_type": "code",
      "metadata": {
        "id": "F4s0yZmo56Dr"
      },
      "source": [
        "print(sample2[:,0,:])"
      ],
      "execution_count": null,
      "outputs": []
    },
    {
      "cell_type": "code",
      "metadata": {
        "id": "1yHPC60g6A2Y"
      },
      "source": [
        "a = np.array([[1,2],[3,4]])\n",
        "b = np.array([[1,2],[3,4]])"
      ],
      "execution_count": null,
      "outputs": []
    },
    {
      "cell_type": "code",
      "metadata": {
        "id": "gTIFRGXh6T8p"
      },
      "source": [
        "print(a @ b)\n",
        "print(a * b)"
      ],
      "execution_count": null,
      "outputs": []
    },
    {
      "cell_type": "markdown",
      "metadata": {
        "id": "7g7weOn1McEU"
      },
      "source": [
        "## Scipy"
      ]
    },
    {
      "cell_type": "markdown",
      "metadata": {
        "id": "PBs1RE6C7Wzs"
      },
      "source": [
        "$\\int_{0}^3 x^2 dx$"
      ]
    },
    {
      "cell_type": "code",
      "metadata": {
        "id": "IL7nco2K7gfb"
      },
      "source": [
        "def func_sqaure(x):\n",
        "  return x ** 2"
      ],
      "execution_count": null,
      "outputs": []
    },
    {
      "cell_type": "code",
      "metadata": {
        "id": "XCJrOR7P7t4t"
      },
      "source": [
        "from scipy import integrate\n",
        "#from scipy.integrate import quad\n",
        "#import scipy as sc\n",
        "\n",
        "result,error = integrate.quad(lambda x : x**2,0,3)\n",
        "print(result)"
      ],
      "execution_count": null,
      "outputs": []
    },
    {
      "cell_type": "code",
      "metadata": {
        "id": "uNlAqW0b82in"
      },
      "source": [
        "from scipy import misc\n",
        "img = misc.face()\n",
        "print(img.shape)\n",
        "print(img.ndim)"
      ],
      "execution_count": null,
      "outputs": []
    },
    {
      "cell_type": "code",
      "metadata": {
        "id": "wKD5_mfz9Qho"
      },
      "source": [
        "print(img)"
      ],
      "execution_count": null,
      "outputs": []
    },
    {
      "cell_type": "code",
      "metadata": {
        "id": "mPrryGep9V8x"
      },
      "source": [
        "import matplotlib.pyplot as plt\n",
        "plt.imshow(img)\n",
        "plt.show()"
      ],
      "execution_count": null,
      "outputs": []
    },
    {
      "cell_type": "markdown",
      "metadata": {
        "id": "APg-QRaNM3yh"
      },
      "source": [
        "#### Below code to access the image from MyDrive\n",
        "\n",
        "You can the change the path of the image inside `io.imread()` once you connect your MyDrive"
      ]
    },
    {
      "cell_type": "code",
      "metadata": {
        "id": "PO9jCinT-V4W"
      },
      "source": [
        "# import imageio as io\n",
        "# img1 = io.imread('/content/drive/MyDrive/junk.jpg')\n",
        "# #print(img1)\n",
        "# print(img1.ndim)\n",
        "# plt.imshow(img1);"
      ],
      "execution_count": null,
      "outputs": []
    },
    {
      "cell_type": "code",
      "metadata": {
        "id": "hejZ8Hcy_ONL"
      },
      "source": [
        "# Upload an image to google colab and mention the path\n",
        "\n",
        "# img_path = \"\"\n",
        "\n",
        "# example = io.imread(img_path)\n",
        "# plt.imshow(example);"
      ],
      "execution_count": null,
      "outputs": []
    },
    {
      "cell_type": "code",
      "metadata": {
        "id": "LuSHro7P_0p_"
      },
      "source": [
        "import numpy as np\n",
        "d  = np.zeros((200,200,3),dtype='uint8')"
      ],
      "execution_count": null,
      "outputs": []
    },
    {
      "cell_type": "code",
      "metadata": {
        "id": "o_UwJVrzBfeb"
      },
      "source": [
        "d[:,:,0] = 0\n",
        "d[:,:,1] = 0\n",
        "d[:,:,2] = 0"
      ],
      "execution_count": null,
      "outputs": []
    },
    {
      "cell_type": "code",
      "metadata": {
        "id": "RI3wExoPBqIN"
      },
      "source": [
        "io.imwrite('sampleimg.jpg',d)"
      ],
      "execution_count": null,
      "outputs": []
    },
    {
      "cell_type": "code",
      "metadata": {
        "id": "Xz4cBXHaB0du"
      },
      "source": [
        "pic = io.imread('sampleimg.jpg')\n",
        "plt.imshow(pic)\n",
        "plt.show()"
      ],
      "execution_count": null,
      "outputs": []
    },
    {
      "cell_type": "code",
      "metadata": {
        "id": "7bp2i3NqCfaM"
      },
      "source": [],
      "execution_count": null,
      "outputs": []
    }
  ]
}