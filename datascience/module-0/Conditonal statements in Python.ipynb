{
  "cells": [
    {
      "cell_type": "markdown",
      "metadata": {
        "colab_type": "text",
        "id": "view-in-github"
      },
      "source": [
        "<a href=\"https://colab.research.google.com/github/DattaIn/idatta.github.io/blob/master/CDS_B1_M0_NB_B.ipynb\" target=\"_parent\"><img src=\"https://colab.research.google.com/assets/colab-badge.svg\" alt=\"Open In Colab\"/></a>"
      ]
    },
    {
      "cell_type": "markdown",
      "metadata": {
        "id": "amoo2jS81XNa"
      },
      "source": [
        "### Notebook B: Conditonal statements in Python"
      ]
    },
    {
      "cell_type": "markdown",
      "metadata": {
        "id": "TGshp3nJTOBi"
      },
      "source": [
        "#### Simple Conditions and blocks"
      ]
    },
    {
      "cell_type": "code",
      "execution_count": null,
      "metadata": {
        "id": "4Wyz-IUXTdps"
      },
      "outputs": [],
      "source": [
        "attendancePercentage = 70\n",
        "# In the code below the two print statements are one block.\n",
        "# They are indented by 4-spaces to conPythonvey that\n",
        "if attendancePercentage < 75:\n",
        "    print(\"Attendance requirement for Merit certificate not met\")\n",
        "    print(\"Partcipation Certificate only\")"
      ]
    },
    {
      "cell_type": "code",
      "execution_count": null,
      "metadata": {
        "id": "eiofx0fDTiLa"
      },
      "outputs": [],
      "source": [
        "attendancePercentage = 80\n",
        "# In the code below the two print statements are one block.\n",
        "# They are indented by 4-spaces to convey that\n",
        "if attendancePercentage < 75:\n",
        "    print(\"Attendance requirement for Merit certificate not met\")\n",
        "    print(\"Partcipation Certificate only\")"
      ]
    },
    {
      "cell_type": "markdown",
      "metadata": {
        "id": "Emr6kqok1XNy"
      },
      "source": [
        "As you can see there is no output if the condition is not met"
      ]
    },
    {
      "cell_type": "markdown",
      "metadata": {
        "id": "EtNcuPAETN46"
      },
      "source": [
        "##### Else Statement"
      ]
    },
    {
      "cell_type": "code",
      "execution_count": null,
      "metadata": {
        "id": "OyfbCbhxTvYa"
      },
      "outputs": [],
      "source": [
        "attendancePercentage = 80\n",
        "\n",
        "if attendancePercentage < 75:\n",
        "    print(\"Attendance requirement for Merit certificate not met\")\n",
        "    print(\"Partcipation Certificate only\")\n",
        "else:\n",
        "    print(\"Attendance requirement for Merit certificate met\")\n",
        "    print(\"Verify grades\")"
      ]
    },
    {
      "cell_type": "markdown",
      "metadata": {
        "id": "WVIq0Gc-TN1W"
      },
      "source": [
        "##### Else if ladder"
      ]
    },
    {
      "cell_type": "code",
      "execution_count": null,
      "metadata": {
        "id": "DJU1Gs8GT2vy"
      },
      "outputs": [],
      "source": [
        "attendancePercentage = 80\n",
        "gradePoints = 320\n",
        "if attendancePercentage < 75:\n",
        "    print(\"Attendance requirement for Merit certificate not met\")\n",
        "    print(\"Participation Certificate only\")\n",
        "elif gradePoints < 300:\n",
        "    print(\"Attendance requirement for Merit certificate met\")\n",
        "    print(\"But insufficient grade\")\n",
        "    print(\"Participation Certificate only\")\n",
        "else:\n",
        "    print(\"Attendance requirement for Merit certificate met\")\n",
        "    print(\"Grade Requirement for Merit Certificate met\")"
      ]
    },
    {
      "cell_type": "markdown",
      "metadata": {
        "id": "vN9prcUzSGbQ"
      },
      "source": [
        "#### Simple While loop"
      ]
    },
    {
      "cell_type": "code",
      "execution_count": null,
      "metadata": {
        "id": "6o82u9jgSrt4"
      },
      "outputs": [],
      "source": [
        "#Lets write a while loop to print numbers from 0 to 4\n",
        "x = 0\n",
        "while x < 5:\n",
        "     print(x)\n",
        "     x += 1"
      ]
    },
    {
      "cell_type": "markdown",
      "metadata": {
        "id": "F1I7Tqw-hFqO"
      },
      "source": [
        "#### Combining conditions\n",
        "We can combine conditions using **and**, **or** and **not** operators"
      ]
    },
    {
      "cell_type": "code",
      "execution_count": null,
      "metadata": {
        "id": "7Q8SaGDP1XOY"
      },
      "outputs": [],
      "source": [
        "attendancePercentage = 80\n",
        "gradePoints = 320\n",
        "if attendancePercentage >= 75 and gradePoints >= 300:\n",
        "    print(\"Attendance and grade requirement for Merit certificate met\")\n",
        "else:\n",
        "    print(\"Either attendance of grade (or both) insufficient\")\n",
        "    print(\"Participation certificate only\")"
      ]
    },
    {
      "cell_type": "markdown",
      "metadata": {
        "id": "CifE3XpO1XOf"
      },
      "source": [
        "##### More on blocks\n",
        "* blocks start below a line ending in :\n",
        "* all lines in a block are indented (by 4 spaces)\n",
        "* Nested blocks --> nested indenting\n",
        "* End of block --> unindent\n"
      ]
    },
    {
      "cell_type": "code",
      "execution_count": null,
      "metadata": {
        "id": "ojFY-NQH1XOh"
      },
      "outputs": [],
      "source": [
        "mark = 76\n",
        "if mark < 40:\n",
        "    status = \"Fail\"\n",
        "    letterGrade = \"F\"\n",
        "else:\n",
        "    status = \"Pass\"\n",
        "    if mark < 50:\n",
        "        letterGrade = \"D\"\n",
        "    elif mark < 60:\n",
        "        letterGrade = \"C\"\n",
        "    elif mark < 75:\n",
        "        letterGrade = \"B\"\n",
        "    elif mark < 90:\n",
        "        letterGrade = \"A\"\n",
        "    else:\n",
        "        letterGrade = \"A+\""
      ]
    }
  ],
  "metadata": {
    "colab": {
      "include_colab_link": true,
      "provenance": []
    },
    "kernelspec": {
      "display_name": "Python 3",
      "language": "python",
      "name": "python3"
    }
  },
  "nbformat": 4,
  "nbformat_minor": 0
}
