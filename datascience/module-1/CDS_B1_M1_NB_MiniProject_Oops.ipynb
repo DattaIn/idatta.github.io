{
  "cells": [
    {
      "cell_type": "markdown",
      "metadata": {
        "colab_type": "text",
        "id": "view-in-github"
      },
      "source": [
        "<a href=\"https://colab.research.google.com/github/DattaIn/idatta.github.io/blob/master/CDS_B1_M1_NB_MiniProject_Oops.ipynb\" target=\"_parent\"><img src=\"https://colab.research.google.com/assets/colab-badge.svg\" alt=\"Open In Colab\"/></a>"
      ]
    },
    {
      "cell_type": "markdown",
      "id": "hawaiian-astronomy",
      "metadata": {
        "id": "hawaiian-astronomy"
      },
      "source": [
        "### Implementation of Linear Regression using Oops"
      ]
    },
    {
      "cell_type": "markdown",
      "id": "pharmaceutical-stopping",
      "metadata": {
        "id": "pharmaceutical-stopping"
      },
      "source": [
        "#### Object oriented programming in a nutshell\n",
        "\n",
        "Object oriented programming is based around the concept of \"objects\". Objects have two kinds of attributes (accessed via . syntax): data attributes (or instance variables) and function attributes (or methods). Object data is typically modified by object methods.\n",
        "\n",
        "To know more about Oops click [here](https://docs.python.org/3/tutorial/classes.html)\n",
        "\n",
        "#### Linear Regression\n",
        "\n",
        "In statistics, linear regression is a linear approach to model the relationship between a scalar response and one or more explanatory variables (also known as dependent and independent variables). The case of one explanatory variable is called simple linear regression; for more than one, the process is called multiple linear regression.\n",
        "\n",
        "To know more about Linear regression  click [here](http://www.mit.edu/~6.s085/notes/lecture3.pdf)\n"
      ]
    },
    {
      "cell_type": "markdown",
      "id": "powerful-preservation",
      "metadata": {
        "id": "powerful-preservation"
      },
      "source": [
        "##### Importing Necessary Packages"
      ]
    },
    {
      "cell_type": "code",
      "execution_count": null,
      "id": "confident-garlic",
      "metadata": {
        "id": "confident-garlic"
      },
      "outputs": [],
      "source": [
        "import numpy as np # Numpy Package\n",
        "import matplotlib.pyplot as plt"
<<<<<<< HEAD
      ]
=======
      ],
      "id": "confident-garlic",
      "execution_count": 1,
      "outputs": []
>>>>>>> 24423309a9d72295c61c85fc91c0330fd595e688
    },
    {
      "cell_type": "markdown",
      "id": "eleven-excess",
      "metadata": {
        "id": "eleven-excess"
      },
      "source": [
        "#### Generate 50 points with an approximate relationship of y = 3x + 1, with normally distributed errors.\n",
        "\n",
        "**Hint:** np.linspace(), np.random.randn()"
      ]
    },
    {
      "cell_type": "code",
      "execution_count": null,
      "id": "TN5dp58OU1EW",
      "metadata": {
        "colab": {
          "base_uri": "https://localhost:8080/",
          "height": 1000
        },
        "id": "TN5dp58OU1EW",
        "outputId": "fab1d053-db28-415d-f3ab-72deb6aa5a66"
      },
<<<<<<< HEAD
=======
      "source": [
        "# YOUR CODE HERE\n",
        "np.random.seed(34)\n",
        "m,sigma = 0,0.1\n",
        "error = np.random.normal(m,sigma,50)\n",
        "x = np.random.rand(50,)\n",
        "y = 3*x+1 + error\n",
        "print(error)\n",
        "print(x,end='\\n')\n",
        "print(y,end='\\n')\n",
        "print(x.shape)\n",
        "print(y.shape)\n",
        "count, bins, ignored = plt.hist(error, 30, density=True)\n",
        "plt.scatter(x, y)\n",
        "plt.show()"
      ],
      "id": "TN5dp58OU1EW",
      "execution_count": 2,
>>>>>>> 24423309a9d72295c61c85fc91c0330fd595e688
      "outputs": [
        {
          "name": "stdout",
          "output_type": "stream",
          "name": "stdout",
          "text": [
            "[ 2.43835101e-02 -7.47318182e-02 -1.56117699e-01 -4.64253122e-02\n",
            " -3.52062344e-02 -1.28149188e-01  2.89299240e-02  9.80028505e-02\n",
            "  4.77924222e-02  4.50818133e-02  7.52443450e-02 -5.10571794e-02\n",
            " -7.05752137e-02 -4.24317252e-02 -2.32162126e-02  1.81514048e-01\n",
            " -2.09474937e-01  1.03595611e-01 -1.43414066e-01 -2.78228697e-02\n",
            "  5.95144896e-03 -1.30831214e-01 -1.28630204e-04  1.26104693e-01\n",
            " -1.86323999e-02  1.42992772e-01 -7.91101977e-02 -2.97739220e-02\n",
            "  9.61949597e-02 -1.07044067e-01 -1.20546821e-01  6.44030710e-02\n",
            "  5.69221615e-03  1.41854611e-01 -1.14294482e-01  2.15819548e-02\n",
            "  9.25606402e-02  4.07204403e-02  5.57686250e-02 -5.45324295e-02\n",
            "  2.06687026e-02 -6.45055306e-02 -5.28596200e-02  8.38851422e-02\n",
            " -1.30025207e-01 -9.69472162e-03  2.11505971e-02  2.18984854e-02\n",
            " -1.46397689e-01  1.12806649e-01]\n",
            "[0.47072    0.8021293  0.94280404 0.16382592 0.618682   0.02332673\n",
            " 0.07873413 0.86011087 0.97139126 0.89208697 0.61104102 0.2238629\n",
            " 0.4988632  0.97135486 0.1876062  0.78274037 0.61360269 0.58616462\n",
            " 0.45998226 0.27743157 0.82148203 0.92944826 0.39471175 0.90308086\n",
            " 0.64056001 0.06943248 0.49968385 0.76508479 0.80676681 0.48123771\n",
            " 0.88397414 0.99552767 0.93571873 0.41378382 0.94985229 0.32911781\n",
            " 0.65221702 0.4488308  0.67097597 0.5670529  0.02931154 0.95807555\n",
            " 0.0709085  0.32213837 0.00380051 0.16897109 0.11327798 0.07479813\n",
            " 0.0744377  0.46935058]\n",
            "[2.4365435  3.33165607 3.67229443 1.44505245 2.82083977 0.94183101\n",
            " 1.26513232 3.67833545 3.9619662  3.72134273 2.90836741 1.62053152\n",
            " 2.42601439 3.87163285 1.53960238 3.52973515 2.63133313 2.86208947\n",
            " 2.23653271 1.80447185 3.47039753 3.65751358 2.18400661 3.83534728\n",
            " 2.90304764 1.3512902  2.41994135 3.26548046 3.5164954  2.33666907\n",
            " 3.53137559 4.05098609 3.8128484  2.38320608 3.73526239 2.00893538\n",
            " 3.04921171 2.38721283 3.06869654 2.64662626 1.10860331 3.80972112\n",
            " 1.15986588 2.05030024 0.88137632 1.49721856 1.36098452 1.24629288\n",
            " 1.07691541 2.52085839]\n",
            "(50,)\n",
            "(50,)\n"
          ]
        },
        {
          "data": {
<<<<<<< HEAD
            "image/png": "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",
=======
>>>>>>> 24423309a9d72295c61c85fc91c0330fd595e688
            "text/plain": [
              "<Figure size 640x480 with 1 Axes>"
            ],
            "image/png": "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\n"
          },
<<<<<<< HEAD
          "metadata": {
            "needs_background": "light",
            "tags": []
          },
          "output_type": "display_data"
=======
          "metadata": {}
>>>>>>> 24423309a9d72295c61c85fc91c0330fd595e688
        }
      ],
      "source": [
        "# YOUR CODE HERE\n",
        "np.random.seed(34)\n",
        "m,sigma = 0,0.1\n",
        "error = np.random.normal(m,sigma,50)\n",
        "x = np.random.rand(50,)\n",
        "y = 3*x+1 + error\n",
        "print(error)\n",
        "print(x,end='\\n')\n",
        "print(y,end='\\n')\n",
        "print(x.shape)\n",
        "print(y.shape)\n",
        "count, bins, ignored = plt.hist(error, 30, density=True)\n",
        "plt.scatter(x, y)\n",
        "plt.show()"
      ]
    },
    {
      "cell_type": "code",
      "source": [
        "import statsmodels.api as sm\n",
        "\n",
        "# Add a constant term to the features (X) matrix\n",
        "X_with_intercept = sm.add_constant(x)\n",
        "\n",
        "# Fit the linear regression model using statsmodels\n",
        "model_statsmodels = sm.OLS(y, X_with_intercept).fit()\n",
        "\n",
        "# Display regression results\n",
        "print(model_statsmodels.summary())\n"
      ],
      "metadata": {
        "colab": {
          "base_uri": "https://localhost:8080/"
        },
        "id": "Aqw94vIVm-nH",
        "outputId": "4d7474e3-e3ea-4beb-979d-5babf3304c51"
      },
      "id": "Aqw94vIVm-nH",
      "execution_count": 4,
      "outputs": [
        {
          "output_type": "stream",
          "name": "stdout",
          "text": [
            "                            OLS Regression Results                            \n",
            "==============================================================================\n",
            "Dep. Variable:                      y   R-squared:                       0.991\n",
            "Model:                            OLS   Adj. R-squared:                  0.991\n",
            "Method:                 Least Squares   F-statistic:                     5513.\n",
            "Date:                Sun, 21 Jan 2024   Prob (F-statistic):           3.36e-51\n",
            "Time:                        20:00:49   Log-Likelihood:                 49.654\n",
            "No. Observations:                  50   AIC:                            -95.31\n",
            "Df Residuals:                      48   BIC:                            -91.48\n",
            "Df Model:                           1                                         \n",
            "Covariance Type:            nonrobust                                         \n",
            "==============================================================================\n",
            "                 coef    std err          t      P>|t|      [0.025      0.975]\n",
            "------------------------------------------------------------------------------\n",
            "const          0.9829      0.025     39.145      0.000       0.932       1.033\n",
            "x1             3.0169      0.041     74.253      0.000       2.935       3.099\n",
            "==============================================================================\n",
            "Omnibus:                        1.215   Durbin-Watson:                   2.526\n",
            "Prob(Omnibus):                  0.545   Jarque-Bera (JB):                0.991\n",
            "Skew:                          -0.071   Prob(JB):                        0.609\n",
            "Kurtosis:                       2.325   Cond. No.                         4.10\n",
            "==============================================================================\n",
            "\n",
            "Notes:\n",
            "[1] Standard Errors assume that the covariance matrix of the errors is correctly specified.\n"
          ]
        }
      ]
    },
    {
      "cell_type": "markdown",
<<<<<<< HEAD
      "id": "robust-moderator",
=======
      "source": [
        "The output you've provided appears to be the results summary of a linear regression analysis using Ordinary Least Squares (OLS) method. Let me break down the key components of this output:\n",
        "\n",
        "1. **Dependent Variable (Dep. Variable):** This is the variable that you are trying to predict or explain. In this case, it is denoted as \"y.\"\n",
        "\n",
        "2. **R-squared:** R-squared is a measure of how well the independent variables explain the variance in the dependent variable. It ranges from 0 to 1, where 1 indicates a perfect fit. In this case, R-squared is 0.991, suggesting that approximately 99.1% of the variance in the dependent variable is explained by the independent variable(s).\n",
        "\n",
        "3. **Model:** Indicates the type of model used for the regression analysis. Here, it's OLS (Ordinary Least Squares), a common method for linear regression.\n",
        "\n",
        "4. **Method:** Specifies the fitting method used, which is Least Squares in this case.\n",
        "\n",
        "5. **F-statistic:** This statistic tests the overall significance of the regression model. A high F-statistic with a low associated probability (Prob (F-statistic)) suggests that the overall model is statistically significant. The F-statistic here is 5513, and the associated probability is very close to zero (3.36e-51), indicating a highly significant model.\n",
        "\n",
        "6. **Date and Time:** Shows the date and time when the analysis was performed.\n",
        "\n",
        "7. **Number of Observations (No. Observations):** Indicates the number of data points or observations used in the analysis. In this case, there are 50 observations.\n",
        "\n",
        "8. **Degrees of Freedom (Df Residuals and Df Model):** These represent the degrees of freedom associated with the residuals (error) and the model, respectively.\n",
        "\n",
        "9. **Covariance Type:** Specifies the type of covariance estimation used. In this case, it's \"nonrobust.\"\n",
        "\n",
        "10. **Coefficients (const and x1):** These are the estimated coefficients for the intercept (const) and the independent variable (x1). The coefficients represent the expected change in the dependent variable for a one-unit change in the respective independent variable. For example, the coefficient for \"x1\" is 3.0169, suggesting that a one-unit increase in \"x1\" is associated with an approximate 3.0169-unit increase in the dependent variable.\n",
        "\n",
        "11. **Standard Errors (std err):** These are the standard errors associated with the coefficients. They indicate the precision of the estimated coefficients.\n",
        "\n",
        "12. **t-statistics and P-values (t, P>|t|):** The t-statistic is a measure of how many standard errors a coefficient is away from zero. The associated P-value tests the null hypothesis that the coefficient is equal to zero. In this output, both coefficients have very low P-values (close to zero), indicating that they are statistically significant.\n",
        "\n",
        "13. **Confidence Intervals ([0.025, 0.975]):** Provides the 95% confidence interval for each coefficient. It gives a range within which we can be reasonably confident that the true population parameter lies.\n",
        "\n",
        "14. **Log-Likelihood, AIC, BIC:** These are measures used for model comparison. Lower values of AIC and BIC are generally preferred. The Log-Likelihood is a measure of how well the model explains the observed data.\n",
        "\n",
        "15. **Omnibus, Durbin-Watson, Jarque-Bera, Skew, Kurtosis:** These are various diagnostic statistics that help assess the assumptions and goodness-of-fit of the model. For example, Durbin-Watson tests for autocorrelation in the residuals.\n",
        "\n",
        "16. **Condition Number (Cond. No.):** A measure of the multicollinearity of the independent variables. A high condition number may indicate multicollinearity issues.\n",
        "\n",
        "In summary, the regression model appears to be highly significant, with a high R-squared value indicating a good fit to the data. The coefficients are statistically significant, and various diagnostic statistics provide additional information about the model's performance and assumptions.\n"
      ],
>>>>>>> 24423309a9d72295c61c85fc91c0330fd595e688
      "metadata": {
        "id": "afx8Su_8ncrQ"
      },
      "id": "afx8Su_8ncrQ"
    },
    {
      "cell_type": "markdown",
      "metadata": {
        "id": "robust-moderator"
      },
      "source": [
        "#### Exercise 2: Define a class named **LinearRegression** and add a short description of linear regression using built in method \\_\\_repr\\_\\_\n",
        "\n",
        "**Hint:** [How to use \\_\\_repr\\_\\_ method](https://www.educative.io/edpresso/what-is-the-repr-method-in-python)"
      ]
    },
    {
      "cell_type": "code",
      "execution_count": null,
      "id": "brief-criminal",
      "metadata": {
        "id": "brief-criminal"
      },
      "outputs": [],
      "source": [
        "class LinearRegression:\n",
        "\n",
        "  def __init__(self):\n",
        "    print(\"LinearRegression\")\n",
        "\n",
        "  def __repr__(self):\n",
        "    rep = 'LinearRegression for calculating the regression'\n",
        "    return rep"
<<<<<<< HEAD
      ]
=======
      ],
      "id": "brief-criminal",
      "execution_count": 5,
      "outputs": []
>>>>>>> 24423309a9d72295c61c85fc91c0330fd595e688
    },
    {
      "cell_type": "markdown",
      "id": "electoral-melissa",
      "metadata": {
        "id": "electoral-melissa"
      },
      "source": [
        "#### Exercise 3: In the above defined Linear Regression class, add a method which takes list of values as input and returns the mean of those values.\n",
        "\n",
        "**Note:** Don't use built-in method to calculate the mean\n",
        "\n",
        "**Hint:**\n",
        "1. The mean is the average of the numbers\n",
        "2. [How to define a method in a class](https://docs.python.org/3/tutorial/classes.html#scopes-and-namespaces-example)"
      ]
    },
    {
      "cell_type": "code",
      "execution_count": null,
      "id": "rolled-agent",
      "metadata": {
        "colab": {
          "base_uri": "https://localhost:8080/"
        },
<<<<<<< HEAD
        "id": "rolled-agent",
        "outputId": "d773d141-76b8-46ed-8332-1c1ba49ee2d1"
=======
        "outputId": "85559cab-04c0-4a93-cdae-400a6abee201"
>>>>>>> 24423309a9d72295c61c85fc91c0330fd595e688
      },
      "outputs": [
        {
          "name": "stdout",
          "output_type": "stream",
          "text": [
            "LinearRegression Implementation\n",
            "3.0\n"
          ]
        }
      ],
      "source": [
        "class LinearRegression:\n",
        "\n",
        "  def __init__(self):\n",
        "    print(\"LinearRegression Implementation\")\n",
        "\n",
        "  def get_mean(self, inputList) :\n",
        "    return np.sum(inputList) / len(inputList)\n",
        "\n",
        "\n",
        "  def __repr__(self):\n",
        "    rep = 'LinearRegression for calculating the regression'\n",
        "    return rep\n",
        "\n",
        "lr = LinearRegression()\n",
        "print(lr.get_mean([1, 2, 3, 4, 5]))"
<<<<<<< HEAD
=======
      ],
      "id": "rolled-agent",
      "execution_count": 6,
      "outputs": [
        {
          "output_type": "stream",
          "name": "stdout",
          "text": [
            "LinearRegression Implementation\n",
            "3.0\n"
          ]
        }
>>>>>>> 24423309a9d72295c61c85fc91c0330fd595e688
      ]
    },
    {
      "cell_type": "markdown",
      "id": "christian-visit",
      "metadata": {
        "id": "christian-visit"
      },
      "source": [
        "#### Exercise 4: In the above defined Linear Regression class, add a method which takes list of values as input and returns the variance of those values.\n",
        "\n",
        "**Note:** Don't use built-in method to calculate the variance\n",
        "\n",
        "**Hint:**\n",
        "\n",
        "1. The Variance is the average of the squared differences of each datapoint from the Mean\n",
        "2. [How to access one method in different method inside a class](https://docs.python.org/3/tutorial/classes.html#scopes-and-namespaces-example)\n"
      ]
    },
    {
      "cell_type": "code",
      "execution_count": null,
      "id": "controversial-legislature",
      "metadata": {
        "colab": {
          "base_uri": "https://localhost:8080/"
        },
<<<<<<< HEAD
        "id": "controversial-legislature",
        "outputId": "3b1f1cc6-619f-440f-ad4d-9b1739ee4fc6"
=======
        "outputId": "60254d14-3bf9-496e-dda0-9bc3a017dba2"
>>>>>>> 24423309a9d72295c61c85fc91c0330fd595e688
      },
      "outputs": [
        {
          "name": "stdout",
          "output_type": "stream",
          "text": [
            "LinearRegression Implementation\n",
            "2.5\n"
          ]
        }
      ],
      "source": [
        "class LinearRegression:\n",
        "\n",
        "  def __init__(self):\n",
        "    print(\"LinearRegression Implementation\")\n",
        "\n",
        "  def mean(self, inputList) :\n",
        "    return np.sum(inputList) / len(inputList)\n",
        "\n",
        "  def variance(self, inputList) :\n",
        "    sum = 0\n",
        "    mean = self.mean(inputList)\n",
        "    for data in inputList:\n",
        "      sum += (data-mean)**2\n",
        "\n",
        "    var = sum/(len(inputList) - 1)\n",
        "    return var\n",
        "\n",
        "  def __repr__(self):\n",
        "    rep = 'LinearRegression for calculating the regression'\n",
        "    return rep\n",
        "\n",
        "lr = LinearRegression()\n",
        "print(lr.variance([1, 2, 3, 4, 5]))"
<<<<<<< HEAD
=======
      ],
      "id": "controversial-legislature",
      "execution_count": 7,
      "outputs": [
        {
          "output_type": "stream",
          "name": "stdout",
          "text": [
            "LinearRegression Implementation\n",
            "2.5\n"
          ]
        }
>>>>>>> 24423309a9d72295c61c85fc91c0330fd595e688
      ]
    },
    {
      "cell_type": "markdown",
      "id": "acquired-giant",
      "metadata": {
        "id": "acquired-giant"
      },
      "source": [
        "#### Exercise 5: In the above defined Linear Regression class, add a method which takes two values as input and returns the covariance of those values.\n",
        "\n",
        "**Note:** Don't use built-in method to calculate the covariance\n",
        "\n",
        "**Hint:** [How to calculate the covariance of two values](https://www.statisticshowto.com/probability-and-statistics/statistics-definitions/covariance/)"
      ]
    },
    {
      "cell_type": "code",
      "execution_count": null,
      "id": "later-hanging",
      "metadata": {
        "colab": {
          "base_uri": "https://localhost:8080/"
        },
<<<<<<< HEAD
        "id": "later-hanging",
        "outputId": "ba2acce3-5796-4e7f-bccc-b4217d2ba088"
=======
        "outputId": "bcbf09a8-51a3-4d32-e529-19c47d665950"
>>>>>>> 24423309a9d72295c61c85fc91c0330fd595e688
      },
      "outputs": [
        {
          "name": "stdout",
          "output_type": "stream",
          "text": [
            "LinearRegression Implementation\n",
            "-0.05805000000000284\n"
          ]
        }
      ],
      "source": [
        "class LinearRegression:\n",
        "\n",
        "  def __init__(self):\n",
        "    print(\"LinearRegression Implementation\")\n",
        "\n",
        "  def mean(self, inputList) :\n",
        "    return np.sum(inputList) / len(inputList)\n",
        "\n",
        "  def variance(self, inputList) :\n",
        "    sum = 0\n",
        "    mean = self.mean(inputList)\n",
        "    for data in inputList:\n",
        "      sum += (data-mean)**2\n",
        "\n",
        "    var = sum/(len(inputList) - 1)\n",
        "    return var\n",
        "\n",
        "  def covariance(self, input_x, input_y):\n",
        "    sum = 0\n",
        "    mean_x = self.mean(input_x)\n",
        "    mean_y = self.mean(input_y)\n",
        "    for a,b in zip(input_x, input_y):\n",
        "      sum+= (a-mean_x)*(b-mean_y)\n",
        "\n",
        "    covar = sum / (len(input_x) - 1)\n",
        "    return covar\n",
        "\n",
        "  def __repr__(self):\n",
        "    rep = 'LinearRegression for calculating the regression'\n",
        "    return rep\n",
        "\n",
        "lr = LinearRegression()\n",
        "print(lr.covariance([65.21, 64.75, 65.26, 65.76, 65.96], [67.25, 66.39, 66.12, 65.70, 66.64]))"
<<<<<<< HEAD
=======
      ],
      "id": "later-hanging",
      "execution_count": 8,
      "outputs": [
        {
          "output_type": "stream",
          "name": "stdout",
          "text": [
            "LinearRegression Implementation\n",
            "-0.05805000000000284\n"
          ]
        }
>>>>>>> 24423309a9d72295c61c85fc91c0330fd595e688
      ]
    },
    {
      "cell_type": "markdown",
      "id": "relative-plaza",
      "metadata": {
        "id": "relative-plaza"
      },
      "source": [
        "#### Exercise 6: In the above defined Linear Regression class, add a method named 'fit' which takes two values as input (x, y) and returns the estimated coefficients.\n",
        "\n",
        "**Hint:**\n",
        "\n",
        "- Equation of line : $  y = b_{0} + b_{1} * x $\n",
        "- The estimated coefficients i.e. values of $b_{0}$ and $b_{1}$ are calculated as below\n",
        "    - $ b_{1} = covariance(x,y) / variance(x) $ and\n",
        "    - $ b_{0} = mean(y) - b_{1} * mean(x)$"
      ]
    },
    {
      "cell_type": "markdown",
      "id": "proud-choir",
      "metadata": {
        "id": "proud-choir"
      },
      "source": [
        "#### Exercise 7: In the above defined Linear Regression class, add a method named predict which takes two values as input (x, y) and returns the predicted values.\n",
        "\n",
        "**Hint:** substitute the estimated coefficients values calculated above in the equation of line i.e $  y = b_{0} + b_{1} * x $"
      ]
    },
    {
      "cell_type": "code",
      "execution_count": null,
      "id": "political-priest",
      "metadata": {
        "colab": {
          "base_uri": "https://localhost:8080/"
        },
<<<<<<< HEAD
        "id": "political-priest",
        "outputId": "813b10d4-32db-4c6f-9112-e2ca228d059c"
=======
        "outputId": "e876b9ae-c0ad-43e5-b4f6-eb0e7485a781"
>>>>>>> 24423309a9d72295c61c85fc91c0330fd595e688
      },
      "outputs": [
        {
          "name": "stdout",
          "output_type": "stream",
          "text": [
            "LinearRegression Implementation\n",
            "(867.6042222620562, 0.3731579359288647)\n"
          ]
        }
      ],
      "source": [
        "class LinearRegression:\n",
        "\n",
        "  def __init__(self):\n",
        "    print(\"LinearRegression Implementation\")\n",
        "\n",
        "  def mean(self, inputList) :\n",
        "    return np.sum(inputList) / len(inputList)\n",
        "\n",
        "  def variance(self, inputList) :\n",
        "    sum = 0\n",
        "    mean = self.mean(inputList)\n",
        "    for data in inputList:\n",
        "      sum += (data-mean)**2\n",
        "\n",
        "    var = sum/(len(inputList) - 1)\n",
        "    return var\n",
        "\n",
        "  def covariance(self, input_x, input_y):\n",
        "    sum = 0\n",
        "    mean_x = self.mean(input_x)\n",
        "    mean_y = self.mean(input_y)\n",
        "    for a,b in zip(input_x, input_y):\n",
        "      sum+= (a-mean_x)*(b-mean_y)\n",
        "\n",
        "    covar = sum / (len(input_x) - 1)\n",
        "    return covar\n",
        "\n",
        "  def fit(self, input_x, input_y):\n",
        "    covar = self.covariance(input_x,input_y)\n",
        "    var = self.variance(input_x)\n",
        "    b1 = covar/var\n",
        "    b0 = self.mean(input_y)- (b1 * self.mean(input_x))\n",
        "    return (b0,b1)\n",
        "\n",
        "  def predict(self, input_x, input_y):\n",
        "    input_arr_x = np.array(input_x)\n",
        "    coefficients = self.fit(input_x, input_y)\n",
        "    y = coefficients[0] + coefficients[1]*input_arr_x\n",
        "    return y.tolist()\n",
        "\n",
        "  def __repr__(self):\n",
        "    rep = 'LinearRegression for calculating the regression'\n",
        "    return rep\n",
        "\n",
        "lr = LinearRegression()\n",
        "print(lr.fit([1000, 1125, 1087, 1070, 1100, 1150, 1250, 1150, 1100, 1350, 1275, 1375, 1175, 1200, 1175, 1300, 1260, 1330, 1325, 1200, 1225, 1090, 1075, 1080, 1080, 1180, 1225, 1175, 1250, 1250, 750, 1125, 700, 900, 900, 850],\n",
        "       [1050, 1150, 1213, 1275, 1300, 1300, 1400, 1400, 1250, 1830, 1350, 1450, 1300, 1300, 1275, 1375, 1285, 1400, 1400, 1285, 1275, 1135, 1250, 1275, 1150, 1250, 1275, 1225, 1280, 1300, 1250, 1175, 1300, 1250, 1300, 1200]))\n"
<<<<<<< HEAD
=======
      ],
      "id": "political-priest",
      "execution_count": 9,
      "outputs": [
        {
          "output_type": "stream",
          "name": "stdout",
          "text": [
            "LinearRegression Implementation\n",
            "(867.6042222620562, 0.3731579359288647)\n"
          ]
        }
>>>>>>> 24423309a9d72295c61c85fc91c0330fd595e688
      ]
    },
    {
      "cell_type": "markdown",
      "id": "european-spell",
      "metadata": {
        "id": "european-spell"
      },
      "source": [
        "#### Data\n",
        "\n",
        "The dataset chosen for this experiment is **Pizza Franchise** dataset. The dataset contains the following data\n",
        "\n",
        "X = annual franchise fee ($1000)\n",
        "\n",
        "Y = start up cost ($1000) for a pizza franchise\n",
        "\n",
        "Download the dataset [here](https://cdn.iisc.talentsprint.com/CDS/Datasets/pizza.csv)"
      ]
    },
    {
      "cell_type": "markdown",
      "id": "funky-schedule",
      "metadata": {
        "id": "funky-schedule"
      },
      "source": [
        "#### Exercise 8: Using the above defined class LinearRegression, calculate the Estimated coefficients, fit the model, and predict the values on the Pizza Franchise dataset."
      ]
    },
    {
      "cell_type": "code",
      "execution_count": null,
      "id": "comic-removal",
      "metadata": {
        "colab": {
          "base_uri": "https://localhost:8080/"
        },
<<<<<<< HEAD
        "id": "comic-removal",
        "outputId": "1c288d78-aae8-4c8d-ccbd-5d8ecd9ae72c"
=======
        "outputId": "71c9c920-4132-434c-aa5f-90e4bc0675f1"
>>>>>>> 24423309a9d72295c61c85fc91c0330fd595e688
      },
<<<<<<< HEAD
=======
      "source": [
        "import pandas as pd\n",
        "\n",
        "df = pd.read_csv('https://cdn.iisc.talentsprint.com/CDS/Datasets/pizza.csv')\n",
        "print(df)\n",
        "print(df.shape)\n",
        "df.dropna(inplace=True)\n",
        "print(df.shape)\n",
        "x = df.X.values.tolist()\n",
        "y = df.Y.values.tolist()\n",
        "print(x)\n",
        "print(y)\n",
        "linear_reg = LinearRegression()\n",
        "predicted = linear_reg.predict(x,y)\n",
        "output = ['{:.2f}'.format(elem) for elem in predicted]\n",
        "print(\"Predicted Values:\")\n",
        "print(output)"
      ],
      "id": "comic-removal",
      "execution_count": 10,
>>>>>>> 24423309a9d72295c61c85fc91c0330fd595e688
      "outputs": [
        {
          "name": "stdout",
          "output_type": "stream",
          "name": "stdout",
          "text": [
            "       X     Y\n",
            "0   1000  1050\n",
            "1   1125  1150\n",
            "2   1087  1213\n",
            "3   1070  1275\n",
            "4   1100  1300\n",
            "5   1150  1300\n",
            "6   1250  1400\n",
            "7   1150  1400\n",
            "8   1100  1250\n",
            "9   1350  1830\n",
            "10  1275  1350\n",
            "11  1375  1450\n",
            "12  1175  1300\n",
            "13  1200  1300\n",
            "14  1175  1275\n",
            "15  1300  1375\n",
            "16  1260  1285\n",
            "17  1330  1400\n",
            "18  1325  1400\n",
            "19  1200  1285\n",
            "20  1225  1275\n",
            "21  1090  1135\n",
            "22  1075  1250\n",
            "23  1080  1275\n",
            "24  1080  1150\n",
            "25  1180  1250\n",
            "26  1225  1275\n",
            "27  1175  1225\n",
            "28  1250  1280\n",
            "29  1250  1300\n",
            "30   750  1250\n",
            "31  1125  1175\n",
            "32   700  1300\n",
            "33   900  1250\n",
            "34   900  1300\n",
            "35   850  1200\n",
            "(36, 2)\n",
            "(36, 2)\n",
            "[1000, 1125, 1087, 1070, 1100, 1150, 1250, 1150, 1100, 1350, 1275, 1375, 1175, 1200, 1175, 1300, 1260, 1330, 1325, 1200, 1225, 1090, 1075, 1080, 1080, 1180, 1225, 1175, 1250, 1250, 750, 1125, 700, 900, 900, 850]\n",
            "[1050, 1150, 1213, 1275, 1300, 1300, 1400, 1400, 1250, 1830, 1350, 1450, 1300, 1300, 1275, 1375, 1285, 1400, 1400, 1285, 1275, 1135, 1250, 1275, 1150, 1250, 1275, 1225, 1280, 1300, 1250, 1175, 1300, 1250, 1300, 1200]\n",
            "LinearRegression Implementation\n",
            "Predicted Values:\n",
            "['1240.76', '1287.41', '1273.23', '1266.88', '1278.08', '1296.74', '1334.05', '1296.74', '1278.08', '1371.37', '1343.38', '1380.70', '1306.06', '1315.39', '1306.06', '1352.71', '1337.78', '1363.90', '1362.04', '1315.39', '1324.72', '1274.35', '1268.75', '1270.61', '1270.61', '1307.93', '1324.72', '1306.06', '1334.05', '1334.05', '1147.47', '1287.41', '1128.81', '1203.45', '1203.45', '1184.79']\n"
          ]
        }
      ],
      "source": [
        "import pandas as pd\n",
        "\n",
        "df = pd.read_csv('https://cdn.iisc.talentsprint.com/CDS/Datasets/pizza.csv')\n",
        "print(df)\n",
        "print(df.shape)\n",
        "df.dropna(inplace=True)\n",
        "print(df.shape)\n",
        "x = df.X.values.tolist()\n",
        "y = df.Y.values.tolist()\n",
        "print(x)\n",
        "print(y)\n",
        "linear_reg = LinearRegression()\n",
        "predicted = linear_reg.predict(x,y)\n",
        "output = ['{:.2f}'.format(elem) for elem in predicted]\n",
        "print(\"Predicted Values:\")\n",
        "print(output)"
      ]
    },
    {
      "cell_type": "code",
      "execution_count": null,
      "id": "WnZ4nSateGEH",
      "metadata": {
        "colab": {
          "base_uri": "https://localhost:8080/"
        },
        "id": "WnZ4nSateGEH",
        "outputId": "d10c2b06-4d88-4cea-f148-dab9a8e3bc64"
      },
      "outputs": [
        {
          "name": "stdout",
          "output_type": "stream",
          "text": [
            "NPLinearRegression Implementation\n",
            "Predicted Values:\n",
            "['1240.76', '1287.41', '1273.23', '1266.88', '1278.08', '1296.74', '1334.05', '1296.74', '1278.08', '1371.37', '1343.38', '1380.70', '1306.06', '1315.39', '1306.06', '1352.71', '1337.78', '1363.90', '1362.04', '1315.39', '1324.72', '1274.35', '1268.75', '1270.61', '1270.61', '1307.93', '1324.72', '1306.06', '1334.05', '1334.05', '1147.47', '1287.41', '1128.81', '1203.45', '1203.45', '1184.79']\n"
          ]
        }
      ],
      "source": [
        "class NPLinearRegression(LinearRegression):\n",
        "\n",
        "  def __init__(self):\n",
        "    print(\"NPLinearRegression Implementation\")\n",
        "\n",
        "  def variance(self, inputList) :\n",
        "    mean = self.mean(inputList)\n",
        "    input_arr = np.array(inputList)\n",
        "    var = np.sum((input_arr-mean)**2)/(input_arr.size-1)\n",
        "    return var.item()\n",
        "\n",
        "  def covariance(self, input_x, input_y):\n",
        "    mean_x = self.mean(input_x)\n",
        "    mean_y = self.mean(input_y)\n",
        "    input_arr_x = np.array(input_x)\n",
        "    input_arr_y = np.array(input_y)\n",
        "    covar = np.sum((input_arr_x-mean_x)*(input_arr_y-mean_y))/(input_arr_x.size-1)\n",
        "    return covar.item()\n",
        "\n",
        "  def fit(self, input_x, input_y):\n",
        "    covar = self.covariance(input_x,input_y)\n",
        "    var = self.variance(input_x)\n",
        "    b1 = covar/var\n",
        "    b0 = self.mean(input_y)- (b1 * self.mean(input_x))\n",
        "    return (b0,b1)\n",
        "\n",
        "  def predict(self, input_x, input_y):\n",
        "    input_arr_x = np.array(input_x)\n",
        "    coefficients = self.fit(input_x, input_y)\n",
        "    y = coefficients[0] + coefficients[1]*input_arr_x\n",
        "    return y.tolist()\n",
        "\n",
        "\n",
        "  def __repr__(self):\n",
        "    rep = 'NPLinearRegression for calculating the regression'\n",
        "    return rep\n",
        "\n",
        "\n",
        "linear_reg = NPLinearRegression()\n",
        "predicted = linear_reg.predict(x,y)\n",
        "output = ['{:.2f}'.format(elem) for elem in predicted]\n",
        "print(\"Predicted Values:\")\n",
        "print(output)"
<<<<<<< HEAD
=======
      ],
      "id": "WnZ4nSateGEH",
      "execution_count": 11,
      "outputs": [
        {
          "output_type": "stream",
          "name": "stdout",
          "text": [
            "NPLinearRegression Implementation\n",
            "Predicted Values:\n",
            "['1240.76', '1287.41', '1273.23', '1266.88', '1278.08', '1296.74', '1334.05', '1296.74', '1278.08', '1371.37', '1343.38', '1380.70', '1306.06', '1315.39', '1306.06', '1352.71', '1337.78', '1363.90', '1362.04', '1315.39', '1324.72', '1274.35', '1268.75', '1270.61', '1270.61', '1307.93', '1324.72', '1306.06', '1334.05', '1334.05', '1147.47', '1287.41', '1128.81', '1203.45', '1203.45', '1184.79']\n"
          ]
        }
>>>>>>> 24423309a9d72295c61c85fc91c0330fd595e688
      ]
    },
    {
      "cell_type": "markdown",
      "id": "industrial-deposit",
      "metadata": {
        "id": "industrial-deposit"
      },
      "source": [
        "#### Exercise 9: In the above defined Linear Regression class, add a method named RMSE which takes two values as input (x, y) and returns the error value.\n",
        "\n",
        "**Hint:**\n",
        "\n",
        "- [How to calculate RSME error](https://towardsdatascience.com/what-does-rmse-really-mean-806b65f2e48e)"
      ]
    },
    {
      "cell_type": "code",
      "execution_count": null,
      "id": "metropolitan-vinyl",
      "metadata": {
        "id": "metropolitan-vinyl"
      },
      "outputs": [],
      "source": [
        "class NPLinearRegression(LinearRegression):\n",
        "\n",
        "  def __init__(self):\n",
        "    print(\"NPLinearRegression Implementation\")\n",
        "\n",
        "  def variance(self, inputList) :\n",
        "    mean = self.mean(inputList)\n",
        "    input_arr = np.array(inputList)\n",
        "    var = np.sum((input_arr-mean)**2)/(input_arr.size-1)\n",
        "    return var.item()\n",
        "\n",
        "  def covariance(self, input_x, input_y):\n",
        "    mean_x = self.mean(input_x)\n",
        "    mean_y = self.mean(input_y)\n",
        "    input_arr_x = np.array(input_x)\n",
        "    input_arr_y = np.array(input_y)\n",
        "    covar = np.sum((input_arr_x-mean_x)*(input_arr_y-mean_y))/(input_arr_x.size-1)\n",
        "    return covar.item()\n",
        "\n",
        "  def fit(self, input_x, input_y):\n",
        "    covar = self.covariance(input_x,input_y)\n",
        "    var = self.variance(input_x)\n",
        "    b1 = covar/var\n",
        "    b0 = self.mean(input_y)- (b1 * self.mean(input_x))\n",
        "    return (b0,b1)\n",
        "\n",
        "  def predict(self, input_x, input_y):\n",
        "    input_arr_x = np.array(input_x)\n",
        "    coefficients = self.fit(input_x, input_y)\n",
        "    y = coefficients[0] + coefficients[1]*input_arr_x\n",
        "    return y.tolist()\n",
        "\n",
        "\n",
        "  def root_mean_square_error(self, input_x, input_y):\n",
        "    input_arr_x = np.array(input_x)\n",
        "    input_arr_y = np.array(input_y)\n",
        "    euclidianDist = np.sum((input_arr_x - input_arr_y)**2)\n",
        "    rmse = np.sqrt(euclidianDist/input_arr_x.size).item()\n",
        "    return rmse\n",
        "\n",
        "  def error_np_arr(self, y_pred, y_actual):\n",
        "    input_arr_pred = np.array(y_pred)\n",
        "    input_arr_actual = np.array(y_actual)\n",
        "    return (input_arr_pred - input_arr_actual)\n",
        "\n",
        "  def __repr__(self):\n",
        "    rep = 'NPLinearRegression for calculating the regression'\n",
        "    return rep"
<<<<<<< HEAD
      ]
=======
      ],
      "id": "metropolitan-vinyl",
      "execution_count": 14,
      "outputs": []
>>>>>>> 24423309a9d72295c61c85fc91c0330fd595e688
    },
    {
      "cell_type": "markdown",
      "id": "three-escape",
      "metadata": {
        "id": "three-escape"
      },
      "source": [
        "#### Data\n",
        "\n",
        "The dataset chosen for this exercise is **List Price Vs. Best Price for a New GMC Pickup** dataset. The dataset contains the following data\n",
        "\n",
        "X = List price (in $1000) for a GMC pickup truck\n",
        "\n",
        "Y = Best price (in $1000) for a GMC pickup truck\n",
        "\n",
        "Download the dataset [here](https://cdn.iisc.talentsprint.com/CDS/Datasets/gmc.csv)"
      ]
    },
    {
      "cell_type": "markdown",
      "id": "eight-israeli",
      "metadata": {
        "id": "eight-israeli"
      },
      "source": [
        "#### Exercise 10: Using above defined class LinearRegression,\n",
        "\n",
        "- calculate the Estimated coefficients, fit the model, and predict the values on the List Price Vs. Best Price for a New GMC Pickup dataset.\n",
        "- calculate the RMSE error on predicted and actual values of List Price Vs. Best Price for a New GMC Pickup dataset using the function defined above."
      ]
    },
    {
      "cell_type": "code",
      "execution_count": null,
      "id": "hbtkkxRqfxS4",
      "metadata": {
        "colab": {
          "base_uri": "https://localhost:8080/",
          "height": 1000
        },
        "id": "hbtkkxRqfxS4",
        "outputId": "ade52e62-1918-474f-8768-70fca20de52a"
      },
<<<<<<< HEAD
=======
      "source": [
        "import pandas as pd\n",
        "df = pd.read_csv('https://cdn.iisc.talentsprint.com/CDS/Datasets/gmc.csv')\n",
        "print(df)\n",
        "print(df.shape)\n",
        "df.dropna(inplace=True)\n",
        "print(df.shape)\n",
        "x = df.X.values.tolist()\n",
        "y = df.Y.values.tolist()\n",
        "print(x)\n",
        "print(y)\n",
        "linear_reg = NPLinearRegression()\n",
        "print('Mean x :::::::',linear_reg.mean(x))\n",
        "print('Mean y :::::::',linear_reg.mean(y))\n",
        "print('variance x :::::::',linear_reg.variance(x))\n",
        "print('variance y :::::::',linear_reg.variance(y))\n",
        "print('covariance :::::::',linear_reg.covariance(x,y))\n",
        "print('fit :::::::',linear_reg.fit(x,y))\n",
        "pred_list = linear_reg.predict(x,y)\n",
        "print('predicted ::::::',pred_list)\n",
        "error = linear_reg.root_mean_square_error(pred_list, y)\n",
        "print('root mean error ::::::',error)\n",
        "plt.hist(linear_reg.error_np_arr(pred_list, y) ,30, density=True)\n",
        "plt.show()"
      ],
      "id": "hbtkkxRqfxS4",
      "execution_count": 13,
>>>>>>> 24423309a9d72295c61c85fc91c0330fd595e688
      "outputs": [
        {
          "name": "stdout",
          "output_type": "stream",
          "name": "stdout",
          "text": [
            "            X          Y\n",
            "0   12.400000  11.200000\n",
            "1   14.300000  12.500000\n",
            "2   14.500000  12.700000\n",
            "3   14.900000  13.100000\n",
            "4   16.100000  14.100000\n",
            "5   16.900000  14.800000\n",
            "6   16.500000  14.400000\n",
            "7   15.400000  13.400000\n",
            "8   17.000000  14.900000\n",
            "9   17.900000  15.600000\n",
            "10  18.799999  16.400000\n",
            "11  20.299999  17.700001\n",
            "12  22.400000  19.600000\n",
            "13  19.400000  16.900000\n",
            "14  15.500000  14.000000\n",
            "15  16.700001  14.600000\n",
            "16  17.299999  15.100000\n",
            "17  18.400000  16.100000\n",
            "18  19.200001  16.799999\n",
            "19  17.400000  15.200000\n",
            "20  19.500000  17.000000\n",
            "21  19.700001  17.200001\n",
            "22  21.200001  18.600000\n",
            "(23, 2)\n",
            "(23, 2)\n",
            "[12.39999962, 14.30000019, 14.5, 14.89999962, 16.10000038, 16.89999962, 16.5, 15.39999962, 17.0, 17.89999962, 18.79999924, 20.29999924, 22.39999962, 19.39999962, 15.5, 16.70000076, 17.29999924, 18.39999962, 19.20000076, 17.39999962, 19.5, 19.70000076, 21.20000076]\n",
            "[11.19999981, 12.5, 12.69999981, 13.10000038, 14.10000038, 14.80000019, 14.39999962, 13.39999962, 14.89999962, 15.60000038, 16.39999962, 17.70000076, 19.60000038, 16.89999962, 14.0, 14.60000038, 15.10000038, 16.10000038, 16.79999924, 15.19999981, 17.0, 17.20000076, 18.60000038]\n",
            "NPLinearRegression Implementation\n",
            "Mean x ::::::: 17.465217300434787\n",
            "Mean y ::::::: 15.300000066086955\n",
            "variance x ::::::: 5.826917169075343\n",
            "variance y ::::::: 4.233636835181986\n",
            "covariance ::::::: 4.959545807584982\n",
            "fit ::::::: (0.43458449082531736, 0.8511440378638502)\n",
            "predicted :::::: [10.988770236902324, 12.605944393995742, 12.776173039851145, 13.11663033156195, 14.13800382386804, 14.818918407289651, 14.478461115578845, 13.542202350493875, 14.90403313451077, 15.6700624451535, 16.436091755796234, 17.712807812592004, 19.500210615540823, 16.946778501949275, 13.627317077714995, 14.648690570021085, 15.159375699000455, 16.095634464085425, 16.776550664680713, 15.244490426221576, 17.031893229170393, 17.202122683612636, 18.478838740408413]\n",
            "root mean error :::::: 0.10868338378542279\n"
          ]
        },
        {
          "data": {
<<<<<<< HEAD
            "image/png": "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",
=======
>>>>>>> 24423309a9d72295c61c85fc91c0330fd595e688
            "text/plain": [
              "<Figure size 640x480 with 1 Axes>"
            ],
            "image/png": "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\n"
          },
<<<<<<< HEAD
          "metadata": {
            "needs_background": "light",
            "tags": []
          },
          "output_type": "display_data"
=======
          "metadata": {}
>>>>>>> 24423309a9d72295c61c85fc91c0330fd595e688
        }
      ],
      "source": [
        "import pandas as pd\n",
        "df = pd.read_csv('https://cdn.iisc.talentsprint.com/CDS/Datasets/gmc.csv')\n",
        "print(df)\n",
        "print(df.shape)\n",
        "df.dropna(inplace=True)\n",
        "print(df.shape)\n",
        "x = df.X.values.tolist()\n",
        "y = df.Y.values.tolist()\n",
        "print(x)\n",
        "print(y)\n",
        "linear_reg = NPLinearRegression()\n",
        "print('Mean x :::::::',linear_reg.mean(x))\n",
        "print('Mean y :::::::',linear_reg.mean(y))\n",
        "print('variance x :::::::',linear_reg.variance(x))\n",
        "print('variance y :::::::',linear_reg.variance(y))\n",
        "print('covariance :::::::',linear_reg.covariance(x,y))\n",
        "print('fit :::::::',linear_reg.fit(x,y))\n",
        "pred_list = linear_reg.predict(x,y)\n",
        "print('predicted ::::::',pred_list)\n",
        "error = linear_reg.root_mean_square_error(pred_list, y)\n",
        "print('root mean error ::::::',error)\n",
        "plt.hist(linear_reg.error_np_arr(pred_list, y) ,30, density=True)\n",
        "plt.show()"
      ]
    },
    {
      "cell_type": "markdown",
      "id": "7-Mb_sy9go8R",
      "metadata": {
        "id": "7-Mb_sy9go8R"
      },
      "source": [
        "## Using Sciket Learn Library"
      ]
    },
    {
      "cell_type": "code",
      "execution_count": null,
      "id": "w-TuPKTogv2U",
      "metadata": {
        "id": "w-TuPKTogv2U"
      },
      "outputs": [],
      "source": [
        "from sklearn.linear_model import LinearRegression as SKLR\n",
        "from sklearn import metrics"
<<<<<<< HEAD
      ]
=======
      ],
      "id": "w-TuPKTogv2U",
      "execution_count": 15,
      "outputs": []
>>>>>>> 24423309a9d72295c61c85fc91c0330fd595e688
    },
    {
      "cell_type": "code",
      "execution_count": null,
      "id": "Bk0MjL1KhHmp",
      "metadata": {
        "colab": {
          "base_uri": "https://localhost:8080/",
          "height": 1000
        },
        "id": "Bk0MjL1KhHmp",
        "outputId": "47cacecc-5e9c-4c23-e44c-2a1bca2dc92e"
      },
<<<<<<< HEAD
=======
      "source": [
        "linear_reg = SKLR()\n",
        "X = np.array(df.X).reshape(-1, 1)\n",
        "print(\"X\")\n",
        "print(X)\n",
        "y = np.array(df.Y).reshape(-1, 1)\n",
        "print(\"Y\")\n",
        "print(y)\n",
        "reg = linear_reg.fit(X ,y)\n",
        "print('Score on train dataset :::::::',reg.score(X, y))\n",
        "coeff = reg.coef_\n",
        "print('Coefficients',coeff)\n",
        "intercept = reg.intercept_\n",
        "print('Intercept',intercept)\n",
        "y_pred = reg.predict(X)\n",
        "print('Predict: ', y_pred)\n",
        "\n",
        "print('root mean error ::::::', metrics.mean_squared_error(y, y_pred))\n",
        "print('Coefficient of determination: %.2f'\n",
        "      % metrics.r2_score(y, y_pred))\n",
        "\n",
        "\n",
        "# Plot outputs\n",
        "plt.scatter(X, y,  color='black')\n",
        "plt.plot(X, y_pred, color='blue', linewidth=3)\n",
        "\n",
        "plt.xticks(())\n",
        "plt.yticks(())\n",
        "\n",
        "plt.show()"
      ],
      "id": "Bk0MjL1KhHmp",
      "execution_count": 16,
>>>>>>> 24423309a9d72295c61c85fc91c0330fd595e688
      "outputs": [
        {
          "name": "stdout",
          "output_type": "stream",
          "name": "stdout",
          "text": [
            "X\n",
            "[[12.39999962]\n",
            " [14.30000019]\n",
            " [14.5       ]\n",
            " [14.89999962]\n",
            " [16.10000038]\n",
            " [16.89999962]\n",
            " [16.5       ]\n",
            " [15.39999962]\n",
            " [17.        ]\n",
            " [17.89999962]\n",
            " [18.79999924]\n",
            " [20.29999924]\n",
            " [22.39999962]\n",
            " [19.39999962]\n",
            " [15.5       ]\n",
            " [16.70000076]\n",
            " [17.29999924]\n",
            " [18.39999962]\n",
            " [19.20000076]\n",
            " [17.39999962]\n",
            " [19.5       ]\n",
            " [19.70000076]\n",
            " [21.20000076]]\n",
            "Y\n",
            "[[11.19999981]\n",
            " [12.5       ]\n",
            " [12.69999981]\n",
            " [13.10000038]\n",
            " [14.10000038]\n",
            " [14.80000019]\n",
            " [14.39999962]\n",
            " [13.39999962]\n",
            " [14.89999962]\n",
            " [15.60000038]\n",
            " [16.39999962]\n",
            " [17.70000076]\n",
            " [19.60000038]\n",
            " [16.89999962]\n",
            " [14.        ]\n",
            " [14.60000038]\n",
            " [15.10000038]\n",
            " [16.10000038]\n",
            " [16.79999924]\n",
            " [15.19999981]\n",
            " [17.        ]\n",
            " [17.20000076]\n",
            " [18.60000038]]\n",
            "Score on train dataset ::::::: 0.9970831247402355\n",
            "Coefficients [[0.85114404]]\n",
            "Intercept [0.43458449]\n",
            "Predict:  [[10.98877024]\n",
            " [12.60594439]\n",
            " [12.77617304]\n",
            " [13.11663033]\n",
            " [14.13800382]\n",
            " [14.81891841]\n",
            " [14.47846112]\n",
            " [13.54220235]\n",
            " [14.90403313]\n",
            " [15.67006245]\n",
            " [16.43609176]\n",
            " [17.71280781]\n",
            " [19.50021062]\n",
            " [16.9467785 ]\n",
            " [13.62731708]\n",
            " [14.64869057]\n",
            " [15.1593757 ]\n",
            " [16.09563446]\n",
            " [16.77655066]\n",
            " [15.24449043]\n",
            " [17.03189323]\n",
            " [17.20212268]\n",
            " [18.47883874]]\n",
            "root mean error :::::: 0.011812077911049476\n",
            "Coefficient of determination: 1.00\n"
          ]
        },
        {
          "data": {
<<<<<<< HEAD
            "image/png": "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",
=======
>>>>>>> 24423309a9d72295c61c85fc91c0330fd595e688
            "text/plain": [
              "<Figure size 640x480 with 1 Axes>"
            ],
            "image/png": "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\n"
          },
<<<<<<< HEAD
          "metadata": {
            "tags": []
          },
          "output_type": "display_data"
=======
          "metadata": {}
>>>>>>> 24423309a9d72295c61c85fc91c0330fd595e688
        }
      ],
      "source": [
        "linear_reg = SKLR()\n",
        "X = np.array(df.X).reshape(-1, 1)\n",
        "print(\"X\")\n",
        "print(X)\n",
        "y = np.array(df.Y).reshape(-1, 1)\n",
        "print(\"Y\")\n",
        "print(y)\n",
        "reg = linear_reg.fit(X ,y)\n",
        "print('Score on train dataset :::::::',reg.score(X, y))\n",
        "coeff = reg.coef_\n",
        "print('Coefficients',coeff)\n",
        "intercept = reg.intercept_\n",
        "print('Intercept',intercept)\n",
        "y_pred = reg.predict(X)\n",
        "print('Predict: ', y_pred)\n",
        "\n",
        "print('root mean error ::::::', metrics.mean_squared_error(y, y_pred))\n",
        "print('Coefficient of determination: %.2f'\n",
        "      % metrics.r2_score(y, y_pred))\n",
        "\n",
        "\n",
        "# Plot outputs\n",
        "plt.scatter(X, y,  color='black')\n",
        "plt.plot(X, y_pred, color='blue', linewidth=3)\n",
        "\n",
        "plt.xticks(())\n",
        "plt.yticks(())\n",
        "\n",
        "plt.show()"
      ]
    },
    {
      "cell_type": "markdown",
      "id": "0ZqYkvLOnBtL",
      "metadata": {
        "id": "0ZqYkvLOnBtL"
      },
      "source": [
        "## Using SGDRegressor"
      ]
    },
    {
      "cell_type": "code",
      "execution_count": null,
      "id": "o3EB80Rem_6T",
      "metadata": {
        "id": "o3EB80Rem_6T"
      },
      "outputs": [],
      "source": [
        "from sklearn.linear_model import SGDRegressor\n",
        "from sklearn.pipeline import make_pipeline\n",
        "from sklearn.preprocessing import StandardScaler"
<<<<<<< HEAD
      ]
=======
      ],
      "id": "o3EB80Rem_6T",
      "execution_count": 17,
      "outputs": []
>>>>>>> 24423309a9d72295c61c85fc91c0330fd595e688
    },
    {
      "cell_type": "code",
      "execution_count": null,
      "id": "PVnsBuYonNG4",
      "metadata": {
        "colab": {
          "base_uri": "https://localhost:8080/",
          "height": 580
        },
        "id": "PVnsBuYonNG4",
        "outputId": "35022bca-6be2-4618-bfb5-dd349914b865"
      },
<<<<<<< HEAD
=======
      "source": [
        "y_sgd = np.ravel(y)\n",
        "reg = make_pipeline(StandardScaler(), SGDRegressor(max_iter=1000, tol=1e-3))\n",
        "reg.fit(X, y)\n",
        "y_sgd_pred = reg.predict(X)\n",
        "print(\"Predicted Using SGDRegressor\")\n",
        "print(y_sgd_pred)\n",
        "\n",
        "print('root mean error ::::::', metrics.mean_squared_error(y, y_sgd_pred))\n",
        "print('Coefficient of determination: %.2f'\n",
        "      % metrics.r2_score(y, y_sgd_pred))\n",
        "\n",
        "\n",
        "# Plot outputs\n",
        "plt.scatter(X, y,  color='black')\n",
        "plt.plot(X, y_sgd_pred, color='green', linewidth=3)\n",
        "\n",
        "plt.xticks(())\n",
        "plt.yticks(())\n",
        "plt.legend()\n",
        "plt.show()"
      ],
      "id": "PVnsBuYonNG4",
      "execution_count": 18,
>>>>>>> 24423309a9d72295c61c85fc91c0330fd595e688
      "outputs": [
        {
          "name": "stderr",
          "output_type": "stream",
          "name": "stderr",
          "text": [
            "/usr/local/lib/python3.10/dist-packages/sklearn/utils/validation.py:1143: DataConversionWarning: A column-vector y was passed when a 1d array was expected. Please change the shape of y to (n_samples, ), for example using ravel().\n",
            "  y = column_or_1d(y, warn=True)\n",
<<<<<<< HEAD
            "No handles with labels found to put in legend.\n"
          ]
=======
            "WARNING:matplotlib.legend:No artists with labels found to put in legend.  Note that artists whose label start with an underscore are ignored when legend() is called with no argument.\n"
          ]
>>>>>>> 24423309a9d72295c61c85fc91c0330fd595e688
        },
        {
          "name": "stdout",
          "output_type": "stream",
          "name": "stdout",
          "text": [
            "Predicted Using SGDRegressor\n",
            "[10.88518795 12.48699418 12.65560515 12.99282709 14.00449452 14.67893841\n",
            " 14.34171647 13.41435492 14.7632443  15.52199407 16.28074384 17.54532733\n",
            " 19.31574453 16.78657756 13.49866081 14.51032824 15.01616035 15.9435219\n",
            " 16.61796739 15.10046624 16.87088344 17.03949522 18.3040787 ]\n",
            "root mean error :::::: 0.03307190307986746\n",
            "Coefficient of determination: 0.99\n"
          ]
        },
        {
          "data": {
<<<<<<< HEAD
            "image/png": "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",
=======
>>>>>>> 24423309a9d72295c61c85fc91c0330fd595e688
            "text/plain": [
              "<Figure size 640x480 with 1 Axes>"
            ],
            "image/png": "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\n"
          },
          "metadata": {}
        }
      ]
    },
    {
      "cell_type": "code",
      "source": [
        "from fastai.tabular.all import *\n",
        "\n",
        "# Create a DataFrame from the data\n",
        "df = pd.DataFrame({'X': X.flatten(), 'y': y.flatten()})\n",
        "\n",
        "# Set up the DataLoaders\n",
        "dls = TabularDataLoaders.from_df(df, procs=[Normalize], y_names='y', splits=RandomSplitter(seed=42)(range_of(df)))\n",
        "\n",
        "# Create and train a Tabular Learner\n",
        "learn = tabular_learner(dls, layers=[100,50], metrics=rmse)\n",
        "learn.fit_one_cycle(5)\n"
      ],
      "metadata": {
        "colab": {
          "base_uri": "https://localhost:8080/",
          "height": 623
        },
        "id": "_pu0HT_0tF4g",
        "outputId": "dfddaf65-efa4-49c8-a465-69523c76abb0"
      },
      "id": "_pu0HT_0tF4g",
      "execution_count": 20,
      "outputs": [
        {
          "output_type": "stream",
          "name": "stderr",
          "text": [
            "/usr/local/lib/python3.10/dist-packages/fastai/torch_core.py:263: UserWarning: 'has_mps' is deprecated, please use 'torch.backends.mps.is_built()'\n",
            "  return getattr(torch, 'has_mps', False)\n",
            "/usr/local/lib/python3.10/dist-packages/fastai/torch_core.py:263: UserWarning: 'has_mps' is deprecated, please use 'torch.backends.mps.is_built()'\n",
            "  return getattr(torch, 'has_mps', False)\n"
          ]
        },
        {
          "output_type": "display_data",
          "data": {
            "text/plain": [
              "<IPython.core.display.HTML object>"
            ],
            "text/html": [
              "\n",
              "<style>\n",
              "    /* Turns off some styling */\n",
              "    progress {\n",
              "        /* gets rid of default border in Firefox and Opera. */\n",
              "        border: none;\n",
              "        /* Needs to be in here for Safari polyfill so background images work as expected. */\n",
              "        background-size: auto;\n",
              "    }\n",
              "    progress:not([value]), progress:not([value])::-webkit-progress-bar {\n",
              "        background: repeating-linear-gradient(45deg, #7e7e7e, #7e7e7e 10px, #5c5c5c 10px, #5c5c5c 20px);\n",
              "    }\n",
              "    .progress-bar-interrupted, .progress-bar-interrupted::-webkit-progress-bar {\n",
              "        background: #F44336;\n",
              "    }\n",
              "</style>\n"
            ]
          },
<<<<<<< HEAD
          "metadata": {
            "tags": []
          },
          "output_type": "display_data"
=======
          "metadata": {}
        },
        {
          "output_type": "display_data",
          "data": {
            "text/plain": [
              "<IPython.core.display.HTML object>"
            ],
            "text/html": [
              "<table border=\"1\" class=\"dataframe\">\n",
              "  <thead>\n",
              "    <tr style=\"text-align: left;\">\n",
              "      <th>epoch</th>\n",
              "      <th>train_loss</th>\n",
              "      <th>valid_loss</th>\n",
              "      <th>_rmse</th>\n",
              "      <th>time</th>\n",
              "    </tr>\n",
              "  </thead>\n",
              "  <tbody>\n",
              "    <tr>\n",
              "      <td>0</td>\n",
              "      <td>nan</td>\n",
              "      <td>231.979950</td>\n",
              "      <td>15.230888</td>\n",
              "      <td>00:00</td>\n",
              "    </tr>\n",
              "    <tr>\n",
              "      <td>1</td>\n",
              "      <td>nan</td>\n",
              "      <td>231.979950</td>\n",
              "      <td>15.230888</td>\n",
              "      <td>00:00</td>\n",
              "    </tr>\n",
              "    <tr>\n",
              "      <td>2</td>\n",
              "      <td>nan</td>\n",
              "      <td>231.979950</td>\n",
              "      <td>15.230888</td>\n",
              "      <td>00:00</td>\n",
              "    </tr>\n",
              "    <tr>\n",
              "      <td>3</td>\n",
              "      <td>nan</td>\n",
              "      <td>231.979950</td>\n",
              "      <td>15.230888</td>\n",
              "      <td>00:00</td>\n",
              "    </tr>\n",
              "    <tr>\n",
              "      <td>4</td>\n",
              "      <td>nan</td>\n",
              "      <td>231.979950</td>\n",
              "      <td>15.230888</td>\n",
              "      <td>00:00</td>\n",
              "    </tr>\n",
              "  </tbody>\n",
              "</table>"
            ]
          },
          "metadata": {}
        },
        {
          "output_type": "stream",
          "name": "stderr",
          "text": [
            "/usr/local/lib/python3.10/dist-packages/fastprogress/fastprogress.py:73: UserWarning: Your generator is empty.\n",
            "  warn(\"Your generator is empty.\")\n",
            "/usr/local/lib/python3.10/dist-packages/fastai/torch_core.py:263: UserWarning: 'has_mps' is deprecated, please use 'torch.backends.mps.is_built()'\n",
            "  return getattr(torch, 'has_mps', False)\n",
            "/usr/local/lib/python3.10/dist-packages/fastprogress/fastprogress.py:73: UserWarning: Your generator is empty.\n",
            "  warn(\"Your generator is empty.\")\n",
            "/usr/local/lib/python3.10/dist-packages/fastai/torch_core.py:263: UserWarning: 'has_mps' is deprecated, please use 'torch.backends.mps.is_built()'\n",
            "  return getattr(torch, 'has_mps', False)\n",
            "/usr/local/lib/python3.10/dist-packages/fastprogress/fastprogress.py:73: UserWarning: Your generator is empty.\n",
            "  warn(\"Your generator is empty.\")\n",
            "/usr/local/lib/python3.10/dist-packages/fastai/torch_core.py:263: UserWarning: 'has_mps' is deprecated, please use 'torch.backends.mps.is_built()'\n",
            "  return getattr(torch, 'has_mps', False)\n",
            "/usr/local/lib/python3.10/dist-packages/fastprogress/fastprogress.py:73: UserWarning: Your generator is empty.\n",
            "  warn(\"Your generator is empty.\")\n",
            "/usr/local/lib/python3.10/dist-packages/fastai/torch_core.py:263: UserWarning: 'has_mps' is deprecated, please use 'torch.backends.mps.is_built()'\n",
            "  return getattr(torch, 'has_mps', False)\n",
            "/usr/local/lib/python3.10/dist-packages/fastprogress/fastprogress.py:73: UserWarning: Your generator is empty.\n",
            "  warn(\"Your generator is empty.\")\n",
            "/usr/local/lib/python3.10/dist-packages/fastai/torch_core.py:263: UserWarning: 'has_mps' is deprecated, please use 'torch.backends.mps.is_built()'\n",
            "  return getattr(torch, 'has_mps', False)\n"
          ]
>>>>>>> 24423309a9d72295c61c85fc91c0330fd595e688
        }
      ],
      "source": [
        "y_sgd = np.ravel(y)\n",
        "reg = make_pipeline(StandardScaler(), SGDRegressor(max_iter=1000, tol=1e-3))\n",
        "reg.fit(X, y)\n",
        "y_sgd_pred = reg.predict(X)\n",
        "print(\"Predicted Using SGDRegressor\")\n",
        "print(y_sgd_pred)\n",
        "\n",
        "print('root mean error ::::::', metrics.mean_squared_error(y, y_sgd_pred))\n",
        "print('Coefficient of determination: %.2f'\n",
        "      % metrics.r2_score(y, y_sgd_pred))\n",
        "\n",
        "\n",
        "# Plot outputs\n",
        "plt.scatter(X, y,  color='black')\n",
        "plt.plot(X, y_sgd_pred, color='green', linewidth=3)\n",
        "\n",
        "plt.xticks(())\n",
        "plt.yticks(())\n",
        "plt.legend()\n",
        "plt.show()"
      ]
    },
    {
      "cell_type": "markdown",
      "id": "qOlaeQDAqPYm",
      "metadata": {
        "id": "qOlaeQDAqPYm"
      },
      "source": [
        "## Prediction Latency"
      ]
    },
    {
      "cell_type": "code",
      "execution_count": null,
      "id": "CLDk-ecSqOej",
      "metadata": {
        "colab": {
          "base_uri": "https://localhost:8080/",
          "height": 1000
        },
        "id": "CLDk-ecSqOej",
        "outputId": "37513a77-da6b-4db8-af2c-5efef526caed"
      },
      "outputs": [
        {
          "name": "stdout",
          "output_type": "stream",
          "text": [
            "Benchmarking SGDRegressor(alpha=0.01, average=False, early_stopping=False, epsilon=0.1,\n",
            "             eta0=0.01, fit_intercept=True, l1_ratio=0.25,\n",
            "             learning_rate='invscaling', loss='squared_loss', max_iter=1000,\n",
            "             n_iter_no_change=5, penalty='elasticnet', power_t=0.25,\n",
            "             random_state=None, shuffle=True, tol=0.0001,\n",
            "             validation_fraction=0.1, verbose=0, warm_start=False)\n",
            "Benchmarking RandomForestRegressor(bootstrap=True, ccp_alpha=0.0, criterion='mse',\n",
            "                      max_depth=None, max_features='auto', max_leaf_nodes=None,\n",
            "                      max_samples=None, min_impurity_decrease=0.0,\n",
            "                      min_impurity_split=None, min_samples_leaf=1,\n",
            "                      min_samples_split=2, min_weight_fraction_leaf=0.0,\n",
            "                      n_estimators=100, n_jobs=None, oob_score=False,\n",
            "                      random_state=None, verbose=0, warm_start=False)\n",
            "Benchmarking SVR(C=1.0, cache_size=200, coef0=0.0, degree=3, epsilon=0.1, gamma='scale',\n",
            "    kernel='rbf', max_iter=-1, shrinking=True, tol=0.001, verbose=False)\n"
          ]
        },
        {
          "data": {
            "image/png": "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",
            "text/plain": [
              "<Figure size 720x432 with 1 Axes>"
            ]
          },
          "metadata": {
            "needs_background": "light",
            "tags": []
          },
          "output_type": "display_data"
        },
        {
          "data": {
            "image/png": "iVBORw0KGgoAAAANSUhEUgAAAmQAAAGBCAYAAADIcK0QAAAABHNCSVQICAgIfAhkiAAAAAlwSFlzAAALEgAACxIB0t1+/AAAADh0RVh0U29mdHdhcmUAbWF0cGxvdGxpYiB2ZXJzaW9uMy4yLjIsIGh0dHA6Ly9tYXRwbG90bGliLm9yZy+WH4yJAAAgAElEQVR4nO3deZxkVX338c9XdpRtRA0yyLgb3IiOW9xwiTGJUWJwi1FQE8ITl2j0cY0BnixuMcZoEkUl4BJEEVHjhiK4C7LJGpUgKgQRHRCJKIK/549zmimaXmp6uvr2TH/er1e/+tZdf1V1qu6vzjn3nlQVkiRJGs7Nhg5AkiRppTMhkyRJGpgJmSRJ0sBMyCRJkgZmQiZJkjQwEzJJkqSBmZBpxUtyRJK/7dMPTfLNBe7nbUlevbjRzXvMVyZ551IeU8tPkkpypz59Q3kec9s/S/JPk4vuhuM8P8nrJn2chUhymyRfSPLTJG8cOh6tTCZk2iQkuSjJNUmuTnJZP+ncYrGPU1VfrKq7jhHPAUm+NG3bg6rqbxYznp7kXd3/rk3yy5HHn6yqv6+qP1nMYw4hyT5JLl6E/ZyUZJN7PaaV7yuSfDzJHktw3K2BvwLeMDLvsCTfTPKrJAfMsM2LkvwgyVVJDk+yzciyNUlOTPKzJP+V5NEjm74DeHqSW48bW5Jj+mtTSfaZtjxJXpfkx/3vdUkysnzvJKf1WE5LsvcchzsQ+BGwY1W9eJz45oh7gxJiaYoJmTYlv19VtwDuA6ylnUhuJMmWSx7VBPUk7xb9ef89cPTU46r6naHjW4jN7T1aRFPlezfgMuAtS3DMJwD/VVWXjMz7BvDnwOnTV07y28DLgUcBewJ3AA4dWeUo4AzglsCrgGOS3Aqgqn4OfBJ45gbE9yXgj4EfzLDsQGBf4N7AvYDfB/6sx7k18BHgvcAuwJHAR/r8mewJnFfeKV0DMiHTJqefPD4J3ANuaK55bpJvA9/u8x6X5MwkVyb5SpJ7TW2f5DeSnN6bJ44Gth1ZdqOamiR7JDk2yeX9V/hbk/w68DbgQb1G48q+7o1+GSf50yQXJFmX5KNJbjuyrJIclOTbPcZ/Gf11P64khyR5b59e0/f7rCTf7zUtByW5X5Kz+nHeOm37Zyc5v6/76SR7znKcqX0fmOR/klya5CUjy2+W5OVJ/ru/Th9Ismrats9J8j3gc2M8r5OS/E2SL/f36fgku/Zl2yZ5bz/OlUm+ntbk9HfAQ4G39vflrX39N/fX46peU/LQaa/fB5K8ux/n3CRrR5bf5P3f0NduQ/XE5Rhgr2mvx5+MPL5JDe1MkuyQVmP1z7OUr98BPj/t+P9SVScAP59h/f2Bd1XVuVV1BfA3wAH9WHeh/Vg6uKquqaoPAWcDfziy/UnA780Xd4/j2qr6p6r6EnD9LLG8saou7t8Jb5yKBdgH2BL4p6r6RVX9MxDgkdN3kuSIvq+X9nLz6LnKc9/mg2m1hD9Ja+q8e59/IPD0kX19rM9/WZJLehn7ZpJHjfMaaGUxIdMmJ60p53dpv8Sn7As8ANgryW8Ah9N+Ld8SeDvw0STbpP1CPg54D7AK+CA3PmGMHmcL4D+B7wJrgN2B91fV+cBBwFd7TdXOM2z7SOA1wJNpNR7fBd4/bbXHAfej/bp/MvDbG/RCzO4BwJ2BpwD/RKupeDRwd+DJSR7eY3wC8ErgicCtgC/Sajjm8oi+78cAL8v6Jqnn096DhwO3Ba4A/mXatg8Hfp3xn+cfAc8Cbg1sDUwlgPsDOwF70N7fg4BrqupV/Tk8r78vz+vrfx3Ym/Z+/wfwwSQ3JOHA42nvzc7AR4GpRG7G978vW8hrN5Yk29Peu69t5H5uCZwAfLmqXjBL7c89gQ3pM3l3Wg3alG8At+nHujtwYVX9dNryu488Pp9Wo7UYZorl7iPLzpr2nM+aFgsAVXUA8D7g9b3cfJb5y/MnaZ+DW9NqEt/X93XYtH39fpK7As8D7ldVO9DK/0ULf9raXJmQaVNyXFpt1Jdov+r/fmTZa6pqXVVdQ2vKeHtVnVxV11fVkcAvgAf2v61ov5x/WVXH0E7YM7k/7cv4/1bV/1bVz/uv9XE8HTi8qk6vql8Ar6DVqK0ZWee1VXVlVX0POJGWNCyGv+mxHg/8L3BUVf2w1yJ8EfiNvt5BtNft/Kq6jvZ67j1PTc+h/bU4G/h34Gkj+3pVr634BXAIsF9u3Dx5SN/2mjGfx79X1bf6+h9g/evzS1oidqf+/p5WVVfNtpOqem9V/biqrquqNwLbAKP9BL9UVZ+oqutpifpUwjDX+7+Q124+U+X7J8BvMdKvawFuS/uMfLCqbtK0P2Jn4KdzLJ/uFrT4pkxN7zDDsqnlO4w8/iktmV4MM8Vyi14TOE4sc5mzPFfV4VX105Fl904y2/O6nlbm9kqyVVVdVFX/PWYcWkFMyLQp2beqdq6qPavqz6ed2L8/Mr0n8OLenHVlP8ntQTtJ3Ra4ZNov5+/Ocrw9gO/2E+6Guu3ofqvqauDHtFqWKaP9Yn5GO4kshstGpq+Z4fHUcfYE3jzyGq2jNeuMxjjd6Ov8XdrznNrXh0f2dT7tRHSbWbYdx2yvz3uATwPv782nr0+y1Ww7SfKS3rT4kx7bTsCucxxn237inev9H/u1y40vzHjlHM93317bui2tRuXzSX5tjvXn8nvAdrSm9blcwfhJCsDVwI4jj6emfzrDsqnlownfDtw0UVqomWK5un+2x4llLrOW5yRbJHltb868ivW1XbvOtKOqugB4IS1x+2GS92ek+4I0xYRMm4vRBOv7wN/15G3qb/uqOgq4FNh9Wn+a282yz+8Dt8vMndDn6/z7P7QvdQCS3JxWq3PJrFssve8Dfzbtddquqr4yxzajV/7djvY8p/b1O9P2te20zuKL0mG612weWlV7Ab9Ja/qd6ih+o2P0/mIvpTUJ79ITnp/Qkqf5zPX+j/3a1ciFGVX19zPsa/r611fVsbQE4CF99v8C24+sNl+i9g7gU8AnetmbzVnAXeaLacS53LjJ8d7AZVX1477sDkl2mLb83JHHv86Nmxk3xkyxnDuy7F7TPuf3mhbLXOYqz39Euxji0bTkfk3fZupYNynnVfUfVfUQ2ndCAcvy9h8algmZNkfvAA5K8oA0N0/ye/1E8VXgOuAFSbZK8kRa09RMTqElcK/t+9g2yYP7ssuA1Zn9qq2jgGelXXq/Da1J6+SqumiRnuNieBvwipEOyTsledI827w6yfZ9m2cBR4/s6++mmuyS3Kr3s1p0SR6R5J69j9dVtCbMX/XFl9Gu/JuyA+39vhzYMslfc9Oak9nM9f4v5LUbSy+zT6BdHXh+n30m8MT+2t8JeM4Yu3oerX/Yx5JsN8s6n6D1kxo9/ta9j12ArfrznjpXvBt4TpK9kuxMu9L5CICq+laP8+C+zR/QkqAPjez+4bT+V1PHOiKtU/2Mer/Pqf5+W/f9TiU+7wb+MsnuvcbpxVOx0C4euJ72Od8myVR/wnkvKOnmKs870LpA/JiWJE9Psm9UBpPcNckj+/fAz2m11L9CmsaETJudqjoV+FNa5+wrgAvoV19V1bW0jtgH0JqZngIcO8t+rqddSn8n4HvAxX19aF/s5wI/SPKjGbb9LPBq2snoUuCOwFMX4ektmqr6MO2X+vt708s5tKvu5vJ52ut5AvAPvZ8awJtpHeKPT/JTWof0B0wk8FY7dAwtGTu/x/SekTj2S7vy8Z9pTZufAr5Fa2L9OWM2nc71/i/wtZvPx5Jc3Z/X3wH7V9VUjc6bgGtpJ/sj6Z3I54m/aP0pL6bd8mHbGVb7GHC3aU1ox9OSht8EDuvTD+v7/BTwelqfx+/RXtODR7Z9Ku2WNFcArwX2q6rLoV0dS7sY58iR9fcAvjzH0/hmP/7utPfyGtbXPL+9x3827fX/eJ839Tnfl1ZzeiXwbFqT8LVzHGvUXOX53f15XwKcx00vvngXrb/YlUmOo/Ufey3tPmc/oF0I8AqAJE9PMm6tnTZzKW+7ImkeaRcjfAfYaoF96rRMpd2qYa+qeuGEj/N8YI+qeml/vDWt+fJeVfXLSR5b2hSYkEmalwmZJE2WTZaSJEkDs4ZMkiRpYNaQSZIkDcyETJIkaWAz3fBwk7HrrrvWmjVrhg5DkiRpXqeddtqPqupWMy3bpBOyNWvWcOqppw4dhiRJ0rySzDZUn02WkiRJQzMhkyRJGpgJmSRJ0sBMyCRJkgZmQiZJkjQwEzJJkqSBmZBJkiQNzIRMkiRpYCZkkiRJAzMhkyRJGpgJmSRJ0sBMyCRJkgZmQiZJkjSwLYcOQJIkLVySJT9mVS35MTd3JmSSJG3CFpocJTGxWkZsspQkSRqYCZkkSdLATMgkSZIGZkImSZI0MBMySZKkgZmQSZIkDcyETJIkaWAmZJIkSQMzIZMkSRqYCZkkSdLAJpaQJTk8yQ+TnDMy7w1J/ivJWUk+nGTnkWWvSHJBkm8m+e1JxSVJkrTcTLKG7AjgsdPmfQa4R1XdC/gW8AqAJHsBTwXu3rf51yRbTDA2SZKkZWNiCVlVfQFYN23e8VV1XX/4NWB1n34C8P6q+kVVfQe4ALj/pGKTJGm5WbVqFUmW7A9Y0uOtWrVq4Fd4edtywGM/Gzi6T+9OS9CmXNznSZK0IlxxxRVU1dBhTMxUEqiZDZKQJXkVcB3wvgVseyBwIMDq1atZt27dPFtIkrRp2NzPaZv789sYS56QJTkAeBzwqFr/U+ASYI+R1Vb3eTdRVYcBhwGsXbu2rAKVJG0uNvdz2ub+/DbGkt72IsljgZcCj6+qn40s+ijw1CTbJLk9cGfglKWMTZIkaSgTqyFLchSwD7BrkouBg2lXVW4DfKa3JX+tqg6qqnOTfAA4j9aU+dyqun5SsUmSJC0n2ZQ7EK5du7ZOPfXUocOQJGmjJdnsO/Vvzs9vHElOq6q1My3zTv2SJEkDG/K2F5IkqauDd4RDdho6jImpg3ccOoRlzYRMkqRlIIdetVk36SWhDhk6iuXLJktJkqSBWUMmSdIysTnfzX6XXXYZOoRlzYRMkqRlYKmbK73qcXmxyVKSJGlgJmSSJEkDs8lSkqRN2Mb0O1votjZ1Lj4TMkmSNmEmR5sHmywlSZIGZkImSZI0MBMySZKkgZmQSZIkDcyETJIkaWAmZJIkSQMzIZMkSRqYCZkkSdLATMgkSZIGZkImSZI0MBMySZKkgZmQSdI0hxxyyNAhSFphTMgkaZpDDz106BAkrTAmZJIkSQMzIZMkWjNlEpIA3DBt86WkpZCqGjqGBVu7dm2deuqpQ4chaTOThE35u1HS8pTktKpaO9Mya8gkSZIGZkImSZI0MBMySZKkgZmQSRJ26pc0LDv1S9I0duqXNAl26pckSVrGTMgkaZqDDz546BAkrTAmZJI0jf3GJC01EzJJkqSBmZBJkiQNzIRMkiRpYCZkkiRJA5tYQpbk8CQ/THLOyLxVST6T5Nv9/y59fpL8c5ILkpyV5D6TikuSJGm5mWQN2RHAY6fNezlwQlXdGTihPwb4HeDO/e9A4N8mGJckSdKyMrGErKq+AKybNvsJwJF9+khg35H5767ma8DOSXabVGySJEnLyVL3IbtNVV3ap38A3KZP7w58f2S9i/s8SZKkzd6WQx24qirJBg8Wl+RAWrMmq1evZt266ZVwkiRJm5alTsguS7JbVV3amyR/2OdfAuwxst7qPu8mquow4DBog4uvWrVqkvFKkiRN3FI3WX4U2L9P7w98ZGT+M/vVlg8EfjLStClJS8qhkyQttVRtcKvheDtOjgL2AXYFLgMOBo4DPgDcDvgu8OSqWpckwFtpV2X+DHhWVZ063zHWrl1bp54672qStEGSMKnvRkkrV5LTqmrtTMsm1mRZVU+bZdGjZli3gOdOKhZJkqTlzDv1SxKtmTIJrcKeG6ZtvpS0FEzIJEmSBjaxPmRLwT5kkibBPmSSJmGuPmTWkEmSJA3MhEySpjn44IOHDkHSCmNCJknT2JFf0lIzIZMkSRqYCZkkSdLATMgkSZIGZkImSZI0MBMySZKkgZmQSZIkDWxig4tL0tCmxqVcSt7hX9JCmJBJ2mwtNDly6CRJS80mS0mSpIGZkEmSJA3MhEySJGlgJmSSJEkDMyGTJEkamFdZSlr2Vq1axRVXXLGkx1zKW2bssssurFu3bsmOJ2n5MSGTtOxdccUVm/VtKIa4X5qk5cUmS0mSpIGZkEmSJA3MhEySJGlg9iGTtOzVwTvCITsNHcbE1ME7Dh2CpIGZkEla9nLoVZt9p/46ZOgoJA3JhEzSJmFzvhJxl112GToESQMzIZO07C117ViSzbpGTtLyY0ImabO1MbVqC93WRE7SQpiQSdpsmRxJ2lR42wtJkqSBmZBJkiQNbN4myyQPAv4YeCiwG3ANcA7wceC9VfWTiUYoSZK0mZuzhizJJ4E/AT4NPJaWkO0F/BWwLfCRJI+fdJCSJEmbs/lqyJ5RVT+aNu9q4PT+98Yku04kMkmSpBVizhqyqWQsyc2T3KxP3yXJ45NsNbqOJEmSFmbcTv1fALZNsjtwPPAM4IhJBSVJkrSSjJuQpap+BjwR+NeqehJw98mFJUmStHKMnZD1qy2fTru6EmCLhR40yYuSnJvknCRHJdk2ye2TnJzkgiRHJ9l6ofuXJEnalIybkL0QeAXw4ao6N8kdgBMXcsDe7PkCYG1V3YOW2D0VeB3wpqq6E3AF8JyF7F+SJGlTM1ZCVlWfr6rHV9Xr+uMLq+oFG3HcLYHtkmwJbA9cCjwSOKYvPxLYdyP2L0mStMkYayzLJCcCNxkUrqoeuaEHrKpLkvwD8D3aTWaPB04Drqyq6/pqFwO7b+i+JUmSNkXjDi7+kpHpbYE/BK6bZd05JdkFeAJwe+BK4IO0m86Ou/2BwIEAq1evZt26dQsJQ5IkadkYKyGrqtOmzfpyklMWeMxHA9+pqssBkhwLPBjYOcmWvZZsNXDJLLEcBhwGsHbt2lq1atUCw5AkSVoexupDlmTVyN+uSX4b2GmBx/we8MAk2ycJ8CjgPNpFAvv1dfYHPrLA/UuSJG1Sxm2yPI3Whyy0psrvsMCrIKvq5CTH0IZeug44g1bj9XHg/Un+ts9710L2L0mStKkZt8ny9ot50Ko6GDh42uwLgfsv5nEkSZI2BXM2WSZ5yDzLd0xyj8UNSZIkaWWZr4bsD5O8HvgUrdnyctpVlncCHgHsCbx4ohFKkiRt5uZMyKrqRUlW0W5z8SRgN9q9w84H3l5VX5p8iJIkSZu3efuQVdU64B39T5IkSYts3LEsJUmSNCEmZJIkSQMzIZMkSRrYuHfq3z7Jq5O8oz++c5LHTTY0SZKklWHcGrJ/B34BPKg/vgT424lEJEmStMKMm5DdsapeD/wSoKp+RhtGSZIkSRtp3ITs2iTb0cazJMkdaTVmkiRJ2kjjDi5+MO1u/XskeR/wYOCASQUlSZK0kow7uPhnkpwOPJDWVPkXVfWjiUYmSZK0QmzIbS92B7YAtgYeluSJkwlJkiRpZRmrhizJ4cC9gHOBX/XZBRw7obgkSZJWjHH7kD2wqvaaaCSSJEkr1LhNll9NYkImSZI0AePWkL2blpT9gHa7iwBVVfeaWGSSJEkrxLgJ2buAZwBns74PmSRJkhbBuAnZ5VX10YlGIkmStEKNm5CdkeQ/gI8xcof+qvIqS0mSpI00bkK2HS0Re8zIPG97IUmStAjGvVP/syYdiCRJ0ko1Z0KW5KVV9fokb6EPLD6qql4wscgkSZJWiPlqyM7r/0+ddCCSJEkr1XwJ2QuA/6yqI5ciGEmSpJVovjv177okUUiSJK1g89WQ7ZzkibMt9LYXkiRJG2++hGwn4HG0oZKm87YXkiRJi2C+hOy7VfXsJYlEkiRphZqvD9lMNWOSJElaRPMlZM9YkigkSZJWsDkTsqo6Z6kCkSRJWqnmqyGTJEnShJmQSZIkDWyswcWTPBg4BNizbxOgquoOkwtNkiRpZRgrIQPeBbwIOA24fnLhSJIkrTzjJmQ/qapPTjQSSZKkFWrcPmQnJnlDkgcluc/U30IPmmTnJMck+a8k5/f9rkrymSTf7v93Wej+JUmSNiXj1pA9oP9fOzKvgEcu8LhvBj5VVfsl2RrYHnglcEJVvTbJy4GXAy9b4P4lSZI2GWMlZFX1iMU6YJKdgIcBB/R9Xwtcm+QJwD59tSOBkzAhkyRJK8BYTZZJdkryj0lO7X9v7InVQtweuBz49yRnJHlnkpsDt6mqS/s6PwBus8D9S5IkbVLGbbI8HDgHeHJ//Azg34EnLvCY9wGeX1UnJ3kzrXnyBlVVSWqmjZMcCBwIsHr1atatW7eAECRJkpaPcROyO1bVH448PjTJmQs85sXAxVV1cn98DC0huyzJblV1aZLdgB/OtHFVHQYcBrB27dpatWrVAsOQJElaHsa9yvKaJA+ZetBvFHvNQg5YVT8Avp/krn3Wo4DzgI8C+/d5+wMfWcj+JUmSNjXj1pD9H+DI3m8swDp6p/wFej7wvn6F5YXAs2jJ4QeSPAf4LuubRyVJkjZr415leSZw7yQ79sdXbcxB+/7WzrDoURuzX0mSpE3RnAlZkj+uqvcm+ctp8wGoqn+cYGySJEkrwnw1ZDfv/3eYYdmMV0FKkiRpw8yZkFXV2/vkZ6vqy6PLesd+SZIkbaRxr7J8y5jzJEmStIHm60P2IOA3gVtN60e2I7DFJAOTJElaKebrQ7Y1cIu+3mg/squA/SYVlCRJ0koyXx+yzwOfT3JEVX13iWKSJElaUcbtQ/bOJDtPPUiyS5JPTygmSZKkFWXchGzXqrpy6kFVXQHcejIhSZIkrSzjJmS/SnK7qQdJ9sT7kEmSJC2KcceyfBXwpSSfp41l+VDgwIlFJUmStIKMO5blp5LcB3hgn/XCqvrR5MKSJElaOeZsskxyt/7/PsDtgP/pf7fr8yRJkrSR5qshezHwp8AbZ1hWwCMXPSJJkqQVZr77kP1p//+IpQlHkiRp5Zlv6KQnzrW8qo5d3HAkSZJWnvmaLH+//781bUzLz/XHjwC+ApiQSZIkbaT5miyfBZDkeGCvqrq0P94NOGLi0UmSJK0A494Ydo+pZKy7jHbVpSRJkjbSuDeGPaGPXXlUf/wU4LOTCUmSJGllGffGsM9L8gfAw/qsw6rqw5MLS5IkaeUYt4YM4HTgp1X12STbJ9mhqn46qcAkSZJWirH6kCX5U+AY4O191u7AcZMKSpIkaSUZt1P/c4EHA1cBVNW3abfCkCRJ0kYaNyH7RVVdO/UgyZa0oZMkSZK0kcZNyD6f5JXAdkl+C/gg8LHJhSVJkrRyjJuQvQy4HDgb+DPgE8BfTSooSZKklWTeqyyTbAGcW1V3A94x+ZAkSZJWlnlryKrqeuCbSbwzvyRJ0gSMex+yXYBzk5wC/O/UzKp6/ESikiRJWkHGTchePdEoJEmSVrA5E7Ik2wIHAXeideh/V1VdtxSBSZIkrRTz9SE7ElhLS8Z+B3jjxCOSJElaYeZrstyrqu4JkORdwCmTD0mSJGllma+G7JdTEzZVSpIkTcZ8NWT3TnJVnw7tTv1X9emqqh0nGp0kSdIKMGdCVlVbLFUgkiRJK9W4QydJkiRpQgZLyJJskeSMJP/ZH98+yclJLkhydJKth4pNkiRpKQ1ZQ/YXwPkjj18HvKmq7gRcATxnkKgkSZKW2CAJWZLVwO8B7+yPAzwSOKavciSw7xCxSZIkLbWhasj+CXgp8Kv++JbAlSO31rgY2H2IwCRJkpbauGNZLpokjwN+WFWnJdlnAdsfCBwIsHr1atatW7fIEUqSJC2tJU/IgAcDj0/yu8C2wI7Am4Gdk2zZa8lWA5fMtHFVHQYcBrB27dpatWrV0kQtSZI0IUveZFlVr6iq1VW1Bngq8LmqejpwIrBfX21/4CNLHZskSdIQltN9yF4G/GWSC2h9yt41cDySJElLYogmyxtU1UnASX36QuD+Q8YjSZI0hOVUQyZJkrQimZBJkiQNzIRMkiRpYCZkkiRJAzMhkyRJGpgJmSRJ0sBMyCRJkgZmQiZJkjQwEzJJkqSBmZBJkiQNzIRMkiRpYCZkkiRJAzMhkyRJGpgJmSRJ0sBMyCRJkgZmQiZJkjQwEzJJkqSBmZBJkiQNzIRMkiRpYCZkkiRJAzMhkyRJGpgJmSRJ0sBMyCRJkgZmQiZJkjQwEzJJkqSBmZBJkiQNzIRMkiRpYCZkkiRJAzMhkyRJGpgJmSRJ0sBMyCRJkgZmQiZJkjQwEzJJkqSBmZBJkiQNzIRMkiRpYCZkkiRJAzMhkyRJGpgJmSRJ0sCWPCFLskeSE5Ocl+TcJH/R569K8pkk3+7/d1nq2CRJkoYwRA3ZdcCLq2ov4IHAc5PsBbwcOKGq7gyc0B9LkiRt9pY8IauqS6vq9D79U+B8YHfgCcCRfbUjgX2XOjZJkqQhDNqHLMka4DeAk4HbVNWlfdEPgNsMFJYkSdKS2nKoAye5BfAh4IVVdVWSG5ZVVSWpWbY7EDgQYPXq1axbt24pwpUkSZqYQRKyJFvRkrH3VdWxffZlSXarqkuT7Ab8cKZtq+ow4DCAtWvX1qpVq5YkZkmSpEkZ4irLAO8Czq+qfxxZ9FFg/z69P/CRpY5NkiRpCEPUkD0YeAZwdpIz+7xXAq8FPpDkOcB3gScPEJskSdKSW/KErKq+BGSWxY9aylgkSZKWA+/UL0mSNDATMkmSpIGZkEmSJA3MhEySJGlgJmSSJEkDMyGTJEkamAmZJEnSwEzIJEmSBmZCJkmSNDATMkmSpIGZkEmSJA3MhEySJGlgJmSSJEkDMyGTJEkamAmZJEnSwEzIJEmSBmZCJkmSNDATMkmSpIGZkEmSJA3MhEySJGlgJmSSJEkDMyGTJEkamAmZJEnSwEzIJEmSBmZCJkmSNDATMkmSpIGZkEmSJA3MhEySJGlgJmSSJEkDMyGTJEkamAmZJEnSwEzIJEmSBmZCJkmSNDATMkmSpIGZkGmDHHLIIUOHIEnSZseETBvk0EMPHToESZI2OyZkkiRJAzMh07wOOeQQkpAE4IZpmy8lSVocyy4hS/LYJN9MckGSlw8djw+EnSkAABLASURBVCRJ0qSlqoaO4QZJtgC+BfwWcDHwdeBpVXXeTOuvXbu2Tj311CWMcBk6ZKehI5i8Q34ydASSJG20JKdV1dqZlm251MHM4/7ABVV1IUCS9wNPAGZMyMSCk5Wp5seltJySf0mSlpPllpDtDnx/5PHFwAMGimWzttDkKImJlSRJi2y5JWTzSnIgcCDA6tWrWbdu3cARrTy+5pIkLa7llpBdAuwx8nh1n3eDqjoMOAxaH7JVq1YtXXTi4Q9/OL7mkiQtruV2leXXgTsnuX2SrYGnAh8dOCaNOOmkk4YOQZKkzc6yqiGrquuSPA/4NLAFcHhVnTtwWJIkSRO1rBIygKr6BPCJoeOQJElaKsutyVKSJGnFMSGTJEkamAmZJEnSwEzIJEmSBmZCJkmSNDATMkmSpIGZkEmSJA3MhEySJGlgqaqhY1iwJJcD3x06jhVmV+BHQwchTZjlXCuB5Xzp7VlVt5ppwSadkGnpJTm1qtYOHYc0SZZzrQSW8+XFJktJkqSBmZBJkiQNzIRMG+qwoQOQloDlXCuB5XwZsQ+ZJEnSwKwhkyRJGpgJ2SYoydUzzDsoyTOXOI6TknwvSUbmHTdTfPPs54gk+23sOtq0Jbk+yZlJzknysSQ7L9J+D0jy1kXa10VJzu5xnpnkNxdjvzMcZ+8kvzuJfWvlSPKqJOcmOauX14OTvGbaOnsnOb9PT5Xvs5J8Psmew0S+MpmQbSaq6m1V9e5J7T/NTOXlSuDBfZ2dgd0mFYM2e9dU1d5VdQ9gHfDcoQOaxSN6nHtX1VfG2SDJlht4jL0BEzItWJIHAY8D7lNV9wIeDZwIPGXaqk8Fjhp5/Ii+/knAXy1BqOpMyDYTSQ5J8pI+fVKS1yU5Jcm3kjy0z98iyRuSfL3/AvqzPv8WSU5Icnr/dfSEPn9Nkm8meTdwDrDHDId+P+0DDfBE4NiRmNKPd07f71NG5r+17/uzwK1Htrlv/2V2WpJPJzHBW5m+CuwOkOT+Sb6a5IwkX0ly1z7/gCTHJvlUkm8nef3Uxkme1cv+KfQfDH3+miSf6+X/hCS36/OPSPJvSb6W5MIk+yQ5PMn5SY6YK9B59vm2JCcDr09yxx7raUm+mORufb0n9c/IN5J8IcnWwP8DntJrNaafQKVx7Ab8qKp+AVBVP6qqLwBXJHnAyHpP5sYJ2ZQbPoNaIlXl3yb2B1w9w7xDgJf06ZOAN/bp3wU+26cPBP6qT28DnArcHtgS2LHP3xW4AAiwBvgV8MBZ4jgJeABwFrAFcHzf5uq+/A+Bz/RltwG+R/uSeOLI/NvSatn2A7YCvgLcqm//FODwPn0EsN/Qr71/ky/XvVx8EHhsf7wjsGWffjTwoT59AHAhsBOwLW3Ujj16GfsecCtga+DLwFv7Nh8D9u/TzwaOGylf7+/l/gnAVcA9aT9aTwP27utdBJwNnAmcPMY+/xPYoj8+Abhzn34A8Lk+fTawe5/eeeS5vXXo98S/TfcPuEUvp98C/hV4eJ//EuBNffqBwKkj21wE7Nqn/wk4cOjnsZL+NrQaXZuOqZqq02hJEsBjgHuN9MXaCbgzcDHw90keRkvAdqclUADfraqvzXGc64Ev0WrJtquqi7K+S9lDgKOq6nrgsiSfB+4HPGxk/v8k+Vxf/67APYDP9H1sAVy6gOeuTdN2Sc6klb/zaUk7tHJ6ZJI7A0VL3KecUFU/AUhyHrAn7UfFSVV1eZ9/NHCXvv6DaD8IAN4DvH5kXx+rqkpyNnBZVZ3dtz+X9hk6s6/3iKoaHW5mrn1+sKquT3IL4DeBD458Prbp/78MHJHkA4zUMEsbo6quTnJf4KHAI4Cjk7wcOBr4SpIXc9PmSoATk6wCrgZevZQxr3QmZJuvX/T/17P+fQ7w/Kr69OiKSQ6g1Sbct6p+meQiWo0DwP+Ocaz3Ax+m1dJtjADnVtWDNnI/2jRdU1V7J9ke+DStD9k/A38DnFhVf5BkDa1mdsovRqZHy/pCTO3rV9P2+6uN2O/U5+dmwJVVtff0FarqoN6E9HvAaf0kKm20/qP3JOCk/kNj/6o6Isl3gIfTWjGmf98+gtZq8T7gUOAvly7ilc0+ZCvLp4H/k2QrgCR3SXJzWg3ED3sy9ghaLcOG+CLwGm76S+uLtH4wWyS5Fa1m7BTgCyPzd6N9AQB8E7hV74xKkq2S3H3Dn6Y2ZVX1M+AFwIvTOsPvBFzSFx8wxi5OBh6e5Ja9rD9pZNlXWN/n8em0Mrqx5t1nVV0FfCfJk+CGfpT37tN3rKqTq+qvgctpza4/BXZYhNi0QiW5a69VnrI3rVkf2nf1m4ALq+ri6dtW1XXAC4Fn9toyLQETsk3T9kkuHvkb9xfMO4HzgNOTnAO8nfbL/33A2v4L6pnAf21IMNX8w7RmHGi1ZmcB3wA+B7y0qn7Q53+7x/JuWudRqupaWl+y1yX5Bq2JaCK3FdDyVlVn0MrO02hNgK9JcgZj1FRV1aW02tqv0poDzx9Z/HzgWUnOAp4B/MUihDvuPp8OPKeX7XNpfdUA3tAvejmHltx9g3Y13F526tdGuAWtqf+8Xjb3Yn0rxgeBuzNzZ37ghs/RUSzfq503O96pX5IkaWDWkEmSJA3MhEySJGlgJmSSJEkDMyFbgCTb9bvJb9EffyrJlUn+c9p6t09ycpILkhzd78CtadLu5n9u/3+r/pqdkeShST6ROcY0zEaM4dnvsP5H86yzdb97ureIWUQb+xlKsk1/fEFfvmYRYnphv+XG1OM5y94G7HfRxqW0PA5nhjJ7uyTHp43mcN5UGUwbhWFqrNP/SXJcn79Pkp+MLPvr4Z7N/NJGwrjtBPc/7/fvBu7vs0l2Waz9DcGEbGGeDRzb7/EC8Aba1VXTvY52R+Q7AVcAz1mi+DbK1BfOEjoQuFdV/V/gUcDZVfUbVfXFqvrdqrpytg1r48bwXAPM+YXQr/w8gZuO/6aNs7GfoecAV/T5b+rrbawXAjckZPOVvQ2wweNSzpZwWR4HNb3Mvht4Q1X9OnB/4IcAVfXQ6mOd0q70Hb3Z7xdr/Tio/28pg98Q/RxwAG0klUlZwzzfv9PN80PkPcCfb0xAgxt6qIBN8Y92afqaafP2Af5z5HGAH7F+yJcHAZ+eYV+HAIfTbt53IfCCkWV/SRtD8hzghX3eGtpl/O+gXTp/PO0O+dP3exDtthFnAt+h3VgT2t36vwqcTrv0+RZ9/kW0k9rptHsqPY02pMs5wOtmeR3ux/rL9E+h3TdpW+Df+7Zn0O5qDu2u+28Avk67ncGf9fkfpd3Q80zgZbQhby7vj7fjxkN5PJP1t9F4z8jrNzVk1B2BT9FGJ/gicLc+/wjaDUa/0l/j/fr8rwE/6cd6Ee0y8FP647NYP8zNvYFPDF3uNqe/jf0M0e6p96A+vWVfLzMc5/+OlLlD+7ybAx/v5egcWnLzAuDaXm6nPisX0e76v4Z2K5gjaMPQvI82hNOXabdvuX9f//60z9YZ/fndlTZ002iZfgqwCjiux/Q12o+RqbL8nr7foyyPy+tvtMzSbiHxpXnW35H2I2JqWLoble9Zttmil7Nzell8UZ9/ErC2T+8KXNSnDwA+0pd/Gzi4z58qs++jnS+OAbbvyx7Vy+jZtHPPNiPlfeoc8Me0O/V/s5e/7UZivBtwysjjNbQf0QD3BT5P+w7+NLBbn38n4LP9M3c67bt6+vfvbOeOA2jnic/1fe9Gu5flmf11emhfbxfgnKHLyUaVsaED2NT++hfsD2aYf6MPW//QXDDyeI+ZCgvtS/grtGFUdgV+TBsa5r69YN6cdj+Zc4Hf6IX/OtaPrfcB4I/niHcrWnLy+33/XwBu3pe9DPjrPn0R7T5h0H4VTY0FuGX/IOw7w+twIXC//njHvu6LWT/+5N36frZllnE0++OrR/Z7ACNj+LH+pHh32slwKjlbNfL6TSVks40VeAQt+bwZ7Yv0glnes7cATx95ftv16S2Ay4cue5vL32J8hmhfxKtHlv33VNkYmfcY4DBaYncz2riSD6PdnfwdI+vtNFrWZih7a2ifudGxLQ9n/biXU2NXzjXm5miZfgvrT5yPBM4cKcunjZQ7y+My+ZteZoF9e3k6lpY8vIE+ZunIOs8EjplWvn9MS0o+Cdx9huPcF/jMyOOpsU1PYvaE7FLglrQfsOcAa3uZLeDBfb3DaWNYbgt8H7hLn/9u1v/Yv4h+Dph+zBniPJP1398vA/6KucciPhn4gz69La0meh9u/Hmf7dxxAG14v1Uj671q5LOww8g+vg3ccujystA/myw33K60YSUW08er6hfVbqz6Q9o4kg8BPlxV/1tVV9M++A/t63+nqqbG1Rsdq3Imb6YlJh+jDSS7F/DltDED9+fGd+U/uv+/H30swGp3bH4f7UQ26q7ApVX1dWh3Iu/rPgR4b5/3X7Q7Q9+FdnJ8Zj/uybQvkDszvkfSxgX8Ud/3utGFufFYgWfSbnq728gqx1XVr6rqPNaP0zndV4FXJnkZsGdVXdOPdT1wbRLvnL44JvEZmslj+t8ZtF/ld6OVubOB30ryuiQPrT4W5jy+U1VnV9WvaD+OTqh2Bjib9Z+/nWjl7xxaM+pso0w8hFYTRlV9Drhlkh37so9OlTssj8vJ9DK7Je37+CW078s7cNNRJJ7GjW+8ejrtfbw3Ldk+bobjXAjcIclbkjyWNsj9fD5TVT/u5eNYWvkC+H5VfblPv7fPvyutLH+rzz+SG3+3H814PsD6ZvOn9O1GxyI+k5akre7ldPeq+jBAVf282mgc08127ph6jlPf+V+n3Yj5EOCeVfXTkX38kMk2s06UCdmGu4b14zzO5cfAziNt3qtZP/zLdBs6Ht9N1k+yx0hn0YPghjEq96SNRwbtF/1nan0fhr2qarRf2zjjVi7U1DiaU8e+fVUdv4j7v2GswJG/Xx9ZPvqahRlU1X8Aj6e9x59I8siRxdsAP1/EeFeyxfgMXUKrMZvqV7JTX39UgNeMlIc7VdW7+snoPrRk6m/H7Fw9fWzL0XEvp+KbGnPzHrQa6XGe43Q3fAYtj8vK9DJ7Ma1m88L+Q/Q4WpkCIMmutCbsj0/N6z9ar+7TnwC26usxss4VtCbpk2jdTt7ZF13H+vP19HI1/e7uNc/8uYx7DjgaeHKSu9AGa/k268cinvq83bOqHjPm/saOq6q+QEsiLwGOmHZR17a092qTZEK2gfoHZoskc37Z9l/PJ9KGAoJWG/WRDTjUF4F9k2yfNt7kHzDHuHtV9f2RD8Lb0gYofgmtOfNXfbWvAQ9OcieAJDfvH6jpTqGNBbhr79z5NFrb/ahvArsluV/f1w79xPhF2hAx9H3frq872zia4/oc8KQkt+zb32h8tZpjrMA53Gi8wCR3oI3t9s+09+peff4tgR9V1S83IF7NYpE+Qx/tj+nLP9fXH/Vp4Nm99pQkuye5db9y7GdV9V5aU9PUiXRjx4+cbczN6fsd/YzsQytbN6kJsTwuHzOU2a/Tfizcqj9+JG0ouCn70Zrjbkiak/xakvTp+9POvzf6EdETtJtV1YdoNUxTZfMiWnPm1L5H/VaSVUm2ozWlTtWK3S59XGBa5/kv0b6L10ydA2gX0kz/bp8y6+ehqv6bVhnwatbXqs04FnGvwbo4yb59/jb9aua5Phej544bSbIncFlVvYOWsN6nzw/wa7TXapNkQrYwx7O+WpgkX6T1UXpU2tiSv90XvQz4yyQX0Jro3jXuAarqdFrfp1NoTXzvrDa+37ieR+s8fGKvNXtnVV1OO1EclTa22VdpzTjTj30p8HLayfAbwGlV9ZFp61xLq6p+S9rYfJ+h/Tr5V+BmaeNiHg0cUFW/YPZxNMdSVecCfwd8vh/vH2dYbbaxAmdzFnB9km8keRHwZOCcXt1+D1r/CmiDn398ln1oYTb2M/QuWlPfBbSLX14+/QC9BvY/gK/28ngM7QRwT+CU/j4fDPxt3+Qw4FNJTlzgc5ptzM0TufG4lIcA9+2fwdeyPrGczvK4vNxQZnuz8UuAE3rZCu1CqylP5abjRO5Hez+/QbvI6Kkz/IjYHTipv+fvBV7R5/8D7QftGbTm01GnAB+ifZ99qKpO7fO/CTw3yfm0Du//1hPEZ9Ga1s+m1fC+bZbnewTwtl5ut5th+dG0zv8f6K/JXGMRPwN4QS/zX6ElTtO/f2c7d0y3D/CN/lo8hdYtB1rC+rVeY7lJcizLBUhyH9rVLzNdpq/NTJJjgZeP9LvQRvIztHCWx2EsxzLbu6WsrarnTZu/hlZDd48BwhpEkjfT+mCeMHQsC2UN2QL02qsTs/T369ISS7sR6XGe/BaXn6GFsTwOxzK77J2zKSdjYA2ZJEnS4KwhkyRJGpgJmSRJ0sBMyCRJkgZmQiZJkjQwEzJJkqSBmZBJkiQN7P8DQvhmHrlEu0sAAAAASUVORK5CYII=",
            "text/plain": [
              "<Figure size 720x432 with 1 Axes>"
            ]
          },
          "metadata": {
            "needs_background": "light",
            "tags": []
          },
          "output_type": "display_data"
        },
        {
          "name": "stdout",
          "output_type": "stream",
          "text": [
            "benchmarking with 100 features\n",
            "benchmarking with 250 features\n",
            "benchmarking with 500 features\n"
          ]
        },
        {
          "data": {
            "image/png": "iVBORw0KGgoAAAANSUhEUgAAAmcAAAGDCAYAAABuj7cYAAAABHNCSVQICAgIfAhkiAAAAAlwSFlzAAALEgAACxIB0t1+/AAAADh0RVh0U29mdHdhcmUAbWF0cGxvdGxpYiB2ZXJzaW9uMy4yLjIsIGh0dHA6Ly9tYXRwbG90bGliLm9yZy+WH4yJAAAgAElEQVR4nOzdeZyW8/7H8denTXtKcaSNEB27UEeRNUuJUNkrKuvBsR87xzn9rEdIi/ZIZKkUydJCJSKULCkqodJOtMzn98f3mmOMmbnvqbnnumfu9/PxmMfMfV33fV2f656pec/3+72+X3N3RERERCQ9lIm7ABERERH5ncKZiIiISBpROBMRERFJIwpnIiIiImlE4UxEREQkjSiciYiIiKQRhTORYmZmbmZ7buNrW5nZF0VdUxLnbWJmc8xsvZn9vZjPfZeZjYi+bmBmG8ys7DYc559m9lTRV1jgOc8zs9eL85wFSeb9256fTxEpGgpnIvkws2/MbGP0yyz74/FiruEPvyjdfZq7NynOGiI3Am+7ezV37517p5lNNrNfo/dopZm9aGa7FnUR7r7Y3au6+9aCnmdmrc1saa7X/tvdLynKeqLAl/2z8auZbc3xeJ67P+3uJxblObdH7vcv+r4VyXtiZpeb2b+jr6ea2QE59t1lZptz/Vu6cTvP97/QLlLaKJyJFKxd9Mss++PKuAuKSUNgXoLnXOnuVYG9gR2BR3I/wczKpaC22ESBr2p03ZcCM3L8rPw17vqK2aHAB2ZWBtgH+CzX/lG5/i3dX/wl/q60/SxK6aJwJlJIZraDma0xs/1ybKsTtbLtHD3ubmYLzGyVmY01s7r5HOsPLRdm1sXM3om+nhpt/jhqaeiUu0XIzPaNjrHGzOaZ2Wk59g0xsyfMbHzUHfmemTUu4LpOi46xJjrmvtH2t4BjgMejOvYu6P1x91XAC8B+0eu/MbObzOwT4GczK2dmzc1senSuj82sdY46djezKVHNk4DaOfY1iloTy0WPa5nZYDNbZmarzexlM6sCvArUzdFKUzd3S0t+15uj5uvN7BMzW2tmo8ysYkHXnc97+r/vZ/TYoxamr6Lru9fMGkfvxToze87MKuR4flsL3clroucckM957jazx6Kvy5vZz2b2QPS4UtSqVyvn+2dm9wGt+P37mrNV+PioxjXRz5AlcbnNgNlAE+Abd9+S5HvUzczmR9+/iWbWMMe+R81sSfTezDazVtH2k4B/Ap2i2j+Otn9jZsfneH3OLvHsa7/YzBYDbxV0fgseMbPl0fk/tRz/5kVSSeFMpJDc/TfgReCcHJs7AlPcfbmZHQv8J9q2K/At8Ow2nOeo6MsDo5aGUTn3m1l5YBzwOrAzcBXwtJnl7PbsDNwN1AQWAPflda4ocI0ErgHqABOAcWZWwd2PBaYRtYy5+5cF1W1mtYEzgY9ybD4HOJXQorYLMB74F1ALuB54wczqRM99hvBLvjZwL3BRAacbDlQG/hq9B4+4+8/AycCyHK00y5K93hxP6wicBOwOHAB0Kei6C6ENoZWpOaG7uD9wPlCfEGjPiWo8GBgE9AR2AvoBY81shzyOOQVoHX19GPADkP3z0wL4IgrN/+Put/LH72vOVuG20XEOILwPbfK6EPv9D5W1Ue0fE753B0bbby3ojTCz9oSQ1YHwfZhG+L5kex84iPBz8gzwvJlVdPfXgH/ze2vcgQWdJ5ejgX2BNgnOfyLhPdwbqBG9Dz8V4jwi20zhTKRgL0e/ZLI/ukfbnyEEn2znRtsAzgMGufuHUZC7BWhhZo2KuLbmQFWgl7tvcve3gFf4Y2h8yd1nRa0YTxN+0eWlEzDe3Se5+2bgQaAS8LdC1NPbzNYQfkF/D/wj5z53X+LuGwlBZIK7T3D3LHefBHwAnGJmDQih4HZ3/83dpxIC6J9YGNN2MnCpu692983uPiXJWpO53t7uviwKNePI/70rrPvdfZ27zwPmAq+7+0J3X0to8Ts4el4PoJ+7v+fuW919KPAb4fue2wxgLzPbiRAoBgK7mVlVQhhJ9n3J1svd17j7YuBt8rn26Hu0I3Ad4f3aEXgHaOnuO7p7zj8GOub6t1SX0BX8H3efH/2M/hs4KLv1yt1HuPtP7r7F3R8CdiC0zG2Pu9z95+hnsaDzbwaqEbpoLXrO99t5bpGkKJyJFOz06JdM9seAaPvbQGUzOyIKXQcBL0X76hJaywBw9w2Ev7h3K+La6gJL3D0rx7Zvc53nhxxf/0IIc/kdK2fNWcASClfz36P3aDd3P8/dV+TYtyTH1w2Bs3P+ogZaEloZ6wKro9avnNeUl/rAKndfXYgasyVzvcm+d4X1Y46vN+bxOPs8DYHrcr1P9aPa/yAKGh8QgthRhDA2HTiSbQtnSV27mT0b1fUkcEnUgnYcMMnMZuV6+nO5/i0ti67x0RzXtwowou9D1LU8P+paXkNowarN9sn9s5jn+aM/dh4HngCWm1l/M6u+necWSYrCmcg2iO52e47QSnUO8Iq7r492Z//SAcDCGKidgO/yONTPhG65bH8pRBnLgPoWBmBna5DPeZI5Vs6ajRAEtuVYefEcXy8Bhuf6RV3F3XsRWtxqRu9Ztgb5HHMJUMvMdkxwvryk+nqLwhLgvlzvU2V3H5nP86cAxxJa3t6PHrcBDgem5vOaRO9Tgdy9M+FnezWhy/pCYGRU6+FJHGIJ0DPXNVZy9+nR+LIbCd2JNaNWubWE8JRf7cn8e8r9s5jn+aPr6+3uhwJNCd2bNyRxTSLbTeFMZNs9Q+geO4/fuzQhjFnpamYHReOD/g285+7f5HGMOUAHM6tsYcqMi3Pt/xHYI5/zv0do1bgxGgTeGmjHNoxvIwTNU83suGgs23WELrTp23CsREYA7cysjZmVNbOKFm50qOfu3xJagO42swpm1pJwTX8SdTG9CvQxs5rRe5A9zupHYCczq5FPDcV5vdtqAHBp1DprZlbFzE41s2r5PH8KIRx95u6bgMnAJcCiXK2YORX085WsfYCvoz9YDiF8/5LVF7jFzP4KYGY1zOzsaF81YAuwAihnZncAOVuufgQa5frjZA7QOfpZaAacta3nN7PDove+PCH0/Qpk5X8okaKjcCZSsHH2x7mZsrsucff3CP9p1yWEhOztbwC3E+5Y/B5ozB/Hp+X0CLCJ8ItmKGFcWE53AUOjbpeOOXdEv4DbEcZdrQT6ABe6++eFvUh3/4IwFuyx6FjtCNOIbCrssZI41xIgeyD2CkLrxQ38/v/RucARhC6mO4FhBRzuAsLYoM+B5YQB/kTvwUhgYY7xTTlrKLbr3Vbu/gHQndC1tppwQ0eXAl4ynTBuLruV7DNCoMiv1QzgUeAsC3cq/mn+uiQdCnwYfX0I4YaApLj7S8D/Ac+a2TrCGLyTo90TgdeALwld0L/yxy7J56PPP5lZ9vlvJ/x7W024ESbnH02FPX91QkBeHZ3/J+CBZK9NZHuY+3a1aouIiIhIEVLLmYiIiEgaUTgTERERSSMKZyIiIiJpROFMREREJI0onImIiIikkXJxF1CUateu7Y0aNYq7DBEREZGEZs+evdLd6+TeXqrCWaNGjfjgg8LMfygiIiISDzPLc3m6lHVrmtkgM1tuZnPz2V/TzF4ys0/MbJaZ7Rdtr29mb5vZZ2Y2z8yuTlWNIiIiIukmlWPOhgAnFbD/n8Acdz+AsOTIo9H2LcB17t4UaA5cYWZNU1iniIiISNpIWThz96mE5Vfy0xR4K3ru54Q10nZx9+/d/cNo+3pgPrBbquoUERERSSdx3q35MdABwMwOBxoC9XI+wcwaAQcTFngWERERKfXivCGgF/Comc0BPgU+ArZm7zSzqoSFo69x93X5HcTMegA9AOrVq8eqVQU11omIiIikt9jCWRS4ugKYmQGLgIXR4/KEYPa0u7+Y4Dj9gf4AzZo181q1aqWybBEREZGUiq1b08x2NLMK0cNLgKnuvi4KagOB+e7+cFz1iYiIiMQhZS1nZjYSaA3UNrOlwJ1AeQB37wvsCww1MwfmARdHLz0SuAD4NOryBPinu09IVa0iIiIi6SJl4czdz0mwfwawdx7b3wEsVXWJiIiIpDOtrSkiIiKSRhTORERERNKIwpmIiIhItuXL4ZVXYi1B4UxEREQymzu8+y6cdx7Uqwdnnw3r8p1iNeUUzkRERCQzbdgA/frBQQdBy5ahxeyyy+DDD6F69djKinOFABEREZHiN28ePPkkDBsG69eHcNa/P5x7LlSpEnd1CmciIiKSATZtgpdfhj59YMoUqFABOnaEyy+H5s3B0mcWL4UzERERKb2WLg2tYgMGwA8/wO67w//9H3TtCnXqxF1dnhTOREREpHTJyoI33wytZGPHhgH/p54axpO1aQNly8ZdYYEUzkRERKR0WL0ahgwJ48m++gpq14Ybb4QePUKLWQmhcCYiIiIl2wcfhFaykSPh11/hb3+DO++Es86CHXaIu7pCUzgTERGRkmfjRhg1KoSy998Pd1ledFHoujzwwLir2y4KZyIiIlJyfPUV9O0LgweHbsx994XHHoMLLoAaNeKurkgonImIiEh627IFxo8PrWSvvw7lykGHDqGV7Oij02oajKKgcCYiIiLp6Ycf4KmnwlQYS5bAbrvBPffAJZfArrvGXV3KKJyJiIhI+nCHadNCK9kLL4RWsxNOgEcfhXbtQqtZKVf6r1BERETS37p1MGJECGXz5sGOO8JVV8Gll8Lee8ddXbFSOBMREZH4fPJJmJdsxIiwEPmhh8LAgdC5M1SuHHd1sVA4ExERkeL122/w4ouhleydd6BixRDGLr8cDjss7upip3AmIiIixePbb6FfvzDIf8UKaNwYHnwQunSBnXaKu7q0oXAmIiIiqZOVFaa/6NMnTIcBYWD/ZZeFgf5lysRbXxpSOBMREZGit3JlmCi2b19YuBB23hluuSWsc9mgQdzVpTWFMxERESka7jBrVmglGzUqjC1r1Qruuy9MGluhQtwVlggKZyIiIrJ9fvklLDrepw98+CFUrQoXXxy6LvfbL+7qShyFMxEREdk2X3wRpsEYMgTWrg1BrE8fOP98qFYt7upKLIUzERERSd6WLTB2bAhhb74J5cvDWWeFaTCOPLLUrXMZB4UzERERSWzZMhgwIKxzuWxZGNR/332h+3KXXeKurlRROBMREZG8ucPkyaGV7KWXYOtWOOmkcAfmKadA2bJxV1gqKZyJiIjIH61ZA8OGhfFkn38OtWrBtddCz56w555xV1fqKZyJiIhIMGdOaCV7+ulwB+YRR4TB/h07QqVKcVeXMRTOREREMtmvv8Lzz4dWshkzQgg799wwDcahh8ZdXUZSOBMREclECxeGdS4HDoSffoK994ZHHoGLLoKaNeOuLqMpnImIiGSKrVvhtddC1+Wrr4Z1Ldu3D9NgHHuspsFIEwpnIiIipd3y5TBoULjL8ttvYddd4fbboXt3qFcv7uokF4UzERGR0sg9jCHr0yeMKdu0CY45Bh58MLSWlS8fd4WSD4UzERGR0mTDhnC3ZZ8+8MknUL16mALj0kuhadO4q5MkKJyJiIiUBp99Fu64HDoU1q+HAw8MA/7PPTcsRC4lRplUHdjMBpnZcjObm8/+mmb2kpl9YmazzGy/HPtOMrMvzGyBmd2cqhpFRERKtE2b4LnnoHVr+Otfw9JK7dvD9Onw0UfQo4eCWQmUsnAGDAFOKmD/P4E57n4AcCHwKICZlQWeAE4GmgLnmJnaYUVERLItXQp33AENG0KnTmGQf69eYfvw4dCihe68LMFS1q3p7lPNrFEBT2kK9Iqe+7mZNTKzXYA9gAXuvhDAzJ4F2gOfpapWERGRtJeVBW++Gboux44Nj085JUyD0aaN1rksReIcc/Yx0AGYZmaHAw2BesBuwJIcz1sKHFH85YmIiKSB1avDEkpPPglffQW1a8P114dB/rvvHnd1kgJxhrNewKNmNgf4FPgI2FrYg5hZD6AHQL169Vi1alWRFikiIhKHsnPmUHHQICq8+CK2cSObDz+c3/r2ZdNpp8EOO4Qn6XdeqRRbOHP3dUBXADMzYBGwEKgE1M/x1HrAdwUcpz/QH6BZs2Zeq1atVJUsIiKSWhs3wqhRYRqM99+HypXhggvgsssof9BBaGayzBBbODOzHYFf3H0TcAkw1d3Xmdn7wF5mtjshlHUGzo2rThERkZRbsCDM3j9oUOjG3HdfeOyxEMxq1Ii7OilmKQtnZjYSaA3UNrOlwJ0QQr+79wX2BYaamQPzgIujfVvM7EpgIlAWGOTu81JVp4iISCy2bIHx40Mr2euvQ7lycMYZYYD/0UfrbssMlsq7Nc9JsH8GsHc++yYAE1JRl4iISKx+/BGeeipMELtkCey2G9x9N1xyCdStG3d1kga0QoCIiEiqucO0aeGOyxdegM2b4fjj4dFHoV270GomEtFPg4iISKqsWwcjRoSuy3nzwvixK64I61w2aRJ3dZKmFM5ERESK2qefhlay4cPDQuSHHAIDB0LnzuEOTJECKJyJiIgUhd9+gxdfDK1k77wT5iLr3DkM8D/sMA3wl6QpnImIiGyPb78NC44/9RQsXw6NG8ODD0KXLrDTTnFXJyWQwpmIiEhhZWWF6S/69AnTYQC0bRtayU44AcqUibc+KdEUzkRERJL1008weHCYMPbrr2HnneGWW6BHD2jQIO7qpJRQOBMRESmIO8yaFVrJRo0KY8tatYJ//Qs6dIAKFeKuUEoZhTMREZG8/PILjBwZQtmHH0LVqtCtG1x2Gey/f9zVSSmmcCYiIpLTF1+EaTCGDoU1a2C//UJAO/98qFYt7uokAyiciYiIbNkCY8eGEPbmm1C+PJx5Zhjg37KlpsGQYqVwJiIimWvZsjAFRv/+8N13UL8+3HcfXHwx7LJL3NVJhlI4ExGRzOIOkyeHVrKXXw6tZm3ahMennKJ1LiV2+gkUEZHMsHYtDBsWQtjnn0OtWnDNNdCzJ+y5Z9zVifyPwpmIiJRuc+aEQPb00+EOzMMPhyFDoGNHqFQp7upE/kThTERESp9ff4XRo0MomzEjhLBzzgnTYDRrFnd1IgVSOBMRkdJj0aIwe//AgWE2/732gkcegYsugpo1465OJCkKZyIiUrJt3QqvvRZayV59NUx70b59mAbj2GO1zqWUOApnIiJSMq1YAYMGhZayb76Bv/wFbr8duneHevXirk5kmymciYhIyeEexpD16QPPPw+bNkHr1nD//XD66WHyWJESTuFMRETS34YN8MwzIZR9/DFUrx6mwLj0UmjaNO7qRIqUwpmIiKSvzz4L61wOGwbr1sGBB0K/fnDuuWEhcpFSSOFMRETSy+bNYeb+Pn3CTP4VKoQ5yS6/HJo31zqXUuopnImISHpYujSscTlgAPzwAzRqBL16QbduUKdO3NWJFBuFMxERiU9WFrz1VmglGzs2PD755NBKdtJJULZs3BWKFDuFMxERKX6rV4cllPr2hS+/hNq14frrwyD/3XePuzqRWCmciYhI8Zk9O7SSjRwJGzdCixYwfDicdRZUrBh3dSJpQeFMRERSa+NGeO65EMpmzYLKleGCC8I6lwcdFHd1ImlH4UxERFJjwYLQbTl4MKxaBfvsA717w4UXQo0acVcnkrYUzkREpOhs3Qrjx4dWsokToVw5OOOMMMD/6KM1DYZIEhTORERk+/34Izz1VJgKY/FiqFsX7r4bLrkkfC0iSUsYzsysItAWaAXUBTYCc4Hx7j4vteWJiEjacod33gmtZC+8ECaPPe44eOQRaNdO61yKbKMCw5mZ3U0IZpOB94DlQEVgb6BXFNyuc/dPUlyniIiki3XrYMSIsKzS3Llh/NgVV4R1Lps0ibs6kRIvUcvZLHe/M599D5vZzkCDIq5JRETS0aefhkA2fHhYiPzgg0NXZufOUKVK3NWJlBoFhjN3H597m5mVAaq6+zp3X05oTRMRkdJo06bQZfnkkzBtGuywQwhjl10Ghx+uAf4iKVAmmSeZ2TNmVt3MqhDGm31mZjektjQREYnN4sVw661Qvz6cey589x088ED4PGQIHHGEgplIiiR7t2ZTd19nZucBrwI3A7OBB1JWmYiIFK+sLJg0KQzwf+WVsK1t29BKduKJUCapv+dFZDsl+y+tvJmVB04Hxrr7ZsATvcjMBpnZcjObm8/+GmY2zsw+NrN5ZtY1x777o23zzay3mf5EExFJiZ9+ggcfhL33DouNz5wJN98MCxfCmDFhm4KZSLFJ9l9bP+AboAow1cwaAuuSeN0Q4KQC9l8BfObuBwKtgYfMrIKZ/Q04EjgA2A84DDg6yVpFRCQR97CUUpcusNtucMMNYT6ykSNhyRK47z5o2DDuKkUyUlLdmu7eG+idY9O3ZnZMEq+bamaNCnoKUC1qFasKrAK2RNsrAhUAA8oDPyZTq4iIFOCXX0IAe/LJsAh51arQrVvoutx//7irExGSDGdmdkc+u+7ZzvM/DowFlgHVgE7ungXMMLO3ge8J4exxd5+fT209gB4A9erVY9WqVdtZkohI6VNmwQIqDh5MhZEjKbN2LVv22Yff7r+f384+G6pXD0/S/58iaSHZGwJ+zvF19ooBeYalQmoDzAGOBRoDk8xsGrAzsC9QL3reJDNr5e7Tch/A3fsD/QGaNWvmtWrVKoKyRERKgS1bYOzY0Er2xhthxv4zz4TLL6dcy5aUM0Ozk4mkn2S7NR/K+djMHgQmFsH5uwK93N2BBWa2CNiHML5sprtviM73KtAC+FM4ExGRXL7/HgYMCOtcfvddmA7jX/+Ciy+Gv/wl7upEJIFtvf2mMr+3am2PxcBxAGa2C9AEWBhtP9rMykV3iR5N0bTUiYiUTu4weTJ07AgNGsCdd8J++8HLL4e7Lm+9VcFMpIRIdszZp/w+dUZZoA5JjDczs5GEuzBrm9lS4E7C4H7cvS9wLzAkOr4BN7n7SjMbTejqzD7va+4+rhDXJSKSGdauhWHDQtfl/PlQsyZcfXVY53LPPeOuTkS2QbJjztrm+HoL8KO7b0n0Inc/J8H+ZcCJeWzfCvRMsjYRkcwzZ04IZCNGhDswDz8cBg+GTp2gUqW4qxOR7VBgODOzqu6+wd2/TfScoi9NRET+4NdfYfToEMqmT4eKFcPSSpddBs2axV2diBSRRC1nY8xsDjAGmO3uPwOY2R7AMUBHYAAwOqVViohkskWLoF8/GDgQVq6EvfaCRx6Biy4K3ZgiUqoUGM7c/TgzO4XQxXikmdUkdGt+AYwHLnL3H1JfpohIhtm6FV57LbSSTZgQFhlv3x4uvxyOPVbLKYmUYgnHnLn7BGBCMdQiIiIrVsCgQdC3L3zzTbjD8rbboHv3MCWGiJR6yd4QICIiqeIOM2aEVrLnnoNNm6B1a7j/fjj99DB5rIhkDIUzEZG4bNgAzzwDffrAxx9DtWrQo0cY4N+0adzViUhMFM5ERIrb/PmhlWzoUFi3Dg44IHRjnndeWIhcRDJa0uHMzFoCe7n7YDOrA1R190WpK01EpBTZvDnM1t+nT5jJv0IFOPvsMMC/RYsw4F9EhORXCLgTaEZYXmkwYZb/EcCRqStNRKQUWLo0rHM5YEBY87JhQ+jVC7p1gzp14q5ORNJQsi1nZwAHAx9CmNnfzKqlrCoRkZLMHd58M3RdjhkDWVlw8skhoJ10EpQtG3eFIpLGkg1nm9zdzcwBzKxKCmsSESmZVq8O48iefBK+/BJ22gmuuw569oQ99oi7OhEpIZINZ8+ZWT9gRzPrDnQjrAwgIiKzZ4dA9swzsHFjGEM2fDicdVZYYklEpBCSCmfu/qCZnQCsI4w7u8PdJ6W0MhGRdLZxY5iTrE8fmDULKleG888P02AcfHDc1YlICZb03ZpRGFMgE5HM9vXXYdqLQYNg1SrYZx/o3RsuuAB23DHu6kSkFCgwnJnZesDz2gW4u1dPSVUiIulk61YYPz60kk2cGAb0n3FGmAajdWtNgyEiRSrRwue6I1NEMtePP8LAgdCvHyxeDHXrwl13hXUu69aNuzoRKaUStZxVd/d1ZlYrr/3uvio1ZYmIxMQd3nknDPAfPTpMHnvccfDII9Cunda5FJGUSzTm7BmgLTCb0L2Zs+3eAd0bLiKlw/r1MGJE6LqcOxdq1IArroBLL4UmTeKuTkQySKJuzbbR592LpxwRkWI2d25oJRs2LCxEfvDB8NRT0LkzVNGUjiJS/Aq98LmZ3eXud6WgFhGR4rFpE7z4YmglmzYNdtgBOnUKA/wPP1wD/EUkVoUOZ8BpwF1FXIeISOotXgz9+4dllJYvD7P2P/AAdO0aZvMXEUkD2xLO9CeliJQcWVkwaVJoJXvllTDgv23b0Ep24olQpkzcFYqI/MG2hLNDirwKEZGi9tNPMGRIGE/29ddQpw7cfDP06AENG8ZdnYhIvgoVzsysHXCdmVUEhrl7n9SUJSKyDdzh/fdDK9moUfDrr9CyJdx7L3ToEMaWiYikuUTznB3k7nNybLoAOIbQtfkxoHAmIvH75Rd49tkQymbPhqpVoUuXsM7lAQfEXZ2ISKEkajm7zMzKALe7+w/AEuA2IAtYluriREQK9OWXYZ3LwYNhzRr461/hiSfCAuTVtbqciJRMieY562lmBwL9zGw2cAfQAqgMPFgM9YmI/NGWLTBuXGgle+MNKFcOzjortJK1aqVpMESkxEs45szdPwbaR+PNxhDGmg1LeWUiIjl9/32YHLZfP/juO6hfH/71L7j4YvjLX+KuTkSkyBR4D7mZXWpm081sOlAFOAnY0cwmmtlRxVKhiGQud5g8GTp2hAYN4I47Qtflyy/DwoVw660KZiJS6iRqObvc3Q8wsx2A6e7+LNDbzIYDtwNTU16hiGSetWth+PDQdTl/PtSsCVdfDT17wl57xV2diEhKJQpn35nZPwljzD7P3ujuq4F/pLIwEclAH38cAtnTT8PPP8Nhh4XB/p06QaVKcVcnIlIsEoWz9kAbYDPhZgARkaL1228wenQIZdOnQ8WKcM45YYD/YYfFXZ2ISLFLdLfmJjObShhrdo2Fu6C+Aya6+5piqE9ESqtFi8Lg/oEDYeXK0F358MNw0UVQq1bc1YmIxCbRDQEXAkdiLWIAACAASURBVB8CrQldm5UJk9DOjvaJiCRv61aYMCGsbdm4cVh0vGVLeP11+PxzuPZaBTMRyXiJujVvBQ7N3UpmZjWB9wBNqSEiia1cCYMGhQljFy2CXXaB226D7t3DlBgiIvI/icKZAZ7H9qxon4hI3txh5swwluy552DTJjj6aOjVC04/HSpUiLtCEZG0lCic3Qd8aGavE5ZuAmgAnADcm8rCRKSE+vlneOaZEMrmzIFq1aBHD7j00jBHmYiIFKjAMWfuPhRoBkwBfos+JgPN3H1IQa81s0FmttzM5uazv4aZjTOzj81snpl1zbGvgZm9bmbzzewzM2tUmIsSkRjMnw9//zvUrRvCWFZW6MZctgwee0zBTEQkScks37QaeDYaZ7bV3dcleewhwOPkPy7tCuAzd29nZnWAL8zsaXffFL3mPnefZGZVCd2oIpJuNm+GMWNCK9nbb4euyrPPDtNg/O1vWudSRGQbFBjOzKwu0Isw31lVwqS0AIMI4Wlzfq9196kJWrwcqGbhgFWBVcAWM2sKlHP3SdFxNiR9NSJSPJYuhQEDwsf330PDhvCf/0C3brDzznFXJyJSoiVqORsB3OPuF5pZB6AVcBtwC/AE0GM7zv04MBZYBlQDOrl7lpntDawxsxeB3YE3gJvdfWteBzGzHtl11KtXj1WrVm1HSSKSL3fKTZ1KxUGDKP/qq5CVxebjjuO3hx5i8/HHQ9my4Xn6Nygisl0ShbOd3H0ygLu/aGa3uvvPwG1m9nnBL02oDTAHOBZoDEwys2lRTa2Ag4HFwCigCzAwr4O4e3+gP0CzZs28luZIEila69eHaTCefBK++AJ22gmuuw569qTCHnugey5FRIpWonC2wszOB94GOgDfAERdkQXeTJCErkAvd3dggZktAvYBlgJz3H1hdK6XgebkE85EJIW++QZOOSUM9m/RAoYNC2PKKlaMuzIRkVIrUTjrBjwI3Exo5boy2l6L0LW5PRYDxwHTzGwXoAmwEFgN7Ghmddx9BaFl7YPtPJeIFNb774eZ/DdtgkmT4Pjj465IRCQjJFpbczHQMY/tPwEvFPRaMxtJWPaptpktBe4Eykev70uYJ22ImX1KmND2JndfGb32euDNqIVuNjCgcJclIttl7Niw+PjOO8PkybDvvnFXJCKSMRJOpbGt3P2cBPuXASfms28ScEAq6hKRBB5/HK6+Gg45BF55JSy1JCIixWZ7x42JSGmRlQX/+AdcdRW0axdazBTMRESKXVLhzMx2T2abiJRQGzeGgf6PPBJm+X/hBahSJe6qREQyUrItZ3mNLxtdlIWISEyWL4djj4WXXgrh7NFHf5+zTEREil2iFQL2Af4K1Igmoc1WHdC99CIl3Zdfwsknh/UvR4+GDh0Sv0ZERFIq0Q0BTYC2wI5Auxzb1wPdU1WUiBSDd96B9u1DK9nkyXDEEXFXJCIiJJ5KYwwwxsxauPuMYqpJRFJt1Ci48EJo1AgmTIDGjeOuSEREIslOpfGRmV1B6OL8X3emu3dLSVUikhrucP/9cPPN0LIlvPxyWI5JRETSRrI3BAwH/kJYD3MKUI/QtSkiJcWWLXDZZSGYde4cZv1XMBMRSTvJhrM93f124Gd3HwqcCmiAikhJsX49nHYa9OsXwtnTT2t9TBGRNJVst+bm6PMaM9sP+AHYOTUliUiRWrYMTj0VPv00hLMePeKuSERECpBsOOtvZjWB24CxQFXg9pRVJSJF49NP4ZRTYM0aGDcuTJshIiJpLalw5u5PRV9OBfZIXTkiUmTeeAPOPBOqVoVp0+Cgg+KuSEREkqC1NUVKo8GDQytZw4Ywc6aCmYhICaJwJlKauMMdd0C3bnDMMaHFrH79uKsSEZFCSHbMmYiku02b4JJLYPhw6No1DP4vXz7uqkREpJCSajkzs8pmdruZDYge72VmbVNbmogkbfVqOOmkEMzuvRcGDlQwExEpoZJtORsMzAZaRI+/A54HXklFUSJSCN98E+7IXLAghLPzz4+7IhER2Q7Jjjlr7O73E8135u6/AJayqkQkOR98AM2bw/ffw+uvK5iJiJQCyYazTWZWCXAAM2sM/JayqkQksXHj4Oijw0z/774LrVvHXZGIiBSBZMPZncBrQH0zexp4E7gxZVWJSMGeeAJOPx2aNg1TZTRtGndFIiJSRJKdhHaSmX0INCd0Z17t7itTWpmI/FlWFtx4Izz0ELRrByNHQpUqcVclIiJFqDBTaewGlI1ec5SZ4e4vpqYsEfmTjRvhggvghRfgyivhv/+FsmXjrkpERIpYUuHMzAYBBwDzgKxoswMKZyLFYcUKaN8+dGE+/DBccw2Y7skRESmNkm05a+7uGtQiEoevvgpLMX33HTz/fFgvU0RESq1kbwiYYWYKZyLF7d13oUULWLsW3n5bwUxEJAMk23I2jBDQfiBMoWGAu/sBKatMJNM99xxceCE0aACvvgqNG8ddkYiIFINkw9lA4ALgU34fcyYiqeAODzwAN90ERx4JY8bATjvFXZWIiBSTZMPZCncfm9JKRAS2bIGrroK+faFjRxg6NEwyKyIiGSPZcPaRmT0DjCPHygCaSkOkCG3YAJ06wYQJodXs3/+GMskOCxURkdIi2XBWiRDKTsyxTVNpiBSVZcugbVv4+OPQatazZ9wViYhITJJdIaBrqgsRyVhz58Ipp8CqVWG9zFNOibsiERGJUYHhzMxudPf7zewxokXPc3L3v6esMpFM8Oab0KFDWIJp2jQ4+OC4KxIRkZglajn7LPr8QaoLEck4Q4fCJZfAPvvA+PFhygwREcl4icLZ34FX3H1ocRQjkhHc4e67w8fxx8Po0VCjRtxViYhImkgUzmoXSxUimWLTJujeHYYNgy5doF8/qFAh7qpERCSNJApnO5pZh/x2aioNkUJYsyYsv/TWW3DPPXDbbVq8XERE/iRROKsBtCUs15Rbwqk0zGxQ9Prl7r5fHvtrACOABlEtD7r74Bz7qxPGvb3s7lcmqFUkfX37bbgL86uvQqvZBRfEXZGIiKSpROHsW3fvth3HHwI8TlibMy9XAJ+5ezszqwN8YWZPu/umaP+9wNTtOL9I/GbPDnOYbdwIr70Gxx4bd0UiIpLGEk0/vl19Lu4+FVhV0FOAamZmQNXouVsAzOxQYBfg9e2pQSRWr7wCRx0FO+wA06crmImISEKJwlmq+14eB/YFlhEWVb/a3bPMrAzwEHB9is8vkjp9+kD79rDvvjBzJjRtGndFIiJSAhTYrenuc1N8/jbAHOBYoDEwycymARcCE9x9qSUYMG1mPYAeAPXq1WPVqoIa6kSKQVYWle6+m0qPP86mNm3Y0L9/uCNTP5siIpKEZNfWTJWuQC93d2CBmS0C9gFaAK3M7HJCd2cFM9vg7jfnPoC79wf6AzRr1sxr1apVfNWL5LZxI1x4YZi77IorqPDoo9QqWzbuqkREpASJO5wtBo4DppnZLkATYKG7n5f9BDPrAjTLK5iJpJWVK0M35vTp8OCD8I9/aKoMEREptKTCmZkdCdwFNIxeY4C7+x4JXjcSaA3UNrOlwJ1AecKL+xLuxhxiZp9Gx7zJ3Vdu05WIxOmrr8JUGUuXwvPPw1lnxV2RiIiUUMm2nA0ErgVmA1uTPbi7n5Ng/zLgxATPGUKYkkMkPU2fDqedFlrJ3noLWrSIuyIRESnBkg1na9391ZRWIlISPf98mFC2fn149VXYc8+4KxIRkRIu0VQa2d42swfMrIWZHZL9kdLKRNKZOzzwAHTsCM2awYwZCmYiIlIkkm05OyL63CzHNidMgSGSWbZsgb//HZ58Es4+OyzHVLFi3FWJiEgpkVQ4c/djUl2ISImwYQN07gzjx8MNN0CvXlAm2QZoERGRxJK9W7MG4U7Lo6JNU4B73H1tqgoTSTvffx/WyJwzJ8z+f9llcVckIiKlULJ/8g8C1gMdo491wOBUFSWSdubNg+bN4YsvYNw4BTMREUmZZMecNXb3M3M8vtvM5qSiIJG089Zb0KEDVKoEU6fCIboXRkREUifZlrONZtYy+0E0Ke3G1JQkkkaGDYOTToJ69eC99xTMREQk5ZJtObsMGBqNPTNgFdAlVUWJxM4d7rkH7roLjjsOXngBatSIuyoREckAyd6tOQc40MyqR4/XpbQqkTht2gQ9e8KQIXDRRdC/P1SoEHdVIiKSIQoMZ2Z2vruPMLN/5NoOgLs/nMLaRIrfmjVhXcw334S774bbb9fi5SIiUqwStZxViT5Xy2OfF3EtIvFavDgsXv7FFzB0KFx4YdwViYhIBiownLl7v+jLN9z93Zz7opsCREqHDz+EU0+FjRth4kQ4VotfiIhIPJK9W/OxJLeJlDzjx8NRR4VxZe++q2AmIiKxSjTmrAXwN6BOrnFn1YGyqSxMpFg8+SRceSUcdBC88grsumvcFYmISIZL1HJWAahKCHHVcnysA85KbWkiKZSVBTfeCJdfDiefDFOmKJiJiEhaSDTmbAowxcyGuPu3xVSTSGr9+msY7P/882EZpt69oVyyU/6JiIikVrJjzp4ysx2zH5hZTTObmKKaRFJn5cowqezzz8MDD8ATTyiYiYhIWkn2t1Jtd1+T/cDdV5vZzimqSSQ1FiwIU2UsXgzPPQdnnx13RSIiIn+SbDjLMrMG7r4YwMwaonnOpCSZMQNOOy0sy/TWW/C3v8VdkYiISJ6SDWe3Au+Y2RTC2pqtgB4pq0qkKI0eDeefD/Xrw4QJsNdecVckIiKSr2TX1nzNzA4BmkebrnH3lakrS6QIuMPDD8MNN0Dz5jB2LNSuHXdVIiIiBSrwhgAz2yf6fAjQAFgWfTSItomkpy1b4Kqr4Prrf18rU8FMRERKgEQtZ9cB3YGH8tjngKZSl/Tz88/QuXOYVPaGG6BXLyiT7I3JIiIi8Uo0z1n36PMxxVOOyHb64Qdo2xY++ihMk3H55XFXJCIiUiiJlm/qUNB+d3+xaMsR2Q7z5oXFy1esgDFjQkgTEREpYRJ1a7aLPu9MWGPzrejxMcB0QOFM0sPbb8MZZ0ClSjB1Khx6aNwViYiIbJNE3ZpdAczsdaCpu38fPd4VGJLy6kSSMXw4XHxxmCJjwgRo2DDuikRERLZZsqOk62cHs8iPhLs3ReLjDvfcE9bJbNUK3n1XwUxEREq8ZCehfTNaS3Nk9LgT8EZqShJJwqZN0LMnDBkSwtmAAVChQtxViYiIbLdkJ6G90szOAI6KNvV395dSV5ZIAdauDXOXvfEG3Hln+DCLuyoREZEikWzLGcCHwHp3f8PMKptZNXdfn6rCRPK0eHG4I/Pzz0Or2UUXxV2RiIhIkUpqzJmZdQdGA/2iTbsBL6eqKJE8ffRRWIZp8WJ47TUFMxERKZWSvSHgCuBIYB2Au39FmF5DpHhMmBAG/ZcrFwb+H3dc3BWJiIikRLLh7Dd335T9wMzKEZZvEkm9fv3gtNOgSROYORP22y/uikRERFIm2XA2xcz+CVQysxOA54FxqStLBMjKgptugksvhTZtYMoUqFs37qpERERSKtlwdhOwAvgU6AlMAG5LVVEi/PornHsu3H9/CGdjxkDVqnFXJSIiknIJ79Y0s7LAPHffBxiQ7IHNbBDQFlju7n/qhzKzGsAIwmS25YAH3X2wmR0EPAlUB7YC97n7qGTPK6XATz9B+/ZhbNn998P112uqDBERyRgJW87cfSvwhZkVdkWAIcBJBey/AvjM3Q8EWgMPmVkF4BfgQnf/a/T6/5rZjoU8t5RUX38NLVrABx/AqFFwww0KZiIiklGSneesJjDPzGYBP2dvdPfT8nuBu081s0YFHNOBamZmQFVgFbDF3b/McYxlZrYcqAOsSbJWKalmzoR27cKyTG++CUceGXdFIiIixS7ZcHZ7Cs79ODAWWAZUAzq5e1bOJ5jZ4UAF4OsUnF/SyQsvwPnnw267wauvhkXMRUREMlCB4czMKgKXAnsSbgYY6O5biujcbYA5wLFAY2CSmU1z93XRuXcFhgMX5Q5tuWrsAfQAqFevHqtWrSqi8qRYuFPxySepdMcdbGnWjA0jRuA77QT6PoqISIZK1HI2FNgMTANOBpoCVxfRubsCvdzdgQVmtgjYB5hlZtWB8cCt7j6zoIO4e3+gP0CzZs28Vq1aRVSepNzWrXDNNfD443DmmZQfPpyalSrFXZWIiEisEoWzpu6+P4CZDQRmFeG5FwPHAdPMbBegCbAwuingJWCYu48uwvNJOvn5ZzjnHBg3LtyN+X//B2WSndlFRESk9EoUzjZnf+HuW6wQd82Z2UjCXZi1zWwpcCdQPjpWX+BeYIiZfQoYcJO7rzSz84GjgJ3MrEt0uC7uPifpk0t6++GHMPD/ww/hiSfg8svjrkhERCRtJApnB5rZuuhrI6wQsC762t29en4vdPdzCjqwuy8DTsxj+wjC/GdSGs2fDyefDCtWwMsvh5AmIiIi/1NgOHP3ssVViGSAyZPhjDOgYkWYOhUOPTTuikRERNKOBvlI8RgxAk48MayNOXOmgpmIiEg+FM4ktdzh3nvhggugZcuwJFPDhnFXJSIikraSnYRWpPA2bw6Llg8aFMLZU09BhQpxVyUiIpLW1HImqbF2LZx6aghmd9wBQ4cqmImIiCRBLWdS9JYsCcFs/vwQzrp2jbsiERGREkPhTIrWnDkhmG3YENbIPP74uCsSEREpUdStKUXn1VehVSsoWxbeeUfBTEREZBsonEnR6N8/TCi7555hqoz994+7IhERkRJJ4Uy2T1YW3HIL9OwJbdqEyWXr1o27KhERkRJLY85k2/36axjs/+yzIZw9/jiU04+UiIjI9tBvUtk2P/0Ep58expb93//BDTeAWdxViYiIlHgKZ1J4CxeGxcu//Ta0mnXqFHdFIiIipYbCmRTOzJlw2mmwdSu88UZYkklERESKjG4IkOS99BIccwxUqwYzZiiYiYiIpIDCmSTnv/+FM8+Egw4KrWd77x13RSIiIqWSwpkUbOtWuPpquPZa6NAB3noL6tSJuyoREZFSS+FM8vfzzyGQ9e4N//gHPPccVKoUd1UiIiKlmm4IkLz9+GOY8X/2bHjsMbjyyrgrEhERyQgKZ/Jn8+fDKafA8uXw8sshpImIiEixUDiTP5oyJUwuu8MO4etmzeKuSEREJKNozJn87umn4YQTYNddwx2ZCmYiIiLFTuFMwB3uuw/OPx+OPBLefRcaNYq7KhERkYykbs1Mt3kzXHYZDBwYwtlTT4UuTREREYmFWs4y2bp10LZtCGa33w7DhimYiYiIxEwtZ5lq6dJwR+b8+SGcdesWd0UiIiKCwllmmjMHTj0V1q+HCRPCTQAiIiKSFtStmWkmToRWraBMmTDwX8FMREQkrSicZZIBA0KL2Z57wnvvwf77x12RiIiI5KJwlgmysuCf/4QePUJL2dSpULdu3FWJiIhIHjTmrLT77Tfo2hVGjgzh7IknoJy+7SIiIulKv6VLs1WrwlJM06ZBr15w441gFndVIiIiUgCFs9Jq4cIwVcaiRaHVrHPnuCsSERGRJCiclUazZoXJZbduhTfeCHdnioiISImgGwJKm5degtatoVo1mD5dwUxERKSEUTgrTf77XzjzTDjgAJgxA5o0ibsiERERKSSFs9Jg61a4+mq49tpwA8Bbb8HOO8ddlYiIiGyDlIYzMxtkZsvNbG4++2uY2Tgz+9jM5plZ1xz7LjKzr6KPi1JZZ4n2yy9w1lnQu3cIZ88/D5Urx12ViIiIbKNUt5wNAU4qYP8VwGfufiDQGnjIzCqYWS3gTuAI4HDgTjOrmeJaS54ffwzjy8aMCeHs4YehbNm4qxIREZHtkNJw5u5TgVUFPQWoZmYGVI2euwVoA0xy91XuvhqYRMEhL/N8/jm0aAFz54abAK66Ku6KREREpAjEPZXG48BYYBlQDejk7llmthuwJMfzlgK7xVBfepo6NYwtK18epkyBww6LuyIREREpInGHszbAHOBYoDEwycymFeYAZtYD6AFQr149Vq0qqKGu5KswejRVrrqKrIYNWT9qFFkNG4aVAERERKRUiDucdQV6ubsDC8xsEbAP8B1hDFq2esDkvA7g7v2B/gDNmjXzWrVqpbLe+LjDf/4Dt94KRx9N2ZdeYseaGoYnIiJS2sQ9lcZi4DgAM9sFaAIsBCYCJ5pZzehGgBOjbZlp8+awaPmtt8J558HEiaBgJiIiUiqltOXMzEYSWsBqm9lSwh2Y5QHcvS9wLzDEzD4FDLjJ3VdGr70XeD861D3unpl9d+vWQceOIZDddhvcc48WLxcRESnFUhrO3P2cBPuXEVrF8to3CBiUirpKjKVL4dRTYd48eOopuPjiuCsSERGRFIt7zJnk55NP4JRTQsvZhAlwYp4ZVkREREqZuMecSV4mToSWLcPX77yjYCYiIpJBFM7SzcCBoStzjz3gvffCIuYiIiKSMRTO0oV7GPB/ySVwwgkwbRrspnl3RUREMo3GnKWD336Dbt3gmWege3d44okw+7+IiIhkHIWzuK1aBWecEZZk+s9/4KabNFWGiIhIBlM4i9OiReGOzIULQ6vZOQXOPCIiIiIZQOEsLrNmQbt2Yfb/SZPgqKPirkhERETSgG4IiMOYMdC6NVSpAjNmKJiJiIjI/yicFbfevcMYs/33h5kzoUmTuCsSERGRNKJwVly2boVrr4Wrr4b27eHtt2HnneOuSkRERNKMwllx+OUXOPts+O9/4ZprYPRoqFw57qpEREQkDemGgFRbvhxOOy3cAPDoo/D3v8ddkYiIiKQxhbNU+uILOPlk+OEHePFFOP30uCsSERGRNKdwlirTpoWxZeXLw+TJcPjhcVckIiIiJYDGnKXCs8/C8ceHAf8zZyqYiYiISNIUzoqSO/TqFWb6b94cpk+H3XePuyoREREpQRTOisqWLdCzJ9xyC5x7Lrz+OtSqFXdVIiIiUsIonBWF9evDUkwDBsCtt8KIEbDDDnFXJSIiIiWQbgjYXt99B6eeCnPnhnB2ySVxVyQiIiIlmMLZ9vjkkxDM1q6F8eOhTZu4KxIREZESTt2a2+r116Fly3ATwLRpCmYiIiJSJBTOtsWgQaHFbPfdw1QZBx4Yd0UiIiJSSiicFYY73HYbXHwxHHdcaDGrVy/uqkRERKQU0ZizZG3ZAl26wNNPh0H/ffqE2f9FREREipBazpJVtixUqQL33Qf9+yuYiYiISEqo5SxZZtC3b/gsIiIikiJqOSsMBTMRERFJMYUzERERkTSicCYiIiKSRhTORERERNKIwpmIiIhIGlE4ExEREUkjCmciIiIiaUThTERERCSNKJyJiIiIpBGFMxEREZE0onAmIiIikkYUzkRERETSiMKZiIiISBoxd4+7hiJjZiuAb1N8mtrAyhSfI11l8rVDZl9/Jl87ZPb169ozVyZff3Fde0N3r5N7Y6kKZ8XBzD5w92Zx1xGHTL52yOzrz+Rrh8y+fl17Zl47ZPb1x33t6tYUERERSSMKZyIiIiJpROGs8PrHXUCMMvnaIbOvP5OvHTL7+nXtmSuTrz/Wa9eYMxEREZE0opYzERERkTSicJaLmQ0ys+VmNjfHtlpmNsnMvoo+14y2m5n1NrMFZvaJmR0SX+XbL59rv8vM/r+9+4/1qq7jOP58gQSGTIeaY1wKaDXmVJCKJM00ZyS6sMWSpWmr1ir7ZZOC6ZzVWj+caWVqq+RSVlpQy2gVJWz6R0IJlwtiGA22IoL1Q9OmTi/v/jjvr5y+3O+9CPfe7/ee83psZ/eczznnez7v+z4793M/n/PdZ4+knlwWlvYtz9h3SFrQnloPDUnTJK2XtF3SI5I+nuWVz/0Asdcl9xMkbZS0JeP/TJbPkLQh47xX0kuyfHxu78z909tZ/6MxQOzdknaVcj8nyytz3zdIGitps6Q1uV35vJf1E3+dcr9b0taM8w9Z1hnP/IjwUlqAc4G5wLZS2ZeBZbm+DPhSri8EfgkIOAvY0O76D0PsNwLX9nPsqcAWYDwwA/gzMLbdMRxF7FOAubk+CXgsY6x87geIvS65F3Bcro8DNmROfwQsyfI7gQ/l+oeBO3N9CXBvu2MYhti7gcX9HF+Z+74U0yeBHwBrcrvyeR8k/jrlfjdwUlNZRzzz3XPWJCIeAP7VVLwIWJnrK4FLS+XfjcJDwAmSpoxMTYdei9hbWQTcExHPRsQuYCcwb9gqN8wiYm9EbMr1J4FHganUIPcDxN5K1XIfEfFUbo7LJYA3A6uyvDn3jXtiFXCBJI1QdYfUALG3Upn7HkBSF3Ax8O3cFjXIe0Nz/IOoVO4H0BHPfDfODs8pEbE31/8OnJLrU4G/lI77KwP/URutPpLduHc1unipcOw5XHEmRS9CrXLfFDvUJPc5tNMD7Ad+Q9Eb+HhEPJ+HlGN8If7c/wRw4sjWeOg0xx4Rjdx/PnN/i6TxWVa13N8KfAo4kNsnUpO8p+b4G+qQeyj+EVkr6WFJH8iyjnjmu3H2IkXRv1mnr7jeAbwSmAPsBW5ub3WGl6TjgNXAJyLiP+V9Vc99P7HXJvcR0RcRc4Auil7AWW2u0ohpjl3SacByit/B64DJwKfbWMVhIekSYH9EPNzuurTDAPFXPvcl50TEXOAi4GpJ55Z3tvOZ78bZ4dnX6L7Mn/uzfA8wrXRcV5ZVRkTsy4f3AeBbHBy+qlzsksZRNE6+HxE/yeJa5L6/2OuU+4aIeBxYD8ynGLY4JneVY3wh/tx/PPDPEa7qkCvF/tYc6o6IeBZYQTVzfzbwNkm7gXsohjO/Sn3yfkj8ku6uSe4BiIg9+XM/8FOKWDvime/G2eG5D7gq168CflYqvzK/xXEW8ESpO7QSmsbU3w40vsl5H7Akv8E0A3gVsHGk6zdU8t2R7wCPRsRXSrsqn/tWsdco9ydLOiHXjwUupHjvbj2wOA9rzn3jnlgMrMv/sEedFrH/sfTHxZLEjQAAA6dJREFUSRTv3JRzX4n7PiKWR0RXREyneMF/XURcTg3yDi3jv6IOuQeQNFHSpMY68BaKWDvjmX803yao4gL8kGII5zmKMeX3UbxXcD/wJ+C3wOQ8VsA3KN5P2Qq8tt31H4bYv5ex9ebNOaV0/HUZ+w7gonbX/yhjP4ei+7oX6MllYR1yP0Dsdcn9GcDmjHMbcEOWz6RodO4EfgyMz/IJub0z989sdwzDEPu6zP024G4OfqOzMvd90+/hPA5+W7HyeR8k/lrkPvO8JZdHgOuyvCOe+Z4hwMzMzKyDeFjTzMzMrIO4cWZmZmbWQdw4MzMzM+sgbpyZmZmZdRA3zszMzMw6iBtnZlYZkr4g6XxJl0panmXdknZJ6snlY0fwudMlvWvoa2xmdig3zsysSl4PPAS8CXigVL40Iubk8rUj+NzpwItunEkaewTXMrOac+PMzEY9STdJ6qWYD/B3wPuBOyTd0OL4iTmZ+0ZJmyUtyvLpkh6UtCmXN+QpXwTemD1v10h6j6TbSp+3RtJ5uf6UpJslbQHmS7oir9Mj6Zs50fjY7NHbJmmrpGuG77djZqONG2dmNupFxFKKGS26KRpovRFxRkR8Ng+5qTSseTrFDAfrImIecH7un0gxj96FUUyGfBnQ6GVbBjyYPW+3DFKdicCGiJhNMffiZcDZUUwu3gdcTjGZ/NSIOC0iTqeYw9DMDIBjBj/EzGxUmEsxFcssirkxy5ZGxKrGhqQVFJM+X5tFE4CXA38DbpPUaEi9+gjq0UcxiTzABcBrgN8XUxVyLEUD8OfATElfB34BrD2C65hZRblxZmajWjakuoEu4B/AS4ti9QDzW50GvCMidjR91o3APmA2xcjCMy3Of57/H3mYUFp/JiL6StdZGRHL+6n3bGAB8EHgncB7W1zLzGrGw5pmNqpFRE8OGT4GnEoxcfOCHIJ8usVpvwY+quzOknRmlh8P7I2IA8C7gcYL/U8Ck0rn7wbmSBojaRowr8V17gcWS3pZXmeypFdIOgkYExGrgespev3MzAD3nJlZBUg6Gfh3RByQNCsitg9yyueAW4FeSWOAXcAlwO3AaklXAr8C/pvH9wJ9+ZJ/d567C9hOMYS6qb+LRMR2SdcDa/M6zwFXA08DK7IM4JCeNTOrL0VEu+tgZmZmZsnDmmZmZmYdxI0zMzMzsw7ixpmZmZlZB3HjzMzMzKyDuHFmZmZm1kHcODMzMzPrIG6cmZmZmXUQN87MzMzMOsj/AETAKM6INwY7AAAAAElFTkSuQmCC",
            "text/plain": [
              "<Figure size 720x432 with 1 Axes>"
            ]
          },
          "metadata": {
            "needs_background": "light",
            "tags": []
          },
          "output_type": "display_data"
        },
        {
          "data": {
            "image/png": "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",
            "text/plain": [
              "<Figure size 720x432 with 1 Axes>"
            ]
          },
          "metadata": {
            "needs_background": "light",
            "tags": []
          },
          "output_type": "display_data"
        },
        {
          "name": "stdout",
          "output_type": "stream",
          "text": [
            "example run in 13.77s\n"
          ]
        }
      ],
      "source": [
        "from collections import defaultdict\n",
        "\n",
        "import time\n",
        "import gc\n",
        "import numpy as np\n",
        "import matplotlib.pyplot as plt\n",
        "\n",
        "from sklearn.preprocessing import StandardScaler\n",
        "from sklearn.model_selection import train_test_split\n",
        "from sklearn.datasets import make_regression\n",
        "from sklearn.ensemble import RandomForestRegressor\n",
        "from sklearn.linear_model import Ridge\n",
        "from sklearn.linear_model import SGDRegressor\n",
        "from sklearn.svm import SVR\n",
        "from sklearn.utils import shuffle\n",
        "\n",
        "\n",
        "def _not_in_sphinx():\n",
        "    # Hack to detect whether we are running by the sphinx builder\n",
        "    return '__file__' in globals()\n",
        "\n",
        "\n",
        "def atomic_benchmark_estimator(estimator, X_test, verbose=False):\n",
        "    \"\"\"Measure runtime prediction of each instance.\"\"\"\n",
        "    n_instances = X_test.shape[0]\n",
        "    runtimes = np.zeros(n_instances, dtype=float)\n",
        "    for i in range(n_instances):\n",
        "        instance = X_test[[i], :]\n",
        "        start = time.time()\n",
        "        estimator.predict(instance)\n",
        "        runtimes[i] = time.time() - start\n",
        "    if verbose:\n",
        "        print(\"atomic_benchmark runtimes:\", min(runtimes), np.percentile(\n",
        "            runtimes, 50), max(runtimes))\n",
        "    return runtimes\n",
        "\n",
        "\n",
        "def bulk_benchmark_estimator(estimator, X_test, n_bulk_repeats, verbose):\n",
        "    \"\"\"Measure runtime prediction of the whole input.\"\"\"\n",
        "    n_instances = X_test.shape[0]\n",
        "    runtimes = np.zeros(n_bulk_repeats, dtype=float)\n",
        "    for i in range(n_bulk_repeats):\n",
        "        start = time.time()\n",
        "        estimator.predict(X_test)\n",
        "        runtimes[i] = time.time() - start\n",
        "    runtimes = np.array(list(map(lambda x: x / float(n_instances), runtimes)))\n",
        "    if verbose:\n",
        "        print(\"bulk_benchmark runtimes:\", min(runtimes), np.percentile(\n",
        "            runtimes, 50), max(runtimes))\n",
        "    return runtimes\n",
        "\n",
        "\n",
        "def benchmark_estimator(estimator, X_test, n_bulk_repeats=30, verbose=False):\n",
        "    \"\"\"\n",
        "    Measure runtimes of prediction in both atomic and bulk mode.\n",
        "\n",
        "    Parameters\n",
        "    ----------\n",
        "    estimator : already trained estimator supporting `predict()`\n",
        "    X_test : test input\n",
        "    n_bulk_repeats : how many times to repeat when evaluating bulk mode\n",
        "\n",
        "    Returns\n",
        "    -------\n",
        "    atomic_runtimes, bulk_runtimes : a pair of `np.array` which contain the\n",
        "    runtimes in seconds.\n",
        "\n",
        "    \"\"\"\n",
        "    atomic_runtimes = atomic_benchmark_estimator(estimator, X_test, verbose)\n",
        "    bulk_runtimes = bulk_benchmark_estimator(estimator, X_test, n_bulk_repeats,\n",
        "                                             verbose)\n",
        "    return atomic_runtimes, bulk_runtimes\n",
        "\n",
        "\n",
        "def generate_dataset(n_train, n_test, n_features, noise=0.1, verbose=False):\n",
        "    \"\"\"Generate a regression dataset with the given parameters.\"\"\"\n",
        "    if verbose:\n",
        "        print(\"generating dataset...\")\n",
        "\n",
        "    X, y, coef = make_regression(n_samples=n_train + n_test,\n",
        "                                 n_features=n_features, noise=noise, coef=True)\n",
        "\n",
        "    random_seed = 13\n",
        "    X_train, X_test, y_train, y_test = train_test_split(\n",
        "        X, y, train_size=n_train, test_size=n_test, random_state=random_seed)\n",
        "    X_train, y_train = shuffle(X_train, y_train, random_state=random_seed)\n",
        "\n",
        "    X_scaler = StandardScaler()\n",
        "    X_train = X_scaler.fit_transform(X_train)\n",
        "    X_test = X_scaler.transform(X_test)\n",
        "\n",
        "    y_scaler = StandardScaler()\n",
        "    y_train = y_scaler.fit_transform(y_train[:, None])[:, 0]\n",
        "    y_test = y_scaler.transform(y_test[:, None])[:, 0]\n",
        "\n",
        "    gc.collect()\n",
        "    if verbose:\n",
        "        print(\"ok\")\n",
        "    return X_train, y_train, X_test, y_test\n",
        "\n",
        "\n",
        "def boxplot_runtimes(runtimes, pred_type, configuration):\n",
        "    \"\"\"\n",
        "    Plot a new `Figure` with boxplots of prediction runtimes.\n",
        "\n",
        "    Parameters\n",
        "    ----------\n",
        "    runtimes : list of `np.array` of latencies in micro-seconds\n",
        "    cls_names : list of estimator class names that generated the runtimes\n",
        "    pred_type : 'bulk' or 'atomic'\n",
        "\n",
        "    \"\"\"\n",
        "\n",
        "    fig, ax1 = plt.subplots(figsize=(10, 6))\n",
        "    bp = plt.boxplot(runtimes, )\n",
        "\n",
        "    cls_infos = ['%s\\n(%d %s)' % (estimator_conf['name'],\n",
        "                                  estimator_conf['complexity_computer'](\n",
        "                                      estimator_conf['instance']),\n",
        "                                  estimator_conf['complexity_label']) for\n",
        "                 estimator_conf in configuration['estimators']]\n",
        "    plt.setp(ax1, xticklabels=cls_infos)\n",
        "    plt.setp(bp['boxes'], color='black')\n",
        "    plt.setp(bp['whiskers'], color='black')\n",
        "    plt.setp(bp['fliers'], color='red', marker='+')\n",
        "\n",
        "    ax1.yaxis.grid(True, linestyle='-', which='major', color='lightgrey',\n",
        "                   alpha=0.5)\n",
        "\n",
        "    ax1.set_axisbelow(True)\n",
        "    ax1.set_title('Prediction Time per Instance - %s, %d feats.' % (\n",
        "        pred_type.capitalize(),\n",
        "        configuration['n_features']))\n",
        "    ax1.set_ylabel('Prediction Time (us)')\n",
        "\n",
        "    plt.show()\n",
        "\n",
        "\n",
        "def benchmark(configuration):\n",
        "    \"\"\"Run the whole benchmark.\"\"\"\n",
        "    X_train, y_train, X_test, y_test = generate_dataset(\n",
        "        configuration['n_train'], configuration['n_test'],\n",
        "        configuration['n_features'])\n",
        "\n",
        "    stats = {}\n",
        "    for estimator_conf in configuration['estimators']:\n",
        "        print(\"Benchmarking\", estimator_conf['instance'])\n",
        "        estimator_conf['instance'].fit(X_train, y_train)\n",
        "        gc.collect()\n",
        "        a, b = benchmark_estimator(estimator_conf['instance'], X_test)\n",
        "        stats[estimator_conf['name']] = {'atomic': a, 'bulk': b}\n",
        "\n",
        "    cls_names = [estimator_conf['name'] for estimator_conf in configuration[\n",
        "        'estimators']]\n",
        "    runtimes = [1e6 * stats[clf_name]['atomic'] for clf_name in cls_names]\n",
        "    boxplot_runtimes(runtimes, 'atomic', configuration)\n",
        "    runtimes = [1e6 * stats[clf_name]['bulk'] for clf_name in cls_names]\n",
        "    boxplot_runtimes(runtimes, 'bulk (%d)' % configuration['n_test'],\n",
        "                     configuration)\n",
        "\n",
        "\n",
        "def n_feature_influence(estimators, n_train, n_test, n_features, percentile):\n",
        "    \"\"\"\n",
        "    Estimate influence of the number of features on prediction time.\n",
        "\n",
        "    Parameters\n",
        "    ----------\n",
        "\n",
        "    estimators : dict of (name (str), estimator) to benchmark\n",
        "    n_train : nber of training instances (int)\n",
        "    n_test : nber of testing instances (int)\n",
        "    n_features : list of feature-space dimensionality to test (int)\n",
        "    percentile : percentile at which to measure the speed (int [0-100])\n",
        "\n",
        "    Returns:\n",
        "    --------\n",
        "\n",
        "    percentiles : dict(estimator_name,\n",
        "                       dict(n_features, percentile_perf_in_us))\n",
        "\n",
        "    \"\"\"\n",
        "    percentiles = defaultdict(defaultdict)\n",
        "    for n in n_features:\n",
        "        print(\"benchmarking with %d features\" % n)\n",
        "        X_train, y_train, X_test, y_test = generate_dataset(n_train, n_test, n)\n",
        "        for cls_name, estimator in estimators.items():\n",
        "            estimator.fit(X_train, y_train)\n",
        "            gc.collect()\n",
        "            runtimes = bulk_benchmark_estimator(estimator, X_test, 30, False)\n",
        "            percentiles[cls_name][n] = 1e6 * np.percentile(runtimes,\n",
        "                                                           percentile)\n",
        "    return percentiles\n",
        "\n",
        "\n",
        "def plot_n_features_influence(percentiles, percentile):\n",
        "    fig, ax1 = plt.subplots(figsize=(10, 6))\n",
        "    colors = ['r', 'g', 'b']\n",
        "    for i, cls_name in enumerate(percentiles.keys()):\n",
        "        x = np.array(sorted([n for n in percentiles[cls_name].keys()]))\n",
        "        y = np.array([percentiles[cls_name][n] for n in x])\n",
        "        plt.plot(x, y, color=colors[i], )\n",
        "    ax1.yaxis.grid(True, linestyle='-', which='major', color='lightgrey',\n",
        "                   alpha=0.5)\n",
        "    ax1.set_axisbelow(True)\n",
        "    ax1.set_title('Evolution of Prediction Time with #Features')\n",
        "    ax1.set_xlabel('#Features')\n",
        "    ax1.set_ylabel('Prediction Time at %d%%-ile (us)' % percentile)\n",
        "    plt.show()\n",
        "\n",
        "\n",
        "def benchmark_throughputs(configuration, duration_secs=0.1):\n",
        "    \"\"\"benchmark throughput for different estimators.\"\"\"\n",
        "    X_train, y_train, X_test, y_test = generate_dataset(\n",
        "        configuration['n_train'], configuration['n_test'],\n",
        "        configuration['n_features'])\n",
        "    throughputs = dict()\n",
        "    for estimator_config in configuration['estimators']:\n",
        "        estimator_config['instance'].fit(X_train, y_train)\n",
        "        start_time = time.time()\n",
        "        n_predictions = 0\n",
        "        while (time.time() - start_time) < duration_secs:\n",
        "            estimator_config['instance'].predict(X_test[[0]])\n",
        "            n_predictions += 1\n",
        "        throughputs[estimator_config['name']] = n_predictions / duration_secs\n",
        "    return throughputs\n",
        "\n",
        "\n",
        "def plot_benchmark_throughput(throughputs, configuration):\n",
        "    fig, ax = plt.subplots(figsize=(10, 6))\n",
        "    colors = ['r', 'g', 'b']\n",
        "    cls_infos = ['%s\\n(%d %s)' % (estimator_conf['name'],\n",
        "                                  estimator_conf['complexity_computer'](\n",
        "                                      estimator_conf['instance']),\n",
        "                                  estimator_conf['complexity_label']) for\n",
        "                 estimator_conf in configuration['estimators']]\n",
        "    cls_values = [throughputs[estimator_conf['name']] for estimator_conf in\n",
        "                  configuration['estimators']]\n",
        "    plt.bar(range(len(throughputs)), cls_values, width=0.5, color=colors)\n",
        "    ax.set_xticks(np.linspace(0.25, len(throughputs) - 0.75, len(throughputs)))\n",
        "    ax.set_xticklabels(cls_infos, fontsize=10)\n",
        "    ymax = max(cls_values) * 1.2\n",
        "    ax.set_ylim((0, ymax))\n",
        "    ax.set_ylabel('Throughput (predictions/sec)')\n",
        "    ax.set_title('Prediction Throughput for different estimators (%d '\n",
        "                 'features)' % configuration['n_features'])\n",
        "    plt.show()\n",
        "\n",
        "\n",
        "# #############################################################################\n",
        "# Main code\n",
        "\n",
        "start_time = time.time()\n",
        "\n",
        "# #############################################################################\n",
        "# Benchmark bulk/atomic prediction speed for various regressors\n",
        "configuration = {\n",
        "    'n_train': int(1e3),\n",
        "    'n_test': int(1e2),\n",
        "    'n_features': int(1e2),\n",
        "    'estimators': [\n",
        "        {'name': 'Linear Model',\n",
        "         'instance': SGDRegressor(penalty='elasticnet', alpha=0.01,\n",
        "                                  l1_ratio=0.25, tol=1e-4),\n",
        "         'complexity_label': 'non-zero coefficients',\n",
        "         'complexity_computer': lambda clf: np.count_nonzero(clf.coef_)},\n",
        "        {'name': 'RandomForest',\n",
        "         'instance': RandomForestRegressor(),\n",
        "         'complexity_label': 'estimators',\n",
        "         'complexity_computer': lambda clf: clf.n_estimators},\n",
        "        {'name': 'SVR',\n",
        "         'instance': SVR(kernel='rbf'),\n",
        "         'complexity_label': 'support vectors',\n",
        "         'complexity_computer': lambda clf: len(clf.support_vectors_)},\n",
        "    ]\n",
        "}\n",
        "benchmark(configuration)\n",
        "\n",
        "# benchmark n_features influence on prediction speed\n",
        "percentile = 90\n",
        "percentiles = n_feature_influence({'ridge': Ridge()},\n",
        "                                  configuration['n_train'],\n",
        "                                  configuration['n_test'],\n",
        "                                  [100, 250, 500], percentile)\n",
        "plot_n_features_influence(percentiles, percentile)\n",
        "\n",
        "# benchmark throughput\n",
        "throughputs = benchmark_throughputs(configuration)\n",
        "plot_benchmark_throughput(throughputs, configuration)\n",
        "\n",
        "stop_time = time.time()\n",
        "print(\"example run in %.2fs\" % (stop_time - start_time))"
<<<<<<< HEAD
=======
      ],
      "id": "CLDk-ecSqOej",
      "execution_count": 19,
      "outputs": [
        {
          "output_type": "stream",
          "name": "stdout",
          "text": [
            "Benchmarking SGDRegressor(alpha=0.01, l1_ratio=0.25, penalty='elasticnet', tol=0.0001)\n",
            "Benchmarking RandomForestRegressor()\n",
            "Benchmarking SVR()\n"
          ]
        },
        {
          "output_type": "display_data",
          "data": {
            "text/plain": [
              "<Figure size 1000x600 with 1 Axes>"
            ],
            "image/png": "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\n"
          },
          "metadata": {}
        },
        {
          "output_type": "display_data",
          "data": {
            "text/plain": [
              "<Figure size 1000x600 with 1 Axes>"
            ],
            "image/png": "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\n"
          },
          "metadata": {}
        },
        {
          "output_type": "stream",
          "name": "stdout",
          "text": [
            "benchmarking with 100 features\n",
            "benchmarking with 250 features\n",
            "benchmarking with 500 features\n"
          ]
        },
        {
          "output_type": "display_data",
          "data": {
            "text/plain": [
              "<Figure size 1000x600 with 1 Axes>"
            ],
            "image/png": "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\n"
          },
          "metadata": {}
        },
        {
          "output_type": "display_data",
          "data": {
            "text/plain": [
              "<Figure size 1000x600 with 1 Axes>"
            ],
            "image/png": "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\n"
          },
          "metadata": {}
        },
        {
          "output_type": "stream",
          "name": "stdout",
          "text": [
            "example run in 17.23s\n"
          ]
        }
>>>>>>> 24423309a9d72295c61c85fc91c0330fd595e688
      ]
    }
  ],
  "metadata": {
    "colab": {
      "include_colab_link": true,
      "provenance": []
    },
    "kernelspec": {
      "display_name": "Python 3",
      "language": "python",
      "name": "python3"
    },
    "language_info": {
      "codemirror_mode": {
        "name": "ipython",
        "version": 3
      },
      "file_extension": ".py",
      "mimetype": "text/x-python",
      "name": "python",
      "nbconvert_exporter": "python",
      "pygments_lexer": "ipython3",
      "version": "3.5.2"
    }
  },
  "nbformat": 4,
  "nbformat_minor": 5
}
