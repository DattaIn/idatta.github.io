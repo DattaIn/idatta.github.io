{
 "cells": [
  {
   "cell_type": "code",
   "execution_count": null,
   "id": "037ccd3d",
   "metadata": {
    "id": "981c854c"
   },
   "outputs": [],
   "source": [
    "# uncomment and run the lines below if running in google colab\n",
    "\n",
    "# !git clone https://github.com/jlaihong/image-super-resolution.git\n",
    "# !mv image-super-resolution/* ./"
   ]
  },
  {
   "cell_type": "code",
   "execution_count": null,
   "id": "e9a30a57",
   "metadata": {
    "id": "a3e7277a"
   },
   "outputs": [],
   "source": [
    "import os\n",
    "import glob\n",
    "import numpy as np\n",
    "from PIL import Image, ImageOps\n",
    "import tensorflow as tf\n",
    "\n",
    "from datasets.div2k.parameters import Div2kParameters \n",
    "from models.srresnet import build_srresnet\n",
    "from models.pretrained import pretrained_models\n",
    "from utils.prediction import get_sr_image\n",
    "from utils.config import config"
   ]
  },
  {
   "cell_type": "code",
   "execution_count": null,
   "id": "48597f6c",
   "metadata": {
    "id": "2fe72874"
   },
   "outputs": [],
   "source": [
    "dataset_key = \"bicubic_x4\"\n",
    "\n",
    "data_path = config.get(\"data_path\", \"\") \n",
    "\n",
    "div2k_folder = os.path.abspath(os.path.join(data_path, \"div2k\"))\n",
    "\n",
    "dataset_parameters = Div2kParameters(dataset_key, save_data_directory=div2k_folder)"
   ]
  },
  {
   "cell_type": "code",
   "execution_count": null,
   "id": "195dc0c8",
   "metadata": {
    "id": "5a9b6c5b"
   },
   "outputs": [],
   "source": [
    "def load_image(path):\n",
    "    img = Image.open(path)\n",
    "    \n",
    "    was_grayscale = len(img.getbands()) == 1\n",
    "    \n",
    "    if was_grayscale or len(img.getbands()) == 4:\n",
    "        img = img.convert('RGB')\n",
    "    \n",
    "    return was_grayscale, np.array(img)\n"
   ]
  },
  {
   "cell_type": "code",
   "execution_count": null,
   "id": "c831e3df",
   "metadata": {
    "id": "53ddafc3"
   },
   "outputs": [],
   "source": [
    "model_name = \"srresnet\"\n",
    "# model_name = \"srgan\""
   ]
  },
  {
   "cell_type": "code",
   "execution_count": null,
   "id": "6e7dd10a",
   "metadata": {
    "id": "ee0187e4"
   },
   "outputs": [],
   "source": [
    "model_key = f\"{model_name}_{dataset_key}\""
   ]
  },
  {
   "cell_type": "code",
   "execution_count": null,
   "id": "5cc13e85",
   "metadata": {
    "id": "d6dd2475"
   },
   "outputs": [],
   "source": [
    "weights_directory = os.path.abspath(f\"weights/{model_key}\")\n",
    "\n",
    "file_path = os.path.join(weights_directory, \"generator.h5\")\n",
    "\n",
    "if not os.path.exists(file_path):\n",
    "    os.makedirs(weights_directory, exist_ok=True)\n",
    "    \n",
    "    print(\"Couldn't find file: \", file_path, \", attempting to download a pretrained model\")\n",
    "    \n",
    "    if model_key not in pretrained_models:\n",
    "        print(f\"Couldn't find pretrained model with key: {model_key}, available pretrained models: {pretrained_models.key()}\")\n",
    "    else:\n",
    "        download_url = pretrained_models[model_key]\n",
    "        file = file_path.split(\"/\")[-1]\n",
    "        tf.keras.utils.get_file(file, download_url, cache_subdir=weights_directory)"
   ]
  },
  {
   "cell_type": "code",
   "execution_count": null,
   "id": "136af042",
   "metadata": {
    "id": "89375f5a"
   },
   "outputs": [],
   "source": [
    "model = build_srresnet(scale=dataset_parameters.scale)\n",
    "\n",
    "os.makedirs(weights_directory, exist_ok=True)\n",
    "weights_file = f'{weights_directory}/generator.h5'\n",
    "\n",
    "model.load_weights(weights_file)"
   ]
  },
  {
   "cell_type": "code",
   "execution_count": null,
   "id": "9e4c83a1",
   "metadata": {
    "id": "dfdf8743"
   },
   "outputs": [],
   "source": [
    "results_path = f\"output/{model_key}/\""
   ]
  },
  {
   "cell_type": "code",
   "execution_count": null,
   "id": "7752ca06",
   "metadata": {
    "id": "9fbfb611"
   },
   "outputs": [],
   "source": [
    "os.makedirs(results_path, exist_ok=True)"
   ]
  },
  {
   "cell_type": "code",
   "execution_count": null,
   "id": "fc6df3d0",
   "metadata": {
    "id": "fd8c0c42",
    "scrolled": false
   },
   "outputs": [],
   "source": [
    "image_paths = glob.glob(\"input/*\")\n",
    "\n",
    "for image_path in image_paths:\n",
    "    print(image_path)\n",
    "    was_grayscale, lr = load_image(image_path)\n",
    "    \n",
    "    sr = get_sr_image(model, lr)\n",
    "        \n",
    "    if was_grayscale:\n",
    "        sr = ImageOps.grayscale(sr)\n",
    "    \n",
    "    image_name = image_path.split(\"/\")[-1]\n",
    "    sr.save(f\"{results_path}{image_name}\" )"
   ]
  },
  {
   "cell_type": "code",
   "execution_count": null,
   "id": "7df2aedf",
   "metadata": {
    "id": "12f1b996"
   },
   "outputs": [],
   "source": [
    "# zip files for download from colab\n",
    "\n",
    "!zip -r images.zip output"
   ]
  },
  {
   "cell_type": "code",
   "execution_count": null,
   "metadata": {
    "id": "bc24c18e"
   },
   "outputs": [],
   "source": []
  }
 ],
 "metadata": {
  "colab": {
   "name": "run_model.ipynb",
   "provenance": []
  },
  "kernelspec": {
   "display_name": "Python 3",
   "language": "python",
   "name": "python3"
  },
  "language_info": {
   "codemirror_mode": {
    "name": "ipython",
    "version": 3
   },
   "file_extension": ".py",
   "mimetype": "text/x-python",
   "name": "python",
   "nbconvert_exporter": "python",
   "pygments_lexer": "ipython3",
   "version": "3.8.5"
  }
 },
 "nbformat": 4,
 "nbformat_minor": 5
}
