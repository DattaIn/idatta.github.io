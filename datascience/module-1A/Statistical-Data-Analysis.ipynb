{
  "cells": [
    {
      "cell_type": "markdown",
      "metadata": {
        "colab_type": "text",
        "id": "view-in-github"
      },
      "source": [
        "<a href=\"https://colab.research.google.com/github/DattaIn/idatta.github.io/blob/master/Statistical-Data-Analysis.ipynb\" target=\"_parent\"><img src=\"https://colab.research.google.com/assets/colab-badge.svg\" alt=\"Open In Colab\"/></a>"
      ]
    },
    {
      "cell_type": "markdown",
      "id": "isolated-broadcast",
      "metadata": {
        "id": "isolated-broadcast"
      },
      "source": [
        "## Dataset"
      ]
    },
    {
      "cell_type": "markdown",
      "id": "hollow-presence",
      "metadata": {
        "id": "hollow-presence"
      },
      "source": [
        "The dataset chosen for this experiment is the Movies data set. This dataset contains information on 10,000 movies collected from The Movie Database (TMDb), including user evaluations and revenues."
      ]
    },
    {
      "cell_type": "markdown",
      "id": "false-cooperation",
      "metadata": {
        "id": "false-cooperation"
      },
      "source": [
        "## Information"
      ]
    },
    {
      "cell_type": "markdown",
      "id": "interior-surgery",
      "metadata": {
        "id": "interior-surgery"
      },
      "source": [
        "###  Exploratory Data Analysis (EDA)\n",
        "\n",
        "\" Exploratory Data Analysis (EDA) is an attitude, a state of flexibility, a willingness to look for those things that we believe are not there, as well as those we believe to be there. -- John W. Tukey \"\n",
        "\n",
        "Exploratory Data Analysis (EDA) in Python is the first step in the data analysis process developed by “John Tukey” in the 1970s. In statistics, exploratory data analysis is an approach for analysing datasets to summarize key characteristics, often using visual methods. EDA employs a variety of techniques (mostly graphical) to:\n",
        "\n",
        "- Maximize insight into a dataset\n",
        "- Uncover underlying structure\n",
        "- Extract important variables\n",
        "- Detect outliers and anomalies\n",
        "- Test underlying assumptions\n",
        "- Develop parsimonious models, and\n",
        "- Determine optimal factor settings.\n",
        "\n",
        "\n",
        "\n"
      ]
    },
    {
      "cell_type": "markdown",
      "id": "aggressive-jenny",
      "metadata": {
        "id": "aggressive-jenny"
      },
      "source": [
        "\n",
        "Let's import all the necessary libraries to be used ahead"
      ]
    },
    {
      "cell_type": "code",
      "execution_count": null,
      "id": "hispanic-jungle",
      "metadata": {
        "id": "hispanic-jungle"
      },
      "outputs": [],
      "source": [
        "import pandas as pd\n",
        "import matplotlib.pyplot as plt\n",
        "import numpy as np\n",
        "import seaborn as sns\n",
        "import warnings\n",
        "warnings.filterwarnings('ignore')"
      ]
    },
    {
      "cell_type": "markdown",
      "id": "disturbed-childhood",
      "metadata": {
        "id": "disturbed-childhood"
      },
      "source": [
        "### Data Wrangling"
      ]
    },
    {
      "cell_type": "markdown",
      "id": "mental-combine",
      "metadata": {
        "id": "mental-combine"
      },
      "source": [
        "Loading the datasets and checking for the first ten rows"
      ]
    },
    {
      "cell_type": "code",
      "execution_count": null,
      "id": "overall-ecology",
      "metadata": {
        "id": "overall-ecology"
      },
      "outputs": [],
      "source": [
        "data = pd.read_csv(\"movies.csv\") # Loading the data"
      ]
    },
    {
      "cell_type": "code",
      "execution_count": null,
      "id": "green-hearts",
      "metadata": {
        "colab": {
          "base_uri": "https://localhost:8080/",
          "height": 1000
        },
        "id": "green-hearts",
        "outputId": "ab7ba54a-774d-4736-984d-e34b9f3b896a"
      },
      "outputs": [
        {
          "data": {
            "text/html": [
              "<div>\n",
              "<style scoped>\n",
              "    .dataframe tbody tr th:only-of-type {\n",
              "        vertical-align: middle;\n",
              "    }\n",
              "\n",
              "    .dataframe tbody tr th {\n",
              "        vertical-align: top;\n",
              "    }\n",
              "\n",
              "    .dataframe thead th {\n",
              "        text-align: right;\n",
              "    }\n",
              "</style>\n",
              "<table border=\"1\" class=\"dataframe\">\n",
              "  <thead>\n",
              "    <tr style=\"text-align: right;\">\n",
              "      <th></th>\n",
              "      <th>id</th>\n",
              "      <th>imdb_id</th>\n",
              "      <th>popularity</th>\n",
              "      <th>budget</th>\n",
              "      <th>revenue</th>\n",
              "      <th>original_title</th>\n",
              "      <th>cast</th>\n",
              "      <th>homepage</th>\n",
              "      <th>director</th>\n",
              "      <th>tagline</th>\n",
              "      <th>keywords</th>\n",
              "      <th>overview</th>\n",
              "      <th>runtime</th>\n",
              "      <th>genres</th>\n",
              "      <th>production_companies</th>\n",
              "      <th>release_date</th>\n",
              "      <th>vote_count</th>\n",
              "      <th>vote_average</th>\n",
              "      <th>release_year</th>\n",
              "      <th>budget_adj</th>\n",
              "      <th>revenue_adj</th>\n",
              "    </tr>\n",
              "  </thead>\n",
              "  <tbody>\n",
              "    <tr>\n",
              "      <th>0</th>\n",
              "      <td>135397</td>\n",
              "      <td>tt0369610</td>\n",
              "      <td>32.985763</td>\n",
              "      <td>150000000</td>\n",
              "      <td>1513528810</td>\n",
              "      <td>Jurassic World</td>\n",
              "      <td>Chris Pratt|Bryce Dallas Howard|Irrfan Khan|Vi...</td>\n",
              "      <td>http://www.jurassicworld.com/</td>\n",
              "      <td>Colin Trevorrow</td>\n",
              "      <td>The park is open.</td>\n",
              "      <td>monster|dna|tyrannosaurus rex|velociraptor|island</td>\n",
              "      <td>Twenty-two years after the events of Jurassic ...</td>\n",
              "      <td>124</td>\n",
              "      <td>Action|Adventure|Science Fiction|Thriller</td>\n",
              "      <td>Universal Studios|Amblin Entertainment|Legenda...</td>\n",
              "      <td>6/9/2015</td>\n",
              "      <td>5562</td>\n",
              "      <td>6.5</td>\n",
              "      <td>2015</td>\n",
              "      <td>1.379999e+08</td>\n",
              "      <td>1.392446e+09</td>\n",
              "    </tr>\n",
              "    <tr>\n",
              "      <th>1</th>\n",
              "      <td>76341</td>\n",
              "      <td>tt1392190</td>\n",
              "      <td>28.419936</td>\n",
              "      <td>150000000</td>\n",
              "      <td>378436354</td>\n",
              "      <td>Mad Max: Fury Road</td>\n",
              "      <td>Tom Hardy|Charlize Theron|Hugh Keays-Byrne|Nic...</td>\n",
              "      <td>http://www.madmaxmovie.com/</td>\n",
              "      <td>George Miller</td>\n",
              "      <td>What a Lovely Day.</td>\n",
              "      <td>future|chase|post-apocalyptic|dystopia|australia</td>\n",
              "      <td>An apocalyptic story set in the furthest reach...</td>\n",
              "      <td>120</td>\n",
              "      <td>Action|Adventure|Science Fiction|Thriller</td>\n",
              "      <td>Village Roadshow Pictures|Kennedy Miller Produ...</td>\n",
              "      <td>5/13/2015</td>\n",
              "      <td>6185</td>\n",
              "      <td>7.1</td>\n",
              "      <td>2015</td>\n",
              "      <td>1.379999e+08</td>\n",
              "      <td>3.481613e+08</td>\n",
              "    </tr>\n",
              "    <tr>\n",
              "      <th>2</th>\n",
              "      <td>262500</td>\n",
              "      <td>tt2908446</td>\n",
              "      <td>13.112507</td>\n",
              "      <td>110000000</td>\n",
              "      <td>295238201</td>\n",
              "      <td>Insurgent</td>\n",
              "      <td>Shailene Woodley|Theo James|Kate Winslet|Ansel...</td>\n",
              "      <td>http://www.thedivergentseries.movie/#insurgent</td>\n",
              "      <td>Robert Schwentke</td>\n",
              "      <td>One Choice Can Destroy You</td>\n",
              "      <td>based on novel|revolution|dystopia|sequel|dyst...</td>\n",
              "      <td>Beatrice Prior must confront her inner demons ...</td>\n",
              "      <td>119</td>\n",
              "      <td>Adventure|Science Fiction|Thriller</td>\n",
              "      <td>Summit Entertainment|Mandeville Films|Red Wago...</td>\n",
              "      <td>3/18/2015</td>\n",
              "      <td>2480</td>\n",
              "      <td>6.3</td>\n",
              "      <td>2015</td>\n",
              "      <td>1.012000e+08</td>\n",
              "      <td>2.716190e+08</td>\n",
              "    </tr>\n",
              "    <tr>\n",
              "      <th>3</th>\n",
              "      <td>140607</td>\n",
              "      <td>tt2488496</td>\n",
              "      <td>11.173104</td>\n",
              "      <td>200000000</td>\n",
              "      <td>2068178225</td>\n",
              "      <td>Star Wars: The Force Awakens</td>\n",
              "      <td>Harrison Ford|Mark Hamill|Carrie Fisher|Adam D...</td>\n",
              "      <td>http://www.starwars.com/films/star-wars-episod...</td>\n",
              "      <td>J.J. Abrams</td>\n",
              "      <td>Every generation has a story.</td>\n",
              "      <td>android|spaceship|jedi|space opera|3d</td>\n",
              "      <td>Thirty years after defeating the Galactic Empi...</td>\n",
              "      <td>136</td>\n",
              "      <td>Action|Adventure|Science Fiction|Fantasy</td>\n",
              "      <td>Lucasfilm|Truenorth Productions|Bad Robot</td>\n",
              "      <td>12/15/2015</td>\n",
              "      <td>5292</td>\n",
              "      <td>7.5</td>\n",
              "      <td>2015</td>\n",
              "      <td>1.839999e+08</td>\n",
              "      <td>1.902723e+09</td>\n",
              "    </tr>\n",
              "    <tr>\n",
              "      <th>4</th>\n",
              "      <td>168259</td>\n",
              "      <td>tt2820852</td>\n",
              "      <td>9.335014</td>\n",
              "      <td>190000000</td>\n",
              "      <td>1506249360</td>\n",
              "      <td>Furious 7</td>\n",
              "      <td>Vin Diesel|Paul Walker|Jason Statham|Michelle ...</td>\n",
              "      <td>http://www.furious7.com/</td>\n",
              "      <td>James Wan</td>\n",
              "      <td>Vengeance Hits Home</td>\n",
              "      <td>car race|speed|revenge|suspense|car</td>\n",
              "      <td>Deckard Shaw seeks revenge against Dominic Tor...</td>\n",
              "      <td>137</td>\n",
              "      <td>Action|Crime|Thriller</td>\n",
              "      <td>Universal Pictures|Original Film|Media Rights ...</td>\n",
              "      <td>4/1/2015</td>\n",
              "      <td>2947</td>\n",
              "      <td>7.3</td>\n",
              "      <td>2015</td>\n",
              "      <td>1.747999e+08</td>\n",
              "      <td>1.385749e+09</td>\n",
              "    </tr>\n",
              "    <tr>\n",
              "      <th>5</th>\n",
              "      <td>281957</td>\n",
              "      <td>tt1663202</td>\n",
              "      <td>9.110700</td>\n",
              "      <td>135000000</td>\n",
              "      <td>532950503</td>\n",
              "      <td>The Revenant</td>\n",
              "      <td>Leonardo DiCaprio|Tom Hardy|Will Poulter|Domhn...</td>\n",
              "      <td>http://www.foxmovies.com/movies/the-revenant</td>\n",
              "      <td>Alejandro GonzÃ¡lez IÃ±Ã¡rritu</td>\n",
              "      <td>(n. One who has returned, as if from the dead.)</td>\n",
              "      <td>father-son relationship|rape|based on novel|mo...</td>\n",
              "      <td>In the 1820s, a frontiersman, Hugh Glass, sets...</td>\n",
              "      <td>156</td>\n",
              "      <td>Western|Drama|Adventure|Thriller</td>\n",
              "      <td>Regency Enterprises|Appian Way|CatchPlay|Anony...</td>\n",
              "      <td>12/25/2015</td>\n",
              "      <td>3929</td>\n",
              "      <td>7.2</td>\n",
              "      <td>2015</td>\n",
              "      <td>1.241999e+08</td>\n",
              "      <td>4.903142e+08</td>\n",
              "    </tr>\n",
              "    <tr>\n",
              "      <th>6</th>\n",
              "      <td>87101</td>\n",
              "      <td>tt1340138</td>\n",
              "      <td>8.654359</td>\n",
              "      <td>155000000</td>\n",
              "      <td>440603537</td>\n",
              "      <td>Terminator Genisys</td>\n",
              "      <td>Arnold Schwarzenegger|Jason Clarke|Emilia Clar...</td>\n",
              "      <td>http://www.terminatormovie.com/</td>\n",
              "      <td>Alan Taylor</td>\n",
              "      <td>Reset the future</td>\n",
              "      <td>saving the world|artificial intelligence|cybor...</td>\n",
              "      <td>The year is 2029. John Connor, leader of the r...</td>\n",
              "      <td>125</td>\n",
              "      <td>Science Fiction|Action|Thriller|Adventure</td>\n",
              "      <td>Paramount Pictures|Skydance Productions</td>\n",
              "      <td>6/23/2015</td>\n",
              "      <td>2598</td>\n",
              "      <td>5.8</td>\n",
              "      <td>2015</td>\n",
              "      <td>1.425999e+08</td>\n",
              "      <td>4.053551e+08</td>\n",
              "    </tr>\n",
              "    <tr>\n",
              "      <th>7</th>\n",
              "      <td>286217</td>\n",
              "      <td>tt3659388</td>\n",
              "      <td>7.667400</td>\n",
              "      <td>108000000</td>\n",
              "      <td>595380321</td>\n",
              "      <td>The Martian</td>\n",
              "      <td>Matt Damon|Jessica Chastain|Kristen Wiig|Jeff ...</td>\n",
              "      <td>http://www.foxmovies.com/movies/the-martian</td>\n",
              "      <td>Ridley Scott</td>\n",
              "      <td>Bring Him Home</td>\n",
              "      <td>based on novel|mars|nasa|isolation|botanist</td>\n",
              "      <td>During a manned mission to Mars, Astronaut Mar...</td>\n",
              "      <td>141</td>\n",
              "      <td>Drama|Adventure|Science Fiction</td>\n",
              "      <td>Twentieth Century Fox Film Corporation|Scott F...</td>\n",
              "      <td>9/30/2015</td>\n",
              "      <td>4572</td>\n",
              "      <td>7.6</td>\n",
              "      <td>2015</td>\n",
              "      <td>9.935996e+07</td>\n",
              "      <td>5.477497e+08</td>\n",
              "    </tr>\n",
              "    <tr>\n",
              "      <th>8</th>\n",
              "      <td>211672</td>\n",
              "      <td>tt2293640</td>\n",
              "      <td>7.404165</td>\n",
              "      <td>74000000</td>\n",
              "      <td>1156730962</td>\n",
              "      <td>Minions</td>\n",
              "      <td>Sandra Bullock|Jon Hamm|Michael Keaton|Allison...</td>\n",
              "      <td>http://www.minionsmovie.com/</td>\n",
              "      <td>Kyle Balda|Pierre Coffin</td>\n",
              "      <td>Before Gru, they had a history of bad bosses</td>\n",
              "      <td>assistant|aftercreditsstinger|duringcreditssti...</td>\n",
              "      <td>Minions Stuart, Kevin and Bob are recruited by...</td>\n",
              "      <td>91</td>\n",
              "      <td>Family|Animation|Adventure|Comedy</td>\n",
              "      <td>Universal Pictures|Illumination Entertainment</td>\n",
              "      <td>6/17/2015</td>\n",
              "      <td>2893</td>\n",
              "      <td>6.5</td>\n",
              "      <td>2015</td>\n",
              "      <td>6.807997e+07</td>\n",
              "      <td>1.064192e+09</td>\n",
              "    </tr>\n",
              "    <tr>\n",
              "      <th>9</th>\n",
              "      <td>150540</td>\n",
              "      <td>tt2096673</td>\n",
              "      <td>6.326804</td>\n",
              "      <td>175000000</td>\n",
              "      <td>853708609</td>\n",
              "      <td>Inside Out</td>\n",
              "      <td>Amy Poehler|Phyllis Smith|Richard Kind|Bill Ha...</td>\n",
              "      <td>http://movies.disney.com/inside-out</td>\n",
              "      <td>Pete Docter</td>\n",
              "      <td>Meet the little voices inside your head.</td>\n",
              "      <td>dream|cartoon|imaginary friend|animation|kid</td>\n",
              "      <td>Growing up can be a bumpy road, and it's no ex...</td>\n",
              "      <td>94</td>\n",
              "      <td>Comedy|Animation|Family</td>\n",
              "      <td>Walt Disney Pictures|Pixar Animation Studios|W...</td>\n",
              "      <td>6/9/2015</td>\n",
              "      <td>3935</td>\n",
              "      <td>8.0</td>\n",
              "      <td>2015</td>\n",
              "      <td>1.609999e+08</td>\n",
              "      <td>7.854116e+08</td>\n",
              "    </tr>\n",
              "  </tbody>\n",
              "</table>\n",
              "</div>"
            ],
            "text/plain": [
              "       id    imdb_id  popularity  ...  release_year    budget_adj   revenue_adj\n",
              "0  135397  tt0369610   32.985763  ...          2015  1.379999e+08  1.392446e+09\n",
              "1   76341  tt1392190   28.419936  ...          2015  1.379999e+08  3.481613e+08\n",
              "2  262500  tt2908446   13.112507  ...          2015  1.012000e+08  2.716190e+08\n",
              "3  140607  tt2488496   11.173104  ...          2015  1.839999e+08  1.902723e+09\n",
              "4  168259  tt2820852    9.335014  ...          2015  1.747999e+08  1.385749e+09\n",
              "5  281957  tt1663202    9.110700  ...          2015  1.241999e+08  4.903142e+08\n",
              "6   87101  tt1340138    8.654359  ...          2015  1.425999e+08  4.053551e+08\n",
              "7  286217  tt3659388    7.667400  ...          2015  9.935996e+07  5.477497e+08\n",
              "8  211672  tt2293640    7.404165  ...          2015  6.807997e+07  1.064192e+09\n",
              "9  150540  tt2096673    6.326804  ...          2015  1.609999e+08  7.854116e+08\n",
              "\n",
              "[10 rows x 21 columns]"
            ]
          },
          "execution_count": 7,
          "metadata": {
            "tags": []
          },
          "output_type": "execute_result"
        }
      ],
      "source": [
        "# YOUR CODE HERE for Checking for first 10 rows from the data\n",
        "data.head(10)"
      ]
    },
    {
      "cell_type": "markdown",
      "id": "revolutionary-makeup",
      "metadata": {
        "id": "revolutionary-makeup"
      },
      "source": [
        "Checking the shape of the dataset"
      ]
    },
    {
      "cell_type": "code",
      "execution_count": null,
      "id": "noticed-bridal",
      "metadata": {
        "colab": {
          "base_uri": "https://localhost:8080/"
        },
        "id": "noticed-bridal",
        "outputId": "c74df5fc-21d6-41fa-9254-2ff134ae63d4"
      },
      "outputs": [
        {
          "data": {
            "text/plain": [
              "(10866, 21)"
            ]
          },
          "execution_count": 8,
          "metadata": {
            "tags": []
          },
          "output_type": "execute_result"
        }
      ],
      "source": [
        "data.shape"
      ]
    },
    {
      "cell_type": "markdown",
      "id": "collect-english",
      "metadata": {
        "id": "collect-english"
      },
      "source": [
        "Checking for the datatypes of each variable in the dataset"
      ]
    },
    {
      "cell_type": "code",
      "execution_count": null,
      "id": "democratic-greensboro",
      "metadata": {
        "colab": {
          "base_uri": "https://localhost:8080/"
        },
        "id": "democratic-greensboro",
        "outputId": "721caa4b-0373-4851-cd97-04803befca0c"
      },
      "outputs": [
        {
          "name": "stdout",
          "output_type": "stream",
          "text": [
            "<class 'pandas.core.frame.DataFrame'>\n",
            "RangeIndex: 10866 entries, 0 to 10865\n",
            "Data columns (total 21 columns):\n",
            " #   Column                Non-Null Count  Dtype  \n",
            "---  ------                --------------  -----  \n",
            " 0   id                    10866 non-null  int64  \n",
            " 1   imdb_id               10856 non-null  object \n",
            " 2   popularity            10866 non-null  float64\n",
            " 3   budget                10866 non-null  int64  \n",
            " 4   revenue               10866 non-null  int64  \n",
            " 5   original_title        10866 non-null  object \n",
            " 6   cast                  10790 non-null  object \n",
            " 7   homepage              2936 non-null   object \n",
            " 8   director              10822 non-null  object \n",
            " 9   tagline               8042 non-null   object \n",
            " 10  keywords              9373 non-null   object \n",
            " 11  overview              10862 non-null  object \n",
            " 12  runtime               10866 non-null  int64  \n",
            " 13  genres                10843 non-null  object \n",
            " 14  production_companies  9836 non-null   object \n",
            " 15  release_date          10866 non-null  object \n",
            " 16  vote_count            10866 non-null  int64  \n",
            " 17  vote_average          10866 non-null  float64\n",
            " 18  release_year          10866 non-null  int64  \n",
            " 19  budget_adj            10866 non-null  float64\n",
            " 20  revenue_adj           10866 non-null  float64\n",
            "dtypes: float64(4), int64(6), object(11)\n",
            "memory usage: 1.7+ MB\n"
          ]
        }
      ],
      "source": [
        "data.info()"
      ]
    },
    {
      "cell_type": "markdown",
      "id": "medical-birth",
      "metadata": {
        "id": "medical-birth"
      },
      "source": [
        "## <font color=\"green\">Exploratory Data Analysis</font>"
      ]
    },
    {
      "cell_type": "markdown",
      "id": "acoustic-central",
      "metadata": {
        "id": "acoustic-central"
      },
      "source": [
        "### Data Cleaning"
      ]
    },
    {
      "cell_type": "markdown",
      "id": "complex-planning",
      "metadata": {
        "id": "complex-planning"
      },
      "source": [
        "##### Checking for the duplicate values in the dataset.\n",
        "\n",
        "- We use 'duplicated()' function in pandas that returns the duplicate row as True and other as False. For counting the duplicate elements we sum all the rows"
      ]
    },
    {
      "cell_type": "code",
      "execution_count": null,
      "id": "italic-county",
      "metadata": {
        "colab": {
          "base_uri": "https://localhost:8080/"
        },
        "id": "italic-county",
        "outputId": "926f050b-e248-4e6f-f773-7fff530f656c"
      },
      "outputs": [
        {
          "data": {
            "text/plain": [
              "1"
            ]
          },
          "execution_count": 10,
          "metadata": {
            "tags": []
          },
          "output_type": "execute_result"
        }
      ],
      "source": [
        "sum(data.duplicated())"
      ]
    },
    {
      "cell_type": "markdown",
      "id": "aging-large",
      "metadata": {
        "id": "aging-large"
      },
      "source": [
        "We can see that there exists duplicates in the dataset. So, we can drop these duplicated rows using 'drop_duplicates()' function."
      ]
    },
    {
      "cell_type": "code",
      "execution_count": null,
      "id": "interesting-leisure",
      "metadata": {
        "id": "interesting-leisure"
      },
      "outputs": [],
      "source": [
        "# YOUR CODE HERE to drop duplicates from the dataset\n",
        "data_without_duplicates = data.drop_duplicates()"
      ]
    },
    {
      "cell_type": "code",
      "execution_count": null,
      "id": "after-frame",
      "metadata": {
        "colab": {
          "base_uri": "https://localhost:8080/"
        },
        "id": "after-frame",
        "outputId": "55fe5bf5-df47-4042-cd39-2895b4d03951"
      },
      "outputs": [
        {
          "data": {
            "text/plain": [
              "(10865, 21)"
            ]
          },
          "execution_count": 13,
          "metadata": {
            "tags": []
          },
          "output_type": "execute_result"
        }
      ],
      "source": [
        "# YOUR CODE HERE for checking for the shape of the dataset after removing duplicate records from it.\n",
        "data_without_duplicates.shape"
      ]
    },
    {
      "cell_type": "markdown",
      "id": "nervous-algorithm",
      "metadata": {
        "id": "nervous-algorithm"
      },
      "source": [
        "##### Removing the unnecessary columns that are not needed in the analysis process.\n",
        "\n",
        "From the dataset we can see that the columns like id, imdb_id, homepage, tagline, overview, budget_adj and revenue_adj are not needed in the analysis process as of now. So, let's drop these columns from the dataset using the `drop` function.\n"
      ]
    },
    {
      "cell_type": "code",
      "execution_count": null,
      "id": "valuable-newsletter",
      "metadata": {
        "id": "valuable-newsletter"
      },
      "outputs": [],
      "source": [
        "data_without_duplicates.drop(['budget_adj','revenue_adj','overview','imdb_id','homepage','tagline'],axis =1,inplace = True)"
      ]
    },
    {
      "cell_type": "code",
      "execution_count": null,
      "id": "wireless-sense",
      "metadata": {
        "colab": {
          "base_uri": "https://localhost:8080/"
        },
        "id": "wireless-sense",
        "outputId": "fd9644a0-4a17-4e06-e0e7-7d83011876d8"
      },
      "outputs": [
        {
          "data": {
            "text/plain": [
              "(10865, 15)"
            ]
          },
          "execution_count": 15,
          "metadata": {
            "tags": []
          },
          "output_type": "execute_result"
        }
      ],
      "source": [
        "# YOUR CODE HERE for checking the shape of the dataset after removing unused columns from the dataset\n",
        "data_without_duplicates.shape"
      ]
    },
    {
      "cell_type": "markdown",
      "id": "sweet-clearing",
      "metadata": {
        "id": "sweet-clearing"
      },
      "source": [
        "##### Checking for the null values using `isna()` function."
      ]
    },
    {
      "cell_type": "code",
      "execution_count": null,
      "id": "alternate-newfoundland",
      "metadata": {
        "colab": {
          "base_uri": "https://localhost:8080/",
          "height": 392
        },
        "id": "alternate-newfoundland",
        "outputId": "57acabba-f78d-4369-aa6d-1129408041ba"
      },
      "outputs": [
        {
          "data": {
            "text/html": [
              "<div>\n",
              "<style scoped>\n",
              "    .dataframe tbody tr th:only-of-type {\n",
              "        vertical-align: middle;\n",
              "    }\n",
              "\n",
              "    .dataframe tbody tr th {\n",
              "        vertical-align: top;\n",
              "    }\n",
              "\n",
              "    .dataframe thead th {\n",
              "        text-align: right;\n",
              "    }\n",
              "</style>\n",
              "<table border=\"1\" class=\"dataframe\">\n",
              "  <thead>\n",
              "    <tr style=\"text-align: right;\">\n",
              "      <th></th>\n",
              "      <th>id</th>\n",
              "      <th>popularity</th>\n",
              "      <th>budget</th>\n",
              "      <th>revenue</th>\n",
              "      <th>original_title</th>\n",
              "      <th>cast</th>\n",
              "      <th>director</th>\n",
              "      <th>keywords</th>\n",
              "      <th>runtime</th>\n",
              "      <th>genres</th>\n",
              "      <th>production_companies</th>\n",
              "      <th>release_date</th>\n",
              "      <th>vote_count</th>\n",
              "      <th>vote_average</th>\n",
              "      <th>release_year</th>\n",
              "    </tr>\n",
              "  </thead>\n",
              "  <tbody>\n",
              "    <tr>\n",
              "      <th>0</th>\n",
              "      <td>False</td>\n",
              "      <td>False</td>\n",
              "      <td>False</td>\n",
              "      <td>False</td>\n",
              "      <td>False</td>\n",
              "      <td>False</td>\n",
              "      <td>False</td>\n",
              "      <td>False</td>\n",
              "      <td>False</td>\n",
              "      <td>False</td>\n",
              "      <td>False</td>\n",
              "      <td>False</td>\n",
              "      <td>False</td>\n",
              "      <td>False</td>\n",
              "      <td>False</td>\n",
              "    </tr>\n",
              "    <tr>\n",
              "      <th>1</th>\n",
              "      <td>False</td>\n",
              "      <td>False</td>\n",
              "      <td>False</td>\n",
              "      <td>False</td>\n",
              "      <td>False</td>\n",
              "      <td>False</td>\n",
              "      <td>False</td>\n",
              "      <td>False</td>\n",
              "      <td>False</td>\n",
              "      <td>False</td>\n",
              "      <td>False</td>\n",
              "      <td>False</td>\n",
              "      <td>False</td>\n",
              "      <td>False</td>\n",
              "      <td>False</td>\n",
              "    </tr>\n",
              "    <tr>\n",
              "      <th>2</th>\n",
              "      <td>False</td>\n",
              "      <td>False</td>\n",
              "      <td>False</td>\n",
              "      <td>False</td>\n",
              "      <td>False</td>\n",
              "      <td>False</td>\n",
              "      <td>False</td>\n",
              "      <td>False</td>\n",
              "      <td>False</td>\n",
              "      <td>False</td>\n",
              "      <td>False</td>\n",
              "      <td>False</td>\n",
              "      <td>False</td>\n",
              "      <td>False</td>\n",
              "      <td>False</td>\n",
              "    </tr>\n",
              "    <tr>\n",
              "      <th>3</th>\n",
              "      <td>False</td>\n",
              "      <td>False</td>\n",
              "      <td>False</td>\n",
              "      <td>False</td>\n",
              "      <td>False</td>\n",
              "      <td>False</td>\n",
              "      <td>False</td>\n",
              "      <td>False</td>\n",
              "      <td>False</td>\n",
              "      <td>False</td>\n",
              "      <td>False</td>\n",
              "      <td>False</td>\n",
              "      <td>False</td>\n",
              "      <td>False</td>\n",
              "      <td>False</td>\n",
              "    </tr>\n",
              "    <tr>\n",
              "      <th>4</th>\n",
              "      <td>False</td>\n",
              "      <td>False</td>\n",
              "      <td>False</td>\n",
              "      <td>False</td>\n",
              "      <td>False</td>\n",
              "      <td>False</td>\n",
              "      <td>False</td>\n",
              "      <td>False</td>\n",
              "      <td>False</td>\n",
              "      <td>False</td>\n",
              "      <td>False</td>\n",
              "      <td>False</td>\n",
              "      <td>False</td>\n",
              "      <td>False</td>\n",
              "      <td>False</td>\n",
              "    </tr>\n",
              "    <tr>\n",
              "      <th>...</th>\n",
              "      <td>...</td>\n",
              "      <td>...</td>\n",
              "      <td>...</td>\n",
              "      <td>...</td>\n",
              "      <td>...</td>\n",
              "      <td>...</td>\n",
              "      <td>...</td>\n",
              "      <td>...</td>\n",
              "      <td>...</td>\n",
              "      <td>...</td>\n",
              "      <td>...</td>\n",
              "      <td>...</td>\n",
              "      <td>...</td>\n",
              "      <td>...</td>\n",
              "      <td>...</td>\n",
              "    </tr>\n",
              "    <tr>\n",
              "      <th>10861</th>\n",
              "      <td>False</td>\n",
              "      <td>False</td>\n",
              "      <td>False</td>\n",
              "      <td>False</td>\n",
              "      <td>False</td>\n",
              "      <td>False</td>\n",
              "      <td>False</td>\n",
              "      <td>False</td>\n",
              "      <td>False</td>\n",
              "      <td>False</td>\n",
              "      <td>False</td>\n",
              "      <td>False</td>\n",
              "      <td>False</td>\n",
              "      <td>False</td>\n",
              "      <td>False</td>\n",
              "    </tr>\n",
              "    <tr>\n",
              "      <th>10862</th>\n",
              "      <td>False</td>\n",
              "      <td>False</td>\n",
              "      <td>False</td>\n",
              "      <td>False</td>\n",
              "      <td>False</td>\n",
              "      <td>False</td>\n",
              "      <td>False</td>\n",
              "      <td>False</td>\n",
              "      <td>False</td>\n",
              "      <td>False</td>\n",
              "      <td>False</td>\n",
              "      <td>False</td>\n",
              "      <td>False</td>\n",
              "      <td>False</td>\n",
              "      <td>False</td>\n",
              "    </tr>\n",
              "    <tr>\n",
              "      <th>10863</th>\n",
              "      <td>False</td>\n",
              "      <td>False</td>\n",
              "      <td>False</td>\n",
              "      <td>False</td>\n",
              "      <td>False</td>\n",
              "      <td>False</td>\n",
              "      <td>False</td>\n",
              "      <td>False</td>\n",
              "      <td>False</td>\n",
              "      <td>False</td>\n",
              "      <td>False</td>\n",
              "      <td>False</td>\n",
              "      <td>False</td>\n",
              "      <td>False</td>\n",
              "      <td>False</td>\n",
              "    </tr>\n",
              "    <tr>\n",
              "      <th>10864</th>\n",
              "      <td>False</td>\n",
              "      <td>False</td>\n",
              "      <td>False</td>\n",
              "      <td>False</td>\n",
              "      <td>False</td>\n",
              "      <td>False</td>\n",
              "      <td>False</td>\n",
              "      <td>False</td>\n",
              "      <td>False</td>\n",
              "      <td>False</td>\n",
              "      <td>False</td>\n",
              "      <td>False</td>\n",
              "      <td>False</td>\n",
              "      <td>False</td>\n",
              "      <td>False</td>\n",
              "    </tr>\n",
              "    <tr>\n",
              "      <th>10865</th>\n",
              "      <td>False</td>\n",
              "      <td>False</td>\n",
              "      <td>False</td>\n",
              "      <td>False</td>\n",
              "      <td>False</td>\n",
              "      <td>False</td>\n",
              "      <td>False</td>\n",
              "      <td>False</td>\n",
              "      <td>False</td>\n",
              "      <td>False</td>\n",
              "      <td>False</td>\n",
              "      <td>False</td>\n",
              "      <td>False</td>\n",
              "      <td>False</td>\n",
              "      <td>False</td>\n",
              "    </tr>\n",
              "  </tbody>\n",
              "</table>\n",
              "<p>10865 rows × 15 columns</p>\n",
              "</div>"
            ],
            "text/plain": [
              "          id  popularity  budget  ...  vote_count  vote_average  release_year\n",
              "0      False       False   False  ...       False         False         False\n",
              "1      False       False   False  ...       False         False         False\n",
              "2      False       False   False  ...       False         False         False\n",
              "3      False       False   False  ...       False         False         False\n",
              "4      False       False   False  ...       False         False         False\n",
              "...      ...         ...     ...  ...         ...           ...           ...\n",
              "10861  False       False   False  ...       False         False         False\n",
              "10862  False       False   False  ...       False         False         False\n",
              "10863  False       False   False  ...       False         False         False\n",
              "10864  False       False   False  ...       False         False         False\n",
              "10865  False       False   False  ...       False         False         False\n",
              "\n",
              "[10865 rows x 15 columns]"
            ]
          },
          "execution_count": 16,
          "metadata": {
            "tags": []
          },
          "output_type": "execute_result"
        }
      ],
      "source": [
        "data_without_duplicates.isna()"
      ]
    },
    {
      "cell_type": "markdown",
      "id": "understood-teens",
      "metadata": {
        "id": "understood-teens"
      },
      "source": [
        "As the presence of null values is detected above, we need to see the null counts in each variable."
      ]
    },
    {
      "cell_type": "code",
      "execution_count": null,
      "id": "indian-rendering",
      "metadata": {
        "colab": {
          "base_uri": "https://localhost:8080/"
        },
        "id": "indian-rendering",
        "outputId": "476cad18-aefc-421c-dc7d-1478c2479739"
      },
      "outputs": [
        {
          "data": {
            "text/plain": [
              "id                         0\n",
              "popularity                 0\n",
              "budget                     0\n",
              "revenue                    0\n",
              "original_title             0\n",
              "cast                      76\n",
              "director                  44\n",
              "keywords                1493\n",
              "runtime                    0\n",
              "genres                    23\n",
              "production_companies    1030\n",
              "release_date               0\n",
              "vote_count                 0\n",
              "vote_average               0\n",
              "release_year               0\n",
              "dtype: int64"
            ]
          },
          "execution_count": 17,
          "metadata": {
            "tags": []
          },
          "output_type": "execute_result"
        }
      ],
      "source": [
        "data_without_duplicates.isna().sum()"
      ]
    },
    {
      "cell_type": "markdown",
      "id": "specialized-formula",
      "metadata": {
        "id": "specialized-formula"
      },
      "source": [
        "There are huge number of null counts in keywords followed by production_companies. So, let's drop all the rows containg null values using dropna function."
      ]
    },
    {
      "cell_type": "code",
      "execution_count": null,
      "id": "proof-province",
      "metadata": {
        "id": "proof-province"
      },
      "outputs": [],
      "source": [
        "data_without_duplicates.dropna(inplace=True)"
      ]
    },
    {
      "cell_type": "code",
      "execution_count": null,
      "id": "headed-direction",
      "metadata": {
        "colab": {
          "base_uri": "https://localhost:8080/"
        },
        "id": "headed-direction",
        "outputId": "b708fcb0-033e-4765-b764-dae8094a2867"
      },
      "outputs": [
        {
          "data": {
            "text/plain": [
              "(8666, 15)"
            ]
          },
          "execution_count": 19,
          "metadata": {
            "tags": []
          },
          "output_type": "execute_result"
        }
      ],
      "source": [
        "# YOUR CODE HERE for checking the shape of the dataset after removing rows containting null values\n",
        "data_without_duplicates.shape"
      ]
    },
    {
      "cell_type": "markdown",
      "id": "authentic-merit",
      "metadata": {
        "id": "authentic-merit"
      },
      "source": [
        "Changing Format Of Release Date Into Datetime Format"
      ]
    },
    {
      "cell_type": "code",
      "execution_count": null,
      "id": "massive-houston",
      "metadata": {
        "colab": {
          "base_uri": "https://localhost:8080/"
        },
        "id": "massive-houston",
        "outputId": "fd509c3d-a263-49aa-bb0a-59f60a40b028"
      },
      "outputs": [
        {
          "data": {
            "text/plain": [
              "0       2015-06-09\n",
              "1       2015-05-13\n",
              "2       2015-03-18\n",
              "3       2015-12-15\n",
              "4       2015-04-01\n",
              "           ...    \n",
              "10861   1966-06-15\n",
              "10862   1966-12-21\n",
              "10863   1966-01-01\n",
              "10864   1966-11-02\n",
              "10865   1966-11-15\n",
              "Name: release_date, Length: 8666, dtype: datetime64[ns]"
            ]
          },
          "execution_count": 21,
          "metadata": {
            "tags": []
          },
          "output_type": "execute_result"
        }
      ],
      "source": [
        "data_without_duplicates['release_date'] = pd.to_datetime(data_without_duplicates['release_date'])\n",
        "data_without_duplicates['release_date']"
      ]
    },
    {
      "cell_type": "markdown",
      "id": "innovative-shell",
      "metadata": {
        "id": "innovative-shell"
      },
      "source": [
        "### Descriptive Statistics"
      ]
    },
    {
      "cell_type": "markdown",
      "id": "configured-smooth",
      "metadata": {
        "id": "configured-smooth"
      },
      "source": [
        "Now let's see the basic statistical computations on the dataset like count of data points, maximum value, minimum value, mean, standard deviation, etc using describe function"
      ]
    },
    {
      "cell_type": "code",
      "execution_count": null,
      "id": "prospective-nerve",
      "metadata": {
        "colab": {
          "base_uri": "https://localhost:8080/",
          "height": 277
        },
        "id": "prospective-nerve",
        "outputId": "0de69d97-3fbf-4faa-e03b-5abdf76c0891"
      },
      "outputs": [
        {
          "data": {
            "text/html": [
              "<div>\n",
              "<style scoped>\n",
              "    .dataframe tbody tr th:only-of-type {\n",
              "        vertical-align: middle;\n",
              "    }\n",
              "\n",
              "    .dataframe tbody tr th {\n",
              "        vertical-align: top;\n",
              "    }\n",
              "\n",
              "    .dataframe thead th {\n",
              "        text-align: right;\n",
              "    }\n",
              "</style>\n",
              "<table border=\"1\" class=\"dataframe\">\n",
              "  <thead>\n",
              "    <tr style=\"text-align: right;\">\n",
              "      <th></th>\n",
              "      <th>id</th>\n",
              "      <th>popularity</th>\n",
              "      <th>budget</th>\n",
              "      <th>revenue</th>\n",
              "      <th>runtime</th>\n",
              "      <th>vote_count</th>\n",
              "      <th>vote_average</th>\n",
              "      <th>release_year</th>\n",
              "    </tr>\n",
              "  </thead>\n",
              "  <tbody>\n",
              "    <tr>\n",
              "      <th>count</th>\n",
              "      <td>8666.000000</td>\n",
              "      <td>8666.000000</td>\n",
              "      <td>8.666000e+03</td>\n",
              "      <td>8.666000e+03</td>\n",
              "      <td>8666.000000</td>\n",
              "      <td>8666.000000</td>\n",
              "      <td>8666.000000</td>\n",
              "      <td>8666.000000</td>\n",
              "    </tr>\n",
              "    <tr>\n",
              "      <th>mean</th>\n",
              "      <td>57003.179206</td>\n",
              "      <td>0.741937</td>\n",
              "      <td>1.770937e+07</td>\n",
              "      <td>4.924863e+07</td>\n",
              "      <td>103.815140</td>\n",
              "      <td>264.204823</td>\n",
              "      <td>6.003612</td>\n",
              "      <td>2000.129818</td>\n",
              "    </tr>\n",
              "    <tr>\n",
              "      <th>std</th>\n",
              "      <td>86242.565745</td>\n",
              "      <td>1.087657</td>\n",
              "      <td>3.357362e+07</td>\n",
              "      <td>1.289529e+08</td>\n",
              "      <td>26.207186</td>\n",
              "      <td>635.195808</td>\n",
              "      <td>0.893539</td>\n",
              "      <td>13.221278</td>\n",
              "    </tr>\n",
              "    <tr>\n",
              "      <th>min</th>\n",
              "      <td>5.000000</td>\n",
              "      <td>0.000188</td>\n",
              "      <td>0.000000e+00</td>\n",
              "      <td>0.000000e+00</td>\n",
              "      <td>0.000000</td>\n",
              "      <td>10.000000</td>\n",
              "      <td>1.500000</td>\n",
              "      <td>1960.000000</td>\n",
              "    </tr>\n",
              "    <tr>\n",
              "      <th>25%</th>\n",
              "      <td>9816.750000</td>\n",
              "      <td>0.249990</td>\n",
              "      <td>0.000000e+00</td>\n",
              "      <td>0.000000e+00</td>\n",
              "      <td>91.000000</td>\n",
              "      <td>20.000000</td>\n",
              "      <td>5.500000</td>\n",
              "      <td>1993.000000</td>\n",
              "    </tr>\n",
              "    <tr>\n",
              "      <th>50%</th>\n",
              "      <td>16216.500000</td>\n",
              "      <td>0.449377</td>\n",
              "      <td>1.500000e+06</td>\n",
              "      <td>1.793820e+05</td>\n",
              "      <td>100.000000</td>\n",
              "      <td>54.000000</td>\n",
              "      <td>6.100000</td>\n",
              "      <td>2004.000000</td>\n",
              "    </tr>\n",
              "    <tr>\n",
              "      <th>75%</th>\n",
              "      <td>54003.000000</td>\n",
              "      <td>0.842984</td>\n",
              "      <td>2.100000e+07</td>\n",
              "      <td>3.890269e+07</td>\n",
              "      <td>113.000000</td>\n",
              "      <td>200.000000</td>\n",
              "      <td>6.600000</td>\n",
              "      <td>2011.000000</td>\n",
              "    </tr>\n",
              "    <tr>\n",
              "      <th>max</th>\n",
              "      <td>417859.000000</td>\n",
              "      <td>32.985763</td>\n",
              "      <td>4.250000e+08</td>\n",
              "      <td>2.781506e+09</td>\n",
              "      <td>705.000000</td>\n",
              "      <td>9767.000000</td>\n",
              "      <td>8.700000</td>\n",
              "      <td>2015.000000</td>\n",
              "    </tr>\n",
              "  </tbody>\n",
              "</table>\n",
              "</div>"
            ],
            "text/plain": [
              "                  id   popularity  ...  vote_average  release_year\n",
              "count    8666.000000  8666.000000  ...   8666.000000   8666.000000\n",
              "mean    57003.179206     0.741937  ...      6.003612   2000.129818\n",
              "std     86242.565745     1.087657  ...      0.893539     13.221278\n",
              "min         5.000000     0.000188  ...      1.500000   1960.000000\n",
              "25%      9816.750000     0.249990  ...      5.500000   1993.000000\n",
              "50%     16216.500000     0.449377  ...      6.100000   2004.000000\n",
              "75%     54003.000000     0.842984  ...      6.600000   2011.000000\n",
              "max    417859.000000    32.985763  ...      8.700000   2015.000000\n",
              "\n",
              "[8 rows x 8 columns]"
            ]
          },
          "execution_count": 22,
          "metadata": {
            "tags": []
          },
          "output_type": "execute_result"
        }
      ],
      "source": [
        "data_without_duplicates.describe()"
      ]
    },
    {
      "cell_type": "markdown",
      "id": "inappropriate-surfing",
      "metadata": {
        "id": "inappropriate-surfing"
      },
      "source": [
        "Checking for the movies whose revenue or budget is zero"
      ]
    },
    {
      "cell_type": "code",
      "execution_count": null,
      "id": "occasional-legislature",
      "metadata": {
        "colab": {
          "base_uri": "https://localhost:8080/",
          "height": 560
        },
        "id": "occasional-legislature",
        "outputId": "32e2791c-06cd-4dc0-bbe5-bad4cfc5cb3b"
      },
      "outputs": [
        {
          "data": {
            "text/html": [
              "<div>\n",
              "<style scoped>\n",
              "    .dataframe tbody tr th:only-of-type {\n",
              "        vertical-align: middle;\n",
              "    }\n",
              "\n",
              "    .dataframe tbody tr th {\n",
              "        vertical-align: top;\n",
              "    }\n",
              "\n",
              "    .dataframe thead th {\n",
              "        text-align: right;\n",
              "    }\n",
              "</style>\n",
              "<table border=\"1\" class=\"dataframe\">\n",
              "  <thead>\n",
              "    <tr style=\"text-align: right;\">\n",
              "      <th></th>\n",
              "      <th>id</th>\n",
              "      <th>popularity</th>\n",
              "      <th>budget</th>\n",
              "      <th>revenue</th>\n",
              "      <th>original_title</th>\n",
              "      <th>cast</th>\n",
              "      <th>director</th>\n",
              "      <th>keywords</th>\n",
              "      <th>runtime</th>\n",
              "      <th>genres</th>\n",
              "      <th>production_companies</th>\n",
              "      <th>release_date</th>\n",
              "      <th>vote_count</th>\n",
              "      <th>vote_average</th>\n",
              "      <th>release_year</th>\n",
              "    </tr>\n",
              "  </thead>\n",
              "  <tbody>\n",
              "    <tr>\n",
              "      <th>30</th>\n",
              "      <td>280996</td>\n",
              "      <td>3.927333</td>\n",
              "      <td>0</td>\n",
              "      <td>29355203</td>\n",
              "      <td>Mr. Holmes</td>\n",
              "      <td>Ian McKellen|Milo Parker|Laura Linney|Hattie M...</td>\n",
              "      <td>Bill Condon</td>\n",
              "      <td>london|detective|sherlock holmes</td>\n",
              "      <td>103</td>\n",
              "      <td>Mystery|Drama</td>\n",
              "      <td>BBC Films|See-Saw Films|FilmNation Entertainme...</td>\n",
              "      <td>2015-06-19</td>\n",
              "      <td>425</td>\n",
              "      <td>6.4</td>\n",
              "      <td>2015</td>\n",
              "    </tr>\n",
              "    <tr>\n",
              "      <th>36</th>\n",
              "      <td>339527</td>\n",
              "      <td>3.358321</td>\n",
              "      <td>0</td>\n",
              "      <td>22354572</td>\n",
              "      <td>Solace</td>\n",
              "      <td>Abbie Cornish|Jeffrey Dean Morgan|Colin Farrel...</td>\n",
              "      <td>Afonso Poyart</td>\n",
              "      <td>thriller|serial killer|psychic|fbi agent|intrigue</td>\n",
              "      <td>101</td>\n",
              "      <td>Crime|Drama|Mystery</td>\n",
              "      <td>Eden Rock Media|FilmNation Entertainment|Flynn...</td>\n",
              "      <td>2015-09-03</td>\n",
              "      <td>474</td>\n",
              "      <td>6.2</td>\n",
              "      <td>2015</td>\n",
              "    </tr>\n",
              "    <tr>\n",
              "      <th>48</th>\n",
              "      <td>265208</td>\n",
              "      <td>2.932340</td>\n",
              "      <td>30000000</td>\n",
              "      <td>0</td>\n",
              "      <td>Wild Card</td>\n",
              "      <td>Jason Statham|Michael Angarano|Milo Ventimigli...</td>\n",
              "      <td>Simon West</td>\n",
              "      <td>gambling|bodyguard|remake</td>\n",
              "      <td>92</td>\n",
              "      <td>Thriller|Crime|Drama</td>\n",
              "      <td>Current Entertainment|Lionsgate|Sierra / Affin...</td>\n",
              "      <td>2015-01-14</td>\n",
              "      <td>481</td>\n",
              "      <td>5.3</td>\n",
              "      <td>2015</td>\n",
              "    </tr>\n",
              "    <tr>\n",
              "      <th>67</th>\n",
              "      <td>334074</td>\n",
              "      <td>2.331636</td>\n",
              "      <td>20000000</td>\n",
              "      <td>0</td>\n",
              "      <td>Survivor</td>\n",
              "      <td>Pierce Brosnan|Milla Jovovich|Dylan McDermott|...</td>\n",
              "      <td>James McTeigue</td>\n",
              "      <td>new year's eve|fire|showdown|terrorist|embassy</td>\n",
              "      <td>96</td>\n",
              "      <td>Crime|Thriller|Action</td>\n",
              "      <td>Nu Image Films|Winkler Films|Millennium Films|...</td>\n",
              "      <td>2015-05-21</td>\n",
              "      <td>280</td>\n",
              "      <td>5.4</td>\n",
              "      <td>2015</td>\n",
              "    </tr>\n",
              "    <tr>\n",
              "      <th>72</th>\n",
              "      <td>284289</td>\n",
              "      <td>2.272044</td>\n",
              "      <td>0</td>\n",
              "      <td>45895</td>\n",
              "      <td>Beyond the Reach</td>\n",
              "      <td>Michael Douglas|Jeremy Irvine|Hanna Mangan Law...</td>\n",
              "      <td>Jean-Baptiste LÃ©onetti</td>\n",
              "      <td>desert|hunting</td>\n",
              "      <td>95</td>\n",
              "      <td>Thriller</td>\n",
              "      <td>Furthur Films</td>\n",
              "      <td>2015-04-17</td>\n",
              "      <td>81</td>\n",
              "      <td>5.5</td>\n",
              "      <td>2015</td>\n",
              "    </tr>\n",
              "    <tr>\n",
              "      <th>...</th>\n",
              "      <td>...</td>\n",
              "      <td>...</td>\n",
              "      <td>...</td>\n",
              "      <td>...</td>\n",
              "      <td>...</td>\n",
              "      <td>...</td>\n",
              "      <td>...</td>\n",
              "      <td>...</td>\n",
              "      <td>...</td>\n",
              "      <td>...</td>\n",
              "      <td>...</td>\n",
              "      <td>...</td>\n",
              "      <td>...</td>\n",
              "      <td>...</td>\n",
              "      <td>...</td>\n",
              "    </tr>\n",
              "    <tr>\n",
              "      <th>10861</th>\n",
              "      <td>21</td>\n",
              "      <td>0.080598</td>\n",
              "      <td>0</td>\n",
              "      <td>0</td>\n",
              "      <td>The Endless Summer</td>\n",
              "      <td>Michael Hynson|Robert August|Lord 'Tally Ho' B...</td>\n",
              "      <td>Bruce Brown</td>\n",
              "      <td>surfer|surfboard|surfing</td>\n",
              "      <td>95</td>\n",
              "      <td>Documentary</td>\n",
              "      <td>Bruce Brown Films</td>\n",
              "      <td>1966-06-15</td>\n",
              "      <td>11</td>\n",
              "      <td>7.4</td>\n",
              "      <td>1966</td>\n",
              "    </tr>\n",
              "    <tr>\n",
              "      <th>10862</th>\n",
              "      <td>20379</td>\n",
              "      <td>0.065543</td>\n",
              "      <td>0</td>\n",
              "      <td>0</td>\n",
              "      <td>Grand Prix</td>\n",
              "      <td>James Garner|Eva Marie Saint|Yves Montand|Tosh...</td>\n",
              "      <td>John Frankenheimer</td>\n",
              "      <td>car race|racing|formula 1</td>\n",
              "      <td>176</td>\n",
              "      <td>Action|Adventure|Drama</td>\n",
              "      <td>Cherokee Productions|Joel Productions|Douglas ...</td>\n",
              "      <td>1966-12-21</td>\n",
              "      <td>20</td>\n",
              "      <td>5.7</td>\n",
              "      <td>1966</td>\n",
              "    </tr>\n",
              "    <tr>\n",
              "      <th>10863</th>\n",
              "      <td>39768</td>\n",
              "      <td>0.065141</td>\n",
              "      <td>0</td>\n",
              "      <td>0</td>\n",
              "      <td>Beregis Avtomobilya</td>\n",
              "      <td>Innokentiy Smoktunovskiy|Oleg Efremov|Georgi Z...</td>\n",
              "      <td>Eldar Ryazanov</td>\n",
              "      <td>car|trolley|stealing car</td>\n",
              "      <td>94</td>\n",
              "      <td>Mystery|Comedy</td>\n",
              "      <td>Mosfilm</td>\n",
              "      <td>1966-01-01</td>\n",
              "      <td>11</td>\n",
              "      <td>6.5</td>\n",
              "      <td>1966</td>\n",
              "    </tr>\n",
              "    <tr>\n",
              "      <th>10864</th>\n",
              "      <td>21449</td>\n",
              "      <td>0.064317</td>\n",
              "      <td>0</td>\n",
              "      <td>0</td>\n",
              "      <td>What's Up, Tiger Lily?</td>\n",
              "      <td>Tatsuya Mihashi|Akiko Wakabayashi|Mie Hama|Joh...</td>\n",
              "      <td>Woody Allen</td>\n",
              "      <td>spoof</td>\n",
              "      <td>80</td>\n",
              "      <td>Action|Comedy</td>\n",
              "      <td>Benedict Pictures Corp.</td>\n",
              "      <td>1966-11-02</td>\n",
              "      <td>22</td>\n",
              "      <td>5.4</td>\n",
              "      <td>1966</td>\n",
              "    </tr>\n",
              "    <tr>\n",
              "      <th>10865</th>\n",
              "      <td>22293</td>\n",
              "      <td>0.035919</td>\n",
              "      <td>19000</td>\n",
              "      <td>0</td>\n",
              "      <td>Manos: The Hands of Fate</td>\n",
              "      <td>Harold P. Warren|Tom Neyman|John Reynolds|Dian...</td>\n",
              "      <td>Harold P. Warren</td>\n",
              "      <td>fire|gun|drive|sacrifice|flashlight</td>\n",
              "      <td>74</td>\n",
              "      <td>Horror</td>\n",
              "      <td>Norm-Iris</td>\n",
              "      <td>1966-11-15</td>\n",
              "      <td>15</td>\n",
              "      <td>1.5</td>\n",
              "      <td>1966</td>\n",
              "    </tr>\n",
              "  </tbody>\n",
              "</table>\n",
              "<p>4989 rows × 15 columns</p>\n",
              "</div>"
            ],
            "text/plain": [
              "           id  popularity    budget  ...  vote_count vote_average release_year\n",
              "30     280996    3.927333         0  ...         425          6.4         2015\n",
              "36     339527    3.358321         0  ...         474          6.2         2015\n",
              "48     265208    2.932340  30000000  ...         481          5.3         2015\n",
              "67     334074    2.331636  20000000  ...         280          5.4         2015\n",
              "72     284289    2.272044         0  ...          81          5.5         2015\n",
              "...       ...         ...       ...  ...         ...          ...          ...\n",
              "10861      21    0.080598         0  ...          11          7.4         1966\n",
              "10862   20379    0.065543         0  ...          20          5.7         1966\n",
              "10863   39768    0.065141         0  ...          11          6.5         1966\n",
              "10864   21449    0.064317         0  ...          22          5.4         1966\n",
              "10865   22293    0.035919     19000  ...          15          1.5         1966\n",
              "\n",
              "[4989 rows x 15 columns]"
            ]
          },
          "execution_count": 23,
          "metadata": {
            "tags": []
          },
          "output_type": "execute_result"
        }
      ],
      "source": [
        "data_without_duplicates[(data_without_duplicates['revenue'] == 0) | (data_without_duplicates['budget'] == 0)]"
      ]
    },
    {
      "cell_type": "markdown",
      "id": "italian-burton",
      "metadata": {
        "id": "italian-burton"
      },
      "source": [
        "Drop the rows which contain incorrect or inappropriate values."
      ]
    },
    {
      "cell_type": "code",
      "execution_count": null,
      "id": "encouraging-wednesday",
      "metadata": {
        "colab": {
          "base_uri": "https://localhost:8080/"
        },
        "id": "encouraging-wednesday",
        "outputId": "e11fcb7f-8615-4ce7-caad-51dadb99cf58"
      },
      "outputs": [
        {
          "data": {
            "text/plain": [
              "(4130, 15)"
            ]
          },
          "execution_count": 24,
          "metadata": {
            "tags": []
          },
          "output_type": "execute_result"
        }
      ],
      "source": [
        "# Revenue\n",
        "data_without_duplicates[data_without_duplicates['revenue'] == 0].shape"
      ]
    },
    {
      "cell_type": "code",
      "execution_count": null,
      "id": "accessory-emperor",
      "metadata": {
        "colab": {
          "base_uri": "https://localhost:8080/"
        },
        "id": "accessory-emperor",
        "outputId": "b5c15953-5e5a-4772-bd37-d3a246bb4f78"
      },
      "outputs": [
        {
          "data": {
            "text/plain": [
              "(3940, 15)"
            ]
          },
          "execution_count": 25,
          "metadata": {
            "tags": []
          },
          "output_type": "execute_result"
        }
      ],
      "source": [
        "# budget\n",
        "data_without_duplicates[data_without_duplicates['budget'] == 0].shape"
      ]
    },
    {
      "cell_type": "code",
      "execution_count": null,
      "id": "graphic-testament",
      "metadata": {
        "colab": {
          "base_uri": "https://localhost:8080/"
        },
        "id": "graphic-testament",
        "outputId": "6a11a475-4c73-4410-d190-65d9fda83df8"
      },
      "outputs": [
        {
          "data": {
            "text/plain": [
              "(7, 15)"
            ]
          },
          "execution_count": 26,
          "metadata": {
            "tags": []
          },
          "output_type": "execute_result"
        }
      ],
      "source": [
        "# runtime\n",
        "data_without_duplicates[data_without_duplicates['runtime'] == 0].shape"
      ]
    },
    {
      "cell_type": "markdown",
      "id": "attractive-optics",
      "metadata": {
        "id": "attractive-optics"
      },
      "source": [
        "From the above results, we can infer that there are quite many observations where budget and revenue have zero values. So, we can create a new dataframe where the rows whose budget or revenue or runtime values is 0"
      ]
    },
    {
      "cell_type": "code",
      "execution_count": null,
      "id": "removed-frederick",
      "metadata": {
        "id": "removed-frederick"
      },
      "outputs": [],
      "source": [
        "cleaned_Data = data_without_duplicates[(data_without_duplicates['budget'] != 0) & (data_without_duplicates['revenue'] != 0) & (data_without_duplicates['runtime'] != 0) ]"
      ]
    },
    {
      "cell_type": "code",
      "execution_count": null,
      "id": "reverse-appreciation",
      "metadata": {
        "colab": {
          "base_uri": "https://localhost:8080/"
        },
        "id": "reverse-appreciation",
        "outputId": "9729a2c1-e102-4ced-ea60-678f07d22ec7"
      },
      "outputs": [
        {
          "data": {
            "text/plain": [
              "(3677, 15)"
            ]
          },
          "execution_count": 28,
          "metadata": {
            "tags": []
          },
          "output_type": "execute_result"
        }
      ],
      "source": [
        "cleaned_Data.shape"
      ]
    },
    {
      "cell_type": "markdown",
      "id": "cardiovascular-chancellor",
      "metadata": {
        "id": "cardiovascular-chancellor"
      },
      "source": [
        "### Understanding Relationships and New Insights Through Plots"
      ]
    },
    {
      "cell_type": "markdown",
      "id": "existing-sight",
      "metadata": {
        "id": "existing-sight"
      },
      "source": [
        "#### 1. Does the budget amount provide a good indicator of how the movie will be voted?\n",
        "\n",
        "\n",
        "- We can answer this question by finding the correlation between budget and viewer's votes(vote_average)"
      ]
    },
    {
      "cell_type": "code",
      "execution_count": null,
      "id": "offensive-springfield",
      "metadata": {
        "colab": {
          "base_uri": "https://localhost:8080/",
          "height": 295
        },
        "id": "offensive-springfield",
        "outputId": "d11e38b0-10dc-40f6-81bd-960bbdf4fc4b"
      },
      "outputs": [
        {
          "data": {
            "image/png": "[encoded data removed]",
            "text/plain": [
              "<Figure size 432x288 with 1 Axes>"
            ]
          },
          "metadata": {
            "needs_background": "light",
            "tags": []
          },
          "output_type": "display_data"
        }
      ],
      "source": [
        "# Plot to show the correlation between budget and veiwer's votes(vote_average)\n",
        "\n",
        "cleaned_Data_bd_vote = cleaned_Data[['budget',\t'vote_average']]\n",
        "cleaned_Data_bd_vote.plot(x='vote_average', y='budget', kind='scatter')\n",
        "plt.ylabel(\"Budgeted in 100 Million\")\n",
        "plt.xlabel(\"Vote Average\")\n",
        "plt.title(\"Amount Budgeted vs Veiwer Vote\")\n",
        "plt.show()"
      ]
    },
    {
      "cell_type": "markdown",
      "id": "prescribed-immigration",
      "metadata": {
        "id": "prescribed-immigration"
      },
      "source": [
        "Looking at the above scatter plot it appears that there isn't a strong correlation between the movie's budget and what the viewers vote(vote_average). Even from the plot above we can say that spending more money will help guarantee a none low rated movie, but it does not guarantee that the money had to have been spent to make it a high rated movie. Note that the lowest budgeted movies have the highest and lowest rated movies."
      ]
    },
    {
      "cell_type": "code",
      "execution_count": null,
      "id": "color-motor",
      "metadata": {
        "colab": {
          "base_uri": "https://localhost:8080/"
        },
        "id": "color-motor",
        "outputId": "bed2d6ef-2d4f-4009-cd17-fa2739b2b16a"
      },
      "outputs": [
        {
          "data": {
            "text/plain": [
              "0.021488408454839916"
            ]
          },
          "execution_count": 30,
          "metadata": {
            "tags": []
          },
          "output_type": "execute_result"
        }
      ],
      "source": [
        "#calculating the correlation coefficent\n",
        "cleaned_Data.budget.corr(cleaned_Data.vote_average)"
      ]
    },
    {
      "cell_type": "markdown",
      "id": "corresponding-alliance",
      "metadata": {
        "id": "corresponding-alliance"
      },
      "source": [
        "A correlation value of 1 indicates a very strong positive correlation and a correlation value of 0 indicates no correlation. The obtained correlation value 0.0214 shows that it has only a slight positive correlation. From above plot and correlation coefficent we can infer that the budget is not a good indicator of how the movie will be voted upon."
      ]
    },
    {
      "cell_type": "markdown",
      "id": "seasonal-rescue",
      "metadata": {
        "id": "seasonal-rescue"
      },
      "source": [
        "#### 2. What kinds of properties are associated with movies that have high revenues?\n",
        "\n",
        "      - We can answer this question by finding the correlation between\n",
        "          * Revenue Vs Budget\n",
        "          * Revenue Vs Popularity\n",
        "          * Revenue Vs Vote Average,\n",
        "          * Revenue Vs Runtime"
      ]
    },
    {
      "cell_type": "code",
      "execution_count": null,
      "id": "humanitarian-semiconductor",
      "metadata": {
        "colab": {
          "base_uri": "https://localhost:8080/",
          "height": 430
        },
        "id": "humanitarian-semiconductor",
        "outputId": "adf78abf-b64c-4e29-c3ff-5cfa12ee71bb"
      },
      "outputs": [
        {
          "data": {
            "image/png": "[encoded data removed]",
            "text/plain": [
              "<Figure size 1152x432 with 4 Axes>"
            ]
          },
          "metadata": {
            "needs_background": "light",
            "tags": []
          },
          "output_type": "display_data"
        }
      ],
      "source": [
        "cleaned_Data_high_revenue = cleaned_Data[['revenue',\t'budget', 'popularity', 'vote_average', 'runtime']]\n",
        "\n",
        "fig, axes = plt.subplots(2,2,figsize = (16,6))\n",
        "fig.suptitle(\"Revenue Vs (Budget,Popularity,Vote Average,Runtime)\",fontsize=14)\n",
        "sns.regplot(x=cleaned_Data_high_revenue['revenue'], y=cleaned_Data_high_revenue['budget'], color='c',ax=axes[0][0])\n",
        "sns.regplot(x=cleaned_Data_high_revenue['revenue'], y=cleaned_Data_high_revenue['popularity'], color='c',ax=axes[0][1])\n",
        "sns.regplot(x=cleaned_Data_high_revenue['revenue'], y=cleaned_Data_high_revenue['vote_average'], color='c',ax=axes[1][0])\n",
        "sns.regplot(x=cleaned_Data_high_revenue['revenue'], y=cleaned_Data_high_revenue['runtime'], color='c',ax=axes[1][1])\n",
        "sns.set_style(\"whitegrid\")"
      ]
    },
    {
      "cell_type": "code",
      "execution_count": null,
      "id": "demonstrated-prior",
      "metadata": {
        "colab": {
          "base_uri": "https://localhost:8080/",
          "height": 326
        },
        "id": "demonstrated-prior",
        "outputId": "f7db5323-d253-43b4-a907-4c19520385de"
      },
      "outputs": [
        {
          "data": {
            "image/png": "[encoded data removed]",
            "text/plain": [
              "<Figure size 432x288 with 2 Axes>"
            ]
          },
          "metadata": {
            "tags": []
          },
          "output_type": "display_data"
        }
      ],
      "source": [
        "# Plotting the correlation matrix\n",
        "\n",
        "correlation_mat = cleaned_Data_high_revenue.corr()\n",
        "sns.heatmap(correlation_mat, annot = True)\n",
        "plt.show()"
      ]
    },
    {
      "cell_type": "markdown",
      "id": "improving-patrol",
      "metadata": {
        "id": "improving-patrol"
      },
      "source": [
        "From the above Plots we can infer that\n",
        "\n",
        "* Higher revenues from higher budget movies is observed; a positively correlated relationship can be inferred from the correlation value of 0.69. It indicates that there is a good possibility that movies with higher investments result in better revenues.\n",
        "\n",
        "* It can be seen that the revenue increases with increasing popularity. As can be expected, if the popularity of a movie is high then the revenue of the movie will also be high.\n",
        "\n",
        "* The correlation between revenue and vote average is 0.21. So vote average is not highly related to the revenue.\n",
        "\n",
        "* The correlation between revenue and runtime is 0.24. So runtime is not highly related to the revenue."
      ]
    },
    {
      "cell_type": "markdown",
      "id": "together-trading",
      "metadata": {
        "id": "together-trading"
      },
      "source": [
        "#### 3. Which length movies are most liked by the audiences according to their popularity?\n",
        "\n",
        "we will use groupby function and group the data according to their runtime and plot the data using their popularity."
      ]
    },
    {
      "cell_type": "code",
      "execution_count": null,
      "id": "featured-moral",
      "metadata": {
        "colab": {
          "base_uri": "https://localhost:8080/",
          "height": 370
        },
        "id": "featured-moral",
        "outputId": "c64a169d-8718-4cf9-b5d1-6d87fde8f0c7"
      },
      "outputs": [
        {
          "data": {
            "text/plain": [
              "<matplotlib.legend.Legend at 0x7fa7e80a9ac8>"
            ]
          },
          "execution_count": 33,
          "metadata": {
            "tags": []
          },
          "output_type": "execute_result"
        },
        {
          "data": {
            "image/png": "[encoded data removed]",
            "text/plain": [
              "<Figure size 936x360 with 1 Axes>"
            ]
          },
          "metadata": {
            "tags": []
          },
          "output_type": "display_data"
        }
      ],
      "source": [
        "cleaned_Data.groupby('runtime')['popularity'].mean().plot(figsize = (13,5),xticks=np.arange(0,1000,100))\n",
        "\n",
        "# setup the title of the figure\n",
        "plt.title(\"Runtime Vs Popularity\",fontsize = 14)\n",
        "# setup the x-label and y-label of the plot.\n",
        "plt.xlabel('Runtime',fontsize = 13)\n",
        "plt.ylabel('Average Popularity',fontsize = 13)\n",
        "plt.legend()"
      ]
    },
    {
      "cell_type": "markdown",
      "id": "NII5j5kRNGoZ",
      "metadata": {
        "id": "NII5j5kRNGoZ"
      },
      "source": [
        "According to the plot we can say that movies in the range of 100-200 mins runtime are most popular. Longer movies are less popular among the audience."
      ]
    },
    {
      "cell_type": "markdown",
      "id": "coordinated-harvest",
      "metadata": {
        "id": "coordinated-harvest"
      },
      "source": [
        "#### 4. Which Month Released the Highest Number Of Movies In All Of The Years?"
      ]
    },
    {
      "cell_type": "code",
      "execution_count": null,
      "id": "lesbian-african",
      "metadata": {
        "id": "lesbian-african"
      },
      "outputs": [],
      "source": [
        "#extract the month number from the release date.\n",
        "month_release = cleaned_Data['release_date'].dt.month"
      ]
    },
    {
      "cell_type": "code",
      "execution_count": null,
      "id": "apart-southeast",
      "metadata": {
        "id": "apart-southeast"
      },
      "outputs": [],
      "source": [
        "#count the movies in each month using value_counts().\n",
        "number_of_release = month_release.value_counts().sort_index()\n",
        "months=['Jan','Feb','Mar','Apr','May','Jun','Jul','Aug','Sep','Oct','Nov','Dec']\n",
        "number_of_release = pd.DataFrame(number_of_release)\n",
        "number_of_release['month'] = months"
      ]
    },
    {
      "cell_type": "code",
      "execution_count": null,
      "id": "bound-negative",
      "metadata": {
        "id": "bound-negative"
      },
      "outputs": [],
      "source": [
        "#change the column name of the new dataframe 'number_of_release'\n",
        "number_of_release.rename(columns = {'release_date':'number_of_release'},inplace=True)"
      ]
    },
    {
      "cell_type": "code",
      "execution_count": null,
      "id": "incoming-benjamin",
      "metadata": {
        "colab": {
          "base_uri": "https://localhost:8080/",
          "height": 439
        },
        "id": "incoming-benjamin",
        "outputId": "7fb1476d-1534-46e2-f15f-b22a93131671"
      },
      "outputs": [
        {
          "data": {
            "text/plain": [
              "Text(0, 0.5, 'Number of movie releases')"
            ]
          },
          "execution_count": 37,
          "metadata": {
            "tags": []
          },
          "output_type": "execute_result"
        },
        {
          "data": {
            "image/png": "[encoded data removed]",
            "text/plain": [
              "<Figure size 576x432 with 1 Axes>"
            ]
          },
          "metadata": {
            "tags": []
          },
          "output_type": "display_data"
        }
      ],
      "source": [
        "#plot the bar graph using plot.\n",
        "\n",
        "# YOUR CODE HERE\n",
        "number_of_release.plot(x='month',kind='bar',fontsize = 11,figsize=(8,6))\n",
        "\n",
        "#set the labels and titles of the plot.\n",
        "plt.title('Months vs Number Of Movie Releases',fontsize = 15)\n",
        "plt.xlabel('Month',fontsize = 13)\n",
        "plt.ylabel('Number of movie releases',fontsize = 13)"
      ]
    },
    {
      "cell_type": "markdown",
      "id": "narrative-selling",
      "metadata": {
        "id": "narrative-selling"
      },
      "source": [
        "According to the plot we can conclude that there are higher number of releases in the months of September and December."
      ]
    },
    {
      "cell_type": "markdown",
      "id": "coordinated-spending",
      "metadata": {
        "id": "coordinated-spending"
      },
      "source": [
        "#### Research Questions\n",
        "\n",
        "* Movie with Highest And Lowest Budget?\n",
        "* Which Genre Has The Highest Release Of Movies?\n",
        "* Which Movie Has The Highest Or Lowest Profit? Top 10 movies which earn highest profit?"
      ]
    },
    {
      "cell_type": "code",
      "execution_count": null,
      "id": "B421mM2qEpw1",
      "metadata": {
        "colab": {
          "base_uri": "https://localhost:8080/"
        },
        "id": "B421mM2qEpw1",
        "outputId": "e73e2899-b97c-49cd-8fc4-899ef90250dc"
      },
      "outputs": [
        {
          "name": "stdout",
          "output_type": "stream",
          "text": [
            "Movie with Highest Budget\n",
            "The Warrior's Way\n",
            "Movie with Lowest Budget\n",
            "Lost & Found\n",
            "Genre with Highest Release\n",
            "Drama\n",
            "Movie with Highest Profit\n",
            "Avatar\n",
            "Movie with Lowest Profit\n",
            "Mallrats\n"
          ]
        }
      ],
      "source": [
        "print('Movie with Highest Budget')\n",
        "print(cleaned_Data.loc[cleaned_Data['budget'].idxmax()]['original_title'])\n",
        "print('Movie with Lowest Budget')\n",
        "print(cleaned_Data.loc[cleaned_Data['budget'].idxmin()]['original_title'])\n",
        "\n",
        "print('Genre with Highest Release')\n",
        "genre_release = cleaned_Data.groupby(by=['genres'])['release_year'].count().reset_index().sort_values(by=['release_year'], ascending=False)\n",
        "print(genre_release.loc[genre_release['release_year'].idxmax()]['genres'])\n",
        "\n",
        "print('Movie with Highest Profit')\n",
        "print(cleaned_Data.loc[cleaned_Data['revenue'].idxmax()]['original_title'])\n",
        "print('Movie with Lowest Profit')\n",
        "print(cleaned_Data.loc[cleaned_Data['revenue'].idxmin()]['original_title'])"
      ]
    },
    {
      "cell_type": "markdown",
      "id": "VHfHdGCP_n6Y",
      "metadata": {
        "id": "VHfHdGCP_n6Y"
      },
      "source": [
        "### Please answer the questions below to complete the experiment:\n",
        "\n",
        "\n"
      ]
    },
    {
      "cell_type": "code",
      "execution_count": null,
      "id": "kmvdJ4aNmGjR",
      "metadata": {
        "id": "kmvdJ4aNmGjR"
      },
      "outputs": [],
      "source": [
        "#@title Suppose a small hotel survey found that the correlation between Total bill and Tips is 0.68. This suggests that { run: \"auto\", form-width: \"500px\", display-mode: \"form\" }\n",
        "Answer = \"there is a positive correlation between Total bill and Tips\" #@param [\"\",\"there is no relationship between Total bill and Tips\", \"there is a positive correlation between Total bill and Tips\", \"there is a negative correlation between Total bill and Tips\"]\n"
      ]
    },
    {
      "cell_type": "code",
      "execution_count": null,
      "id": "NMzKSbLIgFzQ",
      "metadata": {
        "id": "NMzKSbLIgFzQ"
      },
      "outputs": [],
      "source": [
        "#@title How was the experiment? { run: \"auto\", form-width: \"500px\", display-mode: \"form\" }\n",
        "Complexity = \"Good, But Not Challenging for me\" #@param [\"\",\"Too Simple, I am wasting time\", \"Good, But Not Challenging for me\", \"Good and Challenging for me\", \"Was Tough, but I did it\", \"Too Difficult for me\"]\n"
      ]
    },
    {
      "cell_type": "code",
      "execution_count": null,
      "id": "DjcH1VWSFI2l",
      "metadata": {
        "id": "DjcH1VWSFI2l"
      },
      "outputs": [],
      "source": [
        "#@title If it was too easy, what more would you have liked to be added? If it was very difficult, what would you have liked to have been removed? { run: \"auto\", display-mode: \"form\" }\n",
        "Additional = \"different ways of plotting with different parameters for exploration would have been better with hint. That would also give us a way to know which plot is most suited for what type of visualization. This is just a suggestion. But this assignment is good overall.\" #@param {type:\"string\"}\n"
      ]
    },
    {
      "cell_type": "code",
      "execution_count": null,
      "id": "4VBk_4VTAxCM",
      "metadata": {
        "id": "4VBk_4VTAxCM"
      },
      "outputs": [],
      "source": [
        "#@title Can you identify the concepts from the lecture which this experiment covered? { run: \"auto\", vertical-output: true, display-mode: \"form\" }\n",
        "Concepts = \"Yes\" #@param [\"\",\"Yes\", \"No\"]\n"
      ]
    },
    {
      "cell_type": "code",
      "execution_count": null,
      "id": "XH91cL1JWH7m",
      "metadata": {
        "id": "XH91cL1JWH7m"
      },
      "outputs": [],
      "source": [
        "#@title  Text and image description/explanation and code comments within the experiment: { run: \"auto\", vertical-output: true, display-mode: \"form\" }\n",
        "Comments = \"Very Useful\" #@param [\"\",\"Very Useful\", \"Somewhat Useful\", \"Not Useful\", \"Didn't use\"]\n"
      ]
    },
    {
      "cell_type": "code",
      "execution_count": null,
      "id": "z8xLqj7VWIKW",
      "metadata": {
        "id": "z8xLqj7VWIKW"
      },
      "outputs": [],
      "source": [
        "#@title Mentor Support: { run: \"auto\", vertical-output: true, display-mode: \"form\" }\n",
        "Mentor_support = \"Somewhat Useful\" #@param [\"\",\"Very Useful\", \"Somewhat Useful\", \"Not Useful\", \"Didn't use\"]\n"
      ]
    },
    {
      "cell_type": "code",
      "execution_count": null,
      "id": "FzAZHt1zw-Y-",
      "metadata": {
        "cellView": "form",
        "colab": {
          "base_uri": "https://localhost:8080/",
          "height": 380
        },
        "id": "FzAZHt1zw-Y-",
        "outputId": "81e90e32-b5a2-48aa-837b-4372028b471c"
      },
      "outputs": [
        {
          "name": "stdout",
          "output_type": "stream",
          "text": [
            "Your submission is successful.\n",
            "Ref Id: 190\n"
          ]
        },
        {
          "ename": "KeyError",
          "evalue": "ignored",
          "output_type": "error",
          "traceback": [
            "\u001b[0;31m---------------------------------------------------------------------------\u001b[0m",
            "\u001b[0;31mKeyError\u001b[0m                                  Traceback (most recent call last)",
            "\u001b[0;32m<ipython-input-47-8435796aed56>\u001b[0m in \u001b[0;36m<module>\u001b[0;34m()\u001b[0m\n\u001b[1;32m      2\u001b[0m \u001b[0;32mtry\u001b[0m\u001b[0;34m:\u001b[0m\u001b[0;34m\u001b[0m\u001b[0;34m\u001b[0m\u001b[0m\n\u001b[1;32m      3\u001b[0m   \u001b[0;32mif\u001b[0m \u001b[0msubmission_id\u001b[0m\u001b[0;34m:\u001b[0m\u001b[0;34m\u001b[0m\u001b[0;34m\u001b[0m\u001b[0m\n\u001b[0;32m----> 4\u001b[0;31m       \u001b[0mreturn_id\u001b[0m \u001b[0;34m=\u001b[0m \u001b[0msubmit_notebook\u001b[0m\u001b[0;34m(\u001b[0m\u001b[0;34m)\u001b[0m\u001b[0;34m\u001b[0m\u001b[0;34m\u001b[0m\u001b[0m\n\u001b[0m\u001b[1;32m      5\u001b[0m       \u001b[0;32mif\u001b[0m \u001b[0mreturn_id\u001b[0m \u001b[0;34m:\u001b[0m \u001b[0msubmission_id\u001b[0m \u001b[0;34m=\u001b[0m \u001b[0mreturn_id\u001b[0m\u001b[0;34m\u001b[0m\u001b[0;34m\u001b[0m\u001b[0m\n\u001b[1;32m      6\u001b[0m   \u001b[0;32melse\u001b[0m\u001b[0;34m:\u001b[0m\u001b[0;34m\u001b[0m\u001b[0;34m\u001b[0m\u001b[0m\n",
            "\u001b[0;32m<ipython-input-4-3246b7e200a4>\u001b[0m in \u001b[0;36msubmit_notebook\u001b[0;34m()\u001b[0m\n\u001b[1;32m     52\u001b[0m         \u001b[0mprint\u001b[0m\u001b[0;34m(\u001b[0m\u001b[0;34m\"Your submission is successful.\"\u001b[0m\u001b[0;34m)\u001b[0m\u001b[0;34m\u001b[0m\u001b[0;34m\u001b[0m\u001b[0m\n\u001b[1;32m     53\u001b[0m         \u001b[0mprint\u001b[0m\u001b[0;34m(\u001b[0m\u001b[0;34m\"Ref Id:\"\u001b[0m\u001b[0;34m,\u001b[0m \u001b[0msubmission_id\u001b[0m\u001b[0;34m)\u001b[0m\u001b[0;34m\u001b[0m\u001b[0;34m\u001b[0m\u001b[0m\n\u001b[0;32m---> 54\u001b[0;31m         \u001b[0mprint\u001b[0m\u001b[0;34m(\u001b[0m\u001b[0;34m\"Date of submission: \"\u001b[0m\u001b[0;34m,\u001b[0m \u001b[0mr\u001b[0m\u001b[0;34m[\u001b[0m\u001b[0;34m\"date\"\u001b[0m\u001b[0;34m]\u001b[0m\u001b[0;34m)\u001b[0m\u001b[0;34m\u001b[0m\u001b[0;34m\u001b[0m\u001b[0m\n\u001b[0m\u001b[1;32m     55\u001b[0m         \u001b[0mprint\u001b[0m\u001b[0;34m(\u001b[0m\u001b[0;34m\"Time of submission: \"\u001b[0m\u001b[0;34m,\u001b[0m \u001b[0mr\u001b[0m\u001b[0;34m[\u001b[0m\u001b[0;34m\"time\"\u001b[0m\u001b[0;34m]\u001b[0m\u001b[0;34m)\u001b[0m\u001b[0;34m\u001b[0m\u001b[0;34m\u001b[0m\u001b[0m\n\u001b[1;32m     56\u001b[0m         \u001b[0mprint\u001b[0m\u001b[0;34m(\u001b[0m\u001b[0;34m\"View your submissions: https://cds.iisc.talentsprint.com/notebook_submissions\"\u001b[0m\u001b[0;34m)\u001b[0m\u001b[0;34m\u001b[0m\u001b[0;34m\u001b[0m\u001b[0m\n",
            "\u001b[0;31mKeyError\u001b[0m: 'date'"
          ]
        }
      ],
      "source": [
        "#@title Run this cell to submit your notebook for grading { vertical-output: true }\n",
        "try:\n",
        "  if submission_id:\n",
        "      return_id = submit_notebook()\n",
        "      if return_id : submission_id = return_id\n",
        "  else:\n",
        "      print(\"Please complete the setup first.\")\n",
        "except NameError:\n",
        "  print (\"Please complete the setup first.\")"
      ]
    }
  ],
  "metadata": {
    "colab": {
      "include_colab_link": true,
      "provenance": []
    },
    "kernelspec": {
      "display_name": "Python 3",
      "language": "python",
      "name": "python3"
    },
    "language_info": {
      "codemirror_mode": {
        "name": "ipython",
        "version": 3
      },
      "file_extension": ".py",
      "mimetype": "text/x-python",
      "name": "python",
      "nbconvert_exporter": "python",
      "pygments_lexer": "ipython3",
      "version": "3.5.2"
    }
  },
  "nbformat": 4,
  "nbformat_minor": 5
}
