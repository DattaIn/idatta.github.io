{
  "cells": [
    {
      "cell_type": "markdown",
      "metadata": {
        "colab_type": "text",
        "id": "view-in-github"
      },
      "source": [
        "<a href=\"https://colab.research.google.com/github/DattaIn/idatta.github.io/blob/master/Credit_risk_modelling_Logistic_Regression_Amit.ipynb\" target=\"_parent\"><img src=\"https://colab.research.google.com/assets/colab-badge.svg\" alt=\"Open In Colab\"/></a>"
      ]
    },
    {
      "cell_type": "markdown",
      "id": "handled-tooth",
      "metadata": {
        "id": "handled-tooth"
      },
      "source": [
        "## Problem Statement"
      ]
    },
    {
      "cell_type": "markdown",
      "id": "accessory-watts",
      "metadata": {
        "id": "accessory-watts"
      },
      "source": [
        "Predict the loan defaulters using a Logistic Regression model on the credit risk data and calculate credit scores"
      ]
    },
    {
      "cell_type": "markdown",
      "id": "twenty-indonesia",
      "metadata": {
        "id": "twenty-indonesia"
      },
      "source": [
        "## Learning Objectives"
      ]
    },
    {
      "cell_type": "markdown",
      "id": "honest-friendship",
      "metadata": {
        "id": "honest-friendship"
      },
      "source": [
        "At the end of the mini-project, you will be able to :\n",
        "\n",
        "* perform data exploration, preprocessing and visualization\n",
        "* implement Logistic Regression using manual code or using sklearn library\n",
        "* evaluate the model using appropriate performance metrics\n",
        "* develop a credit scoring system"
      ]
    },
    {
      "cell_type": "markdown",
      "id": "lesbian-bottom",
      "metadata": {
        "id": "lesbian-bottom"
      },
      "source": [
        "## Dataset"
      ]
    },
    {
      "cell_type": "markdown",
      "id": "fixed-trainer",
      "metadata": {
        "id": "fixed-trainer"
      },
      "source": [
        "The dataset chosen for this mini-project is the [Give Me Some Credit](https://bigml.com/user/jbosca/gallery/dataset/5a7def3d2a83476e09000456#info) dataset which can be used to build models for predicting loan repayment defaulters\n",
        "#### Datafields\n",
        "\n",
        "- **SeriousDlqin2yrs:** Person experienced 90 days past due delinquency or worse\n",
        "- **RevolvingUtilizationOfUnsecuredLines:** Total balance on credit cards and personal lines of credit except real estate and no installment debt like car loans divided by the sum of credit limits\n",
        "- **age:** Age of borrower in years\n",
        "- **NumberOfTime30-59DaysPastDueNotWorse:** Number of times borrower has been 30-59 days past due but no worse in the last 2 years.\n",
        "- **DebtRatio:** Monthly debt payments, alimony,living costs divided by monthy gross income\n",
        "- **MonthlyIncome:** Monthly income\n",
        "- **NumberOfOpenCreditLinesAndLoans:** Number of Open loans (installment like car loan or mortgage) and Lines of credit (e.g. credit cards)\n",
        "- **NumberOfTimes90DaysLate:** Number of times borrower has been 90 days or more past due.\n",
        "- **NumberRealEstateLoansOrLines:**\tNumber of mortgage and real estate loans including home equity lines of credit\n",
        "- **NumberOfTime60-89DaysPastDueNotWorse:**\tNumber of times borrower has been 60-89 days past due but no worse in the last 2 years.\n",
        "- **NumberOfDependents:** Number of dependents in family excluding themselves (spouse, children etc.)"
      ]
    },
    {
      "cell_type": "markdown",
      "id": "rapid-hierarchy",
      "metadata": {
        "id": "rapid-hierarchy"
      },
      "source": [
        "## Information"
      ]
    },
    {
      "cell_type": "markdown",
      "id": "prescribed-matter",
      "metadata": {
        "id": "prescribed-matter"
      },
      "source": [
        "Credit risk arises when a corporate or individual borrower fails to meet their debt obligations. From the lender's perspective, credit risk could disrupt its cash flows or increase collection costs, since the lender may be forced to hire a debt collection agency to enforce the collection. The loss may be partial or complete, where the lender incurs a loss of part of the loan or the entire loan extended to the borrower.\n",
        "\n",
        "Credit scoring algorithms, which calculate the probability of default, are the best methods that banks use to determine whether or not a loan should be granted.\n",
        "\n",
        "In order to build a credit scoring system, the following feature transformations are performed:\n",
        "\n",
        "#### Weight of Evidence and Information value\n",
        "\n",
        "Logistic regression is a commonly used technique in credit scoring for solving binary classification problems. Prior to model fitting, another iteration of variable selection is valuable to check if the newly WOE transformed variables are still good model candidates. Preferred candidate variables are those with higher information value having a linear relationship with the dependent variable, have good coverage across all categories, have a normal distribution, contain a notable overall contribution, and are relevant to the business.\n",
        "\n",
        "**Weight of evidence** (WOE) is a powerful tool for feature representation and evaluation in data science. WOE can provide interpret able transformation to both categorical and numerical features. The weight of evidence tells the predictive power of an independent variable in relation to the dependent variable. Since it evolved from credit scoring world, it is generally described as a measure of the separation of good and bad customers. \"Bad Customers\" refers to the customers who defaulted on a loan. and \"Good Customers\" refers to the customers who paid back loan. WOE can be calculated using the below formula:\n",
        "\n",
        "$$WOE = ln \\left( \\frac{\\%   of  Non\\_Events}{\\%   of  Events} \\right)$$\n",
        "\n",
        "Steps to calculate WOE\n",
        "* For a continuous variable, split data into 10 parts (or lesser depending on the distribution).\n",
        "* Calculate the number of events and non-events in each group (bin)\n",
        "* Calculate the % of events and % of non-events in each group.\n",
        "* Calculate WOE by taking natural log of division of % of non-events and % of events\n",
        "\n",
        "**Information value** is one of the most useful technique to select important variables in a predictive model. It helps to rank variables on the basis of their importance. The IV is calculated using the following formula :\n",
        "$$IV = ∑ (\\% of Non\\_Events - \\% of Events) * WOE$$\n",
        "\n",
        "Read more about `WOE` and `IV` from the following [link](https://medium.com/@yanhuiliu104/credit-scoring-scorecard-development-process-8554c3492b2b)"
      ]
    },
    {
      "cell_type": "markdown",
      "id": "caring-syndrome",
      "metadata": {
        "id": "caring-syndrome"
      },
      "source": [
        "### Download the dataset"
      ]
    },
    {
      "cell_type": "code",
      "execution_count": null,
      "id": "comparable-delay",
      "metadata": {
        "colab": {
          "base_uri": "https://localhost:8080/"
        },
        "id": "comparable-delay",
        "outputId": "0a6d3b40-2026-4f7f-a675-e9f63a96d872"
      },
      "outputs": [
        {
          "name": "stdout",
          "output_type": "stream",
          "text": [
            "Data Downloaded Successfully!\n"
          ]
        }
      ],
      "source": [
        "#@title Download Dataset\n",
        "!wget -qq https://cdn.iisc.talentsprint.com/CDS/MiniProjects/GiveMeSomeCredit.csv\n",
        "!pip -qq install xverse\n",
        "print(\"Data Downloaded Successfully!\")"
      ]
    },
    {
      "cell_type": "markdown",
      "id": "appreciated-pattern",
      "metadata": {
        "id": "appreciated-pattern"
      },
      "source": [
        "### Import Neccesary Packages"
      ]
    },
    {
      "cell_type": "code",
      "execution_count": null,
      "id": "loose-marsh",
      "metadata": {
        "id": "loose-marsh"
      },
      "outputs": [],
      "source": [
        "import pandas as pd\n",
        "import numpy as np\n",
        "from sklearn.model_selection import train_test_split\n",
        "from sklearn.linear_model import LogisticRegression\n",
        "from sklearn import metrics\n",
        "import seaborn as sns\n",
        "from matplotlib import pyplot as plt\n",
        "import math\n",
        "from xverse.transformer import MonotonicBinning,WOE\n",
        "%matplotlib inline"
      ]
    },
    {
      "cell_type": "markdown",
      "id": "compressed-reflection",
      "metadata": {
        "id": "compressed-reflection"
      },
      "source": [
        "### Load the dataset"
      ]
    },
    {
      "cell_type": "code",
      "execution_count": null,
      "id": "fatty-graph",
      "metadata": {
        "colab": {
          "base_uri": "https://localhost:8080/",
          "height": 396
        },
        "id": "fatty-graph",
        "outputId": "1b6618ab-42cd-41f8-ef3c-32e918495cfc"
      },
      "outputs": [
        {
          "data": {
            "text/html": [
              "<div>\n",
              "<style scoped>\n",
              "    .dataframe tbody tr th:only-of-type {\n",
              "        vertical-align: middle;\n",
              "    }\n",
              "\n",
              "    .dataframe tbody tr th {\n",
              "        vertical-align: top;\n",
              "    }\n",
              "\n",
              "    .dataframe thead th {\n",
              "        text-align: right;\n",
              "    }\n",
              "</style>\n",
              "<table border=\"1\" class=\"dataframe\">\n",
              "  <thead>\n",
              "    <tr style=\"text-align: right;\">\n",
              "      <th></th>\n",
              "      <th>Unnamed: 0</th>\n",
              "      <th>SeriousDlqin2yrs</th>\n",
              "      <th>RevolvingUtilizationOfUnsecuredLines</th>\n",
              "      <th>age</th>\n",
              "      <th>NumberOfTime30-59DaysPastDueNotWorse</th>\n",
              "      <th>DebtRatio</th>\n",
              "      <th>MonthlyIncome</th>\n",
              "      <th>NumberOfOpenCreditLinesAndLoans</th>\n",
              "      <th>NumberOfTimes90DaysLate</th>\n",
              "      <th>NumberRealEstateLoansOrLines</th>\n",
              "      <th>NumberOfTime60-89DaysPastDueNotWorse</th>\n",
              "      <th>NumberOfDependents</th>\n",
              "    </tr>\n",
              "  </thead>\n",
              "  <tbody>\n",
              "    <tr>\n",
              "      <th>0</th>\n",
              "      <td>1</td>\n",
              "      <td>1</td>\n",
              "      <td>0.766127</td>\n",
              "      <td>45</td>\n",
              "      <td>2</td>\n",
              "      <td>0.802982</td>\n",
              "      <td>9120.0</td>\n",
              "      <td>13</td>\n",
              "      <td>0</td>\n",
              "      <td>6</td>\n",
              "      <td>0</td>\n",
              "      <td>2.0</td>\n",
              "    </tr>\n",
              "    <tr>\n",
              "      <th>1</th>\n",
              "      <td>2</td>\n",
              "      <td>0</td>\n",
              "      <td>0.957151</td>\n",
              "      <td>40</td>\n",
              "      <td>0</td>\n",
              "      <td>0.121876</td>\n",
              "      <td>2600.0</td>\n",
              "      <td>4</td>\n",
              "      <td>0</td>\n",
              "      <td>0</td>\n",
              "      <td>0</td>\n",
              "      <td>1.0</td>\n",
              "    </tr>\n",
              "    <tr>\n",
              "      <th>2</th>\n",
              "      <td>3</td>\n",
              "      <td>0</td>\n",
              "      <td>0.658180</td>\n",
              "      <td>38</td>\n",
              "      <td>1</td>\n",
              "      <td>0.085113</td>\n",
              "      <td>3042.0</td>\n",
              "      <td>2</td>\n",
              "      <td>1</td>\n",
              "      <td>0</td>\n",
              "      <td>0</td>\n",
              "      <td>0.0</td>\n",
              "    </tr>\n",
              "    <tr>\n",
              "      <th>3</th>\n",
              "      <td>4</td>\n",
              "      <td>0</td>\n",
              "      <td>0.233810</td>\n",
              "      <td>30</td>\n",
              "      <td>0</td>\n",
              "      <td>0.036050</td>\n",
              "      <td>3300.0</td>\n",
              "      <td>5</td>\n",
              "      <td>0</td>\n",
              "      <td>0</td>\n",
              "      <td>0</td>\n",
              "      <td>0.0</td>\n",
              "    </tr>\n",
              "    <tr>\n",
              "      <th>4</th>\n",
              "      <td>5</td>\n",
              "      <td>0</td>\n",
              "      <td>0.907239</td>\n",
              "      <td>49</td>\n",
              "      <td>1</td>\n",
              "      <td>0.024926</td>\n",
              "      <td>63588.0</td>\n",
              "      <td>7</td>\n",
              "      <td>0</td>\n",
              "      <td>1</td>\n",
              "      <td>0</td>\n",
              "      <td>0.0</td>\n",
              "    </tr>\n",
              "    <tr>\n",
              "      <th>5</th>\n",
              "      <td>6</td>\n",
              "      <td>0</td>\n",
              "      <td>0.213179</td>\n",
              "      <td>74</td>\n",
              "      <td>0</td>\n",
              "      <td>0.375607</td>\n",
              "      <td>3500.0</td>\n",
              "      <td>3</td>\n",
              "      <td>0</td>\n",
              "      <td>1</td>\n",
              "      <td>0</td>\n",
              "      <td>1.0</td>\n",
              "    </tr>\n",
              "    <tr>\n",
              "      <th>6</th>\n",
              "      <td>7</td>\n",
              "      <td>0</td>\n",
              "      <td>0.305682</td>\n",
              "      <td>57</td>\n",
              "      <td>0</td>\n",
              "      <td>5710.000000</td>\n",
              "      <td>NaN</td>\n",
              "      <td>8</td>\n",
              "      <td>0</td>\n",
              "      <td>3</td>\n",
              "      <td>0</td>\n",
              "      <td>0.0</td>\n",
              "    </tr>\n",
              "    <tr>\n",
              "      <th>7</th>\n",
              "      <td>8</td>\n",
              "      <td>0</td>\n",
              "      <td>0.754464</td>\n",
              "      <td>39</td>\n",
              "      <td>0</td>\n",
              "      <td>0.209940</td>\n",
              "      <td>3500.0</td>\n",
              "      <td>8</td>\n",
              "      <td>0</td>\n",
              "      <td>0</td>\n",
              "      <td>0</td>\n",
              "      <td>0.0</td>\n",
              "    </tr>\n",
              "    <tr>\n",
              "      <th>8</th>\n",
              "      <td>9</td>\n",
              "      <td>0</td>\n",
              "      <td>0.116951</td>\n",
              "      <td>27</td>\n",
              "      <td>0</td>\n",
              "      <td>46.000000</td>\n",
              "      <td>NaN</td>\n",
              "      <td>2</td>\n",
              "      <td>0</td>\n",
              "      <td>0</td>\n",
              "      <td>0</td>\n",
              "      <td>NaN</td>\n",
              "    </tr>\n",
              "    <tr>\n",
              "      <th>9</th>\n",
              "      <td>10</td>\n",
              "      <td>0</td>\n",
              "      <td>0.189169</td>\n",
              "      <td>57</td>\n",
              "      <td>0</td>\n",
              "      <td>0.606291</td>\n",
              "      <td>23684.0</td>\n",
              "      <td>9</td>\n",
              "      <td>0</td>\n",
              "      <td>4</td>\n",
              "      <td>0</td>\n",
              "      <td>2.0</td>\n",
              "    </tr>\n",
              "  </tbody>\n",
              "</table>\n",
              "</div>"
            ],
            "text/plain": [
              "   Unnamed: 0  ...  NumberOfDependents\n",
              "0           1  ...                 2.0\n",
              "1           2  ...                 1.0\n",
              "2           3  ...                 0.0\n",
              "3           4  ...                 0.0\n",
              "4           5  ...                 0.0\n",
              "5           6  ...                 1.0\n",
              "6           7  ...                 0.0\n",
              "7           8  ...                 0.0\n",
              "8           9  ...                 NaN\n",
              "9          10  ...                 2.0\n",
              "\n",
              "[10 rows x 12 columns]"
            ]
          },
          "execution_count": 63,
          "metadata": {
            "tags": []
          },
          "output_type": "execute_result"
        }
      ],
      "source": [
        "# YOUR CODE HERE\n",
        "df = pd.read_csv(\"https://cdn.iisc.talentsprint.com/CDS/MiniProjects/GiveMeSomeCredit.csv\")\n",
        "df.head(10)"
      ]
    },
    {
      "cell_type": "markdown",
      "id": "experienced-sleeping",
      "metadata": {
        "id": "experienced-sleeping"
      },
      "source": [
        "#### Describe the all statistical properties of the train dataset"
      ]
    },
    {
      "cell_type": "code",
      "execution_count": null,
      "id": "greek-methodology",
      "metadata": {
        "colab": {
          "base_uri": "https://localhost:8080/",
          "height": 334
        },
        "id": "greek-methodology",
        "outputId": "98eeac59-9a6c-4a5c-a4f3-4d33dd0518e1"
      },
      "outputs": [
        {
          "data": {
            "text/html": [
              "<div>\n",
              "<style scoped>\n",
              "    .dataframe tbody tr th:only-of-type {\n",
              "        vertical-align: middle;\n",
              "    }\n",
              "\n",
              "    .dataframe tbody tr th {\n",
              "        vertical-align: top;\n",
              "    }\n",
              "\n",
              "    .dataframe thead th {\n",
              "        text-align: right;\n",
              "    }\n",
              "</style>\n",
              "<table border=\"1\" class=\"dataframe\">\n",
              "  <thead>\n",
              "    <tr style=\"text-align: right;\">\n",
              "      <th></th>\n",
              "      <th>Unnamed: 0</th>\n",
              "      <th>SeriousDlqin2yrs</th>\n",
              "      <th>RevolvingUtilizationOfUnsecuredLines</th>\n",
              "      <th>age</th>\n",
              "      <th>NumberOfTime30-59DaysPastDueNotWorse</th>\n",
              "      <th>DebtRatio</th>\n",
              "      <th>MonthlyIncome</th>\n",
              "      <th>NumberOfOpenCreditLinesAndLoans</th>\n",
              "      <th>NumberOfTimes90DaysLate</th>\n",
              "      <th>NumberRealEstateLoansOrLines</th>\n",
              "      <th>NumberOfTime60-89DaysPastDueNotWorse</th>\n",
              "      <th>NumberOfDependents</th>\n",
              "    </tr>\n",
              "  </thead>\n",
              "  <tbody>\n",
              "    <tr>\n",
              "      <th>count</th>\n",
              "      <td>150000.000000</td>\n",
              "      <td>150000.000000</td>\n",
              "      <td>150000.000000</td>\n",
              "      <td>150000.000000</td>\n",
              "      <td>150000.000000</td>\n",
              "      <td>150000.000000</td>\n",
              "      <td>1.202690e+05</td>\n",
              "      <td>150000.000000</td>\n",
              "      <td>150000.000000</td>\n",
              "      <td>150000.000000</td>\n",
              "      <td>150000.000000</td>\n",
              "      <td>146076.000000</td>\n",
              "    </tr>\n",
              "    <tr>\n",
              "      <th>mean</th>\n",
              "      <td>75000.500000</td>\n",
              "      <td>0.066840</td>\n",
              "      <td>6.048438</td>\n",
              "      <td>52.295207</td>\n",
              "      <td>0.421033</td>\n",
              "      <td>353.005076</td>\n",
              "      <td>6.670221e+03</td>\n",
              "      <td>8.452760</td>\n",
              "      <td>0.265973</td>\n",
              "      <td>1.018240</td>\n",
              "      <td>0.240387</td>\n",
              "      <td>0.757222</td>\n",
              "    </tr>\n",
              "    <tr>\n",
              "      <th>std</th>\n",
              "      <td>43301.414527</td>\n",
              "      <td>0.249746</td>\n",
              "      <td>249.755371</td>\n",
              "      <td>14.771866</td>\n",
              "      <td>4.192781</td>\n",
              "      <td>2037.818523</td>\n",
              "      <td>1.438467e+04</td>\n",
              "      <td>5.145951</td>\n",
              "      <td>4.169304</td>\n",
              "      <td>1.129771</td>\n",
              "      <td>4.155179</td>\n",
              "      <td>1.115086</td>\n",
              "    </tr>\n",
              "    <tr>\n",
              "      <th>min</th>\n",
              "      <td>1.000000</td>\n",
              "      <td>0.000000</td>\n",
              "      <td>0.000000</td>\n",
              "      <td>0.000000</td>\n",
              "      <td>0.000000</td>\n",
              "      <td>0.000000</td>\n",
              "      <td>0.000000e+00</td>\n",
              "      <td>0.000000</td>\n",
              "      <td>0.000000</td>\n",
              "      <td>0.000000</td>\n",
              "      <td>0.000000</td>\n",
              "      <td>0.000000</td>\n",
              "    </tr>\n",
              "    <tr>\n",
              "      <th>25%</th>\n",
              "      <td>37500.750000</td>\n",
              "      <td>0.000000</td>\n",
              "      <td>0.029867</td>\n",
              "      <td>41.000000</td>\n",
              "      <td>0.000000</td>\n",
              "      <td>0.175074</td>\n",
              "      <td>3.400000e+03</td>\n",
              "      <td>5.000000</td>\n",
              "      <td>0.000000</td>\n",
              "      <td>0.000000</td>\n",
              "      <td>0.000000</td>\n",
              "      <td>0.000000</td>\n",
              "    </tr>\n",
              "    <tr>\n",
              "      <th>50%</th>\n",
              "      <td>75000.500000</td>\n",
              "      <td>0.000000</td>\n",
              "      <td>0.154181</td>\n",
              "      <td>52.000000</td>\n",
              "      <td>0.000000</td>\n",
              "      <td>0.366508</td>\n",
              "      <td>5.400000e+03</td>\n",
              "      <td>8.000000</td>\n",
              "      <td>0.000000</td>\n",
              "      <td>1.000000</td>\n",
              "      <td>0.000000</td>\n",
              "      <td>0.000000</td>\n",
              "    </tr>\n",
              "    <tr>\n",
              "      <th>75%</th>\n",
              "      <td>112500.250000</td>\n",
              "      <td>0.000000</td>\n",
              "      <td>0.559046</td>\n",
              "      <td>63.000000</td>\n",
              "      <td>0.000000</td>\n",
              "      <td>0.868254</td>\n",
              "      <td>8.249000e+03</td>\n",
              "      <td>11.000000</td>\n",
              "      <td>0.000000</td>\n",
              "      <td>2.000000</td>\n",
              "      <td>0.000000</td>\n",
              "      <td>1.000000</td>\n",
              "    </tr>\n",
              "    <tr>\n",
              "      <th>max</th>\n",
              "      <td>150000.000000</td>\n",
              "      <td>1.000000</td>\n",
              "      <td>50708.000000</td>\n",
              "      <td>109.000000</td>\n",
              "      <td>98.000000</td>\n",
              "      <td>329664.000000</td>\n",
              "      <td>3.008750e+06</td>\n",
              "      <td>58.000000</td>\n",
              "      <td>98.000000</td>\n",
              "      <td>54.000000</td>\n",
              "      <td>98.000000</td>\n",
              "      <td>20.000000</td>\n",
              "    </tr>\n",
              "  </tbody>\n",
              "</table>\n",
              "</div>"
            ],
            "text/plain": [
              "          Unnamed: 0  ...  NumberOfDependents\n",
              "count  150000.000000  ...       146076.000000\n",
              "mean    75000.500000  ...            0.757222\n",
              "std     43301.414527  ...            1.115086\n",
              "min         1.000000  ...            0.000000\n",
              "25%     37500.750000  ...            0.000000\n",
              "50%     75000.500000  ...            0.000000\n",
              "75%    112500.250000  ...            1.000000\n",
              "max    150000.000000  ...           20.000000\n",
              "\n",
              "[8 rows x 12 columns]"
            ]
          },
          "execution_count": 64,
          "metadata": {
            "tags": []
          },
          "output_type": "execute_result"
        }
      ],
      "source": [
        "# YOUR CODE HERE\n",
        "df.describe()"
      ]
    },
    {
      "cell_type": "markdown",
      "id": "christian-hamilton",
      "metadata": {
        "id": "christian-hamilton"
      },
      "source": [
        "### Pre-processing (1 point)"
      ]
    },
    {
      "cell_type": "markdown",
      "id": "global-decision",
      "metadata": {
        "id": "global-decision"
      },
      "source": [
        "#### Remove unwanted columns"
      ]
    },
    {
      "cell_type": "code",
      "execution_count": null,
      "id": "pharmaceutical-latvia",
      "metadata": {
        "colab": {
          "base_uri": "https://localhost:8080/"
        },
        "id": "pharmaceutical-latvia",
        "outputId": "040ecba4-bb03-4600-b45f-71471517d323"
      },
      "outputs": [
        {
          "name": "stdout",
          "output_type": "stream",
          "text": [
            "(150000, 12)\n",
            "SeriousDlqin2yrs                        150000\n",
            "RevolvingUtilizationOfUnsecuredLines    150000\n",
            "age                                     150000\n",
            "NumberOfTime30-59DaysPastDueNotWorse    150000\n",
            "DebtRatio                               150000\n",
            "MonthlyIncome                           120269\n",
            "NumberOfOpenCreditLinesAndLoans         150000\n",
            "NumberOfTimes90DaysLate                 150000\n",
            "NumberRealEstateLoansOrLines            150000\n",
            "NumberOfTime60-89DaysPastDueNotWorse    150000\n",
            "NumberOfDependents                      146076\n",
            "dtype: int64\n"
          ]
        },
        {
          "data": {
            "text/plain": [
              "(150000, 11)"
            ]
          },
          "execution_count": 65,
          "metadata": {
            "tags": []
          },
          "output_type": "execute_result"
        }
      ],
      "source": [
        "# YOUR CODE HERE\n",
        "print(df.shape)\n",
        "df.drop(df.columns[df.columns.str.contains('Unnamed',case =False)],axis =1, inplace=True)\n",
        "#remove the cols with 50% empty values\n",
        "print(df.count())\n",
        "df.dropna(thresh=len(df)/2,axis=1,inplace=True)\n",
        "df.shape"
      ]
    },
    {
      "cell_type": "code",
      "execution_count": null,
      "id": "iXk7pMmFP9nA",
      "metadata": {
        "colab": {
          "base_uri": "https://localhost:8080/"
        },
        "id": "iXk7pMmFP9nA",
        "outputId": "aafc7ac0-f5ff-4801-9357-099aced57086"
      },
      "outputs": [
        {
          "data": {
            "text/plain": [
              "SeriousDlqin2yrs                          int64\n",
              "RevolvingUtilizationOfUnsecuredLines    float64\n",
              "age                                       int64\n",
              "NumberOfTime30-59DaysPastDueNotWorse      int64\n",
              "DebtRatio                               float64\n",
              "MonthlyIncome                           float64\n",
              "NumberOfOpenCreditLinesAndLoans           int64\n",
              "NumberOfTimes90DaysLate                   int64\n",
              "NumberRealEstateLoansOrLines              int64\n",
              "NumberOfTime60-89DaysPastDueNotWorse      int64\n",
              "NumberOfDependents                      float64\n",
              "dtype: object"
            ]
          },
          "execution_count": 66,
          "metadata": {
            "tags": []
          },
          "output_type": "execute_result"
        }
      ],
      "source": [
        "df.dtypes"
      ]
    },
    {
      "cell_type": "markdown",
      "id": "usual-elimination",
      "metadata": {
        "id": "usual-elimination"
      },
      "source": [
        "#### Handle the missing data\n",
        "\n",
        "Find the how many null values in the dataset and fill with mean or remove."
      ]
    },
    {
      "cell_type": "code",
      "execution_count": null,
      "id": "OZohWZt-RZP1",
      "metadata": {
        "colab": {
          "base_uri": "https://localhost:8080/"
        },
        "id": "OZohWZt-RZP1",
        "outputId": "300b274f-d0d1-4a91-a187-ec65448b4efb"
      },
      "outputs": [
        {
          "data": {
            "text/plain": [
              "SeriousDlqin2yrs                            0\n",
              "RevolvingUtilizationOfUnsecuredLines        0\n",
              "age                                         0\n",
              "NumberOfTime30-59DaysPastDueNotWorse        0\n",
              "DebtRatio                                   0\n",
              "MonthlyIncome                           29731\n",
              "NumberOfOpenCreditLinesAndLoans             0\n",
              "NumberOfTimes90DaysLate                     0\n",
              "NumberRealEstateLoansOrLines                0\n",
              "NumberOfTime60-89DaysPastDueNotWorse        0\n",
              "NumberOfDependents                       3924\n",
              "dtype: int64"
            ]
          },
          "execution_count": 67,
          "metadata": {
            "tags": []
          },
          "output_type": "execute_result"
        }
      ],
      "source": [
        "df.isnull().sum()"
      ]
    },
    {
      "cell_type": "code",
      "execution_count": null,
      "id": "sEOQjNardoW4",
      "metadata": {
        "colab": {
          "base_uri": "https://localhost:8080/",
          "height": 241
        },
        "id": "sEOQjNardoW4",
        "outputId": "2fcfe910-7b15-4fc1-ad24-a1af6c059248"
      },
      "outputs": [
        {
          "data": {
            "text/html": [
              "<div>\n",
              "<style scoped>\n",
              "    .dataframe tbody tr th:only-of-type {\n",
              "        vertical-align: middle;\n",
              "    }\n",
              "\n",
              "    .dataframe tbody tr th {\n",
              "        vertical-align: top;\n",
              "    }\n",
              "\n",
              "    .dataframe thead th {\n",
              "        text-align: right;\n",
              "    }\n",
              "</style>\n",
              "<table border=\"1\" class=\"dataframe\">\n",
              "  <thead>\n",
              "    <tr style=\"text-align: right;\">\n",
              "      <th></th>\n",
              "      <th>SeriousDlqin2yrs</th>\n",
              "      <th>RevolvingUtilizationOfUnsecuredLines</th>\n",
              "      <th>age</th>\n",
              "      <th>NumberOfTime30-59DaysPastDueNotWorse</th>\n",
              "      <th>DebtRatio</th>\n",
              "      <th>MonthlyIncome</th>\n",
              "      <th>NumberOfOpenCreditLinesAndLoans</th>\n",
              "      <th>NumberOfTimes90DaysLate</th>\n",
              "      <th>NumberRealEstateLoansOrLines</th>\n",
              "      <th>NumberOfTime60-89DaysPastDueNotWorse</th>\n",
              "      <th>NumberOfDependents</th>\n",
              "    </tr>\n",
              "  </thead>\n",
              "  <tbody>\n",
              "    <tr>\n",
              "      <th>0</th>\n",
              "      <td>1</td>\n",
              "      <td>0.766127</td>\n",
              "      <td>45</td>\n",
              "      <td>2</td>\n",
              "      <td>0.802982</td>\n",
              "      <td>9120.0</td>\n",
              "      <td>13</td>\n",
              "      <td>0</td>\n",
              "      <td>6</td>\n",
              "      <td>0</td>\n",
              "      <td>2.0</td>\n",
              "    </tr>\n",
              "    <tr>\n",
              "      <th>1</th>\n",
              "      <td>0</td>\n",
              "      <td>0.957151</td>\n",
              "      <td>40</td>\n",
              "      <td>0</td>\n",
              "      <td>0.121876</td>\n",
              "      <td>2600.0</td>\n",
              "      <td>4</td>\n",
              "      <td>0</td>\n",
              "      <td>0</td>\n",
              "      <td>0</td>\n",
              "      <td>1.0</td>\n",
              "    </tr>\n",
              "    <tr>\n",
              "      <th>2</th>\n",
              "      <td>0</td>\n",
              "      <td>0.658180</td>\n",
              "      <td>38</td>\n",
              "      <td>1</td>\n",
              "      <td>0.085113</td>\n",
              "      <td>3042.0</td>\n",
              "      <td>2</td>\n",
              "      <td>1</td>\n",
              "      <td>0</td>\n",
              "      <td>0</td>\n",
              "      <td>0.0</td>\n",
              "    </tr>\n",
              "    <tr>\n",
              "      <th>3</th>\n",
              "      <td>0</td>\n",
              "      <td>0.233810</td>\n",
              "      <td>30</td>\n",
              "      <td>0</td>\n",
              "      <td>0.036050</td>\n",
              "      <td>3300.0</td>\n",
              "      <td>5</td>\n",
              "      <td>0</td>\n",
              "      <td>0</td>\n",
              "      <td>0</td>\n",
              "      <td>0.0</td>\n",
              "    </tr>\n",
              "    <tr>\n",
              "      <th>4</th>\n",
              "      <td>0</td>\n",
              "      <td>0.907239</td>\n",
              "      <td>49</td>\n",
              "      <td>1</td>\n",
              "      <td>0.024926</td>\n",
              "      <td>63588.0</td>\n",
              "      <td>7</td>\n",
              "      <td>0</td>\n",
              "      <td>1</td>\n",
              "      <td>0</td>\n",
              "      <td>0.0</td>\n",
              "    </tr>\n",
              "  </tbody>\n",
              "</table>\n",
              "</div>"
            ],
            "text/plain": [
              "   SeriousDlqin2yrs  ...  NumberOfDependents\n",
              "0                 1  ...                 2.0\n",
              "1                 0  ...                 1.0\n",
              "2                 0  ...                 0.0\n",
              "3                 0  ...                 0.0\n",
              "4                 0  ...                 0.0\n",
              "\n",
              "[5 rows x 11 columns]"
            ]
          },
          "execution_count": 68,
          "metadata": {
            "tags": []
          },
          "output_type": "execute_result"
        }
      ],
      "source": [
        "df.head()"
      ]
    },
    {
      "cell_type": "code",
      "execution_count": null,
      "id": "heated-findings",
      "metadata": {
        "colab": {
          "base_uri": "https://localhost:8080/"
        },
        "id": "heated-findings",
        "outputId": "634f22f9-3d9e-4b1a-8a27-e0a2c1dd6163"
      },
      "outputs": [
        {
          "name": "stdout",
          "output_type": "stream",
          "text": [
            "SeriousDlqin2yrs                            0\n",
            "RevolvingUtilizationOfUnsecuredLines        0\n",
            "age                                         0\n",
            "NumberOfTime30-59DaysPastDueNotWorse        0\n",
            "DebtRatio                                   0\n",
            "MonthlyIncome                           29731\n",
            "NumberOfOpenCreditLinesAndLoans             0\n",
            "NumberOfTimes90DaysLate                     0\n",
            "NumberRealEstateLoansOrLines                0\n",
            "NumberOfTime60-89DaysPastDueNotWorse        0\n",
            "NumberOfDependents                       3924\n",
            "dtype: int64\n",
            "#################################\n",
            "######After cleaning dataframe as df2 ########\n",
            "#################################\n",
            "(120268, 11)\n"
          ]
        },
        {
          "data": {
            "text/plain": [
              "SeriousDlqin2yrs                        0\n",
              "RevolvingUtilizationOfUnsecuredLines    0\n",
              "age                                     0\n",
              "NumberOfTime30-59DaysPastDueNotWorse    0\n",
              "DebtRatio                               0\n",
              "MonthlyIncome                           0\n",
              "NumberOfOpenCreditLinesAndLoans         0\n",
              "NumberOfTimes90DaysLate                 0\n",
              "NumberRealEstateLoansOrLines            0\n",
              "NumberOfTime60-89DaysPastDueNotWorse    0\n",
              "NumberOfDependents                      0\n",
              "dtype: int64"
            ]
          },
          "execution_count": 103,
          "metadata": {
            "tags": []
          },
          "output_type": "execute_result"
        }
      ],
      "source": [
        "# YOUR CODE HERE\n",
        "print(df.isna().sum())\n",
        "#calcumate the mean  dependents as per age and replace it in null values of dependent.\n",
        "df1 = df[['age','NumberOfDependents']].groupby('age',axis = 0)['NumberOfDependents'].mean().reset_index(name='meanDependentPerAge')\n",
        "df2 = df.merge(df1,on='age',how=\"left\")\n",
        "df2['meanDependentPerAge'] = df2['meanDependentPerAge'].values.round()\n",
        "df2['NumberOfDependents']= df2['NumberOfDependents'].fillna(df2.meanDependentPerAge)\n",
        "df2.drop(columns=['meanDependentPerAge'],axis=1,inplace=True)\n",
        "\n",
        "df2.dropna(axis=0,inplace=True)\n",
        "df2.drop(df2[df2['age'] == 0].index, inplace= True)\n",
        "print(\"#################################\")\n",
        "print(\"######After cleaning dataframe as df2 ########\")\n",
        "print(\"#################################\")\n",
        "print(df2.shape)\n",
        "df2.isna().sum()"
      ]
    },
    {
      "cell_type": "markdown",
      "id": "hispanic-reply",
      "metadata": {
        "id": "hispanic-reply"
      },
      "source": [
        "### EDA &  Visualization ( 1 point)"
      ]
    },
    {
      "cell_type": "markdown",
      "id": "standing-cheese",
      "metadata": {
        "id": "standing-cheese"
      },
      "source": [
        "#### Calculate the percentage of the target lebels and visualize with a graph"
      ]
    },
    {
      "cell_type": "code",
      "execution_count": null,
      "id": "LS55NLYS81Wl",
      "metadata": {
        "colab": {
          "base_uri": "https://localhost:8080/"
        },
        "id": "LS55NLYS81Wl",
        "outputId": "1f0e09f0-854c-48fb-95c1-43de2e446aba"
      },
      "outputs": [
        {
          "data": {
            "text/plain": [
              "array([1, 0])"
            ]
          },
          "execution_count": 70,
          "metadata": {
            "tags": []
          },
          "output_type": "execute_result"
        }
      ],
      "source": [
        "df2['SeriousDlqin2yrs'].unique()"
      ]
    },
    {
      "cell_type": "code",
      "execution_count": null,
      "id": "asQ6P9t3AOAf",
      "metadata": {
        "colab": {
          "base_uri": "https://localhost:8080/"
        },
        "id": "asQ6P9t3AOAf",
        "outputId": "b0bde99d-e42b-4374-a711-874fde0008a1"
      },
      "outputs": [
        {
          "data": {
            "text/plain": [
              "0    93.05141\n",
              "1     6.94859\n",
              "Name: SeriousDlqin2yrs, dtype: float64"
            ]
          },
          "execution_count": 71,
          "metadata": {
            "tags": []
          },
          "output_type": "execute_result"
        }
      ],
      "source": [
        "s"
      ]
    },
    {
      "cell_type": "code",
      "execution_count": null,
      "id": "attractive-hands",
      "metadata": {
        "colab": {
          "base_uri": "https://localhost:8080/",
          "height": 262
        },
        "id": "attractive-hands",
        "outputId": "025084ff-2adb-4295-9d7f-a8d1e20b3bbd"
      },
      "outputs": [
        {
          "data": {
            "image/png": "[encoded data removed]",
            "text/plain": [
              "<Figure size 432x288 with 1 Axes>"
            ]
          },
          "metadata": {
            "needs_background": "light",
            "tags": []
          },
          "output_type": "display_data"
        }
      ],
      "source": [
        "# YOUR CODE HERE\n",
        "s = df2['SeriousDlqin2yrs'].value_counts(normalize=True) * 100\n",
        "# df_percent = pd.DataFrame([s],columns=['SeriousDlqin2yrs','percent'])\n",
        "# y = df_percent[\"SeriousDlqin2yrs\"]\n",
        "# x = df_percent[\"percent\"]\n",
        "# sns.barplot(data=df_percent)\n",
        "# plt.xticks(rotation= 90)\n",
        "s.plot(kind='bar')\n",
        "plt.show()"
      ]
    },
    {
      "cell_type": "markdown",
      "id": "satisfactory-stopping",
      "metadata": {
        "id": "satisfactory-stopping"
      },
      "source": [
        "#### Plot the distribution of SeriousDlqin2yrs by age"
      ]
    },
    {
      "cell_type": "code",
      "execution_count": null,
      "id": "multiple-series",
      "metadata": {
        "colab": {
          "base_uri": "https://localhost:8080/",
          "height": 1000
        },
        "id": "multiple-series",
        "outputId": "8f076086-26b9-45ad-92af-c85baf3f9246"
      },
      "outputs": [
        {
          "name": "stdout",
          "output_type": "stream",
          "text": [
            "   SeriousDlqin2yrs  age   Percent\n",
            "0                 0   49  2.630638\n",
            "1                 0   48  2.604725\n",
            "2                 0   47  2.574344\n",
            "3                 0   50  2.560941\n",
            "4                 0   46  2.543070\n"
          ]
        },
        {
          "data": {
            "image/png": "[encoded data removed]",
            "text/plain": [
              "<Figure size 415x360 with 1 Axes>"
            ]
          },
          "metadata": {
            "needs_background": "light",
            "tags": []
          },
          "output_type": "display_data"
        }
      ],
      "source": [
        "# YOUR CODE HERE\n",
        "new_df = df2.groupby('SeriousDlqin2yrs')['age'].value_counts(normalize=True)\n",
        "new_df = new_df.mul(100).rename('Percent').reset_index()\n",
        "print(new_df.head())\n",
        "sns.catplot(x='SeriousDlqin2yrs', y='Percent', hue='age', kind='bar', data=new_df)\n",
        "plt.show()"
      ]
    },
    {
      "cell_type": "code",
      "execution_count": null,
      "id": "jfQYmijOAwM7",
      "metadata": {
        "colab": {
          "base_uri": "https://localhost:8080/",
          "height": 388
        },
        "id": "jfQYmijOAwM7",
        "outputId": "d98e4752-051b-4bab-b098-616883ae5a21"
      },
      "outputs": [
        {
          "data": {
            "image/png": "[encoded data removed]",
            "text/plain": [
              "<Figure size 1800x432 with 1 Axes>"
            ]
          },
          "metadata": {
            "needs_background": "light",
            "tags": []
          },
          "output_type": "display_data"
        }
      ],
      "source": [
        "fig = plt.figure(figsize=(25,6))\n",
        "sns.barplot(x='age', y='Percent', hue='SeriousDlqin2yrs', data=new_df)\n",
        "plt.show()"
      ]
    },
    {
      "cell_type": "markdown",
      "id": "promotional-rolling",
      "metadata": {
        "id": "promotional-rolling"
      },
      "source": [
        "#### Calculate the correlation and plot the heatmap"
      ]
    },
    {
      "cell_type": "code",
      "execution_count": null,
      "id": "HLepKu7PYKHl",
      "metadata": {
        "colab": {
          "base_uri": "https://localhost:8080/",
          "height": 258
        },
        "id": "HLepKu7PYKHl",
        "outputId": "7c4ede6f-41f8-4e0e-deba-b5600f900b21"
      },
      "outputs": [
        {
          "data": {
            "text/html": [
              "<div>\n",
              "<style scoped>\n",
              "    .dataframe tbody tr th:only-of-type {\n",
              "        vertical-align: middle;\n",
              "    }\n",
              "\n",
              "    .dataframe tbody tr th {\n",
              "        vertical-align: top;\n",
              "    }\n",
              "\n",
              "    .dataframe thead th {\n",
              "        text-align: right;\n",
              "    }\n",
              "</style>\n",
              "<table border=\"1\" class=\"dataframe\">\n",
              "  <thead>\n",
              "    <tr style=\"text-align: right;\">\n",
              "      <th></th>\n",
              "      <th>SeriousDlqin2yrs</th>\n",
              "      <th>RevolvingUtilizationOfUnsecuredLines</th>\n",
              "      <th>age</th>\n",
              "      <th>NumberOfTime30-59DaysPastDueNotWorse</th>\n",
              "      <th>DebtRatio</th>\n",
              "      <th>MonthlyIncome</th>\n",
              "      <th>NumberOfOpenCreditLinesAndLoans</th>\n",
              "      <th>NumberOfTimes90DaysLate</th>\n",
              "      <th>NumberRealEstateLoansOrLines</th>\n",
              "      <th>NumberOfTime60-89DaysPastDueNotWorse</th>\n",
              "      <th>NumberOfDependents</th>\n",
              "    </tr>\n",
              "  </thead>\n",
              "  <tbody>\n",
              "    <tr>\n",
              "      <th>SeriousDlqin2yrs</th>\n",
              "      <td>1.000000</td>\n",
              "      <td>-0.002386</td>\n",
              "      <td>-0.102685</td>\n",
              "      <td>0.123159</td>\n",
              "      <td>-0.003291</td>\n",
              "      <td>-0.019746</td>\n",
              "      <td>-0.027445</td>\n",
              "      <td>0.111149</td>\n",
              "      <td>-0.003005</td>\n",
              "      <td>0.093836</td>\n",
              "      <td>0.046704</td>\n",
              "    </tr>\n",
              "    <tr>\n",
              "      <th>RevolvingUtilizationOfUnsecuredLines</th>\n",
              "      <td>-0.002386</td>\n",
              "      <td>1.000000</td>\n",
              "      <td>-0.005476</td>\n",
              "      <td>-0.001194</td>\n",
              "      <td>-0.000243</td>\n",
              "      <td>0.007124</td>\n",
              "      <td>-0.010880</td>\n",
              "      <td>-0.000931</td>\n",
              "      <td>0.005895</td>\n",
              "      <td>-0.000955</td>\n",
              "      <td>0.002347</td>\n",
              "    </tr>\n",
              "    <tr>\n",
              "      <th>age</th>\n",
              "      <td>-0.102685</td>\n",
              "      <td>-0.005476</td>\n",
              "      <td>1.000000</td>\n",
              "      <td>-0.049177</td>\n",
              "      <td>-0.001260</td>\n",
              "      <td>0.037717</td>\n",
              "      <td>0.187112</td>\n",
              "      <td>-0.047889</td>\n",
              "      <td>0.065110</td>\n",
              "      <td>-0.043501</td>\n",
              "      <td>-0.206397</td>\n",
              "    </tr>\n",
              "    <tr>\n",
              "      <th>NumberOfTime30-59DaysPastDueNotWorse</th>\n",
              "      <td>0.123159</td>\n",
              "      <td>-0.001194</td>\n",
              "      <td>-0.049177</td>\n",
              "      <td>1.000000</td>\n",
              "      <td>-0.001981</td>\n",
              "      <td>-0.010217</td>\n",
              "      <td>-0.043868</td>\n",
              "      <td>0.975259</td>\n",
              "      <td>-0.024036</td>\n",
              "      <td>0.980131</td>\n",
              "      <td>0.003538</td>\n",
              "    </tr>\n",
              "    <tr>\n",
              "      <th>DebtRatio</th>\n",
              "      <td>-0.003291</td>\n",
              "      <td>-0.000243</td>\n",
              "      <td>-0.001260</td>\n",
              "      <td>-0.001981</td>\n",
              "      <td>1.000000</td>\n",
              "      <td>-0.028712</td>\n",
              "      <td>0.008685</td>\n",
              "      <td>-0.002703</td>\n",
              "      <td>0.019574</td>\n",
              "      <td>-0.001801</td>\n",
              "      <td>0.009803</td>\n",
              "    </tr>\n",
              "  </tbody>\n",
              "</table>\n",
              "</div>"
            ],
            "text/plain": [
              "                                      SeriousDlqin2yrs  ...  NumberOfDependents\n",
              "SeriousDlqin2yrs                              1.000000  ...            0.046704\n",
              "RevolvingUtilizationOfUnsecuredLines         -0.002386  ...            0.002347\n",
              "age                                          -0.102685  ...           -0.206397\n",
              "NumberOfTime30-59DaysPastDueNotWorse          0.123159  ...            0.003538\n",
              "DebtRatio                                    -0.003291  ...            0.009803\n",
              "\n",
              "[5 rows x 11 columns]"
            ]
          },
          "execution_count": 75,
          "metadata": {
            "tags": []
          },
          "output_type": "execute_result"
        }
      ],
      "source": [
        "corrMatrix = df2.corr()\n",
        "corrMatrix.head()"
      ]
    },
    {
      "cell_type": "code",
      "execution_count": null,
      "id": "studied-candidate",
      "metadata": {
        "colab": {
          "base_uri": "https://localhost:8080/",
          "height": 605
        },
        "id": "studied-candidate",
        "outputId": "d7cdf3ad-234b-46dd-ecd4-62da2c36c0a8"
      },
      "outputs": [
        {
          "data": {
            "image/png": "[encoded data removed]",
            "text/plain": [
              "<Figure size 1152x432 with 2 Axes>"
            ]
          },
          "metadata": {
            "needs_background": "light",
            "tags": []
          },
          "output_type": "display_data"
        }
      ],
      "source": [
        "# YOUR CODE HERE\n",
        "plt.figure(figsize=(16, 6))\n",
        "heatmap = sns.heatmap(corrMatrix, vmin=-1, vmax=1, annot=True)\n",
        "# Give a title to the heatmap. Pad defines the distance of the title from the top of the heatmap.\n",
        "heatmap.set_title('Correlation Heatmap', fontdict={'fontsize':12}, pad=12);"
      ]
    },
    {
      "cell_type": "markdown",
      "id": "operational-minute",
      "metadata": {
        "id": "operational-minute"
      },
      "source": [
        "### Data Engineering (2 points)"
      ]
    },
    {
      "cell_type": "markdown",
      "id": "outer-telephone",
      "metadata": {
        "id": "outer-telephone"
      },
      "source": [
        "#### Weight of Evidence and Information value\n",
        "\n",
        "* Arrange the binning for each variable with different bins\n",
        "    * For eg. Age = 49, Age_quantile_range = (48, 56)\n",
        "* Calculate information value and chooose the best features based on the rules given below\n",
        "\n",
        "| Information Value |\tVariable Predictiveness |\n",
        "| --- | --- |\n",
        "| Less than 0.02\t|  Not useful for prediction |\n",
        "| 0.02 to 0.1\t| Weak predictive Power |\n",
        "|  0.1 to 0.3 | Medium predictive Power |\n",
        "| 0.3 to 0.5 | Strong predictive Power |\n",
        "| >0.5 | Suspicious Predictive Power |\n",
        "\n",
        "* Calculate Weight of evidence for the selected variables\n",
        "\n",
        "Hint: Use [xverse](https://towardsdatascience.com/introducing-xverse-a-python-package-for-feature-selection-and-transformation-17193cdcd067). It is a machine learning Python module in the space of feature engineering, feature transformation and feature selection. It provides pre-built functions for the above steps, such as binning and conversion to WoE."
      ]
    },
    {
      "cell_type": "code",
      "execution_count": null,
      "id": "ordered-knock",
      "metadata": {
        "id": "ordered-knock"
      },
      "outputs": [],
      "source": [
        "# YOUR CODE HERE\n",
        "from xverse.transformer import MonotonicBinning\n",
        "\n",
        "clf = MonotonicBinning()\n",
        "y = df2['SeriousDlqin2yrs'].to_numpy()\n",
        "X = df2.loc[:, df2.columns != 'SeriousDlqin2yrs']\n"
      ]
    },
    {
      "cell_type": "code",
      "execution_count": null,
      "id": "lszLz6n9ex2v",
      "metadata": {
        "colab": {
          "base_uri": "https://localhost:8080/",
          "height": 544
        },
        "id": "lszLz6n9ex2v",
        "outputId": "6056cf54-c688-4bbc-877c-bd3bada87677"
      },
      "outputs": [
        {
          "name": "stdout",
          "output_type": "stream",
          "text": [
            "   Variable_Name          Category  ...       WOE  Information_Value\n",
            "0      DebtRatio   (-0.001, 0.197]  ... -0.145656           0.053027\n",
            "1      DebtRatio    (0.197, 0.408]  ... -0.214224           0.053027\n",
            "2      DebtRatio  (0.408, 61106.5]  ...  0.292769           0.053027\n",
            "3  MonthlyIncome  (-0.001, 4000.0]  ...  0.278007           0.071504\n",
            "4  MonthlyIncome  (4000.0, 7080.0]  ...  0.011744           0.071504\n",
            "\n",
            "[5 rows x 11 columns]\n",
            "                          Variable_Name  Information_Value\n",
            "8  RevolvingUtilizationOfUnsecuredLines           0.851488\n",
            "4  NumberOfTime30-59DaysPastDueNotWorse           0.458650\n",
            "6               NumberOfTimes90DaysLate           0.449550\n",
            "5  NumberOfTime60-89DaysPastDueNotWorse           0.244553\n",
            "9                                   age           0.168243\n",
            "1                         MonthlyIncome           0.071504\n",
            "0                             DebtRatio           0.053027\n",
            "3       NumberOfOpenCreditLinesAndLoans           0.023775\n",
            "2                    NumberOfDependents           0.023031\n",
            "7          NumberRealEstateLoansOrLines           0.001810\n"
          ]
        },
        {
          "data": {
            "text/html": [
              "<div>\n",
              "<style scoped>\n",
              "    .dataframe tbody tr th:only-of-type {\n",
              "        vertical-align: middle;\n",
              "    }\n",
              "\n",
              "    .dataframe tbody tr th {\n",
              "        vertical-align: top;\n",
              "    }\n",
              "\n",
              "    .dataframe thead th {\n",
              "        text-align: right;\n",
              "    }\n",
              "</style>\n",
              "<table border=\"1\" class=\"dataframe\">\n",
              "  <thead>\n",
              "    <tr style=\"text-align: right;\">\n",
              "      <th></th>\n",
              "      <th>RevolvingUtilizationOfUnsecuredLines</th>\n",
              "      <th>age</th>\n",
              "      <th>NumberOfTime30-59DaysPastDueNotWorse</th>\n",
              "      <th>DebtRatio</th>\n",
              "      <th>MonthlyIncome</th>\n",
              "      <th>NumberOfOpenCreditLinesAndLoans</th>\n",
              "      <th>NumberOfTimes90DaysLate</th>\n",
              "      <th>NumberRealEstateLoansOrLines</th>\n",
              "      <th>NumberOfTime60-89DaysPastDueNotWorse</th>\n",
              "      <th>NumberOfDependents</th>\n",
              "    </tr>\n",
              "  </thead>\n",
              "  <tbody>\n",
              "    <tr>\n",
              "      <th>0</th>\n",
              "      <td>0.888391</td>\n",
              "      <td>0.055414</td>\n",
              "      <td>1.843206</td>\n",
              "      <td>0.292769</td>\n",
              "      <td>-0.386236</td>\n",
              "      <td>-0.041712</td>\n",
              "      <td>-0.16513</td>\n",
              "      <td>-0.067619</td>\n",
              "      <td>-0.091675</td>\n",
              "      <td>0.242644</td>\n",
              "    </tr>\n",
              "    <tr>\n",
              "      <th>1</th>\n",
              "      <td>0.888391</td>\n",
              "      <td>0.362498</td>\n",
              "      <td>-0.258248</td>\n",
              "      <td>-0.145656</td>\n",
              "      <td>0.278007</td>\n",
              "      <td>0.173560</td>\n",
              "      <td>-0.16513</td>\n",
              "      <td>0.026777</td>\n",
              "      <td>-0.091675</td>\n",
              "      <td>-0.095097</td>\n",
              "    </tr>\n",
              "    <tr>\n",
              "      <th>2</th>\n",
              "      <td>0.888391</td>\n",
              "      <td>0.362498</td>\n",
              "      <td>-0.258248</td>\n",
              "      <td>-0.145656</td>\n",
              "      <td>0.278007</td>\n",
              "      <td>0.173560</td>\n",
              "      <td>-0.16513</td>\n",
              "      <td>0.026777</td>\n",
              "      <td>-0.091675</td>\n",
              "      <td>-0.095097</td>\n",
              "    </tr>\n",
              "    <tr>\n",
              "      <th>3</th>\n",
              "      <td>-0.714891</td>\n",
              "      <td>0.362498</td>\n",
              "      <td>-0.258248</td>\n",
              "      <td>-0.145656</td>\n",
              "      <td>0.278007</td>\n",
              "      <td>0.173560</td>\n",
              "      <td>-0.16513</td>\n",
              "      <td>0.026777</td>\n",
              "      <td>-0.091675</td>\n",
              "      <td>-0.095097</td>\n",
              "    </tr>\n",
              "    <tr>\n",
              "      <th>4</th>\n",
              "      <td>0.888391</td>\n",
              "      <td>0.055414</td>\n",
              "      <td>-0.258248</td>\n",
              "      <td>-0.145656</td>\n",
              "      <td>-0.386236</td>\n",
              "      <td>-0.194272</td>\n",
              "      <td>-0.16513</td>\n",
              "      <td>0.026777</td>\n",
              "      <td>-0.091675</td>\n",
              "      <td>-0.095097</td>\n",
              "    </tr>\n",
              "  </tbody>\n",
              "</table>\n",
              "</div>"
            ],
            "text/plain": [
              "   RevolvingUtilizationOfUnsecuredLines  ...  NumberOfDependents\n",
              "0                              0.888391  ...            0.242644\n",
              "1                              0.888391  ...           -0.095097\n",
              "2                              0.888391  ...           -0.095097\n",
              "3                             -0.714891  ...           -0.095097\n",
              "4                              0.888391  ...           -0.095097\n",
              "\n",
              "[5 rows x 10 columns]"
            ]
          },
          "execution_count": 78,
          "metadata": {
            "tags": []
          },
          "output_type": "execute_result"
        }
      ],
      "source": [
        "from xverse.transformer import WOE\n",
        "clf = WOE()\n",
        "clf.fit(X, y)\n",
        "print(clf.woe_df.head())\n",
        "print(clf.iv_df) #information value dataset\n",
        "X1 = clf.transform(X)\n",
        "X1.head()"
      ]
    },
    {
      "cell_type": "code",
      "execution_count": null,
      "id": "Y0l2opL-C33m",
      "metadata": {
        "colab": {
          "base_uri": "https://localhost:8080/",
          "height": 605
        },
        "id": "Y0l2opL-C33m",
        "outputId": "77056e85-8d65-43f1-f0c5-6e26afb0c25d"
      },
      "outputs": [
        {
          "data": {
            "image/png": "[encoded data removed]",
            "text/plain": [
              "<Figure size 1152x432 with 2 Axes>"
            ]
          },
          "metadata": {
            "needs_background": "light",
            "tags": []
          },
          "output_type": "display_data"
        }
      ],
      "source": [
        "plt.figure(figsize=(16, 6))\n",
        "heatmap = sns.heatmap(X1.corr(), vmin=-1, vmax=1, annot=True)\n",
        "# Give a title to the heatmap. Pad defines the distance of the title from the top of the heatmap.\n",
        "heatmap.set_title('Correlation Heatmap', fontdict={'fontsize':12}, pad=12);"
      ]
    },
    {
      "cell_type": "markdown",
      "id": "conservative-rebel",
      "metadata": {
        "id": "conservative-rebel"
      },
      "source": [
        "### Identify features,  target and split it into train and test"
      ]
    },
    {
      "cell_type": "code",
      "execution_count": null,
      "id": "ambient-dress",
      "metadata": {
        "id": "ambient-dress"
      },
      "outputs": [],
      "source": [
        "# YOUR CODE HERE\n",
        "X_train, X_test, y_train, y_test = train_test_split(X1, y, test_size = 0.25, random_state = 0)"
      ]
    },
    {
      "cell_type": "markdown",
      "id": "decreased-sucking",
      "metadata": {
        "id": "decreased-sucking"
      },
      "source": [
        "### Logistic Regression from scratch using gradient method (2 points)\n",
        "\n",
        "For Linear Regression, we had the hypothesis $yhat = w.X +b$ , whose output range was the set of all Real Numbers.\n",
        "Now, for Logistic Regression our hypothesis is  $yhat = sigmoid(w.X + b)$ , whose output range is between 0 and 1 because by applying a sigmoid function, we always output a number between 0 and 1.\n",
        "\n",
        "$yhat = \\frac{1}{1 +e^{-(w.x+b)}}$\n",
        "\n",
        "Hint: [logistic-regression-with-python](\n",
        "https://medium.com/@ODSC/logistic-regression-with-python-ede39f8573c7)"
      ]
    },
    {
      "cell_type": "code",
      "execution_count": null,
      "id": "precious-business",
      "metadata": {
        "colab": {
          "base_uri": "https://localhost:8080/",
          "height": 961
        },
        "id": "precious-business",
        "outputId": "ad3ec7de-a58e-4a52-a763-ed8d0e172946"
      },
      "outputs": [
        {
          "name": "stdout",
          "output_type": "stream",
          "text": [
            "Start training\n",
            "[Training step #0] — Cost function: 0.6931\n",
            "[Training step #1] — Cost function: 0.6931\n",
            "[Training step #2] — Cost function: 0.6931\n",
            "[Training step #3] — Cost function: 0.6931\n",
            "[Training step #4] — Cost function: 0.6931\n",
            "[Training step #5] — Cost function: 0.6931\n",
            "[Training step #6] — Cost function: 0.6931\n",
            "[Training step #7] — Cost function: 0.6931\n",
            "[Training step #8] — Cost function: 0.6931\n",
            "[Training step #9] — Cost function: 0.6931\n",
            "[Training step #10] — Cost function: 0.6931\n",
            "[Training step #11] — Cost function: 0.6931\n",
            "[Training step #12] — Cost function: 0.6931\n",
            "[Training step #13] — Cost function: 0.6931\n",
            "[Training step #14] — Cost function: 0.6930\n",
            "[Training step #15] — Cost function: 0.6930\n",
            "[Training step #16] — Cost function: 0.6930\n",
            "Accuracy on the training set: 0.6975643285551157\n",
            "Accuracy on the test set: 0.6963216708793402\n"
          ]
        },
        {
          "data": {
            "image/png": "[encoded data removed]",
            "text/plain": [
              "<Figure size 1080x720 with 1 Axes>"
            ]
          },
          "metadata": {
            "needs_background": "light",
            "tags": []
          },
          "output_type": "display_data"
        }
      ],
      "source": [
        "# YOUR CODE HERE\n",
        "def sigmoid(x):\n",
        "  return np.maximum(np.minimum(1 / (1 + np.exp(-x)), 0.9999), 0.0001)\n",
        "\n",
        "def cost_function(x, y, theta):\n",
        "  t = x.dot(theta)\n",
        "  return  (-1)*np.sum(y * np.log(sigmoid(t)) + (1 - y) * np.log(1 - sigmoid(t))) / x.shape[0]\n",
        "\n",
        "def gradient_cost_function(x, y, theta):\n",
        "  t = x.dot(theta)\n",
        "  return x.T.dot(y - sigmoid(t)) / x.shape[0]\n",
        "\n",
        "def update_theta(x, y, theta, learning_rate):\n",
        "  return theta + learning_rate * gradient_cost_function(x, y, theta)\n",
        "\n",
        "def train(x, y, learning_rate, iterations=500, threshold=0.0005):\n",
        "  theta = np.zeros(x.shape[1])\n",
        "  costs = []\n",
        "  print('Start training')\n",
        "  for i in range(iterations):\n",
        "    theta = update_theta(x, y, theta, learning_rate)\n",
        "    cost = cost_function(x, y, theta)\n",
        "    print(f'[Training step #{i}] — Cost function: {cost:.4f}')\n",
        "    costs.append({'cost': cost, 'weights': theta})\n",
        "    if i > 15 and abs(costs[-2]['cost'] - costs[-1]['cost']) < threshold:\n",
        "      break\n",
        "  return theta, costs\n",
        "\n",
        "theta, costs = train(X_train, y_train, learning_rate=0.0001)\n",
        "\n",
        "def predict(x, theta):\n",
        "  return (sigmoid(x.dot(theta)) >= 0.5).astype(int)\n",
        "\n",
        "def get_accuracy(x, y, theta):\n",
        "  y_pred = predict(x, theta)\n",
        "  return (y_pred == y).sum() / y.shape[0]\n",
        "\n",
        "print(f'Accuracy on the training set: {get_accuracy(X_train, y_train, theta)}')\n",
        "print(f'Accuracy on the test set: {get_accuracy(X_test, y_test, theta)}')\n",
        "\n",
        "\n",
        "plt.figure(figsize=(15,10))\n",
        "plt.title('Model accuracy depending on the training step')\n",
        "plt.plot(np.arange(0, len(costs)),\n",
        "[get_accuracy(X_train, y_train, c['weights']) for c in costs],\n",
        "alpha=0.7,\n",
        "label='Train', color='r')\n",
        "plt.plot(np.arange(0, len(costs)),\n",
        "[get_accuracy(X_test, y_test, c['weights']) for c in costs],\n",
        "alpha=0.7,\n",
        "label='Test', color='b')\n",
        "plt.xlabel('Number of iterations')\n",
        "plt.ylabel('Accuracy, %')\n",
        "plt.legend(loc='best')\n",
        "plt.grid(True)\n",
        "plt.xticks(np.arange(0, len(costs)+1, 40))\n",
        "plt.yticks(np.arange(0.5, 1, 0.1))\n",
        "plt.show()\n"
      ]
    },
    {
      "cell_type": "markdown",
      "id": "reliable-black",
      "metadata": {
        "id": "reliable-black"
      },
      "source": [
        "### Implement the Logistic regression using sklearn (2 points)\n",
        "\n",
        "As there is imbalance in the class distribution, add weightage to the Logistic regression.\n",
        "\n",
        "* Find the accuracy with class weightage in Logistic regression\n",
        "* Find the accuracy without class weightage in Logistic regression\n",
        "\n",
        "Hint: [LogisticRegression](https://scikit-learn.org/stable/modules/generated/sklearn.linear_model.LogisticRegression.html)"
      ]
    },
    {
      "cell_type": "code",
      "execution_count": null,
      "id": "impressive-assistant",
      "metadata": {
        "id": "impressive-assistant"
      },
      "outputs": [],
      "source": [
        "# With weightage\n",
        "# YOUR CODE HERE\n",
        "weights_unbalanced = {0:1.0, 1:30.0} #{0:1.0, 1:100.0}\n",
        "model_withweight = LogisticRegression(solver='lbfgs', class_weight=weights_unbalanced)\n",
        "model_withweight.fit(X_train, y_train)\n",
        "y_pred_unbalanced = model_withweight.predict(X_test)"
      ]
    },
    {
      "cell_type": "code",
      "execution_count": null,
      "id": "similar-flower",
      "metadata": {
        "id": "similar-flower"
      },
      "outputs": [],
      "source": [
        "# Without weightage\n",
        "# YOUR CODE HERE\n",
        "weights_balance = {0:1.0, 1:1.0}\n",
        "model_withoutweight = LogisticRegression(solver='lbfgs')\n",
        "model_withoutweight.fit(X_train, y_train)\n",
        "y_pred_balanced = model_withoutweight.predict(X_test)"
      ]
    },
    {
      "cell_type": "code",
      "execution_count": null,
      "id": "sC-7CXG1Jq3b",
      "metadata": {
        "id": "sC-7CXG1Jq3b"
      },
      "outputs": [],
      "source": [
        "X_no_woe_train, X_no_woe_test, y_no_woe_train, y_no_woe_test = train_test_split(X, y, test_size = 0.25, random_state = 0)\n",
        "from sklearn.preprocessing import MinMaxScaler\n",
        "sc = MinMaxScaler()\n",
        "X_train = sc.fit_transform(X_no_woe_train)\n",
        "X_test = sc.transform(X_no_woe_test)\n",
        "weights_balance = {0:1.0, 1:1.0}\n",
        "model_not_woe = LogisticRegression(solver='lbfgs', class_weight=weights_balance, penalty='l2', max_iter=1000)\n",
        "model_not_woe.fit(X_no_woe_train, y_no_woe_train)\n",
        "y_pred_no_woe = model_not_woe.predict(X_no_woe_test)"
      ]
    },
    {
      "cell_type": "markdown",
      "id": "signal-error",
      "metadata": {
        "id": "signal-error"
      },
      "source": [
        "### Credit scoring (1 point)\n",
        "\n",
        "When scaling the model into a scorecard, we will need both the Logistic Regression coefficients from model fitting as well as the transformed WoE values. We will also need to convert the score from the model from the log-odds unit to a points system.\n",
        "For each independent variable Xi, its corresponding score is:\n",
        "\n",
        "$Score = \\sum_{i=1}^{n} (-(β_i × WoE_i + \\frac{α}{n}) × Factor + \\frac{Offset}{n})$\n",
        "\n",
        "Where:\n",
        "\n",
        "βi — logistic regression coefficient for the variable Xi\n",
        "\n",
        "α — logistic regression intercept\n",
        "\n",
        "WoE — Weight of Evidence value for variable Xi\n",
        "\n",
        "n — number of independent variable Xi in the model\n",
        "\n",
        "Factor, Offset — known as scaling parameter\n",
        "\n",
        "  - Factor = pdo / ln(2); pdo is points to double the odds\n",
        "  - Offset = Round_of_Score - {Factor * ln(Odds)}"
      ]
    },
    {
      "cell_type": "code",
      "execution_count": null,
      "id": "UlDg1g5uVahn",
      "metadata": {
        "colab": {
          "base_uri": "https://localhost:8080/",
          "height": 459
        },
        "id": "UlDg1g5uVahn",
        "outputId": "9e5cd901-e2cc-49a0-a573-01d9a23296f7"
      },
      "outputs": [
        {
          "ename": "ValueError",
          "evalue": "ignored",
          "output_type": "error",
          "traceback": [
            "\u001b[0;31m---------------------------------------------------------------------------\u001b[0m",
            "\u001b[0;31mValueError\u001b[0m                                Traceback (most recent call last)",
            "\u001b[0;32m/usr/local/lib/python3.7/dist-packages/xverse/transformer/_binning.py\u001b[0m in \u001b[0;36mfit\u001b[0;34m(self, X, y)\u001b[0m\n\u001b[1;32m    115\u001b[0m             fit_X = pd.DataFrame(check_array(temp_X, accept_sparse=True, force_all_finite=False, \\\n\u001b[0;32m--> 116\u001b[0;31m                                              copy=True), columns=fit_on_features)\n\u001b[0m\u001b[1;32m    117\u001b[0m         \u001b[0;32mexcept\u001b[0m\u001b[0;34m:\u001b[0m\u001b[0;34m\u001b[0m\u001b[0;34m\u001b[0m\u001b[0m\n",
            "\u001b[0;32m/usr/local/lib/python3.7/dist-packages/sklearn/utils/validation.py\u001b[0m in \u001b[0;36mcheck_array\u001b[0;34m(array, accept_sparse, accept_large_sparse, dtype, order, copy, force_all_finite, ensure_2d, allow_nd, ensure_min_samples, ensure_min_features, warn_on_dtype, estimator)\u001b[0m\n\u001b[1;32m    474\u001b[0m         \u001b[0;32mif\u001b[0m \u001b[0mall\u001b[0m\u001b[0;34m(\u001b[0m\u001b[0misinstance\u001b[0m\u001b[0;34m(\u001b[0m\u001b[0mdtype\u001b[0m\u001b[0;34m,\u001b[0m \u001b[0mnp\u001b[0m\u001b[0;34m.\u001b[0m\u001b[0mdtype\u001b[0m\u001b[0;34m)\u001b[0m \u001b[0;32mfor\u001b[0m \u001b[0mdtype\u001b[0m \u001b[0;32min\u001b[0m \u001b[0mdtypes_orig\u001b[0m\u001b[0;34m)\u001b[0m\u001b[0;34m:\u001b[0m\u001b[0;34m\u001b[0m\u001b[0;34m\u001b[0m\u001b[0m\n\u001b[0;32m--> 475\u001b[0;31m             \u001b[0mdtype_orig\u001b[0m \u001b[0;34m=\u001b[0m \u001b[0mnp\u001b[0m\u001b[0;34m.\u001b[0m\u001b[0mresult_type\u001b[0m\u001b[0;34m(\u001b[0m\u001b[0;34m*\u001b[0m\u001b[0mdtypes_orig\u001b[0m\u001b[0;34m)\u001b[0m\u001b[0;34m\u001b[0m\u001b[0;34m\u001b[0m\u001b[0m\n\u001b[0m\u001b[1;32m    476\u001b[0m \u001b[0;34m\u001b[0m\u001b[0m\n",
            "\u001b[0;32m<__array_function__ internals>\u001b[0m in \u001b[0;36mresult_type\u001b[0;34m(*args, **kwargs)\u001b[0m\n",
            "\u001b[0;31mValueError\u001b[0m: at least one array or dtype is required",
            "\nDuring handling of the above exception, another exception occurred:\n",
            "\u001b[0;31mValueError\u001b[0m                                Traceback (most recent call last)",
            "\u001b[0;32m<ipython-input-115-408012538190>\u001b[0m in \u001b[0;36m<module>\u001b[0;34m()\u001b[0m\n\u001b[1;32m      1\u001b[0m \u001b[0;32mfrom\u001b[0m \u001b[0mxverse\u001b[0m\u001b[0;34m.\u001b[0m\u001b[0mtransformer\u001b[0m \u001b[0;32mimport\u001b[0m \u001b[0mWOE\u001b[0m\u001b[0;34m\u001b[0m\u001b[0;34m\u001b[0m\u001b[0m\n\u001b[1;32m      2\u001b[0m \u001b[0mclf\u001b[0m \u001b[0;34m=\u001b[0m \u001b[0mWOE\u001b[0m\u001b[0;34m(\u001b[0m\u001b[0;34m)\u001b[0m\u001b[0;34m\u001b[0m\u001b[0;34m\u001b[0m\u001b[0m\n\u001b[0;32m----> 3\u001b[0;31m \u001b[0mclf\u001b[0m\u001b[0;34m.\u001b[0m\u001b[0mfit\u001b[0m\u001b[0;34m(\u001b[0m\u001b[0mX1\u001b[0m\u001b[0;34m,\u001b[0m \u001b[0my\u001b[0m\u001b[0;34m)\u001b[0m\u001b[0;34m\u001b[0m\u001b[0;34m\u001b[0m\u001b[0m\n\u001b[0m\u001b[1;32m      4\u001b[0m \u001b[0mprint\u001b[0m\u001b[0;34m(\u001b[0m\u001b[0mclf\u001b[0m\u001b[0;34m.\u001b[0m\u001b[0mwoe_df\u001b[0m\u001b[0;34m.\u001b[0m\u001b[0mhead\u001b[0m\u001b[0;34m(\u001b[0m\u001b[0;34m)\u001b[0m\u001b[0;34m)\u001b[0m\u001b[0;34m\u001b[0m\u001b[0;34m\u001b[0m\u001b[0m\n\u001b[1;32m      5\u001b[0m \u001b[0mprint\u001b[0m\u001b[0;34m(\u001b[0m\u001b[0mclf\u001b[0m\u001b[0;34m.\u001b[0m\u001b[0miv_df\u001b[0m\u001b[0;34m)\u001b[0m \u001b[0;31m#information value dataset\u001b[0m\u001b[0;34m\u001b[0m\u001b[0;34m\u001b[0m\u001b[0m\n",
            "\u001b[0;32m/usr/local/lib/python3.7/dist-packages/xverse/transformer/_woe.py\u001b[0m in \u001b[0;36mfit\u001b[0;34m(self, X, y)\u001b[0m\n\u001b[1;32m    135\u001b[0m                                             \u001b[0mcardinality_cutoff\u001b[0m\u001b[0;34m=\u001b[0m\u001b[0mself\u001b[0m\u001b[0;34m.\u001b[0m\u001b[0mmono_cardinality_cutoff\u001b[0m\u001b[0;34m,\u001b[0m\u001b[0;34m\u001b[0m\u001b[0;34m\u001b[0m\u001b[0m\n\u001b[1;32m    136\u001b[0m                                             prefix=self.mono_prefix, custom_binning=self.mono_custom_binning)\n\u001b[0;32m--> 137\u001b[0;31m             \u001b[0mX\u001b[0m \u001b[0;34m=\u001b[0m \u001b[0mself\u001b[0m\u001b[0;34m.\u001b[0m\u001b[0mmono_bin_clf\u001b[0m\u001b[0;34m.\u001b[0m\u001b[0mfit_transform\u001b[0m\u001b[0;34m(\u001b[0m\u001b[0mX\u001b[0m\u001b[0;34m,\u001b[0m \u001b[0my\u001b[0m\u001b[0;34m)\u001b[0m\u001b[0;34m\u001b[0m\u001b[0;34m\u001b[0m\u001b[0m\n\u001b[0m\u001b[1;32m    138\u001b[0m             \u001b[0mself\u001b[0m\u001b[0;34m.\u001b[0m\u001b[0mmono_custom_binning\u001b[0m \u001b[0;34m=\u001b[0m \u001b[0mself\u001b[0m\u001b[0;34m.\u001b[0m\u001b[0mmono_bin_clf\u001b[0m\u001b[0;34m.\u001b[0m\u001b[0mbins\u001b[0m\u001b[0;34m\u001b[0m\u001b[0;34m\u001b[0m\u001b[0m\n\u001b[1;32m    139\u001b[0m \u001b[0;34m\u001b[0m\u001b[0m\n",
            "\u001b[0;32m/usr/local/lib/python3.7/dist-packages/xverse/transformer/_binning.py\u001b[0m in \u001b[0;36mfit_transform\u001b[0;34m(self, X, y)\u001b[0m\n\u001b[1;32m    255\u001b[0m     \u001b[0;31m#Method that describes what we need this transformer to do\u001b[0m\u001b[0;34m\u001b[0m\u001b[0;34m\u001b[0m\u001b[0;34m\u001b[0m\u001b[0m\n\u001b[1;32m    256\u001b[0m     \u001b[0;32mdef\u001b[0m \u001b[0mfit_transform\u001b[0m\u001b[0;34m(\u001b[0m\u001b[0mself\u001b[0m\u001b[0;34m,\u001b[0m \u001b[0mX\u001b[0m\u001b[0;34m,\u001b[0m \u001b[0my\u001b[0m\u001b[0;34m)\u001b[0m\u001b[0;34m:\u001b[0m\u001b[0;34m\u001b[0m\u001b[0;34m\u001b[0m\u001b[0m\n\u001b[0;32m--> 257\u001b[0;31m         \u001b[0;32mreturn\u001b[0m \u001b[0mself\u001b[0m\u001b[0;34m.\u001b[0m\u001b[0mfit\u001b[0m\u001b[0;34m(\u001b[0m\u001b[0mX\u001b[0m\u001b[0;34m,\u001b[0m \u001b[0my\u001b[0m\u001b[0;34m)\u001b[0m\u001b[0;34m.\u001b[0m\u001b[0mtransform\u001b[0m\u001b[0;34m(\u001b[0m\u001b[0mX\u001b[0m\u001b[0;34m)\u001b[0m\u001b[0;34m\u001b[0m\u001b[0;34m\u001b[0m\u001b[0m\n\u001b[0m",
            "\u001b[0;32m/usr/local/lib/python3.7/dist-packages/xverse/transformer/_binning.py\u001b[0m in \u001b[0;36mfit\u001b[0;34m(self, X, y)\u001b[0m\n\u001b[1;32m    117\u001b[0m         \u001b[0;32mexcept\u001b[0m\u001b[0;34m:\u001b[0m\u001b[0;34m\u001b[0m\u001b[0;34m\u001b[0m\u001b[0m\n\u001b[1;32m    118\u001b[0m             raise ValueError(\"The input feature(s) should be numeric type. Some of the input features \\\n\u001b[0;32m--> 119\u001b[0;31m                             has character values in it. Please use a encoder before performing monotonic operations.\")\n\u001b[0m\u001b[1;32m    120\u001b[0m \u001b[0;34m\u001b[0m\u001b[0m\n\u001b[1;32m    121\u001b[0m         \u001b[0;31m#apply the monotonic train function on dataset\u001b[0m\u001b[0;34m\u001b[0m\u001b[0;34m\u001b[0m\u001b[0;34m\u001b[0m\u001b[0m\n",
            "\u001b[0;31mValueError\u001b[0m: The input feature(s) should be numeric type. Some of the input features                             has character values in it. Please use a encoder before performing monotonic operations."
          ]
        }
      ],
      "source": [
        "from xverse.transformer import WOE\n",
        "clf = WOE()\n",
        "clf.fit(X1, y)\n",
        "print(clf.woe_df.head())\n",
        "print(clf.iv_df) #information value dataset\n",
        "X1 = clf.transform(X)\n",
        "X1.head()"
      ]
    },
    {
      "cell_type": "code",
      "execution_count": null,
      "id": "worst-spare",
      "metadata": {
        "colab": {
          "base_uri": "https://localhost:8080/"
        },
        "id": "worst-spare",
        "outputId": "662a8d27-5686-49d2-d2be-4afd8a9d94a2"
      },
      "outputs": [
        {
          "data": {
            "text/plain": [
              "(28.85390081777927, 487.1228762045055)"
            ]
          },
          "execution_count": 21,
          "metadata": {
            "tags": []
          },
          "output_type": "execute_result"
        }
      ],
      "source": [
        "# Scaling factors\n",
        "factor = 20/np.log(2)\n",
        "offset = 600 - ( factor * np.log(50))\n",
        "factor, offset"
      ]
    },
    {
      "cell_type": "code",
      "execution_count": null,
      "id": "jMG8u4rmTGJX",
      "metadata": {
        "colab": {
          "base_uri": "https://localhost:8080/"
        },
        "id": "jMG8u4rmTGJX",
        "outputId": "9c1c405c-2153-4b9d-dfaf-75d23cd77529"
      },
      "outputs": [
        {
          "data": {
            "text/plain": [
              "(1, 10)"
            ]
          },
          "execution_count": 111,
          "metadata": {
            "tags": []
          },
          "output_type": "execute_result"
        }
      ],
      "source": [
        "beta1.shape"
      ]
    },
    {
      "cell_type": "code",
      "execution_count": null,
      "id": "tNdD1vJJUapG",
      "metadata": {
        "colab": {
          "base_uri": "https://localhost:8080/"
        },
        "id": "tNdD1vJJUapG",
        "outputId": "3d351ee2-52ac-4116-9a18-dfcdd151ce33"
      },
      "outputs": [
        {
          "data": {
            "text/plain": [
              "(1,)"
            ]
          },
          "execution_count": 112,
          "metadata": {
            "tags": []
          },
          "output_type": "execute_result"
        }
      ],
      "source": [
        "alpha1.shape"
      ]
    },
    {
      "cell_type": "code",
      "execution_count": null,
      "id": "XwwnwQKMU_Nx",
      "metadata": {
        "colab": {
          "base_uri": "https://localhost:8080/",
          "height": 231
        },
        "id": "XwwnwQKMU_Nx",
        "outputId": "a5ac2a49-c644-4136-db38-f1d275dee488"
      },
      "outputs": [
        {
          "ename": "ValueError",
          "evalue": "ignored",
          "output_type": "error",
          "traceback": [
            "\u001b[0;31m---------------------------------------------------------------------------\u001b[0m",
            "\u001b[0;31mValueError\u001b[0m                                Traceback (most recent call last)",
            "\u001b[0;32m<ipython-input-109-164200d9f012>\u001b[0m in \u001b[0;36m<module>\u001b[0;34m()\u001b[0m\n\u001b[1;32m      4\u001b[0m \u001b[0mweights_of_woe\u001b[0m \u001b[0;34m=\u001b[0m \u001b[0mnp\u001b[0m\u001b[0;34m.\u001b[0m\u001b[0marray\u001b[0m\u001b[0;34m(\u001b[0m\u001b[0mclf\u001b[0m\u001b[0;34m.\u001b[0m\u001b[0mwoe_df\u001b[0m\u001b[0;34m[\u001b[0m\u001b[0;34m'WOE'\u001b[0m\u001b[0;34m]\u001b[0m\u001b[0;34m)\u001b[0m\u001b[0;34m\u001b[0m\u001b[0;34m\u001b[0m\u001b[0m\n\u001b[1;32m      5\u001b[0m \u001b[0;34m\u001b[0m\u001b[0m\n\u001b[0;32m----> 6\u001b[0;31m \u001b[0mbeta_part\u001b[0m \u001b[0;34m=\u001b[0m \u001b[0;34m-\u001b[0m \u001b[0;34m(\u001b[0m\u001b[0mbeta1\u001b[0m\u001b[0;34m*\u001b[0m\u001b[0mweights_of_woe\u001b[0m \u001b[0;34m+\u001b[0m \u001b[0malpha1\u001b[0m\u001b[0;34m)\u001b[0m\u001b[0;34m\u001b[0m\u001b[0;34m\u001b[0m\u001b[0m\n\u001b[0m\u001b[1;32m      7\u001b[0m \u001b[0;34m\u001b[0m\u001b[0m\n\u001b[1;32m      8\u001b[0m \u001b[0mscore\u001b[0m \u001b[0;34m=\u001b[0m \u001b[0mbeta_part\u001b[0m\u001b[0;34m*\u001b[0m\u001b[0mfactor\u001b[0m \u001b[0;34m+\u001b[0m \u001b[0moffset\u001b[0m\u001b[0;34m\u001b[0m\u001b[0;34m\u001b[0m\u001b[0m\n",
            "\u001b[0;31mValueError\u001b[0m: operands could not be broadcast together with shapes (1,10) (25,) "
          ]
        }
      ],
      "source": [
        "# YOUR CODE HERE\n",
        "beta1 = model_withweight.coef_\n",
        "alpha1 = model_withweight.intercept_\n",
        "weights_of_woe = np.array(clf.woe_df['WOE'])\n",
        "\n",
        "beta_part = - (beta1*weights_of_woe + alpha1)\n",
        "\n",
        "score = beta_part*factor + offset\n",
        "print(score)"
      ]
    },
    {
      "cell_type": "markdown",
      "id": "intelligent-internship",
      "metadata": {
        "id": "intelligent-internship"
      },
      "source": [
        "### Performance Metrics (1 point)"
      ]
    },
    {
      "cell_type": "markdown",
      "id": "innocent-hygiene",
      "metadata": {
        "id": "innocent-hygiene"
      },
      "source": [
        "#### Precision"
      ]
    },
    {
      "cell_type": "markdown",
      "id": "Z5g41v-EPzDS",
      "metadata": {
        "id": "Z5g41v-EPzDS"
      },
      "source": [
        "## Precision tells us how many of the correctly predicted cases actually turned out to be positive.\n"
      ]
    },
    {
      "cell_type": "code",
      "execution_count": null,
      "id": "running-remains",
      "metadata": {
        "colab": {
          "base_uri": "https://localhost:8080/"
        },
        "id": "running-remains",
        "outputId": "36de02ec-9fe8-4715-e2be-15c7d4a11a94"
      },
      "outputs": [
        {
          "name": "stdout",
          "output_type": "stream",
          "text": [
            "**********balance***************\n",
            "[[27808   150]\n",
            " [ 1887   223]]\n",
            "**********unbalance***************\n",
            "[[15978 11980]\n",
            " [  281  1829]]\n",
            "**********no-woe***************\n",
            "[[27880    78]\n",
            " [ 2008   102]]\n"
          ]
        }
      ],
      "source": [
        "# YOUR CODE HERE\n",
        "from sklearn.metrics import confusion_matrix, accuracy_score, classification_report\n",
        "print(\"**********balance***************\")\n",
        "cm_balanced = confusion_matrix(y_test, y_pred_balanced)\n",
        "print(cm_balanced)\n",
        "print(\"**********unbalance***************\")\n",
        "cm_unbalanced = confusion_matrix(y_test, y_pred_unbalanced)\n",
        "print(cm_unbalanced)\n",
        "\n",
        "print(\"**********no-woe***************\")\n",
        "cm_no_woe = confusion_matrix(y_no_woe_test, y_pred_no_woe)\n",
        "print(cm_no_woe)\n"
      ]
    },
    {
      "cell_type": "code",
      "execution_count": null,
      "id": "optimum-listening",
      "metadata": {
        "colab": {
          "base_uri": "https://localhost:8080/"
        },
        "id": "optimum-listening",
        "outputId": "6c645f4f-9d3e-4f3d-f581-3e0c0131e613"
      },
      "outputs": [
        {
          "name": "stdout",
          "output_type": "stream",
          "text": [
            "**********balance***************\n",
            "0.9946348093568925\n",
            "**********unbalance***************\n",
            "0.5715001073038128\n",
            "**********no woe***************\n",
            "0.997210100865584\n"
          ]
        }
      ],
      "source": [
        "# YOUR CODE HERE\n",
        "#precision = TP/TP+FP\n",
        "print(\"**********balance***************\")\n",
        "balance_precision = cm_balanced[0,0]/(cm_balanced[0,0]+cm_balanced[0,1])\n",
        "print(balance_precision)\n",
        "print(\"**********unbalance***************\")\n",
        "unbalanced_precision = cm_unbalanced[0,0]/(cm_unbalanced[0,0]+cm_unbalanced[0,1])\n",
        "print(unbalanced_precision)\n",
        "print(\"**********no woe***************\")\n",
        "no_woe_precision = cm_no_woe[0,0]/(cm_no_woe[0,0]+cm_no_woe[0,1])\n",
        "print(no_woe_precision)"
      ]
    },
    {
      "cell_type": "markdown",
      "id": "accessory-keyboard",
      "metadata": {
        "id": "accessory-keyboard"
      },
      "source": [
        "#### Recall"
      ]
    },
    {
      "cell_type": "markdown",
      "id": "x5DC0m9UQCsa",
      "metadata": {
        "id": "x5DC0m9UQCsa"
      },
      "source": [
        "## Recall tells us how many of the actual positive cases we were able to predict correctly with our model.\n"
      ]
    },
    {
      "cell_type": "code",
      "execution_count": null,
      "id": "civic-corner",
      "metadata": {
        "colab": {
          "base_uri": "https://localhost:8080/"
        },
        "id": "civic-corner",
        "outputId": "6e2c4b82-8711-4335-f0f5-d2e020190d98"
      },
      "outputs": [
        {
          "name": "stdout",
          "output_type": "stream",
          "text": [
            "**********balance***************\n",
            "0.9364539484761745\n",
            "**********unbalance***************\n",
            "0.9827172642843963\n",
            "**********no woe***************\n",
            "0.9328158458244111\n"
          ]
        }
      ],
      "source": [
        "# YOUR CODE HERE\n",
        "#recall = TP/TP+FN\n",
        "print(\"**********balance***************\")\n",
        "balance_recall = cm_balanced[0,0]/(cm_balanced[0,0]+cm_balanced[1,0])\n",
        "print(balance_recall)\n",
        "print(\"**********unbalance***************\")\n",
        "unbalance_recall = cm_unbalanced[0,0]/(cm_unbalanced[0,0]+cm_unbalanced[1,0])\n",
        "print(unbalance_recall)\n",
        "print(\"**********no woe***************\")\n",
        "no_woe_recall = cm_no_woe[0,0]/(cm_no_woe[0,0]+cm_no_woe[1,0])\n",
        "print(no_woe_recall)"
      ]
    },
    {
      "cell_type": "markdown",
      "id": "wired-amendment",
      "metadata": {
        "id": "wired-amendment"
      },
      "source": [
        "#### Classification Report"
      ]
    },
    {
      "cell_type": "code",
      "execution_count": null,
      "id": "te1-xgf7pBvN",
      "metadata": {
        "colab": {
          "base_uri": "https://localhost:8080/",
          "height": 871
        },
        "id": "te1-xgf7pBvN",
        "outputId": "9aec89fa-336e-4e1a-e119-072db2b2cec2"
      },
      "outputs": [
        {
          "name": "stdout",
          "output_type": "stream",
          "text": [
            "**********balance***************\n",
            "**********unbalance***************\n",
            "**********no woe***************\n"
          ]
        },
        {
          "data": {
            "text/plain": [
              "<sklearn.metrics._plot.precision_recall_curve.PrecisionRecallDisplay at 0x7f4430d889d0>"
            ]
          },
          "execution_count": 101,
          "metadata": {
            "tags": []
          },
          "output_type": "execute_result"
        },
        {
          "data": {
            "image/png": "[encoded data removed]",
            "text/plain": [
              "<Figure size 432x288 with 1 Axes>"
            ]
          },
          "metadata": {
            "needs_background": "light",
            "tags": []
          },
          "output_type": "display_data"
        },
        {
          "data": {
            "image/png": "[encoded data removed]",
            "text/plain": [
              "<Figure size 432x288 with 1 Axes>"
            ]
          },
          "metadata": {
            "needs_background": "light",
            "tags": []
          },
          "output_type": "display_data"
        },
        {
          "data": {
            "image/png": "[encoded data removed]",
            "text/plain": [
              "<Figure size 432x288 with 1 Axes>"
            ]
          },
          "metadata": {
            "needs_background": "light",
            "tags": []
          },
          "output_type": "display_data"
        }
      ],
      "source": [
        "from sklearn.metrics import plot_precision_recall_curve\n",
        "print(\"**********balance***************\")\n",
        "plot_precision_recall_curve(model_withoutweight, X_test, y_test, name = 'Logistic Regression')\n",
        "print(\"**********unbalance***************\")\n",
        "plot_precision_recall_curve(model_withweight, X_test, y_test, name = 'Logistic Regression')\n",
        "print(\"**********no woe***************\")\n",
        "plot_precision_recall_curve(model_not_woe, X_no_woe_test, y_no_woe_test, name = 'Logistic Regression')"
      ]
    },
    {
      "cell_type": "code",
      "execution_count": null,
      "id": "impossible-machinery",
      "metadata": {
        "colab": {
          "base_uri": "https://localhost:8080/"
        },
        "id": "impossible-machinery",
        "outputId": "58c2cd5c-09df-4a0d-c4dc-3ec879f019d4"
      },
      "outputs": [
        {
          "name": "stdout",
          "output_type": "stream",
          "text": [
            "**********balance***************\n",
            "              precision    recall  f1-score   support\n",
            "\n",
            "           0       0.94      0.99      0.96     27958\n",
            "           1       0.60      0.11      0.18      2110\n",
            "\n",
            "    accuracy                           0.93     30068\n",
            "   macro avg       0.77      0.55      0.57     30068\n",
            "weighted avg       0.91      0.93      0.91     30068\n",
            "\n",
            "**********unbalance***************\n",
            "              precision    recall  f1-score   support\n",
            "\n",
            "           0       0.98      0.57      0.72     27958\n",
            "           1       0.13      0.87      0.23      2110\n",
            "\n",
            "    accuracy                           0.59     30068\n",
            "   macro avg       0.56      0.72      0.48     30068\n",
            "weighted avg       0.92      0.59      0.69     30068\n",
            "\n",
            "**********no woe***************\n",
            "              precision    recall  f1-score   support\n",
            "\n",
            "           0       0.93      1.00      0.96     27958\n",
            "           1       0.57      0.05      0.09      2110\n",
            "\n",
            "    accuracy                           0.93     30068\n",
            "   macro avg       0.75      0.52      0.53     30068\n",
            "weighted avg       0.91      0.93      0.90     30068\n",
            "\n"
          ]
        }
      ],
      "source": [
        "# YOUR CODE HERE\n",
        "print(\"**********balance***************\")\n",
        "accuracy_score(y_test, y_pred_balanced)\n",
        "print(classification_report(y_test, y_pred_balanced))\n",
        "print(\"**********unbalance***************\")\n",
        "accuracy_score(y_test, y_pred_unbalanced)\n",
        "print(classification_report(y_test, y_pred_unbalanced))\n",
        "print(\"**********no woe***************\")\n",
        "accuracy_score(y_no_woe_test, y_pred_no_woe)\n",
        "print(classification_report(y_no_woe_test, y_pred_no_woe))"
      ]
    },
    {
      "cell_type": "markdown",
      "id": "dense-feelings",
      "metadata": {
        "id": "dense-feelings"
      },
      "source": [
        "#### Confusion matrix"
      ]
    },
    {
      "cell_type": "markdown",
      "id": "RR-ivkGyqJXs",
      "metadata": {
        "id": "RR-ivkGyqJXs"
      },
      "source": [
        "### Report Analysis\n",
        "\n",
        "* Comment on the performance of the model with weightage and without weightage\n",
        "* Have you tried implementing Logistic regression with normal features instead of WOE ?\n",
        "  - Compare the classification report for both implementations"
      ]
    },
    {
      "cell_type": "markdown",
      "id": "bLUmdvHzOwY0",
      "metadata": {
        "id": "bLUmdvHzOwY0"
      },
      "source": [
        "# **Performance of the model with weightage and without weightage**\n",
        "##  Please visit above Performance Metrics\n",
        "\n",
        "* **Precision**\n",
        "*  *Balance* 0.9946348093568925\n",
        "*  *Unbalance* 0.5715001073038128\n",
        "*  *No woe* 0.997210100865584\n",
        "\n",
        "\n",
        "* **Recall**\n",
        "*  *Balance* 0.9364539484761745\n",
        "*  *Unbalance* 0.9827172642843963\n",
        "*  *No woe* 0.9328158458244111\n",
        "\n"
      ]
    },
    {
      "cell_type": "markdown",
      "id": "-1X0PLceO_bS",
      "metadata": {
        "id": "-1X0PLceO_bS"
      },
      "source": [
        "# **Have you tried implementing Logistic regression with normal features instead of WOE ?**\n",
        "##    Yes, it is presented in the above."
      ]
    }
  ],
  "metadata": {
    "colab": {
      "include_colab_link": true,
      "provenance": []
    },
    "kernelspec": {
      "display_name": "Python 3",
      "language": "python",
      "name": "python3"
    },
    "language_info": {
      "codemirror_mode": {
        "name": "ipython",
        "version": 3
      },
      "file_extension": ".py",
      "mimetype": "text/x-python",
      "name": "python",
      "nbconvert_exporter": "python",
      "pygments_lexer": "ipython3",
      "version": "3.9.2"
    }
  },
  "nbformat": 4,
  "nbformat_minor": 5
}
