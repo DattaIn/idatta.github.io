{
  "nbformat": 4,
  "nbformat_minor": 0,
  "metadata": {
    "colab": {
      "provenance": [],
      "include_colab_link": true
    },
    "kernelspec": {
      "display_name": "Python 3",
      "language": "python",
      "name": "python3"
    },
    "language_info": {
      "codemirror_mode": {
        "name": "ipython",
        "version": 3
      },
      "file_extension": ".py",
      "mimetype": "text/x-python",
      "name": "python",
      "nbconvert_exporter": "python",
      "pygments_lexer": "ipython3",
      "version": "3.5.2"
    }
  },
  "cells": [
    {
      "cell_type": "markdown",
      "metadata": {
        "id": "view-in-github",
        "colab_type": "text"
      },
      "source": [
        "<a href=\"https://colab.research.google.com/github/DattaIn/idatta.github.io/blob/master/CDS_B1_M0_SNB_Practice_05_Linear_algebraandCalculus.ipynb\" target=\"_parent\"><img src=\"https://colab.research.google.com/assets/colab-badge.svg\" alt=\"Open In Colab\"/></a>"
      ]
    },
    {
      "cell_type": "markdown",
      "metadata": {
        "id": "xOJ9npnFEi-d"
      },
      "source": [
        "# Advanced Certification Program in Computational Data Science\n",
        "## A program by IISc and TalentSprint\n",
        "### Practice Notebook 5: Introduction to Linear algebra and Calculus"
      ]
    },
    {
      "cell_type": "markdown",
      "metadata": {
        "id": "CBkjMtSgFBuv"
      },
      "source": [
        "## Learning Objectives"
      ]
    },
    {
      "cell_type": "markdown",
      "metadata": {
        "id": "FpfeKNyLFEbX"
      },
      "source": [
        "At the end of the experiment, you will be able to :\n",
        "\n",
        "* use computational techniques and algebraic skills essential for the study of systems of linear equations, matrix algebra, vector spaces, eigenvalues and eigenvectors, orthogonality and diagonalization.\n",
        "* use Python libraries to perform linear algebra and calculus related operations."
      ]
    },
    {
      "cell_type": "markdown",
      "metadata": {
        "id": "Bf3YNZOfJJlZ"
      },
      "source": [
        "#### Exercise 1: Import NumPy package under a name np"
      ]
    },
    {
      "cell_type": "code",
      "metadata": {
        "id": "DC26G0WgJJla"
      },
      "source": [
        "import numpy as np"
      ],
      "execution_count": null,
      "outputs": []
    },
    {
      "cell_type": "markdown",
      "metadata": {
        "id": "vsSuj6AtJJlb"
      },
      "source": [
        "#### Exercise 2: Create below Matrix using Numpy Package\n",
        "\n",
        "\\begin{bmatrix}\n",
        "4 & 5 & 6 & \\\\\n",
        "55 & 22 & 1  & \\\\\n",
        " 6 & 21 & 44 & \\\\\n",
        " 78 & 23 & 16 &\n",
        "\\end{bmatrix}\n"
      ]
    },
    {
      "cell_type": "code",
      "metadata": {
        "id": "_u6fe4ngJJlc"
      },
      "source": [
        "A = np.matrix([[4, 5, 6], [55, 22, 1], [6, 21, 44], [78, 23, 16]])"
      ],
      "execution_count": null,
      "outputs": []
    },
    {
      "cell_type": "markdown",
      "metadata": {
        "id": "Q46W6-RGJJld"
      },
      "source": [
        "#### Exercise 3: Find the number of rows and columns of above created matrix."
      ]
    },
    {
      "cell_type": "code",
      "metadata": {
        "id": "SyhXCcn2JJle"
      },
      "source": [
        "A.shape"
      ],
      "execution_count": null,
      "outputs": []
    },
    {
      "cell_type": "markdown",
      "metadata": {
        "id": "OmsxwHaRJJle"
      },
      "source": [
        "#### Exercise 4: Given two Matrices\n",
        "\n",
        "\n",
        "\\begin{bmatrix}\n",
        "0 & 2\\\\\n",
        "1 & 4\n",
        "\\end{bmatrix}\n",
        "\n",
        "\\begin{bmatrix}\n",
        "1 & 3\\\\\n",
        "2 & 1\n",
        "\\end{bmatrix}\n",
        "\n",
        "\n",
        "Perform the following operations\n",
        "\n",
        "- Addition\n",
        "- Multiplication"
      ]
    },
    {
      "cell_type": "code",
      "metadata": {
        "id": "8wjLQbBEJJlf"
      },
      "source": [
        "A = np.array([[0,2],\n",
        "              [1,4]])\n",
        "B = np.array([[1,3],\n",
        "              [2,1]])"
      ],
      "execution_count": null,
      "outputs": []
    },
    {
      "cell_type": "code",
      "metadata": {
        "id": "q6n0Pka9JJlg"
      },
      "source": [
        "A + B"
      ],
      "execution_count": null,
      "outputs": []
    },
    {
      "cell_type": "code",
      "metadata": {
        "id": "KYqafvl1JJlg"
      },
      "source": [
        "A @ B"
      ],
      "execution_count": null,
      "outputs": []
    },
    {
      "cell_type": "markdown",
      "metadata": {
        "id": "yUQwAXrqJJlh"
      },
      "source": [
        "#### Exercise 5: Given a Matrix\n",
        "\n",
        "\\begin{bmatrix}\n",
        "1 & 3\\\\\n",
        "2 & 1\n",
        "\\end{bmatrix}\n",
        "\n",
        "Find the Transpose of it."
      ]
    },
    {
      "cell_type": "code",
      "metadata": {
        "id": "z9mUpcNpJJli"
      },
      "source": [
        "B.T"
      ],
      "execution_count": null,
      "outputs": []
    },
    {
      "cell_type": "markdown",
      "metadata": {
        "id": "juHsq_e0JJli"
      },
      "source": [
        "#### Exercise 6: Given a matrix\n",
        "\n",
        "\\begin{bmatrix}\n",
        "1 & 2 & 1\\\\\n",
        "4 & 4 & 5\\\\\n",
        "6 & 7 & 7\n",
        "\\end{bmatrix}\n",
        "\n",
        "Find the inverse of it."
      ]
    },
    {
      "cell_type": "code",
      "metadata": {
        "id": "GBJ8sGUGJJlj"
      },
      "source": [
        "A = np.array([[1, 2, 1],\n",
        "              [4, 4, 5],\n",
        "              [6, 7, 7]])\n",
        "np.linalg.inv(A)"
      ],
      "execution_count": null,
      "outputs": []
    },
    {
      "cell_type": "markdown",
      "metadata": {
        "id": "gTUE9KzVJJlk"
      },
      "source": [
        "#### Exercise 7: Given a matrix\n",
        "\n",
        "\\begin{bmatrix}\n",
        "1 & 2 & 1\\\\\n",
        "4 & 4 & 5\\\\\n",
        "6 & 7 & 7 \\\\\n",
        "3 & 2 & 4\n",
        "\\end{bmatrix}\n",
        "\n",
        "Display the first column elements.\n",
        "\n",
        "**Note:** Indexing start from '0'"
      ]
    },
    {
      "cell_type": "code",
      "metadata": {
        "id": "UTUFlTazJJlk"
      },
      "source": [
        "A = np.array([[1, 2, 1],\n",
        "              [4, 4, 5],\n",
        "              [6, 7, 7],\n",
        "              [3, 2, 4]])\n",
        "\n",
        "A[:,0]"
      ],
      "execution_count": null,
      "outputs": []
    },
    {
      "cell_type": "markdown",
      "metadata": {
        "id": "mqOrsOubJJll"
      },
      "source": [
        "#### Exercise 8: Given a matrix\n",
        "\n",
        "\\begin{bmatrix}\n",
        "1 & 2 & 1\\\\\n",
        "4 & 4 & 5\\\\\n",
        "6 & 7 & 7 \\\\\n",
        "3 & 2 & 4\n",
        "\\end{bmatrix}\n",
        "\n",
        "Display the first row elements."
      ]
    },
    {
      "cell_type": "code",
      "metadata": {
        "id": "HEbc2YPcJJll"
      },
      "source": [
        "A[0]"
      ],
      "execution_count": null,
      "outputs": []
    },
    {
      "cell_type": "markdown",
      "metadata": {
        "id": "_64IEezrJJlr"
      },
      "source": [
        "#### Exercise 9:  Given a matrix\n",
        "\n",
        "\\begin{bmatrix}\n",
        "1 & 2 & 1\\\\\n",
        "4 & 4 & 5\\\\\n",
        "6 & 7 & 7 \\\\\n",
        "3 & 2 & 4\n",
        "\\end{bmatrix}\n",
        "\n",
        "Find the element in the second row and third column."
      ]
    },
    {
      "cell_type": "code",
      "metadata": {
        "id": "eLgYwGm8JJlt"
      },
      "source": [
        "A[1,2]"
      ],
      "execution_count": null,
      "outputs": []
    },
    {
      "cell_type": "markdown",
      "metadata": {
        "id": "ZgOLLvXyJJlt"
      },
      "source": [
        "#### Exercise 10: Given a matrix\n",
        "\n",
        "\\begin{bmatrix}\n",
        "1 & 2 & 1\\\\\n",
        "4 & 4 & 5\\\\\n",
        "6 & 7 & 7 \\\\\n",
        "3 & 2 & 4\n",
        "\\end{bmatrix}\n",
        "\n",
        "Display first and second row elements"
      ]
    },
    {
      "cell_type": "code",
      "metadata": {
        "id": "BR01o7ZXJJlu"
      },
      "source": [
        "A[0:2,0:4]"
      ],
      "execution_count": null,
      "outputs": []
    },
    {
      "cell_type": "markdown",
      "metadata": {
        "id": "jnypz7DFJJlu"
      },
      "source": [
        "#### Exercise 11: Given a matrix\n",
        "\n",
        "\\begin{bmatrix}\n",
        "1 & 2 & 1\\\\\n",
        "4 & 4 & 5\\\\\n",
        "6 & 7 & 7 \\\\\n",
        "3 & 2 & 4\n",
        "\\end{bmatrix}\n",
        "\n",
        "Display first and third row elements"
      ]
    },
    {
      "cell_type": "code",
      "metadata": {
        "id": "I8mxBuVvJJlv"
      },
      "source": [
        "A[[0,2],:]"
      ],
      "execution_count": null,
      "outputs": []
    },
    {
      "cell_type": "markdown",
      "metadata": {
        "id": "8DHWEIELJJlv"
      },
      "source": [
        "#### Exercise 12: Given a matrix\n",
        "\n",
        "\\begin{bmatrix}\n",
        "1 & 2\\\\\n",
        "3 & 4\\\\\n",
        "\\end{bmatrix}\n",
        "\n",
        "Find the trace of it."
      ]
    },
    {
      "cell_type": "code",
      "metadata": {
        "id": "7ARo5mfHJJlw"
      },
      "source": [
        "X = np.array([[1, 2], [3,  4]])\n",
        "np.trace(X)"
      ],
      "execution_count": null,
      "outputs": []
    },
    {
      "cell_type": "markdown",
      "metadata": {
        "id": "AoSrvBnXJJlw"
      },
      "source": [
        "#### Exercise 13: Define square 3x3  matrix and find lower triangular matrix"
      ]
    },
    {
      "cell_type": "code",
      "metadata": {
        "id": "KEqOS6vzJJlx"
      },
      "source": [
        "A = np.array([\n",
        "    [1, 2, 3],\n",
        "    [2, 1, 2],\n",
        "    [3, 2, 1]\n",
        "])\n",
        "print(A)\n",
        "# lower triangular matrix\n",
        "lower = np.tril(A)\n",
        "print(lower)"
      ],
      "execution_count": null,
      "outputs": []
    },
    {
      "cell_type": "markdown",
      "metadata": {
        "id": "gtHw0S-4JJlx"
      },
      "source": [
        "#### Exercise 14: Define square 3x3 matrix and find upper triangular matrix"
      ]
    },
    {
      "cell_type": "code",
      "metadata": {
        "id": "MvIFG3vRJJly"
      },
      "source": [
        "A = np.array([\n",
        "    [1, 2, 3],\n",
        "    [2, 1, 2],\n",
        "    [3, 2, 1]\n",
        "])\n",
        "# upper triangular matrix\n",
        "upper = np.triu(A)\n",
        "print(upper)# YOUR CODE HERE"
      ],
      "execution_count": null,
      "outputs": []
    },
    {
      "cell_type": "markdown",
      "metadata": {
        "id": "n4PkIxV_JJlz"
      },
      "source": [
        "#### Exercise 15: Define 5x3  matrix and find diagonal vector of it."
      ]
    },
    {
      "cell_type": "code",
      "metadata": {
        "id": "f63X_R1NJJlz"
      },
      "source": [
        "A = np.array([\n",
        "    [1, 2, 3],\n",
        "    [2, 1, 2],\n",
        "    [3, 2, 1],\n",
        "    [1, 2, 3],\n",
        "    [2, 1, 2]\n",
        "])\n",
        "# get diagonal vector\n",
        "d = np.diag(A)\n",
        "print(d)"
      ],
      "execution_count": null,
      "outputs": []
    },
    {
      "cell_type": "markdown",
      "metadata": {
        "id": "5lpOvU93JJl0"
      },
      "source": [
        "#### Exercise 16: Given a matrix\n",
        "\n",
        "\\begin{bmatrix}\n",
        "1 & 2 & 5\\\\\n",
        "3 & 4 & 3\\\\\n",
        "4 & 6 & 7\n",
        "\\end{bmatrix}\n",
        "\n",
        "Find determine of it."
      ]
    },
    {
      "cell_type": "code",
      "metadata": {
        "id": "R2CxnFM7JJl0"
      },
      "source": [
        "C = np.array([[1, 2, 5], [3, 4, 3], [4, 6, 7]])\n",
        "from numpy.linalg import det\n",
        "det(C)"
      ],
      "execution_count": null,
      "outputs": []
    },
    {
      "cell_type": "markdown",
      "metadata": {
        "id": "qHhYgZl3JJl1"
      },
      "source": [
        "#### Exercise 17: Consider a function $ f(x, y) = 2y + y^{2}$. Find the partial differentiation of f(x, y) with respect to x."
      ]
    },
    {
      "cell_type": "code",
      "metadata": {
        "id": "LwpxTV1MJJl1"
      },
      "source": [
        "from sympy import *\n",
        "x = Symbol('x')\n",
        "y = Symbol('y')\n",
        "Fxy = 2*x*y + x*y**2\n",
        "Derivative(Fxy, x).doit()"
      ],
      "execution_count": null,
      "outputs": []
    },
    {
      "cell_type": "markdown",
      "metadata": {
        "id": "p-PpFu_mJJl1"
      },
      "source": [
        "#### Exercise 18: Given a Matrix\n",
        "\n",
        "\\begin{bmatrix}\n",
        "4 & 5 & 6 & \\\\\n",
        "55 & 22 & 1  & \\\\\n",
        " 6 & 21 & 44 &  \n",
        "\\end{bmatrix}\n",
        "\n",
        "Find the eigen values and eigen vector"
      ]
    },
    {
      "cell_type": "code",
      "metadata": {
        "id": "WJjW9KRSJJl2"
      },
      "source": [
        "from numpy import linalg as LA\n",
        "A = np.array([[4, 5, 6], [55, 22, 1], [6, 21, 44]])\n",
        "w, v = LA.eig(A)"
      ],
      "execution_count": null,
      "outputs": []
    },
    {
      "cell_type": "markdown",
      "metadata": {
        "id": "3Y55vKkRJJl2"
      },
      "source": [
        "#### Exercise 19: Consider a function $ f(x) = e^{3x}$. Find the second differentiation of f(x) with respect to  x.\n",
        "\n",
        "Hint: use chain rule"
      ]
    },
    {
      "cell_type": "code",
      "metadata": {
        "id": "Gd-MtCcGJJl3"
      },
      "source": [
        "import sympy as sp\n",
        "sp.diff(sp.exp(3*x))\n",
        "sp.diff(x**3,x,x)"
      ],
      "execution_count": null,
      "outputs": []
    },
    {
      "cell_type": "markdown",
      "metadata": {
        "id": "VWViJMKvJJl3"
      },
      "source": [
        "#### Exercise 20: Consider a function $ f(x) = (x ^ {2} - 3x + 5) ^ {3} $ . Find the partial differentiation of f(x) with respect of x"
      ]
    },
    {
      "cell_type": "code",
      "metadata": {
        "id": "myNVOZR_JJl4"
      },
      "source": [
        "sp.diff((x ** 2 - 3 * x  + 5) ** 3)"
      ],
      "execution_count": null,
      "outputs": []
    },
    {
      "cell_type": "code",
      "metadata": {
        "id": "2c7VgwNZJJl5"
      },
      "source": [],
      "execution_count": null,
      "outputs": []
    }
  ]
}