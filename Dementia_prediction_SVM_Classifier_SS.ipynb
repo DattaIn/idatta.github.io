{
  "nbformat": 4,
  "nbformat_minor": 5,
  "metadata": {
    "kernelspec": {
      "display_name": "Python 3",
      "language": "python",
      "name": "python3"
    },
    "language_info": {
      "codemirror_mode": {
        "name": "ipython",
        "version": 3
      },
      "file_extension": ".py",
      "mimetype": "text/x-python",
      "name": "python",
      "nbconvert_exporter": "python",
      "pygments_lexer": "ipython3",
      "version": "3.9.2"
    },
    "colab": {
      "provenance": [],
      "include_colab_link": true
    }
  },
  "cells": [
    {
      "cell_type": "markdown",
      "metadata": {
        "id": "view-in-github",
        "colab_type": "text"
      },
      "source": [
        "<a href=\"https://colab.research.google.com/github/DattaIn/idatta.github.io/blob/master/Dementia_prediction_SVM_Classifier_SS.ipynb\" target=\"_parent\"><img src=\"https://colab.research.google.com/assets/colab-badge.svg\" alt=\"Open In Colab\"/></a>"
      ]
    },
    {
      "cell_type": "markdown",
      "metadata": {
        "id": "associate-sunset"
      },
      "source": [
        "# Advanced Certification Program in Computational Data Science\n",
        "## A program by IISc and TalentSprint\n",
        "### Mini-Project: Dementia prediction using SVM"
      ],
      "id": "associate-sunset"
    },
    {
      "cell_type": "markdown",
      "metadata": {
        "id": "handled-tooth"
      },
      "source": [
        "## Problem Statement"
      ],
      "id": "handled-tooth"
    },
    {
      "cell_type": "markdown",
      "metadata": {
        "id": "accessory-watts"
      },
      "source": [
        "Prediction of Dementia using an SVM model on brain MRI features"
      ],
      "id": "accessory-watts"
    },
    {
      "cell_type": "markdown",
      "metadata": {
        "id": "twenty-indonesia"
      },
      "source": [
        "## Learning Objectives"
      ],
      "id": "twenty-indonesia"
    },
    {
      "cell_type": "markdown",
      "metadata": {
        "id": "honest-friendship"
      },
      "source": [
        "At the end of the mini-project, you will be able to :\n",
        "\n",
        "* perform data exploration, preprocessing and visualization\n",
        "* implement SVM Classifier on the data\n",
        "* explore various parameters of SVM classifier and implement OneVsOne classifier\n",
        "* calculate the metrics and plot the roc_curve"
      ],
      "id": "honest-friendship"
    },
    {
      "cell_type": "markdown",
      "metadata": {
        "id": "rapid-hierarchy"
      },
      "source": [
        "## Information"
      ],
      "id": "rapid-hierarchy"
    },
    {
      "cell_type": "markdown",
      "metadata": {
        "id": "prescribed-matter"
      },
      "source": [
        "**About Dementia**\n",
        "\n",
        "Dementia is a general term for loss of memory and other mental abilities severe enough to interfere with daily life. It is caused by physical changes in the brain. Alzheimer's is the most common type of dementia, but there are many kinds.\n",
        "\n",
        "**Brain Imaging via magnetic resonance imaging (MRI) and Machine Learning**\n",
        "\n",
        "* MRI is used for the evaluation of patients with suspected Alzheimer's disease\n",
        "* MRIs detect both, local and generalized shrinkage of brain tissue.\n",
        "* MRI features predict the rate of decline of AD and may guide therapy in the future\n",
        "* Using machine learning on MRI features could help in automatedly and accurately predicting the progress of a patient from mild cognitive impairment to dementia\n",
        "\n",
        "To understand the basics of MRI technique, you could refer [here](https://case.edu/med/neurology/NR/MRI%20Basics.htm)"
      ],
      "id": "prescribed-matter"
    },
    {
      "cell_type": "markdown",
      "metadata": {
        "id": "lesbian-bottom"
      },
      "source": [
        "## Dataset"
      ],
      "id": "lesbian-bottom"
    },
    {
      "cell_type": "markdown",
      "metadata": {
        "id": "fixed-trainer"
      },
      "source": [
        "The dataset chosen for this mini-project is [OASIS - Longitudinal brain MRI Dataset](https://www.oasis-brains.org/). This dataset consists of a longitudinal MRI collection of 150 subjects aged 60 to 96. Each subject was scanned on two or more visits, separated by at least one year for a total of 373 imaging sessions. For each subject, 3 or 4 individual T1-weighted MRI scans obtained in single scan sessions are included. The subjects are all right-handed and include both men and women. 72 of the subjects were characterized as nondemented throughout the study. 64 of the included subjects were characterized as demented at the time of their initial visits and remained so for subsequent scans, including 51 individuals with mild to moderate Alzheimer’s disease. Another 14 subjects were characterized as nondemented at the time of their initial visit and were subsequently characterized as demented at a later visit.\n",
        "\n",
        "**Dataset fields:**\n",
        "\n",
        "* Subject ID - Subject Identification\n",
        "* MRI ID - MRI Exam Identification\n",
        "* Group - Target variable with 3 labels ('NonDemented', 'Demented', 'Converted')\n",
        "* Visit - Visit order\n",
        "* MR Delay - MR Delay Time (Contrast)\n",
        "* M/F - Male or Female\n",
        "* Hand - Unique value 'R'\n",
        "* MMSE - Mini-Mental State Examination score (range is from 0 = worst to 30 = best)\n",
        "* CDR - Clinical Dementia Rating (0 = no dementia, 0.5 = very mild AD, 1 = mild AD, 2 = moderate AD)\n",
        "* Derived anatomic volumes\n",
        "* eTIV - Estimated total intracranial volume, mm3\n",
        "* nWBV - Normalized whole-brain volume, expressed as a percent of all voxels in the atlas-masked image that are labeled as gray or white matter by the automated tissue segmentation process\n",
        "* ASF - Atlas scaling factor (unitless). A computed scaling factor that transforms native-space brain and skull to the atlas target (i.e., the determinant of the transform matrix)\n",
        "\n",
        "For learning more on building a machine learning model to predict dementia using SVM, refer [here](https://www.ncbi.nlm.nih.gov/pmc/articles/PMC7408873/)."
      ],
      "id": "fixed-trainer"
    },
    {
      "cell_type": "markdown",
      "metadata": {
        "id": "operating-latter"
      },
      "source": [
        "## Grading = 10 Points"
      ],
      "id": "operating-latter"
    },
    {
      "cell_type": "code",
      "metadata": {
        "id": "talented-upset",
        "colab": {
          "base_uri": "https://localhost:8080/"
        },
        "cellView": "form",
        "outputId": "7b810f09-bb30-4b2c-d6a3-2718e5c8f159"
      },
      "source": [
        "#@title Download the dataset\n",
        "!wget -qq https://cdn.iisc.talentsprint.com/CDS/MiniProjects/oasis_longitudinal.csv\n",
        "print(\"Data downloaded successfully!\")"
      ],
      "id": "talented-upset",
      "execution_count": null,
      "outputs": [
        {
          "output_type": "stream",
          "text": [
            "Data downloaded successfully!\n"
          ],
          "name": "stdout"
        }
      ]
    },
    {
      "cell_type": "markdown",
      "metadata": {
        "id": "appreciated-pattern"
      },
      "source": [
        "### Import required packages"
      ],
      "id": "appreciated-pattern"
    },
    {
      "cell_type": "code",
      "metadata": {
        "id": "loose-marsh"
      },
      "source": [
        "import pandas as pd\n",
        "import numpy as np\n",
        "import seaborn as sns\n",
        "from matplotlib import pyplot as plt\n",
        "import math\n",
        "# sklearn imports\n",
        "from sklearn.preprocessing import LabelEncoder\n",
        "from sklearn import metrics\n",
        "from sklearn.model_selection import train_test_split\n",
        "from sklearn.svm import SVC\n",
        "from sklearn.multiclass import OneVsRestClassifier\n",
        "from sklearn.multiclass import OneVsOneClassifier"
      ],
      "id": "loose-marsh",
      "execution_count": null,
      "outputs": []
    },
    {
      "cell_type": "markdown",
      "metadata": {
        "id": "compressed-reflection"
      },
      "source": [
        "### Load the dataset"
      ],
      "id": "compressed-reflection"
    },
    {
      "cell_type": "code",
      "metadata": {
        "id": "fatty-graph"
      },
      "source": [
        "# YOUR CODE HERE\n",
        "df = pd.read_csv('https://cdn.iisc.talentsprint.com/CDS/MiniProjects/oasis_longitudinal.csv')"
      ],
      "id": "fatty-graph",
      "execution_count": null,
      "outputs": []
    },
    {
      "cell_type": "code",
      "metadata": {
        "colab": {
          "base_uri": "https://localhost:8080/",
          "height": 203
        },
        "id": "PLsVd9-btUUK",
        "outputId": "499a0694-0bbc-4774-9f8e-4eb4446eff17"
      },
      "source": [
        "df.head()"
      ],
      "id": "PLsVd9-btUUK",
      "execution_count": null,
      "outputs": [
        {
          "output_type": "execute_result",
          "data": {
            "text/html": [
              "<div>\n",
              "<style scoped>\n",
              "    .dataframe tbody tr th:only-of-type {\n",
              "        vertical-align: middle;\n",
              "    }\n",
              "\n",
              "    .dataframe tbody tr th {\n",
              "        vertical-align: top;\n",
              "    }\n",
              "\n",
              "    .dataframe thead th {\n",
              "        text-align: right;\n",
              "    }\n",
              "</style>\n",
              "<table border=\"1\" class=\"dataframe\">\n",
              "  <thead>\n",
              "    <tr style=\"text-align: right;\">\n",
              "      <th></th>\n",
              "      <th>Subject ID</th>\n",
              "      <th>MRI ID</th>\n",
              "      <th>Group</th>\n",
              "      <th>Visit</th>\n",
              "      <th>MR Delay</th>\n",
              "      <th>M/F</th>\n",
              "      <th>Hand</th>\n",
              "      <th>Age</th>\n",
              "      <th>EDUC</th>\n",
              "      <th>SES</th>\n",
              "      <th>MMSE</th>\n",
              "      <th>CDR</th>\n",
              "      <th>eTIV</th>\n",
              "      <th>nWBV</th>\n",
              "      <th>ASF</th>\n",
              "    </tr>\n",
              "  </thead>\n",
              "  <tbody>\n",
              "    <tr>\n",
              "      <th>0</th>\n",
              "      <td>OAS2_0001</td>\n",
              "      <td>OAS2_0001_MR1</td>\n",
              "      <td>Nondemented</td>\n",
              "      <td>1</td>\n",
              "      <td>0</td>\n",
              "      <td>M</td>\n",
              "      <td>R</td>\n",
              "      <td>87</td>\n",
              "      <td>14</td>\n",
              "      <td>2.0</td>\n",
              "      <td>27.0</td>\n",
              "      <td>0.0</td>\n",
              "      <td>1987</td>\n",
              "      <td>0.696</td>\n",
              "      <td>0.883</td>\n",
              "    </tr>\n",
              "    <tr>\n",
              "      <th>1</th>\n",
              "      <td>OAS2_0001</td>\n",
              "      <td>OAS2_0001_MR2</td>\n",
              "      <td>Nondemented</td>\n",
              "      <td>2</td>\n",
              "      <td>457</td>\n",
              "      <td>M</td>\n",
              "      <td>R</td>\n",
              "      <td>88</td>\n",
              "      <td>14</td>\n",
              "      <td>2.0</td>\n",
              "      <td>30.0</td>\n",
              "      <td>0.0</td>\n",
              "      <td>2004</td>\n",
              "      <td>0.681</td>\n",
              "      <td>0.876</td>\n",
              "    </tr>\n",
              "    <tr>\n",
              "      <th>2</th>\n",
              "      <td>OAS2_0002</td>\n",
              "      <td>OAS2_0002_MR1</td>\n",
              "      <td>Demented</td>\n",
              "      <td>1</td>\n",
              "      <td>0</td>\n",
              "      <td>M</td>\n",
              "      <td>R</td>\n",
              "      <td>75</td>\n",
              "      <td>12</td>\n",
              "      <td>NaN</td>\n",
              "      <td>23.0</td>\n",
              "      <td>0.5</td>\n",
              "      <td>1678</td>\n",
              "      <td>0.736</td>\n",
              "      <td>1.046</td>\n",
              "    </tr>\n",
              "    <tr>\n",
              "      <th>3</th>\n",
              "      <td>OAS2_0002</td>\n",
              "      <td>OAS2_0002_MR2</td>\n",
              "      <td>Demented</td>\n",
              "      <td>2</td>\n",
              "      <td>560</td>\n",
              "      <td>M</td>\n",
              "      <td>R</td>\n",
              "      <td>76</td>\n",
              "      <td>12</td>\n",
              "      <td>NaN</td>\n",
              "      <td>28.0</td>\n",
              "      <td>0.5</td>\n",
              "      <td>1738</td>\n",
              "      <td>0.713</td>\n",
              "      <td>1.010</td>\n",
              "    </tr>\n",
              "    <tr>\n",
              "      <th>4</th>\n",
              "      <td>OAS2_0002</td>\n",
              "      <td>OAS2_0002_MR3</td>\n",
              "      <td>Demented</td>\n",
              "      <td>3</td>\n",
              "      <td>1895</td>\n",
              "      <td>M</td>\n",
              "      <td>R</td>\n",
              "      <td>80</td>\n",
              "      <td>12</td>\n",
              "      <td>NaN</td>\n",
              "      <td>22.0</td>\n",
              "      <td>0.5</td>\n",
              "      <td>1698</td>\n",
              "      <td>0.701</td>\n",
              "      <td>1.034</td>\n",
              "    </tr>\n",
              "  </tbody>\n",
              "</table>\n",
              "</div>"
            ],
            "text/plain": [
              "  Subject ID         MRI ID        Group  Visit  ...  CDR  eTIV   nWBV    ASF\n",
              "0  OAS2_0001  OAS2_0001_MR1  Nondemented      1  ...  0.0  1987  0.696  0.883\n",
              "1  OAS2_0001  OAS2_0001_MR2  Nondemented      2  ...  0.0  2004  0.681  0.876\n",
              "2  OAS2_0002  OAS2_0002_MR1     Demented      1  ...  0.5  1678  0.736  1.046\n",
              "3  OAS2_0002  OAS2_0002_MR2     Demented      2  ...  0.5  1738  0.713  1.010\n",
              "4  OAS2_0002  OAS2_0002_MR3     Demented      3  ...  0.5  1698  0.701  1.034\n",
              "\n",
              "[5 rows x 15 columns]"
            ]
          },
          "metadata": {
            "tags": []
          },
          "execution_count": 4
        }
      ]
    },
    {
      "cell_type": "code",
      "metadata": {
        "colab": {
          "base_uri": "https://localhost:8080/"
        },
        "id": "x0b9C0zKtX9Q",
        "outputId": "4257b099-45fc-4e70-a28c-cc44be29069c"
      },
      "source": [
        "df.info()"
      ],
      "id": "x0b9C0zKtX9Q",
      "execution_count": null,
      "outputs": [
        {
          "output_type": "stream",
          "text": [
            "<class 'pandas.core.frame.DataFrame'>\n",
            "RangeIndex: 373 entries, 0 to 372\n",
            "Data columns (total 15 columns):\n",
            " #   Column      Non-Null Count  Dtype  \n",
            "---  ------      --------------  -----  \n",
            " 0   Subject ID  373 non-null    object \n",
            " 1   MRI ID      373 non-null    object \n",
            " 2   Group       373 non-null    object \n",
            " 3   Visit       373 non-null    int64  \n",
            " 4   MR Delay    373 non-null    int64  \n",
            " 5   M/F         373 non-null    object \n",
            " 6   Hand        373 non-null    object \n",
            " 7   Age         373 non-null    int64  \n",
            " 8   EDUC        373 non-null    int64  \n",
            " 9   SES         354 non-null    float64\n",
            " 10  MMSE        371 non-null    float64\n",
            " 11  CDR         373 non-null    float64\n",
            " 12  eTIV        373 non-null    int64  \n",
            " 13  nWBV        373 non-null    float64\n",
            " 14  ASF         373 non-null    float64\n",
            "dtypes: float64(5), int64(5), object(5)\n",
            "memory usage: 43.8+ KB\n"
          ],
          "name": "stdout"
        }
      ]
    },
    {
      "cell_type": "code",
      "metadata": {
        "colab": {
          "base_uri": "https://localhost:8080/",
          "height": 295
        },
        "id": "GyiZFSgNub9R",
        "outputId": "1b4a310f-f0c7-4176-ce73-89333a83d06c"
      },
      "source": [
        "df.describe()"
      ],
      "id": "GyiZFSgNub9R",
      "execution_count": null,
      "outputs": [
        {
          "output_type": "execute_result",
          "data": {
            "text/html": [
              "<div>\n",
              "<style scoped>\n",
              "    .dataframe tbody tr th:only-of-type {\n",
              "        vertical-align: middle;\n",
              "    }\n",
              "\n",
              "    .dataframe tbody tr th {\n",
              "        vertical-align: top;\n",
              "    }\n",
              "\n",
              "    .dataframe thead th {\n",
              "        text-align: right;\n",
              "    }\n",
              "</style>\n",
              "<table border=\"1\" class=\"dataframe\">\n",
              "  <thead>\n",
              "    <tr style=\"text-align: right;\">\n",
              "      <th></th>\n",
              "      <th>Visit</th>\n",
              "      <th>MR Delay</th>\n",
              "      <th>Age</th>\n",
              "      <th>EDUC</th>\n",
              "      <th>SES</th>\n",
              "      <th>MMSE</th>\n",
              "      <th>CDR</th>\n",
              "      <th>eTIV</th>\n",
              "      <th>nWBV</th>\n",
              "      <th>ASF</th>\n",
              "    </tr>\n",
              "  </thead>\n",
              "  <tbody>\n",
              "    <tr>\n",
              "      <th>count</th>\n",
              "      <td>373.000000</td>\n",
              "      <td>373.000000</td>\n",
              "      <td>373.000000</td>\n",
              "      <td>373.000000</td>\n",
              "      <td>354.000000</td>\n",
              "      <td>371.000000</td>\n",
              "      <td>373.000000</td>\n",
              "      <td>373.000000</td>\n",
              "      <td>373.000000</td>\n",
              "      <td>373.000000</td>\n",
              "    </tr>\n",
              "    <tr>\n",
              "      <th>mean</th>\n",
              "      <td>1.882038</td>\n",
              "      <td>595.104558</td>\n",
              "      <td>77.013405</td>\n",
              "      <td>14.597855</td>\n",
              "      <td>2.460452</td>\n",
              "      <td>27.342318</td>\n",
              "      <td>0.290885</td>\n",
              "      <td>1488.128686</td>\n",
              "      <td>0.729568</td>\n",
              "      <td>1.195461</td>\n",
              "    </tr>\n",
              "    <tr>\n",
              "      <th>std</th>\n",
              "      <td>0.922843</td>\n",
              "      <td>635.485118</td>\n",
              "      <td>7.640957</td>\n",
              "      <td>2.876339</td>\n",
              "      <td>1.134005</td>\n",
              "      <td>3.683244</td>\n",
              "      <td>0.374557</td>\n",
              "      <td>176.139286</td>\n",
              "      <td>0.037135</td>\n",
              "      <td>0.138092</td>\n",
              "    </tr>\n",
              "    <tr>\n",
              "      <th>min</th>\n",
              "      <td>1.000000</td>\n",
              "      <td>0.000000</td>\n",
              "      <td>60.000000</td>\n",
              "      <td>6.000000</td>\n",
              "      <td>1.000000</td>\n",
              "      <td>4.000000</td>\n",
              "      <td>0.000000</td>\n",
              "      <td>1106.000000</td>\n",
              "      <td>0.644000</td>\n",
              "      <td>0.876000</td>\n",
              "    </tr>\n",
              "    <tr>\n",
              "      <th>25%</th>\n",
              "      <td>1.000000</td>\n",
              "      <td>0.000000</td>\n",
              "      <td>71.000000</td>\n",
              "      <td>12.000000</td>\n",
              "      <td>2.000000</td>\n",
              "      <td>27.000000</td>\n",
              "      <td>0.000000</td>\n",
              "      <td>1357.000000</td>\n",
              "      <td>0.700000</td>\n",
              "      <td>1.099000</td>\n",
              "    </tr>\n",
              "    <tr>\n",
              "      <th>50%</th>\n",
              "      <td>2.000000</td>\n",
              "      <td>552.000000</td>\n",
              "      <td>77.000000</td>\n",
              "      <td>15.000000</td>\n",
              "      <td>2.000000</td>\n",
              "      <td>29.000000</td>\n",
              "      <td>0.000000</td>\n",
              "      <td>1470.000000</td>\n",
              "      <td>0.729000</td>\n",
              "      <td>1.194000</td>\n",
              "    </tr>\n",
              "    <tr>\n",
              "      <th>75%</th>\n",
              "      <td>2.000000</td>\n",
              "      <td>873.000000</td>\n",
              "      <td>82.000000</td>\n",
              "      <td>16.000000</td>\n",
              "      <td>3.000000</td>\n",
              "      <td>30.000000</td>\n",
              "      <td>0.500000</td>\n",
              "      <td>1597.000000</td>\n",
              "      <td>0.756000</td>\n",
              "      <td>1.293000</td>\n",
              "    </tr>\n",
              "    <tr>\n",
              "      <th>max</th>\n",
              "      <td>5.000000</td>\n",
              "      <td>2639.000000</td>\n",
              "      <td>98.000000</td>\n",
              "      <td>23.000000</td>\n",
              "      <td>5.000000</td>\n",
              "      <td>30.000000</td>\n",
              "      <td>2.000000</td>\n",
              "      <td>2004.000000</td>\n",
              "      <td>0.837000</td>\n",
              "      <td>1.587000</td>\n",
              "    </tr>\n",
              "  </tbody>\n",
              "</table>\n",
              "</div>"
            ],
            "text/plain": [
              "            Visit     MR Delay         Age  ...         eTIV        nWBV         ASF\n",
              "count  373.000000   373.000000  373.000000  ...   373.000000  373.000000  373.000000\n",
              "mean     1.882038   595.104558   77.013405  ...  1488.128686    0.729568    1.195461\n",
              "std      0.922843   635.485118    7.640957  ...   176.139286    0.037135    0.138092\n",
              "min      1.000000     0.000000   60.000000  ...  1106.000000    0.644000    0.876000\n",
              "25%      1.000000     0.000000   71.000000  ...  1357.000000    0.700000    1.099000\n",
              "50%      2.000000   552.000000   77.000000  ...  1470.000000    0.729000    1.194000\n",
              "75%      2.000000   873.000000   82.000000  ...  1597.000000    0.756000    1.293000\n",
              "max      5.000000  2639.000000   98.000000  ...  2004.000000    0.837000    1.587000\n",
              "\n",
              "[8 rows x 10 columns]"
            ]
          },
          "metadata": {
            "tags": []
          },
          "execution_count": 6
        }
      ]
    },
    {
      "cell_type": "markdown",
      "metadata": {
        "id": "christian-hamilton"
      },
      "source": [
        "### Pre-processing and Data Engineering"
      ],
      "id": "christian-hamilton"
    },
    {
      "cell_type": "markdown",
      "metadata": {
        "id": "dense-ivory"
      },
      "source": [
        "#### Remove unwanted columns"
      ],
      "id": "dense-ivory"
    },
    {
      "cell_type": "code",
      "metadata": {
        "id": "prime-genetics"
      },
      "source": [
        "# YOUR CODE HERE\n",
        "df_clean = df.drop(['MRI ID', 'Hand'], axis = 1)"
      ],
      "id": "prime-genetics",
      "execution_count": null,
      "outputs": []
    },
    {
      "cell_type": "markdown",
      "metadata": {
        "id": "reported-expression"
      },
      "source": [
        "#### Encode categorical features into numeric"
      ],
      "id": "reported-expression"
    },
    {
      "cell_type": "code",
      "metadata": {
        "id": "radical-procurement"
      },
      "source": [
        "# YOUR CODE HERE\n",
        "df_clean['M/F'] = df_clean['M/F'].replace(['M','F'], [1,0])"
      ],
      "id": "radical-procurement",
      "execution_count": null,
      "outputs": []
    },
    {
      "cell_type": "code",
      "metadata": {
        "colab": {
          "base_uri": "https://localhost:8080/"
        },
        "id": "Xjs1zb0Iwmmh",
        "outputId": "dadabbe9-eef2-47b5-edce-6f025d981a14"
      },
      "source": [
        "df_clean['Group'].unique()"
      ],
      "id": "Xjs1zb0Iwmmh",
      "execution_count": null,
      "outputs": [
        {
          "output_type": "execute_result",
          "data": {
            "text/plain": [
              "array(['Nondemented', 'Demented', 'Converted'], dtype=object)"
            ]
          },
          "metadata": {
            "tags": []
          },
          "execution_count": 9
        }
      ]
    },
    {
      "cell_type": "code",
      "metadata": {
        "colab": {
          "base_uri": "https://localhost:8080/",
          "height": 295
        },
        "id": "w92ter7kv0Aq",
        "outputId": "2432a146-7515-423b-9951-851c0edbd517"
      },
      "source": [
        "#df_clean['Group'] = df_clean['Group'].replace(['Converted'], ['Demented'])\n",
        "df_clean['Group'] = df_clean['Group'].replace(['Converted', 'Demented', 'Nondemented'], [2,1,0])\n",
        "df_clean.describe()"
      ],
      "id": "w92ter7kv0Aq",
      "execution_count": null,
      "outputs": [
        {
          "output_type": "execute_result",
          "data": {
            "text/html": [
              "<div>\n",
              "<style scoped>\n",
              "    .dataframe tbody tr th:only-of-type {\n",
              "        vertical-align: middle;\n",
              "    }\n",
              "\n",
              "    .dataframe tbody tr th {\n",
              "        vertical-align: top;\n",
              "    }\n",
              "\n",
              "    .dataframe thead th {\n",
              "        text-align: right;\n",
              "    }\n",
              "</style>\n",
              "<table border=\"1\" class=\"dataframe\">\n",
              "  <thead>\n",
              "    <tr style=\"text-align: right;\">\n",
              "      <th></th>\n",
              "      <th>Group</th>\n",
              "      <th>Visit</th>\n",
              "      <th>MR Delay</th>\n",
              "      <th>M/F</th>\n",
              "      <th>Age</th>\n",
              "      <th>EDUC</th>\n",
              "      <th>SES</th>\n",
              "      <th>MMSE</th>\n",
              "      <th>CDR</th>\n",
              "      <th>eTIV</th>\n",
              "      <th>nWBV</th>\n",
              "      <th>ASF</th>\n",
              "    </tr>\n",
              "  </thead>\n",
              "  <tbody>\n",
              "    <tr>\n",
              "      <th>count</th>\n",
              "      <td>373.000000</td>\n",
              "      <td>373.000000</td>\n",
              "      <td>373.000000</td>\n",
              "      <td>373.000000</td>\n",
              "      <td>373.000000</td>\n",
              "      <td>373.000000</td>\n",
              "      <td>354.000000</td>\n",
              "      <td>371.000000</td>\n",
              "      <td>373.000000</td>\n",
              "      <td>373.000000</td>\n",
              "      <td>373.000000</td>\n",
              "      <td>373.000000</td>\n",
              "    </tr>\n",
              "    <tr>\n",
              "      <th>mean</th>\n",
              "      <td>0.589812</td>\n",
              "      <td>1.882038</td>\n",
              "      <td>595.104558</td>\n",
              "      <td>0.428954</td>\n",
              "      <td>77.013405</td>\n",
              "      <td>14.597855</td>\n",
              "      <td>2.460452</td>\n",
              "      <td>27.342318</td>\n",
              "      <td>0.290885</td>\n",
              "      <td>1488.128686</td>\n",
              "      <td>0.729568</td>\n",
              "      <td>1.195461</td>\n",
              "    </tr>\n",
              "    <tr>\n",
              "      <th>std</th>\n",
              "      <td>0.664461</td>\n",
              "      <td>0.922843</td>\n",
              "      <td>635.485118</td>\n",
              "      <td>0.495592</td>\n",
              "      <td>7.640957</td>\n",
              "      <td>2.876339</td>\n",
              "      <td>1.134005</td>\n",
              "      <td>3.683244</td>\n",
              "      <td>0.374557</td>\n",
              "      <td>176.139286</td>\n",
              "      <td>0.037135</td>\n",
              "      <td>0.138092</td>\n",
              "    </tr>\n",
              "    <tr>\n",
              "      <th>min</th>\n",
              "      <td>0.000000</td>\n",
              "      <td>1.000000</td>\n",
              "      <td>0.000000</td>\n",
              "      <td>0.000000</td>\n",
              "      <td>60.000000</td>\n",
              "      <td>6.000000</td>\n",
              "      <td>1.000000</td>\n",
              "      <td>4.000000</td>\n",
              "      <td>0.000000</td>\n",
              "      <td>1106.000000</td>\n",
              "      <td>0.644000</td>\n",
              "      <td>0.876000</td>\n",
              "    </tr>\n",
              "    <tr>\n",
              "      <th>25%</th>\n",
              "      <td>0.000000</td>\n",
              "      <td>1.000000</td>\n",
              "      <td>0.000000</td>\n",
              "      <td>0.000000</td>\n",
              "      <td>71.000000</td>\n",
              "      <td>12.000000</td>\n",
              "      <td>2.000000</td>\n",
              "      <td>27.000000</td>\n",
              "      <td>0.000000</td>\n",
              "      <td>1357.000000</td>\n",
              "      <td>0.700000</td>\n",
              "      <td>1.099000</td>\n",
              "    </tr>\n",
              "    <tr>\n",
              "      <th>50%</th>\n",
              "      <td>0.000000</td>\n",
              "      <td>2.000000</td>\n",
              "      <td>552.000000</td>\n",
              "      <td>0.000000</td>\n",
              "      <td>77.000000</td>\n",
              "      <td>15.000000</td>\n",
              "      <td>2.000000</td>\n",
              "      <td>29.000000</td>\n",
              "      <td>0.000000</td>\n",
              "      <td>1470.000000</td>\n",
              "      <td>0.729000</td>\n",
              "      <td>1.194000</td>\n",
              "    </tr>\n",
              "    <tr>\n",
              "      <th>75%</th>\n",
              "      <td>1.000000</td>\n",
              "      <td>2.000000</td>\n",
              "      <td>873.000000</td>\n",
              "      <td>1.000000</td>\n",
              "      <td>82.000000</td>\n",
              "      <td>16.000000</td>\n",
              "      <td>3.000000</td>\n",
              "      <td>30.000000</td>\n",
              "      <td>0.500000</td>\n",
              "      <td>1597.000000</td>\n",
              "      <td>0.756000</td>\n",
              "      <td>1.293000</td>\n",
              "    </tr>\n",
              "    <tr>\n",
              "      <th>max</th>\n",
              "      <td>2.000000</td>\n",
              "      <td>5.000000</td>\n",
              "      <td>2639.000000</td>\n",
              "      <td>1.000000</td>\n",
              "      <td>98.000000</td>\n",
              "      <td>23.000000</td>\n",
              "      <td>5.000000</td>\n",
              "      <td>30.000000</td>\n",
              "      <td>2.000000</td>\n",
              "      <td>2004.000000</td>\n",
              "      <td>0.837000</td>\n",
              "      <td>1.587000</td>\n",
              "    </tr>\n",
              "  </tbody>\n",
              "</table>\n",
              "</div>"
            ],
            "text/plain": [
              "            Group       Visit     MR Delay  ...         eTIV        nWBV         ASF\n",
              "count  373.000000  373.000000   373.000000  ...   373.000000  373.000000  373.000000\n",
              "mean     0.589812    1.882038   595.104558  ...  1488.128686    0.729568    1.195461\n",
              "std      0.664461    0.922843   635.485118  ...   176.139286    0.037135    0.138092\n",
              "min      0.000000    1.000000     0.000000  ...  1106.000000    0.644000    0.876000\n",
              "25%      0.000000    1.000000     0.000000  ...  1357.000000    0.700000    1.099000\n",
              "50%      0.000000    2.000000   552.000000  ...  1470.000000    0.729000    1.194000\n",
              "75%      1.000000    2.000000   873.000000  ...  1597.000000    0.756000    1.293000\n",
              "max      2.000000    5.000000  2639.000000  ...  2004.000000    0.837000    1.587000\n",
              "\n",
              "[8 rows x 12 columns]"
            ]
          },
          "metadata": {
            "tags": []
          },
          "execution_count": 10
        }
      ]
    },
    {
      "cell_type": "markdown",
      "metadata": {
        "id": "hundred-geometry"
      },
      "source": [
        "#### Handle the null values by removing or replacing"
      ],
      "id": "hundred-geometry"
    },
    {
      "cell_type": "code",
      "metadata": {
        "id": "geographic-celebration",
        "colab": {
          "base_uri": "https://localhost:8080/"
        },
        "outputId": "f60d2708-a0fb-483a-81ef-ec33e2d99cd5"
      },
      "source": [
        "# YOUR CODE HERE\n",
        "df_clean = df_clean.dropna()\n",
        "df_clean.info()"
      ],
      "id": "geographic-celebration",
      "execution_count": null,
      "outputs": [
        {
          "output_type": "stream",
          "text": [
            "<class 'pandas.core.frame.DataFrame'>\n",
            "Int64Index: 354 entries, 0 to 372\n",
            "Data columns (total 13 columns):\n",
            " #   Column      Non-Null Count  Dtype  \n",
            "---  ------      --------------  -----  \n",
            " 0   Subject ID  354 non-null    object \n",
            " 1   Group       354 non-null    int64  \n",
            " 2   Visit       354 non-null    int64  \n",
            " 3   MR Delay    354 non-null    int64  \n",
            " 4   M/F         354 non-null    int64  \n",
            " 5   Age         354 non-null    int64  \n",
            " 6   EDUC        354 non-null    int64  \n",
            " 7   SES         354 non-null    float64\n",
            " 8   MMSE        354 non-null    float64\n",
            " 9   CDR         354 non-null    float64\n",
            " 10  eTIV        354 non-null    int64  \n",
            " 11  nWBV        354 non-null    float64\n",
            " 12  ASF         354 non-null    float64\n",
            "dtypes: float64(5), int64(7), object(1)\n",
            "memory usage: 38.7+ KB\n"
          ],
          "name": "stdout"
        }
      ]
    },
    {
      "cell_type": "markdown",
      "metadata": {
        "id": "intelligent-worse"
      },
      "source": [
        "#### Identify feature and target and split it into train test"
      ],
      "id": "intelligent-worse"
    },
    {
      "cell_type": "code",
      "metadata": {
        "id": "tbaHAp7q0MwK",
        "outputId": "1c702369-1c3f-497e-ba2f-91e1d93e2c20",
        "colab": {
          "base_uri": "https://localhost:8080/"
        }
      },
      "source": [
        "%pip install mlxtend"
      ],
      "id": "tbaHAp7q0MwK",
      "execution_count": null,
      "outputs": [
        {
          "output_type": "stream",
          "text": [
            "Requirement already satisfied: mlxtend in /usr/local/lib/python3.7/dist-packages (0.14.0)\n",
            "Requirement already satisfied: scipy>=0.17 in /usr/local/lib/python3.7/dist-packages (from mlxtend) (1.4.1)\n",
            "Requirement already satisfied: scikit-learn>=0.18 in /usr/local/lib/python3.7/dist-packages (from mlxtend) (0.22.2.post1)\n",
            "Requirement already satisfied: setuptools in /usr/local/lib/python3.7/dist-packages (from mlxtend) (57.0.0)\n",
            "Requirement already satisfied: numpy>=1.10.4 in /usr/local/lib/python3.7/dist-packages (from mlxtend) (1.19.5)\n",
            "Requirement already satisfied: matplotlib>=1.5.1 in /usr/local/lib/python3.7/dist-packages (from mlxtend) (3.2.2)\n",
            "Requirement already satisfied: pandas>=0.17.1 in /usr/local/lib/python3.7/dist-packages (from mlxtend) (1.1.5)\n",
            "Requirement already satisfied: joblib>=0.11 in /usr/local/lib/python3.7/dist-packages (from scikit-learn>=0.18->mlxtend) (1.0.1)\n",
            "Requirement already satisfied: cycler>=0.10 in /usr/local/lib/python3.7/dist-packages (from matplotlib>=1.5.1->mlxtend) (0.10.0)\n",
            "Requirement already satisfied: kiwisolver>=1.0.1 in /usr/local/lib/python3.7/dist-packages (from matplotlib>=1.5.1->mlxtend) (1.3.1)\n",
            "Requirement already satisfied: pyparsing!=2.0.4,!=2.1.2,!=2.1.6,>=2.0.1 in /usr/local/lib/python3.7/dist-packages (from matplotlib>=1.5.1->mlxtend) (2.4.7)\n",
            "Requirement already satisfied: python-dateutil>=2.1 in /usr/local/lib/python3.7/dist-packages (from matplotlib>=1.5.1->mlxtend) (2.8.1)\n",
            "Requirement already satisfied: pytz>=2017.2 in /usr/local/lib/python3.7/dist-packages (from pandas>=0.17.1->mlxtend) (2018.9)\n",
            "Requirement already satisfied: six in /usr/local/lib/python3.7/dist-packages (from cycler>=0.10->matplotlib>=1.5.1->mlxtend) (1.15.0)\n"
          ],
          "name": "stdout"
        }
      ]
    },
    {
      "cell_type": "code",
      "metadata": {
        "id": "TUBb2DtY0D_X",
        "outputId": "93b2b6b0-1a42-44ab-a24d-09efbedfd5c7",
        "colab": {
          "base_uri": "https://localhost:8080/"
        }
      },
      "source": [
        "from mlxtend.feature_selection import SequentialFeatureSelector as SFS\n",
        "from sklearn.linear_model import LinearRegression"
      ],
      "id": "TUBb2DtY0D_X",
      "execution_count": null,
      "outputs": [
        {
          "output_type": "stream",
          "text": [
            "/usr/local/lib/python3.7/dist-packages/sklearn/externals/joblib/__init__.py:15: FutureWarning: sklearn.externals.joblib is deprecated in 0.21 and will be removed in 0.23. Please import this functionality directly from joblib, which can be installed with: pip install joblib. If this warning is raised when loading pickled models, you may need to re-serialize those models with scikit-learn 0.21+.\n",
            "  warnings.warn(msg, category=FutureWarning)\n"
          ],
          "name": "stderr"
        }
      ]
    },
    {
      "cell_type": "code",
      "metadata": {
        "colab": {
          "base_uri": "https://localhost:8080/",
          "height": 229
        },
        "id": "jI1IphekssC3",
        "outputId": "413108c2-7829-4872-f198-04acbdc9787f"
      },
      "source": [
        "sfs = SFS(LinearRegression(),\n",
        "           k_features=10,\n",
        "           forward=True,\n",
        "           floating=False,\n",
        "           scoring = 'r2',\n",
        "           cv = 0)\n",
        "\n",
        "#Use SFS to select the top 10 features\n",
        "sfs.fit(x_train, y_train)\n",
        "print(sfs)\n",
        "\n",
        "#Create a dataframe for the SFS results\n",
        "df_SFS_results = pd.DataFrame(sfs.subsets_).transpose()\n",
        "print(\"Features\", df_SFS_results)"
      ],
      "id": "jI1IphekssC3",
      "execution_count": null,
      "outputs": [
        {
          "output_type": "error",
          "ename": "NameError",
          "evalue": "ignored",
          "traceback": [
            "\u001b[0;31m---------------------------------------------------------------------------\u001b[0m",
            "\u001b[0;31mNameError\u001b[0m                                 Traceback (most recent call last)",
            "\u001b[0;32m<ipython-input-14-0068e7ca5320>\u001b[0m in \u001b[0;36m<module>\u001b[0;34m()\u001b[0m\n\u001b[1;32m      7\u001b[0m \u001b[0;34m\u001b[0m\u001b[0m\n\u001b[1;32m      8\u001b[0m \u001b[0;31m#Use SFS to select the top 10 features\u001b[0m\u001b[0;34m\u001b[0m\u001b[0;34m\u001b[0m\u001b[0;34m\u001b[0m\u001b[0m\n\u001b[0;32m----> 9\u001b[0;31m \u001b[0msfs\u001b[0m\u001b[0;34m.\u001b[0m\u001b[0mfit\u001b[0m\u001b[0;34m(\u001b[0m\u001b[0mx_train\u001b[0m\u001b[0;34m,\u001b[0m \u001b[0my_train\u001b[0m\u001b[0;34m)\u001b[0m\u001b[0;34m\u001b[0m\u001b[0;34m\u001b[0m\u001b[0m\n\u001b[0m\u001b[1;32m     10\u001b[0m \u001b[0mprint\u001b[0m\u001b[0;34m(\u001b[0m\u001b[0msfs\u001b[0m\u001b[0;34m)\u001b[0m\u001b[0;34m\u001b[0m\u001b[0;34m\u001b[0m\u001b[0m\n\u001b[1;32m     11\u001b[0m \u001b[0;34m\u001b[0m\u001b[0m\n",
            "\u001b[0;31mNameError\u001b[0m: name 'x_train' is not defined"
          ]
        }
      ]
    },
    {
      "cell_type": "code",
      "metadata": {
        "id": "artificial-declaration"
      },
      "source": [
        "# YOUR CODE HERE\n",
        "x = df_clean.drop(columns=['Subject ID', 'Group'])\n",
        "y = df_clean[['Group']]"
      ],
      "id": "artificial-declaration",
      "execution_count": null,
      "outputs": []
    },
    {
      "cell_type": "code",
      "metadata": {
        "id": "-OrNnFAq2LNR"
      },
      "source": [
        "x_train, x_test, y_train, y_test = train_test_split(x, y, test_size = 0.3, random_state = 100)"
      ],
      "id": "-OrNnFAq2LNR",
      "execution_count": null,
      "outputs": []
    },
    {
      "cell_type": "markdown",
      "metadata": {
        "id": "hispanic-reply"
      },
      "source": [
        "### EDA &  Visualization"
      ],
      "id": "hispanic-reply"
    },
    {
      "cell_type": "markdown",
      "metadata": {
        "id": "coordinate-domain"
      },
      "source": [
        "#### Plot the distribution of all the variables using a histogram"
      ],
      "id": "coordinate-domain"
    },
    {
      "cell_type": "code",
      "metadata": {
        "id": "BCkXuluc2pUy"
      },
      "source": [
        "x.head()"
      ],
      "id": "BCkXuluc2pUy",
      "execution_count": null,
      "outputs": []
    },
    {
      "cell_type": "code",
      "metadata": {
        "id": "normal-artist"
      },
      "source": [
        "# YOUR CODE HERE\n",
        "sex = df['M/F'].value_counts()\n",
        "sex.plot(kind='bar')"
      ],
      "id": "normal-artist",
      "execution_count": null,
      "outputs": []
    },
    {
      "cell_type": "code",
      "metadata": {
        "id": "JgAk-9A-36Is"
      },
      "source": [
        "df_temp = pd.DataFrame()\n",
        "df_temp['MR Delay'] = x['MR Delay']\n",
        "df_temp[df_temp['MR Delay'] != 0] = 1\n",
        "MRD = df_temp['MR Delay'].value_counts()\n",
        "MRD.plot(kind='bar')"
      ],
      "id": "JgAk-9A-36Is",
      "execution_count": null,
      "outputs": []
    },
    {
      "cell_type": "markdown",
      "metadata": {
        "id": "minimal-latest"
      },
      "source": [
        "#### Visualize the frequency of Age"
      ],
      "id": "minimal-latest"
    },
    {
      "cell_type": "code",
      "metadata": {
        "id": "fabulous-appointment"
      },
      "source": [
        "# YOUR CODE HERE\n",
        "age = x['Age'].value_counts()\n",
        "age.plot(kind='bar')"
      ],
      "id": "fabulous-appointment",
      "execution_count": null,
      "outputs": []
    },
    {
      "cell_type": "markdown",
      "metadata": {
        "id": "weighted-guyana"
      },
      "source": [
        "#### How many people have Alzheimer? Visualize with an appropriate plot\n",
        "\n",
        "the same person visits two or more times; extract the single visit data and plot\n",
        "\n",
        "**Hint**: Visit = 1"
      ],
      "id": "weighted-guyana"
    },
    {
      "cell_type": "code",
      "metadata": {
        "id": "unusual-burst"
      },
      "source": [
        "# YOUR CODE HERE\n",
        "x_1_visit = df_clean[df_clean['Visit'] == 1]\n",
        "AD = x_1_visit['Group'].value_counts()\n",
        "AD.plot(kind='bar')"
      ],
      "id": "unusual-burst",
      "execution_count": null,
      "outputs": []
    },
    {
      "cell_type": "code",
      "metadata": {
        "id": "AjxjRu6Xvu55"
      },
      "source": [
        "non_demented = df_clean[df_clean['Group'] == 0]\n",
        "demented = df_clean[df_clean['Group'] == 1]\n",
        "converted = df_clean[df_clean['Group'] == 2]"
      ],
      "id": "AjxjRu6Xvu55",
      "execution_count": null,
      "outputs": []
    },
    {
      "cell_type": "code",
      "metadata": {
        "id": "vfdS0ShpxPRW"
      },
      "source": [
        "non_demented.describe()"
      ],
      "id": "vfdS0ShpxPRW",
      "execution_count": null,
      "outputs": []
    },
    {
      "cell_type": "code",
      "metadata": {
        "id": "zjQunhMsyF9n"
      },
      "source": [
        "demented.describe()"
      ],
      "id": "zjQunhMsyF9n",
      "execution_count": null,
      "outputs": []
    },
    {
      "cell_type": "code",
      "metadata": {
        "id": "cLPeEO2HyJkp"
      },
      "source": [
        "converted.describe()"
      ],
      "id": "cLPeEO2HyJkp",
      "execution_count": null,
      "outputs": []
    },
    {
      "cell_type": "code",
      "metadata": {
        "id": "_S432L6fwR06"
      },
      "source": [
        "import seaborn as sns\n",
        "import matplotlib.pyplot as plt\n",
        "sns.set_theme(style=\"ticks\", color_codes=True)\n",
        "sns.catplot(x=\"Visit\", y=\"eTIV\", hue=\"Group\", kind=\"swarm\", data=df_clean)"
      ],
      "id": "_S432L6fwR06",
      "execution_count": null,
      "outputs": []
    },
    {
      "cell_type": "code",
      "metadata": {
        "id": "7fiBu61yyYMM"
      },
      "source": [
        "sns.catplot(x=\"Visit\", y=\"MR Delay\", hue=\"Group\", kind=\"swarm\", data=df_clean)"
      ],
      "id": "7fiBu61yyYMM",
      "execution_count": null,
      "outputs": []
    },
    {
      "cell_type": "code",
      "metadata": {
        "id": "l0vECdUWyjZg"
      },
      "source": [
        "sns.catplot(x=\"Visit\", y=\"CDR\", hue=\"Group\", kind=\"swarm\", data=df_clean)"
      ],
      "id": "l0vECdUWyjZg",
      "execution_count": null,
      "outputs": []
    },
    {
      "cell_type": "code",
      "metadata": {
        "id": "U88zVL8NzBfK"
      },
      "source": [
        "sns.catplot(x=\"Visit\", y=\"nWBV\", hue=\"Group\", kind=\"swarm\", data=df_clean)"
      ],
      "id": "U88zVL8NzBfK",
      "execution_count": null,
      "outputs": []
    },
    {
      "cell_type": "markdown",
      "metadata": {
        "id": "welcome-arbitration"
      },
      "source": [
        "#### Calculate the correlation of features and plot the heatmap"
      ],
      "id": "welcome-arbitration"
    },
    {
      "cell_type": "code",
      "metadata": {
        "id": "royal-address"
      },
      "source": [
        "# YOUR CODE HERE\n",
        "corrMatrix = df_clean.corr()\n",
        "print(corrMatrix)"
      ],
      "id": "royal-address",
      "execution_count": null,
      "outputs": []
    },
    {
      "cell_type": "code",
      "metadata": {
        "id": "e8Wacm8E9hnQ"
      },
      "source": [
        "plt.figure(figsize=(16, 9))\n",
        "heatmap = sns.heatmap(corrMatrix, vmin=-1, vmax=1, annot=True, cmap='coolwarm_r')"
      ],
      "id": "e8Wacm8E9hnQ",
      "execution_count": null,
      "outputs": []
    },
    {
      "cell_type": "markdown",
      "metadata": {
        "id": "subject-pitch"
      },
      "source": [
        "### Model training and evaluation\n",
        "\n",
        "**Hint:** SVM model from sklearn"
      ],
      "id": "subject-pitch"
    },
    {
      "cell_type": "code",
      "metadata": {
        "id": "superb-invasion"
      },
      "source": [
        "# YOUR CODE HERE\n",
        "classifier = SVC(kernel='linear', random_state = 100)\n",
        "classifier.fit(x_train, y_train)"
      ],
      "id": "superb-invasion",
      "execution_count": null,
      "outputs": []
    },
    {
      "cell_type": "code",
      "metadata": {
        "id": "nIUG6b9MBCWT"
      },
      "source": [
        "y_pred = classifier.predict(x_test)\n",
        "y_pred"
      ],
      "id": "nIUG6b9MBCWT",
      "execution_count": null,
      "outputs": []
    },
    {
      "cell_type": "markdown",
      "metadata": {
        "id": "biological-diagram"
      },
      "source": [
        "#### Support vectors of the model\n",
        "\n",
        "* Find the samples of the dataset which are the support vectors of the model"
      ],
      "id": "biological-diagram"
    },
    {
      "cell_type": "code",
      "metadata": {
        "id": "strange-imagination"
      },
      "source": [
        "# YOUR CODE HERE\n",
        "print(classifier.support_vectors_[:5, :])"
      ],
      "id": "strange-imagination",
      "execution_count": null,
      "outputs": []
    },
    {
      "cell_type": "code",
      "metadata": {
        "id": "lGzTtk992kTC"
      },
      "source": [
        "print(classifier.support_vectors_.shape)"
      ],
      "id": "lGzTtk992kTC",
      "execution_count": null,
      "outputs": []
    },
    {
      "cell_type": "markdown",
      "metadata": {
        "id": "Ii5EqlWcoLJq"
      },
      "source": [
        "#### Confusion matrix for multi-class classification\n",
        "\n",
        "* Predict the test and plot the confusion matrix"
      ],
      "id": "Ii5EqlWcoLJq"
    },
    {
      "cell_type": "code",
      "metadata": {
        "id": "eytk2LyXn7h2"
      },
      "source": [
        "# YOUR CODE HERE\n",
        "from sklearn.metrics import confusion_matrix, accuracy_score\n",
        "cm = confusion_matrix(y_test, y_pred)\n",
        "cm"
      ],
      "id": "eytk2LyXn7h2",
      "execution_count": null,
      "outputs": []
    },
    {
      "cell_type": "code",
      "metadata": {
        "id": "ucViIZunngcu"
      },
      "source": [
        "labels = ['True non-dememnted 58','False demented classification 1','False not demented 5','True demented 43']\n",
        "labels = np.asarray(labels).reshape(2,2)\n",
        "sns.heatmap(cm, annot=labels, fmt='')"
      ],
      "id": "ucViIZunngcu",
      "execution_count": null,
      "outputs": []
    },
    {
      "cell_type": "markdown",
      "metadata": {
        "id": "prepared-socket"
      },
      "source": [
        "#### One VS Rest Classifier\n",
        "\n",
        "OneVsRestClassifier can also be used for multilabel classification. For each classifier, the class is fitted against all the other classes. In addition to its computational efficiency (only n_classes classifiers are needed)\n",
        "\n",
        "* Fit `OneVsRestClassifier` on the data and find the accuracy\n",
        "\n",
        "Hint: [OneVsRestClassifier](https://scikit-learn.org/stable/modules/generated/sklearn.multiclass.OneVsRestClassifier.html)"
      ],
      "id": "prepared-socket"
    },
    {
      "cell_type": "code",
      "metadata": {
        "id": "appointed-division"
      },
      "source": [
        "# YOUR CODE HERE\n",
        "clf = OneVsRestClassifier(SVC(kernel='linear')).fit(x_train, y_train)\n",
        "y_pred_OvR = clf.predict(x_test)\n",
        "y_pred_OvR"
      ],
      "id": "appointed-division",
      "execution_count": null,
      "outputs": []
    },
    {
      "cell_type": "markdown",
      "metadata": {
        "id": "indoor-teddy"
      },
      "source": [
        "#### One VS One Classifier\n",
        "\n",
        "This strategy consists of fitting one classifier per class pair. At prediction time, the class which received the most votes is selected.\n",
        "\n",
        "* Fit `OneVsOneClassifier` on the data and find the accuracy\n",
        "\n",
        "Hint: [OneVsOneClassifier](https://scikit-learn.org/stable/modules/generated/sklearn.multiclass.OneVsOneClassifier.html)"
      ],
      "id": "indoor-teddy"
    },
    {
      "cell_type": "code",
      "metadata": {
        "id": "powered-combination"
      },
      "source": [
        "# YOUR CODE HERE"
      ],
      "id": "powered-combination",
      "execution_count": null,
      "outputs": []
    },
    {
      "cell_type": "markdown",
      "metadata": {
        "id": "supposed-entrance"
      },
      "source": [
        "#### Make it binary classification\n",
        "\n",
        "As stated in the dataset description, 14 subjects were characterized as nondemented at the time of their initial visit and were subsequently characterized as demented at a later visit. Change `Converted` label into `Demented`.\n",
        "\n",
        "**Note:** In two-class classification, encode the labels into numerical to plot the roc_curve with predictions."
      ],
      "id": "supposed-entrance"
    },
    {
      "cell_type": "code",
      "metadata": {
        "id": "married-cabinet"
      },
      "source": [
        "# YOUR CODE HERE"
      ],
      "id": "married-cabinet",
      "execution_count": null,
      "outputs": []
    },
    {
      "cell_type": "markdown",
      "metadata": {
        "id": "HTfsIiKu8ROM"
      },
      "source": [
        "#### Compare the performance and predictions of both multi-class and binary classifications"
      ],
      "id": "HTfsIiKu8ROM"
    },
    {
      "cell_type": "code",
      "metadata": {
        "id": "HLhq8-dy8Y9F"
      },
      "source": [
        "# YOUR CODE HERE"
      ],
      "id": "HLhq8-dy8Y9F",
      "execution_count": null,
      "outputs": []
    },
    {
      "cell_type": "markdown",
      "metadata": {
        "id": "normal-vessel"
      },
      "source": [
        "### Classification report and metrics"
      ],
      "id": "normal-vessel"
    },
    {
      "cell_type": "markdown",
      "metadata": {
        "id": "heard-magazine"
      },
      "source": [
        "#### Confusion matrix\n",
        "\n",
        "Describe the performance of a classification model (or \"classifier\") on a set of test data for which the true values are known."
      ],
      "id": "heard-magazine"
    },
    {
      "cell_type": "code",
      "metadata": {
        "scrolled": true,
        "id": "intelligent-table"
      },
      "source": [
        "# YOUR CODE HERE"
      ],
      "id": "intelligent-table",
      "execution_count": null,
      "outputs": []
    },
    {
      "cell_type": "markdown",
      "metadata": {
        "id": "1RVShcZv_A19"
      },
      "source": [
        "#### Plot the ROC Curve\n",
        "\n",
        "ROC curves typically feature true positive rate on the Y axis, and false positive rate on the X axis. This means that the top left corner of the plot is the “ideal” point - a false positive rate of zero, and a true positive rate of one. This is not very realistic, but it does mean that a larger area under the curve (AUC) is usually better."
      ],
      "id": "1RVShcZv_A19"
    },
    {
      "cell_type": "code",
      "metadata": {
        "id": "threatened-laugh"
      },
      "source": [
        "# YOUR CODE HERE"
      ],
      "id": "threatened-laugh",
      "execution_count": null,
      "outputs": []
    },
    {
      "cell_type": "markdown",
      "metadata": {
        "id": "fresh-force"
      },
      "source": [
        "### Choice of C for SVM\n",
        "\n",
        "experiment with different C values given and plot the ROC curve for each"
      ],
      "id": "fresh-force"
    },
    {
      "cell_type": "code",
      "metadata": {
        "id": "noble-uruguay"
      },
      "source": [
        "c_val = [0.0001, 0.001, 0.01, 0.1, 1, 10, 100, 1000]\n",
        "# YOUR CODE HERE"
      ],
      "id": "noble-uruguay",
      "execution_count": null,
      "outputs": []
    },
    {
      "cell_type": "markdown",
      "metadata": {
        "id": "chinese-southwest"
      },
      "source": [
        "### Report Analysis\n",
        "\n",
        "* Compare the performance of the model with various Kernel parameters.\n",
        "* Discuss the impact of parameter C and gamma on performance.\n",
        "* Comment on the computational cost of implementing one vs one and one vs all to solve multi-class classification with binary classifier.\n",
        "* When do you call a sample/record in the data as a support vector?"
      ],
      "id": "chinese-southwest"
    }
  ]
}