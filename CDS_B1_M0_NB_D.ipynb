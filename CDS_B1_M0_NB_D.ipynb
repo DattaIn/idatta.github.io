{
  "nbformat": 4,
  "nbformat_minor": 0,
  "metadata": {
    "colab": {
      "provenance": [],
      "include_colab_link": true
    },
    "kernelspec": {
      "display_name": "Python 3",
      "language": "python",
      "name": "python3"
    }
  },
  "cells": [
    {
      "cell_type": "markdown",
      "metadata": {
        "id": "view-in-github",
        "colab_type": "text"
      },
      "source": [
        "<a href=\"https://colab.research.google.com/github/DattaIn/idatta.github.io/blob/master/CDS_B1_M0_NB_D.ipynb\" target=\"_parent\"><img src=\"https://colab.research.google.com/assets/colab-badge.svg\" alt=\"Open In Colab\"/></a>"
      ]
    },
    {
      "cell_type": "markdown",
      "metadata": {
        "id": "UxuOCaDhMxyQ"
      },
      "source": [
        "# Advanced Certification Program in Computational Data Science\n",
        "## A program by IISc and TalentSprint\n",
        "### Notebook D: Functions in Python"
      ]
    },
    {
      "cell_type": "code",
      "metadata": {
        "id": "4kDkrW9tMxyU"
      },
      "source": [
        "# A simple function, almost trivial\n",
        "def square(n):\n",
        "    return n * n"
      ],
      "execution_count": null,
      "outputs": []
    },
    {
      "cell_type": "code",
      "metadata": {
        "id": "nxJxAhs6MxyZ"
      },
      "source": [
        "print(square(7))"
      ],
      "execution_count": null,
      "outputs": []
    },
    {
      "cell_type": "code",
      "metadata": {
        "id": "yc_k5_pHMxye"
      },
      "source": [
        "print(square(7.1))\n"
      ],
      "execution_count": null,
      "outputs": []
    },
    {
      "cell_type": "code",
      "metadata": {
        "id": "dDFswfdPMxyh"
      },
      "source": [
        "print(square(7j))"
      ],
      "execution_count": null,
      "outputs": []
    },
    {
      "cell_type": "markdown",
      "metadata": {
        "id": "pShMgyoDMxym"
      },
      "source": [
        "Note the absence of type declarations and that the return type is determined by the input type."
      ]
    },
    {
      "cell_type": "code",
      "metadata": {
        "id": "Xtg-BdswMxyo"
      },
      "source": [
        "print(square(\"Hello\")) # typeError"
      ],
      "execution_count": null,
      "outputs": []
    },
    {
      "cell_type": "code",
      "metadata": {
        "id": "K4G4P5DOMxyr"
      },
      "source": [
        "# some more functions\n",
        "def isPrime(n):\n",
        "    if n in [2, 3]:\n",
        "        return True\n",
        "    if n % 2 == 0:\n",
        "        return False\n",
        "    r = 5\n",
        "    while r * r <= n:\n",
        "        if n % r == 0:\n",
        "            return False\n",
        "        r += 2\n",
        "    return True"
      ],
      "execution_count": null,
      "outputs": []
    },
    {
      "cell_type": "code",
      "metadata": {
        "id": "UyRlFsCcMxyv"
      },
      "source": [
        "print(isPrime(78), isPrime(79))"
      ],
      "execution_count": null,
      "outputs": []
    },
    {
      "cell_type": "code",
      "metadata": {
        "id": "wEPv5n0aMxy0"
      },
      "source": [
        "def vowelCount(s):\n",
        "    \"\"\"Counts the number of vowels in s and returns the same\n",
        "    Ignores case of letters\"\"\"\n",
        "    VOWELS = \"aeiouAEIOU\"\n",
        "    vc = 0\n",
        "    for ch in s:\n",
        "        if ch in VOWELS:\n",
        "            vc += 1\n",
        "    return vc"
      ],
      "execution_count": null,
      "outputs": []
    },
    {
      "cell_type": "code",
      "metadata": {
        "id": "0Lh1P9dhMxy4"
      },
      "source": [
        "print(vowelCount(\"The quick brown fox jumps over the lazy dog\"))"
      ],
      "execution_count": null,
      "outputs": []
    },
    {
      "cell_type": "code",
      "metadata": {
        "id": "NoQADi-c3ZlQ"
      },
      "source": [
        "vowelCount?"
      ],
      "execution_count": null,
      "outputs": []
    },
    {
      "cell_type": "markdown",
      "metadata": {
        "id": "xP8DwUHrMxy9"
      },
      "source": [
        "#### Recursion\n",
        "Recursion is also pretty simple."
      ]
    },
    {
      "cell_type": "code",
      "metadata": {
        "id": "b7Udg0KcMxzA"
      },
      "source": [
        "def isPowerOf2(n):\n",
        "    \"\"\"Checks if a number is a power of 2.\n",
        "    That is, verifies if an integer p exists such that n == 2 ** p\n",
        "    Remember 1 is 2 ** 0    \"\"\"\n",
        "    if n == 1:\n",
        "        return True\n",
        "    if n % 2 == 1:\n",
        "        return False\n",
        "    return isPowerOf2(n // 2)"
      ],
      "execution_count": null,
      "outputs": []
    },
    {
      "cell_type": "markdown",
      "metadata": {
        "id": "ya5hUyEjMxzL"
      },
      "source": [
        "Python functions can return multiple values. The simplest example is the built-in function divmod"
      ]
    },
    {
      "cell_type": "code",
      "metadata": {
        "id": "YezCorddMxzM"
      },
      "source": [
        "divmod(17, 5)"
      ],
      "execution_count": null,
      "outputs": []
    },
    {
      "cell_type": "code",
      "metadata": {
        "id": "GvPH358QMxzQ"
      },
      "source": [
        "quotient, remainder = divmod(17, 5)\n",
        "print(quotient, remainder)"
      ],
      "execution_count": null,
      "outputs": []
    },
    {
      "cell_type": "markdown",
      "metadata": {
        "id": "iJr0EoEm5Vv7"
      },
      "source": [
        "c = divmod(17, 5)\n",
        "print(c[0])\n",
        "print(c[1])\n",
        "print(c)"
      ]
    },
    {
      "cell_type": "code",
      "metadata": {
        "id": "H4loCmNyMxzX"
      },
      "source": [
        "# Our own implementation of divmod\n",
        "\n",
        "def quotrem(n, d):\n",
        "    return n // d, n % d"
      ],
      "execution_count": null,
      "outputs": []
    },
    {
      "cell_type": "markdown",
      "metadata": {
        "id": "wkFIg7Fq6cVt"
      },
      "source": [
        "f = divmod"
      ]
    },
    {
      "cell_type": "code",
      "metadata": {
        "id": "-kPct1WyMxze"
      },
      "source": [
        "quotrem(17, 5)"
      ],
      "execution_count": null,
      "outputs": []
    },
    {
      "cell_type": "markdown",
      "metadata": {
        "id": "VSJIRb9UMxzl"
      },
      "source": [
        "#### Higher Order Functions\n",
        "Python functions are first class objects. They can be assigned to variables, passed to functions as parameters and returned from functions!"
      ]
    },
    {
      "cell_type": "code",
      "metadata": {
        "id": "3ahQ7V4XE_W5"
      },
      "source": [
        "f1 = square"
      ],
      "execution_count": null,
      "outputs": []
    },
    {
      "cell_type": "code",
      "metadata": {
        "id": "7roMiH3AE_z0"
      },
      "source": [
        "f1(4)"
      ],
      "execution_count": null,
      "outputs": []
    },
    {
      "cell_type": "code",
      "metadata": {
        "id": "RmJBP6gpFFQm"
      },
      "source": [
        "# New way of writing function in latest version of Python\n",
        "\n",
        "def cube(n:int) -> [int]:\n",
        "  return n ** 3"
      ],
      "execution_count": null,
      "outputs": []
    },
    {
      "cell_type": "code",
      "metadata": {
        "id": "y1OiYAIjdN4c"
      },
      "source": [
        "cube(3)"
      ],
      "execution_count": null,
      "outputs": []
    }
  ]
}