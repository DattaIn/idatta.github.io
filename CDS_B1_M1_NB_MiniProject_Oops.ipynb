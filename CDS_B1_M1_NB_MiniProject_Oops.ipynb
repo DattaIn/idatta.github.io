{
  "nbformat": 4,
  "nbformat_minor": 5,
  "metadata": {
    "kernelspec": {
      "display_name": "Python 3",
      "language": "python",
      "name": "python3"
    },
    "language_info": {
      "codemirror_mode": {
        "name": "ipython",
        "version": 3
      },
      "file_extension": ".py",
      "mimetype": "text/x-python",
      "name": "python",
      "nbconvert_exporter": "python",
      "pygments_lexer": "ipython3",
      "version": "3.5.2"
    },
    "colab": {
      "provenance": [],
      "include_colab_link": true
    }
  },
  "cells": [
    {
      "cell_type": "markdown",
      "metadata": {
        "id": "view-in-github",
        "colab_type": "text"
      },
      "source": [
        "<a href=\"https://colab.research.google.com/github/DattaIn/idatta.github.io/blob/master/CDS_B1_M1_NB_MiniProject_Oops.ipynb\" target=\"_parent\"><img src=\"https://colab.research.google.com/assets/colab-badge.svg\" alt=\"Open In Colab\"/></a>"
      ]
    },
    {
      "cell_type": "markdown",
      "metadata": {
        "id": "hawaiian-astronomy"
      },
      "source": [
        "# Advanced Certification Program in Computational Data Science\n",
        "## A program by IISc and TalentSprint\n",
        "### Mini-Project: Implementation of Linear Regression using Oops"
      ],
      "id": "hawaiian-astronomy"
    },
    {
      "cell_type": "markdown",
      "metadata": {
        "id": "latin-seventh"
      },
      "source": [
        "## Learning Objectives"
      ],
      "id": "latin-seventh"
    },
    {
      "cell_type": "markdown",
      "metadata": {
        "id": "civil-joyce"
      },
      "source": [
        "At the end of the mini-project, you will be able to :\n",
        "\n",
        "- understand the power and flexibility of the Object-oriented programming (OOP) paradigm\n",
        "- build OOP based classes and methods and use them to implement Linear Regression for solving real world data related queries\n"
      ],
      "id": "civil-joyce"
    },
    {
      "cell_type": "markdown",
      "metadata": {
        "id": "genetic-discount"
      },
      "source": [
        "## Information"
      ],
      "id": "genetic-discount"
    },
    {
      "cell_type": "markdown",
      "metadata": {
        "id": "pharmaceutical-stopping"
      },
      "source": [
        "#### Object oriented programming in a nutshell\n",
        "\n",
        "Object oriented programming is based around the concept of \"objects\". Objects have two kinds of attributes (accessed via . syntax): data attributes (or instance variables) and function attributes (or methods). Object data is typically modified by object methods.\n",
        "\n",
        "To know more about Oops click [here](https://docs.python.org/3/tutorial/classes.html)\n",
        "\n",
        "#### Linear Regression\n",
        "\n",
        "In statistics, linear regression is a linear approach to model the relationship between a scalar response and one or more explanatory variables (also known as dependent and independent variables). The case of one explanatory variable is called simple linear regression; for more than one, the process is called multiple linear regression.\n",
        "\n",
        "To know more about Linear regression  click [here](http://www.mit.edu/~6.s085/notes/lecture3.pdf)\n"
      ],
      "id": "pharmaceutical-stopping"
    },
    {
      "cell_type": "markdown",
      "metadata": {
        "id": "ndQNKsjS7c04"
      },
      "source": [
        "## Grading = 10 Points"
      ],
      "id": "ndQNKsjS7c04"
    },
    {
      "cell_type": "markdown",
      "metadata": {
        "id": "IPn9hBEEEOnq"
      },
      "source": [
        "#### There are total 10 exercises and 1 point for each."
      ],
      "id": "IPn9hBEEEOnq"
    },
    {
      "cell_type": "markdown",
      "metadata": {
        "id": "powerful-preservation"
      },
      "source": [
        "##### Importing Necessary Packages"
      ],
      "id": "powerful-preservation"
    },
    {
      "cell_type": "code",
      "metadata": {
        "id": "confident-garlic"
      },
      "source": [
        "import numpy as np # Numpy Package\n",
        "import matplotlib.pyplot as plt"
      ],
      "id": "confident-garlic",
      "execution_count": null,
      "outputs": []
    },
    {
      "cell_type": "markdown",
      "metadata": {
        "id": "eleven-excess"
      },
      "source": [
        "#### Exercise 1: Generate 50 points with an approximate relationship of y = 3x + 1, with normally distributed errors.\n",
        "\n",
        "**Hint:** np.linspace(), np.random.randn()"
      ],
      "id": "eleven-excess"
    },
    {
      "cell_type": "code",
      "metadata": {
        "colab": {
          "base_uri": "https://localhost:8080/",
          "height": 829
        },
        "id": "TN5dp58OU1EW",
        "outputId": "e0a9ad5e-25d8-4db9-de18-af8189559570"
      },
      "source": [
        "# YOUR CODE HERE\n",
        "np.random.seed(34)\n",
        "m,sigma = 0,0.1\n",
        "error = np.random.normal(m,sigma,50)\n",
        "x = np.random.rand(50,)\n",
        "y = 3*x+1 + error\n",
        "print(error)\n",
        "print(x,end='\\n')\n",
        "print(y,end='\\n')\n",
        "print(x.shape)\n",
        "print(y.shape)\n",
        "count, bins, ignored = plt.hist(error, 30, density=True)\n",
        "plt.scatter(x, y)\n",
        "plt.show()"
      ],
      "id": "TN5dp58OU1EW",
      "execution_count": null,
      "outputs": [
        {
          "output_type": "stream",
          "text": [
            "[ 2.43835101e-02 -7.47318182e-02 -1.56117699e-01 -4.64253122e-02\n",
            " -3.52062344e-02 -1.28149188e-01  2.89299240e-02  9.80028505e-02\n",
            "  4.77924222e-02  4.50818133e-02  7.52443450e-02 -5.10571794e-02\n",
            " -7.05752137e-02 -4.24317252e-02 -2.32162126e-02  1.81514048e-01\n",
            " -2.09474937e-01  1.03595611e-01 -1.43414066e-01 -2.78228697e-02\n",
            "  5.95144896e-03 -1.30831214e-01 -1.28630204e-04  1.26104693e-01\n",
            " -1.86323999e-02  1.42992772e-01 -7.91101977e-02 -2.97739220e-02\n",
            "  9.61949597e-02 -1.07044067e-01 -1.20546821e-01  6.44030710e-02\n",
            "  5.69221615e-03  1.41854611e-01 -1.14294482e-01  2.15819548e-02\n",
            "  9.25606402e-02  4.07204403e-02  5.57686250e-02 -5.45324295e-02\n",
            "  2.06687026e-02 -6.45055306e-02 -5.28596200e-02  8.38851422e-02\n",
            " -1.30025207e-01 -9.69472162e-03  2.11505971e-02  2.18984854e-02\n",
            " -1.46397689e-01  1.12806649e-01]\n",
            "[0.47072    0.8021293  0.94280404 0.16382592 0.618682   0.02332673\n",
            " 0.07873413 0.86011087 0.97139126 0.89208697 0.61104102 0.2238629\n",
            " 0.4988632  0.97135486 0.1876062  0.78274037 0.61360269 0.58616462\n",
            " 0.45998226 0.27743157 0.82148203 0.92944826 0.39471175 0.90308086\n",
            " 0.64056001 0.06943248 0.49968385 0.76508479 0.80676681 0.48123771\n",
            " 0.88397414 0.99552767 0.93571873 0.41378382 0.94985229 0.32911781\n",
            " 0.65221702 0.4488308  0.67097597 0.5670529  0.02931154 0.95807555\n",
            " 0.0709085  0.32213837 0.00380051 0.16897109 0.11327798 0.07479813\n",
            " 0.0744377  0.46935058]\n",
            "[2.4365435  3.33165607 3.67229443 1.44505245 2.82083977 0.94183101\n",
            " 1.26513232 3.67833545 3.9619662  3.72134273 2.90836741 1.62053152\n",
            " 2.42601439 3.87163285 1.53960238 3.52973515 2.63133313 2.86208947\n",
            " 2.23653271 1.80447185 3.47039753 3.65751358 2.18400661 3.83534728\n",
            " 2.90304764 1.3512902  2.41994135 3.26548046 3.5164954  2.33666907\n",
            " 3.53137559 4.05098609 3.8128484  2.38320608 3.73526239 2.00893538\n",
            " 3.04921171 2.38721283 3.06869654 2.64662626 1.10860331 3.80972112\n",
            " 1.15986588 2.05030024 0.88137632 1.49721856 1.36098452 1.24629288\n",
            " 1.07691541 2.52085839]\n",
            "(50,)\n",
            "(50,)\n"
          ],
          "name": "stdout"
        },
        {
          "output_type": "display_data",
          "data": {
            "image/png": "[encoded data removed]",
            "text/plain": [
              "<Figure size 432x288 with 1 Axes>"
            ]
          },
          "metadata": {
            "tags": [],
            "needs_background": "light"
          }
        }
      ]
    },
    {
      "cell_type": "markdown",
      "metadata": {
        "id": "robust-moderator"
      },
      "source": [
        "#### Exercise 2: Define a class named **LinearRegression** and add a short description of linear regression using built in method \\_\\_repr\\_\\_\n",
        "\n",
        "**Hint:** [How to use \\_\\_repr\\_\\_ method](https://www.educative.io/edpresso/what-is-the-repr-method-in-python)"
      ],
      "id": "robust-moderator"
    },
    {
      "cell_type": "code",
      "metadata": {
        "id": "brief-criminal"
      },
      "source": [
        "class LinearRegression:\n",
        "\n",
        "  def __init__(self):\n",
        "    print(\"LinearRegression\")\n",
        "\n",
        "  def __repr__(self):\n",
        "    rep = 'LinearRegression for calculating the regression'\n",
        "    return rep"
      ],
      "id": "brief-criminal",
      "execution_count": null,
      "outputs": []
    },
    {
      "cell_type": "markdown",
      "metadata": {
        "id": "electoral-melissa"
      },
      "source": [
        "#### Exercise 3: In the above defined Linear Regression class, add a method which takes list of values as input and returns the mean of those values.\n",
        "\n",
        "**Note:** Don't use built-in method to calculate the mean\n",
        "\n",
        "**Hint:**\n",
        "1. The mean is the average of the numbers\n",
        "2. [How to define a method in a class](https://docs.python.org/3/tutorial/classes.html#scopes-and-namespaces-example)"
      ],
      "id": "electoral-melissa"
    },
    {
      "cell_type": "code",
      "metadata": {
        "id": "rolled-agent",
        "colab": {
          "base_uri": "https://localhost:8080/"
        },
        "outputId": "d773d141-76b8-46ed-8332-1c1ba49ee2d1"
      },
      "source": [
        "class LinearRegression:\n",
        "\n",
        "  def __init__(self):\n",
        "    print(\"LinearRegression Implementation\")\n",
        "\n",
        "  def get_mean(self, inputList) :\n",
        "    return np.sum(inputList) / len(inputList)\n",
        "\n",
        "\n",
        "  def __repr__(self):\n",
        "    rep = 'LinearRegression for calculating the regression'\n",
        "    return rep\n",
        "\n",
        "lr = LinearRegression()\n",
        "print(lr.get_mean([1, 2, 3, 4, 5]))"
      ],
      "id": "rolled-agent",
      "execution_count": null,
      "outputs": [
        {
          "output_type": "stream",
          "text": [
            "LinearRegression Implementation\n",
            "3.0\n"
          ],
          "name": "stdout"
        }
      ]
    },
    {
      "cell_type": "markdown",
      "metadata": {
        "id": "christian-visit"
      },
      "source": [
        "#### Exercise 4: In the above defined Linear Regression class, add a method which takes list of values as input and returns the variance of those values.\n",
        "\n",
        "**Note:** Don't use built-in method to calculate the variance\n",
        "\n",
        "**Hint:**\n",
        "\n",
        "1. The Variance is the average of the squared differences of each datapoint from the Mean\n",
        "2. [How to access one method in different method inside a class](https://docs.python.org/3/tutorial/classes.html#scopes-and-namespaces-example)\n"
      ],
      "id": "christian-visit"
    },
    {
      "cell_type": "code",
      "metadata": {
        "id": "controversial-legislature",
        "colab": {
          "base_uri": "https://localhost:8080/"
        },
        "outputId": "3b1f1cc6-619f-440f-ad4d-9b1739ee4fc6"
      },
      "source": [
        "class LinearRegression:\n",
        "\n",
        "  def __init__(self):\n",
        "    print(\"LinearRegression Implementation\")\n",
        "\n",
        "  def mean(self, inputList) :\n",
        "    return np.sum(inputList) / len(inputList)\n",
        "\n",
        "  def variance(self, inputList) :\n",
        "    sum = 0\n",
        "    mean = self.mean(inputList)\n",
        "    for data in inputList:\n",
        "      sum += (data-mean)**2\n",
        "\n",
        "    var = sum/(len(inputList) - 1)\n",
        "    return var\n",
        "\n",
        "  def __repr__(self):\n",
        "    rep = 'LinearRegression for calculating the regression'\n",
        "    return rep\n",
        "\n",
        "lr = LinearRegression()\n",
        "print(lr.variance([1, 2, 3, 4, 5]))"
      ],
      "id": "controversial-legislature",
      "execution_count": null,
      "outputs": [
        {
          "output_type": "stream",
          "text": [
            "LinearRegression Implementation\n",
            "2.5\n"
          ],
          "name": "stdout"
        }
      ]
    },
    {
      "cell_type": "markdown",
      "metadata": {
        "id": "acquired-giant"
      },
      "source": [
        "#### Exercise 5: In the above defined Linear Regression class, add a method which takes two values as input and returns the covariance of those values.\n",
        "\n",
        "**Note:** Don't use built-in method to calculate the covariance\n",
        "\n",
        "**Hint:** [How to calculate the covariance of two values](https://www.statisticshowto.com/probability-and-statistics/statistics-definitions/covariance/)"
      ],
      "id": "acquired-giant"
    },
    {
      "cell_type": "code",
      "metadata": {
        "id": "later-hanging",
        "colab": {
          "base_uri": "https://localhost:8080/"
        },
        "outputId": "ba2acce3-5796-4e7f-bccc-b4217d2ba088"
      },
      "source": [
        "class LinearRegression:\n",
        "\n",
        "  def __init__(self):\n",
        "    print(\"LinearRegression Implementation\")\n",
        "\n",
        "  def mean(self, inputList) :\n",
        "    return np.sum(inputList) / len(inputList)\n",
        "\n",
        "  def variance(self, inputList) :\n",
        "    sum = 0\n",
        "    mean = self.mean(inputList)\n",
        "    for data in inputList:\n",
        "      sum += (data-mean)**2\n",
        "\n",
        "    var = sum/(len(inputList) - 1)\n",
        "    return var\n",
        "\n",
        "  def covariance(self, input_x, input_y):\n",
        "    sum = 0\n",
        "    mean_x = self.mean(input_x)\n",
        "    mean_y = self.mean(input_y)\n",
        "    for a,b in zip(input_x, input_y):\n",
        "      sum+= (a-mean_x)*(b-mean_y)\n",
        "\n",
        "    covar = sum / (len(input_x) - 1)\n",
        "    return covar\n",
        "\n",
        "  def __repr__(self):\n",
        "    rep = 'LinearRegression for calculating the regression'\n",
        "    return rep\n",
        "\n",
        "lr = LinearRegression()\n",
        "print(lr.covariance([65.21, 64.75, 65.26, 65.76, 65.96], [67.25, 66.39, 66.12, 65.70, 66.64]))"
      ],
      "id": "later-hanging",
      "execution_count": null,
      "outputs": [
        {
          "output_type": "stream",
          "text": [
            "LinearRegression Implementation\n",
            "-0.05805000000000284\n"
          ],
          "name": "stdout"
        }
      ]
    },
    {
      "cell_type": "markdown",
      "metadata": {
        "id": "relative-plaza"
      },
      "source": [
        "#### Exercise 6: In the above defined Linear Regression class, add a method named 'fit' which takes two values as input (x, y) and returns the estimated coefficients.\n",
        "\n",
        "**Hint:**\n",
        "\n",
        "- Equation of line : $  y = b_{0} + b_{1} * x $\n",
        "- The estimated coefficients i.e. values of $b_{0}$ and $b_{1}$ are calculated as below\n",
        "    - $ b_{1} = covariance(x,y) / variance(x) $ and\n",
        "    - $ b_{0} = mean(y) - b_{1} * mean(x)$"
      ],
      "id": "relative-plaza"
    },
    {
      "cell_type": "markdown",
      "metadata": {
        "id": "proud-choir"
      },
      "source": [
        "#### Exercise 7: In the above defined Linear Regression class, add a method named predict which takes two values as input (x, y) and returns the predicted values.\n",
        "\n",
        "**Hint:** substitute the estimated coefficients values calculated above in the equation of line i.e $  y = b_{0} + b_{1} * x $"
      ],
      "id": "proud-choir"
    },
    {
      "cell_type": "code",
      "metadata": {
        "id": "political-priest",
        "colab": {
          "base_uri": "https://localhost:8080/"
        },
        "outputId": "813b10d4-32db-4c6f-9112-e2ca228d059c"
      },
      "source": [
        "class LinearRegression:\n",
        "\n",
        "  def __init__(self):\n",
        "    print(\"LinearRegression Implementation\")\n",
        "\n",
        "  def mean(self, inputList) :\n",
        "    return np.sum(inputList) / len(inputList)\n",
        "\n",
        "  def variance(self, inputList) :\n",
        "    sum = 0\n",
        "    mean = self.mean(inputList)\n",
        "    for data in inputList:\n",
        "      sum += (data-mean)**2\n",
        "\n",
        "    var = sum/(len(inputList) - 1)\n",
        "    return var\n",
        "\n",
        "  def covariance(self, input_x, input_y):\n",
        "    sum = 0\n",
        "    mean_x = self.mean(input_x)\n",
        "    mean_y = self.mean(input_y)\n",
        "    for a,b in zip(input_x, input_y):\n",
        "      sum+= (a-mean_x)*(b-mean_y)\n",
        "\n",
        "    covar = sum / (len(input_x) - 1)\n",
        "    return covar\n",
        "\n",
        "  def fit(self, input_x, input_y):\n",
        "    covar = self.covariance(input_x,input_y)\n",
        "    var = self.variance(input_x)\n",
        "    b1 = covar/var\n",
        "    b0 = self.mean(input_y)- (b1 * self.mean(input_x))\n",
        "    return (b0,b1)\n",
        "\n",
        "  def predict(self, input_x, input_y):\n",
        "    input_arr_x = np.array(input_x)\n",
        "    coefficients = self.fit(input_x, input_y)\n",
        "    y = coefficients[0] + coefficients[1]*input_arr_x\n",
        "    return y.tolist()\n",
        "\n",
        "  def __repr__(self):\n",
        "    rep = 'LinearRegression for calculating the regression'\n",
        "    return rep\n",
        "\n",
        "lr = LinearRegression()\n",
        "print(lr.fit([1000, 1125, 1087, 1070, 1100, 1150, 1250, 1150, 1100, 1350, 1275, 1375, 1175, 1200, 1175, 1300, 1260, 1330, 1325, 1200, 1225, 1090, 1075, 1080, 1080, 1180, 1225, 1175, 1250, 1250, 750, 1125, 700, 900, 900, 850],\n",
        "       [1050, 1150, 1213, 1275, 1300, 1300, 1400, 1400, 1250, 1830, 1350, 1450, 1300, 1300, 1275, 1375, 1285, 1400, 1400, 1285, 1275, 1135, 1250, 1275, 1150, 1250, 1275, 1225, 1280, 1300, 1250, 1175, 1300, 1250, 1300, 1200]))\n"
      ],
      "id": "political-priest",
      "execution_count": null,
      "outputs": [
        {
          "output_type": "stream",
          "text": [
            "LinearRegression Implementation\n",
            "(867.6042222620562, 0.3731579359288647)\n"
          ],
          "name": "stdout"
        }
      ]
    },
    {
      "cell_type": "markdown",
      "metadata": {
        "id": "european-spell"
      },
      "source": [
        "#### Data\n",
        "\n",
        "The dataset chosen for this experiment is **Pizza Franchise** dataset. The dataset contains the following data\n",
        "\n",
        "X = annual franchise fee ($1000)\n",
        "\n",
        "Y = start up cost ($1000) for a pizza franchise\n",
        "\n",
        "Download the dataset [here](https://cdn.iisc.talentsprint.com/CDS/Datasets/pizza.csv)"
      ],
      "id": "european-spell"
    },
    {
      "cell_type": "markdown",
      "metadata": {
        "id": "funky-schedule"
      },
      "source": [
        "#### Exercise 8: Using the above defined class LinearRegression, calculate the Estimated coefficients, fit the model, and predict the values on the Pizza Franchise dataset."
      ],
      "id": "funky-schedule"
    },
    {
      "cell_type": "code",
      "metadata": {
        "id": "comic-removal",
        "colab": {
          "base_uri": "https://localhost:8080/"
        },
        "outputId": "1c288d78-aae8-4c8d-ccbd-5d8ecd9ae72c"
      },
      "source": [
        "import pandas as pd\n",
        "\n",
        "df = pd.read_csv('https://cdn.iisc.talentsprint.com/CDS/Datasets/pizza.csv')\n",
        "print(df)\n",
        "print(df.shape)\n",
        "df.dropna(inplace=True)\n",
        "print(df.shape)\n",
        "x = df.X.values.tolist()\n",
        "y = df.Y.values.tolist()\n",
        "print(x)\n",
        "print(y)\n",
        "linear_reg = LinearRegression()\n",
        "predicted = linear_reg.predict(x,y)\n",
        "output = ['{:.2f}'.format(elem) for elem in predicted]\n",
        "print(\"Predicted Values:\")\n",
        "print(output)"
      ],
      "id": "comic-removal",
      "execution_count": null,
      "outputs": [
        {
          "output_type": "stream",
          "text": [
            "       X     Y\n",
            "0   1000  1050\n",
            "1   1125  1150\n",
            "2   1087  1213\n",
            "3   1070  1275\n",
            "4   1100  1300\n",
            "5   1150  1300\n",
            "6   1250  1400\n",
            "7   1150  1400\n",
            "8   1100  1250\n",
            "9   1350  1830\n",
            "10  1275  1350\n",
            "11  1375  1450\n",
            "12  1175  1300\n",
            "13  1200  1300\n",
            "14  1175  1275\n",
            "15  1300  1375\n",
            "16  1260  1285\n",
            "17  1330  1400\n",
            "18  1325  1400\n",
            "19  1200  1285\n",
            "20  1225  1275\n",
            "21  1090  1135\n",
            "22  1075  1250\n",
            "23  1080  1275\n",
            "24  1080  1150\n",
            "25  1180  1250\n",
            "26  1225  1275\n",
            "27  1175  1225\n",
            "28  1250  1280\n",
            "29  1250  1300\n",
            "30   750  1250\n",
            "31  1125  1175\n",
            "32   700  1300\n",
            "33   900  1250\n",
            "34   900  1300\n",
            "35   850  1200\n",
            "(36, 2)\n",
            "(36, 2)\n",
            "[1000, 1125, 1087, 1070, 1100, 1150, 1250, 1150, 1100, 1350, 1275, 1375, 1175, 1200, 1175, 1300, 1260, 1330, 1325, 1200, 1225, 1090, 1075, 1080, 1080, 1180, 1225, 1175, 1250, 1250, 750, 1125, 700, 900, 900, 850]\n",
            "[1050, 1150, 1213, 1275, 1300, 1300, 1400, 1400, 1250, 1830, 1350, 1450, 1300, 1300, 1275, 1375, 1285, 1400, 1400, 1285, 1275, 1135, 1250, 1275, 1150, 1250, 1275, 1225, 1280, 1300, 1250, 1175, 1300, 1250, 1300, 1200]\n",
            "LinearRegression Implementation\n",
            "Predicted Values:\n",
            "['1240.76', '1287.41', '1273.23', '1266.88', '1278.08', '1296.74', '1334.05', '1296.74', '1278.08', '1371.37', '1343.38', '1380.70', '1306.06', '1315.39', '1306.06', '1352.71', '1337.78', '1363.90', '1362.04', '1315.39', '1324.72', '1274.35', '1268.75', '1270.61', '1270.61', '1307.93', '1324.72', '1306.06', '1334.05', '1334.05', '1147.47', '1287.41', '1128.81', '1203.45', '1203.45', '1184.79']\n"
          ],
          "name": "stdout"
        }
      ]
    },
    {
      "cell_type": "code",
      "metadata": {
        "colab": {
          "base_uri": "https://localhost:8080/"
        },
        "id": "WnZ4nSateGEH",
        "outputId": "f78ca7ce-1dd7-401e-825d-30554852da87"
      },
      "source": [
        "class NPLinearRegression(LinearRegression):\n",
        "\n",
        "  def __init__(self):\n",
        "    print(\"NPLinearRegression Implementation\")\n",
        "\n",
        "  def variance(self, inputList) :\n",
        "    mean = self.mean(inputList)\n",
        "    input_arr = np.array(inputList)\n",
        "    var = np.sum((input_arr-mean)**2)/(input_arr.size-1)\n",
        "    return var.item()\n",
        "\n",
        "  def covariance(self, input_x, input_y):\n",
        "    mean_x = self.mean(input_x)\n",
        "    mean_y = self.mean(input_y)\n",
        "    input_arr_x = np.array(input_x)\n",
        "    input_arr_y = np.array(input_y)\n",
        "    covar = np.sum((input_arr_x-mean_x)*(input_arr_y-mean_y))/(input_arr_x.size-1)\n",
        "    return covar.item()\n",
        "\n",
        "  def fit(self, input_x, input_y):\n",
        "    covar = self.covariance(input_x,input_y)\n",
        "    var = self.variance(input_x)\n",
        "    b1 = covar/var\n",
        "    b0 = self.mean(input_y)- (b1 * self.mean(input_x))\n",
        "    return (b0,b1)\n",
        "\n",
        "  def predict(self, input_x, input_y):\n",
        "    input_arr_x = np.array(input_x)\n",
        "    coefficients = self.fit(input_x, input_y)\n",
        "    y = coefficients[0] + coefficients[1]*input_arr_x\n",
        "    return y.tolist()\n",
        "\n",
        "\n",
        "  def __repr__(self):\n",
        "    rep = 'NPLinearRegression for calculating the regression'\n",
        "    return rep\n",
        "\n",
        "\n",
        "linear_reg = NPLinearRegression()\n",
        "predicted = linear_reg.predict(x,y)\n",
        "output = ['{:.2f}'.format(elem) for elem in predicted]\n",
        "print(\"Predicted Values:\")\n",
        "print(output)"
      ],
      "id": "WnZ4nSateGEH",
      "execution_count": null,
      "outputs": [
        {
          "output_type": "stream",
          "text": [
            "NPLinearRegression Implementation\n",
            "Predicted Values:\n",
            "['1240.76', '1287.41', '1273.23', '1266.88', '1278.08', '1296.74', '1334.05', '1296.74', '1278.08', '1371.37', '1343.38', '1380.70', '1306.06', '1315.39', '1306.06', '1352.71', '1337.78', '1363.90', '1362.04', '1315.39', '1324.72', '1274.35', '1268.75', '1270.61', '1270.61', '1307.93', '1324.72', '1306.06', '1334.05', '1334.05', '1147.47', '1287.41', '1128.81', '1203.45', '1203.45', '1184.79']\n"
          ],
          "name": "stdout"
        }
      ]
    },
    {
      "cell_type": "markdown",
      "metadata": {
        "id": "industrial-deposit"
      },
      "source": [
        "#### Exercise 9: In the above defined Linear Regression class, add a method named RMSE which takes two values as input (x, y) and returns the error value.\n",
        "\n",
        "**Hint:**\n",
        "\n",
        "- [How to calculate RSME error](https://towardsdatascience.com/what-does-rmse-really-mean-806b65f2e48e)"
      ],
      "id": "industrial-deposit"
    },
    {
      "cell_type": "code",
      "metadata": {
        "id": "metropolitan-vinyl"
      },
      "source": [
        "class NPLinearRegression(LinearRegression):\n",
        "\n",
        "  def __init__(self):\n",
        "    print(\"NPLinearRegression Implementation\")\n",
        "\n",
        "  def variance(self, inputList) :\n",
        "    mean = self.mean(inputList)\n",
        "    input_arr = np.array(inputList)\n",
        "    var = np.sum((input_arr-mean)**2)/(input_arr.size-1)\n",
        "    return var.item()\n",
        "\n",
        "  def covariance(self, input_x, input_y):\n",
        "    mean_x = self.mean(input_x)\n",
        "    mean_y = self.mean(input_y)\n",
        "    input_arr_x = np.array(input_x)\n",
        "    input_arr_y = np.array(input_y)\n",
        "    covar = np.sum((input_arr_x-mean_x)*(input_arr_y-mean_y))/(input_arr_x.size-1)\n",
        "    return covar.item()\n",
        "\n",
        "  def fit(self, input_x, input_y):\n",
        "    covar = self.covariance(input_x,input_y)\n",
        "    var = self.variance(input_x)\n",
        "    b1 = covar/var\n",
        "    b0 = self.mean(input_y)- (b1 * self.mean(input_x))\n",
        "    return (b0,b1)\n",
        "\n",
        "  def predict(self, input_x, input_y):\n",
        "    input_arr_x = np.array(input_x)\n",
        "    coefficients = self.fit(input_x, input_y)\n",
        "    y = coefficients[0] + coefficients[1]*input_arr_x\n",
        "    return y.tolist()\n",
        "\n",
        "\n",
        "  def root_mean_square_error(self, input_x, input_y):\n",
        "    input_arr_x = np.array(input_x)\n",
        "    input_arr_y = np.array(input_y)\n",
        "    euclidianDist = np.sum((input_arr_x - input_arr_y)**2)\n",
        "    rmse = np.sqrt(euclidianDist/input_arr_x.size).item()\n",
        "    return rmse\n",
        "\n",
        "  def error_np_arr(self, y_pred, y_actual):\n",
        "    input_arr_pred = np.array(y_pred)\n",
        "    input_arr_actual = np.array(y_actual)\n",
        "    return (input_arr_pred - input_arr_actual)\n",
        "\n",
        "  def __repr__(self):\n",
        "    rep = 'NPLinearRegression for calculating the regression'\n",
        "    return rep"
      ],
      "id": "metropolitan-vinyl",
      "execution_count": null,
      "outputs": []
    },
    {
      "cell_type": "markdown",
      "metadata": {
        "id": "three-escape"
      },
      "source": [
        "#### Data\n",
        "\n",
        "The dataset chosen for this exercise is **List Price Vs. Best Price for a New GMC Pickup** dataset. The dataset contains the following data\n",
        "\n",
        "X = List price (in $1000) for a GMC pickup truck\n",
        "\n",
        "Y = Best price (in $1000) for a GMC pickup truck\n",
        "\n",
        "Download the dataset [here](https://cdn.iisc.talentsprint.com/CDS/Datasets/gmc.csv)"
      ],
      "id": "three-escape"
    },
    {
      "cell_type": "markdown",
      "metadata": {
        "id": "eight-israeli"
      },
      "source": [
        "#### Exercise 10: Using above defined class LinearRegression,\n",
        "\n",
        "- calculate the Estimated coefficients, fit the model, and predict the values on the List Price Vs. Best Price for a New GMC Pickup dataset.\n",
        "- calculate the RMSE error on predicted and actual values of List Price Vs. Best Price for a New GMC Pickup dataset using the function defined above."
      ],
      "id": "eight-israeli"
    },
    {
      "cell_type": "code",
      "metadata": {
        "colab": {
          "base_uri": "https://localhost:8080/",
          "height": 914
        },
        "id": "hbtkkxRqfxS4",
        "outputId": "69399081-e511-48f7-8990-9c44df10f0a0"
      },
      "source": [
        "import pandas as pd\n",
        "df = pd.read_csv('https://cdn.iisc.talentsprint.com/CDS/Datasets/gmc.csv')\n",
        "print(df)\n",
        "print(df.shape)\n",
        "df.dropna(inplace=True)\n",
        "print(df.shape)\n",
        "x = df.X.values.tolist()\n",
        "y = df.Y.values.tolist()\n",
        "print(x)\n",
        "print(y)\n",
        "linear_reg = NPLinearRegression()\n",
        "print('Mean x :::::::',linear_reg.mean(x))\n",
        "print('Mean y :::::::',linear_reg.mean(y))\n",
        "print('variance x :::::::',linear_reg.variance(x))\n",
        "print('variance y :::::::',linear_reg.variance(y))\n",
        "print('covariance :::::::',linear_reg.covariance(x,y))\n",
        "print('fit :::::::',linear_reg.fit(x,y))\n",
        "pred_list = linear_reg.predict(x,y)\n",
        "print('predicted ::::::',pred_list)\n",
        "error = linear_reg.root_mean_square_error(pred_list, y)\n",
        "print('root mean error ::::::',error)\n",
        "plt.hist(linear_reg.error_np_arr(pred_list, y) ,30, density=True)\n",
        "plt.show()"
      ],
      "id": "hbtkkxRqfxS4",
      "execution_count": null,
      "outputs": [
        {
          "output_type": "stream",
          "text": [
            "            X          Y\n",
            "0   12.400000  11.200000\n",
            "1   14.300000  12.500000\n",
            "2   14.500000  12.700000\n",
            "3   14.900000  13.100000\n",
            "4   16.100000  14.100000\n",
            "5   16.900000  14.800000\n",
            "6   16.500000  14.400000\n",
            "7   15.400000  13.400000\n",
            "8   17.000000  14.900000\n",
            "9   17.900000  15.600000\n",
            "10  18.799999  16.400000\n",
            "11  20.299999  17.700001\n",
            "12  22.400000  19.600000\n",
            "13  19.400000  16.900000\n",
            "14  15.500000  14.000000\n",
            "15  16.700001  14.600000\n",
            "16  17.299999  15.100000\n",
            "17  18.400000  16.100000\n",
            "18  19.200001  16.799999\n",
            "19  17.400000  15.200000\n",
            "20  19.500000  17.000000\n",
            "21  19.700001  17.200001\n",
            "22  21.200001  18.600000\n",
            "(23, 2)\n",
            "(23, 2)\n",
            "[12.39999962, 14.30000019, 14.5, 14.89999962, 16.10000038, 16.89999962, 16.5, 15.39999962, 17.0, 17.89999962, 18.79999924, 20.29999924, 22.39999962, 19.39999962, 15.5, 16.70000076, 17.29999924, 18.39999962, 19.20000076, 17.39999962, 19.5, 19.70000076, 21.20000076]\n",
            "[11.19999981, 12.5, 12.69999981, 13.10000038, 14.10000038, 14.80000019, 14.39999962, 13.39999962, 14.89999962, 15.60000038, 16.39999962, 17.70000076, 19.60000038, 16.89999962, 14.0, 14.60000038, 15.10000038, 16.10000038, 16.79999924, 15.19999981, 17.0, 17.20000076, 18.60000038]\n",
            "NPLinearRegression Implementation\n",
            "Mean x ::::::: 17.465217300434787\n",
            "Mean y ::::::: 15.300000066086955\n",
            "variance x ::::::: 5.826917169075343\n",
            "variance y ::::::: 4.233636835181986\n",
            "covariance ::::::: 4.959545807584982\n",
            "fit ::::::: (0.43458449082531736, 0.8511440378638502)\n",
            "predicted :::::: [10.988770236902324, 12.605944393995742, 12.776173039851145, 13.11663033156195, 14.13800382386804, 14.818918407289651, 14.478461115578845, 13.542202350493875, 14.90403313451077, 15.6700624451535, 16.436091755796234, 17.712807812592004, 19.500210615540823, 16.946778501949275, 13.627317077714995, 14.648690570021085, 15.159375699000455, 16.095634464085425, 16.776550664680713, 15.244490426221576, 17.031893229170393, 17.202122683612636, 18.478838740408413]\n",
            "root mean error :::::: 0.10868338378542279\n"
          ],
          "name": "stdout"
        },
        {
          "output_type": "display_data",
          "data": {
            "image/png": "[encoded data removed]",
            "text/plain": [
              "<Figure size 432x288 with 1 Axes>"
            ]
          },
          "metadata": {
            "tags": [],
            "needs_background": "light"
          }
        }
      ]
    },
    {
      "cell_type": "markdown",
      "metadata": {
        "id": "7-Mb_sy9go8R"
      },
      "source": [
        "## Using Sciket Learn Library"
      ],
      "id": "7-Mb_sy9go8R"
    },
    {
      "cell_type": "code",
      "metadata": {
        "id": "w-TuPKTogv2U"
      },
      "source": [
        "from sklearn.linear_model import LinearRegression as SKLR\n",
        "from sklearn import metrics"
      ],
      "id": "w-TuPKTogv2U",
      "execution_count": null,
      "outputs": []
    },
    {
      "cell_type": "code",
      "metadata": {
        "colab": {
          "base_uri": "https://localhost:8080/",
          "height": 1000
        },
        "id": "Bk0MjL1KhHmp",
        "outputId": "4b5fcf94-cc18-448a-cce2-fc92849d06b9"
      },
      "source": [
        "linear_reg = SKLR()\n",
        "X = np.array(df.X).reshape(-1, 1)\n",
        "print(\"X\")\n",
        "print(X)\n",
        "y = np.array(df.Y).reshape(-1, 1)\n",
        "print(\"Y\")\n",
        "print(y)\n",
        "reg = linear_reg.fit(X ,y)\n",
        "print('Score on train dataset :::::::',reg.score(X, y))\n",
        "coeff = reg.coef_\n",
        "print('Coefficients',coeff)\n",
        "intercept = reg.intercept_\n",
        "print('Intercept',intercept)\n",
        "y_pred = reg.predict(X)\n",
        "print('Predict: ', y_pred)\n",
        "\n",
        "print('root mean error ::::::', metrics.mean_squared_error(y, y_pred))\n",
        "print('Coefficient of determination: %.2f'\n",
        "      % metrics.r2_score(y, y_pred))\n",
        "\n",
        "\n",
        "# Plot outputs\n",
        "plt.scatter(X, y,  color='black')\n",
        "plt.plot(X, y_pred, color='blue', linewidth=3)\n",
        "\n",
        "plt.xticks(())\n",
        "plt.yticks(())\n",
        "\n",
        "plt.show()"
      ],
      "id": "Bk0MjL1KhHmp",
      "execution_count": null,
      "outputs": [
        {
          "output_type": "stream",
          "text": [
            "X\n",
            "[[12.39999962]\n",
            " [14.30000019]\n",
            " [14.5       ]\n",
            " [14.89999962]\n",
            " [16.10000038]\n",
            " [16.89999962]\n",
            " [16.5       ]\n",
            " [15.39999962]\n",
            " [17.        ]\n",
            " [17.89999962]\n",
            " [18.79999924]\n",
            " [20.29999924]\n",
            " [22.39999962]\n",
            " [19.39999962]\n",
            " [15.5       ]\n",
            " [16.70000076]\n",
            " [17.29999924]\n",
            " [18.39999962]\n",
            " [19.20000076]\n",
            " [17.39999962]\n",
            " [19.5       ]\n",
            " [19.70000076]\n",
            " [21.20000076]]\n",
            "Y\n",
            "[[11.19999981]\n",
            " [12.5       ]\n",
            " [12.69999981]\n",
            " [13.10000038]\n",
            " [14.10000038]\n",
            " [14.80000019]\n",
            " [14.39999962]\n",
            " [13.39999962]\n",
            " [14.89999962]\n",
            " [15.60000038]\n",
            " [16.39999962]\n",
            " [17.70000076]\n",
            " [19.60000038]\n",
            " [16.89999962]\n",
            " [14.        ]\n",
            " [14.60000038]\n",
            " [15.10000038]\n",
            " [16.10000038]\n",
            " [16.79999924]\n",
            " [15.19999981]\n",
            " [17.        ]\n",
            " [17.20000076]\n",
            " [18.60000038]]\n",
            "Score on train dataset ::::::: 0.9970831247402355\n",
            "Coefficients [[0.85114404]]\n",
            "Intercept [0.43458449]\n",
            "Predict:  [[10.98877024]\n",
            " [12.60594439]\n",
            " [12.77617304]\n",
            " [13.11663033]\n",
            " [14.13800382]\n",
            " [14.81891841]\n",
            " [14.47846112]\n",
            " [13.54220235]\n",
            " [14.90403313]\n",
            " [15.67006245]\n",
            " [16.43609176]\n",
            " [17.71280781]\n",
            " [19.50021062]\n",
            " [16.9467785 ]\n",
            " [13.62731708]\n",
            " [14.64869057]\n",
            " [15.1593757 ]\n",
            " [16.09563446]\n",
            " [16.77655066]\n",
            " [15.24449043]\n",
            " [17.03189323]\n",
            " [17.20212268]\n",
            " [18.47883874]]\n",
            "root mean error :::::: 0.011812077911049476\n",
            "Coefficient of determination: 1.00\n"
          ],
          "name": "stdout"
        },
        {
          "output_type": "display_data",
          "data": {
            "image/png": "[encoded data removed]",
            "text/plain": [
              "<Figure size 432x288 with 1 Axes>"
            ]
          },
          "metadata": {
            "tags": []
          }
        }
      ]
    },
    {
      "cell_type": "markdown",
      "metadata": {
        "id": "0ZqYkvLOnBtL"
      },
      "source": [
        "## Using SGDRegressor"
      ],
      "id": "0ZqYkvLOnBtL"
    },
    {
      "cell_type": "code",
      "metadata": {
        "id": "o3EB80Rem_6T"
      },
      "source": [
        "from sklearn.linear_model import SGDRegressor\n",
        "from sklearn.pipeline import make_pipeline\n",
        "from sklearn.preprocessing import StandardScaler"
      ],
      "id": "o3EB80Rem_6T",
      "execution_count": null,
      "outputs": []
    },
    {
      "cell_type": "code",
      "metadata": {
        "colab": {
          "base_uri": "https://localhost:8080/",
          "height": 422
        },
        "id": "PVnsBuYonNG4",
        "outputId": "1c54b206-0aed-4212-a56d-fbbd0a149bef"
      },
      "source": [
        "y_sgd = np.ravel(y)\n",
        "reg = make_pipeline(StandardScaler(), SGDRegressor(max_iter=1000, tol=1e-3))\n",
        "reg.fit(X, y)\n",
        "y_sgd_pred = reg.predict(X)\n",
        "print(\"Predicted Using SGDRegressor\")\n",
        "print(y_sgd_pred)\n",
        "\n",
        "print('root mean error ::::::', metrics.mean_squared_error(y, y_sgd_pred))\n",
        "print('Coefficient of determination: %.2f'\n",
        "      % metrics.r2_score(y, y_sgd_pred))\n",
        "\n",
        "\n",
        "# Plot outputs\n",
        "plt.scatter(X, y,  color='black')\n",
        "plt.plot(X, y_sgd_pred, color='green', linewidth=3)\n",
        "\n",
        "plt.xticks(())\n",
        "plt.yticks(())\n",
        "plt.legend()\n",
        "plt.show()"
      ],
      "id": "PVnsBuYonNG4",
      "execution_count": null,
      "outputs": [
        {
          "output_type": "stream",
          "text": [
            "/usr/local/lib/python3.7/dist-packages/sklearn/utils/validation.py:760: DataConversionWarning: A column-vector y was passed when a 1d array was expected. Please change the shape of y to (n_samples, ), for example using ravel().\n",
            "  y = column_or_1d(y, warn=True)\n",
            "No handles with labels found to put in legend.\n"
          ],
          "name": "stderr"
        },
        {
          "output_type": "stream",
          "text": [
            "Predicted Using SGDRegressor\n",
            "[10.88412466 12.48635274 12.65500811 12.99231887 14.00425273 14.67887423\n",
            " 14.34156348 13.41395771 14.76320232 15.52215192 16.28110151 17.54601804\n",
            " 19.3169015  16.78706844 13.4982858  14.51021966 15.01618499 15.94379076\n",
            " 16.61841387 15.10051308 16.87139653 17.04005271 18.30496924]\n",
            "root mean error :::::: 0.03303443658769306\n",
            "Coefficient of determination: 0.99\n"
          ],
          "name": "stdout"
        },
        {
          "output_type": "display_data",
          "data": {
            "image/png": "[encoded data removed]",
            "text/plain": [
              "<Figure size 432x288 with 1 Axes>"
            ]
          },
          "metadata": {
            "tags": []
          }
        }
      ]
    },
    {
      "cell_type": "markdown",
      "metadata": {
        "id": "qOlaeQDAqPYm"
      },
      "source": [
        "## Prediction Latency"
      ],
      "id": "qOlaeQDAqPYm"
    },
    {
      "cell_type": "code",
      "metadata": {
        "colab": {
          "base_uri": "https://localhost:8080/",
          "height": 1000
        },
        "id": "CLDk-ecSqOej",
        "outputId": "fea37603-998f-4acd-9b6f-aa2a31668277"
      },
      "source": [
        "from collections import defaultdict\n",
        "\n",
        "import time\n",
        "import gc\n",
        "import numpy as np\n",
        "import matplotlib.pyplot as plt\n",
        "\n",
        "from sklearn.preprocessing import StandardScaler\n",
        "from sklearn.model_selection import train_test_split\n",
        "from sklearn.datasets import make_regression\n",
        "from sklearn.ensemble import RandomForestRegressor\n",
        "from sklearn.linear_model import Ridge\n",
        "from sklearn.linear_model import SGDRegressor\n",
        "from sklearn.svm import SVR\n",
        "from sklearn.utils import shuffle\n",
        "\n",
        "\n",
        "def _not_in_sphinx():\n",
        "    # Hack to detect whether we are running by the sphinx builder\n",
        "    return '__file__' in globals()\n",
        "\n",
        "\n",
        "def atomic_benchmark_estimator(estimator, X_test, verbose=False):\n",
        "    \"\"\"Measure runtime prediction of each instance.\"\"\"\n",
        "    n_instances = X_test.shape[0]\n",
        "    runtimes = np.zeros(n_instances, dtype=float)\n",
        "    for i in range(n_instances):\n",
        "        instance = X_test[[i], :]\n",
        "        start = time.time()\n",
        "        estimator.predict(instance)\n",
        "        runtimes[i] = time.time() - start\n",
        "    if verbose:\n",
        "        print(\"atomic_benchmark runtimes:\", min(runtimes), np.percentile(\n",
        "            runtimes, 50), max(runtimes))\n",
        "    return runtimes\n",
        "\n",
        "\n",
        "def bulk_benchmark_estimator(estimator, X_test, n_bulk_repeats, verbose):\n",
        "    \"\"\"Measure runtime prediction of the whole input.\"\"\"\n",
        "    n_instances = X_test.shape[0]\n",
        "    runtimes = np.zeros(n_bulk_repeats, dtype=float)\n",
        "    for i in range(n_bulk_repeats):\n",
        "        start = time.time()\n",
        "        estimator.predict(X_test)\n",
        "        runtimes[i] = time.time() - start\n",
        "    runtimes = np.array(list(map(lambda x: x / float(n_instances), runtimes)))\n",
        "    if verbose:\n",
        "        print(\"bulk_benchmark runtimes:\", min(runtimes), np.percentile(\n",
        "            runtimes, 50), max(runtimes))\n",
        "    return runtimes\n",
        "\n",
        "\n",
        "def benchmark_estimator(estimator, X_test, n_bulk_repeats=30, verbose=False):\n",
        "    \"\"\"\n",
        "    Measure runtimes of prediction in both atomic and bulk mode.\n",
        "\n",
        "    Parameters\n",
        "    ----------\n",
        "    estimator : already trained estimator supporting `predict()`\n",
        "    X_test : test input\n",
        "    n_bulk_repeats : how many times to repeat when evaluating bulk mode\n",
        "\n",
        "    Returns\n",
        "    -------\n",
        "    atomic_runtimes, bulk_runtimes : a pair of `np.array` which contain the\n",
        "    runtimes in seconds.\n",
        "\n",
        "    \"\"\"\n",
        "    atomic_runtimes = atomic_benchmark_estimator(estimator, X_test, verbose)\n",
        "    bulk_runtimes = bulk_benchmark_estimator(estimator, X_test, n_bulk_repeats,\n",
        "                                             verbose)\n",
        "    return atomic_runtimes, bulk_runtimes\n",
        "\n",
        "\n",
        "def generate_dataset(n_train, n_test, n_features, noise=0.1, verbose=False):\n",
        "    \"\"\"Generate a regression dataset with the given parameters.\"\"\"\n",
        "    if verbose:\n",
        "        print(\"generating dataset...\")\n",
        "\n",
        "    X, y, coef = make_regression(n_samples=n_train + n_test,\n",
        "                                 n_features=n_features, noise=noise, coef=True)\n",
        "\n",
        "    random_seed = 13\n",
        "    X_train, X_test, y_train, y_test = train_test_split(\n",
        "        X, y, train_size=n_train, test_size=n_test, random_state=random_seed)\n",
        "    X_train, y_train = shuffle(X_train, y_train, random_state=random_seed)\n",
        "\n",
        "    X_scaler = StandardScaler()\n",
        "    X_train = X_scaler.fit_transform(X_train)\n",
        "    X_test = X_scaler.transform(X_test)\n",
        "\n",
        "    y_scaler = StandardScaler()\n",
        "    y_train = y_scaler.fit_transform(y_train[:, None])[:, 0]\n",
        "    y_test = y_scaler.transform(y_test[:, None])[:, 0]\n",
        "\n",
        "    gc.collect()\n",
        "    if verbose:\n",
        "        print(\"ok\")\n",
        "    return X_train, y_train, X_test, y_test\n",
        "\n",
        "\n",
        "def boxplot_runtimes(runtimes, pred_type, configuration):\n",
        "    \"\"\"\n",
        "    Plot a new `Figure` with boxplots of prediction runtimes.\n",
        "\n",
        "    Parameters\n",
        "    ----------\n",
        "    runtimes : list of `np.array` of latencies in micro-seconds\n",
        "    cls_names : list of estimator class names that generated the runtimes\n",
        "    pred_type : 'bulk' or 'atomic'\n",
        "\n",
        "    \"\"\"\n",
        "\n",
        "    fig, ax1 = plt.subplots(figsize=(10, 6))\n",
        "    bp = plt.boxplot(runtimes, )\n",
        "\n",
        "    cls_infos = ['%s\\n(%d %s)' % (estimator_conf['name'],\n",
        "                                  estimator_conf['complexity_computer'](\n",
        "                                      estimator_conf['instance']),\n",
        "                                  estimator_conf['complexity_label']) for\n",
        "                 estimator_conf in configuration['estimators']]\n",
        "    plt.setp(ax1, xticklabels=cls_infos)\n",
        "    plt.setp(bp['boxes'], color='black')\n",
        "    plt.setp(bp['whiskers'], color='black')\n",
        "    plt.setp(bp['fliers'], color='red', marker='+')\n",
        "\n",
        "    ax1.yaxis.grid(True, linestyle='-', which='major', color='lightgrey',\n",
        "                   alpha=0.5)\n",
        "\n",
        "    ax1.set_axisbelow(True)\n",
        "    ax1.set_title('Prediction Time per Instance - %s, %d feats.' % (\n",
        "        pred_type.capitalize(),\n",
        "        configuration['n_features']))\n",
        "    ax1.set_ylabel('Prediction Time (us)')\n",
        "\n",
        "    plt.show()\n",
        "\n",
        "\n",
        "def benchmark(configuration):\n",
        "    \"\"\"Run the whole benchmark.\"\"\"\n",
        "    X_train, y_train, X_test, y_test = generate_dataset(\n",
        "        configuration['n_train'], configuration['n_test'],\n",
        "        configuration['n_features'])\n",
        "\n",
        "    stats = {}\n",
        "    for estimator_conf in configuration['estimators']:\n",
        "        print(\"Benchmarking\", estimator_conf['instance'])\n",
        "        estimator_conf['instance'].fit(X_train, y_train)\n",
        "        gc.collect()\n",
        "        a, b = benchmark_estimator(estimator_conf['instance'], X_test)\n",
        "        stats[estimator_conf['name']] = {'atomic': a, 'bulk': b}\n",
        "\n",
        "    cls_names = [estimator_conf['name'] for estimator_conf in configuration[\n",
        "        'estimators']]\n",
        "    runtimes = [1e6 * stats[clf_name]['atomic'] for clf_name in cls_names]\n",
        "    boxplot_runtimes(runtimes, 'atomic', configuration)\n",
        "    runtimes = [1e6 * stats[clf_name]['bulk'] for clf_name in cls_names]\n",
        "    boxplot_runtimes(runtimes, 'bulk (%d)' % configuration['n_test'],\n",
        "                     configuration)\n",
        "\n",
        "\n",
        "def n_feature_influence(estimators, n_train, n_test, n_features, percentile):\n",
        "    \"\"\"\n",
        "    Estimate influence of the number of features on prediction time.\n",
        "\n",
        "    Parameters\n",
        "    ----------\n",
        "\n",
        "    estimators : dict of (name (str), estimator) to benchmark\n",
        "    n_train : nber of training instances (int)\n",
        "    n_test : nber of testing instances (int)\n",
        "    n_features : list of feature-space dimensionality to test (int)\n",
        "    percentile : percentile at which to measure the speed (int [0-100])\n",
        "\n",
        "    Returns:\n",
        "    --------\n",
        "\n",
        "    percentiles : dict(estimator_name,\n",
        "                       dict(n_features, percentile_perf_in_us))\n",
        "\n",
        "    \"\"\"\n",
        "    percentiles = defaultdict(defaultdict)\n",
        "    for n in n_features:\n",
        "        print(\"benchmarking with %d features\" % n)\n",
        "        X_train, y_train, X_test, y_test = generate_dataset(n_train, n_test, n)\n",
        "        for cls_name, estimator in estimators.items():\n",
        "            estimator.fit(X_train, y_train)\n",
        "            gc.collect()\n",
        "            runtimes = bulk_benchmark_estimator(estimator, X_test, 30, False)\n",
        "            percentiles[cls_name][n] = 1e6 * np.percentile(runtimes,\n",
        "                                                           percentile)\n",
        "    return percentiles\n",
        "\n",
        "\n",
        "def plot_n_features_influence(percentiles, percentile):\n",
        "    fig, ax1 = plt.subplots(figsize=(10, 6))\n",
        "    colors = ['r', 'g', 'b']\n",
        "    for i, cls_name in enumerate(percentiles.keys()):\n",
        "        x = np.array(sorted([n for n in percentiles[cls_name].keys()]))\n",
        "        y = np.array([percentiles[cls_name][n] for n in x])\n",
        "        plt.plot(x, y, color=colors[i], )\n",
        "    ax1.yaxis.grid(True, linestyle='-', which='major', color='lightgrey',\n",
        "                   alpha=0.5)\n",
        "    ax1.set_axisbelow(True)\n",
        "    ax1.set_title('Evolution of Prediction Time with #Features')\n",
        "    ax1.set_xlabel('#Features')\n",
        "    ax1.set_ylabel('Prediction Time at %d%%-ile (us)' % percentile)\n",
        "    plt.show()\n",
        "\n",
        "\n",
        "def benchmark_throughputs(configuration, duration_secs=0.1):\n",
        "    \"\"\"benchmark throughput for different estimators.\"\"\"\n",
        "    X_train, y_train, X_test, y_test = generate_dataset(\n",
        "        configuration['n_train'], configuration['n_test'],\n",
        "        configuration['n_features'])\n",
        "    throughputs = dict()\n",
        "    for estimator_config in configuration['estimators']:\n",
        "        estimator_config['instance'].fit(X_train, y_train)\n",
        "        start_time = time.time()\n",
        "        n_predictions = 0\n",
        "        while (time.time() - start_time) < duration_secs:\n",
        "            estimator_config['instance'].predict(X_test[[0]])\n",
        "            n_predictions += 1\n",
        "        throughputs[estimator_config['name']] = n_predictions / duration_secs\n",
        "    return throughputs\n",
        "\n",
        "\n",
        "def plot_benchmark_throughput(throughputs, configuration):\n",
        "    fig, ax = plt.subplots(figsize=(10, 6))\n",
        "    colors = ['r', 'g', 'b']\n",
        "    cls_infos = ['%s\\n(%d %s)' % (estimator_conf['name'],\n",
        "                                  estimator_conf['complexity_computer'](\n",
        "                                      estimator_conf['instance']),\n",
        "                                  estimator_conf['complexity_label']) for\n",
        "                 estimator_conf in configuration['estimators']]\n",
        "    cls_values = [throughputs[estimator_conf['name']] for estimator_conf in\n",
        "                  configuration['estimators']]\n",
        "    plt.bar(range(len(throughputs)), cls_values, width=0.5, color=colors)\n",
        "    ax.set_xticks(np.linspace(0.25, len(throughputs) - 0.75, len(throughputs)))\n",
        "    ax.set_xticklabels(cls_infos, fontsize=10)\n",
        "    ymax = max(cls_values) * 1.2\n",
        "    ax.set_ylim((0, ymax))\n",
        "    ax.set_ylabel('Throughput (predictions/sec)')\n",
        "    ax.set_title('Prediction Throughput for different estimators (%d '\n",
        "                 'features)' % configuration['n_features'])\n",
        "    plt.show()\n",
        "\n",
        "\n",
        "# #############################################################################\n",
        "# Main code\n",
        "\n",
        "start_time = time.time()\n",
        "\n",
        "# #############################################################################\n",
        "# Benchmark bulk/atomic prediction speed for various regressors\n",
        "configuration = {\n",
        "    'n_train': int(1e3),\n",
        "    'n_test': int(1e2),\n",
        "    'n_features': int(1e2),\n",
        "    'estimators': [\n",
        "        {'name': 'Linear Model',\n",
        "         'instance': SGDRegressor(penalty='elasticnet', alpha=0.01,\n",
        "                                  l1_ratio=0.25, tol=1e-4),\n",
        "         'complexity_label': 'non-zero coefficients',\n",
        "         'complexity_computer': lambda clf: np.count_nonzero(clf.coef_)},\n",
        "        {'name': 'RandomForest',\n",
        "         'instance': RandomForestRegressor(),\n",
        "         'complexity_label': 'estimators',\n",
        "         'complexity_computer': lambda clf: clf.n_estimators},\n",
        "        {'name': 'SVR',\n",
        "         'instance': SVR(kernel='rbf'),\n",
        "         'complexity_label': 'support vectors',\n",
        "         'complexity_computer': lambda clf: len(clf.support_vectors_)},\n",
        "    ]\n",
        "}\n",
        "benchmark(configuration)\n",
        "\n",
        "# benchmark n_features influence on prediction speed\n",
        "percentile = 90\n",
        "percentiles = n_feature_influence({'ridge': Ridge()},\n",
        "                                  configuration['n_train'],\n",
        "                                  configuration['n_test'],\n",
        "                                  [100, 250, 500], percentile)\n",
        "plot_n_features_influence(percentiles, percentile)\n",
        "\n",
        "# benchmark throughput\n",
        "throughputs = benchmark_throughputs(configuration)\n",
        "plot_benchmark_throughput(throughputs, configuration)\n",
        "\n",
        "stop_time = time.time()\n",
        "print(\"example run in %.2fs\" % (stop_time - start_time))"
      ],
      "id": "CLDk-ecSqOej",
      "execution_count": null,
      "outputs": [
        {
          "output_type": "stream",
          "text": [
            "Benchmarking SGDRegressor(alpha=0.01, average=False, early_stopping=False, epsilon=0.1,\n",
            "             eta0=0.01, fit_intercept=True, l1_ratio=0.25,\n",
            "             learning_rate='invscaling', loss='squared_loss', max_iter=1000,\n",
            "             n_iter_no_change=5, penalty='elasticnet', power_t=0.25,\n",
            "             random_state=None, shuffle=True, tol=0.0001,\n",
            "             validation_fraction=0.1, verbose=0, warm_start=False)\n",
            "Benchmarking RandomForestRegressor(bootstrap=True, ccp_alpha=0.0, criterion='mse',\n",
            "                      max_depth=None, max_features='auto', max_leaf_nodes=None,\n",
            "                      max_samples=None, min_impurity_decrease=0.0,\n",
            "                      min_impurity_split=None, min_samples_leaf=1,\n",
            "                      min_samples_split=2, min_weight_fraction_leaf=0.0,\n",
            "                      n_estimators=100, n_jobs=None, oob_score=False,\n",
            "                      random_state=None, verbose=0, warm_start=False)\n",
            "Benchmarking SVR(C=1.0, cache_size=200, coef0=0.0, degree=3, epsilon=0.1, gamma='scale',\n",
            "    kernel='rbf', max_iter=-1, shrinking=True, tol=0.001, verbose=False)\n"
          ],
          "name": "stdout"
        },
        {
          "output_type": "display_data",
          "data": {
            "image/png": "[encoded data removed]",
            "text/plain": [
              "<Figure size 720x432 with 1 Axes>"
            ]
          },
          "metadata": {
            "tags": [],
            "needs_background": "light"
          }
        },
        {
          "output_type": "display_data",
          "data": {
            "image/png": "[encoded data removed]",
            "text/plain": [
              "<Figure size 720x432 with 1 Axes>"
            ]
          },
          "metadata": {
            "tags": [],
            "needs_background": "light"
          }
        },
        {
          "output_type": "stream",
          "text": [
            "benchmarking with 100 features\n",
            "benchmarking with 250 features\n",
            "benchmarking with 500 features\n"
          ],
          "name": "stdout"
        },
        {
          "output_type": "display_data",
          "data": {
            "image/png": "[encoded data removed]",
            "text/plain": [
              "<Figure size 720x432 with 1 Axes>"
            ]
          },
          "metadata": {
            "tags": [],
            "needs_background": "light"
          }
        },
        {
          "output_type": "display_data",
          "data": {
            "image/png": "[encoded data removed]",
            "text/plain": [
              "<Figure size 720x432 with 1 Axes>"
            ]
          },
          "metadata": {
            "tags": [],
            "needs_background": "light"
          }
        },
        {
          "output_type": "stream",
          "text": [
            "example run in 13.77s\n"
          ],
          "name": "stdout"
        }
      ]
    }
  ]
}