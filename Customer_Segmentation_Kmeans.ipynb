{
  "nbformat": 4,
  "nbformat_minor": 0,
  "metadata": {
    "colab": {
      "provenance": [],
      "include_colab_link": true
    },
    "kernelspec": {
      "display_name": "Python 3",
      "language": "python",
      "name": "python3"
    },
    "language_info": {
      "codemirror_mode": {
        "name": "ipython",
        "version": 3
      },
      "file_extension": ".py",
      "mimetype": "text/x-python",
      "name": "python",
      "nbconvert_exporter": "python",
      "pygments_lexer": "ipython3",
      "version": "3.6.9"
    }
  },
  "cells": [
    {
      "cell_type": "markdown",
      "metadata": {
        "id": "view-in-github",
        "colab_type": "text"
      },
      "source": [
        "<a href=\"https://colab.research.google.com/github/DattaIn/idatta.github.io/blob/master/Customer_Segmentation_Kmeans.ipynb\" target=\"_parent\"><img src=\"https://colab.research.google.com/assets/colab-badge.svg\" alt=\"Open In Colab\"/></a>"
      ]
    },
    {
      "cell_type": "markdown",
      "metadata": {
        "id": "aUUu9l_JfJ92"
      },
      "source": [
        "# Advanced Certification Program in Computational Data Science\n",
        "\n",
        "##  A program by IISc and TalentSprint\n",
        "\n",
        "### Mini Project Notebook: Customer segmentation using clustering"
      ]
    },
    {
      "cell_type": "markdown",
      "metadata": {
        "id": "SL3yrUc-XrLS"
      },
      "source": [
        "## Learning Objectives"
      ]
    },
    {
      "cell_type": "markdown",
      "metadata": {
        "id": "7jZ3M2hjiyb0"
      },
      "source": [
        "At the end of the experiment, you will be able to :\n",
        "\n",
        "* extract summary level insight from a given customer dataset.\n",
        "\n",
        "* handle the missing data and identify the underlying pattern or structure of the data.\n",
        "\n",
        "* create an unsupervised model that generates the optimum number of segments for the customer base\n",
        "\n",
        "* identify customer segments based on the overall buying behaviour\n"
      ]
    },
    {
      "cell_type": "markdown",
      "metadata": {
        "id": "-EqvTSjZZIUE"
      },
      "source": [
        "## Dataset"
      ]
    },
    {
      "cell_type": "markdown",
      "metadata": {
        "id": "interior-simple"
      },
      "source": [
        "The dataset chosen for this mini project is the Online Retail dataset. It is a transnational data set which contains all the transactions occurring between 01/12/2010 and 09/12/2011 for a UK-based and registered non-store online retail.\n",
        "\n",
        "The dataset contains 541909 records, and each record is made up of 8 fields.\n",
        "\n",
        "To know more about the dataset : [click here](https://archive.ics.uci.edu/ml/datasets/Online+Retail)"
      ]
    },
    {
      "cell_type": "markdown",
      "metadata": {
        "id": "OnFlaGNVFJI3"
      },
      "source": [
        "## Information"
      ]
    },
    {
      "cell_type": "markdown",
      "metadata": {
        "id": "Pyj3MM1li34l"
      },
      "source": [
        "**Clustering** is the task of grouping together a set of objects so that the objects in the same cluster are more similar to each other than to objects in other clusters. Similarity is a measure that reflects the strength of the relationship between two data objects.\n",
        "\n",
        "In the clustering calculation, K-Means is a very popular algorithm. In this analysis, this method is used to cluster the similar data items.\n",
        "\n",
        "In Retail and E-Commerce (B2C), and more broadly in B2B, one of the key elements shaping the business strategy of a firm is understanding of customer behaviour. More specifically, understanding the customers based on different business metrics: how much they spend (revenue), how often they spend (frequency), are they new or existing customers, what are their favorite products, etc... Such understanding in turn helps direct marketing, sales, account management and product teams to support customers on a personalized level and improve the product offering.\n",
        "\n",
        "Furthermore, segmenting customers into different categories based on similar/cyclical buying pattern over a period of 1 year helps the retail shops manage their inventory better, thereby lowering costs and raising revenues by placing the orders in sync with the buying cycles."
      ]
    },
    {
      "cell_type": "markdown",
      "metadata": {
        "id": "eY8QnQQ_i8oy"
      },
      "source": [
        "## Problem Statement"
      ]
    },
    {
      "cell_type": "markdown",
      "metadata": {
        "id": "MhyOGhrYi8oz"
      },
      "source": [
        "Perform customer segmentation for an Online Retail using an Unsupervised Clustering technique (K-Means)"
      ]
    },
    {
      "cell_type": "markdown",
      "metadata": {
        "id": "abstract-stocks"
      },
      "source": [
        "### Import Required packages"
      ]
    },
    {
      "cell_type": "code",
      "metadata": {
        "id": "advisory-knowing"
      },
      "source": [
        "from matplotlib import pyplot as plt\n",
        "import numpy as np\n",
        "import pandas as pd\n",
        "import seaborn as sns\n",
        "import scipy\n",
        "from scipy import stats\n",
        "from sklearn.cluster import KMeans\n",
        "from sklearn.model_selection import train_test_split\n",
        "from sklearn.preprocessing import StandardScaler\n",
        "from sklearn.cluster import DBSCAN"
      ],
      "execution_count": null,
      "outputs": []
    },
    {
      "cell_type": "markdown",
      "metadata": {
        "id": "bound-basement"
      },
      "source": [
        "## Data Wrangling"
      ]
    },
    {
      "cell_type": "code",
      "metadata": {
        "id": "PXJixnAljGfN",
        "cellView": "form"
      },
      "source": [
        "#@title Download the data\n",
        "!wget -qq https://cdn.iisc.talentsprint.com/CDS/MiniProjects/Online_Retail.zip\n",
        "!unzip -qq Online_Retail.zip"
      ],
      "execution_count": null,
      "outputs": []
    },
    {
      "cell_type": "markdown",
      "metadata": {
        "id": "7Vu9jhC5jJHs"
      },
      "source": [
        "## Load the data"
      ]
    },
    {
      "cell_type": "code",
      "metadata": {
        "id": "RdvmgyZRdZup"
      },
      "source": [
        "# YOUR CODE HERE\n",
        "train_df = pd.read_csv('/content/Online_Retail_Train.csv')\n",
        "test_df = pd.read_csv('/content/Online_Retail_Test.csv')"
      ],
      "execution_count": null,
      "outputs": []
    },
    {
      "cell_type": "code",
      "metadata": {
        "colab": {
          "base_uri": "https://localhost:8080/",
          "height": 206
        },
        "id": "-fOGnF4G78DJ",
        "outputId": "fbd90968-aaeb-49e3-c8b5-c8fe35c127bd"
      },
      "source": [
        "train_df.head()"
      ],
      "execution_count": null,
      "outputs": [
        {
          "output_type": "execute_result",
          "data": {
            "text/html": [
              "<div>\n",
              "<style scoped>\n",
              "    .dataframe tbody tr th:only-of-type {\n",
              "        vertical-align: middle;\n",
              "    }\n",
              "\n",
              "    .dataframe tbody tr th {\n",
              "        vertical-align: top;\n",
              "    }\n",
              "\n",
              "    .dataframe thead th {\n",
              "        text-align: right;\n",
              "    }\n",
              "</style>\n",
              "<table border=\"1\" class=\"dataframe\">\n",
              "  <thead>\n",
              "    <tr style=\"text-align: right;\">\n",
              "      <th></th>\n",
              "      <th>InvoiceNo</th>\n",
              "      <th>StockCode</th>\n",
              "      <th>Description</th>\n",
              "      <th>Quantity</th>\n",
              "      <th>InvoiceDate</th>\n",
              "      <th>UnitPrice</th>\n",
              "      <th>CustomerID</th>\n",
              "      <th>Country</th>\n",
              "    </tr>\n",
              "  </thead>\n",
              "  <tbody>\n",
              "    <tr>\n",
              "      <th>0</th>\n",
              "      <td>579427</td>\n",
              "      <td>22636</td>\n",
              "      <td>CHILDS BREAKFAST SET CIRCUS PARADE</td>\n",
              "      <td>2</td>\n",
              "      <td>2011-11-29 13:04:00</td>\n",
              "      <td>8.50</td>\n",
              "      <td>16479.0</td>\n",
              "      <td>United Kingdom</td>\n",
              "    </tr>\n",
              "    <tr>\n",
              "      <th>1</th>\n",
              "      <td>554092</td>\n",
              "      <td>21916</td>\n",
              "      <td>SET 12 RETRO WHITE CHALK STICKS</td>\n",
              "      <td>24</td>\n",
              "      <td>2011-05-22 12:41:00</td>\n",
              "      <td>0.42</td>\n",
              "      <td>17176.0</td>\n",
              "      <td>United Kingdom</td>\n",
              "    </tr>\n",
              "    <tr>\n",
              "      <th>2</th>\n",
              "      <td>577774</td>\n",
              "      <td>84692</td>\n",
              "      <td>BOX OF 24 COCKTAIL PARASOLS</td>\n",
              "      <td>6</td>\n",
              "      <td>2011-11-21 15:57:00</td>\n",
              "      <td>0.42</td>\n",
              "      <td>16712.0</td>\n",
              "      <td>United Kingdom</td>\n",
              "    </tr>\n",
              "    <tr>\n",
              "      <th>3</th>\n",
              "      <td>C571196</td>\n",
              "      <td>23350</td>\n",
              "      <td>ROLL WRAP VINTAGE SPOT</td>\n",
              "      <td>-12</td>\n",
              "      <td>2011-10-14 12:02:00</td>\n",
              "      <td>1.25</td>\n",
              "      <td>NaN</td>\n",
              "      <td>United Kingdom</td>\n",
              "    </tr>\n",
              "    <tr>\n",
              "      <th>4</th>\n",
              "      <td>546649</td>\n",
              "      <td>84509a</td>\n",
              "      <td>SET OF 4 ENGLISH ROSE PLACEMATS</td>\n",
              "      <td>1</td>\n",
              "      <td>2011-03-15 14:17:00</td>\n",
              "      <td>7.46</td>\n",
              "      <td>NaN</td>\n",
              "      <td>United Kingdom</td>\n",
              "    </tr>\n",
              "  </tbody>\n",
              "</table>\n",
              "</div>"
            ],
            "text/plain": [
              "  InvoiceNo StockCode  ... CustomerID         Country\n",
              "0    579427     22636  ...    16479.0  United Kingdom\n",
              "1    554092     21916  ...    17176.0  United Kingdom\n",
              "2    577774     84692  ...    16712.0  United Kingdom\n",
              "3   C571196     23350  ...        NaN  United Kingdom\n",
              "4    546649    84509a  ...        NaN  United Kingdom\n",
              "\n",
              "[5 rows x 8 columns]"
            ]
          },
          "metadata": {
            "tags": []
          },
          "execution_count": 4
        }
      ]
    },
    {
      "cell_type": "code",
      "metadata": {
        "colab": {
          "base_uri": "https://localhost:8080/",
          "height": 206
        },
        "id": "LqwgRVm98Ady",
        "outputId": "064d24eb-4d5b-4ec5-fdb3-99af184d27bb"
      },
      "source": [
        "test_df.head()"
      ],
      "execution_count": null,
      "outputs": [
        {
          "output_type": "execute_result",
          "data": {
            "text/html": [
              "<div>\n",
              "<style scoped>\n",
              "    .dataframe tbody tr th:only-of-type {\n",
              "        vertical-align: middle;\n",
              "    }\n",
              "\n",
              "    .dataframe tbody tr th {\n",
              "        vertical-align: top;\n",
              "    }\n",
              "\n",
              "    .dataframe thead th {\n",
              "        text-align: right;\n",
              "    }\n",
              "</style>\n",
              "<table border=\"1\" class=\"dataframe\">\n",
              "  <thead>\n",
              "    <tr style=\"text-align: right;\">\n",
              "      <th></th>\n",
              "      <th>InvoiceNo</th>\n",
              "      <th>StockCode</th>\n",
              "      <th>Description</th>\n",
              "      <th>Quantity</th>\n",
              "      <th>InvoiceDate</th>\n",
              "      <th>UnitPrice</th>\n",
              "      <th>CustomerID</th>\n",
              "      <th>Country</th>\n",
              "    </tr>\n",
              "  </thead>\n",
              "  <tbody>\n",
              "    <tr>\n",
              "      <th>0</th>\n",
              "      <td>555200</td>\n",
              "      <td>71459</td>\n",
              "      <td>HANGING JAM JAR T-LIGHT HOLDER</td>\n",
              "      <td>24</td>\n",
              "      <td>2011-06-01 12:05:00</td>\n",
              "      <td>0.85</td>\n",
              "      <td>17315.0</td>\n",
              "      <td>United Kingdom</td>\n",
              "    </tr>\n",
              "    <tr>\n",
              "      <th>1</th>\n",
              "      <td>554974</td>\n",
              "      <td>21128</td>\n",
              "      <td>GOLD FISHING GNOME</td>\n",
              "      <td>4</td>\n",
              "      <td>2011-05-27 17:14:00</td>\n",
              "      <td>6.95</td>\n",
              "      <td>14031.0</td>\n",
              "      <td>United Kingdom</td>\n",
              "    </tr>\n",
              "    <tr>\n",
              "      <th>2</th>\n",
              "      <td>550972</td>\n",
              "      <td>21086</td>\n",
              "      <td>SET/6 RED SPOTTY PAPER CUPS</td>\n",
              "      <td>4</td>\n",
              "      <td>2011-04-21 17:05:00</td>\n",
              "      <td>0.65</td>\n",
              "      <td>14031.0</td>\n",
              "      <td>United Kingdom</td>\n",
              "    </tr>\n",
              "    <tr>\n",
              "      <th>3</th>\n",
              "      <td>576652</td>\n",
              "      <td>22812</td>\n",
              "      <td>PACK 3 BOXES CHRISTMAS PANETTONE</td>\n",
              "      <td>3</td>\n",
              "      <td>2011-11-16 10:39:00</td>\n",
              "      <td>1.95</td>\n",
              "      <td>17198.0</td>\n",
              "      <td>United Kingdom</td>\n",
              "    </tr>\n",
              "    <tr>\n",
              "      <th>4</th>\n",
              "      <td>546157</td>\n",
              "      <td>22180</td>\n",
              "      <td>RETROSPOT LAMP</td>\n",
              "      <td>2</td>\n",
              "      <td>2011-03-10 08:40:00</td>\n",
              "      <td>9.95</td>\n",
              "      <td>13502.0</td>\n",
              "      <td>United Kingdom</td>\n",
              "    </tr>\n",
              "  </tbody>\n",
              "</table>\n",
              "</div>"
            ],
            "text/plain": [
              "  InvoiceNo StockCode  ... CustomerID         Country\n",
              "0    555200     71459  ...    17315.0  United Kingdom\n",
              "1    554974     21128  ...    14031.0  United Kingdom\n",
              "2    550972     21086  ...    14031.0  United Kingdom\n",
              "3    576652     22812  ...    17198.0  United Kingdom\n",
              "4    546157     22180  ...    13502.0  United Kingdom\n",
              "\n",
              "[5 rows x 8 columns]"
            ]
          },
          "metadata": {
            "tags": []
          },
          "execution_count": 5
        }
      ]
    },
    {
      "cell_type": "code",
      "metadata": {
        "colab": {
          "base_uri": "https://localhost:8080/",
          "height": 300
        },
        "id": "zuPl0lQ28E2B",
        "outputId": "202d697a-2303-4631-8042-8abafb472a10"
      },
      "source": [
        "train_df.describe()"
      ],
      "execution_count": null,
      "outputs": [
        {
          "output_type": "execute_result",
          "data": {
            "text/html": [
              "<div>\n",
              "<style scoped>\n",
              "    .dataframe tbody tr th:only-of-type {\n",
              "        vertical-align: middle;\n",
              "    }\n",
              "\n",
              "    .dataframe tbody tr th {\n",
              "        vertical-align: top;\n",
              "    }\n",
              "\n",
              "    .dataframe thead th {\n",
              "        text-align: right;\n",
              "    }\n",
              "</style>\n",
              "<table border=\"1\" class=\"dataframe\">\n",
              "  <thead>\n",
              "    <tr style=\"text-align: right;\">\n",
              "      <th></th>\n",
              "      <th>Quantity</th>\n",
              "      <th>UnitPrice</th>\n",
              "      <th>CustomerID</th>\n",
              "    </tr>\n",
              "  </thead>\n",
              "  <tbody>\n",
              "    <tr>\n",
              "      <th>count</th>\n",
              "      <td>514813.000000</td>\n",
              "      <td>514813.000000</td>\n",
              "      <td>386550.000000</td>\n",
              "    </tr>\n",
              "    <tr>\n",
              "      <th>mean</th>\n",
              "      <td>9.552498</td>\n",
              "      <td>4.586406</td>\n",
              "      <td>15288.936753</td>\n",
              "    </tr>\n",
              "    <tr>\n",
              "      <th>std</th>\n",
              "      <td>223.529242</td>\n",
              "      <td>95.660226</td>\n",
              "      <td>1713.565852</td>\n",
              "    </tr>\n",
              "    <tr>\n",
              "      <th>min</th>\n",
              "      <td>-80995.000000</td>\n",
              "      <td>-11062.060000</td>\n",
              "      <td>12346.000000</td>\n",
              "    </tr>\n",
              "    <tr>\n",
              "      <th>25%</th>\n",
              "      <td>1.000000</td>\n",
              "      <td>1.250000</td>\n",
              "      <td>13955.000000</td>\n",
              "    </tr>\n",
              "    <tr>\n",
              "      <th>50%</th>\n",
              "      <td>3.000000</td>\n",
              "      <td>2.080000</td>\n",
              "      <td>15152.000000</td>\n",
              "    </tr>\n",
              "    <tr>\n",
              "      <th>75%</th>\n",
              "      <td>10.000000</td>\n",
              "      <td>4.130000</td>\n",
              "      <td>16791.000000</td>\n",
              "    </tr>\n",
              "    <tr>\n",
              "      <th>max</th>\n",
              "      <td>80995.000000</td>\n",
              "      <td>38970.000000</td>\n",
              "      <td>18287.000000</td>\n",
              "    </tr>\n",
              "  </tbody>\n",
              "</table>\n",
              "</div>"
            ],
            "text/plain": [
              "            Quantity      UnitPrice     CustomerID\n",
              "count  514813.000000  514813.000000  386550.000000\n",
              "mean        9.552498       4.586406   15288.936753\n",
              "std       223.529242      95.660226    1713.565852\n",
              "min    -80995.000000  -11062.060000   12346.000000\n",
              "25%         1.000000       1.250000   13955.000000\n",
              "50%         3.000000       2.080000   15152.000000\n",
              "75%        10.000000       4.130000   16791.000000\n",
              "max     80995.000000   38970.000000   18287.000000"
            ]
          },
          "metadata": {
            "tags": []
          },
          "execution_count": 6
        }
      ]
    },
    {
      "cell_type": "code",
      "metadata": {
        "colab": {
          "base_uri": "https://localhost:8080/",
          "height": 300
        },
        "id": "DO22F_On8L4J",
        "outputId": "a6d32933-2911-4e56-f78e-ffe2eb7401e0"
      },
      "source": [
        "test_df.describe()"
      ],
      "execution_count": null,
      "outputs": [
        {
          "output_type": "execute_result",
          "data": {
            "text/html": [
              "<div>\n",
              "<style scoped>\n",
              "    .dataframe tbody tr th:only-of-type {\n",
              "        vertical-align: middle;\n",
              "    }\n",
              "\n",
              "    .dataframe tbody tr th {\n",
              "        vertical-align: top;\n",
              "    }\n",
              "\n",
              "    .dataframe thead th {\n",
              "        text-align: right;\n",
              "    }\n",
              "</style>\n",
              "<table border=\"1\" class=\"dataframe\">\n",
              "  <thead>\n",
              "    <tr style=\"text-align: right;\">\n",
              "      <th></th>\n",
              "      <th>Quantity</th>\n",
              "      <th>UnitPrice</th>\n",
              "      <th>CustomerID</th>\n",
              "    </tr>\n",
              "  </thead>\n",
              "  <tbody>\n",
              "    <tr>\n",
              "      <th>count</th>\n",
              "      <td>27096.000000</td>\n",
              "      <td>27096.000000</td>\n",
              "      <td>20279.000000</td>\n",
              "    </tr>\n",
              "    <tr>\n",
              "      <th>mean</th>\n",
              "      <td>9.547535</td>\n",
              "      <td>5.080545</td>\n",
              "      <td>15263.936338</td>\n",
              "    </tr>\n",
              "    <tr>\n",
              "      <th>std</th>\n",
              "      <td>42.986573</td>\n",
              "      <td>115.684282</td>\n",
              "      <td>1714.125912</td>\n",
              "    </tr>\n",
              "    <tr>\n",
              "      <th>min</th>\n",
              "      <td>-2376.000000</td>\n",
              "      <td>0.000000</td>\n",
              "      <td>12347.000000</td>\n",
              "    </tr>\n",
              "    <tr>\n",
              "      <th>25%</th>\n",
              "      <td>1.000000</td>\n",
              "      <td>1.250000</td>\n",
              "      <td>13924.000000</td>\n",
              "    </tr>\n",
              "    <tr>\n",
              "      <th>50%</th>\n",
              "      <td>3.000000</td>\n",
              "      <td>2.100000</td>\n",
              "      <td>15079.000000</td>\n",
              "    </tr>\n",
              "    <tr>\n",
              "      <th>75%</th>\n",
              "      <td>10.000000</td>\n",
              "      <td>4.130000</td>\n",
              "      <td>16768.500000</td>\n",
              "    </tr>\n",
              "    <tr>\n",
              "      <th>max</th>\n",
              "      <td>2880.000000</td>\n",
              "      <td>13541.330000</td>\n",
              "      <td>18287.000000</td>\n",
              "    </tr>\n",
              "  </tbody>\n",
              "</table>\n",
              "</div>"
            ],
            "text/plain": [
              "           Quantity     UnitPrice    CustomerID\n",
              "count  27096.000000  27096.000000  20279.000000\n",
              "mean       9.547535      5.080545  15263.936338\n",
              "std       42.986573    115.684282   1714.125912\n",
              "min    -2376.000000      0.000000  12347.000000\n",
              "25%        1.000000      1.250000  13924.000000\n",
              "50%        3.000000      2.100000  15079.000000\n",
              "75%       10.000000      4.130000  16768.500000\n",
              "max     2880.000000  13541.330000  18287.000000"
            ]
          },
          "metadata": {
            "tags": []
          },
          "execution_count": 7
        }
      ]
    },
    {
      "cell_type": "code",
      "metadata": {
        "colab": {
          "base_uri": "https://localhost:8080/"
        },
        "id": "QWdlx6vt8Q62",
        "outputId": "654ae64d-96e3-486f-cc31-5b3ebd9a2e53"
      },
      "source": [
        "train_df.info()"
      ],
      "execution_count": null,
      "outputs": [
        {
          "output_type": "stream",
          "text": [
            "<class 'pandas.core.frame.DataFrame'>\n",
            "RangeIndex: 514813 entries, 0 to 514812\n",
            "Data columns (total 8 columns):\n",
            " #   Column       Non-Null Count   Dtype  \n",
            "---  ------       --------------   -----  \n",
            " 0   InvoiceNo    514813 non-null  object \n",
            " 1   StockCode    514813 non-null  object \n",
            " 2   Description  513428 non-null  object \n",
            " 3   Quantity     514813 non-null  int64  \n",
            " 4   InvoiceDate  514813 non-null  object \n",
            " 5   UnitPrice    514813 non-null  float64\n",
            " 6   CustomerID   386550 non-null  float64\n",
            " 7   Country      514813 non-null  object \n",
            "dtypes: float64(2), int64(1), object(5)\n",
            "memory usage: 31.4+ MB\n"
          ],
          "name": "stdout"
        }
      ]
    },
    {
      "cell_type": "code",
      "metadata": {
        "colab": {
          "base_uri": "https://localhost:8080/"
        },
        "id": "fcCMcdKA8XFd",
        "outputId": "94138a62-69b9-4a22-b60f-f3ce0d8ac4e4"
      },
      "source": [
        "test_df.info()"
      ],
      "execution_count": null,
      "outputs": [
        {
          "output_type": "stream",
          "text": [
            "<class 'pandas.core.frame.DataFrame'>\n",
            "RangeIndex: 27096 entries, 0 to 27095\n",
            "Data columns (total 8 columns):\n",
            " #   Column       Non-Null Count  Dtype  \n",
            "---  ------       --------------  -----  \n",
            " 0   InvoiceNo    27096 non-null  object \n",
            " 1   StockCode    27096 non-null  object \n",
            " 2   Description  27027 non-null  object \n",
            " 3   Quantity     27096 non-null  int64  \n",
            " 4   InvoiceDate  27096 non-null  object \n",
            " 5   UnitPrice    27096 non-null  float64\n",
            " 6   CustomerID   20279 non-null  float64\n",
            " 7   Country      27096 non-null  object \n",
            "dtypes: float64(2), int64(1), object(5)\n",
            "memory usage: 1.7+ MB\n"
          ],
          "name": "stdout"
        }
      ]
    },
    {
      "cell_type": "code",
      "metadata": {
        "id": "oTgq1bm5p-ut"
      },
      "source": [
        "C = train_df[train_df['InvoiceNo'].str.startswith('C')]\n",
        "C = C.drop(C[C['CustomerID'].isnull()].index)"
      ],
      "execution_count": null,
      "outputs": []
    },
    {
      "cell_type": "code",
      "metadata": {
        "colab": {
          "base_uri": "https://localhost:8080/",
          "height": 423
        },
        "id": "gIwptjmcq9YM",
        "outputId": "214095ba-6e92-4b51-f1ef-95a3e2ee0401"
      },
      "source": [
        "C"
      ],
      "execution_count": null,
      "outputs": [
        {
          "output_type": "execute_result",
          "data": {
            "text/html": [
              "<div>\n",
              "<style scoped>\n",
              "    .dataframe tbody tr th:only-of-type {\n",
              "        vertical-align: middle;\n",
              "    }\n",
              "\n",
              "    .dataframe tbody tr th {\n",
              "        vertical-align: top;\n",
              "    }\n",
              "\n",
              "    .dataframe thead th {\n",
              "        text-align: right;\n",
              "    }\n",
              "</style>\n",
              "<table border=\"1\" class=\"dataframe\">\n",
              "  <thead>\n",
              "    <tr style=\"text-align: right;\">\n",
              "      <th></th>\n",
              "      <th>InvoiceNo</th>\n",
              "      <th>StockCode</th>\n",
              "      <th>Description</th>\n",
              "      <th>Quantity</th>\n",
              "      <th>InvoiceDate</th>\n",
              "      <th>UnitPrice</th>\n",
              "      <th>CustomerID</th>\n",
              "      <th>Country</th>\n",
              "    </tr>\n",
              "  </thead>\n",
              "  <tbody>\n",
              "    <tr>\n",
              "      <th>34</th>\n",
              "      <td>C578367</td>\n",
              "      <td>22759</td>\n",
              "      <td>SET OF 3 NOTEBOOKS IN PARCEL</td>\n",
              "      <td>-12</td>\n",
              "      <td>2011-11-24 11:00:00</td>\n",
              "      <td>1.65</td>\n",
              "      <td>14640.0</td>\n",
              "      <td>United Kingdom</td>\n",
              "    </tr>\n",
              "    <tr>\n",
              "      <th>121</th>\n",
              "      <td>C573010</td>\n",
              "      <td>20979</td>\n",
              "      <td>36 PENCILS TUBE RED RETROSPOT</td>\n",
              "      <td>-11</td>\n",
              "      <td>2011-10-27 12:29:00</td>\n",
              "      <td>1.25</td>\n",
              "      <td>13735.0</td>\n",
              "      <td>United Kingdom</td>\n",
              "    </tr>\n",
              "    <tr>\n",
              "      <th>219</th>\n",
              "      <td>C570828</td>\n",
              "      <td>90059E</td>\n",
              "      <td>DIAMANTE HAIR GRIP PACK/2 RUBY</td>\n",
              "      <td>-6</td>\n",
              "      <td>2011-10-12 13:15:00</td>\n",
              "      <td>1.65</td>\n",
              "      <td>14911.0</td>\n",
              "      <td>EIRE</td>\n",
              "    </tr>\n",
              "    <tr>\n",
              "      <th>220</th>\n",
              "      <td>C563693</td>\n",
              "      <td>84050</td>\n",
              "      <td>PINK HEART SHAPE EGG FRYING PAN</td>\n",
              "      <td>-1</td>\n",
              "      <td>2011-08-18 13:04:00</td>\n",
              "      <td>1.65</td>\n",
              "      <td>17243.0</td>\n",
              "      <td>United Kingdom</td>\n",
              "    </tr>\n",
              "    <tr>\n",
              "      <th>242</th>\n",
              "      <td>C579926</td>\n",
              "      <td>20727</td>\n",
              "      <td>LUNCH BAG  BLACK SKULL.</td>\n",
              "      <td>-2</td>\n",
              "      <td>2011-12-01 09:19:00</td>\n",
              "      <td>1.65</td>\n",
              "      <td>14389.0</td>\n",
              "      <td>United Kingdom</td>\n",
              "    </tr>\n",
              "    <tr>\n",
              "      <th>...</th>\n",
              "      <td>...</td>\n",
              "      <td>...</td>\n",
              "      <td>...</td>\n",
              "      <td>...</td>\n",
              "      <td>...</td>\n",
              "      <td>...</td>\n",
              "      <td>...</td>\n",
              "      <td>...</td>\n",
              "    </tr>\n",
              "    <tr>\n",
              "      <th>514660</th>\n",
              "      <td>C574954</td>\n",
              "      <td>22720</td>\n",
              "      <td>SET OF 3 CAKE TINS PANTRY DESIGN</td>\n",
              "      <td>-3</td>\n",
              "      <td>2011-11-08 09:52:00</td>\n",
              "      <td>4.95</td>\n",
              "      <td>18223.0</td>\n",
              "      <td>United Kingdom</td>\n",
              "    </tr>\n",
              "    <tr>\n",
              "      <th>514692</th>\n",
              "      <td>C554029</td>\n",
              "      <td>22423</td>\n",
              "      <td>REGENCY CAKESTAND 3 TIER</td>\n",
              "      <td>-1</td>\n",
              "      <td>2011-05-20 13:54:00</td>\n",
              "      <td>12.75</td>\n",
              "      <td>12681.0</td>\n",
              "      <td>France</td>\n",
              "    </tr>\n",
              "    <tr>\n",
              "      <th>514696</th>\n",
              "      <td>C552805</td>\n",
              "      <td>21155</td>\n",
              "      <td>RED RETROSPOT PEG BAG</td>\n",
              "      <td>-6</td>\n",
              "      <td>2011-05-11 12:34:00</td>\n",
              "      <td>2.55</td>\n",
              "      <td>14149.0</td>\n",
              "      <td>United Kingdom</td>\n",
              "    </tr>\n",
              "    <tr>\n",
              "      <th>514700</th>\n",
              "      <td>C546870</td>\n",
              "      <td>M</td>\n",
              "      <td>Manual</td>\n",
              "      <td>-2</td>\n",
              "      <td>2011-03-17 16:07:00</td>\n",
              "      <td>2.50</td>\n",
              "      <td>14462.0</td>\n",
              "      <td>United Kingdom</td>\n",
              "    </tr>\n",
              "    <tr>\n",
              "      <th>514745</th>\n",
              "      <td>C559939</td>\n",
              "      <td>22079</td>\n",
              "      <td>RIBBON REEL HEARTS DESIGN</td>\n",
              "      <td>-10</td>\n",
              "      <td>2011-07-14 10:19:00</td>\n",
              "      <td>1.65</td>\n",
              "      <td>14426.0</td>\n",
              "      <td>United Kingdom</td>\n",
              "    </tr>\n",
              "  </tbody>\n",
              "</table>\n",
              "<p>8434 rows × 8 columns</p>\n",
              "</div>"
            ],
            "text/plain": [
              "       InvoiceNo StockCode  ... CustomerID         Country\n",
              "34       C578367     22759  ...    14640.0  United Kingdom\n",
              "121      C573010     20979  ...    13735.0  United Kingdom\n",
              "219      C570828    90059E  ...    14911.0            EIRE\n",
              "220      C563693     84050  ...    17243.0  United Kingdom\n",
              "242      C579926     20727  ...    14389.0  United Kingdom\n",
              "...          ...       ...  ...        ...             ...\n",
              "514660   C574954     22720  ...    18223.0  United Kingdom\n",
              "514692   C554029     22423  ...    12681.0          France\n",
              "514696   C552805     21155  ...    14149.0  United Kingdom\n",
              "514700   C546870         M  ...    14462.0  United Kingdom\n",
              "514745   C559939     22079  ...    14426.0  United Kingdom\n",
              "\n",
              "[8434 rows x 8 columns]"
            ]
          },
          "metadata": {
            "tags": []
          },
          "execution_count": 11
        }
      ]
    },
    {
      "cell_type": "code",
      "metadata": {
        "colab": {
          "base_uri": "https://localhost:8080/",
          "height": 300
        },
        "id": "nrHYab8vqgEO",
        "outputId": "a8fc3f59-bedc-49eb-87b8-125c96f0b8d1"
      },
      "source": [
        "a = train_df[train_df['CustomerID']==18223]\n",
        "a = a[a['StockCode']=='22720']\n",
        "a"
      ],
      "execution_count": null,
      "outputs": [
        {
          "output_type": "execute_result",
          "data": {
            "text/html": [
              "<div>\n",
              "<style scoped>\n",
              "    .dataframe tbody tr th:only-of-type {\n",
              "        vertical-align: middle;\n",
              "    }\n",
              "\n",
              "    .dataframe tbody tr th {\n",
              "        vertical-align: top;\n",
              "    }\n",
              "\n",
              "    .dataframe thead th {\n",
              "        text-align: right;\n",
              "    }\n",
              "</style>\n",
              "<table border=\"1\" class=\"dataframe\">\n",
              "  <thead>\n",
              "    <tr style=\"text-align: right;\">\n",
              "      <th></th>\n",
              "      <th>InvoiceNo</th>\n",
              "      <th>StockCode</th>\n",
              "      <th>Description</th>\n",
              "      <th>Quantity</th>\n",
              "      <th>InvoiceDate</th>\n",
              "      <th>UnitPrice</th>\n",
              "      <th>CustomerID</th>\n",
              "      <th>Country</th>\n",
              "    </tr>\n",
              "  </thead>\n",
              "  <tbody>\n",
              "    <tr>\n",
              "      <th>60628</th>\n",
              "      <td>560577</td>\n",
              "      <td>22720</td>\n",
              "      <td>SET OF 3 CAKE TINS PANTRY DESIGN</td>\n",
              "      <td>12</td>\n",
              "      <td>2011-07-19 15:07:00</td>\n",
              "      <td>4.95</td>\n",
              "      <td>18223.0</td>\n",
              "      <td>United Kingdom</td>\n",
              "    </tr>\n",
              "    <tr>\n",
              "      <th>87555</th>\n",
              "      <td>573420</td>\n",
              "      <td>22720</td>\n",
              "      <td>SET OF 3 CAKE TINS PANTRY DESIGN</td>\n",
              "      <td>6</td>\n",
              "      <td>2011-10-31 09:48:00</td>\n",
              "      <td>4.95</td>\n",
              "      <td>18223.0</td>\n",
              "      <td>United Kingdom</td>\n",
              "    </tr>\n",
              "    <tr>\n",
              "      <th>186213</th>\n",
              "      <td>C561604</td>\n",
              "      <td>22720</td>\n",
              "      <td>SET OF 3 CAKE TINS PANTRY DESIGN</td>\n",
              "      <td>-3</td>\n",
              "      <td>2011-07-28 12:08:00</td>\n",
              "      <td>4.95</td>\n",
              "      <td>18223.0</td>\n",
              "      <td>United Kingdom</td>\n",
              "    </tr>\n",
              "    <tr>\n",
              "      <th>245750</th>\n",
              "      <td>545014</td>\n",
              "      <td>22720</td>\n",
              "      <td>SET OF 3 CAKE TINS PANTRY DESIGN</td>\n",
              "      <td>6</td>\n",
              "      <td>2011-02-25 13:15:00</td>\n",
              "      <td>4.95</td>\n",
              "      <td>18223.0</td>\n",
              "      <td>United Kingdom</td>\n",
              "    </tr>\n",
              "    <tr>\n",
              "      <th>287977</th>\n",
              "      <td>C557876</td>\n",
              "      <td>22720</td>\n",
              "      <td>SET OF 3 CAKE TINS PANTRY DESIGN</td>\n",
              "      <td>-2</td>\n",
              "      <td>2011-06-23 13:10:00</td>\n",
              "      <td>4.95</td>\n",
              "      <td>18223.0</td>\n",
              "      <td>United Kingdom</td>\n",
              "    </tr>\n",
              "    <tr>\n",
              "      <th>325057</th>\n",
              "      <td>557476</td>\n",
              "      <td>22720</td>\n",
              "      <td>SET OF 3 CAKE TINS PANTRY DESIGN</td>\n",
              "      <td>6</td>\n",
              "      <td>2011-06-20 13:41:00</td>\n",
              "      <td>4.95</td>\n",
              "      <td>18223.0</td>\n",
              "      <td>United Kingdom</td>\n",
              "    </tr>\n",
              "    <tr>\n",
              "      <th>327107</th>\n",
              "      <td>580543</td>\n",
              "      <td>22720</td>\n",
              "      <td>SET OF 3 CAKE TINS PANTRY DESIGN</td>\n",
              "      <td>6</td>\n",
              "      <td>2011-12-05 09:11:00</td>\n",
              "      <td>4.95</td>\n",
              "      <td>18223.0</td>\n",
              "      <td>United Kingdom</td>\n",
              "    </tr>\n",
              "    <tr>\n",
              "      <th>514660</th>\n",
              "      <td>C574954</td>\n",
              "      <td>22720</td>\n",
              "      <td>SET OF 3 CAKE TINS PANTRY DESIGN</td>\n",
              "      <td>-3</td>\n",
              "      <td>2011-11-08 09:52:00</td>\n",
              "      <td>4.95</td>\n",
              "      <td>18223.0</td>\n",
              "      <td>United Kingdom</td>\n",
              "    </tr>\n",
              "  </tbody>\n",
              "</table>\n",
              "</div>"
            ],
            "text/plain": [
              "       InvoiceNo StockCode  ... CustomerID         Country\n",
              "60628     560577     22720  ...    18223.0  United Kingdom\n",
              "87555     573420     22720  ...    18223.0  United Kingdom\n",
              "186213   C561604     22720  ...    18223.0  United Kingdom\n",
              "245750    545014     22720  ...    18223.0  United Kingdom\n",
              "287977   C557876     22720  ...    18223.0  United Kingdom\n",
              "325057    557476     22720  ...    18223.0  United Kingdom\n",
              "327107    580543     22720  ...    18223.0  United Kingdom\n",
              "514660   C574954     22720  ...    18223.0  United Kingdom\n",
              "\n",
              "[8 rows x 8 columns]"
            ]
          },
          "metadata": {
            "tags": []
          },
          "execution_count": 12
        }
      ]
    },
    {
      "cell_type": "code",
      "metadata": {
        "colab": {
          "base_uri": "https://localhost:8080/",
          "height": 143
        },
        "id": "XNv7yXfpvw_B",
        "outputId": "ebac5b7b-beac-42a3-eb4d-ad0e22efbdf0"
      },
      "source": [
        "A = train_df[train_df['InvoiceNo'].str.startswith('A')]\n",
        "# C = C.drop(C[C['CustomerID'].isnull()].index)\n",
        "A"
      ],
      "execution_count": null,
      "outputs": [
        {
          "output_type": "execute_result",
          "data": {
            "text/html": [
              "<div>\n",
              "<style scoped>\n",
              "    .dataframe tbody tr th:only-of-type {\n",
              "        vertical-align: middle;\n",
              "    }\n",
              "\n",
              "    .dataframe tbody tr th {\n",
              "        vertical-align: top;\n",
              "    }\n",
              "\n",
              "    .dataframe thead th {\n",
              "        text-align: right;\n",
              "    }\n",
              "</style>\n",
              "<table border=\"1\" class=\"dataframe\">\n",
              "  <thead>\n",
              "    <tr style=\"text-align: right;\">\n",
              "      <th></th>\n",
              "      <th>InvoiceNo</th>\n",
              "      <th>StockCode</th>\n",
              "      <th>Description</th>\n",
              "      <th>Quantity</th>\n",
              "      <th>InvoiceDate</th>\n",
              "      <th>UnitPrice</th>\n",
              "      <th>CustomerID</th>\n",
              "      <th>Country</th>\n",
              "    </tr>\n",
              "  </thead>\n",
              "  <tbody>\n",
              "    <tr>\n",
              "      <th>51050</th>\n",
              "      <td>A563187</td>\n",
              "      <td>B</td>\n",
              "      <td>Adjust bad debt</td>\n",
              "      <td>1</td>\n",
              "      <td>2011-08-12 14:52:00</td>\n",
              "      <td>-11062.06</td>\n",
              "      <td>NaN</td>\n",
              "      <td>United Kingdom</td>\n",
              "    </tr>\n",
              "    <tr>\n",
              "      <th>279008</th>\n",
              "      <td>A563185</td>\n",
              "      <td>B</td>\n",
              "      <td>Adjust bad debt</td>\n",
              "      <td>1</td>\n",
              "      <td>2011-08-12 14:50:00</td>\n",
              "      <td>11062.06</td>\n",
              "      <td>NaN</td>\n",
              "      <td>United Kingdom</td>\n",
              "    </tr>\n",
              "    <tr>\n",
              "      <th>405078</th>\n",
              "      <td>A563186</td>\n",
              "      <td>B</td>\n",
              "      <td>Adjust bad debt</td>\n",
              "      <td>1</td>\n",
              "      <td>2011-08-12 14:51:00</td>\n",
              "      <td>-11062.06</td>\n",
              "      <td>NaN</td>\n",
              "      <td>United Kingdom</td>\n",
              "    </tr>\n",
              "  </tbody>\n",
              "</table>\n",
              "</div>"
            ],
            "text/plain": [
              "       InvoiceNo StockCode  ... CustomerID         Country\n",
              "51050    A563187         B  ...        NaN  United Kingdom\n",
              "279008   A563185         B  ...        NaN  United Kingdom\n",
              "405078   A563186         B  ...        NaN  United Kingdom\n",
              "\n",
              "[3 rows x 8 columns]"
            ]
          },
          "metadata": {
            "tags": []
          },
          "execution_count": 13
        }
      ]
    },
    {
      "cell_type": "code",
      "metadata": {
        "id": "tJoXtFoV6yxu"
      },
      "source": [
        "C['CustomerID'] = C['CustomerID'].astype(str)"
      ],
      "execution_count": null,
      "outputs": []
    },
    {
      "cell_type": "code",
      "metadata": {
        "colab": {
          "base_uri": "https://localhost:8080/"
        },
        "id": "J6rNSWA26-wi",
        "outputId": "8ee86133-80de-4a49-bf89-471e53cec853"
      },
      "source": [
        "C.info()"
      ],
      "execution_count": null,
      "outputs": [
        {
          "output_type": "stream",
          "text": [
            "<class 'pandas.core.frame.DataFrame'>\n",
            "Int64Index: 8434 entries, 34 to 514745\n",
            "Data columns (total 8 columns):\n",
            " #   Column       Non-Null Count  Dtype  \n",
            "---  ------       --------------  -----  \n",
            " 0   InvoiceNo    8434 non-null   object \n",
            " 1   StockCode    8434 non-null   object \n",
            " 2   Description  8434 non-null   object \n",
            " 3   Quantity     8434 non-null   int64  \n",
            " 4   InvoiceDate  8434 non-null   object \n",
            " 5   UnitPrice    8434 non-null   float64\n",
            " 6   CustomerID   8434 non-null   object \n",
            " 7   Country      8434 non-null   object \n",
            "dtypes: float64(1), int64(1), object(6)\n",
            "memory usage: 593.0+ KB\n"
          ],
          "name": "stdout"
        }
      ]
    },
    {
      "cell_type": "markdown",
      "metadata": {
        "id": "vtV_KWBLUzRk"
      },
      "source": [
        "## Data Pre-processing (2 points)"
      ]
    },
    {
      "cell_type": "markdown",
      "metadata": {
        "id": "VcCVvb_RjPxy"
      },
      "source": [
        "Explore the dataset by performing the following operations:\n",
        "\n",
        "* There is a lot of redundant data. Identify such data and take appropriate action.\n",
        "\n",
        "  **Hint:** refer to this [link](https://pandas.pydata.org/pandas-docs/stable/reference/api/pandas.DataFrame.drop_duplicates.html)\n",
        "\n",
        "* Most Invoices appear as normal transactions with positive quantity and prices, but there are some prefixed with \"C\" or \"A\" which denote different transaction types. Invoice starting with C represents cancelled order and A represents the Adjusted. Identify such data and take appropriate action.\n",
        "\n",
        "  **Hint:** Check the negative values in Quantity column for all cancelled orders\n",
        "\n",
        "* Handle the null values by dropping or filling with appropriate mean\n",
        "\n",
        "\n",
        "* Some of the transactions based on the `StockCode` variable are not actually products, but representing the costs or fees regarding to the post or bank or other tansactions. Find such data and handle it accordingly.\n",
        "\n",
        "  Hint:\n",
        "    - The transaction with `'POST' 'PADS' 'M' 'DOT' 'C2' 'BANK CHARGES'` as their `StockCodes` are considered as irrelevant transactions.\n",
        "\n",
        "* Identify the outliers in the UntiPrice and Quantity and handle them accordingly.\n",
        "\n",
        "  **Hint:** [link](https://kanoki.org/2020/04/23/how-to-remove-outliers-in-python/)\n",
        "\n",
        "* Create a DayOfWeek column using `InvoiceDate`, Hint: pd.to_datetime()\n",
        "\n",
        "**Note:** Perform all the above operations using a function to reuse and apply the same for test data."
      ]
    },
    {
      "cell_type": "code",
      "metadata": {
        "id": "Lj5VPXN1dZuq"
      },
      "source": [
        "non_sales = ['POST', 'PADS', 'M', 'DOT', 'C2', 'BANK CHARGES']\n",
        "\n",
        "def clean_data(df):\n",
        "  #remove duplicates\n",
        "  df = df.drop_duplicates()\n",
        "\n",
        "  # remove cancellation and adjustment entries\n",
        "  df = df.drop(df[df['InvoiceNo'].str.startswith('C')].index)\n",
        "  df = df.drop(df[df['InvoiceNo'].str.startswith('A')].index)\n",
        "\n",
        "  #fill empty description and customer ID will non-descript values\n",
        "  df['Description'].fillna('No description available', inplace = True)\n",
        "\n",
        "  # drop all null values in Customer ID\n",
        "  df = df.dropna(subset=['CustomerID'])\n",
        "  df['CustomerID'] = df['CustomerID'].astype(str)\n",
        "\n",
        "  # remove all entries with negative quantity\n",
        "  df = df.drop(df[df['Quantity'] <= 0].index)\n",
        "\n",
        "  # remove all non-sales related incidental transactions\n",
        "  df = df.drop(df[df['StockCode'].isin(non_sales)].index)\n",
        "\n",
        "  # find z-score on unit price & quantity and remove outliers beyond 3-sigma\n",
        "  df['z_score_price']=stats.zscore(df['UnitPrice'])\n",
        "  df['z_score_qty']=stats.zscore(df['Quantity'])\n",
        "\n",
        "  df = df.drop(df[df['z_score_price'].abs()>3].index)\n",
        "  del df['z_score_price']\n",
        "\n",
        "  df = df.drop(df[df['z_score_qty'].abs()>3].index)\n",
        "  del df['z_score_qty']\n",
        "\n",
        "  # create day of the week column\n",
        "  df['InvoiceDate'] = pd.to_datetime(df['InvoiceDate'])\n",
        "  df['DayOfWeek'] = df['InvoiceDate'].dt.weekday\n",
        "\n",
        "  # consider including month, if needed\n",
        "\n",
        "  return df"
      ],
      "execution_count": null,
      "outputs": []
    },
    {
      "cell_type": "code",
      "metadata": {
        "id": "DtDlopSc2qgz"
      },
      "source": [
        "cdf_train = clean_data(train_df)\n",
        "cdf_test = clean_data(test_df)"
      ],
      "execution_count": null,
      "outputs": []
    },
    {
      "cell_type": "code",
      "metadata": {
        "colab": {
          "base_uri": "https://localhost:8080/"
        },
        "id": "v8JAeEF43enY",
        "outputId": "76d372c3-492c-43b7-8aa4-9c2ab9b23d16"
      },
      "source": [
        "cdf_train.info()"
      ],
      "execution_count": null,
      "outputs": [
        {
          "output_type": "stream",
          "text": [
            "<class 'pandas.core.frame.DataFrame'>\n",
            "Int64Index: 369445 entries, 0 to 514812\n",
            "Data columns (total 9 columns):\n",
            " #   Column       Non-Null Count   Dtype         \n",
            "---  ------       --------------   -----         \n",
            " 0   InvoiceNo    369445 non-null  object        \n",
            " 1   StockCode    369445 non-null  object        \n",
            " 2   Description  369445 non-null  object        \n",
            " 3   Quantity     369445 non-null  int64         \n",
            " 4   InvoiceDate  369445 non-null  datetime64[ns]\n",
            " 5   UnitPrice    369445 non-null  float64       \n",
            " 6   CustomerID   369445 non-null  object        \n",
            " 7   Country      369445 non-null  object        \n",
            " 8   DayOfWeek    369445 non-null  int64         \n",
            "dtypes: datetime64[ns](1), float64(1), int64(2), object(5)\n",
            "memory usage: 28.2+ MB\n"
          ],
          "name": "stdout"
        }
      ]
    },
    {
      "cell_type": "code",
      "metadata": {
        "colab": {
          "base_uri": "https://localhost:8080/"
        },
        "id": "gVB2G1Vw3jqp",
        "outputId": "d5910d5f-647c-4ebd-9c80-a0ecffc1be01"
      },
      "source": [
        "cdf_test.info()"
      ],
      "execution_count": null,
      "outputs": [
        {
          "output_type": "stream",
          "text": [
            "<class 'pandas.core.frame.DataFrame'>\n",
            "Int64Index: 19373 entries, 0 to 27095\n",
            "Data columns (total 9 columns):\n",
            " #   Column       Non-Null Count  Dtype         \n",
            "---  ------       --------------  -----         \n",
            " 0   InvoiceNo    19373 non-null  object        \n",
            " 1   StockCode    19373 non-null  object        \n",
            " 2   Description  19373 non-null  object        \n",
            " 3   Quantity     19373 non-null  int64         \n",
            " 4   InvoiceDate  19373 non-null  datetime64[ns]\n",
            " 5   UnitPrice    19373 non-null  float64       \n",
            " 6   CustomerID   19373 non-null  object        \n",
            " 7   Country      19373 non-null  object        \n",
            " 8   DayOfWeek    19373 non-null  int64         \n",
            "dtypes: datetime64[ns](1), float64(1), int64(2), object(5)\n",
            "memory usage: 1.5+ MB\n"
          ],
          "name": "stdout"
        }
      ]
    },
    {
      "cell_type": "code",
      "metadata": {
        "colab": {
          "base_uri": "https://localhost:8080/",
          "height": 345
        },
        "id": "cTP-6VD55H53",
        "outputId": "e43cddcf-fa29-4137-a69f-0b92a2c97386"
      },
      "source": [
        "cdf_train.head()"
      ],
      "execution_count": null,
      "outputs": [
        {
          "output_type": "execute_result",
          "data": {
            "text/html": [
              "<div>\n",
              "<style scoped>\n",
              "    .dataframe tbody tr th:only-of-type {\n",
              "        vertical-align: middle;\n",
              "    }\n",
              "\n",
              "    .dataframe tbody tr th {\n",
              "        vertical-align: top;\n",
              "    }\n",
              "\n",
              "    .dataframe thead th {\n",
              "        text-align: right;\n",
              "    }\n",
              "</style>\n",
              "<table border=\"1\" class=\"dataframe\">\n",
              "  <thead>\n",
              "    <tr style=\"text-align: right;\">\n",
              "      <th></th>\n",
              "      <th>InvoiceNo</th>\n",
              "      <th>StockCode</th>\n",
              "      <th>Description</th>\n",
              "      <th>Quantity</th>\n",
              "      <th>InvoiceDate</th>\n",
              "      <th>UnitPrice</th>\n",
              "      <th>CustomerID</th>\n",
              "      <th>Country</th>\n",
              "      <th>DayOfWeek</th>\n",
              "      <th>Month</th>\n",
              "      <th>NoSales</th>\n",
              "      <th>TotalAmount</th>\n",
              "      <th>SaleAmount</th>\n",
              "    </tr>\n",
              "  </thead>\n",
              "  <tbody>\n",
              "    <tr>\n",
              "      <th>0</th>\n",
              "      <td>579427</td>\n",
              "      <td>22636</td>\n",
              "      <td>CHILDS BREAKFAST SET CIRCUS PARADE</td>\n",
              "      <td>2</td>\n",
              "      <td>2011-11-29 13:04:00</td>\n",
              "      <td>8.50</td>\n",
              "      <td>16479.0</td>\n",
              "      <td>United Kingdom</td>\n",
              "      <td>1</td>\n",
              "      <td>11</td>\n",
              "      <td>1</td>\n",
              "      <td>17.00</td>\n",
              "      <td>17.00</td>\n",
              "    </tr>\n",
              "    <tr>\n",
              "      <th>1</th>\n",
              "      <td>554092</td>\n",
              "      <td>21916</td>\n",
              "      <td>SET 12 RETRO WHITE CHALK STICKS</td>\n",
              "      <td>24</td>\n",
              "      <td>2011-05-22 12:41:00</td>\n",
              "      <td>0.42</td>\n",
              "      <td>17176.0</td>\n",
              "      <td>United Kingdom</td>\n",
              "      <td>6</td>\n",
              "      <td>5</td>\n",
              "      <td>1</td>\n",
              "      <td>10.08</td>\n",
              "      <td>10.08</td>\n",
              "    </tr>\n",
              "    <tr>\n",
              "      <th>2</th>\n",
              "      <td>577774</td>\n",
              "      <td>84692</td>\n",
              "      <td>BOX OF 24 COCKTAIL PARASOLS</td>\n",
              "      <td>6</td>\n",
              "      <td>2011-11-21 15:57:00</td>\n",
              "      <td>0.42</td>\n",
              "      <td>16712.0</td>\n",
              "      <td>United Kingdom</td>\n",
              "      <td>0</td>\n",
              "      <td>11</td>\n",
              "      <td>1</td>\n",
              "      <td>2.52</td>\n",
              "      <td>2.52</td>\n",
              "    </tr>\n",
              "    <tr>\n",
              "      <th>5</th>\n",
              "      <td>579668</td>\n",
              "      <td>23575</td>\n",
              "      <td>SNACK TRAY PAISLEY PARK</td>\n",
              "      <td>8</td>\n",
              "      <td>2011-11-30 12:32:00</td>\n",
              "      <td>1.95</td>\n",
              "      <td>15152.0</td>\n",
              "      <td>United Kingdom</td>\n",
              "      <td>2</td>\n",
              "      <td>11</td>\n",
              "      <td>1</td>\n",
              "      <td>15.60</td>\n",
              "      <td>15.60</td>\n",
              "    </tr>\n",
              "    <tr>\n",
              "      <th>7</th>\n",
              "      <td>547684</td>\n",
              "      <td>23176</td>\n",
              "      <td>ABC TREASURE BOOK BOX</td>\n",
              "      <td>8</td>\n",
              "      <td>2011-03-24 14:46:00</td>\n",
              "      <td>2.25</td>\n",
              "      <td>12408.0</td>\n",
              "      <td>Belgium</td>\n",
              "      <td>3</td>\n",
              "      <td>3</td>\n",
              "      <td>1</td>\n",
              "      <td>18.00</td>\n",
              "      <td>18.00</td>\n",
              "    </tr>\n",
              "  </tbody>\n",
              "</table>\n",
              "</div>"
            ],
            "text/plain": [
              "  InvoiceNo StockCode  ... TotalAmount  SaleAmount\n",
              "0    579427     22636  ...       17.00       17.00\n",
              "1    554092     21916  ...       10.08       10.08\n",
              "2    577774     84692  ...        2.52        2.52\n",
              "5    579668     23575  ...       15.60       15.60\n",
              "7    547684     23176  ...       18.00       18.00\n",
              "\n",
              "[5 rows x 13 columns]"
            ]
          },
          "metadata": {
            "tags": []
          },
          "execution_count": 59
        }
      ]
    },
    {
      "cell_type": "markdown",
      "metadata": {
        "id": "graphic-vampire"
      },
      "source": [
        "## Understanding new insights from the data (1 point)"
      ]
    },
    {
      "cell_type": "markdown",
      "metadata": {
        "id": "furnished-station"
      },
      "source": [
        "1.  Are there any free items in the data? How many are there?\n",
        "\n",
        "2.  Find the number of transactions per country and visualize using an appropriate plot\n",
        "\n",
        "3.  What is the ratio of customers who are repeat purchasers vs single-time purchasers? Visualize using an appropriate plot.\n",
        "\n",
        "4. Plot heatmap showing unit price per month and day of the week\n",
        "\n",
        "  **Hint:** Month name as index on Y-axis, Day of the week on X-axis\n",
        "\n",
        "5. Find the top 10 customers who bought the most no.of items. Also find the top 10 Items bought by most no.of customers."
      ]
    },
    {
      "cell_type": "code",
      "metadata": {
        "id": "Fe-6_IuzFJJM",
        "colab": {
          "base_uri": "https://localhost:8080/"
        },
        "outputId": "3a1e784b-d829-4321-f017-4dfd31b74df1"
      },
      "source": [
        "free_items_train = cdf_train[cdf_train['UnitPrice']==0]\n",
        "free_items_test = cdf_test[cdf_test['UnitPrice']==0]\n",
        "len(free_items_train), len(free_items_test)"
      ],
      "execution_count": null,
      "outputs": [
        {
          "output_type": "execute_result",
          "data": {
            "text/plain": [
              "(30, 1)"
            ]
          },
          "metadata": {
            "tags": []
          },
          "execution_count": 20
        }
      ]
    },
    {
      "cell_type": "code",
      "metadata": {
        "colab": {
          "base_uri": "https://localhost:8080/",
          "height": 135
        },
        "id": "i2LHYXN_IX6v",
        "outputId": "76ccfc60-c1a7-4894-b526-b2f3283c54de"
      },
      "source": [
        "cdf_train[['Country', 'InvoiceNo']].groupby(['Country']).count().T"
      ],
      "execution_count": null,
      "outputs": [
        {
          "output_type": "execute_result",
          "data": {
            "text/html": [
              "<div>\n",
              "<style scoped>\n",
              "    .dataframe tbody tr th:only-of-type {\n",
              "        vertical-align: middle;\n",
              "    }\n",
              "\n",
              "    .dataframe tbody tr th {\n",
              "        vertical-align: top;\n",
              "    }\n",
              "\n",
              "    .dataframe thead th {\n",
              "        text-align: right;\n",
              "    }\n",
              "</style>\n",
              "<table border=\"1\" class=\"dataframe\">\n",
              "  <thead>\n",
              "    <tr style=\"text-align: right;\">\n",
              "      <th>Country</th>\n",
              "      <th>Australia</th>\n",
              "      <th>Austria</th>\n",
              "      <th>Bahrain</th>\n",
              "      <th>Belgium</th>\n",
              "      <th>Brazil</th>\n",
              "      <th>Canada</th>\n",
              "      <th>Channel Islands</th>\n",
              "      <th>Cyprus</th>\n",
              "      <th>Czech Republic</th>\n",
              "      <th>Denmark</th>\n",
              "      <th>EIRE</th>\n",
              "      <th>European Community</th>\n",
              "      <th>Finland</th>\n",
              "      <th>France</th>\n",
              "      <th>Germany</th>\n",
              "      <th>Greece</th>\n",
              "      <th>Iceland</th>\n",
              "      <th>Israel</th>\n",
              "      <th>Italy</th>\n",
              "      <th>Japan</th>\n",
              "      <th>Lebanon</th>\n",
              "      <th>Lithuania</th>\n",
              "      <th>Malta</th>\n",
              "      <th>Netherlands</th>\n",
              "      <th>Norway</th>\n",
              "      <th>Poland</th>\n",
              "      <th>Portugal</th>\n",
              "      <th>RSA</th>\n",
              "      <th>Saudi Arabia</th>\n",
              "      <th>Singapore</th>\n",
              "      <th>Spain</th>\n",
              "      <th>Sweden</th>\n",
              "      <th>Switzerland</th>\n",
              "      <th>USA</th>\n",
              "      <th>United Arab Emirates</th>\n",
              "      <th>United Kingdom</th>\n",
              "      <th>Unspecified</th>\n",
              "    </tr>\n",
              "  </thead>\n",
              "  <tbody>\n",
              "    <tr>\n",
              "      <th>InvoiceNo</th>\n",
              "      <td>1121</td>\n",
              "      <td>360</td>\n",
              "      <td>12</td>\n",
              "      <td>1819</td>\n",
              "      <td>32</td>\n",
              "      <td>141</td>\n",
              "      <td>695</td>\n",
              "      <td>556</td>\n",
              "      <td>24</td>\n",
              "      <td>350</td>\n",
              "      <td>6679</td>\n",
              "      <td>53</td>\n",
              "      <td>616</td>\n",
              "      <td>7561</td>\n",
              "      <td>8137</td>\n",
              "      <td>132</td>\n",
              "      <td>171</td>\n",
              "      <td>231</td>\n",
              "      <td>688</td>\n",
              "      <td>292</td>\n",
              "      <td>43</td>\n",
              "      <td>32</td>\n",
              "      <td>102</td>\n",
              "      <td>2174</td>\n",
              "      <td>991</td>\n",
              "      <td>307</td>\n",
              "      <td>1337</td>\n",
              "      <td>54</td>\n",
              "      <td>8</td>\n",
              "      <td>201</td>\n",
              "      <td>2268</td>\n",
              "      <td>397</td>\n",
              "      <td>1721</td>\n",
              "      <td>165</td>\n",
              "      <td>62</td>\n",
              "      <td>329684</td>\n",
              "      <td>229</td>\n",
              "    </tr>\n",
              "  </tbody>\n",
              "</table>\n",
              "</div>"
            ],
            "text/plain": [
              "Country    Australia  Austria  ...  United Kingdom  Unspecified\n",
              "InvoiceNo       1121      360  ...          329684          229\n",
              "\n",
              "[1 rows x 37 columns]"
            ]
          },
          "metadata": {
            "tags": []
          },
          "execution_count": 21
        }
      ]
    },
    {
      "cell_type": "code",
      "metadata": {
        "colab": {
          "base_uri": "https://localhost:8080/",
          "height": 569
        },
        "id": "oApcpRrDGQfl",
        "outputId": "b704aa34-e920-47d0-c270-a962f16c018a"
      },
      "source": [
        "f, ax = plt.subplots(figsize=(16, 9))\n",
        "sns.countplot(y='Country', data=cdf_train)"
      ],
      "execution_count": null,
      "outputs": [
        {
          "output_type": "execute_result",
          "data": {
            "text/plain": [
              "<matplotlib.axes._subplots.AxesSubplot at 0x7fad05deed10>"
            ]
          },
          "metadata": {
            "tags": []
          },
          "execution_count": 22
        },
        {
          "output_type": "display_data",
          "data": {
            "image/png": "[encoded data removed]",
            "text/plain": [
              "<Figure size 1152x648 with 1 Axes>"
            ]
          },
          "metadata": {
            "tags": [],
            "needs_background": "light"
          }
        }
      ]
    },
    {
      "cell_type": "code",
      "metadata": {
        "colab": {
          "base_uri": "https://localhost:8080/",
          "height": 569
        },
        "id": "jj5Ma7lqHvvn",
        "outputId": "d43c971e-97cb-48e5-afc7-a236109f67d4"
      },
      "source": [
        "f, ax = plt.subplots(figsize=(16, 9))\n",
        "sns.countplot(y='Country', data=cdf_test)"
      ],
      "execution_count": null,
      "outputs": [
        {
          "output_type": "execute_result",
          "data": {
            "text/plain": [
              "<matplotlib.axes._subplots.AxesSubplot at 0x7fad040b1450>"
            ]
          },
          "metadata": {
            "tags": []
          },
          "execution_count": 23
        },
        {
          "output_type": "display_data",
          "data": {
            "image/png": "[encoded data removed]",
            "text/plain": [
              "<Figure size 1152x648 with 1 Axes>"
            ]
          },
          "metadata": {
            "tags": [],
            "needs_background": "light"
          }
        }
      ]
    },
    {
      "cell_type": "code",
      "metadata": {
        "id": "mLKZMkrZJver"
      },
      "source": [
        "customer_train = cdf_train[['CustomerID', 'InvoiceNo']].groupby(['CustomerID']).count()\n",
        "customer_test = cdf_test[['CustomerID', 'InvoiceNo']].groupby(['CustomerID']).count()"
      ],
      "execution_count": null,
      "outputs": []
    },
    {
      "cell_type": "code",
      "metadata": {
        "id": "OIOXNNHEoKeZ"
      },
      "source": [
        "otc_train = customer_train[customer_train['InvoiceNo']==1]\n",
        "otc_test = customer_test[customer_test['InvoiceNo']==1]\n",
        "repeat_train = customer_train[customer_train['InvoiceNo']!=1]\n",
        "repeat_test = customer_test[customer_test['InvoiceNo']!=1]"
      ],
      "execution_count": null,
      "outputs": []
    },
    {
      "cell_type": "code",
      "metadata": {
        "colab": {
          "base_uri": "https://localhost:8080/"
        },
        "id": "EAWDblknn0pi",
        "outputId": "48a6b3d1-5dc0-45f0-a464-233ccc2b70de"
      },
      "source": [
        "no_train = [len(otc_train), len(repeat_train)]\n",
        "no_test =  [len(otc_test), len(repeat_test)]\n",
        "no_train, no_test"
      ],
      "execution_count": null,
      "outputs": [
        {
          "output_type": "execute_result",
          "data": {
            "text/plain": [
              "([71, 4241], [799, 2479])"
            ]
          },
          "metadata": {
            "tags": []
          },
          "execution_count": 26
        }
      ]
    },
    {
      "cell_type": "code",
      "metadata": {
        "colab": {
          "base_uri": "https://localhost:8080/",
          "height": 248
        },
        "id": "LdxxYdfHbYjx",
        "outputId": "6107416e-b735-4777-eef2-b29146d1bfdf"
      },
      "source": [
        "plt.pie(no_train, labels=['one time', 'repeat'], autopct=\"%1.1f\")\n",
        "plt.show()\n",
        "#65% repeated, 35% one time"
      ],
      "execution_count": null,
      "outputs": [
        {
          "output_type": "display_data",
          "data": {
            "image/png": "[encoded data removed]",
            "text/plain": [
              "<Figure size 432x288 with 1 Axes>"
            ]
          },
          "metadata": {
            "tags": []
          }
        }
      ]
    },
    {
      "cell_type": "code",
      "metadata": {
        "colab": {
          "base_uri": "https://localhost:8080/",
          "height": 248
        },
        "id": "daj6lS1dd_3X",
        "outputId": "2b843a50-bb11-4cf4-e6b6-a67784923526"
      },
      "source": [
        "plt.pie(no_test, labels=['one time', 'repeat'], autopct=\"%1.1f\")\n",
        "plt.show()"
      ],
      "execution_count": null,
      "outputs": [
        {
          "output_type": "display_data",
          "data": {
            "image/png": "[encoded data removed]",
            "text/plain": [
              "<Figure size 432x288 with 1 Axes>"
            ]
          },
          "metadata": {
            "tags": []
          }
        }
      ]
    },
    {
      "cell_type": "code",
      "metadata": {
        "id": "OrDIEzV5el4-"
      },
      "source": [
        "temp_df = cdf_train\n",
        "temp_df['Month'] = temp_df['InvoiceDate'].dt.month\n",
        "temp_df['NoSales'] = 1\n",
        "temp_df['TotalAmount'] = temp_df['Quantity'] * temp_df['UnitPrice']\n",
        "seasonality = temp_df[['Month', 'DayOfWeek', 'Quantity', 'TotalAmount', 'NoSales']].groupby(by=['Month', 'DayOfWeek']).sum().apply(list)\n",
        "seasonality['AvgPrice'] = seasonality['TotalAmount'] / seasonality['Quantity']\n",
        "seasonality.reset_index()\n",
        "ht_map = pd.DataFrame(seasonality.to_records())"
      ],
      "execution_count": null,
      "outputs": []
    },
    {
      "cell_type": "code",
      "metadata": {
        "id": "eThRxNm5j3Xy"
      },
      "source": [
        "ht_map_pivot = ht_map.pivot('DayOfWeek', 'Month', 'AvgPrice')"
      ],
      "execution_count": null,
      "outputs": []
    },
    {
      "cell_type": "code",
      "metadata": {
        "colab": {
          "base_uri": "https://localhost:8080/",
          "height": 569
        },
        "id": "z1fz9usbijI8",
        "outputId": "aca9fb0b-d780-48bd-90e1-43840392a8dc"
      },
      "source": [
        "f, ax = plt.subplots(figsize=(16, 9))\n",
        "sns.heatmap(ht_map_pivot, annot=True, cmap='coolwarm_r')"
      ],
      "execution_count": null,
      "outputs": [
        {
          "output_type": "execute_result",
          "data": {
            "text/plain": [
              "<matplotlib.axes._subplots.AxesSubplot at 0x7fad03a3e210>"
            ]
          },
          "metadata": {
            "tags": []
          },
          "execution_count": 31
        },
        {
          "output_type": "display_data",
          "data": {
            "image/png": "[encoded data removed]",
            "text/plain": [
              "<Figure size 1152x648 with 2 Axes>"
            ]
          },
          "metadata": {
            "tags": [],
            "needs_background": "light"
          }
        }
      ]
    },
    {
      "cell_type": "code",
      "metadata": {
        "colab": {
          "base_uri": "https://localhost:8080/",
          "height": 568
        },
        "id": "DXg4FhFBK-L5",
        "outputId": "86c4a526-fba7-4702-8daf-d128d15344c6"
      },
      "source": [
        "ht_map_pivot2 = ht_map.pivot('DayOfWeek', 'Month', 'TotalAmount')\n",
        "f, ax = plt.subplots(figsize=(16, 9))\n",
        "sns.heatmap(ht_map_pivot2, annot=True, cmap='coolwarm_r')"
      ],
      "execution_count": null,
      "outputs": [
        {
          "output_type": "execute_result",
          "data": {
            "text/plain": [
              "<matplotlib.axes._subplots.AxesSubplot at 0x7facfb07e390>"
            ]
          },
          "metadata": {
            "tags": []
          },
          "execution_count": 32
        },
        {
          "output_type": "display_data",
          "data": {
            "image/png": "[encoded data removed]",
            "text/plain": [
              "<Figure size 1152x648 with 2 Axes>"
            ]
          },
          "metadata": {
            "tags": [],
            "needs_background": "light"
          }
        }
      ]
    },
    {
      "cell_type": "code",
      "metadata": {
        "colab": {
          "base_uri": "https://localhost:8080/",
          "height": 568
        },
        "id": "6QQGi2c7MwmX",
        "outputId": "bf6e469a-fa9d-450c-8e43-3f102a2a98db"
      },
      "source": [
        "temp_df = cdf_test\n",
        "temp_df['Month'] = temp_df['InvoiceDate'].dt.month\n",
        "temp_df['NoSales'] = 1\n",
        "temp_df['TotalAmount'] = temp_df['Quantity'] * temp_df['UnitPrice']\n",
        "seasonality = temp_df[['Month', 'DayOfWeek', 'Quantity', 'TotalAmount', 'NoSales']].groupby(by=['Month', 'DayOfWeek']).sum().apply(list)\n",
        "seasonality['AvgPrice'] = seasonality['TotalAmount'] / seasonality['Quantity']\n",
        "seasonality.reset_index()\n",
        "ht_map = pd.DataFrame(seasonality.to_records())\n",
        "ht_map_pivot3 = ht_map.pivot('DayOfWeek', 'Month', 'TotalAmount')\n",
        "f, ax = plt.subplots(figsize=(16, 9))\n",
        "sns.heatmap(ht_map_pivot3, annot=True, cmap='coolwarm_r')"
      ],
      "execution_count": null,
      "outputs": [
        {
          "output_type": "execute_result",
          "data": {
            "text/plain": [
              "<matplotlib.axes._subplots.AxesSubplot at 0x7facfaf57390>"
            ]
          },
          "metadata": {
            "tags": []
          },
          "execution_count": 33
        },
        {
          "output_type": "display_data",
          "data": {
            "image/png": "[encoded data removed]",
            "text/plain": [
              "<Figure size 1152x648 with 2 Axes>"
            ]
          },
          "metadata": {
            "tags": [],
            "needs_background": "light"
          }
        }
      ]
    },
    {
      "cell_type": "code",
      "metadata": {
        "colab": {
          "base_uri": "https://localhost:8080/",
          "height": 388
        },
        "id": "Sw04IkOjLtbc",
        "outputId": "dc401087-13d6-4e5b-bb8b-f4e59d3ba6ff"
      },
      "source": [
        "customer_train.sort_values(by='InvoiceNo', ascending=False).head(10)"
      ],
      "execution_count": null,
      "outputs": [
        {
          "output_type": "execute_result",
          "data": {
            "text/html": [
              "<div>\n",
              "<style scoped>\n",
              "    .dataframe tbody tr th:only-of-type {\n",
              "        vertical-align: middle;\n",
              "    }\n",
              "\n",
              "    .dataframe tbody tr th {\n",
              "        vertical-align: top;\n",
              "    }\n",
              "\n",
              "    .dataframe thead th {\n",
              "        text-align: right;\n",
              "    }\n",
              "</style>\n",
              "<table border=\"1\" class=\"dataframe\">\n",
              "  <thead>\n",
              "    <tr style=\"text-align: right;\">\n",
              "      <th></th>\n",
              "      <th>InvoiceNo</th>\n",
              "    </tr>\n",
              "    <tr>\n",
              "      <th>CustomerID</th>\n",
              "      <th></th>\n",
              "    </tr>\n",
              "  </thead>\n",
              "  <tbody>\n",
              "    <tr>\n",
              "      <th>17841.0</th>\n",
              "      <td>7280</td>\n",
              "    </tr>\n",
              "    <tr>\n",
              "      <th>14911.0</th>\n",
              "      <td>5226</td>\n",
              "    </tr>\n",
              "    <tr>\n",
              "      <th>14096.0</th>\n",
              "      <td>4706</td>\n",
              "    </tr>\n",
              "    <tr>\n",
              "      <th>12748.0</th>\n",
              "      <td>4137</td>\n",
              "    </tr>\n",
              "    <tr>\n",
              "      <th>14606.0</th>\n",
              "      <td>2538</td>\n",
              "    </tr>\n",
              "    <tr>\n",
              "      <th>15311.0</th>\n",
              "      <td>2249</td>\n",
              "    </tr>\n",
              "    <tr>\n",
              "      <th>14646.0</th>\n",
              "      <td>1932</td>\n",
              "    </tr>\n",
              "    <tr>\n",
              "      <th>13089.0</th>\n",
              "      <td>1734</td>\n",
              "    </tr>\n",
              "    <tr>\n",
              "      <th>13263.0</th>\n",
              "      <td>1596</td>\n",
              "    </tr>\n",
              "    <tr>\n",
              "      <th>14298.0</th>\n",
              "      <td>1542</td>\n",
              "    </tr>\n",
              "  </tbody>\n",
              "</table>\n",
              "</div>"
            ],
            "text/plain": [
              "            InvoiceNo\n",
              "CustomerID           \n",
              "17841.0          7280\n",
              "14911.0          5226\n",
              "14096.0          4706\n",
              "12748.0          4137\n",
              "14606.0          2538\n",
              "15311.0          2249\n",
              "14646.0          1932\n",
              "13089.0          1734\n",
              "13263.0          1596\n",
              "14298.0          1542"
            ]
          },
          "metadata": {
            "tags": []
          },
          "execution_count": 34
        }
      ]
    },
    {
      "cell_type": "code",
      "metadata": {
        "colab": {
          "base_uri": "https://localhost:8080/",
          "height": 388
        },
        "id": "-Vk3TW0uMDM1",
        "outputId": "43d124f8-1cc7-4fc2-90d1-835649501c49"
      },
      "source": [
        "customer_test.sort_values(by='InvoiceNo', ascending=False).head(10)"
      ],
      "execution_count": null,
      "outputs": [
        {
          "output_type": "execute_result",
          "data": {
            "text/html": [
              "<div>\n",
              "<style scoped>\n",
              "    .dataframe tbody tr th:only-of-type {\n",
              "        vertical-align: middle;\n",
              "    }\n",
              "\n",
              "    .dataframe tbody tr th {\n",
              "        vertical-align: top;\n",
              "    }\n",
              "\n",
              "    .dataframe thead th {\n",
              "        text-align: right;\n",
              "    }\n",
              "</style>\n",
              "<table border=\"1\" class=\"dataframe\">\n",
              "  <thead>\n",
              "    <tr style=\"text-align: right;\">\n",
              "      <th></th>\n",
              "      <th>InvoiceNo</th>\n",
              "    </tr>\n",
              "    <tr>\n",
              "      <th>CustomerID</th>\n",
              "      <th></th>\n",
              "    </tr>\n",
              "  </thead>\n",
              "  <tbody>\n",
              "    <tr>\n",
              "      <th>17841.0</th>\n",
              "      <td>372</td>\n",
              "    </tr>\n",
              "    <tr>\n",
              "      <th>14911.0</th>\n",
              "      <td>296</td>\n",
              "    </tr>\n",
              "    <tr>\n",
              "      <th>12748.0</th>\n",
              "      <td>252</td>\n",
              "    </tr>\n",
              "    <tr>\n",
              "      <th>14096.0</th>\n",
              "      <td>245</td>\n",
              "    </tr>\n",
              "    <tr>\n",
              "      <th>14606.0</th>\n",
              "      <td>120</td>\n",
              "    </tr>\n",
              "    <tr>\n",
              "      <th>15311.0</th>\n",
              "      <td>116</td>\n",
              "    </tr>\n",
              "    <tr>\n",
              "      <th>14298.0</th>\n",
              "      <td>88</td>\n",
              "    </tr>\n",
              "    <tr>\n",
              "      <th>18118.0</th>\n",
              "      <td>87</td>\n",
              "    </tr>\n",
              "    <tr>\n",
              "      <th>14646.0</th>\n",
              "      <td>87</td>\n",
              "    </tr>\n",
              "    <tr>\n",
              "      <th>13089.0</th>\n",
              "      <td>78</td>\n",
              "    </tr>\n",
              "  </tbody>\n",
              "</table>\n",
              "</div>"
            ],
            "text/plain": [
              "            InvoiceNo\n",
              "CustomerID           \n",
              "17841.0           372\n",
              "14911.0           296\n",
              "12748.0           252\n",
              "14096.0           245\n",
              "14606.0           120\n",
              "15311.0           116\n",
              "14298.0            88\n",
              "18118.0            87\n",
              "14646.0            87\n",
              "13089.0            78"
            ]
          },
          "metadata": {
            "tags": []
          },
          "execution_count": 35
        }
      ]
    },
    {
      "cell_type": "code",
      "metadata": {
        "colab": {
          "base_uri": "https://localhost:8080/",
          "height": 357
        },
        "id": "5Gfrdji5MS2M",
        "outputId": "3ef17cf6-ed22-43cc-b31f-6d493356589b"
      },
      "source": [
        "top_10_train = cdf_train.groupby(by='Description')['Quantity'].sum().reset_index(drop=False) # StockCode\n",
        "top_10_train.sort_values(by='Quantity', ascending=False).head(10)"
      ],
      "execution_count": null,
      "outputs": [
        {
          "output_type": "execute_result",
          "data": {
            "text/html": [
              "<div>\n",
              "<style scoped>\n",
              "    .dataframe tbody tr th:only-of-type {\n",
              "        vertical-align: middle;\n",
              "    }\n",
              "\n",
              "    .dataframe tbody tr th {\n",
              "        vertical-align: top;\n",
              "    }\n",
              "\n",
              "    .dataframe thead th {\n",
              "        text-align: right;\n",
              "    }\n",
              "</style>\n",
              "<table border=\"1\" class=\"dataframe\">\n",
              "  <thead>\n",
              "    <tr style=\"text-align: right;\">\n",
              "      <th></th>\n",
              "      <th>Description</th>\n",
              "      <th>Quantity</th>\n",
              "    </tr>\n",
              "  </thead>\n",
              "  <tbody>\n",
              "    <tr>\n",
              "      <th>1736</th>\n",
              "      <td>JUMBO BAG RED RETROSPOT</td>\n",
              "      <td>41068</td>\n",
              "    </tr>\n",
              "    <tr>\n",
              "      <th>3732</th>\n",
              "      <td>WORLD WAR 2 GLIDERS ASSTD DESIGNS</td>\n",
              "      <td>29311</td>\n",
              "    </tr>\n",
              "    <tr>\n",
              "      <th>3645</th>\n",
              "      <td>WHITE HANGING HEART T-LIGHT HOLDER</td>\n",
              "      <td>29139</td>\n",
              "    </tr>\n",
              "    <tr>\n",
              "      <th>211</th>\n",
              "      <td>ASSORTED COLOUR BIRD ORNAMENT</td>\n",
              "      <td>28490</td>\n",
              "    </tr>\n",
              "    <tr>\n",
              "      <th>2239</th>\n",
              "      <td>PACK OF 72 RETROSPOT CAKE CASES</td>\n",
              "      <td>26478</td>\n",
              "    </tr>\n",
              "    <tr>\n",
              "      <th>3485</th>\n",
              "      <td>VICTORIAN GLASS HANGING T-LIGHT</td>\n",
              "      <td>19647</td>\n",
              "    </tr>\n",
              "    <tr>\n",
              "      <th>2565</th>\n",
              "      <td>POPCORN HOLDER</td>\n",
              "      <td>17906</td>\n",
              "    </tr>\n",
              "    <tr>\n",
              "      <th>1734</th>\n",
              "      <td>JUMBO BAG PINK POLKADOT</td>\n",
              "      <td>17531</td>\n",
              "    </tr>\n",
              "    <tr>\n",
              "      <th>2620</th>\n",
              "      <td>RABBIT NIGHT LIGHT</td>\n",
              "      <td>17525</td>\n",
              "    </tr>\n",
              "    <tr>\n",
              "      <th>1916</th>\n",
              "      <td>LUNCH BAG RED RETROSPOT</td>\n",
              "      <td>16668</td>\n",
              "    </tr>\n",
              "  </tbody>\n",
              "</table>\n",
              "</div>"
            ],
            "text/plain": [
              "                             Description  Quantity\n",
              "1736             JUMBO BAG RED RETROSPOT     41068\n",
              "3732   WORLD WAR 2 GLIDERS ASSTD DESIGNS     29311\n",
              "3645  WHITE HANGING HEART T-LIGHT HOLDER     29139\n",
              "211        ASSORTED COLOUR BIRD ORNAMENT     28490\n",
              "2239     PACK OF 72 RETROSPOT CAKE CASES     26478\n",
              "3485     VICTORIAN GLASS HANGING T-LIGHT     19647\n",
              "2565                      POPCORN HOLDER     17906\n",
              "1734             JUMBO BAG PINK POLKADOT     17531\n",
              "2620                  RABBIT NIGHT LIGHT     17525\n",
              "1916             LUNCH BAG RED RETROSPOT     16668"
            ]
          },
          "metadata": {
            "tags": []
          },
          "execution_count": 36
        }
      ]
    },
    {
      "cell_type": "code",
      "metadata": {
        "colab": {
          "base_uri": "https://localhost:8080/",
          "height": 357
        },
        "id": "F9Pe2U9MMfBv",
        "outputId": "cc33e133-869e-4e6a-aad2-e3535e3f7d0f"
      },
      "source": [
        "top_10_test = cdf_test.groupby(by='Description')['Quantity'].sum().reset_index(drop=False)\n",
        "top_10_test.sort_values(by='Quantity', ascending=False).head(10)"
      ],
      "execution_count": null,
      "outputs": [
        {
          "output_type": "execute_result",
          "data": {
            "text/html": [
              "<div>\n",
              "<style scoped>\n",
              "    .dataframe tbody tr th:only-of-type {\n",
              "        vertical-align: middle;\n",
              "    }\n",
              "\n",
              "    .dataframe tbody tr th {\n",
              "        vertical-align: top;\n",
              "    }\n",
              "\n",
              "    .dataframe thead th {\n",
              "        text-align: right;\n",
              "    }\n",
              "</style>\n",
              "<table border=\"1\" class=\"dataframe\">\n",
              "  <thead>\n",
              "    <tr style=\"text-align: right;\">\n",
              "      <th></th>\n",
              "      <th>Description</th>\n",
              "      <th>Quantity</th>\n",
              "    </tr>\n",
              "  </thead>\n",
              "  <tbody>\n",
              "    <tr>\n",
              "      <th>1222</th>\n",
              "      <td>JUMBO BAG RED RETROSPOT</td>\n",
              "      <td>1410</td>\n",
              "    </tr>\n",
              "    <tr>\n",
              "      <th>2581</th>\n",
              "      <td>WHITE HANGING HEART T-LIGHT HOLDER</td>\n",
              "      <td>1097</td>\n",
              "    </tr>\n",
              "    <tr>\n",
              "      <th>155</th>\n",
              "      <td>ASSORTED COLOUR BIRD ORNAMENT</td>\n",
              "      <td>1093</td>\n",
              "    </tr>\n",
              "    <tr>\n",
              "      <th>1767</th>\n",
              "      <td>POPCORN HOLDER</td>\n",
              "      <td>922</td>\n",
              "    </tr>\n",
              "    <tr>\n",
              "      <th>1211</th>\n",
              "      <td>JUMBO BAG 50'S CHRISTMAS</td>\n",
              "      <td>919</td>\n",
              "    </tr>\n",
              "    <tr>\n",
              "      <th>1220</th>\n",
              "      <td>JUMBO BAG PINK POLKADOT</td>\n",
              "      <td>918</td>\n",
              "    </tr>\n",
              "    <tr>\n",
              "      <th>1343</th>\n",
              "      <td>LUNCH BAG RED RETROSPOT</td>\n",
              "      <td>909</td>\n",
              "    </tr>\n",
              "    <tr>\n",
              "      <th>1563</th>\n",
              "      <td>PACK OF 72 RETROSPOT CAKE CASES</td>\n",
              "      <td>835</td>\n",
              "    </tr>\n",
              "    <tr>\n",
              "      <th>1594</th>\n",
              "      <td>PAPER CHAIN KIT 50'S CHRISTMAS</td>\n",
              "      <td>799</td>\n",
              "    </tr>\n",
              "    <tr>\n",
              "      <th>1337</th>\n",
              "      <td>LUNCH BAG APPLE DESIGN</td>\n",
              "      <td>776</td>\n",
              "    </tr>\n",
              "  </tbody>\n",
              "</table>\n",
              "</div>"
            ],
            "text/plain": [
              "                             Description  Quantity\n",
              "1222             JUMBO BAG RED RETROSPOT      1410\n",
              "2581  WHITE HANGING HEART T-LIGHT HOLDER      1097\n",
              "155        ASSORTED COLOUR BIRD ORNAMENT      1093\n",
              "1767                      POPCORN HOLDER       922\n",
              "1211           JUMBO BAG 50'S CHRISTMAS        919\n",
              "1220             JUMBO BAG PINK POLKADOT       918\n",
              "1343             LUNCH BAG RED RETROSPOT       909\n",
              "1563     PACK OF 72 RETROSPOT CAKE CASES       835\n",
              "1594     PAPER CHAIN KIT 50'S CHRISTMAS        799\n",
              "1337              LUNCH BAG APPLE DESIGN       776"
            ]
          },
          "metadata": {
            "tags": []
          },
          "execution_count": 37
        }
      ]
    },
    {
      "cell_type": "markdown",
      "metadata": {
        "id": "royal-chancellor"
      },
      "source": [
        "## Feature Engineering and Transformation (2 points)"
      ]
    },
    {
      "cell_type": "markdown",
      "metadata": {
        "id": "dietary-willow"
      },
      "source": [
        "### Create new features to uncover better insights and drop the unwanted columns\n",
        "\n",
        "* Create a new column which represents Total amount spent by each customer\n",
        "\n",
        "    **Hint:** Quantity * UnitPrice\n",
        "\n",
        "* Customer IDs are seen to be repeated. Maintain unique customer IDs by grouping and summing up all possible observations per customer.\n",
        "\n",
        "    **Hint:** [pandas.groupby.agg](https://pandas.pydata.org/pandas-docs/version/0.22/generated/pandas.core.groupby.DataFrameGroupBy.agg.html)\n",
        "\n",
        "**Note:** Perform the above operations in function, to reuse and apply the same for test data"
      ]
    },
    {
      "cell_type": "code",
      "metadata": {
        "id": "ImfJM7rC4X-x"
      },
      "source": [
        "cdf_train['Month'] = cdf_train[\"InvoiceDate\"].dt.month\n",
        "cdf_train['Day'] = cdf_train[\"InvoiceDate\"].dt.day"
      ],
      "execution_count": null,
      "outputs": []
    },
    {
      "cell_type": "code",
      "metadata": {
        "colab": {
          "base_uri": "https://localhost:8080/",
          "height": 417
        },
        "id": "5F8YLUkpRHvY",
        "outputId": "24901d6b-ed49-438a-89f8-2347c4184b7b"
      },
      "source": [
        "cdf_train['SaleAmount'] = cdf_train['Quantity'] * cdf_train['UnitPrice']\n",
        "customer = cdf_train.groupby(by=['CustomerID', 'DayOfWeek', 'Month'], as_index=False).agg({'Quantity':'sum', 'UnitPrice': 'mean', 'TotalAmount':'sum', 'InvoiceNo':'count' }).reset_index()\n",
        "del customer['index']\n",
        "customer"
      ],
      "execution_count": null,
      "outputs": [
        {
          "output_type": "execute_result",
          "data": {
            "text/html": [
              "<div>\n",
              "<style scoped>\n",
              "    .dataframe tbody tr th:only-of-type {\n",
              "        vertical-align: middle;\n",
              "    }\n",
              "\n",
              "    .dataframe tbody tr th {\n",
              "        vertical-align: top;\n",
              "    }\n",
              "\n",
              "    .dataframe thead th {\n",
              "        text-align: right;\n",
              "    }\n",
              "</style>\n",
              "<table border=\"1\" class=\"dataframe\">\n",
              "  <thead>\n",
              "    <tr style=\"text-align: right;\">\n",
              "      <th></th>\n",
              "      <th>CustomerID</th>\n",
              "      <th>DayOfWeek</th>\n",
              "      <th>Month</th>\n",
              "      <th>Quantity</th>\n",
              "      <th>UnitPrice</th>\n",
              "      <th>TotalAmount</th>\n",
              "      <th>InvoiceNo</th>\n",
              "    </tr>\n",
              "  </thead>\n",
              "  <tbody>\n",
              "    <tr>\n",
              "      <th>0</th>\n",
              "      <td>12347.0</td>\n",
              "      <td>0</td>\n",
              "      <td>10</td>\n",
              "      <td>664</td>\n",
              "      <td>2.539348</td>\n",
              "      <td>1246.92</td>\n",
              "      <td>46</td>\n",
              "    </tr>\n",
              "    <tr>\n",
              "      <th>1</th>\n",
              "      <td>12347.0</td>\n",
              "      <td>1</td>\n",
              "      <td>8</td>\n",
              "      <td>277</td>\n",
              "      <td>3.101818</td>\n",
              "      <td>584.91</td>\n",
              "      <td>22</td>\n",
              "    </tr>\n",
              "    <tr>\n",
              "      <th>2</th>\n",
              "      <td>12347.0</td>\n",
              "      <td>1</td>\n",
              "      <td>12</td>\n",
              "      <td>291</td>\n",
              "      <td>2.908889</td>\n",
              "      <td>644.29</td>\n",
              "      <td>27</td>\n",
              "    </tr>\n",
              "    <tr>\n",
              "      <th>3</th>\n",
              "      <td>12347.0</td>\n",
              "      <td>2</td>\n",
              "      <td>1</td>\n",
              "      <td>281</td>\n",
              "      <td>2.516154</td>\n",
              "      <td>427.49</td>\n",
              "      <td>26</td>\n",
              "    </tr>\n",
              "    <tr>\n",
              "      <th>4</th>\n",
              "      <td>12347.0</td>\n",
              "      <td>2</td>\n",
              "      <td>12</td>\n",
              "      <td>172</td>\n",
              "      <td>1.312000</td>\n",
              "      <td>216.42</td>\n",
              "      <td>10</td>\n",
              "    </tr>\n",
              "    <tr>\n",
              "      <th>...</th>\n",
              "      <td>...</td>\n",
              "      <td>...</td>\n",
              "      <td>...</td>\n",
              "      <td>...</td>\n",
              "      <td>...</td>\n",
              "      <td>...</td>\n",
              "      <td>...</td>\n",
              "    </tr>\n",
              "    <tr>\n",
              "      <th>15375</th>\n",
              "      <td>18283.0</td>\n",
              "      <td>3</td>\n",
              "      <td>11</td>\n",
              "      <td>62</td>\n",
              "      <td>1.784211</td>\n",
              "      <td>110.35</td>\n",
              "      <td>57</td>\n",
              "    </tr>\n",
              "    <tr>\n",
              "      <th>15376</th>\n",
              "      <td>18283.0</td>\n",
              "      <td>6</td>\n",
              "      <td>1</td>\n",
              "      <td>66</td>\n",
              "      <td>1.863636</td>\n",
              "      <td>105.30</td>\n",
              "      <td>44</td>\n",
              "    </tr>\n",
              "    <tr>\n",
              "      <th>15377</th>\n",
              "      <td>18287.0</td>\n",
              "      <td>2</td>\n",
              "      <td>10</td>\n",
              "      <td>984</td>\n",
              "      <td>1.178378</td>\n",
              "      <td>988.72</td>\n",
              "      <td>37</td>\n",
              "    </tr>\n",
              "    <tr>\n",
              "      <th>15378</th>\n",
              "      <td>18287.0</td>\n",
              "      <td>4</td>\n",
              "      <td>10</td>\n",
              "      <td>108</td>\n",
              "      <td>0.643333</td>\n",
              "      <td>70.68</td>\n",
              "      <td>3</td>\n",
              "    </tr>\n",
              "    <tr>\n",
              "      <th>15379</th>\n",
              "      <td>18287.0</td>\n",
              "      <td>6</td>\n",
              "      <td>5</td>\n",
              "      <td>482</td>\n",
              "      <td>1.941786</td>\n",
              "      <td>749.98</td>\n",
              "      <td>28</td>\n",
              "    </tr>\n",
              "  </tbody>\n",
              "</table>\n",
              "<p>15380 rows × 7 columns</p>\n",
              "</div>"
            ],
            "text/plain": [
              "      CustomerID  DayOfWeek  Month  Quantity  UnitPrice  TotalAmount  InvoiceNo\n",
              "0        12347.0          0     10       664   2.539348      1246.92         46\n",
              "1        12347.0          1      8       277   3.101818       584.91         22\n",
              "2        12347.0          1     12       291   2.908889       644.29         27\n",
              "3        12347.0          2      1       281   2.516154       427.49         26\n",
              "4        12347.0          2     12       172   1.312000       216.42         10\n",
              "...          ...        ...    ...       ...        ...          ...        ...\n",
              "15375    18283.0          3     11        62   1.784211       110.35         57\n",
              "15376    18283.0          6      1        66   1.863636       105.30         44\n",
              "15377    18287.0          2     10       984   1.178378       988.72         37\n",
              "15378    18287.0          4     10       108   0.643333        70.68          3\n",
              "15379    18287.0          6      5       482   1.941786       749.98         28\n",
              "\n",
              "[15380 rows x 7 columns]"
            ]
          },
          "metadata": {
            "tags": []
          },
          "execution_count": 60
        }
      ]
    },
    {
      "cell_type": "code",
      "metadata": {
        "colab": {
          "base_uri": "https://localhost:8080/"
        },
        "id": "X03uwCCVRb3U",
        "outputId": "0937c6ae-440b-4337-f26a-6d8c249a03e5"
      },
      "source": [
        "customer.dtypes"
      ],
      "execution_count": null,
      "outputs": [
        {
          "output_type": "execute_result",
          "data": {
            "text/plain": [
              "CustomerID      object\n",
              "DayOfWeek        int64\n",
              "Month            int64\n",
              "Quantity         int64\n",
              "UnitPrice      float64\n",
              "TotalAmount    float64\n",
              "InvoiceNo        int64\n",
              "dtype: object"
            ]
          },
          "metadata": {
            "tags": []
          },
          "execution_count": 61
        }
      ]
    },
    {
      "cell_type": "code",
      "metadata": {
        "id": "WCRODVjAdZuu"
      },
      "source": [
        "def create_features(df):\n",
        "  # create new column\n",
        "  df['SaleAmount'] = df['Quantity'] * df['UnitPrice']\n",
        "\n",
        "  # create another dataset grouped by customer\n",
        "  customer = df.groupby(by=['CustomerID', 'DayOfWeek']).agg({'UnitPrice': 'mean', 'TotalAmount':'mean'}).reset_index() #Quantity\n",
        "\n",
        "  return customer"
      ],
      "execution_count": null,
      "outputs": []
    },
    {
      "cell_type": "code",
      "metadata": {
        "id": "Lc9PGVfvSKHX"
      },
      "source": [
        "train_customer = create_features(cdf_train)\n",
        "test_customer = create_features(cdf_test)"
      ],
      "execution_count": null,
      "outputs": []
    },
    {
      "cell_type": "code",
      "metadata": {
        "colab": {
          "base_uri": "https://localhost:8080/",
          "height": 417
        },
        "id": "elf0D3sqUFJG",
        "outputId": "3fb09e71-2e91-4b04-a405-23c3e98e710e"
      },
      "source": [
        "train_customer"
      ],
      "execution_count": null,
      "outputs": [
        {
          "output_type": "execute_result",
          "data": {
            "text/html": [
              "<div>\n",
              "<style scoped>\n",
              "    .dataframe tbody tr th:only-of-type {\n",
              "        vertical-align: middle;\n",
              "    }\n",
              "\n",
              "    .dataframe tbody tr th {\n",
              "        vertical-align: top;\n",
              "    }\n",
              "\n",
              "    .dataframe thead th {\n",
              "        text-align: right;\n",
              "    }\n",
              "</style>\n",
              "<table border=\"1\" class=\"dataframe\">\n",
              "  <thead>\n",
              "    <tr style=\"text-align: right;\">\n",
              "      <th></th>\n",
              "      <th>CustomerID</th>\n",
              "      <th>DayOfWeek</th>\n",
              "      <th>UnitPrice</th>\n",
              "      <th>TotalAmount</th>\n",
              "    </tr>\n",
              "  </thead>\n",
              "  <tbody>\n",
              "    <tr>\n",
              "      <th>0</th>\n",
              "      <td>12347.0</td>\n",
              "      <td>0</td>\n",
              "      <td>2.539348</td>\n",
              "      <td>27.106957</td>\n",
              "    </tr>\n",
              "    <tr>\n",
              "      <th>1</th>\n",
              "      <td>12347.0</td>\n",
              "      <td>1</td>\n",
              "      <td>2.995510</td>\n",
              "      <td>25.085714</td>\n",
              "    </tr>\n",
              "    <tr>\n",
              "      <th>2</th>\n",
              "      <td>12347.0</td>\n",
              "      <td>2</td>\n",
              "      <td>2.181667</td>\n",
              "      <td>17.886389</td>\n",
              "    </tr>\n",
              "    <tr>\n",
              "      <th>3</th>\n",
              "      <td>12347.0</td>\n",
              "      <td>3</td>\n",
              "      <td>2.697750</td>\n",
              "      <td>24.294250</td>\n",
              "    </tr>\n",
              "    <tr>\n",
              "      <th>4</th>\n",
              "      <td>12348.0</td>\n",
              "      <td>1</td>\n",
              "      <td>0.790000</td>\n",
              "      <td>59.085000</td>\n",
              "    </tr>\n",
              "    <tr>\n",
              "      <th>...</th>\n",
              "      <td>...</td>\n",
              "      <td>...</td>\n",
              "      <td>...</td>\n",
              "      <td>...</td>\n",
              "    </tr>\n",
              "    <tr>\n",
              "      <th>9758</th>\n",
              "      <td>18283.0</td>\n",
              "      <td>3</td>\n",
              "      <td>1.656198</td>\n",
              "      <td>2.280958</td>\n",
              "    </tr>\n",
              "    <tr>\n",
              "      <th>9759</th>\n",
              "      <td>18283.0</td>\n",
              "      <td>6</td>\n",
              "      <td>1.863636</td>\n",
              "      <td>2.393182</td>\n",
              "    </tr>\n",
              "    <tr>\n",
              "      <th>9760</th>\n",
              "      <td>18287.0</td>\n",
              "      <td>2</td>\n",
              "      <td>1.178378</td>\n",
              "      <td>26.722162</td>\n",
              "    </tr>\n",
              "    <tr>\n",
              "      <th>9761</th>\n",
              "      <td>18287.0</td>\n",
              "      <td>4</td>\n",
              "      <td>0.643333</td>\n",
              "      <td>23.560000</td>\n",
              "    </tr>\n",
              "    <tr>\n",
              "      <th>9762</th>\n",
              "      <td>18287.0</td>\n",
              "      <td>6</td>\n",
              "      <td>1.941786</td>\n",
              "      <td>26.785000</td>\n",
              "    </tr>\n",
              "  </tbody>\n",
              "</table>\n",
              "<p>9763 rows × 4 columns</p>\n",
              "</div>"
            ],
            "text/plain": [
              "     CustomerID  DayOfWeek  UnitPrice  TotalAmount\n",
              "0       12347.0          0   2.539348    27.106957\n",
              "1       12347.0          1   2.995510    25.085714\n",
              "2       12347.0          2   2.181667    17.886389\n",
              "3       12347.0          3   2.697750    24.294250\n",
              "4       12348.0          1   0.790000    59.085000\n",
              "...         ...        ...        ...          ...\n",
              "9758    18283.0          3   1.656198     2.280958\n",
              "9759    18283.0          6   1.863636     2.393182\n",
              "9760    18287.0          2   1.178378    26.722162\n",
              "9761    18287.0          4   0.643333    23.560000\n",
              "9762    18287.0          6   1.941786    26.785000\n",
              "\n",
              "[9763 rows x 4 columns]"
            ]
          },
          "metadata": {
            "tags": []
          },
          "execution_count": 207
        }
      ]
    },
    {
      "cell_type": "code",
      "metadata": {
        "colab": {
          "base_uri": "https://localhost:8080/",
          "height": 417
        },
        "id": "y4e2yHgAULjN",
        "outputId": "a9a46300-cd2c-4904-8f42-3397baa8218b"
      },
      "source": [
        "test_customer"
      ],
      "execution_count": null,
      "outputs": [
        {
          "output_type": "execute_result",
          "data": {
            "text/html": [
              "<div>\n",
              "<style scoped>\n",
              "    .dataframe tbody tr th:only-of-type {\n",
              "        vertical-align: middle;\n",
              "    }\n",
              "\n",
              "    .dataframe tbody tr th {\n",
              "        vertical-align: top;\n",
              "    }\n",
              "\n",
              "    .dataframe thead th {\n",
              "        text-align: right;\n",
              "    }\n",
              "</style>\n",
              "<table border=\"1\" class=\"dataframe\">\n",
              "  <thead>\n",
              "    <tr style=\"text-align: right;\">\n",
              "      <th></th>\n",
              "      <th>CustomerID</th>\n",
              "      <th>DayOfWeek</th>\n",
              "      <th>UnitPrice</th>\n",
              "      <th>TotalAmount</th>\n",
              "    </tr>\n",
              "  </thead>\n",
              "  <tbody>\n",
              "    <tr>\n",
              "      <th>0</th>\n",
              "      <td>12347.0</td>\n",
              "      <td>0</td>\n",
              "      <td>3.9500</td>\n",
              "      <td>47.4000</td>\n",
              "    </tr>\n",
              "    <tr>\n",
              "      <th>1</th>\n",
              "      <td>12347.0</td>\n",
              "      <td>1</td>\n",
              "      <td>2.7625</td>\n",
              "      <td>16.8750</td>\n",
              "    </tr>\n",
              "    <tr>\n",
              "      <th>2</th>\n",
              "      <td>12347.0</td>\n",
              "      <td>2</td>\n",
              "      <td>2.0425</td>\n",
              "      <td>14.0750</td>\n",
              "    </tr>\n",
              "    <tr>\n",
              "      <th>3</th>\n",
              "      <td>12347.0</td>\n",
              "      <td>3</td>\n",
              "      <td>4.0000</td>\n",
              "      <td>23.5000</td>\n",
              "    </tr>\n",
              "    <tr>\n",
              "      <th>4</th>\n",
              "      <td>12349.0</td>\n",
              "      <td>0</td>\n",
              "      <td>7.4560</td>\n",
              "      <td>22.5080</td>\n",
              "    </tr>\n",
              "    <tr>\n",
              "      <th>...</th>\n",
              "      <td>...</td>\n",
              "      <td>...</td>\n",
              "      <td>...</td>\n",
              "      <td>...</td>\n",
              "    </tr>\n",
              "    <tr>\n",
              "      <th>6231</th>\n",
              "      <td>18283.0</td>\n",
              "      <td>1</td>\n",
              "      <td>1.7300</td>\n",
              "      <td>2.2200</td>\n",
              "    </tr>\n",
              "    <tr>\n",
              "      <th>6232</th>\n",
              "      <td>18283.0</td>\n",
              "      <td>2</td>\n",
              "      <td>1.2450</td>\n",
              "      <td>2.3725</td>\n",
              "    </tr>\n",
              "    <tr>\n",
              "      <th>6233</th>\n",
              "      <td>18283.0</td>\n",
              "      <td>3</td>\n",
              "      <td>1.7740</td>\n",
              "      <td>2.0960</td>\n",
              "    </tr>\n",
              "    <tr>\n",
              "      <th>6234</th>\n",
              "      <td>18287.0</td>\n",
              "      <td>2</td>\n",
              "      <td>2.1000</td>\n",
              "      <td>12.6000</td>\n",
              "    </tr>\n",
              "    <tr>\n",
              "      <th>6235</th>\n",
              "      <td>18287.0</td>\n",
              "      <td>6</td>\n",
              "      <td>2.5500</td>\n",
              "      <td>15.3000</td>\n",
              "    </tr>\n",
              "  </tbody>\n",
              "</table>\n",
              "<p>6236 rows × 4 columns</p>\n",
              "</div>"
            ],
            "text/plain": [
              "     CustomerID  DayOfWeek  UnitPrice  TotalAmount\n",
              "0       12347.0          0     3.9500      47.4000\n",
              "1       12347.0          1     2.7625      16.8750\n",
              "2       12347.0          2     2.0425      14.0750\n",
              "3       12347.0          3     4.0000      23.5000\n",
              "4       12349.0          0     7.4560      22.5080\n",
              "...         ...        ...        ...          ...\n",
              "6231    18283.0          1     1.7300       2.2200\n",
              "6232    18283.0          2     1.2450       2.3725\n",
              "6233    18283.0          3     1.7740       2.0960\n",
              "6234    18287.0          2     2.1000      12.6000\n",
              "6235    18287.0          6     2.5500      15.3000\n",
              "\n",
              "[6236 rows x 4 columns]"
            ]
          },
          "metadata": {
            "tags": []
          },
          "execution_count": 208
        }
      ]
    },
    {
      "cell_type": "markdown",
      "metadata": {
        "id": "respected-empire"
      },
      "source": [
        "### Scale the data\n",
        "\n",
        "Apply `StandardScaler` on the features."
      ]
    },
    {
      "cell_type": "code",
      "metadata": {
        "id": "jEsufbR_dZuv"
      },
      "source": [
        "train_customer.drop(columns='CustomerID', inplace=True)\n",
        "scaler = StandardScaler()\n",
        "scaler.fit(train_customer)\n",
        "X_train = scaler.transform(train_customer)"
      ],
      "execution_count": null,
      "outputs": []
    },
    {
      "cell_type": "code",
      "metadata": {
        "id": "3gE2dCUTRdzB"
      },
      "source": [
        "#train_customer.drop(columns='CustomerID', inplace=True)\n",
        "scaler = StandardScaler()\n",
        "scaler.fit(train_customer)\n",
        "X_train = scaler.transform(train_customer)"
      ],
      "execution_count": null,
      "outputs": []
    },
    {
      "cell_type": "code",
      "metadata": {
        "id": "N7t46T4-VHu3"
      },
      "source": [
        "test_customer.drop(columns='CustomerID', inplace=True)\n",
        "scaler.fit(test_customer)\n",
        "X_test = scaler.transform(test_customer)"
      ],
      "execution_count": null,
      "outputs": []
    },
    {
      "cell_type": "code",
      "metadata": {
        "colab": {
          "base_uri": "https://localhost:8080/"
        },
        "id": "yyruITSc9OYD",
        "outputId": "a0c00af0-dd9e-447c-9bf8-e1e27d4569db"
      },
      "source": [
        "X_train[:5, :]"
      ],
      "execution_count": null,
      "outputs": [
        {
          "output_type": "execute_result",
          "data": {
            "text/plain": [
              "array([[-1.37146123, -0.2845798 , -0.0712205 ],\n",
              "       [-0.8277221 ,  0.03467282, -0.10126791],\n",
              "       [-0.28398298, -0.53490874, -0.20829175],\n",
              "       [ 0.25975615, -0.17371947, -0.11303368],\n",
              "       [-0.8277221 , -1.50888916,  0.40415917]])"
            ]
          },
          "metadata": {
            "tags": []
          },
          "execution_count": 211
        }
      ]
    },
    {
      "cell_type": "markdown",
      "metadata": {
        "id": "smooth-florist"
      },
      "source": [
        "## Clustering ( 5 points)"
      ]
    },
    {
      "cell_type": "markdown",
      "metadata": {
        "id": "rn1qD44PI0H_"
      },
      "source": [
        "### Apply k-means algorithm to identify a specific number of clusters\n",
        "\n",
        "\n",
        "* Fit the k-means model\n",
        "\n",
        "* Extract and store the cluster centroids\n",
        "\n",
        "Below are the parameters for k-means, which are helpful\n",
        "\n",
        "**n_clusters** is no. of clusters specified\n",
        "\n",
        "**k-means++** is a random initialization method for centroids to avoid random initialisation trap\n",
        "\n",
        "**max_iter** is max no of iterations defined when k-means is running\n",
        "\n",
        "**n_init** is no. of times k-means will run with different initial centroids\n",
        "\n",
        "[why-is-k-means-slower-than-random-initialization-k-means](https://stats.stackexchange.com/questions/185396/why-is-k-means-slower-than-random-initialization-k-means/185422)"
      ]
    },
    {
      "cell_type": "code",
      "metadata": {
        "id": "GDjIF0_4HiIM",
        "colab": {
          "base_uri": "https://localhost:8080/",
          "height": 347
        },
        "outputId": "2d1642b3-c82e-4359-aee7-447d70893725"
      },
      "source": [
        "# YOUR CODE HERE to apply KMeans\n",
        "kmeans = KMeans(n_clusters=5, random_state=1)\n",
        "y_predict = kmeans.fit_predict(X_train)\n",
        "\n",
        "plt.scatter(X_train[:,1], X_train[:,2], c=y_predict, cmap = 'summer')\n",
        "plt.show()"
      ],
      "execution_count": null,
      "outputs": [
        {
          "output_type": "display_data",
          "data": {
            "image/png": "[encoded data removed]",
            "text/plain": [
              "<Figure size 576x396 with 1 Axes>"
            ]
          },
          "metadata": {
            "tags": []
          }
        }
      ]
    },
    {
      "cell_type": "code",
      "metadata": {
        "colab": {
          "base_uri": "https://localhost:8080/",
          "height": 347
        },
        "id": "6bPkyTiqTl8W",
        "outputId": "821e9474-b4ee-44c5-8731-14ac0edb7d8b"
      },
      "source": [
        "plt.scatter(X_train[:,0], X_train[:,2], c=y_predict, cmap = 'summer')\n",
        "plt.show()"
      ],
      "execution_count": null,
      "outputs": [
        {
          "output_type": "display_data",
          "data": {
            "image/png": "[encoded data removed]",
            "text/plain": [
              "<Figure size 576x396 with 1 Axes>"
            ]
          },
          "metadata": {
            "tags": []
          }
        }
      ]
    },
    {
      "cell_type": "code",
      "metadata": {
        "colab": {
          "base_uri": "https://localhost:8080/"
        },
        "id": "lOObxZ-LHWx2",
        "outputId": "77f98070-b302-4ada-c8bd-335a4bf2579b"
      },
      "source": [
        "kmeans.labels_"
      ],
      "execution_count": null,
      "outputs": [
        {
          "output_type": "execute_result",
          "data": {
            "text/plain": [
              "array([2, 2, 2, ..., 2, 0, 0], dtype=int32)"
            ]
          },
          "metadata": {
            "tags": []
          },
          "execution_count": 255
        }
      ]
    },
    {
      "cell_type": "code",
      "metadata": {
        "id": "B7XbgkW8DxrH"
      },
      "source": [
        "train_customer['Cluster'] = kmeans.labels_"
      ],
      "execution_count": null,
      "outputs": []
    },
    {
      "cell_type": "code",
      "metadata": {
        "colab": {
          "base_uri": "https://localhost:8080/",
          "height": 234
        },
        "id": "4nJhrL1vEA1G",
        "outputId": "32b6b123-9bd8-4236-87fd-008fe7127bdf"
      },
      "source": [
        "df_train_result = train_customer.groupby('Cluster').mean()\n",
        "df_train_result.head()"
      ],
      "execution_count": null,
      "outputs": [
        {
          "output_type": "execute_result",
          "data": {
            "text/html": [
              "<div>\n",
              "<style scoped>\n",
              "    .dataframe tbody tr th:only-of-type {\n",
              "        vertical-align: middle;\n",
              "    }\n",
              "\n",
              "    .dataframe tbody tr th {\n",
              "        vertical-align: top;\n",
              "    }\n",
              "\n",
              "    .dataframe thead th {\n",
              "        text-align: right;\n",
              "    }\n",
              "</style>\n",
              "<table border=\"1\" class=\"dataframe\">\n",
              "  <thead>\n",
              "    <tr style=\"text-align: right;\">\n",
              "      <th></th>\n",
              "      <th>DayOfWeek</th>\n",
              "      <th>UnitPrice</th>\n",
              "      <th>TotalAmount</th>\n",
              "    </tr>\n",
              "    <tr>\n",
              "      <th>Cluster</th>\n",
              "      <th></th>\n",
              "      <th></th>\n",
              "      <th></th>\n",
              "    </tr>\n",
              "  </thead>\n",
              "  <tbody>\n",
              "    <tr>\n",
              "      <th>0</th>\n",
              "      <td>4.176560</td>\n",
              "      <td>2.522494</td>\n",
              "      <td>22.255937</td>\n",
              "    </tr>\n",
              "    <tr>\n",
              "      <th>1</th>\n",
              "      <td>2.411056</td>\n",
              "      <td>5.440041</td>\n",
              "      <td>34.594982</td>\n",
              "    </tr>\n",
              "    <tr>\n",
              "      <th>2</th>\n",
              "      <td>1.002881</td>\n",
              "      <td>2.498142</td>\n",
              "      <td>23.216515</td>\n",
              "    </tr>\n",
              "    <tr>\n",
              "      <th>3</th>\n",
              "      <td>1.500000</td>\n",
              "      <td>5.590625</td>\n",
              "      <td>1395.513500</td>\n",
              "    </tr>\n",
              "    <tr>\n",
              "      <th>4</th>\n",
              "      <td>2.268182</td>\n",
              "      <td>2.952492</td>\n",
              "      <td>302.877363</td>\n",
              "    </tr>\n",
              "  </tbody>\n",
              "</table>\n",
              "</div>"
            ],
            "text/plain": [
              "         DayOfWeek  UnitPrice  TotalAmount\n",
              "Cluster                                   \n",
              "0         4.176560   2.522494    22.255937\n",
              "1         2.411056   5.440041    34.594982\n",
              "2         1.002881   2.498142    23.216515\n",
              "3         1.500000   5.590625  1395.513500\n",
              "4         2.268182   2.952492   302.877363"
            ]
          },
          "metadata": {
            "tags": []
          },
          "execution_count": 257
        }
      ]
    },
    {
      "cell_type": "code",
      "metadata": {
        "colab": {
          "base_uri": "https://localhost:8080/",
          "height": 364
        },
        "id": "xz2PKncK8KQN",
        "outputId": "0c0d797a-81c8-4c2f-be61-0a2a238c0e2e"
      },
      "source": [
        "plt.scatter(X_train[:,1], X_train[:,2], c=y_predict, cmap = 'winter')"
      ],
      "execution_count": null,
      "outputs": [
        {
          "output_type": "execute_result",
          "data": {
            "text/plain": [
              "<matplotlib.collections.PathCollection at 0x7facf39f9290>"
            ]
          },
          "metadata": {
            "tags": []
          },
          "execution_count": 229
        },
        {
          "output_type": "display_data",
          "data": {
            "image/png": "[encoded data removed]",
            "text/plain": [
              "<Figure size 576x396 with 1 Axes>"
            ]
          },
          "metadata": {
            "tags": []
          }
        }
      ]
    },
    {
      "cell_type": "code",
      "metadata": {
        "colab": {
          "base_uri": "https://localhost:8080/",
          "height": 347
        },
        "id": "Qe2D69-Hg7QY",
        "outputId": "7e86eae5-9a56-46dc-ce04-433f3acef2a2"
      },
      "source": [
        "# Perform k-means clustering with specified centroids\n",
        "good_init = np.array([[-1, -1, -1], [0, 0, 0], [0.5, 0.5, 0.5], [0.25, 0.25, 0.25], [1.5, 1.5, 1.5]])\n",
        "#kmeans = KMeans(n_clusters = 3, init = good_init, n_init = 1, random_state = 1)\n",
        "kmeans = KMeans(n_clusters = 5, init = good_init, n_init = 1, random_state = 1)\n",
        "# Make prediction using only two features, as centroids are specified for only two features\n",
        "y_predict = kmeans.fit_predict(X_train)\n",
        "\n",
        "# Plot initial centroids\n",
        "plt.scatter(x = [-1, 0, 1.5], y = [-1, 0, 1.5], c = 'magenta', s = 100, marker= \"^\")\n",
        "# Plot data points\n",
        "plt.scatter(X_train[:,1], X_train[:,2], c = y_predict, cmap = 'summer')\n",
        "# Plot centroids after iteration\n",
        "plt.scatter(x = kmeans.cluster_centers_[:,0], y = kmeans.cluster_centers_[:,1], c = 'r', marker=\"*\", s = 200)\n",
        "plt.show()"
      ],
      "execution_count": null,
      "outputs": [
        {
          "output_type": "display_data",
          "data": {
            "image/png": "[encoded data removed]",
            "text/plain": [
              "<Figure size 576x396 with 1 Axes>"
            ]
          },
          "metadata": {
            "tags": []
          }
        }
      ]
    },
    {
      "cell_type": "code",
      "metadata": {
        "colab": {
          "base_uri": "https://localhost:8080/"
        },
        "id": "XZ3VNfk8hSFt",
        "outputId": "9d35a60f-beac-490e-94d6-25d10910dc0f"
      },
      "source": [
        "# Model's inertia\n",
        "kmeans.inertia_"
      ],
      "execution_count": null,
      "outputs": [
        {
          "output_type": "execute_result",
          "data": {
            "text/plain": [
              "11573.140572957867"
            ]
          },
          "metadata": {
            "tags": []
          },
          "execution_count": 232
        }
      ]
    },
    {
      "cell_type": "markdown",
      "metadata": {
        "id": "bpmFFF3VdZux"
      },
      "source": [
        "#### Find the optimal number of clusters (K) by using the [Elbow method](https://pythonprogramminglanguage.com/kmeans-elbow-method/).\n",
        "\n",
        "Use the optimal no. of clusters and store the cluster centroids"
      ]
    },
    {
      "cell_type": "code",
      "metadata": {
        "id": "c3Db3IVBdZuy",
        "colab": {
          "base_uri": "https://localhost:8080/",
          "height": 376
        },
        "outputId": "938cdf42-75d1-4bd6-c46b-8b673228f19c"
      },
      "source": [
        "# YOUR CODE HERE\n",
        "sse = {}\n",
        "for k in range(1, 11):\n",
        "    kmeans = KMeans(n_clusters=k, random_state=42)\n",
        "    kmeans.fit(X_train)\n",
        "    sse[k] = kmeans.inertia_\n",
        "plt.title('The Elbow Method')\n",
        "plt.xlabel('k')\n",
        "plt.ylabel('SSE')\n",
        "plt.arrow(2, 8100, 1, 850)\n",
        "plt.text(3, 8500, \"Elbow\", fontdict={'size': 12})\n",
        "sns.pointplot(x=list(sse.keys()), y=list(sse.values()))\n",
        "plt.show()"
      ],
      "execution_count": null,
      "outputs": [
        {
          "output_type": "display_data",
          "data": {
            "image/png": "[encoded data removed]",
            "text/plain": [
              "<Figure size 576x396 with 1 Axes>"
            ]
          },
          "metadata": {
            "tags": []
          }
        }
      ]
    },
    {
      "cell_type": "markdown",
      "metadata": {
        "id": "oqcsYnc5gcVM"
      },
      "source": [
        "Optimal number of clusters n_clusters = 5 since the graph becomes linear from that point."
      ]
    },
    {
      "cell_type": "code",
      "metadata": {
        "colab": {
          "base_uri": "https://localhost:8080/",
          "height": 378
        },
        "id": "eQgcLUtMU7mo",
        "outputId": "e96e726a-9ed9-44f5-d2e3-40a3dc7fb24f"
      },
      "source": [
        "# Plot Silhouette score plot\n",
        "from sklearn.metrics import silhouette_score\n",
        "clusters = np.arange(2,10)\n",
        "sil_score = []\n",
        "for c in clusters:\n",
        "    kmeans = KMeans(n_clusters = c, random_state=1)\n",
        "    kmeans.fit(X_train)\n",
        "    sil_score.append(silhouette_score(X_train, kmeans.labels_))\n",
        "plt.plot(clusters, sil_score, marker= '.')\n",
        "plt.title('Silhouette score plot')\n",
        "plt.xlabel(\"$k$\")\n",
        "plt.ylabel(\"Silhouette score\")\n",
        "plt.show()"
      ],
      "execution_count": null,
      "outputs": [
        {
          "output_type": "display_data",
          "data": {
            "image/png": "[encoded data removed]",
            "text/plain": [
              "<Figure size 576x396 with 1 Axes>"
            ]
          },
          "metadata": {
            "tags": []
          }
        }
      ]
    },
    {
      "cell_type": "code",
      "metadata": {
        "colab": {
          "base_uri": "https://localhost:8080/",
          "height": 909
        },
        "id": "kUAbLf2hK679",
        "outputId": "bcc076b7-bad7-4695-c447-841a78ba0dfc"
      },
      "source": [
        "# Plot Silhouette Diagram\n",
        "from yellowbrick.cluster import SilhouetteVisualizer\n",
        "clusters = [2, 3, 4, 5]\n",
        "for c in clusters:\n",
        "    plt.figure(figsize=(6, 3))\n",
        "    # Instantiate the clustering model and visualizer\n",
        "    kmeans = KMeans(c, random_state=1)\n",
        "    # Instantiate SilhouetteVisualizer()\n",
        "    visualizer = SilhouetteVisualizer(kmeans, colors='yellowbrick')\n",
        "    # Fit the data to the visualizer\n",
        "    visualizer.fit(X_train);\n",
        "    plt.title(\"k={}\".format(c))\n",
        "    plt.xlabel(\"Silhoutte score\")\n",
        "    plt.ylabel(\"Number of Instances\")\n",
        "    plt.show()"
      ],
      "execution_count": null,
      "outputs": [
        {
          "output_type": "display_data",
          "data": {
            "image/png": "[encoded data removed]",
            "text/plain": [
              "<Figure size 432x216 with 1 Axes>"
            ]
          },
          "metadata": {
            "tags": []
          }
        },
        {
          "output_type": "display_data",
          "data": {
            "image/png": "[encoded data removed]",
            "text/plain": [
              "<Figure size 432x216 with 1 Axes>"
            ]
          },
          "metadata": {
            "tags": []
          }
        },
        {
          "output_type": "display_data",
          "data": {
            "image/png": "[encoded data removed]",
            "text/plain": [
              "<Figure size 432x216 with 1 Axes>"
            ]
          },
          "metadata": {
            "tags": []
          }
        },
        {
          "output_type": "display_data",
          "data": {
            "image/png": "[encoded data removed]",
            "text/plain": [
              "<Figure size 432x216 with 1 Axes>"
            ]
          },
          "metadata": {
            "tags": []
          }
        }
      ]
    },
    {
      "cell_type": "markdown",
      "metadata": {
        "id": "0q7nKnfVK_Yj"
      },
      "source": [
        "### Apply DBSCAN algorithm for clustering\n",
        "\n",
        "- Compare the results of clusters from k-means and DBSCAN\n"
      ]
    },
    {
      "cell_type": "code",
      "metadata": {
        "id": "O8ahr6ctjp9o",
        "colab": {
          "base_uri": "https://localhost:8080/"
        },
        "outputId": "c8192ceb-92c6-45a4-b620-6ea7e3eabe77"
      },
      "source": [
        "dbscan = DBSCAN(eps=0.3, min_samples=7)\n",
        "dbscan.fit(X_train)\n",
        "print(\"Unique clusters in data: \", np.unique(dbscan.labels_))"
      ],
      "execution_count": null,
      "outputs": [
        {
          "output_type": "stream",
          "text": [
            "Unique clusters in data:  [-1  0  1  2  3  4  5  6  7  8  9 10 11 12]\n"
          ],
          "name": "stdout"
        }
      ]
    },
    {
      "cell_type": "markdown",
      "metadata": {
        "id": "FarGC20zgjHj"
      },
      "source": [
        "### Analyze the clusters\n",
        "\n",
        "\n",
        "- consider two features and visualize the clusters with different colors using the predicted cluster centers.\n",
        "\n",
        "  **Hint:** 2D plot\n",
        "\n",
        "- consider three features and visualize the clusters with different colors using the predicted cluster centers.\n",
        "\n",
        "  **Hint:** [3D plot](https://matplotlib.org/stable/gallery/mplot3d/scatter3d.html\n",
        ")"
      ]
    },
    {
      "cell_type": "code",
      "metadata": {
        "id": "07MVOFIidZuz",
        "colab": {
          "base_uri": "https://localhost:8080/",
          "height": 364
        },
        "outputId": "a5798014-bb56-40ae-8c48-5ee7ce4874fe"
      },
      "source": [
        "plt.scatter(X_train[:,1], X_train[:,2], c = dbscan.labels_, cmap= \"spring\")"
      ],
      "execution_count": null,
      "outputs": [
        {
          "output_type": "execute_result",
          "data": {
            "text/plain": [
              "<matplotlib.collections.PathCollection at 0x7facf314f790>"
            ]
          },
          "metadata": {
            "tags": []
          },
          "execution_count": 239
        },
        {
          "output_type": "display_data",
          "data": {
            "image/png": "[encoded data removed]",
            "text/plain": [
              "<Figure size 576x396 with 1 Axes>"
            ]
          },
          "metadata": {
            "tags": []
          }
        }
      ]
    },
    {
      "cell_type": "code",
      "metadata": {
        "colab": {
          "base_uri": "https://localhost:8080/",
          "height": 330
        },
        "id": "gSM1YgijR21Z",
        "outputId": "051f2295-8c4f-4f3c-c070-1fc21dadd1e4"
      },
      "source": [
        "fig = plt.figure()\n",
        "ax = fig.add_subplot(projection='3d')\n",
        "ax.scatter(X_train[:,1], X_train[:,2], X_train[:,0], marker='^')\n",
        "ax.set_xlabel('X Label')\n",
        "ax.set_ylabel('Y Label')\n",
        "ax.set_zlabel('Z Label')\n",
        "\n",
        "plt.show()"
      ],
      "execution_count": null,
      "outputs": [
        {
          "output_type": "display_data",
          "data": {
            "image/png": "[encoded data removed]",
            "text/plain": [
              "<Figure size 576x396 with 1 Axes>"
            ]
          },
          "metadata": {
            "tags": []
          }
        }
      ]
    },
    {
      "cell_type": "markdown",
      "metadata": {
        "id": "zef_pWaE20pP"
      },
      "source": [
        "### Train a supervised algorithm on clustered data\n",
        "\n",
        "This will allow us to predict cluster numbers (label) for each test data instance\n",
        "\n",
        "* Create labelled data with k-means cluster labels\n",
        "  \n",
        "  **Hint**: [`kmeans.labels_`](https://scikit-learn.org/stable/modules/generated/sklearn.cluster.KMeans.html\n",
        ")\n",
        "* Split the data into train and validation sets\n",
        "* Train a supervised algorithm on the train data\n",
        "* Find the accuracy of the model using validation data"
      ]
    },
    {
      "cell_type": "code",
      "metadata": {
        "colab": {
          "base_uri": "https://localhost:8080/",
          "height": 234
        },
        "id": "_3cXCSLoaMJd",
        "outputId": "9bdfaacb-5535-45a5-b6ce-00d277a2135c"
      },
      "source": [
        "df_train_result.head()"
      ],
      "execution_count": null,
      "outputs": [
        {
          "output_type": "execute_result",
          "data": {
            "text/html": [
              "<div>\n",
              "<style scoped>\n",
              "    .dataframe tbody tr th:only-of-type {\n",
              "        vertical-align: middle;\n",
              "    }\n",
              "\n",
              "    .dataframe tbody tr th {\n",
              "        vertical-align: top;\n",
              "    }\n",
              "\n",
              "    .dataframe thead th {\n",
              "        text-align: right;\n",
              "    }\n",
              "</style>\n",
              "<table border=\"1\" class=\"dataframe\">\n",
              "  <thead>\n",
              "    <tr style=\"text-align: right;\">\n",
              "      <th></th>\n",
              "      <th>DayOfWeek</th>\n",
              "      <th>UnitPrice</th>\n",
              "      <th>TotalAmount</th>\n",
              "    </tr>\n",
              "    <tr>\n",
              "      <th>Cluster</th>\n",
              "      <th></th>\n",
              "      <th></th>\n",
              "      <th></th>\n",
              "    </tr>\n",
              "  </thead>\n",
              "  <tbody>\n",
              "    <tr>\n",
              "      <th>0</th>\n",
              "      <td>4.176560</td>\n",
              "      <td>2.522494</td>\n",
              "      <td>22.255937</td>\n",
              "    </tr>\n",
              "    <tr>\n",
              "      <th>1</th>\n",
              "      <td>2.411056</td>\n",
              "      <td>5.440041</td>\n",
              "      <td>34.594982</td>\n",
              "    </tr>\n",
              "    <tr>\n",
              "      <th>2</th>\n",
              "      <td>1.002881</td>\n",
              "      <td>2.498142</td>\n",
              "      <td>23.216515</td>\n",
              "    </tr>\n",
              "    <tr>\n",
              "      <th>3</th>\n",
              "      <td>1.500000</td>\n",
              "      <td>5.590625</td>\n",
              "      <td>1395.513500</td>\n",
              "    </tr>\n",
              "    <tr>\n",
              "      <th>4</th>\n",
              "      <td>2.268182</td>\n",
              "      <td>2.952492</td>\n",
              "      <td>302.877363</td>\n",
              "    </tr>\n",
              "  </tbody>\n",
              "</table>\n",
              "</div>"
            ],
            "text/plain": [
              "         DayOfWeek  UnitPrice  TotalAmount\n",
              "Cluster                                   \n",
              "0         4.176560   2.522494    22.255937\n",
              "1         2.411056   5.440041    34.594982\n",
              "2         1.002881   2.498142    23.216515\n",
              "3         1.500000   5.590625  1395.513500\n",
              "4         2.268182   2.952492   302.877363"
            ]
          },
          "metadata": {
            "tags": []
          },
          "execution_count": 259
        }
      ]
    },
    {
      "cell_type": "code",
      "metadata": {
        "colab": {
          "base_uri": "https://localhost:8080/"
        },
        "id": "kW09HFK1a05D",
        "outputId": "dbb34191-fe90-4f3a-de25-87ab33e7f663"
      },
      "source": [
        "df_train_result.index"
      ],
      "execution_count": null,
      "outputs": [
        {
          "output_type": "execute_result",
          "data": {
            "text/plain": [
              "Int64Index([0, 1, 2, 3, 4], dtype='int64', name='Cluster')"
            ]
          },
          "metadata": {
            "tags": []
          },
          "execution_count": 263
        }
      ]
    },
    {
      "cell_type": "code",
      "metadata": {
        "colab": {
          "base_uri": "https://localhost:8080/"
        },
        "id": "DdKK7fWvc0rg",
        "outputId": "577b0eb3-c796-478b-b439-46d393668515"
      },
      "source": [
        "df_train_result.shape"
      ],
      "execution_count": null,
      "outputs": [
        {
          "output_type": "execute_result",
          "data": {
            "text/plain": [
              "(5, 3)"
            ]
          },
          "metadata": {
            "tags": []
          },
          "execution_count": 282
        }
      ]
    },
    {
      "cell_type": "code",
      "metadata": {
        "colab": {
          "base_uri": "https://localhost:8080/",
          "height": 203
        },
        "id": "QZyg7rLrd1N2",
        "outputId": "962082a1-9411-4b73-97d1-83433accd471"
      },
      "source": [
        "train_customer.head()"
      ],
      "execution_count": null,
      "outputs": [
        {
          "output_type": "execute_result",
          "data": {
            "text/html": [
              "<div>\n",
              "<style scoped>\n",
              "    .dataframe tbody tr th:only-of-type {\n",
              "        vertical-align: middle;\n",
              "    }\n",
              "\n",
              "    .dataframe tbody tr th {\n",
              "        vertical-align: top;\n",
              "    }\n",
              "\n",
              "    .dataframe thead th {\n",
              "        text-align: right;\n",
              "    }\n",
              "</style>\n",
              "<table border=\"1\" class=\"dataframe\">\n",
              "  <thead>\n",
              "    <tr style=\"text-align: right;\">\n",
              "      <th></th>\n",
              "      <th>DayOfWeek</th>\n",
              "      <th>UnitPrice</th>\n",
              "      <th>TotalAmount</th>\n",
              "      <th>Cluster</th>\n",
              "    </tr>\n",
              "  </thead>\n",
              "  <tbody>\n",
              "    <tr>\n",
              "      <th>0</th>\n",
              "      <td>0</td>\n",
              "      <td>2.539348</td>\n",
              "      <td>27.106957</td>\n",
              "      <td>2</td>\n",
              "    </tr>\n",
              "    <tr>\n",
              "      <th>1</th>\n",
              "      <td>1</td>\n",
              "      <td>2.995510</td>\n",
              "      <td>25.085714</td>\n",
              "      <td>2</td>\n",
              "    </tr>\n",
              "    <tr>\n",
              "      <th>2</th>\n",
              "      <td>2</td>\n",
              "      <td>2.181667</td>\n",
              "      <td>17.886389</td>\n",
              "      <td>2</td>\n",
              "    </tr>\n",
              "    <tr>\n",
              "      <th>3</th>\n",
              "      <td>3</td>\n",
              "      <td>2.697750</td>\n",
              "      <td>24.294250</td>\n",
              "      <td>0</td>\n",
              "    </tr>\n",
              "    <tr>\n",
              "      <th>4</th>\n",
              "      <td>1</td>\n",
              "      <td>0.790000</td>\n",
              "      <td>59.085000</td>\n",
              "      <td>2</td>\n",
              "    </tr>\n",
              "  </tbody>\n",
              "</table>\n",
              "</div>"
            ],
            "text/plain": [
              "   DayOfWeek  UnitPrice  TotalAmount  Cluster\n",
              "0          0   2.539348    27.106957        2\n",
              "1          1   2.995510    25.085714        2\n",
              "2          2   2.181667    17.886389        2\n",
              "3          3   2.697750    24.294250        0\n",
              "4          1   0.790000    59.085000        2"
            ]
          },
          "metadata": {
            "tags": []
          },
          "execution_count": 284
        }
      ]
    },
    {
      "cell_type": "code",
      "metadata": {
        "colab": {
          "base_uri": "https://localhost:8080/",
          "height": 417
        },
        "id": "NbSZifkeeIwK",
        "outputId": "f411d0c0-8520-4f4e-8201-e1b98747dad3"
      },
      "source": [
        "train_customer.iloc[ :, :3]"
      ],
      "execution_count": null,
      "outputs": [
        {
          "output_type": "execute_result",
          "data": {
            "text/html": [
              "<div>\n",
              "<style scoped>\n",
              "    .dataframe tbody tr th:only-of-type {\n",
              "        vertical-align: middle;\n",
              "    }\n",
              "\n",
              "    .dataframe tbody tr th {\n",
              "        vertical-align: top;\n",
              "    }\n",
              "\n",
              "    .dataframe thead th {\n",
              "        text-align: right;\n",
              "    }\n",
              "</style>\n",
              "<table border=\"1\" class=\"dataframe\">\n",
              "  <thead>\n",
              "    <tr style=\"text-align: right;\">\n",
              "      <th></th>\n",
              "      <th>DayOfWeek</th>\n",
              "      <th>UnitPrice</th>\n",
              "      <th>TotalAmount</th>\n",
              "    </tr>\n",
              "  </thead>\n",
              "  <tbody>\n",
              "    <tr>\n",
              "      <th>0</th>\n",
              "      <td>0</td>\n",
              "      <td>2.539348</td>\n",
              "      <td>27.106957</td>\n",
              "    </tr>\n",
              "    <tr>\n",
              "      <th>1</th>\n",
              "      <td>1</td>\n",
              "      <td>2.995510</td>\n",
              "      <td>25.085714</td>\n",
              "    </tr>\n",
              "    <tr>\n",
              "      <th>2</th>\n",
              "      <td>2</td>\n",
              "      <td>2.181667</td>\n",
              "      <td>17.886389</td>\n",
              "    </tr>\n",
              "    <tr>\n",
              "      <th>3</th>\n",
              "      <td>3</td>\n",
              "      <td>2.697750</td>\n",
              "      <td>24.294250</td>\n",
              "    </tr>\n",
              "    <tr>\n",
              "      <th>4</th>\n",
              "      <td>1</td>\n",
              "      <td>0.790000</td>\n",
              "      <td>59.085000</td>\n",
              "    </tr>\n",
              "    <tr>\n",
              "      <th>...</th>\n",
              "      <td>...</td>\n",
              "      <td>...</td>\n",
              "      <td>...</td>\n",
              "    </tr>\n",
              "    <tr>\n",
              "      <th>9758</th>\n",
              "      <td>3</td>\n",
              "      <td>1.656198</td>\n",
              "      <td>2.280958</td>\n",
              "    </tr>\n",
              "    <tr>\n",
              "      <th>9759</th>\n",
              "      <td>6</td>\n",
              "      <td>1.863636</td>\n",
              "      <td>2.393182</td>\n",
              "    </tr>\n",
              "    <tr>\n",
              "      <th>9760</th>\n",
              "      <td>2</td>\n",
              "      <td>1.178378</td>\n",
              "      <td>26.722162</td>\n",
              "    </tr>\n",
              "    <tr>\n",
              "      <th>9761</th>\n",
              "      <td>4</td>\n",
              "      <td>0.643333</td>\n",
              "      <td>23.560000</td>\n",
              "    </tr>\n",
              "    <tr>\n",
              "      <th>9762</th>\n",
              "      <td>6</td>\n",
              "      <td>1.941786</td>\n",
              "      <td>26.785000</td>\n",
              "    </tr>\n",
              "  </tbody>\n",
              "</table>\n",
              "<p>9763 rows × 3 columns</p>\n",
              "</div>"
            ],
            "text/plain": [
              "      DayOfWeek  UnitPrice  TotalAmount\n",
              "0             0   2.539348    27.106957\n",
              "1             1   2.995510    25.085714\n",
              "2             2   2.181667    17.886389\n",
              "3             3   2.697750    24.294250\n",
              "4             1   0.790000    59.085000\n",
              "...         ...        ...          ...\n",
              "9758          3   1.656198     2.280958\n",
              "9759          6   1.863636     2.393182\n",
              "9760          2   1.178378    26.722162\n",
              "9761          4   0.643333    23.560000\n",
              "9762          6   1.941786    26.785000\n",
              "\n",
              "[9763 rows x 3 columns]"
            ]
          },
          "metadata": {
            "tags": []
          },
          "execution_count": 292
        }
      ]
    },
    {
      "cell_type": "code",
      "metadata": {
        "colab": {
          "base_uri": "https://localhost:8080/"
        },
        "id": "mmsBWSEnehrH",
        "outputId": "af47810c-c472-4e68-fa8e-459f5b5cbec7"
      },
      "source": [
        "train_customer.iloc[ :, 3]"
      ],
      "execution_count": null,
      "outputs": [
        {
          "output_type": "execute_result",
          "data": {
            "text/plain": [
              "0       2\n",
              "1       2\n",
              "2       2\n",
              "3       0\n",
              "4       2\n",
              "       ..\n",
              "9758    0\n",
              "9759    0\n",
              "9760    2\n",
              "9761    0\n",
              "9762    0\n",
              "Name: Cluster, Length: 9763, dtype: int32"
            ]
          },
          "metadata": {
            "tags": []
          },
          "execution_count": 294
        }
      ]
    },
    {
      "cell_type": "code",
      "metadata": {
        "id": "9id9bpEpZ7Zs"
      },
      "source": [
        "X = StandardScaler().fit_transform(train_customer.iloc[ :, :3])\n",
        "X_train, X_test, y_train, y_test = train_test_split(X, train_customer.iloc[ :, 3],test_size = 0.25, random_state=123)"
      ],
      "execution_count": null,
      "outputs": []
    },
    {
      "cell_type": "code",
      "metadata": {
        "colab": {
          "base_uri": "https://localhost:8080/"
        },
        "id": "ZHDna5SBT4IL",
        "outputId": "7f878d5c-512a-442e-a162-e2c1eb6dc86d"
      },
      "source": [
        "# YOUR CODE HERE\n",
        "from sklearn.neighbors import KNeighborsClassifier\n",
        "# Training KNeighborsClassifier on core instances\n",
        "knn = KNeighborsClassifier()\n",
        "knn.fit(X_train, y_train)"
      ],
      "execution_count": null,
      "outputs": [
        {
          "output_type": "execute_result",
          "data": {
            "text/plain": [
              "KNeighborsClassifier(algorithm='auto', leaf_size=30, metric='minkowski',\n",
              "                     metric_params=None, n_jobs=None, n_neighbors=5, p=2,\n",
              "                     weights='uniform')"
            ]
          },
          "metadata": {
            "tags": []
          },
          "execution_count": 296
        }
      ]
    },
    {
      "cell_type": "markdown",
      "metadata": {
        "id": "cUWhJeDpzh7Z"
      },
      "source": [
        "### Evaluation of Test Data\n",
        "* Use the model to predict the labels for the Test data below\n",
        "* Format the test data in the same format as the train data.\n",
        "* Predict it with trained supervised ML model"
      ]
    },
    {
      "cell_type": "code",
      "metadata": {
        "id": "fvfXQ8JNkBZ3"
      },
      "source": [
        "# Test set provided as below\n",
        "# test = pd.read_csv(\"Online_Retail_Test.csv\")\n",
        "# test.head(3)\n",
        "# test data has already been cleaned up, so not called again here"
      ],
      "execution_count": null,
      "outputs": []
    },
    {
      "cell_type": "code",
      "metadata": {
        "id": "jb-88kOSWwXd",
        "colab": {
          "base_uri": "https://localhost:8080/",
          "height": 347
        },
        "outputId": "f1eebfd9-dc27-4340-f9c4-366edd91c4df"
      },
      "source": [
        "y_predict = knn.predict(X_test)\n",
        "plt.scatter(X_test[:, 1], X_test[:, 2], c=y_predict, cmap = 'summer')\n",
        "plt.show()"
      ],
      "execution_count": null,
      "outputs": [
        {
          "output_type": "display_data",
          "data": {
            "image/png": "[encoded data removed]",
            "text/plain": [
              "<Figure size 576x396 with 1 Axes>"
            ]
          },
          "metadata": {
            "tags": []
          }
        }
      ]
    },
    {
      "cell_type": "code",
      "metadata": {
        "colab": {
          "base_uri": "https://localhost:8080/",
          "height": 417
        },
        "id": "9hhByxrhe4Ex",
        "outputId": "926d7359-9a37-4e18-8ddc-24e7f2c91e8d"
      },
      "source": [
        "test_customer.iloc[ :, :3]"
      ],
      "execution_count": null,
      "outputs": [
        {
          "output_type": "execute_result",
          "data": {
            "text/html": [
              "<div>\n",
              "<style scoped>\n",
              "    .dataframe tbody tr th:only-of-type {\n",
              "        vertical-align: middle;\n",
              "    }\n",
              "\n",
              "    .dataframe tbody tr th {\n",
              "        vertical-align: top;\n",
              "    }\n",
              "\n",
              "    .dataframe thead th {\n",
              "        text-align: right;\n",
              "    }\n",
              "</style>\n",
              "<table border=\"1\" class=\"dataframe\">\n",
              "  <thead>\n",
              "    <tr style=\"text-align: right;\">\n",
              "      <th></th>\n",
              "      <th>DayOfWeek</th>\n",
              "      <th>UnitPrice</th>\n",
              "      <th>TotalAmount</th>\n",
              "    </tr>\n",
              "  </thead>\n",
              "  <tbody>\n",
              "    <tr>\n",
              "      <th>0</th>\n",
              "      <td>0</td>\n",
              "      <td>3.9500</td>\n",
              "      <td>47.4000</td>\n",
              "    </tr>\n",
              "    <tr>\n",
              "      <th>1</th>\n",
              "      <td>1</td>\n",
              "      <td>2.7625</td>\n",
              "      <td>16.8750</td>\n",
              "    </tr>\n",
              "    <tr>\n",
              "      <th>2</th>\n",
              "      <td>2</td>\n",
              "      <td>2.0425</td>\n",
              "      <td>14.0750</td>\n",
              "    </tr>\n",
              "    <tr>\n",
              "      <th>3</th>\n",
              "      <td>3</td>\n",
              "      <td>4.0000</td>\n",
              "      <td>23.5000</td>\n",
              "    </tr>\n",
              "    <tr>\n",
              "      <th>4</th>\n",
              "      <td>0</td>\n",
              "      <td>7.4560</td>\n",
              "      <td>22.5080</td>\n",
              "    </tr>\n",
              "    <tr>\n",
              "      <th>...</th>\n",
              "      <td>...</td>\n",
              "      <td>...</td>\n",
              "      <td>...</td>\n",
              "    </tr>\n",
              "    <tr>\n",
              "      <th>6231</th>\n",
              "      <td>1</td>\n",
              "      <td>1.7300</td>\n",
              "      <td>2.2200</td>\n",
              "    </tr>\n",
              "    <tr>\n",
              "      <th>6232</th>\n",
              "      <td>2</td>\n",
              "      <td>1.2450</td>\n",
              "      <td>2.3725</td>\n",
              "    </tr>\n",
              "    <tr>\n",
              "      <th>6233</th>\n",
              "      <td>3</td>\n",
              "      <td>1.7740</td>\n",
              "      <td>2.0960</td>\n",
              "    </tr>\n",
              "    <tr>\n",
              "      <th>6234</th>\n",
              "      <td>2</td>\n",
              "      <td>2.1000</td>\n",
              "      <td>12.6000</td>\n",
              "    </tr>\n",
              "    <tr>\n",
              "      <th>6235</th>\n",
              "      <td>6</td>\n",
              "      <td>2.5500</td>\n",
              "      <td>15.3000</td>\n",
              "    </tr>\n",
              "  </tbody>\n",
              "</table>\n",
              "<p>6236 rows × 3 columns</p>\n",
              "</div>"
            ],
            "text/plain": [
              "      DayOfWeek  UnitPrice  TotalAmount\n",
              "0             0     3.9500      47.4000\n",
              "1             1     2.7625      16.8750\n",
              "2             2     2.0425      14.0750\n",
              "3             3     4.0000      23.5000\n",
              "4             0     7.4560      22.5080\n",
              "...         ...        ...          ...\n",
              "6231          1     1.7300       2.2200\n",
              "6232          2     1.2450       2.3725\n",
              "6233          3     1.7740       2.0960\n",
              "6234          2     2.1000      12.6000\n",
              "6235          6     2.5500      15.3000\n",
              "\n",
              "[6236 rows x 3 columns]"
            ]
          },
          "metadata": {
            "tags": []
          },
          "execution_count": 298
        }
      ]
    },
    {
      "cell_type": "code",
      "metadata": {
        "colab": {
          "base_uri": "https://localhost:8080/",
          "height": 347
        },
        "id": "Impx593UcStx",
        "outputId": "cf379e4e-22f2-4338-8458-115bc4bfcec5"
      },
      "source": [
        "X_TEST = StandardScaler().fit_transform(test_customer.iloc[ :, :3])\n",
        "y_predict_test = knn.predict(X_TEST)\n",
        "plt.scatter(X_TEST[:, 1], X_TEST[:, 2], c=y_predict_test, cmap = 'spring')\n",
        "plt.show()"
      ],
      "execution_count": null,
      "outputs": [
        {
          "output_type": "display_data",
          "data": {
            "image/png": "[encoded data removed]",
            "text/plain": [
              "<Figure size 576x396 with 1 Axes>"
            ]
          },
          "metadata": {
            "tags": []
          }
        }
      ]
    }
  ]
}