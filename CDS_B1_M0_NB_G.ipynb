{
  "nbformat": 4,
  "nbformat_minor": 0,
  "metadata": {
    "colab": {
      "provenance": [],
      "include_colab_link": true
    },
    "kernelspec": {
      "display_name": "Python 3",
      "language": "python",
      "name": "python3"
    }
  },
  "cells": [
    {
      "cell_type": "markdown",
      "metadata": {
        "id": "view-in-github",
        "colab_type": "text"
      },
      "source": [
        "<a href=\"https://colab.research.google.com/github/DattaIn/idatta.github.io/blob/master/CDS_B1_M0_NB_G.ipynb\" target=\"_parent\"><img src=\"https://colab.research.google.com/assets/colab-badge.svg\" alt=\"Open In Colab\"/></a>"
      ]
    },
    {
      "cell_type": "markdown",
      "metadata": {
        "id": "sHhhvGwYXhXi"
      },
      "source": [
        "# Advanced Certification Program in Computational Data Science\n",
        "## A program by IISc and TalentSprint\n",
        "### Notebook G: Dictionaries in Python"
      ]
    },
    {
      "cell_type": "code",
      "metadata": {
        "id": "88RnxRrRBSJS"
      },
      "source": [
        "#Create a dictionary\n",
        "capitals = {\"INDIA\" : \"New Delhi\", \"BA\" : \"Washington DC\", \"UK\" : \"London\" }"
      ],
      "execution_count": null,
      "outputs": []
    },
    {
      "cell_type": "code",
      "metadata": {
        "id": "Yb2GxmTRDrss"
      },
      "source": [
        "#Retrive value of a key\n",
        "capitals[\"BA\"]"
      ],
      "execution_count": null,
      "outputs": []
    },
    {
      "cell_type": "code",
      "metadata": {
        "id": "TS1KqNtkHBq4"
      },
      "source": [
        "#Retrive value of a key\n",
        "capitals[\"INDIA\"]"
      ],
      "execution_count": null,
      "outputs": []
    },
    {
      "cell_type": "code",
      "metadata": {
        "id": "kTkrYdB-HflQ"
      },
      "source": [
        "#Case sensitive\n",
        "capitals[\"India\"]"
      ],
      "execution_count": null,
      "outputs": []
    },
    {
      "cell_type": "code",
      "metadata": {
        "id": "zKzS_V9gD60W"
      },
      "source": [
        "#Length of a dictionary\n",
        "len(capitals)"
      ],
      "execution_count": null,
      "outputs": []
    },
    {
      "cell_type": "code",
      "metadata": {
        "id": "dzIM-hUJEBfQ"
      },
      "source": [
        "#Built-in function to get the keys\n",
        "capitals.keys()"
      ],
      "execution_count": null,
      "outputs": []
    },
    {
      "cell_type": "code",
      "metadata": {
        "id": "Ib_V2aNTEQAO"
      },
      "source": [
        "#Built-in function to get values\n",
        "capitals.values()"
      ],
      "execution_count": null,
      "outputs": []
    },
    {
      "cell_type": "code",
      "metadata": {
        "id": "OBBNljqvFWvO"
      },
      "source": [
        "#Retrive all the key - value pairs\n",
        "capitals.items()"
      ],
      "execution_count": null,
      "outputs": []
    },
    {
      "cell_type": "code",
      "metadata": {
        "id": "kvQnx8UlFt0K"
      },
      "source": [
        "#Adding a key - value pair\n",
        "capitals[\"UK\"] = \"\""
      ],
      "execution_count": null,
      "outputs": []
    },
    {
      "cell_type": "code",
      "metadata": {
        "id": "RIvnOM5SF51Y"
      },
      "source": [
        "#New length of dictionary\n",
        "len(capitals)"
      ],
      "execution_count": null,
      "outputs": []
    },
    {
      "cell_type": "code",
      "metadata": {
        "id": "kQIBmjJ_F-Ru"
      },
      "source": [
        "#Order of key-value pairs get changed\n",
        "capitals"
      ],
      "execution_count": null,
      "outputs": []
    },
    {
      "cell_type": "code",
      "metadata": {
        "id": "xmpY8CaeOT0U"
      },
      "source": [
        "capitals[\"AFGANISTAN\"] = \"Kabul\""
      ],
      "execution_count": null,
      "outputs": []
    },
    {
      "cell_type": "code",
      "metadata": {
        "id": "jCdte-XHOd6o"
      },
      "source": [
        "#Update an existing dictionary\n",
        "capitals[\"AFGANISTAN\"] = \"KABUL\""
      ],
      "execution_count": null,
      "outputs": []
    },
    {
      "cell_type": "code",
      "metadata": {
        "id": "2uLlL38nPIRE"
      },
      "source": [
        "capitals"
      ],
      "execution_count": null,
      "outputs": []
    },
    {
      "cell_type": "code",
      "metadata": {
        "id": "FBW2K6khGBwm"
      },
      "source": [
        "#Dictionaries can contain tuples\n",
        "capitals[(23,45)] = \"Number\""
      ],
      "execution_count": null,
      "outputs": []
    },
    {
      "cell_type": "code",
      "metadata": {
        "id": "TfYMEBI3LYCc"
      },
      "source": [
        "capitals"
      ],
      "execution_count": null,
      "outputs": []
    },
    {
      "cell_type": "code",
      "metadata": {
        "id": "RjmV9Re6LYyO"
      },
      "source": [
        "for k in capitals.keys():\n",
        "  print ( capitals[k])"
      ],
      "execution_count": null,
      "outputs": []
    },
    {
      "cell_type": "code",
      "metadata": {
        "id": "0dbkuLt-OB_A"
      },
      "source": [
        "for k in capitals.keys():\n",
        "  print ( k , capitals[k])"
      ],
      "execution_count": null,
      "outputs": []
    },
    {
      "cell_type": "code",
      "metadata": {
        "id": "KUYGcfrWOGzM"
      },
      "source": [
        "#Letter count\n",
        "letterCount = {}"
      ],
      "execution_count": null,
      "outputs": []
    },
    {
      "cell_type": "code",
      "metadata": {
        "id": "BbHaNYTYP3MY"
      },
      "source": [
        "s = \"TalentSprint is a digital platform designed to transform the lives of professionals in the new economy. Its blended bootcamps offer deeptech skills.\""
      ],
      "execution_count": null,
      "outputs": []
    },
    {
      "cell_type": "code",
      "metadata": {
        "id": "hgdeGHePRAMK"
      },
      "source": [
        "for ch in s :\n",
        "  ch = ch.lower()\n",
        "  if ch not in letterCount :\n",
        "    letterCount[ch] = 1\n",
        "  else :\n",
        "    letterCount[ch] += 1"
      ],
      "execution_count": null,
      "outputs": []
    },
    {
      "cell_type": "code",
      "metadata": {
        "id": "SYg7ARPLRkZy"
      },
      "source": [
        "letterCount"
      ],
      "execution_count": null,
      "outputs": []
    },
    {
      "cell_type": "code",
      "metadata": {
        "id": "IbUJKNpBRu9s"
      },
      "source": [
        "letterCount.keys()"
      ],
      "execution_count": null,
      "outputs": []
    }
  ]
}