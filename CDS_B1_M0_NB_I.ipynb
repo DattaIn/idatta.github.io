{
  "nbformat": 4,
  "nbformat_minor": 0,
  "metadata": {
    "colab": {
      "provenance": [],
      "include_colab_link": true
    },
    "kernelspec": {
      "name": "python3",
      "display_name": "Python 3"
    }
  },
  "cells": [
    {
      "cell_type": "markdown",
      "metadata": {
        "id": "view-in-github",
        "colab_type": "text"
      },
      "source": [
        "<a href=\"https://colab.research.google.com/github/DattaIn/idatta.github.io/blob/master/CDS_B1_M0_NB_I.ipynb\" target=\"_parent\"><img src=\"https://colab.research.google.com/assets/colab-badge.svg\" alt=\"Open In Colab\"/></a>"
      ]
    },
    {
      "cell_type": "markdown",
      "metadata": {
        "id": "7oeeHeGxpd6_"
      },
      "source": [
        "# Advanced Certification Program in Computational Data Science\n",
        "## A program by IISc and TalentSprint\n",
        "### Notebook I: Sets and Tuples in Python"
      ]
    },
    {
      "cell_type": "markdown",
      "metadata": {
        "id": "x1886FElpu1h"
      },
      "source": [
        "#### Tuples"
      ]
    },
    {
      "cell_type": "markdown",
      "metadata": {
        "id": "2zBA7YckpwBo"
      },
      "source": [
        "We saw earlier that a list is an ordered mutable collection. There’s also an ordered immutable collection.\n",
        "\n",
        "In Python these are called tuples and look very similar to lists, but typically written with () instead of []:"
      ]
    },
    {
      "cell_type": "code",
      "metadata": {
        "id": "gobMMo3-p39J"
      },
      "source": [
        "a_list = [1, 2, 3]\n",
        "a_tuple = (1, 2, 3)"
      ],
      "execution_count": null,
      "outputs": []
    },
    {
      "cell_type": "markdown",
      "metadata": {
        "id": "kevevyYap766"
      },
      "source": [
        "Similar to how we used list before, you can also create a tuple via tuple(1,2,3)."
      ]
    },
    {
      "cell_type": "markdown",
      "metadata": {
        "id": "u0EZYE9jqAYJ"
      },
      "source": [
        "The difference being that tuples are immutable. This means no assignment, append, insert, pop, etc. Everything else works as it did with lists: indexing, getting the length, checking membership, etc."
      ]
    },
    {
      "cell_type": "markdown",
      "metadata": {
        "id": "EtPegkiYqJjg"
      },
      "source": [
        "Another thing to note is that strictly speaking, the comma is what makes the tuple, not the parentheses. In practice it is a good idea to include the parentheses for clarity and because they are needed in some situations to make operator precedence clear."
      ]
    },
    {
      "cell_type": "code",
      "metadata": {
        "id": "HolYsh2hp7ZZ"
      },
      "source": [
        "a_tuple = (4, 5, 6)\n",
        "b_tuple = 4, 5, 6 # Tuple Packaging\n",
        "a_tuple == b_tuple"
      ],
      "execution_count": null,
      "outputs": []
    },
    {
      "cell_type": "code",
      "metadata": {
        "id": "6I-qRPVJq7hv"
      },
      "source": [
        "a, b , c = a_tuple # Tuple Unpackaging\n",
        "print(a, b, c)"
      ],
      "execution_count": null,
      "outputs": []
    },
    {
      "cell_type": "markdown",
      "metadata": {
        "id": "VK1nOpdyqXiH"
      },
      "source": [
        "This is also important if you need to make a single element tuple:"
      ]
    },
    {
      "cell_type": "code",
      "metadata": {
        "id": "7v402ueRqeHM"
      },
      "source": [
        "X = (89)\n",
        "type(X)"
      ],
      "execution_count": null,
      "outputs": []
    },
    {
      "cell_type": "code",
      "metadata": {
        "id": "J1PXUO69qmY0"
      },
      "source": [
        "Y = (78, )\n",
        "type(Y)"
      ],
      "execution_count": null,
      "outputs": []
    },
    {
      "cell_type": "markdown",
      "metadata": {
        "id": "t2SSNHF-ph7n"
      },
      "source": [
        "#### Sets\n"
      ]
    },
    {
      "cell_type": "markdown",
      "metadata": {
        "id": "1BCnQIy9prmA"
      },
      "source": [
        "Items in a list have a definite order, which is what allows us to index into them or sort them. Sometimes you don’t care what the order of items is, simply whether the collection contains it or not. In this case Python has a special type that is probably not familiar to you from other languages: set.\n",
        "\n",
        "A set is an unordered, mutable collection. In math they’re typically denoted with {}, you can use the same in Python. The difference from dict syntax is that there aren’t key-value pairs separated by :.\n",
        "\n",
        "Many of the same operations you have on lists and tuples are available on set, but anything dealing with order isn’t. This means you can’t index into a set, or pop a specific element."
      ]
    },
    {
      "cell_type": "code",
      "metadata": {
        "id": "2pP_jRBCrxAT"
      },
      "source": [
        "s = set([1,2,3]) # Defining a Set"
      ],
      "execution_count": null,
      "outputs": []
    },
    {
      "cell_type": "code",
      "metadata": {
        "id": "LfIV4rT1r-Sn"
      },
      "source": [
        "len(s) # Length of set"
      ],
      "execution_count": null,
      "outputs": []
    },
    {
      "cell_type": "code",
      "metadata": {
        "id": "2V49frNUr_Lf"
      },
      "source": [
        "type(s) # checking for type of 's'"
      ],
      "execution_count": null,
      "outputs": []
    },
    {
      "cell_type": "code",
      "metadata": {
        "id": "1MFbGzaDsC9V"
      },
      "source": [
        "s[1] # Sets doesn't support indexing"
      ],
      "execution_count": null,
      "outputs": []
    },
    {
      "cell_type": "markdown",
      "metadata": {
        "id": "kHM1rh_hsNHo"
      },
      "source": [
        "Sets cannot have duplicate elements"
      ]
    },
    {
      "cell_type": "code",
      "metadata": {
        "id": "ieUa6kfXsGMq"
      },
      "source": [
        "a = set([1, 2, 3, 4, 3, 3, 3, 2, 2,323, 3, 4])"
      ],
      "execution_count": null,
      "outputs": []
    },
    {
      "cell_type": "code",
      "metadata": {
        "id": "-iQGPnrCsaGc"
      },
      "source": [
        "a"
      ],
      "execution_count": null,
      "outputs": []
    },
    {
      "cell_type": "markdown",
      "metadata": {
        "id": "vjZTpwcHshDZ"
      },
      "source": [
        "We can make a set in two ways: set([]) or {[]}:\n",
        "\n"
      ]
    },
    {
      "cell_type": "code",
      "metadata": {
        "id": "RsYuVMNzscIE"
      },
      "source": [
        "b = {4, 5, 6}\n",
        "c = set([9, 8, 10])"
      ],
      "execution_count": null,
      "outputs": []
    },
    {
      "cell_type": "markdown",
      "metadata": {
        "id": "xLK_8polsotm"
      },
      "source": [
        "However, we can not have dictionaries, lists, and other sets as a member of a set:\n",
        "\n",
        "\n",
        "\n"
      ]
    },
    {
      "cell_type": "markdown",
      "metadata": {
        "id": "QNcViEtusyiW"
      },
      "source": [
        "#### Basic Operations on Sets"
      ]
    },
    {
      "cell_type": "code",
      "metadata": {
        "id": "UjvXuT69slyE"
      },
      "source": [
        "X = set() # Creating empty set"
      ],
      "execution_count": null,
      "outputs": []
    },
    {
      "cell_type": "code",
      "metadata": {
        "id": "GktUmfbzs-Nt"
      },
      "source": [
        "X.add(6) # Adding elements into set"
      ],
      "execution_count": null,
      "outputs": []
    },
    {
      "cell_type": "code",
      "metadata": {
        "id": "SCinyMO7s_aa"
      },
      "source": [
        "X.add(7)"
      ],
      "execution_count": null,
      "outputs": []
    },
    {
      "cell_type": "code",
      "metadata": {
        "id": "3X7_r35QtB3A"
      },
      "source": [
        "X"
      ],
      "execution_count": null,
      "outputs": []
    },
    {
      "cell_type": "markdown",
      "metadata": {
        "id": "KqFNuujitOrx"
      },
      "source": [
        "We can add several members at once using update():\n",
        "\n"
      ]
    },
    {
      "cell_type": "code",
      "metadata": {
        "id": "n9No6byqtGhf"
      },
      "source": [
        "X.update([8, 9])"
      ],
      "execution_count": null,
      "outputs": []
    },
    {
      "cell_type": "code",
      "metadata": {
        "id": "pWwhffMztRci"
      },
      "source": [
        "X"
      ],
      "execution_count": null,
      "outputs": []
    },
    {
      "cell_type": "code",
      "metadata": {
        "id": "JyNyt0KBtSCh"
      },
      "source": [
        "A = {0, 2, 4, 6, 8}\n",
        "B = {1, 3, 4, 6, 9, 27}"
      ],
      "execution_count": null,
      "outputs": []
    },
    {
      "cell_type": "code",
      "metadata": {
        "id": "7HCl5feCthA_"
      },
      "source": [
        "A.union(B)"
      ],
      "execution_count": null,
      "outputs": []
    },
    {
      "cell_type": "code",
      "metadata": {
        "id": "Dw3b7Alotid6"
      },
      "source": [
        "A.intersection(B)"
      ],
      "execution_count": null,
      "outputs": []
    },
    {
      "cell_type": "code",
      "metadata": {
        "id": "rKhKQqojtkWd"
      },
      "source": [
        "A.intersection_update(B)"
      ],
      "execution_count": null,
      "outputs": []
    },
    {
      "cell_type": "code",
      "metadata": {
        "id": "hDzL2iJStmLC"
      },
      "source": [
        "A"
      ],
      "execution_count": null,
      "outputs": []
    },
    {
      "cell_type": "code",
      "metadata": {
        "id": "4wXfLCdytnHG"
      },
      "source": [
        "A.symmetric_difference(B)"
      ],
      "execution_count": null,
      "outputs": []
    },
    {
      "cell_type": "code",
      "metadata": {
        "id": "Rd0P818XtqLX"
      },
      "source": [
        "A.symmetric_difference_update(B)"
      ],
      "execution_count": null,
      "outputs": []
    },
    {
      "cell_type": "code",
      "metadata": {
        "id": "4jsEncrGtsb8"
      },
      "source": [
        "A"
      ],
      "execution_count": null,
      "outputs": []
    }
  ]
}