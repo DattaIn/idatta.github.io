{
  "nbformat": 4,
  "nbformat_minor": 0,
  "metadata": {
    "colab": {
      "provenance": [],
      "include_colab_link": true
    },
    "kernelspec": {
      "display_name": "Python 3",
      "language": "python",
      "name": "python3"
    }
  },
  "cells": [
    {
      "cell_type": "markdown",
      "metadata": {
        "id": "view-in-github",
        "colab_type": "text"
      },
      "source": [
        "<a href=\"https://colab.research.google.com/github/DattaIn/idatta.github.io/blob/master/CDS_B1_M0_NB_E.ipynb\" target=\"_parent\"><img src=\"https://colab.research.google.com/assets/colab-badge.svg\" alt=\"Open In Colab\"/></a>"
      ]
    },
    {
      "cell_type": "markdown",
      "metadata": {
        "id": "OHweo8f5NhN0"
      },
      "source": [
        "# Advanced Certification Program in Computational Data Science\n",
        "## A program by IISc and TalentSprint\n",
        "### Notebook E: Built-in Functions in Python"
      ]
    },
    {
      "cell_type": "markdown",
      "metadata": {
        "id": "n5iT23CUNhN2"
      },
      "source": [
        "#### Aggregate Functions\n",
        "* len(iterable)\n",
        "* max(iterable)\n",
        "* min(iterable)\n",
        "* sorted(iterable[, key][, reverse])\n",
        "* sum(iterable[, start])"
      ]
    },
    {
      "cell_type": "code",
      "metadata": {
        "id": "b8cHr-K1NhN4"
      },
      "source": [
        "f = [1, 1, 2, 3, 5, 8, 13, 21, 34, 55, 89]\n",
        "g = [7, 12, -4, 17, 12, 11, 0, 9, 21, 6, 13]\n",
        "print(len(f), len(g))"
      ],
      "execution_count": null,
      "outputs": []
    },
    {
      "cell_type": "code",
      "metadata": {
        "id": "wOlweV-WNhN8"
      },
      "source": [
        "print(max(f), max(g))"
      ],
      "execution_count": null,
      "outputs": []
    },
    {
      "cell_type": "code",
      "metadata": {
        "id": "WSmPjGtpNhOA"
      },
      "source": [
        "print(min(f), min(g))"
      ],
      "execution_count": null,
      "outputs": []
    },
    {
      "cell_type": "code",
      "metadata": {
        "id": "KFYRHHq-NhOE"
      },
      "source": [
        "print(list(sorted(g)))"
      ],
      "execution_count": null,
      "outputs": []
    },
    {
      "cell_type": "code",
      "metadata": {
        "id": "m-Ih3xHtNhOI"
      },
      "source": [
        "print(sum(f), sum(g))"
      ],
      "execution_count": null,
      "outputs": []
    },
    {
      "cell_type": "markdown",
      "metadata": {
        "id": "b55iUCSwNhOM"
      },
      "source": [
        "#### Extended Boolean\n",
        "* all(iterable)\n",
        "* any(iterable)\n",
        "\n",
        "Think of these as **and**, **or** for lists of booleans  "
      ]
    },
    {
      "cell_type": "code",
      "metadata": {
        "id": "b3MyLBlVNhOO"
      },
      "source": [
        "x = [2 > 3, 5 < 7, False, \"Hello\" == \"World\"]\n",
        "print(all(x))\n",
        "print(any(x))"
      ],
      "execution_count": null,
      "outputs": []
    },
    {
      "cell_type": "markdown",
      "metadata": {
        "id": "RaMg-RS7NhOR"
      },
      "source": [
        "#### Mathematical\n",
        " * abs()\n",
        " * divmod(number, divideBy)\n",
        " * pow(number, exponent)\n",
        " * round(floatVal[, places])"
      ]
    },
    {
      "cell_type": "code",
      "metadata": {
        "id": "24R8Yn2wNhOT"
      },
      "source": [
        "print(abs(-7))\n",
        "print(abs(3+4j))"
      ],
      "execution_count": null,
      "outputs": []
    },
    {
      "cell_type": "code",
      "metadata": {
        "id": "l7lbAJDYNhOX"
      },
      "source": [
        "print(divmod(17, 4))\n",
        "print(divmod(-17, 4))"
      ],
      "execution_count": null,
      "outputs": []
    },
    {
      "cell_type": "code",
      "metadata": {
        "id": "gybj1c5fNhOe"
      },
      "source": [
        "print(pow(3, 4))\n",
        "print(pow(3.2, 4))\n",
        "print(pow(4.3, -2.5))"
      ],
      "execution_count": null,
      "outputs": []
    },
    {
      "cell_type": "code",
      "metadata": {
        "id": "Yhd-oh1BNhOn"
      },
      "source": [
        "print(round(12.3/4.5, 2))\n",
        "print(round(12.3/4.5))"
      ],
      "execution_count": null,
      "outputs": []
    },
    {
      "cell_type": "markdown",
      "metadata": {
        "id": "OAhppKNQNhOt"
      },
      "source": [
        "#### Constructors and Converters\n",
        " * ascii()\n",
        " * bin()\n",
        " * bool()\n",
        " * chr()\n",
        " * complex()\n",
        " * float()\n",
        " * hex()\n",
        " * int()\n",
        " * list()\n",
        " * oct()\n",
        " * ord()\n",
        " * set()\n",
        " * str()\n",
        " * tuple()"
      ]
    },
    {
      "cell_type": "markdown",
      "metadata": {
        "id": "YJ4KO74gNhOy"
      },
      "source": [
        "#### Functional, Higher Order\n",
        "* filter\n",
        "* map\n",
        "* zip"
      ]
    },
    {
      "cell_type": "code",
      "metadata": {
        "id": "ffQZb04vNhO1"
      },
      "source": [
        "f = [ 1,  1,  2,  3,  5,  8, 13, 21, 34, 55, 89]\n",
        "p = [ 2,  3,  5,  7, 11, 13, 17, 19, 23, 29, 31]"
      ],
      "execution_count": null,
      "outputs": []
    },
    {
      "cell_type": "code",
      "metadata": {
        "id": "LypLgvS2NhO7"
      },
      "source": [
        "def square(n):\n",
        "    return n * n\n",
        "def isEven(n):\n",
        "    return n % 2 == 0\n",
        "def isPowerOf2(n):\n",
        "    if n == 1:\n",
        "        return True\n",
        "    if n % 2 == 1:\n",
        "        return False\n",
        "    return isPowerOf2(n//2)"
      ],
      "execution_count": null,
      "outputs": []
    },
    {
      "cell_type": "code",
      "metadata": {
        "id": "M5L0KOu3NhPB"
      },
      "source": [
        "print(list(filter(isEven, f)))\n",
        "print(list(filter(isEven, p)))\n",
        "print(list(filter(isPowerOf2, f)))"
      ],
      "execution_count": null,
      "outputs": []
    },
    {
      "cell_type": "code",
      "metadata": {
        "id": "RCTLWreGNhPH"
      },
      "source": [
        "print(list(map(square,f)))\n",
        "print(list(map(square, filter(isEven, f))))\n"
      ],
      "execution_count": null,
      "outputs": []
    },
    {
      "cell_type": "code",
      "metadata": {
        "id": "OnyjYcN4NhPL"
      },
      "source": [
        "print(list(zip(f, p)))"
      ],
      "execution_count": null,
      "outputs": []
    },
    {
      "cell_type": "code",
      "metadata": {
        "id": "gMhT9zlhNhPO"
      },
      "source": [
        "grading = [\"Test\", \"Quiz\", \"Individual Lab\", \"Group Lab\", \"Hackathon\"]\n",
        "grades = [300, 60, 120, 60, 120]\n",
        "print(list(zip(grading, grades)))\n"
      ],
      "execution_count": null,
      "outputs": []
    }
  ]
}