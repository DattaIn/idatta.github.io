{
  "cells": [
    {
      "cell_type": "markdown",
      "metadata": {
        "colab_type": "text",
        "id": "view-in-github"
      },
      "source": [
        "<a href=\"https://colab.research.google.com/github/DattaIn/idatta.github.io/blob/master/CDS_B1_M0_NB04.ipynb\" target=\"_parent\"><img src=\"https://colab.research.google.com/assets/colab-badge.svg\" alt=\"Open In Colab\"/></a>"
      ]
    },
    {
      "cell_type": "markdown",
      "metadata": {
        "id": "WwFW4GWkBjgG"
      },
      "source": [
        "### Notebook 4: Project Euler Problem 4"
      ]
    },
    {
      "cell_type": "markdown",
      "metadata": {
        "id": "X3tvxvUlBjgR"
      },
      "source": [
        "## Problem Statement\n",
        "\n",
        "A palindromic number reads the same both ways. The largest palindrome made from the product of two 2-digit numbers is 9009 = 91 × 99.\n",
        "\n",
        "Find the largest palindrome made from the product of two 3-digit numbers."
      ]
    },
    {
      "cell_type": "code",
      "execution_count": null,
      "metadata": {
        "id": "Xg58V2OYBjgZ"
      },
      "outputs": [],
      "source": [
        "def reverse(n):\n",
        "    r = 0\n",
        "    while n > 0:\n",
        "        r = r * 10 + n % 10\n",
        "        n //= 10\n",
        "    return r"
      ]
    },
    {
      "cell_type": "code",
      "execution_count": null,
      "metadata": {
        "id": "laGI68qIBjga"
      },
      "outputs": [],
      "source": [
        "reverse(1876)"
      ]
    },
    {
      "cell_type": "code",
      "execution_count": null,
      "metadata": {
        "id": "9u_pyVO4Bjgd"
      },
      "outputs": [],
      "source": [
        "def isPalindrome(n):\n",
        "    return n == reverse(n)"
      ]
    },
    {
      "cell_type": "code",
      "execution_count": null,
      "metadata": {
        "id": "D4EfnKckBjge"
      },
      "outputs": [],
      "source": [
        "isPalindrome(17), isPalindrome(121)"
      ]
    },
    {
      "cell_type": "code",
      "execution_count": null,
      "metadata": {
        "id": "W9hgFTF9Bjgf"
      },
      "outputs": [],
      "source": [
        "largest = 0\n",
        "for first in range(100, 1000):\n",
        "    for second in range(100, 1000):\n",
        "        prod = first * second\n",
        "        if largest < prod:\n",
        "            if isPalindrome(prod):\n",
        "                largest = prod\n",
        "print(largest)"
      ]
    },
    {
      "cell_type": "code",
      "execution_count": null,
      "metadata": {
        "id": "eVSTGMBLBjgh"
      },
      "outputs": [],
      "source": [
        "### Doing one optimization\n",
        "largest = 0\n",
        "for first in range(100, 1000):\n",
        "    for second in range(first, 1000):\n",
        "        prod = first * second\n",
        "        if largest < prod:\n",
        "            if isPalindrome(prod):\n",
        "                largest = prod\n",
        "print(largest)"
      ]
    }
  ],
  "metadata": {
    "colab": {
      "include_colab_link": true,
      "provenance": []
    },
    "kernelspec": {
      "display_name": "Python 3",
      "language": "python",
      "name": "python3"
    },
    "language_info": {
      "codemirror_mode": {
        "name": "ipython",
        "version": 3
      },
      "file_extension": ".py",
      "mimetype": "text/x-python",
      "name": "python",
      "nbconvert_exporter": "python",
      "pygments_lexer": "ipython3",
      "version": "3.5.2"
    }
  },
  "nbformat": 4,
  "nbformat_minor": 0
}
