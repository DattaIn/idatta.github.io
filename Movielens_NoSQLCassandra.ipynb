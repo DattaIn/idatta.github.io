{
  "nbformat": 4,
  "nbformat_minor": 5,
  "metadata": {
    "kernelspec": {
      "display_name": "Python 3",
      "language": "python",
      "name": "python3"
    },
    "language_info": {
      "codemirror_mode": {
        "name": "ipython",
        "version": 3
      },
      "file_extension": ".py",
      "mimetype": "text/x-python",
      "name": "python",
      "nbconvert_exporter": "python",
      "pygments_lexer": "ipython3",
      "version": "3.9.2"
    },
    "colab": {
      "provenance": [],
      "include_colab_link": true
    }
  },
  "cells": [
    {
      "cell_type": "markdown",
      "metadata": {
        "id": "view-in-github",
        "colab_type": "text"
      },
      "source": [
        "<a href=\"https://colab.research.google.com/github/DattaIn/idatta.github.io/blob/master/Movielens_NoSQLCassandra.ipynb\" target=\"_parent\"><img src=\"https://colab.research.google.com/assets/colab-badge.svg\" alt=\"Open In Colab\"/></a>"
      ]
    },
    {
      "cell_type": "markdown",
      "metadata": {
        "id": "UGX-JCC0Kfj_"
      },
      "source": [
        "# Advanced Certification Program in Computational Data Science\n",
        "## A program by IISc and TalentSprint\n",
        "### Mini-Project: Data querying and analysis using NoSQL Database"
      ],
      "id": "UGX-JCC0Kfj_"
    },
    {
      "cell_type": "markdown",
      "metadata": {
        "id": "nKwRLuRawuMm"
      },
      "source": [
        "## Problem Statement"
      ],
      "id": "nKwRLuRawuMm"
    },
    {
      "cell_type": "markdown",
      "metadata": {
        "id": "GcfsHAkQKicm"
      },
      "source": [
        "Using the Cassandra NoSQL database, explore the **Movielens** dataset and build a movie recommendation engine"
      ],
      "id": "GcfsHAkQKicm"
    },
    {
      "cell_type": "markdown",
      "metadata": {
        "id": "solid-northeast"
      },
      "source": [
        "## Learning Objectives"
      ],
      "id": "solid-northeast"
    },
    {
      "cell_type": "markdown",
      "metadata": {
        "id": "automated-grass"
      },
      "source": [
        "At the end of the mini-project, you will be able to :\n",
        "\n",
        "* understand the concepts of NoSQL platforms\n",
        "* implement the database connectivity using Cassandra\n",
        "* create and insert data to the database\n",
        "* perform querying, retrieving and analyzing the data from database"
      ],
      "id": "automated-grass"
    },
    {
      "cell_type": "markdown",
      "metadata": {
        "id": "danish-guard"
      },
      "source": [
        "### Dataset"
      ],
      "id": "danish-guard"
    },
    {
      "cell_type": "markdown",
      "metadata": {
        "id": "ei4RdaJXKrsQ"
      },
      "source": [
        "The dataset chosen for this mini-project is [Movielens Dataset](https://movielens.org/). The dataset describes movies and ratings from Movielens. It contains movies from year 1919 to 2000 of total 3883 movies. There are 6040 users who have rated one or more than one movie of total 1000209 ratings collected. Movielens is maintained by members of GroupLens Research at the University of Minnesota. There are 3 datasets given, and they are:\n",
        "\n",
        "1. `data_movie.csv` that contains movies information:\n",
        "\n",
        "* MovieId\n",
        "* Title\n",
        "* Genres\n",
        "\n",
        "2. `data_rating.csv` that contains ratings of movies by users:\n",
        "\n",
        "* UserId\n",
        "* MovieId\n",
        "* Rating\n",
        "\n",
        "3. `data_users.csv` that contains users information:\n",
        "\n",
        "* UserId\n",
        "* Age\n",
        "* Gender"
      ],
      "id": "ei4RdaJXKrsQ"
    },
    {
      "cell_type": "markdown",
      "metadata": {
        "id": "color-conference"
      },
      "source": [
        "## Information"
      ],
      "id": "color-conference"
    },
    {
      "cell_type": "markdown",
      "metadata": {
        "id": "included-advocate"
      },
      "source": [
        "#### NoSQL platforms\n",
        "\n",
        "A NoSQL database provides a mechanism for storage and retrieval of data that is modeled in a form other than the tabular relations used in relational databases.\n",
        "\n",
        "**Cassandra**\n",
        "\n",
        "Apache Cassandra is a free and open-source, distributed, wide-column store, NoSQL database management system designed to handle large amounts of data across many commodity servers, providing high availability with no single point of failure. It is a NOSQL database developed by Facebook. It is a great database that allows you to effectively run queries on large amount of structured and semi structured data.\n",
        "\n",
        "To know when you have to choose Cassandra as your database of choice, you need to have an understanding of CAP Theorem.\n",
        "\n",
        "CAP theorem states that it is impossible for a distributed system to satisfy all three of these guarantees together, you need to leave one out.\n",
        "\n",
        "- C is Consistency, means all nodes have the same data at the same time\n",
        "- P is partition tolerance, means that in case of failure the system continues to operate\n",
        "- A is availability , make sure every request receives a response\n",
        "\n",
        "![img](https://developer.ibm.com/developer/default/tutorials/ba-set-up-apache-cassandra-architecture/images/figure1.png)"
      ],
      "id": "included-advocate"
    },
    {
      "cell_type": "markdown",
      "metadata": {
        "id": "circular-ireland"
      },
      "source": [
        "### Components of Cassandra\n",
        "\n",
        "There are following components in the Cassandra\n",
        "\n",
        "![img](https://www.guru99.com/images/cassandra/021116_0524_CassandraAr1.png)\n",
        "\n",
        "**Node**\n",
        "Node is the place where data is stored. It is the basic component of Cassandra.\n",
        "\n",
        "**Data Center**\n",
        "A collection of nodes are called data center. Many nodes are categorized as a data center.\n",
        "\n",
        "**Cluster**\n",
        "The cluster is the collection of many data centers.\n",
        "\n",
        "**Commit Log**\n",
        "Every write operation is written to Commit Log. Commit log is used for crash recovery.\n",
        "\n",
        "**Mem-table**\n",
        "After data written in Commit log, data is written in Mem-table. Data is written in Mem-table temporarily.\n",
        "\n",
        "**SSTable**\n",
        "When Mem-table reaches a certain threshold, data is flushed to an SSTable disk file."
      ],
      "id": "circular-ireland"
    },
    {
      "cell_type": "markdown",
      "metadata": {
        "id": "emotional-michael"
      },
      "source": [
        "### Data Replication\n",
        "\n",
        "As hardware problem can occur or link can be down at any time during data process, a solution is required to provide a backup when the problem has occurred. So data is replicated for assuring no single point of failure.\n",
        "\n",
        "Cassandra places replicas of data on different nodes based on these two factors.\n",
        "- Where to place next replica is determined by the Replication Strategy.\n",
        "- While the total number of replicas placed on different nodes is determined by the Replication Factor.\n",
        "\n",
        "One Replication factor means that there is only a single copy of data while three replication factor means that there are three copies of the data on three different nodes."
      ],
      "id": "emotional-michael"
    },
    {
      "cell_type": "markdown",
      "metadata": {
        "id": "ndQNKsjS7c04"
      },
      "source": [
        "## Grading = 10 Points"
      ],
      "id": "ndQNKsjS7c04"
    },
    {
      "cell_type": "markdown",
      "metadata": {
        "id": "developed-value"
      },
      "source": [
        "**Install the cassandra-driver**"
      ],
      "id": "developed-value"
    },
    {
      "cell_type": "code",
      "metadata": {
        "id": "contrary-saturday",
        "colab": {
          "base_uri": "https://localhost:8080/"
        },
        "outputId": "1f70cbfd-830c-4e8a-9016-0a5ceb039fab"
      },
      "source": [
        "!pip install cassandra-driver"
      ],
      "id": "contrary-saturday",
      "execution_count": null,
      "outputs": [
        {
          "output_type": "stream",
          "text": [
            "Collecting cassandra-driver\n",
            "\u001b[?25l  Downloading https://files.pythonhosted.org/packages/5c/85/2b87a18870e6c457a762cea58920a42c5d357b3e9ef3a6f94b978429ec15/cassandra_driver-3.25.0-cp37-cp37m-manylinux1_x86_64.whl (3.8MB)\n",
            "\u001b[K     |████████████████████████████████| 3.8MB 6.1MB/s \n",
            "\u001b[?25hCollecting geomet<0.3,>=0.1\n",
            "  Downloading https://files.pythonhosted.org/packages/c9/81/156ca48f950f833ddc392f8e3677ca50a18cb9d5db38ccb4ecea55a9303f/geomet-0.2.1.post1-py3-none-any.whl\n",
            "Requirement already satisfied: six>=1.9 in /usr/local/lib/python3.7/dist-packages (from cassandra-driver) (1.15.0)\n",
            "Requirement already satisfied: click in /usr/local/lib/python3.7/dist-packages (from geomet<0.3,>=0.1->cassandra-driver) (7.1.2)\n",
            "Installing collected packages: geomet, cassandra-driver\n",
            "Successfully installed cassandra-driver-3.25.0 geomet-0.2.1.post1\n"
          ],
          "name": "stdout"
        }
      ]
    },
    {
      "cell_type": "markdown",
      "metadata": {
        "id": "recorded-feelings"
      },
      "source": [
        "#### Importing Necessary Packages"
      ],
      "id": "recorded-feelings"
    },
    {
      "cell_type": "code",
      "metadata": {
        "id": "million-maintenance"
      },
      "source": [
        "import pandas as pd\n",
        "import cassandra\n",
        "from cassandra.cluster import Cluster\n",
        "from cassandra.auth import PlainTextAuthProvider\n",
        "from matplotlib import pyplot as plt"
      ],
      "id": "million-maintenance",
      "execution_count": null,
      "outputs": []
    },
    {
      "cell_type": "code",
      "metadata": {
        "id": "further-cowboy",
        "colab": {
          "base_uri": "https://localhost:8080/"
        },
        "outputId": "31f388e5-8df2-48c0-edb6-52843e58ca4a"
      },
      "source": [
        "print(cassandra.__version__)"
      ],
      "id": "further-cowboy",
      "execution_count": null,
      "outputs": [
        {
          "output_type": "stream",
          "text": [
            "3.25.0\n"
          ],
          "name": "stdout"
        }
      ]
    },
    {
      "cell_type": "markdown",
      "metadata": {
        "id": "governmental-front"
      },
      "source": [
        "### Database connection (2 points)\n",
        "\n",
        "**Astra Datastax login:** Login to [Datastax](https://www.datastax.com/) and create a database\n",
        "\n",
        "For detailed instructions of account creation, please refer this [document](https://cdn.iisc.talentsprint.com/CDS/MiniProjects/DataStax_Connect.pdf)\n",
        "\n",
        "**Connect the database and create keyspace:**\n",
        "\n",
        "* Download Secure Connect Bundle zip file from Datastax [connect](https://docs.datastax.com/en/astra/docs/obtaining-database-credentials.html) section. Follow the instructions on the page\n",
        "* Upload the `Secure-connect-XXXX.zip` file, which is downloaded from datastax.\n",
        "* Generate the token and save the credentials from settings section.\n",
        "    - Hint: Select role as `admin-user` and generate token\n",
        "* Using the credentials generated in settings, specify the `client Id` and `Client Secret` to the variables below."
      ],
      "id": "governmental-front"
    },
    {
      "cell_type": "code",
      "metadata": {
        "id": "accompanied-husband",
        "colab": {
          "resources": {
            "http://localhost:8080/nbextensions/google.colab/files.js": {
              "data": "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",
              "ok": true,
              "headers": [
                [
                  "content-type",
                  "application/javascript"
                ]
              ],
              "status": 200,
              "status_text": ""
            }
          },
          "base_uri": "https://localhost:8080/",
          "height": 110
        },
        "outputId": "ca424994-a7be-4afa-a182-31b12884c3ad"
      },
      "source": [
        "from google.colab import files\n",
        "files.upload()"
      ],
      "id": "accompanied-husband",
      "execution_count": null,
      "outputs": [
        {
          "output_type": "display_data",
          "data": {
            "text/html": [
              "\n",
              "     <input type=\"file\" id=\"files-4c52822a-2e4b-485d-9069-a29d586daf3e\" name=\"files[]\" multiple disabled\n",
              "        style=\"border:none\" />\n",
              "     <output id=\"result-4c52822a-2e4b-485d-9069-a29d586daf3e\">\n",
              "      Upload widget is only available when the cell has been executed in the\n",
              "      current browser session. Please rerun this cell to enable.\n",
              "      </output>\n",
              "      <script src=\"/nbextensions/google.colab/files.js\"></script> "
            ],
            "text/plain": [
              "<IPython.core.display.HTML object>"
            ]
          },
          "metadata": {
            "tags": []
          }
        },
        {
          "output_type": "stream",
          "text": [
            "Saving secure-connect-cds.zip to secure-connect-cds.zip\n"
          ],
          "name": "stdout"
        },
        {
          "output_type": "execute_result",
          "data": {
            "text/plain": [
              "{'secure-connect-cds.zip': b'PK\\x03\\x04\\x14\\x00\\x08\\x00\\x08\\x00dp\\x86R\\x00\\x00\\x00\\x00\\x00\\x00\\x00\\x00\\x00\\x00\\x00\\x00\\x06\\x00\\t\\x00ca.crtUT\\x05\\x00\\x01\\x1cjl`d\\x94\\xcd\\x92\\xba8\\x14\\xc5\\xf7<\\xc5\\xec\\xad)\\x01?\\x90\\xc5\\x7fq\\x03!\\x80\\x06\\r\\xf2\\x15w\\x82\\x1a\\xc4\\x06\\x15i\\x02>\\xfdT\\xdb\\x9b\\xa9\\x99,O\\xa5~\\xf7\\x9c\\xba\\xb7\\xce\\xdf?\\x0fa\\xe2\\x05\\x7fY8\\x8c<\\xc7\\xb3 \\xc2\\x1fU\\xa1\\x9egw\\xb6e\\xc1c\\x14 =\\x04\\xc2\\xb3P\\x13K\\x9bq\\x7f}?xe_\\x04\\xc0\\xf0\\x061\\x90\\xe77\\xdeP\\xb8\\x11\\xd0b\\x8cJj%\\t\\x1d\\x14\\xeb\\r>\\x12A\\x82@Dp\\x0b\\x10\\r\\x99\\xc4\\x82\\xdb\\tc.\\x96]\\xc4\\xd3\\x85\\xca\\xf7\\xc8\\xce\\x893\\xf2\\x08\\x87\\x14V\\x1f\\x80UR/$\\x8e\\xaa\\xf0$Py&\\x06\\xbb\\x02\\xfa\\x0bzE(\\x0e^\\xf9,\\xb9\\xd1=\\x97>|`6\\x1e\\xb4\\x8a\\xef\\x177~]\\x94\\xc5,\\x1c\\xf9^\\x93Em\\xde\\x94M\\x1d\\x96\\'\\xe2\\xbcO\\xc4\\x99o\\xea\\xa0\\xcf#8;R\\x1di\\x04\\x03\\xad`\\xa46\\xd6\\xa9\\xed\\x1f\\x1d\\xa9\\xbe\\xff\\xabQ\\xf7\\xf5\\xef\\x08<\\x82\\xaf$\\xa2\\xec%-\\xf6\\x99\\xeaa\\xe9\\xdb,\\xc21E\\xdeo\\xee\\x81nb\\xdd\\xf9>\\x11,\\x98>\\x94E\\x8d\\x07\\x05G\\xb0\\xfb\\x05\\xdc#\\x0b\\x7f\\xdcD?n(\\x9bK\\xfb\\xd7\\xfe\\x06\\xcb\\xc4\\xce\\x89\\xa9\\x1dl\\\\S\\x8b}`0\\xd0\\x13\\xd7\\xf1\\xb7r \\xde7\\xcf\\x02\\xb5\\xa8qW\\xb8~\\x7f\\xb0\\x167\\x9e\\x85?9\\xcb\\xb3\\xb5\\xa8r]\\x95B\\xe0+\\x05\\x95X\\xfb\\'\\xd9{\\xf9\\xccf\\x18\\x01\\x8b\\x01\\xe6\\x1eRl\\t?\\x1f\\xd6p\\xf7\\x100{\\xbdm\\x1e\\xb2\\xa0\\x86\\x0b\\xc7t\\xdb7\\x17t+0\\xdf\\x18R\\xa2\\xee\\xd1\\x9d\\x83b~,2\\xaa\\xd5Q{\\x17\\xfa\\xca\\\\\\x0fBy\\xc5\\x0c\\x8b\\xd36\\xd2\\xf1%\\xbc\\xeeg\\xcf\\xb2\\xdd\\xe5\\x87\\xc6\\x98\\x9c3\\x1e\\x81\\xd1Df\\x9c\\xcd\\x86\\xa6\\xd9\\xc9\\xab\\x88\\xa0\\xc6\\xec\\xc4\\xfa\\xcb\\x14\\xb2\\xa3\\xd1NH\\xf9@w\\xe5y\\x9fZ;\\xd5\\xcf\\xf0\\xa9k;X\\xad\\x13\\xfb\\x99\\x92A4\\xcd#\\n\\xd2\\xdc\\xa9\\x11\\xae\\xac\\x9a\\xe8\\xa69\\xcd\\x1d\\x91\\x92Z\\xf4\\xb0\\xa9J\\x99\\xba\\x10\\x8f\\xd1\\xec\\xe5*e\\xa8\\xa9\\x93\\xb8\\xed8YZ\\xa0\\xc2[[\\xb5r2\\xaa\\xdd\\xa5\\xf0J\\xb2v\\xfbj\\xdb\\x15\\xddE4\\x95\\xfdX\\\\\\xae\\xdf\\xee\\xb2\\xf7\\xf1\\xd9}m\\xd7\\xab^l\\xfd\\xf5R\\x19P\\x94\\x1f\\xd3\\xea\\x02\\xbb\\xa7\\x07\\xed\\xc3J\\x9do\\x81\\xdb\\xf8\\x1d55\\xaf\\r\\xa3\\x0eg\\xb4\\xaa.;\\x87Ndk\\xd1G\\xb6\\xdf\\x06Mm\\xe8z\\xff\\xb0\\xc6\\xea\\xad\\xe5\\x8a4\\xf3\\xe4\\xe4q\\x95\\xe0\\xae?\\xf9\\xef\\xb5\\xcb\\x19\\x9f\\xc2\\xe4\\xd5\\x05IM\\x0f\\x1a\\xd5\\x82w\\x08\\x82\"\\x00R\\xb1\\n\\x01\\x85\\xf9\\xcf\\x1aO\\xb6\\xc4h*\\x19V@zVi\\xc3\\xe9\\xe7\\x16\\xdc}\\x8c\\x9d\\nb$D\\x8b\\x04v\\x10+l\\x10\\xdc[K\\x8e\\x10\\x8b]\\x90X\\xda\\x92\\xdbI\\xa8F\\xc0\\xdc)\\x82X*\\xf0CzC\\x80\\xc4\\xedY\\xde\\xae\\xc4\\x94*\\x02\\xf6r\\x00\\xb6\\x160\\x0c\\x89/\\x97\\xa7$\\xf2c\\x97,\\xc74>\\xecdz\\xbaizx\\xfcv\\x06\\xd7\\x9cL\\x94\\x18i\\xcbK\\xaf\\xcaM0\\x1a+\\x14\\xf0\"\\x99&y\\xf0\\x9c\\xb2r\\xac\\xdff2=\\xeciW\\xb7\\xbe\\xd4\\xa7_\\xc9\\xfcjt\"\\xa1\\x89s;\\x06;|v:w\\xbbQ\\xd4\"\\xf5\\xebd9~;_iJ\\xaa\\xe3avw-\\xd8\\x98 \\xc5|X\\xa6\\xac\\xee\\xe8\\xbd=\\x9f\\x8aG\\xb8\\x87-i\\xcc2\\x9bx\\xf4\\xdc\\x84\\xce|\\x8b\\xbd\\xd5W\\xa7\\x10\\xcdx\\'\\xe4H\\xa3\\xf2`L\\xb7\\xee\\xdb\\xf1z\\x91-\\xc6\\xe6\\xf9e\\xbeB\\x94\\x11\\x15\\xaa\\xe0\\x85\\x88\\xce\\xae\\xbb\\x89\\x9a]\\x8f&\"}_\\xdd\\x9ep\\x19\\xe4c>\\xb7\\x94\\xf4X$\\xaf<O\\x9d\\xb6\\x98\\xb4g^o/\\xf5}\\\\\\xe5\\x9a\\xf3UOE\\x96\\xect;\\xaf(\\x97n\\xb6\\x08\\xd7\\xfd\\xae\\xd3\\xf7\\xcc\\xd8\\xe8\\xd7L\\x1c\\x8f\\xdaq>\\x11\\xa6r\\xf0\\x87i<\\x0b\\x1dw}vr\\xf9\\x087\\x8ek\\xa83\\x07\\xb4TW\\xb5\\x99I\\xafu\\xbb\\xbf\\\\\\x1b\\xf7\\xca\\xf6\\xe3$\\xc5\\xf6\\xcb\\xd8\\xcd5\\xf9\\xe7\\x8f\\xf2iD\\x1c\\xd8\\xffk\\xc9\\x7f\\x02\\x00\\x00\\xff\\xffPK\\x07\\x08\\xd2\\x87\\x16\\xe6\\xe8\\x03\\x00\\x00A\\x05\\x00\\x00PK\\x03\\x04\\x14\\x00\\x08\\x00\\x08\\x00dp\\x86R\\x00\\x00\\x00\\x00\\x00\\x00\\x00\\x00\\x00\\x00\\x00\\x00\\x03\\x00\\t\\x00keyUT\\x05\\x00\\x01\\x1cjl`l\\xd5\\xb7\\x12\\xab\\xdc\\x15\\x86\\xe1\\x9e\\xab8=\\xe3!\\x88X\\xb8 \\'\\x91\\xc5&t\\x04\\x01\\x9b \\x90\\xc8\\\\\\xbd\\xc7\\xc7.\\xff\\xd5\\xae\\xe6)\\xbe\\x99\\xf7_\\xff=Q\\xd1\\x0c\\xe7O\\x10\\n\\x7f\\xbc\\xc0\\x00\\xc2K\\xf9c)\\xe9\\xdf\\x0fb\\x1b\\x862\\xfb\\x86(\\x08\\x96$\\xf8\\x8a\\xb0\\x9f\\x06\\xba?\\xdf\\xba\\xbfH\\xbbLj\\xa1\\xe6vs\\xfdh;tu(\\xf4\\xf2\\x95K\\xc2\\x07\\x18\\xc5\\x86\\xf6-\\t\\xae\\x1c\\x0cD\\x93\\xf0\\x8a1`|\\xc3o\\x88]B\\xb4\\xf9\\xee/\\x99\\xee\\x92M\\x85\\xa7k7\\'p&\\xf1\\x9c\\xcc\\xfa\\xf9\\xd8&\\x8b\\xef\\x97W\\x11\\xf27\\xc3\\xd3\\x00\\x03\\xbe3\\xa6%\\xe2\\xdc`=)\\x94\\x91\\xbc\\xd8\\xaal\\x14\\xf0\\xe0\\x99\\xa7\\xd7|\\xb9\\x89c\\xafD\\x94*\\x0f\\x14\\xdb9\\x81\\xe9B4\\xe6z!\\x1c\\xea\\xab}\\xa0\\xd6\\xf8\\xa1\\xe2\\xd9\\xea\\xed\\x0e)\\xf2\\x062up\\xaa\\x02<g\\xcd\\xfc\\xd0\\'\\xb4\\xec\\xd7h\\xd0c-O\\x15K\\xd5\\x19\\xb5\\xf6\\x17AA\\xbd\\xe8^\\x1bl\\xca\"\\xb9\\x0eun\\'\\xf2Qx\\xd4\\'F(\\x06\\x87lK\\xe5\\xf9\\xf3M\\xbeqU\\xc2\\xbbz\\xdbV|\\xbf\\xcaPs\\xfbo\\xa2t\\xb6\\xde~\\x7fj\\xfe\\x99\\x9c<c\\xd2\\xa7q\\xd7\\xf7\\x06\\xd5\\xcd(3\\xa3\\x14?H\\x18\\xf6*|\\xb9\\xfa\\x85\\xd9@\\'\\xd8\\x85w<j\\xee\\xd5\\xb8s\\x16M\\x9a\\xfc\\xb1]N\\x00\\x0eC\\x16|A\\x14&C\\x14\\x14It\\x89\\xa2\\xf9\\xfe\\x82\\xac\\x9cD\\x11\\xc1\\t\\x12{\\xf3\\xb7H\\x9e\\x05\\xbd\\xb3Q\\x1b-\\x181T\\xa8\\xc4\\xae2\\xb5\\xaa-\\xefjL&Z\\x1dp\\xb1\\x83\\xd3\\xa2\\xf42\\xe2;\\x1d\\xa2~\\x08\\x8f\\xcbS\\x7f?\\x19Y\\x8e\\xdd\\x8b\\xb2\\xa3^\\xc1\\xadf\\x00;|m|d\\x82r%x\\x9d\\x0c\\xc6#e\\x82m\\x8c\\xbdy\\x0fz\\xfd\\x92N|\\x8c\\xe9\\xfb\\xf3{^\\xf5\\xbe\\x1aG\\xc2\\xdc\\r\\x82\\xeart\\xee\\xb3\\xe1uG\\xf5\\xa8~\\x06\\xfe$X,I\\x07\\x01\\xc4\\x1a=\\x96\\xde\\xb6\\t\\xe3\\x1c\\xadcJ-3`\\xb4\\x9f]\\xbf+\\x93\\x1e\\x7fS\\xf1L!z\\x16H\\xe5\\x1af\\x10c\\xe0\\xa6\\xcb=a\\xbc\\x8b;\\x02\\xc7\\xc9\\xe7\\xef\\xdd\\x8e\\xfd\\xbe\\xcb+\\x08\\xea\\x8d\"\\xce\\t\\xa7\\xf8\\xb8y\\xf1\\xf1\\xdb\\x01\\xbe\\xfd\\xc0N\\xec\\xc7\\r\\xab\\xcb\\xaa\\x88\\xcd\\x938\\xc0\\x87\\x95\\xaf\\x94_\\x19\\xcdR\\xac\\xbd\\xe9\\xa0\\x18<\\x86\\xc1\\xe5-\\xc9d\\xb6-By6\\t\\x18%kN\\xc7\\x91\\x18\\xdb\\x13\\xb7Wm\\x03Z\\xdc4v\\x80$\\x95\\x97\\x0fOEjRE\\xc0&\\xfc\\xc7/Y\\x97x\\xfc)\\xe7\\x07\\x1c&\\xf1b\\x08\\xcaNm\\xadV\\xd8\\x97\\xd3\\xc0c\\tv\\x98/A\\x10\\t\\x86\\xf9\"#\\xaeCb\\x7foR\\x0f\\xaa\\x0f\\x06\\x8b\\x880D)F7\\x85\\xea\\x94\\xb2\\x9d\\xbbx\\x8b\\xf8rw\\xbe\\xbd|\\xac\\xbc\\xa4\\x0c\\x13W\\xedq~?/\\xf7\\x9b\\xe9\\xd9[$00\\xd8H\\xe2T83\\x03R}\\xaa\\xdeU?k1`\\x92^\\xc9 \\xbf+\\xd9\\x83c9\\xa1:\\x1e\\x82\\x92\\xb4b\\x7fG\\xfb\\x05\\x89\\x1f\\xa7]\\xb7\\xc8\\xfd\\x15\\x1f\\x12L\\x91\\xbe\\x8cX\\x81\\x16\\x01UTf`\\x03\\xf2\\xc3\\x9e\"\\xffi\\xe65\\x9b\\x806\\x8dv\\xbd\\x1f\\x9fn]\\xf3\\xee\\xfb\\x18\\x81~m\\x06Q\\t\\xbf\\xaaf\\x9e\\xde\\x13\\xa0\\xb4\\xea\"+1\\xff\\xae\\xd9\\xd9\\xdfri\\n4\\xdc\\xe3\\xb2N\\x80\\x19]i\\x19\\xbd\\xe2\\x14\\xf8\\x0e\\xa7\\x1f\\xb3\\x0cJ\\xf3\\x03\\xa7\\xa7\\xf3\\xda\\xf8B\\x80]8rXA\\x08\\r\\x9d~\\x91\\x85C\\xb9U\\x1d\\x05\\xaa\\xe4\\xfa\\xba9T+\\x81\\x83\\xbb\\x11\\xba\\x9e\\x17t\\xee\\xdfC\\x13\\xa5\\xf2\\xcd\\xf5\\x7f\\xc9\\xa8%\\x87\\xac<C\\xed|\\x13\\xa1\\xa7\\xe2\\xf4\\xe5&\\x88\\xc6$\\n\\x19\\xdd\\xaa\\x8e\\xd2\\x95\\xa7\\xf9\\x02C*;\\xd8Y\\x0f\\xcbx7Y\\xcb,\\xa5\\x02h9\\x11\\xe8r\\xab/\\x1f\\xeb2\\xf3\\x86$\\xdfK\\xcd\\x99Fa\\xde\\xe3\\x0f\\x89\\x9d\\xf5f\\xb0~K-)s\\x1bo\\x08\\x9f\\x9f\\xba\\xc1\\xc9\\xb7s\\xd7R{1N\\xcf*\\xdb\\x10\\x9bo\\x96\\xe0\\x0e\\x92\\xf3\\xcc<\\xff\\xde\\'\\xbeQsk65\\x996HFI\\x1c\\x147\\x8a\\xd9\\xe7)\\xedh\\xa0\\xf2\\xa6\\xf3\\x88\\xffG^\\xe8\\x91\\xe7D\\xc5\\xe1\\xe3N\\xf1t-S\\x18?\\xd2\\x92\\x13\\xf4\\x0b%`\\xb5&\\xd3B\\xad#\\xfb-\\xc2\\xc5\\xc6\\xa7\\xcdf\\xfa\\xf3\\xce\\xe9\\x12\\xb5~1!\\xfb\\xaf\\x94\\xb9>\\xf9\\x1dA\\x9e\\x13k\\xf3m_p _\\xe0`4c\\xd2\\x8c\\xd54\\x84%&\\x9f\\xb0\\x96\\x10[^\\xdeU}\\x8a\\xd3\\xba\\xe9\\xa6\\x82\\xcd\\x82MV\\x9f\\x8c\\xbd]\\xfa\\x01\\x12\\xab\\xf6\\x83b\\x8f=h\\xb5\\xdf\\xf8\\xa4\\xc2\\x90\\x1f\\x19vr\\xda\\xd0\\xaf\\x8c\\xc6+\\xebx\\xd0\\x904\\\\\\x01\\xfc\\xff\\x94\\'p|\\x0f7S\\xbd\\xbd\\x7f\\x1b\\x10$N\\xfad5\\xbd7Y5\\xc0n\\xbfE\\xd9&\\xd7\\x8a\\x06\\xbb\\x8ca\\x0e;-\\xff\\x8d\\x9c\\xe9!\\xa5\\xe6\\xb6q\\x8b\\xea\\xd0\\xf8\\xaal\\x9b\\xc4\\xb5\\xdax_\\xed\\xd52\\x8d\\x95\\x04\\xd1\\xc8Z\\xd65\\x0f\\xb1\\xe9\\xb7(\\xf3\\t\\xb40\\xf5cz\\x981\\xd7\\x03j\\x95\\xbc8\\x97D\\xa6\\xcek\\x9c\\xe5\\xe5\\x12\\xeb\\xab(O\\x1ev\\xfbZ\\xae)\\xd6\\xd3F\\x9d\\xd0\\xd3\\x9b\\xca#i\\x9d\\x13\\x9c\\xec\\x98\\x02\\xa7Ci\\xd6\\x1e;\\xfc\\x12\\xc6\\xbf\\x91\\xbfYQ\\x1c\\xf9\\x9fs\\xf3\\x9f\\x00\\x00\\x00\\xff\\xffPK\\x07\\x08\\xb5\\x01\\x03\\x9a\\n\\x05\\x00\\x00\\x8f\\x06\\x00\\x00PK\\x03\\x04\\x14\\x00\\x08\\x00\\x08\\x00dp\\x86R\\x00\\x00\\x00\\x00\\x00\\x00\\x00\\x00\\x00\\x00\\x00\\x00\\x04\\x00\\t\\x00certUT\\x05\\x00\\x01\\x1cjl`d\\x94\\xcb\\x92\\xb2:\\x1b\\x85\\xe7\\\\\\xc5?\\xb7\\xfejh\\xc1\\xc3\\xe0\\x1b\\xe4\\x04\\x06Il\\xce\\x86\\x99\"\\x12@E\\x1b1\\xc0\\xd5\\xef\\xb2{\\xb2k\\x7f\\x19\\xbd\\xb5*\\xf5$o\\xadU\\xeb\\xff\\xef\\x03\\x89C\\xf9\\xff\\x10\\t\"jS\\x04\"\\xf2\\xa3j\\x8cRla\\x84@7\\x96@Q\\x08J\\x8a\\xe0\\xadU\\xd8\\x17\\xee\\xb6\\xcd\\xa8|\\xe5\\x1c\\xf8\\xc4\\x83>P\\xc5D<\\x06\\x1a\\x07\\x181\\x81\\x92\\xa1$a\\x83\\x86&\\xe0\\xc2\\x92\\'\\x10\\x94\\x11h8d\\x81\\xafH)p\\xe2\\xfb\\x1b\\xa2\\x9e\\x91H-]\\x84\\x10\\x1f\\x1d{\\x14\\x11\\t\\x18X\\xfd\\x00\\x90d4pl]\\x13\\t\\xd7\\xc5\\xbe\\x1cp\\r\\xd8/\\xa8\\x8b`\\xcc\\xbb\\xe3<iX(\\x94\\x0b~`\\x98\\x0cF-B\\xab\\x11\\x95%\\xf3y0\\x8a\\xd0P\\xf9u\\xddh\\xde5\\x90\\'\\xc7\\x9eN\\x8emzW\\xfe:F\\xa0\\xb0\\x95>\\xb2\\x08\\xe8\\x0c\\x8b\\x81c0p,\\x0f\\xb6\\xd2\\xa7\\xffj\\x8c:\\xdf\\x1a\\xf3;\\x85\\xfc\\x9fW\\x1c\\xa2\\xdc$\\xfe\\xd7\\x9e\\x082\\xe4\\xebd\\xb01\\x08\\x7f\\x7f\\x97G\\xc8\\xe0\\xf2x\\x0b$%\\xbc\\x13{Wj, \\n\\xab\\x1f\\xc0\\x96(I\\xc4>\\x90\\xf1<\\x90\\x05&;\\x06\\xd4/h`\\xb6\\xff9\\xbcN\\xa9?$5\\x8c\\x7fa,\\x8aR\\xdei\\x874\\xe9O\\xc8\\xbad5\\x1b\\x99C\\rV\\x19\\x17\\x9ef\\xb5\\x17\\xf9\\xa6\\x88\\xc0SDL\\xb1\\xd1\\x90\\xec36w\\x8e\\xdbp|\\x92\\xacn\\x9eb\\xcf\\xef\"4&\\xed8O\\xf4\\x03&}\\xe6\\xd0^\\xec\\xb9\\x9e_\\xdf\\xb3\\xad\\xbfg\\xb1/{\\xf1\\xb9~2J!\\xad\\x01\\x87e\\xf3\\x90M\\xe5\\xac\\x95\\x0e\\x81Ol\\x00vH\\x03\\xfe\\n\\xbc/\\xa0r\\x8b\\x80O\\xc0k\\xa0\\xb3\\x97Wl\\xfc\\x0e\\xbd\\xf0\\xa7\\x13:\\xbb\\xfa~\\x9e\\xcbz\\xf6\\xe4\\xe6l\\xf4\\xc9\\x88\\xf4K\\x15\\xa7\\xd4y\\xe4\\xc6*\\xbfP\\xcdA\\xfaiA\\xabt\\xaa\\x1e\\xe1\\xc7\\x08\\xe2\\xde\\xdf}\\xef\\xdb)_\\n\\xe0\\xedX9$\\xbc\\x85C\\xeb\\x9e\\xbdy\\xdfn\\xd7M\\x17\\x1d\\xc3\\xf5\\xb4X[\\xc9G\\xe2\\xf3\\xab\\xc85>%\\xcf\\xc1\\x9c-\\xd0W\\xba=\\xb1Y\\xb2N\\xbc\\x83\\x18\\xef\\xe3n\\xcf\\xd9\\xd3\\x88\\x05\\x99\\xcf>^+\\xb0\\xa8\\xc3Y\\xbaj@x9\\x8fr>\\xdb^ofz\\xdf6\\xac\\xd6\\x8e\\x87\\xb2Z\\x9c\\x83\\xc1\\x06\\xd5pw\\xdc\\x9b5T[\\x16]\\xa9u=\\xe3\\xf6\\xb44\\xcf\\x99\\xf9lF\\xc3\\xac6\\xc7:\\xea\\xab2?\\xeeGe\\xdfe\\xfb9?~\\x99\\xb7T3\\x17z\\xb5\\x94\\xe6\\xe1\\xe0\\x15\\x9f\\x85n#\\xbd>\\xf7\\xfdS\\x7f\\x8dy\\xe8\\xec\\x9a\\xc7\\x9e\\xd4l#\\x1f\\xdf\\xf6\\xe1\\xd6\\xf2C\\xb6\\x10\\x1e\\x9d\\xceS_\\xd9=\\xcd3\\x9a\\xc3\\x9b\\x16\\x86\\x8d]E\\xbb\\xcd\\xf8\\xc1\\x92\\x8d\\xb1\\xec\\xd6\\xfc\\xcb\\xbc7vZ\\xf3\\xceA\\xad\\x7f\\x95\\xdd\\x90$\\x8ab\\xe0\\x03\\xd8\\xeaD}M`\\xf7\\xce\\xc1\\xc6_Ap^\\x11\\r\\x02\\x86\\xa0\\t\\xd4\\xe6\\x9d\\xc6@\\xbf@(\\x94\\r\\x04\\xdd*\\x01\\xa1\\x1fo\\x80\\xa2\\x0eB\\x9d\\x03\\xfc\\xd8\\x86\\x8aA\\x06\\xccw\\xb8N\\xb8\\xf47\\x10\\xc4P\\x03%#\\xf0/\\x8f\\xbb\\x1f\\x8f\\xdf\\xb6\\xee\\xf4S\\xbbUlS\\xf0>\\nu{\\xb7H\\xcd\\x0cW\\xfa\\xa3O\\xeb\\x83\\xb5I\\xef\\xdaz=\\'7\\xbb0\\' \\x02\\x1e-\\xf6M\\x82V\\xfdt\\xfbxl\\xf5W\\x95\\xae\\xf2\\xab<\\x90\\xb2\\x01z\\xda(\\x8fl0k\\xbcQ\\xbe\\xd6_\\xe627\\x96\\xfb\"V\\xdai\\x98\\xad\\x9bX\\x91\\xef\\xd6\\xb5>\\xa45\\xbf\\xf4\\xf3\\xa2\\xce\\xac$\\xc1`\\xd8\\xf4__\\x1f\\xdd\\xe3\\x94\\xc5\\xe9\\x02fOw\\xe9\\x11c^\\xcf\\xfa\\xd7\\x9a\\xc9{\\x1d\\xb9\\xe3>\\xf3\\xb4pe\\xb7\\xdf\\xc5\\xdd\\n\\\\h\\xb4\\x16ro\\xe3X]\\x97\\xa8f\\'O\\xdfz\\xbd_\\xfa\\xdb\\xd3+]\\x1a\\xb3n&\\x97\\xe4f/\\x9e\\x89\\x8b?CW\\xa6\\xebu)E\\xa1AK=\\x12\\x1c\\x18\\xf7\\xdb\\x94\\x85\\x19\\xbaL\\x18Jz5\\x9dn\\xd3\\xa61F]A\\xd3\\xdb\\x84\\x13\\xbb>\\xd73\\xbe\\x9c.\\x8bst\\x00\\xe2\\xfa\\xb2\\xcfp\\x9b\\x1e\\xe7X\\xcb{\\xdc^\\xf6Y\\xf7\\x0c\\x85\\xee\\xcc\\xd2G\\x8d\\x18\\ny{\\x18]O\\x15\\xf6\\xfc\\xda>\\xb2\\xae\\xf0]\\xf1\\xb2\\xccot\\xa6\\xd2G}\\xed\\xa8?\\x7f\\xb4\\x9fJ%\\x1c\\xff]\\xb3\\xff\\x04\\x00\\x00\\xff\\xffPK\\x07\\x08\\xfc\\xd1f\\xf4\\x14\\x04\\x00\\x00\\x83\\x05\\x00\\x00PK\\x03\\x04\\x14\\x00\\x08\\x00\\x08\\x00dp\\x86R\\x00\\x00\\x00\\x00\\x00\\x00\\x00\\x00\\x00\\x00\\x00\\x00\\x0c\\x00\\t\\x00identity.jksUT\\x05\\x00\\x01\\x1cjl`d\\x94yPS\\xe7\\xde\\xc7\\x03\\x02j\\x14\\x15\\xf7\\xba\\xd7\\xd2\\xa2\\xa6\\xca\\tY T\\xd4\\xb3%9I\\xce\\t\\'\\xdb\\xc9\\x89\\x1b!\\xdb\\xc9\\x9e\\x90\\xe5$)V\\xeb\\x86\\xa8\\xbc\\xd6\\xben\\xa8T+\\xa2T\\xfbj\\xa9\\xd5\\xd6\\xad\\xbe\\xa2\\xadR/\\xa2\\xb7\\xe2\\xf5\\xba{\\xb5\\xe2\\x82\\x8aU\\xc1\\xaa\\xd5;\\xe0?wn\\x9f\\x99g\\xe67\\xdfy\\xe6\\xf3<\\xcf|\\xbf\\xf3}\\xfd\\xe0\\xf5\\x03\\x0e\\x87\\x93\\xcc\\xe1p\\x92\\xbav\\x9a\\xc5\\xe3\\xb4\\xf9\\xc2\\x1cNRl\\xfb\\'\\x9f\\xfc/\\x87\\x93\\x9a\\x04\\xccO\\xf9\\x13\\xe8\\x93\\xc6\\xe5\\xa5%\\xa5$MH\\xceHJJ\\xe5\\xa4\\xccO\\xb9\\xdbg\\x7f\\xc3\\x97\\x07\\x82\\x86\\xc4\\xcf\\x07\\xeb\\x03\\x91n\\xbf\\xb5\\x9e:\\xfb2g\\xd0\\xf6\\xa1\\xd1Y=\\xb6\\x9f\\xf9\\xad\\xf4\\xfb{#\\xb7L{\\xdc\\xf4G\\x831\\xd9\\\\\\xb4\\xf1iz2\\xbdO8\\xfb[z\\xa0\\xb8\\xc7\\x16\\xacG\\xa4|\\xd3\\xd3\\xb2\\xfe\\x8b\\x94\\xaf\\xca\\xdclid\\xfa\\xce\\x82\\xdd_\\xad*_\\xb9o\\xda\\x8c\\xcc\\x81\\x87\\xe7\\'\\x9deNm\\x02d\\xed\\xc7\\xbe]M\\xb5\\x94\\xc3\\xcf\\x16\\xff\\r\\xbc\\xf8<\\xb6\\xfe@\\xba\\x81s\\xebN\\n<8t\\xfd\\xe3\\x99S\\xc2\\xc3\\xe4\\xbd3\\'\\xae<\\xbd\\xa4\\xdf\\xd2w/\\xec\\xb2Tl\\x98\\x16\\xe97\\x80\\xf8\\x1f\\xad\\xbb\\xe3\\xe9\\xa3u\\xffP\\xbd\\x9c\\xe5S=\\xceZ\\xbe\\xb3\\xadR2nY\\xf6\\x89\\xd5K\\xf1\\xa4\\x9d\\xdd\\x97N\\xe9\\xe5\\xdf\\xb4\\x9fs0\\xeb\\xd2\\xb5\\x944A\\xab\\xbdt\\xb7$\\x1f\\x1f\\xfe\\xecrn\\xc3\\xfb\\xef\\xad\\x19\\x90\\xb6\\xc8;\\xf7\\xd3\\x89\\xa12\\xd1\\xe89U\\xc2\\x11\\x1e\\xdd\\xc7\\xfd\\x1f\\xb65\\xb5\\x8c2~tmLa\\xfe\\x8f\\x87zv\\xcc\\xbb9f\\xfe\\n\\xc3\\xf3\\xfb\\xcb\\xd8\\xff\\xdfq\\xeb\\xc8;\\xb9\\xe3~\\xcff\\xeb\\x15\\x1f<\\\\xp\\xfa\\x95\\x9c\\x17\\x8b\\xb7\\xed\\x90Bg\\xe5\"\\xf3\\xb7\\x19u\\xe7Jj~l<u\\xb2\\x06\\xbc\\xffy45cn\\x12\\xd5\\xfb\\xf4\\x0f[\\xd1\\x9eIO\\xdfDu\\xce-\\xd7\\xc8\\xf2\\xaa\\x82\\t\\x9c>s\\x9a\\xf9CN<\\xb8\\xc8oJ\\xcc\\x08M\\xcc\\xaeZ\\x9dYufK\\xed\\xeb\\xba\\xda\\x0f5=\\xab\\x16\\xe2\\x13F\\xa6=J\\xc1~\\x98G\\x7f\\xf7jV4\\xfdj\\xb0q\\xeb\\x92]\\xd7\\x8c\\xc9\\x12M_fC\\xf9\\x11k\\xcb\\xc0\\xd2Y\\x977\\xdc\\t\\xf7\\x9c\\xbd\\xb8.#\\xb3\\xa5\\xf4&u\\xaa\\xe2\\xee\\xb0\\x0eE\\xa0\\xec\\xb3x\\xfa\\x0c^\\xff\\xea1_@\\x8dG\\x0b6G#(\\xc7Q\\xffl\\xdd\\x17\\xcf\\xfb?i\\xad\\xedv{h}\\xf68\\xf0L\\x1d~\\xfc\\xc6\\x8e\\xfb\\xbb\\xceo~F\\xd9\\x9cd\\xfd\\x83~\\xdaT\\xcf\\x81\\xe3\\xdd}\\x07\\xcf\\xd5\\x05k\\xea\\xe2\\x9f\\xac\\x99|\\xe8\\x8fM\\x1b.\\x94V\\xd8F\\x9f\\xfdroy\\xf9S3\\xd11x\\xe4\\xfa\\x9b\\xc6U\\x82\\xa9\\x91\\x97+\\x9e3\\xe4Q\\xe3\\x82\\xd7}\\xcf5\\xcc\\xb5~Z\\xd8\\xa3&\\xb1\\xae\\x91I\\xed~\\xf3\\xb8\\xeb\\xb6ny\\xaf\\xc7\\x83\\x9b\\xbe\\xd61\\xd7+k.S\\xdf\\xa4\\xe3k[\\x1a2\\xd6\\xea>{\\x81\\x9c\\xe1\\xf0o\\xecK\\xc5\\x11Q~\\xd6\\x9b\\xba^\\xb5\\x8f\\xdf\\xddz\\xb6\\xe5\\xe0\\x85\\xc1\\xadv\\nm8\\x91\\xc8\\x1fC\\xe5\\xac+R\\x7f\\xe0\\\\\\x87\\x9f\\xdf\\xb9s\\n\\xbe\\xaa\\xca>\\xa9\\xdb\\xd1]\\xdc\\xa9\\xff\\xb7\\xa0\\x03\\xe9\\x9e5\\xf2\\xca\\xf4I\\xf3\\xea\\x07\\xcc\\xbd$\\x96\\x8c\\x0e\\xceL.\\xfa4\\x12\\x90\\x8b{fY\\x85\\x19\\xf2g\\xca\\xe2\\x8a}\\xf3+G\\x10Ov\\xf69~\\xf1AYYK`\\x05\\xb1v}\\xd6\\xd6\\x96\\xbd\\xe1\\xa3\\x7f_\\x9e\\xc8\\xc8\\x1fq\\x7f\\xf5\\xed\\xaa\\xfeK\\x1e\\xd7\\x885\\xc1\\xab\\xcb%5[_\\xeey\\xae+\\x99?\\xe1\\xc3>\\x97\\x1f\\x14q\\xabN,\\x89\\xacO\\x1b_g\\n\\xd4\\xc7=\\x81\\xbb\\x0bnb\\xc3\\x7f\\x9d\\xde,)\\x08\\xee\\xd9x\\xbc\\xada{\\xe9\\xa3\\xe9\\x8d^\\x85\\xfe\\xceh\\xff\\xec\\xc7\\x9b\\xfey\\x89\\x16\\x00\\xb6\\x1d\\x1fM\\x8a\\xf7\\x99\\xd04f\\xd6\\xe4\\x81k/\\xf7\\xedk=p\\xc7\"\\xba\\xbc\\xab\\xf7\\xc4\\x8a\\xd6\\x8e=\\xef\\x8c\\xeb\\xde\\xea\\x92^?\\xf6F\\xb8u\\xf8\\x00\\xd5\\xa0\\xa23\\xb5\\x7fx_O\\x14(\\x174e\\xed\\xbfe\\xad\\xce\\xac~8\\xbb}\\xc8\\x90@\\x99\\xed@\\xf9\\xd25\\x8b\\xa1\\xe4\\xab\\xab\\xa6\\xdc\\xf3\\xbew\\xf2_C\\xa6\\x9a\\xfb\\xdd;\\xf7\\xc3\\xc3\\xee\\xe4\\xf8\\xb9m\\xe3~\\xfd*\\xa7\\xda\\x8d:{-\\x8f&M9\\x95\\xd6\\xf8\\xf3\\x91\\xb2\\x1e\\x9fg\\x1eZ\\xd1|k\\xe4\\xf7\\x0357\\xc7\\xfe\\x94_yX\\x885\\x16\\xac!\\x17\\xae\\xd2\\x8a]\\xef\\xe8c\\x0f\\x8fLmO[\\x10\\xcbj\\x04\\xbe\\xbe!R\\x1f\\xd7?j\\xafn-\\x9e\\xac\\x19Q%\\x9a~t\\xe3\\xf7\\xd9\\x11r\\xd8\\xa8E\\x0f\\xb7\\x95T\\xf7p\\x8c\\x9c\\x9c\\xcc\\x9d\\xdb\\xbc\\x8f1\\x8b\\xee\\xbf\\xba\\xd0\\x14=t~\\xd0a\\xb7\\xeb\\'\\xdd\\xe8n\\xbf\\x15\\xdd8\\xd1\\x91?Y\\xdd{\\xc7\\x07\\x1bg\\xde89\\x05\\xdes,\\xa9t\\xe8\\xa2X\\xa2~\\xe2\\xb1\\x12\\xd7\\x9f\\x037\\xcf\\xde3ol\\xf0h\\xea73\\xbf\\xc2\\x14\\x05\\xb5\\xc6\\x8b?-|\\x86d\\xcciN\\xba5s\\xc0\\xa1\\xea\\xc9{\\xa1A\\xed\\x9b\\xaf<\\xcd\\x95\\xd4E\\x9b\\xc7\\xbc\\xa2\\'\\x9ch\\xb8>\\xaav\\xc6\\xf0a\\xb5W\\'\\x9f\\xcc\\xdcX{\\xb7WK\\xd1\\x84\\x95\\xe1Q\\xd9\\x91I=*\\xd6TW\\xcc\\x9f\\xba<\\xbd\\xa2\\xd2R\\xd4\\xf1\\xc2l\\x84\\xd2^]zR\\xfd,\\x98\\xf5\\x86\\xdc\\xcf)x\\xb0\\xe2\\xf5\\\\14\\xad(\\xfd\\xbb\\x13\\xab\\x0e\\xae\\xf9\\xe6\\xf4\\x14N\\xdb\\xabn\\xea\\x11\\xb1\\xc3\\xd8i\\xad\\x7f\\xe0\\xc6\\x99\\xbb\\xb6\\xee\\xfa\\xfd\\xcc\\xa5\\x9c\\x8000\\xaf,\\r\\x1d\\xba\\xfb\\xcb;\\x9b\\xe8m\\xe7\\xc6\\xaf\\xa39\\x99\\x1f\\xddml\\x9e4\\xe4\\xfc\\xc8\\xa7c\\xaf\\xb0m\\xbb_\\xdc\\xfcp\\x0f\\xb4lH\\xe5\\xd0i\\xcd\\x95\\xf7\\x8eX\\xd1\\xf7\\xc7o\\xdb\\xe6Y\\xba\\xf22\\x91\\xd5\\xaf\\xae\\xf5L\\xf7\\xb3s\\xf6\\xf6\\xf6\\x96\\xdc\\x96l\\xc0\\xd2\\x8fo\\xe3V\\xb6\\x1d\\x1c\\xe7\\x86\\xe1\\x93\\xdb\\x96\\xf5\\x06~y\\xd2\\xe7]\\x96\\xb5,\\x89u\\x13\\xe4\\xb7\\x03*\\xb6\\xa9\\xab\\x18S\\x8c\"@\\xc2\\xe1\\xa4.\\x98\\xd8\\xb9 T\\x86\\x11c`T\\xa3\\xc3\\xa4\\x18\\x0c\\xea\\xd0.\\x95\\x8bc\\x18\"B`\\x18\\x0c\\xc5\\x1d \\x8bA\\xa0\\x03\\x83!\\x9f\\x9fEHZ\\xa1\\xf4\\x9b0&j!@\\x12UA$\\xc8\\xda\\x12\\xa8\\n\\x07\\xdd2\\x90\\xafG!\\x06\\x87\\r\\x06<\\xc6\\x85\\x13\\xa0\\x02r\\x10\\x06\\x08t\\xe8@7\\x01\\xe1\\x1a\\x92E\\x1d4b I9\\xca\\x86u4%\\x02h-\\x84\\x14\\xcb\\xa4qZ\\x87jp0\\xaf\\x0b\\x0038\\xa6\\x91I\\x01.m \\x00\\xda\\xe8\\x88!.\\x10\\x7f\\x0b\\n\\xe9 =\\x11*\\x16\\x18\\xdc\\xb8\\x96f\\x15`\\x17\\x0cAc|\\x17\\xad\\x15\\xb9i\\xa7\\x88\\xb1\\x084qZ\\xcbg-^\\x89\\x9b\\xab\\xf2j\\x18\\xabL\\x9a\\xb0\\xca\\xa4B\\x95\\x97\\x88\\x16\\xeb@\\x9b\\x94\\x05\\xe2\\xb8\\x0e\\x04p\\x84\\x8e\\x11\\x08\\x18#\\x10\\xc6,e\\x81\\xc4\\x7fk8&+\\xe1\\xe2d\\x88\\x85\\xc9\\xae[d(\\xab0\\xe8\\xff\\xe3\\x9f0\\x84\\xc3$\\x80\\xc6\\xa4\\x08\\xa8}\\xfb:\\x8b\\x0e\\xe6\\x13L\\xb1O\\xc3`(\\x11\\xa2\\x8d\\n\\x86\\x8bkP\\x16a\\xbb\\x00J\\x94eP\\xda\\xa8a\\xf4\\x02\\rcCP5\\x0e\\xb2oA1\\\\J\\xe6\\xc4\\xa2V\\x8a\\x8c\\x19\\\\\\x90\\xfe-\\x0c\\xd7\\xe9(\"\\xc45S\\x86\\x88\\x15\\x16yL.<\\x8e\\xcb0>\\xee\\xe4{\\x08\\xca\\xe4R\\xe9H!\\xad\\x03\\xc3\\xb4\\x0eg\\xf18\\x9f\\xc1s\\xf4B\\xb5L\\xe1&\\x10+\\x83\\xbb\\xdca\\xdaH\\x04h-?\\xc1-\\x16\\x18\\x003\\x82FL2,B\\x1b\\t\\xc0\\xe2\\xed\\x9c\\xa5@\\xe7L\\x1b\\x1d\\x11:G\\x12\\xc61\\x0c\\xc2\\\\ \\x019\\xdcA\\xc6\\xed\\x94IX\\x00\\x02IT\\n\\x82j\\x98\\x0b\\x92y`\\xe7\\x01\\xd8\\xa1\\x84A\\x12\\x05\\xa31\\x8c\\x17U\\xd9\\xe4d\\x08\\x8e\"92\\xadL\\xed\\n\\xd8\\x05\\x8c\\x8b\\x17&\\x84\\xbc8\\x89\\xc6a\\xc0\\xe3\\xd4S\\x98,h\\xe1\\xe7Y<\\x18W\\x06\\x03V1\\xe6\\xa4\\x12\\xce\\xa06;\\x0e\\xea#\\xa4\\xba\\xc4\\xe8OXriP\\xa5\\xc6\\x1d1\\x03\\xe1\\x87b~\\x85]%\\x88\\xf8\\x95\\x12wHW\\xac\\x95$\\xc4\\x12\\x91!\\xdb@\\x12^\\xda\\xc2%\\x12\\x86pL\\xc8\\x13\\xc3\\x85\\x94\\xd2\\x8a\\xf3\\x0c\\x12\\x83\\xcaL\\xc7\\x03q\\xb5\\x91\\xc0\\xc3|=\\x8d\\nx\\xd9\\xd1<P\\xec\\xd2\\xf2\\xa8<7\\xa8\\xf5\\xd8\\xe3\\x8c\\x80\\xa7\\xf4\\xfa\\x84T@\\xe9\\xc6]\\xdcb\\xb3\\xc3)\\xb6kbR\\xd0\\x19\\x0b\\xc8\\x14>Q\\xcc\\xa9\\xc4u^L\\xe4\\xb5#~k\\xae\\xd0n\\x12\\x86\\xddq\\xbe\\xd0)/v\\xe9\"N\\x87\\xa5\\xd8\\x18g\\xa5\\x01\\xc6\\x9f#(.\\x14\\xfa(\\xaeP\\x0c8s\\x19\\xa1\\xd9\\xac\\xb2\\xe5\\xd8\\x00)\\x0c\\xb8\\xec\\x91H\\x18\\x88\\xc6-Z\\x99\\xda\\x1d4\\xa2.\\\\\\xce\\x04K\\xa4f\\x9f\\x9f0\\x9b\\xc4\\xb4\\nK\\xd8\\x13\\x11\\xa74\\x82YL\\x98\\x05\\xf2q\\xb5Z\\xb7\\xd4\\xa9S\\xcb\\xe3\\xd9\\xb8A\\xce\\xcf\\rI\\x88Ba\\xc0-\\xa5\\\\DH\\x06\\xfbI/\\x13\\x8a\\x19\\x0c,\\x86\\x80$\\x08\\xf9\\x01\\x94-L\\x80\\xea\\xce\\x1c\\xc8\\xc9<\\x08\\xb4\\xe7\\xa1\\\\\\x08\\xc4aH\\x08\\xb2\\xf2\\xce4j\\x00\\x0f\\x04\\xd1\\xac\\x14\\xa41%KC\\x10\\xa9\\x97\\x83,&\\x83\\xe1\\x90\\x0c$\\xf5R\\x88\\xc5!\\x1c\\x14v\\x86\\xcb\\x8a8H9\\x04\\xea!.\\xe8\\xc0Q\\xe8/\\x1e\\x87\\xba<\\xee\\xb4U\\rX\\xfdJ\\x16\\x97\\xdb\\x88\\x88N\\x0bH\\xd5bJhB\\x9c@0B\\xb9\\xcc\"9\\x15\\xe0J$\\x02\\xd4\\'\\xb5\\t\\x13 \\xad!tb\\xa3\\xdb\\x00\\xe7E\\x12\\xbe\\xec\\xa0\\x12\\x88:\\xa9<\\x8b\\x971\\xa3\\x0e7\\x08PnV\\x85\\xca\\x11\\xdc\\xad\\x8a3QI\\xa10\\xd7\\xc2\\xcf5\\xda\\xf4,\\xd7\\x1a\\xe3I\\xdcz\\x16-\\xf1+D\\xd9\\x8cH\\xe0\\x89\\x08l.\\x93\\xc8`@\\xc0\\x98<RX\\x98\\x1d\\nZMzJ\\x0c\\x99\\xc2\\x8a\\\\\\x15\\xca\\x17\\xb8x\\x91\\xa8\\x04g\\x02.\\x9d\"n4\\xa9\\xb8\\xda<\\xa9\\xbf\\xc4\\x16\\x10i\\x14\\x10\\xdf/\\x82\\x15\\xbex\\xdc\\xe9\\xcd\\x85]\\xb8U\\x05(U\\x11\\xd2A*\\xadQ*\\x97\\xcf\\x0b\\xf1\\x98\\\\\\xd4\\'\\x15\\x87\\r\\n$G\\xab`(\\x89\\xc4\\xc1\\xd06.$b\\x83\\x06D\\xc3\\x0f\\xf8\\x12&\\xad\\t\\xf6$\\x10\\x88\\xc1\\xbcBYH\\xee\\xa7\\xf4\\x08\\x1c\\xb2a\\x94/\\x81\\x18\\xa4.\\xbb\\x8bG\\xe4&<b\\xbb\\xce\\x0c\\xd2\\xde\\xa8\\xd4\\x0e)\\xa9b\\x01\\xc2\\xb5D\\x10\\xbf\\xc7h\\n\\x85\\xb54 \\xe3QA\\x17\\x8c\\xc3Z\\xc2o\\x8e+T\\xacM*\\xf0\\xfa\\x83\\xa6\\x90\\x8dT\\xd0Q\\x91\\xb0\\x04\\xb6c\\x0c\\tG\\\\2\\xb6\\xa0\\x80\\xdbU\\xa9(\\x81\\xfc\\xb5f\\xa3m\\x9e\\x9c\\x1b\\xf7\\xda3\\xde\\xbbU\\xa0\\xbef\\xec\\xb9\\xfc\\x17\\xce\\xd8\\x9a\\x7f\\x07\\x00\\x00\\xff\\xffPK\\x07\\x08F@V\\xa9,\\n\\x00\\x00\\xca\\n\\x00\\x00PK\\x03\\x04\\x14\\x00\\x08\\x00\\x08\\x00dp\\x86R\\x00\\x00\\x00\\x00\\x00\\x00\\x00\\x00\\x00\\x00\\x00\\x00\\x0e\\x00\\t\\x00trustStore.jksUT\\x05\\x00\\x01\\x1cjl`d\\x94\\xbb\\xae\\xea\\xc6\\x1b\\xc59\\x7f\\xfd\\x13E~\\x8aH)Q\\x84m.\\xc6\\xc5)\\xbe\\xb1\\xc77\\x18\\xc3\\x18_)\"a\\x03c\\xcc\\xb6\\x01\\xe3\\xed\\xb1)N\\x9b:\\xcaCD\\x8a\\xa2<I\\x9e!op\\xaa\\xf4G\\xd1f7Q2\\xcdHK\\xa3\\xdf\\xac\\xa5\\xef\\xd3\\xfa\\xf2\\xf9\\xcb\\xe7\\xc1`\\xf0\\xbf\\xc1`\\xf0\\xe1y\\x7f]\\x1f\\xcaKs\\x18\\x0c>t\\xbf|\\xfa\\xf4\\xf3\\xe0\\xff\\xf1TT\\x07\\x83\\xaf\\xe0\\xfb\\xb7\\x83\\xb0i\\xbb\\xdfj\\xd8\\xf3m\\xc3\\xd6\\xc0\\xc7OU \\xb6\\xad7\\xba\\xa6\\xc1\\xb5g\\xc0m\\x04\\xcc\\xd6P\\x15p\\x9d&\\xce\\xe2\\xb2\\xb5\\xf36s\\x81\\xe2%\\xa2\\xc0\\x0f\\x0f\\xbc$p6A\\n0\\xca\\x89\\x16\\x86\\xa4\\x13\\xb4\\x078\\x88\\xb9!\\x02\\xe6\\xc3\\xd9E\\xc4\\xa3\\x1c\\xb3D\\x0f)\\xb50o\\xfc$\\x9a\\x8a\\xc9\\x06\\xe9\\xa9i\\xf4\\x89\\x8f=\\x02\\xf3\\'@\\xcb\\x89\\xed\\x99\\x86($\\xa1+&1\\xeb\\xf4\\x02\\xc8;\\xe8\\xee\\xa3\\xc0\\xbd\\xa7\\xe3\\xf0L6\\tw\\xe0\\t\\xd3q\\'\\x15\\xc9fzNN\\xd3<\\x1b{}\\xb2\\x91xV\\xaagaYz\\xf9\\xde4\\x1e{\\xd3\\x98,K\\xb7M}8\\x18\\\\\\xec\\x89\\x0f\\x1d)\\xa0\\':\\x96\\x89\\xee\\xec\\x0c.>\\xfe\\xad\\x11\\xeb\\xfe\\xcf\\x08\\x89\\x0f/\\xa1O\\xe8\\x9dk\\xf4\\xf9\\xab\\x8d\\xb9\\xa3S\\x1f\\x07\\x04\\xd9\\xef\\xb9;\\xb2\\x0cd\\xe3uobF\\xe5.\\xcfJ\\xdc\\t\\xd8\\x87\\xf5;\\xe0\\xe2k\\xf8\\xe9\\xc6\\x7fsC\\xe8\\x84\\xeb\\xef\\xf6\\x97\\x98\\x87zj\\xaa\\xd2V\\xc7%\\xd1\\xe8\\x13\\x06\\x1d\\xd9\\'2~\\x15\\xb6\\xa6\\xfd\\x9a\\xc4\\xae\\x98\\x95\\xb8\\xc9,\\xa7\\xddj\\xd3s\\x12{o9\\xf3\\x836-RY\\xe4\\x8c\\xe1\\x13\\x01\\xd1\\xd467sc\\xa7c\\x9db\\x044\\x00\\x98\\xd8H\\xd09\\xbc=X\\xc0\\xc5F@\\xf5\\xc5\\xaa\\xba\\xf2\\x8c(\\x16\\xec\\xa2U[\\x1d\\xd19\\xc3\\xc9R\\xe1\\x1c5\\xd7\\xe6\\xe0f\\x93]\\x16\\x13\\xa9\\xf4\\xeb\\x0b\\x93\\xe7\\xea\\xa2c\\xc2=\\xa0\\x98\\xedW\\xbe\\x8c\\x8f\\xdei3\\xbe\\xe5\\xf5:\\xddV\\xca\\xf0\\x10\\'>(\\x95\\xaf\\x06\\xf1\\xb8\\xab\\xaa5?1\\x1fJL\\xf7\\xb4=\\x8e \\xde)\\xf5\\xd0\\xcc\\xaf\\xe8\"\\xdc.#m-:1\\xde7u\\x03\\xf3E\\xa8\\xdf\"\\xb3cUu\\xf5\\xdd(5J\\x84\\x0b\\xad4eU\\x1d\\xa5\\x06\\x8b\\xcc\\x92\\xb5\\xb0,r\\x1eY\\x10\\xf4\\xfe\\xf8n\\t\\xb9\\'\\x89\\xc3\\xa0n\\x12s\\xa6\\x81\\x08\\x0fi^\\xf3a/6\\xc7\\xcc\\xce\\xcd\\x85\\xd5\\x16\\xab&k\\x8e\\xac*\\xf4\\xeb\\xf4xz\\xb5f\\xad\\x83\\x0f\\xd6}\\xb5\\x98\\xb7l\\xe5,fB\\x87\\xfct\\x17\\x15GX\\xdfl\\xa8\\xafZd\\xbc2\\\\\\x07\\x0f\\xbf*\\x93RQJoL\\x8a\\xe2\\xb86\\xc8\\x90\\xd7\\x1a\\xb9\\xc6\\x9b\\x95[\\x95\\x8a,\\xb7W\\xad/\\x1eR*p5\\r\\xf7v\"\\x9a\\xb8i\\xf7\\xceca%4\\x19\\xc1\\xf0\\xde\\xb8aI\\xb6\\x12\\x91\\xdc\\x87\\x07\\x8c \\x00\\xb3\\xa0\\x05\\x02\\x02\\x93\\xb71\\xeeu\\x8e\\xd1\\x88S,\\x00\\xb7\\xb5\\\\\\x87\\xfd\\xdb.X\\x9b\\x00\\x1b\\x05\\x04\\x88\\xb1\\x1a1l \\x9a\\xe9\\xc0\\x12{\\xc1\\x13\\x84h`\\x01\\xc7\\\\\\xe7\\x89\\x1ez\\xa2\\x0f\\xd4\\x1a!\\x08\\xb8\\x00o\\xa4\\x07\\xb8\\x88\\x9do\\xf9\\xf9d\\xaa\\\\D@\\xef\\x06\\xc0J\\x03\\x8a!t\\xf8l\\x1f\\xfaN`\\x99\\xb3>\\n\\xb6k\\x1e\\xed\\xcf\\x92\\xec\\xed^\\x8d\\xceR\\x87C!@\\xd2\\xec\\xd8\\x8a|\\xe9\\xf6\\xca\\x1c\\xb9I\\x16\\x8e\\xc2\\xd4\\xbd\\x8dh\\xde\\x97\\x0f5\\x1cm7\\xa4)k\\x87\\xcb\\xa3\\x97prR\\x1a\\x16\\x92\\xd08\\xef\\xdc5>\\x18\\x8d\\xb5Z\\nb\\x169e8\\xeb_\\x8d\\x97(2\\x8b\\xddv|\\xb14X\\xaa\\xc0\\xd9\\xa4\\x9bE\\xb4l\\xc8\\xa5>\\xec\\xb3\\xab\\xb7\\x81\\x95Y\\xa9y<\\xb4\\xc9\\xa1\\xf2\\x8c\\xc9\\n\\xdb\\xf3\\x97F0%\\xe5\\x11\\x9a;\\xe2\\xe7[e\\xb4\\xb2\\x1e\\x86\\xdd\\xb2x\\xdaW\\xb7\\x17\\xf5\\xee\\xa1\\xd8\\x14\\xa1p\\xef\\xc8\\x94\\xe9i=\\x14\\xe3\\xd3NEf\\xdb\\x16\\xe7\\x1b\\x1c;~\\x9dL4!\\xdae\\xe1=M#\\xa3\\xce\\x86\\xf5!)W\\xc7\\xf2\\xd2\\xcfS\\xc9x)G,\\x0e\\xd7\\xb2\\x9e\\x16$\\xe1V<\\xf5\\x16\\xed\\xba\\x917TY\\xca\\xa7\\x98\\xedv\\xd2n2d\\xaa\\xb0u\\xbaQ0\\xf6\\x0ckq0R~\\xf5\\x96\\x86\\xa5\\x88c\\x03\\xa4H\\x16\\xa5\\xb1JNe\\xbd9\\x9e*\\xebD7\\xfd0\\xc2\\xfa]YO$\\xfe\\xf1\\xa3\\xf0lD\\xec\\xea\\xffi\\xc9o~,~`\\r\\xfa\\xee\\x8fe\\xf6\\xe7O\\xe4\\xd7\\xdf/\\xbf\\xfd\\x85\\xff\\x0e\\x00\\x00\\xff\\xffPK\\x07\\x08A\\x10\\x86\\x1eA\\x04\\x00\\x00\\x7f\\x05\\x00\\x00PK\\x03\\x04\\x14\\x00\\x08\\x00\\x08\\x00dp\\x86R\\x00\\x00\\x00\\x00\\x00\\x00\\x00\\x00\\x00\\x00\\x00\\x00\\x0b\\x00\\t\\x00config.jsonUT\\x05\\x00\\x01\\x1cjl`l\\x91MO\\xc2@\\x10\\x86\\xef\\xfc\\n\\xd2\\xb3]\\xfb\\x19Z\\x8f\\x02\\x17Ecb\\xf0\\xebb\\xa6\\xdb\\xa9\\xac-,\\xec\\x0c\\xd0\\xc6\\xf8\\xdf\\xcdBM\\xdb\\xe8\\xf5y\\xdfy&;\\xfb5\\x1a\\x8f\\x9d\\x95&v\\xae\\xc6\\x0e\\x16a\\xe0eq\\xe0b\\\\H7J\\xc0s!\\xf4B\\x17BL\\x92,\\x8f&\\x10\\xa4.\\x90\\x02\\x97\\xf4\\x9eW\\xbe\\xc83\\x01\\xc4\\x06D\\x0e\\x0c\\xc4P\\x0b\\xa9\\xd7\\xce\\x85un\\xb5\\xb1\\xce \\xf5\\x12\\xef\\x04\\xe4\\xaez\\xef`\\x14\\x9c`\\x89\\rmA\\xa2\\xdd\\xbe\\xd6\\x07\\x85\\x15n\\xe8,\\xa8\\xb4\\x84j6\\xb5Io\\xe59\\x930E\\xc3\\x0b-\\x81\\x95\\xde\\xd8\\x8a\\xb8\\x94 \\xa4a\\xe7W;\\x0cKl\\xda\\xc9\\xbfs\\xd8\\x9bzdmp\\x98\\xab\\x1c7\\xac\\xb8\\x11\\x9f%\\r{\\x0f@t\\xd4&\\xb7\\xbd\\xa70\\xb9\\xffx{.\\xef\\x8a\\x85_\\xc7\\xd1r~\\xae\\xb2\\xd9\\x13\\xff#\\xedx\\xa7\\xedX_|X\\xeee\\xda\\xc4G\\xe3_O\\xe6\\xb7\\xf5:i\\xdfA\\x87\\xa1\\xd1\\xfe@{\\xf9\\xa2\\xb6\\xd7\\xe9Kv\\xe9\\xeb\\x8d\\x97\\xfb+\\x95\\xf1\\xf1e\\x16Lcg\\xf4=\\xfa\\t\\x00\\x00\\xff\\xffPK\\x07\\x08\\xcbI\\xc0^\\x17\\x01\\x00\\x00\\xfb\\x01\\x00\\x00PK\\x03\\x04\\x14\\x00\\x08\\x00\\x08\\x00dp\\x86R\\x00\\x00\\x00\\x00\\x00\\x00\\x00\\x00\\x00\\x00\\x00\\x00\\x07\\x00\\t\\x00cqlshrcUT\\x05\\x00\\x01\\x1cjl`4\\xcaAn\\x85 \\x10\\x80\\xe1\\xfd\\x9c\\x82\\x0b@)\\xf8R]x\\x12\\xe3b\\x841\\x12\\x11\\x1afl\\xea\\xed\\x1bm\\xde\\xf2\\xff\\xf3M\\xa1\\x96BAR-3l\\x95\\xa5\\xe0AjT\\xb4zg\\x97\\x97\\xd3\\xf4Z\\x83\\xeez\\xb4\\x1a\\xbd\\xf5\\x1a=\\xf5\\xfd\\x12\\xbb/t\\x83FN\\xa8\\xb9\\x9e\\xb2}\\x9a\\xb8\\x18dih\"\\n\\xb2\\xe0\\xaf\\t\\xf5\\x80\\xef\\xdaD\\x8d\\xca\\r\\xb6s\\xc0\\x9c\\xd5\\xa8\\xa4\\x9d\\x0401\\xe7\\x19~0\\xa7\\x88B\\xef\\x1d\\xa8\\xc9\\x9a\\xf2\\xdd\\xe6#\\xa0\\tM\\xe0dj;]\\xcf\\xda\\xe9z\\xfav\\xff\\x86\\x9a\\xc0_\\x00\\x00\\x00\\xff\\xffPK\\x07\\x08v\\xb4\\x7f5\\x9a\\x00\\x00\\x00\\xc4\\x00\\x00\\x00PK\\x03\\x04\\x14\\x00\\x08\\x00\\x08\\x00dp\\x86R\\x00\\x00\\x00\\x00\\x00\\x00\\x00\\x00\\x00\\x00\\x00\\x00\\x08\\x00\\t\\x00cert.pfxUT\\x05\\x00\\x01\\x1cjl`T\\xd6uT\\x13\\x8e\\xa3\\x05p\\x18\\x03GJ\\xd7\\xa4\\xa5k\\xd4h6\\xbaeH\\xb7\\xa4\\xb4\\xb4(\\xe9\\xe8n\\x05I\\x195\\x1a\\xa4\\x05\\x04\\xe9\\x12\\x01%\\x06\\x03qH\\x97\\xa4\\x94\\xbe\\xf3=\\xe7\\xbd\\xf7\\xfb}\\xff\\xbc\\xe7\\x9e\\xfb\\xef=\\x1f\\x08\\x92\\x82\\x00\\x80O\\x00A\\x92O\\x13\\x11\\x0b\\xc4j\\xc5^\\x92\\xe3\\xdf\\xc3/A\\x92\\xf7\\x01\\x91\\xe4\\xdd\\x10$y\\x07\\x04\\tz\\xf6\\x9f\\x8a\\xa8\\x04\\tz\\x02A\\x82\\xac\\x01\\xf8x\\x10$\\xc8\\xe4\\xbfF\\x90\\x07D$\\xff\\x1b\\xc8\\xf0\\x89 \\x14@\\xd0\\x88\\xf2\\xb3N\\xb1\\xe9\\xf5\\x10\\x00\\x00\\x84\\x17\\x89\\x04\\xf1mR\\xa6C\\xf6\\xe6Y[\\xa8?\\xec\\xd0\\xe2\\x0f\\x1cbS\\x01\\x80)\\x90\\xeb[\\xe1P\\xe9\\x14B\\x86\\xa7\\x8b\\xac\\xfchn\\xd8\\xe9\\xfe\\xd5y\\xe4F\\x85A\\'\\n1\\x99\\x9c]\\xe3\\xac\\x10\\xdeJ{\\xad\\x01\\x93g\\xbd6p\\xdcP\\x1b\\x8c\\xac\\xd9\\x1e\\'\\x14\\xe4\\xdf\\xa4\\xca\\n\\xd8\\x07\\xb0\\xcfI\\xc4\\xc4\\x0b\\xb3\\xa7\\xf2\\xc5\\x15\\xc0\\x8d)\\xc6\\xc7\\xd0\\xed\\x18\\x08q?\\x99AVS\\xd8W\\x06`\\x93?I\\x0f;_\\x97d\\x8b\\x86\\x91(\\xf0\\xf4\\\\\\x83\\xff\\x07\\xca\\xe2Ba\\x08\\xa1;\\xb43J\\xbd\\xeb\\xe1+\\xd7\\xd6\\xca\\x92.\\xf7\\xed\\xc5r\\xad\\x91\\xc7\\xf2^\\x91\\xed\\x1a\\x8d\\xf9\\x8b\\xc9\\'l\\xa5aN\\xe0\\xc5@\\xab\\xa7x[4a\\\\\\xd352\\x8e\\xa7\\xe6\\xfa\\x1c%.\\x98\\xa8(\\xa7h\\x89\\x96\\x92\\x9c\\x816\\x0f\\x19\\xfb8\\xf83Q\\xc6hp\\xdd\\xb2\\xc0\\\\\\xd3\\xb8\\x93\\xae\\\\\\xb0.\\xa2\\xc8\\x94\\x02e\\xc97H\\xe8\\xd6\\x1c\\x9cb\\xf7\\x9bfG\\xa1\\xe7TG\\x01\\x81\\x13\\x0fXMs\\x18\\xf9$\\x89\\xa7\"s\\xca\\xd3g\\xe9\\x948\\x7f\\xc0\\xec1\\x84\\x83\\x12QI\\xc6\\xc6b\\x83\"T\\x87[Km\\x16\\xc4\\x06s\\x1a:N\\xb6%\\x8f\\x86O]V\\xe2\\x9dU?y\\xa8Gb\\xcfS\\x87\\x08\\x92S[\\x8a\\x1e7}\\xb81\\rXoZ\\xea\\xceP6\\x92\\xf3\\xe3V#\\x9d\\x85\\x0c66\\xb2~.\\xea; yt\\xf0V\\x99kN\\x11\\x93\\x1f\\x8d\\x98O\\x1897u\\x8bKIj<\\xa0\\xb4\\xbfZ\\xb4<\\x07\\xc5A\\xa6\\x9b\\x17T\\x8fG\\xdf\\xb24\\xfe0+M \\xdc\"\\xeb\\xc5v\\xb5\\xef\\x87v\\x8aNP\\x88\\x89\"o\\xed\\xb1x\\xc0\\x94\\xf1\\xad\\x96umv?YeE\\x8dG\\x96 \\xc9\\xaew\\x89nU{\\xc8\\xfe\\x9cLz\\xfd\\xdeX\\xe2=\\xf5\\xc0D=\\x15D\\xa4\\xc1/\\xfa\\x8f\\x98\\xe6D\\xba\\x15u2\\x1d\\xa4e\\xaf\\xd2\\x02\\xcd9\\x1d\\x90Ao\\xbeL\\xd8\\x80I\\xe3s\\xae\\xba\\xbc\\x8c\\x8f\\x7fo\\x94QZ\\xf7\\xdcW(L\\x85jQ\\x01M\\xba\\xac\\x8fbB[G\\xdd\\xed-p\\x9b\\x06\\x16uz\\x17\\x8a\\xab\\xfe\\xc8\\x9ea-\\xd0,3\\xec~s\\xfd\\x81\\x84\\x8b\\x11\\x10\\xc9x\\x18\\x1c\\xd5\\x85\\xb3~\\x9e\\x11Nb\\x8a\\x9c\\xd9\\x95\\x02\\xb1\\r\\x92\\x08\\x15\\x99\\x81\\x0f\\x13,2\\xc0q\\x88\\xef\\xdc\\xe8t\\xf3\\xae\\x06\\xaa\\x94\\x870\\xa3\\x10\\x82\\xaax~p\\xa1\\x05#y\\x8d~\\x08\\xf7\\xa1\\xad\\xa4uSO\\xa0s$\\x89\\x1f\\x1d\\x88\\xa5\\xe2\\x02\\xccl\\xb7\\xc6\\x15\\x1d\\xedb|\\xff\\xb3w\\xad\\x93\\xe5\\xf5m1\\x94\\xec\\xcd\\xb3-=:\\xfb\\'\\xbc\\x03s\\xf2\\xdf*\\xe9\\x84\\xe1\\xb7\\xfcmK#\\x8b\\x8e/\\x11\\xe7\\xcfe\\x87\\xe9\\xc3G\\x12n\\xccP\\xdep\\xbd\\xb3\\xb2\\x90\\x0eZ-\\xfa\\xe7\\xed\\xeeD\\xf3J\\xda\\x1fGO%\\x16\\xf6\\x08\\x8d\\xf7\\x97?\\xd90\\xe1\\xb5\\xf0\\x95\\x8a$\\xc9BC\\xd7\\x12\\xb3\\xaa\\xb4s6pm)\\x7fQ\\x9c,/]\\xb6Y\\xdb\\xdf\\x10\\xe7\\xddzF\\xcba(\\x16R\\x1e\\x81U\\xdffp\\x1c}\\x9a{:>6\\x81}?e0l\"\\xa5)+w\"\"\\x9d\\xa6r\\xb9\\xd4\\xa7x\\x84\\xbe}D;B \\x16\\xe7y:\\xc0\\xd6\\x12\\x08\\xf3^/\\x9a\\xa5>}h\\xc5\\xa6:\\xb2\\xe4\\xe5\\xe2gO\\xdf\\xe4\\x1b\\xe3\\x82w@\\x96\\xafY=k*\\x85\\xaf\\xdaD\\r\\x03d\\x88<\\xabj\\xd7\\xaex1cp\\x14\\xe7Ga?\\x00\\x1b?\\xb4^\\xa5$\\x13\\xd2%\\xae\\xb5p\\xc9l\\xde\\x9a\\xf6S\\x02c\\xb7\\xf9\\xc8\\xa0g\\x86\\x99\\xe3O\\xb4\\x83\\xe0\\xf7\\xd78\\xf3xx>\\x97\\xbf\\xc9w\\xe5E\\'x\\xb2\\x1c\\xd8U\\xfd\\x904\\xe0\\xc1\\xaa\\x99\\xc7\\xeb2\\xf7\\x0e8\\x14\\xfe\\xe2\\xf7-\\xf2\\xa7\\x1e+\\xed\\xd1\\x9e$\\x17\\xbfo\\x06\\xd3ZJ\\x0f\\xa0\\xabH\\x93W\\xe4H\\x91\\xff-U\\x1bM\\xdc\\x1c\\xdaLVj\\\\?\\xb9\\xa2ZE\\xc7\\xf1B\\xe8BE]b\\xe9\\xde2\\xda\\xa9\\xe0g\\xc5\\xe7\\xe3j\\x07\\xb2\\xcb\\xa1\\\\\\xf0\\xd4\\xa1\\x89\\xe7\\x90\\xdc\\xb4\\xc0\\xc9\\x17R\\xe1\\x1c*\\x91 \\xa1\\xee\\xfaW_GT\\t\\x83\\xd2H\\xcf\\xf3\\xbf\\xdb\\xe6T\\x93u\\x08&!\\x12\\n&&\\xd9\\x98(yU_5\\x12\\xf8\\xcd&\\x1f\"\\x0f;\\\\\\xc5\\xd8j\\x1f8\\xf5b]{W\\xbe`\\x12\\xa6>s\\xc54\\x95\\x90y\\xb5^7y\\xc4\\\\Y\\x8bg\\xc7\\xbc\\xef\\x98D\\xb9\\xe2:.\\x82\\xfa\\xfcS\\xf1\\xd9CR\\x1f\\x89\\x86\\xd3\\xc9\\xc5\\x9a\\xbdY\\x1aML\\x1c\\xc5|a&\\xe8\\xe9\\x15\\xe6\\xdatl{\\xa4\\t\\x17?\\x14\\xa1\\xf7b\\x9c\\xad\\x15\\x0e\\x90\\xf1U\\x9a\\x13\\xd5\\xf1)\\xbd\\xfa\"\\xb2\\x10w\\xbeE\\xff\\xf5\\xd58\\x98[\\x9ff\\xc4\\x8d@}B\\xa0\\x80\\x02s\\xc4\\nF\\xfcL\\xa70\\xbb\\x11\\x9fF2\\xba\\x05z)nG\\x1a\\x93\\x8e\\x92r}J\\xe1\\xf2\\xab\\x9b\\xe25\\xcboY\\xf6\\xb9+\\x9bX\\x93\\x90\\x88>\\x90\\xe6N\\xa6_\\xf6\\xe9\\xff2\\xa3Pf\\xe2\\xc8\\xa0\\x1f\\xcd\\x18\\xb7\\x7f\\xe3\\xda\\xe4\\x1c\\x03z_\\x91\\xe7%e,\\xc9 s\\x1c?\\xd3\\xc7\\xa0\\xb8\\xd9cV\\x92^\\xacg\\xe49\\x0c\\x91\\xc4O\\x7f\\xfd\\x01\\x1bJ\\xc9\\x12\\t\\xa76d\\xc4\\x88\\x8fh\\x87\\xa8\\xca\\xf4gS\\xd5s4k\\xce\\x04\\x87\\xf8\\x02\\xbc\\xa8\\xbbs\\x9d\\x06\\x17\\x90\\x0b\\x98\\x99\\x8b\\tP\\xd2%\\xdf\\x84\\xd8\\tj\\xb8=6\\x8fO&~\\x17*X\\xd4\\xfc;\\xa3_\\x8f\\xc5]*\\xfd\\x8f~\\xf6q\\x96t(A\\x90\\xcb\\xb7\\xecd\\xe5\\x89\\x1f\\xd7X\\x07]\\xb9\\x97\\xac2\\xedbo1\\xc6\\xb6U\\xedN\\x84po,\\xf1+\\x0c\\xe2B\\x93\\xd3\\xdd\\xc3\\xd3!\\x92g\\xf89*j\\x12\\xf1y\\xb25\\xf7C\\nrL\\xa6\\xeb\\x8e\\x0bl\\xd3\\x03?\\xabx\\x13. *V[IN\\x11\\xef\\x97\\xbd\\x1f\\x81\\xf3\\xcb\\xab>\\x08G\\x0fH\\x1f?j\\xc82\\x95\\xaa\\xac\\xae\\x96\\xaa\\xee\\xc4)\\xdf\\xdf\\x8b\\x85\\xbf#\\xf3\\xb9\\xb9\\xf3Sn\\xa1\\x9bY\\xbf\\xeb\\xa5\\xc9,\\xdfy\\xbdH\\xcf\\xeb\\xf0vA\\x99\\xddVwGF\\xf99gZC\\xe5\\xadS\\xab\\xeb\\xb5\\xe1\\xcf\\xda\\x18\\xbf\\x17.\\x8f\\xca\\xeb\\x84\\x8bd\\xe5\\x1f\\xb0\\xc3hb\\xec\\xd7H\\xff\\xdc\\x9c\\xf4\\x890y\\xc4\\xfd\\x8e\\x9aN\\xc6\\xd9\\xca\\x87\\xb3\\x8e\\xb2\\xbfW\\t\\xeb\\xdb\\xe8pws\\\\\\xefJ\\xb2\\xb30\\xc3\\x08\\xc5{\\x8e\\xc2&\\x05\\x06\\x96\\xbd\\x9c\\xac\\xe6\\x97\\x0b\\xb6\\x7f\\x82\\xaf\\xbc+\\xd3_\\x1e\\xfd\\xac\\xdb\\xaae\\xe9\\xd8\\xbeSoF\\x19(^\\x87/\\xfe\\xe9\\xd8\\x08T:\\xc3\\x95\\xc0\\x06\\xc4\\x0f\\x00\\xfd\\xabc\\xccX\\xcb\\x1a8\\x91\\x02\\xb5\\xda\\xfd,\\x11\\xed\\xe7&\\x00\\xf5cj\\x8d\\x0cC\\x87\\xd2H:\\x9fW}<[@WcX\\\\\\x06y\\xd4\\xa1\\xca\\x8dq\\xc1\\x1e7Zb\\x82\\x83%\\x17\\xde\\xbe\\xce\\x06{\\x08\\xbdS\\x88=\\x11\\x8c:u\\xf8\\xb4^\\x12\\xdc)\\x99\\xb3\\x9cJl\\x02Tj\\xec\\x8f\\x16?\\xe1\\xd5\\x89\\n\\xc9\\x18\\x1f\\x14){\\xfe]\\xd2\\x8fL3Z\\xce\\xb8\\xf9N\\xed\\x9e\\x08\\x95\\x01\\xce\\xb8\\x08\\xbfO\\xbb\\x0b)\\xca\\x8e\\xd6\\xfd\\xeb\\xd9\\x9b\\'vH\\x89\\xb6\\xd9\\x9f\\xc7\\\\Q\\xbbc\\xee\\x8c\\x02j\\r\\xac\\xbe0\\x11\\x16u\\xa1\\xc2aQ\\xde\\\\r\\xf2\\x7f\\xccF\\x8a\\x0ft\\xa9$\\x8c\\x14\\x90\\x87+ARQ\\x1d\\xdfu\\xa1/\\x870\\x9a\\xbc\\xabmOA\\x1a\\xa7V\\x96i\\x065Kz\\xab5H\\xea\\x96r6\\xddY\\xbb\\xcc\\xe0I1i\\xdd\\xbd\\xfe\\xad\\xd3EI\\xe1\\x0b\\x01\\xf7@\\xad}\\xfd\\xbf\\x11\\x16\\x95=\\x15vW\\xeeH\\x9e\\xc9u+YC\\xf4\\x89t\\x0fg\\xf9f\\xfa=>\\xfbBf\\x97<\\x07j\\t)\\xe9\\xb5#s\\xba\\xf4\\n\\x14ZYu=\\xb9@]\\x92\\x92J\\x01\\xff\\xfc\\xbd\\xaag\\xd8\\x9c>\\x81\\x1at8\\x9d\\xe4\\xfd\\xdf\\xbc\\xe1T\\xee\\x9e\\xb0\\xf9\\x06-\\x8b1\\xbb\\xc0\\xdf\\xe9|\\x0fI\\xad\\\\\\xc2~\\xcf)T*\\x8e<\\xe1\\x16A\\x9ds\\xf6\\xaeJ\\x10.{-\\xd7.\\x0e\\x05\\x9c\\x13-\\x98\\xbd\\\\\\xd27\\x0bp\\xc4\\x05\\x03\\xde\\xbe\\x9a\\xab\\x0b\\xf3k\\xf9\\xfe\\xc4S\\xf5\\xaf\\x9f\\x0f\\x81/\\xf1J\\xec\\xe5\\x93\\x8d:>\\x1a\\xd2\\xdc\\x06\\x9c)\\xa3\\xbc\\xddM\\xc3\\x07\\xca\\x8e\\xd3\\xa2\\xa5RC\\x82\\x92\\xb1\\x82K\\x18ITh\\xe0\\x1a\\xcd]\\x874c\\xd7,\\xf3\\xe9^\\xd0VV\\xad\\xc4\\x1e.\\xaf\\t\\xb5\\xd1\\xb0\\x9b\\xa3U\\xa6 ,\\xa5\\x93\\xfd\\xc7\\x93\\xa6\\x16}j\\xdc\\xb8\\x15\\xdcN\\xb7\\x13\\xc4\\xb9\\xf7)<\\xc2z\\rA\\xf2\\x8a-\\x7fw\\xa9M\\x02\\xca\\xf0\\xae|\\x07.\\xcb\\xf4k\\xc6+}\\x958~\\x9f\\xbeo\\xf9.&\\xe6\\x04jK\\\\\\xfa\\xc0q\\xa4\\r}X\\x86\\r\\xd4\\x11S\\x08)\\x89y\\xd5\\xe2\\nA\\x12*\\xffK#\\x84\\xe2@$\\xa1\\x08\\x04I(\\x00A\\x12\\xf2\\x10\\x91\\xfe\\x1f3H\\xf0\\x01%H\\xe0!\\x04\\t\\xdc\\xfd\\x97>\\x08\\xfe\\xd1G\\xa2@U\\xba\\x9e\\xcdf\\xd5?\\xfa\\x00\"\\x81\\xa3,\\xed\\x86C_\\xa3\\xfd\\x19\\x19i~\\x8e^r\\x1bC\\xb7S\\x86\\xf1\\x1a\\x1c\\xe3yV\\xf9\\x0f3?\\x16\\x89\\xe4\\xf7\\x12p\\xed\\xeb\\xe7\\x92x\\x9e)\\xb1\\x98v]\\xee\\x1cR\\xcfR[\\x10J,xN\\x9a\\xbd\\xae\\xf1\\x9d\\xb1?\\x85N!\\xc0x<\\xaf\\xb5\\xcc\\xc7\\x8aO=V\\x15(\\xc9t\\xc8\\x87\\xb0:\\x14a?\\xbc\\x88\\x9e~\\x13dr$\\x85C{\\x8fW\\x122\\xcd\\xb6\\xcf\\xcc\\x15\\xf7\\xc6\\x9c\\xdf\\x96je\\xbb;\\x7f\\x8d@,\\x86UA\\xff\\x82s\\x8c\\xb4\\x07\\x95\\x9a\\xfd\\xdd\\xc1V\\x83\\xef\\xba\\x13\\x9a\\x92\\xf4,\\x85\\x05\\x95\\xfe:\\xeb\\xaan\\x15O\\xcb\\xc1KO&7j\\xa6\\xc3n\\r\\x9c\\nn\\x8a\\x11\\xaf\\xa5W\\xac\\x8a\\xc7\\x08d=\\x89\\x81\\x8d\\xc4\\x92\\xd7o#Hg\\xfeH\\xed\\xfa\\xf4\\xcd\\x81<\\xbc\\xbe\\x8cQ\\xa4^F?Kc\"\\xb6\\xce\\x8c5%P\\x11\\x9b\\x96\\xd0\\x84\\xe6\\xaa\\xed8\\xd0\\xfdV\\xd1)e\\xba/\\x12\\x17\\xc0\\xa1]Y\\xfaJ\\xd9\\x1b=U(\\xf9\\xf8\\xd0\\x82q8f\\xe0\\xa1\\xbb3\\x1f\\xb0\\x9c\\xa9J]\\xb9?G\\xfe\\xe5\\x8bN\\xfd-\\xd2\\nF\\xee\\xda\\xa6j\\xea\\xf4\\xab\\x9eH\\x01\\x99j\\xfe\\x1a@$\\x0c+\\xed\\x85\\x02\\xabW\\xf0\\xb4\\x9c\\xc0\\xdb\\x9b\\x8bi)\\xde\\x81X\\x8b)p\\xc1,6\\xef\\xb8$e\\x83@fz\\xf8yv8e\\xffm\\x17\\x87O!\\x93\\xf3]\\xa1\\xa1z\\xb4B\\x86\\xa3\\r*(\\xb3\\xa43|7\\n\\xef\\x94\\x16\\n7\\x84\\xc8\\xd1At\\xf0\\xbc\\x98&s+\\xf81gc\\x94\\x12\\xa5\\xbd^\\x1a\\xcb\\xee\\xdf\\xb01\\x93\\x07\\x8b\\xefK\\xcf\\x0c8\\xf8\\xce\\xb7\\xa8q\\xb8\\x8a\\x07L\\x81Og\\xbeY\\x9e\\x97\\\\O\\xdd\\x0f\\xb0\\x9e\\x9b\\xd9\\xa8V-\\xe7\\xd9\\xfeE\\xdf\\xd9MW\\x86Kqr\\x13\\xc2\\xc6\\xd1\\xac\\xde\\xd5[\\x98c\\x1fx\\x1b+\\r\\n\\x90\\xe0>\\xe4\\x04+\\xd5\\x8d\\xd8\\xd0;\\xd480p\\xa4\\x1e\\xc9\\xc1\\x08>(\\xb2\\xd4\\x88qK\\x86\\xb1Hw\\x04D\\xbc\\xd1x\\xdc<7\\xd8\\xdf\\x95H\\x19\\xcd\\xfe-7\\xa0~\\x9a\\x96$gqn\\xa5\\x87eh7\\x11q\\xc7\\xe9z\\xa9~\\xa9\\xb8P\\xa6%\\xb8!\\x04K1\\x10[\\xc0\\xf6K\\xe8ZMEev7A0\\x17\\x9fP\\xc5\\x03\\xd56\\x82\\x87\\x0b\\x1f?\\x1c\\x86\\xf6\\xa6\\xf6\\xc7\\xbf\\x1b\\xc7\\ru\\xa7\\xa5yeP2G\\xb88\\xcav\\x04\\xbe\\xbfWNy`**\"\\xd5\\x11/b\\xcfA+\\xd9s[\\xda;(u%\\xb4y\\xb4\\xc2\\xd5>\\x84\\x96\\x16\\xec\\xe8\\xe4\\xfe\\xe2\\x01\\xaf)\\xf3\\xde\\xa9\\x12t\\xca\\xe1y(.\\x0b\\xed\\xe2agb*\\x0c\\xafm4\\xa9B\\x07\\xb580\\x87|Vy\\xea\\xe9\\x16\\xe1\\xf5\\x8d\\xc3\\x9e[\\xa6\"$4(\\xce\\xce\\x01_\\xfc]\\xef\\xe6\\x81\\\\p@\\xca\\xac\\x88\\xf7.\\xaa7y6\\x0fK\\xda\\xc0\\x0b\\x1e\\x85\\xca\\xc79j\\x9f\\n\\xa2\\x14\\x97\\x8c\\x9c\\xd5f\\x80\\xdbW\\xaf\\x87\\xd6\\xa6\\xff|\\\\\\xcehh\\xde\\xf3\\x02H\\xb7\\x9e\\tFKX\\xc1(\\x87\\x9d\\xc5\\xfd\\x01\\xe4Aq\\xa3\\xb9{4&\\x908\\x13\\x90m\\x93\\xe1<s\\xbb`JU\\x0f*Iw\\xca>~\\xb4v9\\xd5\\x98\\xf7\\x16k\\xfb\\x82o\\xb2\\xc4\\xb9\\t\\xb8V\\xa4\\xd1\\xfb\\xec\\xa7\\x97#\\r)d\\x9f0Mxb\\xca$\\xe9l\\\\\\'\\xb3([\\xd1\\xbc\\x92\\xd2k\\xc2\\xad\\xbe:\\xa7\\x93\\xd6\\x00wP\\x92\\xdb\\x16]\\x18\\xf1\\xb0\\xb9z_\\x9d\\xb7\\xb3\\x8d\\x842+\\x86g\\xb3\\xfe#w\\x9dZm\\xd2\\xee\\xe5\\xa5\\xe7\\xf0O\\xd1\\xdd7\\x0e\\xf5\\xfa\\x8f\\xeb/\\xf2\\xabj,\\xaa\\x1f\\xd2\\xcc\\xce#\\x8e\\x93\\x16\\x89\\x94{\\x7f\\xaf\\xa5\\x8c=\\x98\\x15\\xa2\\x1d\\xd8\\xca\\xb6\\xdd\\xe8\\x17\\x9bC\\xdf\\xaa\\xfb\\x91 u\\x89\\x0c\\xb2\\xa2\\x1f\\xd7\\xf1\\x06\\x1e\\xa0}\\xe1\\xec\\xe39\\x02e\\x0b\\xc5IY#-\\x00_,f\\xbb/\\xde\\x183\\xc8\\x9f<\\xd1\\x95\\xcf\\x0e\\xd5\\x9d\\x89\\x91e9\\xaf\\xa3\\xabH/x`-\\x9f\\xc4\\xf3\\xc3\\xeb\\xf3\\xcc\\xf3\\xd7#\\xd6\\xe7\\xf9eKy\\xa6\\xeak\\xe9\\xdfv\\xff$\\x0f\\xe4>_Qz\\xe3\\xe6\\xfc\\xe2\\t\\x8d\\x05C\\xd1\\xac\\xd4/\\xc1N\\x97l\\xa9yo\\x12!\\xdf\\x83\\x0cGfR\\xca\\xb9\\xccQ\\xc9\\xe9x$\\xc7\\xf7\\xf5\\xfa\\xb1cs\\x92\\x06\\x1e\\x05\\xd6B\\xb5\\xce\\n\\n\\xaaE\\xbd\\x97\\xa5\\x17\\xdf5n\\x9b\\xb7#\\x85\\xf9\\xed\\x9f<\\x85\\x97g@oF\\xb5m\\x9a\\xa8+\\xe3\\xd5\\x84Vw\\x8c\\x1d\\xdbR\\x9f\\x9a\\x84Q7\\xe4|\\xb5Rd\\xdc~=\\xdfC\\xd0\\xc1\\xba\\x14F\\xfa\\x87R\\x8bAmo\\xa8\\xf4\\x12\\x93\\xb3\\x12\\xbf\\xa0`\\xac\\x05[\\xd8\\xee~!g\\xf2\\x88\\xe7\\xaf\\xb8\\xd5\\xfc\\xc9\\xe0\\xc7\\x1a2\\xe0\\xac\\xdd\\xe9\\xba\\xa3O\\xbf?\\x93k\\x94\\x88\\x15\\xbf\\xe27\\xe5\\xee Hq\\xeb\\xc5*o\\t\\x11\\xa1G\\xb5L\\x1c\\x7f\\x91\\xd33\\xb5\\xd0*\\x1a\"\\x84\\r\\x0e/\\xae\\xa6\\xc5\\xaf\\xd0B\\x11\\x93\\xd0\\xdd\\xef\\x8c\\x1d\\xb7\\xf6\\xd5\\x956:\\xb7&\\xeb\\xe6\\xb0\\xc8o\\xc0\\x06{\\xdb\\xa4\\xb5m&\\xd8g\\xfbt\\x96\\x01\\xb2o\\x16\\xb5,~\\xe1\\xa3C7\\xc7\\xa7\\x1a\\x95qb\\xdc\\x10\\xae\\xff\\x7fGb:1z \\xed\\xc5\\xd7\\xa8\\xe3\\xaa\\x8c\\x04\\xce\\x97\\xfe>\\x99cj\\x84\\x8c\\xe5\\x19\\xadY\\x10A\\x08\\x1b\\xe4\\x1e\\x11\\xa1 \\x05\\x01\\x80\\x19H+\\x07\\xf2\\x14\\xbd\\xac\\x06\\x17\\x17\\xb2$U\\xfe\\x1c\\x80\\xd7\\xfd\\x18\\x9a#\\x03\\x82\\xb8\\x1dL\\xc3\\x02[\\x13\\xc3\\xff\\'\\x00\\x00\\xff\\xffPK\\x07\\x08LQ>\\xb2\\x0f\\x0e\\x00\\x00\\x07\\x0e\\x00\\x00PK\\x01\\x02\\x14\\x03\\x14\\x00\\x08\\x00\\x08\\x00dp\\x86R\\xd2\\x87\\x16\\xe6\\xe8\\x03\\x00\\x00A\\x05\\x00\\x00\\x06\\x00\\t\\x00\\x00\\x00\\x00\\x00\\x00\\x00\\x00\\x00\\x80\\x81\\x00\\x00\\x00\\x00ca.crtUT\\x05\\x00\\x01\\x1cjl`PK\\x01\\x02\\x14\\x03\\x14\\x00\\x08\\x00\\x08\\x00dp\\x86R\\xb5\\x01\\x03\\x9a\\n\\x05\\x00\\x00\\x8f\\x06\\x00\\x00\\x03\\x00\\t\\x00\\x00\\x00\\x00\\x00\\x00\\x00\\x00\\x00\\x80\\x81%\\x04\\x00\\x00keyUT\\x05\\x00\\x01\\x1cjl`PK\\x01\\x02\\x14\\x03\\x14\\x00\\x08\\x00\\x08\\x00dp\\x86R\\xfc\\xd1f\\xf4\\x14\\x04\\x00\\x00\\x83\\x05\\x00\\x00\\x04\\x00\\t\\x00\\x00\\x00\\x00\\x00\\x00\\x00\\x00\\x00\\x80\\x81i\\t\\x00\\x00certUT\\x05\\x00\\x01\\x1cjl`PK\\x01\\x02\\x14\\x03\\x14\\x00\\x08\\x00\\x08\\x00dp\\x86RF@V\\xa9,\\n\\x00\\x00\\xca\\n\\x00\\x00\\x0c\\x00\\t\\x00\\x00\\x00\\x00\\x00\\x00\\x00\\x00\\x00\\xa4\\x81\\xb8\\r\\x00\\x00identity.jksUT\\x05\\x00\\x01\\x1cjl`PK\\x01\\x02\\x14\\x03\\x14\\x00\\x08\\x00\\x08\\x00dp\\x86RA\\x10\\x86\\x1eA\\x04\\x00\\x00\\x7f\\x05\\x00\\x00\\x0e\\x00\\t\\x00\\x00\\x00\\x00\\x00\\x00\\x00\\x00\\x00\\xa4\\x81\\'\\x18\\x00\\x00trustStore.jksUT\\x05\\x00\\x01\\x1cjl`PK\\x01\\x02\\x14\\x03\\x14\\x00\\x08\\x00\\x08\\x00dp\\x86R\\xcbI\\xc0^\\x17\\x01\\x00\\x00\\xfb\\x01\\x00\\x00\\x0b\\x00\\t\\x00\\x00\\x00\\x00\\x00\\x00\\x00\\x00\\x00\\xa4\\x81\\xad\\x1c\\x00\\x00config.jsonUT\\x05\\x00\\x01\\x1cjl`PK\\x01\\x02\\x14\\x03\\x14\\x00\\x08\\x00\\x08\\x00dp\\x86Rv\\xb4\\x7f5\\x9a\\x00\\x00\\x00\\xc4\\x00\\x00\\x00\\x07\\x00\\t\\x00\\x00\\x00\\x00\\x00\\x00\\x00\\x00\\x00\\xa4\\x81\\x06\\x1e\\x00\\x00cqlshrcUT\\x05\\x00\\x01\\x1cjl`PK\\x01\\x02\\x14\\x03\\x14\\x00\\x08\\x00\\x08\\x00dp\\x86RLQ>\\xb2\\x0f\\x0e\\x00\\x00\\x07\\x0e\\x00\\x00\\x08\\x00\\t\\x00\\x00\\x00\\x00\\x00\\x00\\x00\\x00\\x00\\xa4\\x81\\xde\\x1e\\x00\\x00cert.pfxUT\\x05\\x00\\x01\\x1cjl`PK\\x05\\x06\\x00\\x00\\x00\\x00\\x08\\x00\\x08\\x00\\xf9\\x01\\x00\\x00,-\\x00\\x00\\x00\\x00'}"
            ]
          },
          "metadata": {
            "tags": []
          },
          "execution_count": 7
        }
      ]
    },
    {
      "cell_type": "markdown",
      "metadata": {
        "id": "bulgarian-michael"
      },
      "source": [
        "set the `Secure connect bundle zip file` path and specify the `clientID` and `Client_Secret`"
      ],
      "id": "bulgarian-michael"
    },
    {
      "cell_type": "code",
      "metadata": {
        "id": "bearing-roads"
      },
      "source": [
        "# Enter the credentials below\n",
        "zip_path = 'secure-connect-cds.zip'\n",
        "Client_ID = 'LTESoZSumgBycyjSlcJxneiy'\n",
        "Client_Secret = 'jPDnxXqIY-aUb2f3ccAc8w5gXbIAf4Wui+q4KnaU2hKSrUswtqx.-dS0c2jZusUO4A9e,FyrvWhJf-Uan1MbZXgyrvfnlt9H11YHxUAFAxxyXZcH2JUfqi+m+zmUk-Z.'"
      ],
      "id": "bearing-roads",
      "execution_count": null,
      "outputs": []
    },
    {
      "cell_type": "markdown",
      "metadata": {
        "id": "u0GXrsCHK0H6"
      },
      "source": [
        "#### Create a Cluster instance to connect to your Astra database.\n",
        "\n",
        "You will typically have one instance of Cluster for each Cassandra cluster you want to interact with. Create a session object using the cluster.\n",
        "\n",
        "**Hint:** Refer Python documentation under Connect."
      ],
      "id": "u0GXrsCHK0H6"
    },
    {
      "cell_type": "code",
      "metadata": {
        "id": "personal-string"
      },
      "source": [
        "cloud_config= {\n",
        "        'secure_connect_bundle': zip_path\n",
        "}\n",
        "auth_provider = PlainTextAuthProvider(Client_ID,\n",
        "                                      Client_Secret)\n",
        "cluster = Cluster(cloud=cloud_config, auth_provider=auth_provider)\n",
        "session = cluster.connect()"
      ],
      "id": "personal-string",
      "execution_count": null,
      "outputs": []
    },
    {
      "cell_type": "markdown",
      "metadata": {
        "id": "sorted-modern"
      },
      "source": [
        "#### Verifying the database connection\n",
        "\n",
        "execute a simple query and verify the database connection"
      ],
      "id": "sorted-modern"
    },
    {
      "cell_type": "code",
      "metadata": {
        "id": "alike-alcohol",
        "colab": {
          "base_uri": "https://localhost:8080/"
        },
        "outputId": "00c5abee-1443-403b-d3ef-4ea835410f5e"
      },
      "source": [
        "row = session.execute(\"select release_version from system.local\").one()\n",
        "if row:\n",
        "    print(row[0])\n",
        "else:\n",
        "    print(\"An error occurred.\")"
      ],
      "id": "alike-alcohol",
      "execution_count": null,
      "outputs": [
        {
          "output_type": "stream",
          "text": [
            "4.0.0.6811\n"
          ],
          "name": "stdout"
        }
      ]
    },
    {
      "cell_type": "markdown",
      "metadata": {
        "id": "earlier-cedar"
      },
      "source": [
        "#### Setting the Key Space\n",
        "\n",
        "A keyspace is the top-level database object that controls the replication for the object it contains at each datacenter in the cluster. Keyspaces contain tables, materialized views and user-defined types, functions and aggregates. Typically, a cluster has one keyspace per application. Since replication is controlled on a per-keyspace basis, store data with different replication requirements (at the same datacenter) in different keyspaces.\n",
        "\n",
        "Before creating tables and inserting data let's create and set the keyspace\n",
        "\n",
        "* we can create keyspace manually on Datastax dashboard or also using the CQL command. (use lowercase to avoid errors)\n",
        "\n",
        "    * [Hint](https://docs.datastax.com/en/cql-oss/3.x/cql/cql_reference/cqlCreateKeyspace.html)\n",
        "\n",
        "* once the keyspace is created successfully, set the keyspace using the command `set_keyspace()`"
      ],
      "id": "earlier-cedar"
    },
    {
      "cell_type": "code",
      "metadata": {
        "id": "complicated-decision"
      },
      "source": [
        "try:\n",
        "    session.set_keyspace('movielens')\n",
        "except Exception as e:\n",
        "    print(e)"
      ],
      "id": "complicated-decision",
      "execution_count": null,
      "outputs": []
    },
    {
      "cell_type": "markdown",
      "metadata": {
        "id": "MwAu-oEU3KWP"
      },
      "source": [
        "### Insert the data into Database (1 point)\n",
        "\n",
        "To insert the data into database, we can create a table in keyspace and insert the data by using CQL command or we can directly upload the data on the datstax dashboard using [Astra Dataloader](https://docs.datastax.com/en/astra/docs/astra-data-loader.html)\n",
        "\n",
        "As there is huge amount of data, insertion of data using CQL commands may take time, preferable method is Astra Dataloader.\n",
        "\n",
        "* Download the below mentioned 3 datasets and upload to Datastax Astra dashboard using Astra Dataloader\n",
        "    * [data_movies](https://cdn.iisc.talentsprint.com/CDS/MiniProjects/data_movies.csv)\n",
        "    * [data_ratings](https://cdn.iisc.talentsprint.com/CDS/MiniProjects/data_ratings.csv)\n",
        "    * [data_users](https://cdn.iisc.talentsprint.com/CDS/MiniProjects/data_users.csv)\n",
        "    \n",
        "while uploading data using Datastax Astra dataloader you may encounter the below error message due to formatting issues or bulk data. In that case, click on upload button for second time for data upload.\n",
        "![img](https://cdn.iisc.talentsprint.com/CDS/MiniProjects/data_upload_error.JPG)\n",
        "\n",
        "Note: Cassandra also handles non-SQL data formats such as JSON (see [insert JSON data](https://docs.datastax.com/en/cql-oss/3.3/cql/cql_using/useInsertJSON.html)). However for the purpose of this Mini-project, we are using a tabular data format (.csv)."
      ],
      "id": "MwAu-oEU3KWP"
    },
    {
      "cell_type": "markdown",
      "metadata": {
        "id": "relevant-vacuum"
      },
      "source": [
        "### Querying the database (2 points)"
      ],
      "id": "relevant-vacuum"
    },
    {
      "cell_type": "markdown",
      "metadata": {
        "id": "OHtkA5P8gHku"
      },
      "source": [
        "* Select First 10 rows of the data_movies table\n",
        "* How many Users have watched the movie  `'Contact (1997)'` with MovieId = 1584\n",
        "* Select the count of teenage male users\n",
        "\n",
        "**Note:** For syntax related issues, try the **CQLConsole** on Datastax dashboard\n",
        "\n",
        "**Hint:** [CQL command for select](https://docs.datastax.com/en/cql-oss/3.3/cql/cql_using/useQueryColumnsSort.html)"
      ],
      "id": "OHtkA5P8gHku"
    },
    {
      "cell_type": "code",
      "metadata": {
        "id": "familiar-architecture",
        "colab": {
          "base_uri": "https://localhost:8080/"
        },
        "outputId": "d4371690-6999-4d6d-a172-fd73eac0e73e"
      },
      "source": [
        "query = \"SELECT * from movielens.data_movies LIMIT 10;\"\n",
        "try:\n",
        "  rows = session.execute(query)\n",
        "except Exception as e:\n",
        "  print(e)\n",
        "for row in rows:\n",
        "    print(row)"
      ],
      "id": "familiar-architecture",
      "execution_count": null,
      "outputs": [
        {
          "output_type": "stream",
          "text": [
            "Row(movieid=3372, genres='Action|War', title='Bridge at Remagen, The (1969)')\n",
            "Row(movieid=1584, genres='Drama|Sci-Fi', title='Contact (1997)')\n",
            "Row(movieid=2731, genres='Drama', title='400 Blows, The (Les Quatre cents coups) (1959)')\n",
            "Row(movieid=2713, genres='Horror|Thriller', title='Lake Placid (1999)')\n",
            "Row(movieid=769, genres='Documentary', title='Marlene Dietrich: Shadow and Light (1996)')\n",
            "Row(movieid=1863, genres='Comedy', title='Major League: Back to the Minors (1998)')\n",
            "Row(movieid=2453, genres='Drama|Fantasy', title='Boy Who Could Fly, The (1986)')\n",
            "Row(movieid=2302, genres='Comedy', title='My Cousin Vinny (1992)')\n",
            "Row(movieid=3733, genres='Drama', title='Paper Chase, The (1973)')\n",
            "Row(movieid=1765, genres='Crime|Drama', title='Letter From Death Row, A (1998)')\n"
          ],
          "name": "stdout"
        }
      ]
    },
    {
      "cell_type": "code",
      "metadata": {
        "colab": {
          "base_uri": "https://localhost:8080/"
        },
        "id": "9fexN0II2PDS",
        "outputId": "62ebd7a8-b904-4833-815d-ba9e48f1f725"
      },
      "source": [
        "# Counting that data loaded properly or not:-\n",
        "Query = 'SELECT COUNT(*) FROM movielens.data_movies ALLOW FILTERING;'\n",
        "count = session.execute(Query,timeout = None)\n",
        "\n",
        "count.one()"
      ],
      "id": "9fexN0II2PDS",
      "execution_count": null,
      "outputs": [
        {
          "output_type": "execute_result",
          "data": {
            "text/plain": [
              "Row(count=3883)"
            ]
          },
          "metadata": {
            "tags": []
          },
          "execution_count": 20
        }
      ]
    },
    {
      "cell_type": "code",
      "metadata": {
        "id": "younger-audit",
        "colab": {
          "base_uri": "https://localhost:8080/"
        },
        "outputId": "be3c3ea9-f2db-4ac1-9b6e-c794d78c7b2d"
      },
      "source": [
        "Query = 'SELECT COUNT(*) FROM movielens.data_movies WHERE Movieid=1584 ALLOW FILTERING;'\n",
        "count = session.execute(Query)\n",
        "print(count.one)"
      ],
      "id": "younger-audit",
      "execution_count": null,
      "outputs": [
        {
          "output_type": "stream",
          "text": [
            "<bound method ResultSet.one of <cassandra.cluster.ResultSet object at 0x7f964bfcd6d0>>\n"
          ],
          "name": "stdout"
        }
      ]
    },
    {
      "cell_type": "code",
      "metadata": {
        "colab": {
          "base_uri": "https://localhost:8080/"
        },
        "id": "PXwILWvi2dvD",
        "outputId": "6f23b1cf-ec5f-4fb2-ecdb-c7736b083166"
      },
      "source": [
        "# How many Users have watched the movie 'Contact (1997)' with MovieId = 1584\n",
        "\n",
        "Query = \"SELECT * FROM movielens.data_movies WHERE title = 'Contact (1997)' AND MovieId = 1584 ALLOW FILTERING;\"\n",
        "rows=session.execute(Query,timeout = None)\n",
        "for row in rows:\n",
        "    print(row)"
      ],
      "id": "PXwILWvi2dvD",
      "execution_count": null,
      "outputs": [
        {
          "output_type": "stream",
          "text": [
            "Row(movieid=1584, genres='Drama|Sci-Fi', title='Contact (1997)')\n"
          ],
          "name": "stdout"
        }
      ]
    },
    {
      "cell_type": "code",
      "metadata": {
        "id": "charged-demographic",
        "colab": {
          "base_uri": "https://localhost:8080/"
        },
        "outputId": "73bc7de2-7ae2-4453-a169-7e515c59aa9b"
      },
      "source": [
        "Query = 'SELECT COUNT(*) FROM movielens.data_users WHERE gender = \\'M\\' AND age >= 13 AND age <=19 ALLOW FILTERING;'\n",
        "count = session.execute(Query)\n",
        "\n",
        "print(count.one)"
      ],
      "id": "charged-demographic",
      "execution_count": null,
      "outputs": [
        {
          "output_type": "stream",
          "text": [
            "<bound method ResultSet.one of <cassandra.cluster.ResultSet object at 0x7f96424163d0>>\n"
          ],
          "name": "stdout"
        }
      ]
    },
    {
      "cell_type": "markdown",
      "metadata": {
        "id": "sustainable-underwear"
      },
      "source": [
        "* Select the count of movies with Top rating from the entire ratings table"
      ],
      "id": "sustainable-underwear"
    },
    {
      "cell_type": "code",
      "metadata": {
        "id": "better-heath",
        "colab": {
          "base_uri": "https://localhost:8080/"
        },
        "outputId": "615ca592-2983-45ea-8280-e6929e309ac0"
      },
      "source": [
        "Query = 'SELECT COUNT(*) FROM movielens.data_ratings WHERE rating>4 ALLOW FILTERING;'\n",
        "count = session.execute(Query)\n",
        "\n",
        "print(count.one)"
      ],
      "id": "better-heath",
      "execution_count": null,
      "outputs": [
        {
          "output_type": "stream",
          "text": [
            "<bound method ResultSet.one of <cassandra.cluster.ResultSet object at 0x7f9642412810>>\n"
          ],
          "name": "stdout"
        }
      ]
    },
    {
      "cell_type": "markdown",
      "metadata": {
        "id": "alleged-notebook"
      },
      "source": [
        "* Select the count of movies, ONLY in Comedy genre from the entire movies table"
      ],
      "id": "alleged-notebook"
    },
    {
      "cell_type": "code",
      "metadata": {
        "id": "enabling-display",
        "colab": {
          "base_uri": "https://localhost:8080/"
        },
        "outputId": "42da227e-32b6-477b-92df-70f5423d81cd"
      },
      "source": [
        "Query = 'SELECT COUNT(*) FROM movielens.data_movies WHERE genres = \\'Comedy\\' ALLOW FILTERING;'\n",
        "count = session.execute(Query)\n",
        "\n",
        "print(count.one)"
      ],
      "id": "enabling-display",
      "execution_count": null,
      "outputs": [
        {
          "output_type": "stream",
          "text": [
            "<bound method ResultSet.one of <cassandra.cluster.ResultSet object at 0x7fcb71985ed0>>\n"
          ],
          "name": "stdout"
        }
      ]
    },
    {
      "cell_type": "markdown",
      "metadata": {
        "id": "afraid-france"
      },
      "source": [
        "### Visualizing the Data (2 points)\n",
        "\n",
        "Retrieve the data using CQL queries and visualize using matplotlib"
      ],
      "id": "afraid-france"
    },
    {
      "cell_type": "markdown",
      "metadata": {
        "id": "damaged-laugh"
      },
      "source": [
        "* Visualize the frequencies of movie genres from the entire data"
      ],
      "id": "damaged-laugh"
    },
    {
      "cell_type": "code",
      "metadata": {
        "id": "acquired-solid",
        "colab": {
          "base_uri": "https://localhost:8080/",
          "height": 317
        },
        "outputId": "40436b9a-da6b-4815-f41b-f8d9468970fa"
      },
      "source": [
        "query = \"SELECT genres, COUNT(*) from movielens.data_movies;\"\n",
        "try:\n",
        "  rows = session.execute(query)\n",
        "except Exception as e:\n",
        "  print(e)\n",
        "\n",
        "genres = []\n",
        "count = []\n",
        "for row in rows:\n",
        "    print(row)\n",
        "    genres.append(row[0])\n",
        "    count.append(row[1])\n",
        "\n",
        "print(genres)\n",
        "print(count)\n",
        "\n",
        "import matplotlib.pyplot as plt\n",
        "\n",
        "fig = plt.figure()\n",
        "ax = fig.add_subplot(111)\n",
        "ax.bar(genres, height=count)\n",
        "plt.show()"
      ],
      "id": "acquired-solid",
      "execution_count": null,
      "outputs": [
        {
          "output_type": "stream",
          "text": [
            "Row(genres='Action|War', count=3883)\n",
            "['Action|War']\n",
            "[3883]\n"
          ],
          "name": "stdout"
        },
        {
          "output_type": "display_data",
          "data": {
            "image/png": "[encoded data removed]",
            "text/plain": [
              "<Figure size 432x288 with 1 Axes>"
            ]
          },
          "metadata": {
            "tags": [],
            "needs_background": "light"
          }
        }
      ]
    },
    {
      "cell_type": "code",
      "metadata": {
        "colab": {
          "base_uri": "https://localhost:8080/"
        },
        "id": "cA5BUQxJr8tO",
        "outputId": "b6f70293-58d6-4a23-be56-331c50a6055e"
      },
      "source": [
        "astr = 'Airplane! (1980)'\n",
        "astr_rev = astr[::-1]\n",
        "print(astr_rev)\n",
        "first = astr_rev.index(')')\n",
        "print(first)\n",
        "last = astr_rev.index('(')\n",
        "print(last)\n",
        "year = astr_rev[first+1: last][::-1]\n",
        "print(year)\n",
        "movie = astr_rev[last+1:][::-1]\n",
        "print(movie)\n"
      ],
      "id": "cA5BUQxJr8tO",
      "execution_count": null,
      "outputs": [
        {
          "output_type": "stream",
          "text": [
            ")0891( !enalpriA\n",
            "0\n",
            "5\n",
            "1980\n",
            "Airplane! \n"
          ],
          "name": "stdout"
        }
      ]
    },
    {
      "cell_type": "markdown",
      "metadata": {
        "id": "instant-immigration"
      },
      "source": [
        "* Visualize the bar plot showing no.of movies released in a particular year"
      ],
      "id": "instant-immigration"
    },
    {
      "cell_type": "code",
      "metadata": {
        "id": "theoretical-carol",
        "colab": {
          "base_uri": "https://localhost:8080/",
          "height": 690
        },
        "outputId": "6f23dba9-91cc-4ceb-ca84-b9b6bd5dd8ab"
      },
      "source": [
        "query = \"SELECT * from movielens.data_movies;\"\n",
        "try:\n",
        "  rows = session.execute(query)\n",
        "except Exception as e:\n",
        "  print(e)\n",
        "\n",
        "dic_movieid_name = {}\n",
        "years = []\n",
        "for row in rows:\n",
        "    #print(row)\n",
        "    data = row.title[::-1]\n",
        "    first = data.index(')')\n",
        "    last = data.index('(')\n",
        "    year = data[first+1: last][::-1]\n",
        "    name = data[last+1:][::-1]\n",
        "    dic_movieid_name[row.movieid] = name\n",
        "    years.append(year)\n",
        "\n",
        "#print(movies)\n",
        "#print(years)\n",
        "from collections import Counter\n",
        "movie_counter = dict(Counter(years))\n",
        "\n",
        "import seaborn as sns\n",
        "\n",
        "x = list(movie_counter.keys())\n",
        "y = list(movie_counter.values())\n",
        "\n",
        "import matplotlib.pyplot as plt\n",
        "\n",
        "fig, ax = plt.subplots(figsize=(11.7, 8.7))\n",
        "g = sns.barplot(x, y)\n",
        "g.set_xticklabels(g.get_xticklabels(), rotation=90)\n",
        "plt.tight_layout()\n",
        "plt.show()"
      ],
      "id": "theoretical-carol",
      "execution_count": null,
      "outputs": [
        {
          "output_type": "stream",
          "text": [
            "/usr/local/lib/python3.7/dist-packages/seaborn/_decorators.py:43: FutureWarning: Pass the following variables as keyword args: x, y. From version 0.12, the only valid positional argument will be `data`, and passing other arguments without an explicit keyword will result in an error or misinterpretation.\n",
            "  FutureWarning\n"
          ],
          "name": "stderr"
        },
        {
          "output_type": "display_data",
          "data": {
            "image/png": "[encoded data removed]",
            "text/plain": [
              "<Figure size 842.4x626.4 with 1 Axes>"
            ]
          },
          "metadata": {
            "tags": [],
            "needs_background": "light"
          }
        }
      ]
    },
    {
      "cell_type": "markdown",
      "metadata": {
        "id": "pediatric-clothing"
      },
      "source": [
        "* Depict the plot of Age groups ratio who are active in watching movies"
      ],
      "id": "pediatric-clothing"
    },
    {
      "cell_type": "code",
      "metadata": {
        "id": "desirable-selection"
      },
      "source": [
        "from collections import Counter\n",
        "\n",
        "query = \"SELECT * from movielens.data_ratings;\"\n",
        "try:\n",
        "  rows = session.execute(query)\n",
        "except Exception as e:\n",
        "  print(e)\n",
        "\n",
        "userids = []\n",
        "for row in rows:\n",
        "  userids.append(row[1])\n",
        "\n",
        "user_movierating_count = dict(Counter(userids))"
      ],
      "id": "desirable-selection",
      "execution_count": null,
      "outputs": []
    },
    {
      "cell_type": "code",
      "metadata": {
        "id": "QHdhnL6C9YaH"
      },
      "source": [
        "query = \"SELECT * from movielens.data_users;\"\n",
        "try:\n",
        "  rows = session.execute(query)\n",
        "except Exception as e:\n",
        "  print(e)\n",
        "\n",
        "dic_userid_ages = {}\n",
        "for row in rows:\n",
        "  dic_userid_ages[row[0]] = row[1]\n",
        ""
      ],
      "id": "QHdhnL6C9YaH",
      "execution_count": null,
      "outputs": []
    },
    {
      "cell_type": "code",
      "metadata": {
        "id": "MMuoEz2D9AHp"
      },
      "source": [
        "import seaborn as sns\n",
        "from operator import itemgetter\n",
        "from itertools import groupby\n",
        "\n",
        "user_age_moviecount = {}\n",
        "for userid, age in dic_userid_ages.items():\n",
        "\n",
        "      if age not in user_age_moviecount:\n",
        "        user_age_moviecount[age] = 0\n",
        "\n",
        "      if userid in user_movierating_count:\n",
        "        user_age_moviecount[age] = user_age_moviecount[age] + user_movierating_count[userid] #how many movies watched by this age\n",
        "\n",
        "# sorted_input = sorted(user_age_moviecount.items(), key=itemgetter(0))\n",
        "# groups = groupby(sorted_input, key=itemgetter(1))\n",
        "\n",
        "# count_age = [{'Age':[x[0] for x in v], 'Count':k} for k, v in groups]"
      ],
      "id": "MMuoEz2D9AHp",
      "execution_count": null,
      "outputs": []
    },
    {
      "cell_type": "code",
      "metadata": {
        "colab": {
          "base_uri": "https://localhost:8080/"
        },
        "id": "1wphhG5dF0E6",
        "outputId": "bc2e1d02-9c10-4ff5-8222-57e3508d3939"
      },
      "source": [
        "print(user_age_moviecount)"
      ],
      "id": "1wphhG5dF0E6",
      "execution_count": null,
      "outputs": [
        {
          "output_type": "stream",
          "text": [
            "{35: 0, 56: 573, 25: 1630, 1: 384, 45: 1076, 18: 0, 50: 0}\n"
          ],
          "name": "stdout"
        }
      ]
    },
    {
      "cell_type": "code",
      "metadata": {
        "colab": {
          "base_uri": "https://localhost:8080/",
          "height": 690
        },
        "id": "trqa24PtBb8I",
        "outputId": "24b48a22-c403-40d1-e8f2-67e02942866c"
      },
      "source": [
        "x = list(user_age_moviecount.keys())\n",
        "y = list(user_age_moviecount.values())\n",
        "\n",
        "import matplotlib.pyplot as plt\n",
        "\n",
        "fig, ax = plt.subplots(figsize=(10.7, 8.7))\n",
        "g = sns.barplot(x, y)\n",
        "g.set_xticklabels(g.get_xticklabels(), rotation=90)\n",
        "plt.tight_layout()\n",
        "plt.show()"
      ],
      "id": "trqa24PtBb8I",
      "execution_count": null,
      "outputs": [
        {
          "output_type": "stream",
          "text": [
            "/usr/local/lib/python3.7/dist-packages/seaborn/_decorators.py:43: FutureWarning: Pass the following variables as keyword args: x, y. From version 0.12, the only valid positional argument will be `data`, and passing other arguments without an explicit keyword will result in an error or misinterpretation.\n",
            "  FutureWarning\n"
          ],
          "name": "stderr"
        },
        {
          "output_type": "display_data",
          "data": {
            "image/png": "[encoded data removed]",
            "text/plain": [
              "<Figure size 770.4x626.4 with 1 Axes>"
            ]
          },
          "metadata": {
            "tags": [],
            "needs_background": "light"
          }
        }
      ]
    },
    {
      "cell_type": "markdown",
      "metadata": {
        "id": "extensive-billy"
      },
      "source": [
        "### Analyzing the Data (2 points)\n",
        "\n",
        "Analyzing the correlation between the movies records, implement a function to recommend movies based on search term"
      ],
      "id": "extensive-billy"
    },
    {
      "cell_type": "markdown",
      "metadata": {
        "id": "southeast-buffalo"
      },
      "source": [
        "* Retrieve all the data from ratings table"
      ],
      "id": "southeast-buffalo"
    },
    {
      "cell_type": "code",
      "metadata": {
        "id": "related-google"
      },
      "source": [
        "query = \"SELECT * from movielens.data_ratings;\"\n",
        "try:\n",
        "  rows = session.execute(query)\n",
        "except Exception as e:\n",
        "  print(e)\n",
        "\n",
        "dic_movie_ratings = {}\n",
        "for row in rows:\n",
        "  #Row(movieid=3372, rating=4, userid=4213)\n",
        "  dic_movie_ratings[row.movieid] = row.rating"
      ],
      "id": "related-google",
      "execution_count": null,
      "outputs": []
    },
    {
      "cell_type": "code",
      "metadata": {
        "id": "JfAm9sD-K6E-"
      },
      "source": [],
      "id": "JfAm9sD-K6E-",
      "execution_count": null,
      "outputs": []
    },
    {
      "cell_type": "markdown",
      "metadata": {
        "id": "continent-travel"
      },
      "source": [
        "* Create a movie matrix by applying pivot table with the above retrieved ratings data\n",
        "\n",
        "* use `pd.pivot_table` with index = `userid`, columns = `movieid` and Values = `rating`\n",
        "\n",
        " **Hint:** create a dataframe with above retrieved ratings data to apply pivot table"
      ],
      "id": "continent-travel"
    },
    {
      "cell_type": "code",
      "metadata": {
        "id": "prospective-polls"
      },
      "source": [
        "# YOUR CODE HERE"
      ],
      "id": "prospective-polls",
      "execution_count": null,
      "outputs": []
    },
    {
      "cell_type": "markdown",
      "metadata": {
        "id": "surgical-level"
      },
      "source": [
        "* Define a function named `recommend_movies()` which will take a movieid as argument and return the top 5 similar movieid's\n",
        "\n",
        "    * Considering the argument (movieid) as search item collect the particular row data\n",
        "    \n",
        "    * Using movie matrix calculate correlation between movie search Item data and all the remaining data\n",
        "    \n",
        "        * Hint: [corr_with()](https://pandas.pydata.org/docs/reference/api/pandas.DataFrame.corrwith.html)\n",
        "        \n",
        "    * Sort the result by ascending order and return the top 5 items"
      ],
      "id": "surgical-level"
    },
    {
      "cell_type": "code",
      "metadata": {
        "id": "excellent-perth",
        "colab": {
          "base_uri": "https://localhost:8080/",
          "height": 132
        },
        "outputId": "1a314906-bc3f-41ec-ad0b-1d37dc9e167e"
      },
      "source": [
        "def recommend_movie(movieId):\n",
        "    # YOUR CODE HERE"
      ],
      "id": "excellent-perth",
      "execution_count": null,
      "outputs": [
        {
          "output_type": "error",
          "ename": "SyntaxError",
          "evalue": "ignored",
          "traceback": [
            "\u001b[0;36m  File \u001b[0;32m\"<ipython-input-26-05d880d9ff7f>\"\u001b[0;36m, line \u001b[0;32m2\u001b[0m\n\u001b[0;31m    # YOUR CODE HERE\u001b[0m\n\u001b[0m                    ^\u001b[0m\n\u001b[0;31mSyntaxError\u001b[0m\u001b[0;31m:\u001b[0m unexpected EOF while parsing\n"
          ]
        }
      ]
    },
    {
      "cell_type": "markdown",
      "metadata": {
        "id": "afraid-ivory"
      },
      "source": [
        "* write a query to get MovieId of a Title (your choice) and the result MovieId as a search item by calling the above defined function"
      ],
      "id": "afraid-ivory"
    },
    {
      "cell_type": "code",
      "metadata": {
        "id": "damaged-starter"
      },
      "source": [
        "# YOUR CODE HERE"
      ],
      "id": "damaged-starter",
      "execution_count": null,
      "outputs": []
    },
    {
      "cell_type": "markdown",
      "metadata": {
        "id": "altered-testimony"
      },
      "source": [
        "* Now taking the resulf of top 5 items (MovieId's) write a query to retrieve the Movie title from movies table"
      ],
      "id": "altered-testimony"
    },
    {
      "cell_type": "code",
      "metadata": {
        "id": "knowing-keyboard"
      },
      "source": [
        "# YOUR CODE HERE"
      ],
      "id": "knowing-keyboard",
      "execution_count": null,
      "outputs": []
    }
  ]
}